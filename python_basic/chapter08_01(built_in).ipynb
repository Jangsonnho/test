{
 "cells": [
  {
   "cell_type": "code",
   "execution_count": null,
   "metadata": {},
   "outputs": [],
   "source": [
    "#파이썬 내장(built-in)함수\n",
    "#자주 사용하는 함수 위주로 실습\n",
    "#사용하다보면 자연스럽 숙달\n",
    "# str(), int(), tuple() 형변환 이미 학습\n",
    "\n",
    "# 절대값\n",
    "# abs()"
   ]
  },
  {
   "cell_type": "code",
   "execution_count": 1,
   "metadata": {},
   "outputs": [
    {
     "name": "stdout",
     "output_type": "stream",
     "text": [
      "3\n"
     ]
    }
   ],
   "source": [
    "print(abs(-3))"
   ]
  },
  {
   "cell_type": "code",
   "execution_count": 5,
   "metadata": {},
   "outputs": [
    {
     "name": "stdout",
     "output_type": "stream",
     "text": [
      "False\n",
      "True\n"
     ]
    }
   ],
   "source": [
    "# all : iterable 요소 검사(참, 거짓)\n",
    "print(all([1,2,\"\"]))\n",
    "print(any([1,2,0]))"
   ]
  },
  {
   "cell_type": "code",
   "execution_count": 11,
   "metadata": {},
   "outputs": [
    {
     "name": "stdout",
     "output_type": "stream",
     "text": [
      "C\n",
      "67\n"
     ]
    }
   ],
   "source": [
    "# chr : 아스키 -> 문자, ord : 문자 ->아스키\n",
    "\n",
    "print(chr(67))\n",
    "print(ord('C'))"
   ]
  },
  {
   "cell_type": "code",
   "execution_count": 12,
   "metadata": {},
   "outputs": [
    {
     "name": "stdout",
     "output_type": "stream",
     "text": [
      "1 abc\n",
      "2 bcd\n",
      "3 efg\n"
     ]
    }
   ],
   "source": [
    "# enumerate : 인덱스 + Iterable 객체 생성\n",
    "for i, name in enumerate(['abc', 'bcd', 'efg']):\n",
    "    print(i+1, name)"
   ]
  },
  {
   "cell_type": "code",
   "execution_count": 17,
   "metadata": {},
   "outputs": [
    {
     "name": "stdout",
     "output_type": "stream",
     "text": [
      "(-3, -6)\n",
      "[-3, -6]\n"
     ]
    }
   ],
   "source": [
    "# filter : 반복가능한 객체 요소를 지정한 함수 조건에 맞는 값 추출\n",
    "\n",
    "def conv_pos(x):\n",
    "    return abs(x) > 2\n",
    "\n",
    "print(tuple(filter(conv_pos, [1,-3,2,0,-6])))\n",
    "print(list(filter(lambda x:abs(x)>2, [1,-3,2,0,-6])))"
   ]
  },
  {
   "cell_type": "code",
   "execution_count": 18,
   "metadata": {},
   "outputs": [
    {
     "name": "stdout",
     "output_type": "stream",
     "text": [
      "140720505104952\n",
      "140720505104920\n"
     ]
    }
   ],
   "source": [
    "#id : 객체의 주소값(레퍼런스) 반환, 메모리주소값\n",
    "print(id(int(5)))\n",
    "print(id(4))"
   ]
  },
  {
   "cell_type": "code",
   "execution_count": 20,
   "metadata": {},
   "outputs": [
    {
     "name": "stdout",
     "output_type": "stream",
     "text": [
      "6\n",
      "7\n"
     ]
    }
   ],
   "source": [
    "# Len : 요소의 길이 반환\n",
    "print(len('abcdefg')-1)\n",
    "print(len([1,2,3,4,5,6,7,]))"
   ]
  },
  {
   "cell_type": "code",
   "execution_count": 23,
   "metadata": {},
   "outputs": [
    {
     "name": "stdout",
     "output_type": "stream",
     "text": [
      "3\n",
      "y\n",
      "1\n",
      "d\n"
     ]
    }
   ],
   "source": [
    "#max, min : 최대값, 최소값\n",
    "\n",
    "print(max([1,2,3]))\n",
    "print(max('python study'))\n",
    "print(min([1,2,3]))\n",
    "print(min('pythonstudy'))"
   ]
  },
  {
   "cell_type": "code",
   "execution_count": 27,
   "metadata": {},
   "outputs": [
    {
     "name": "stdout",
     "output_type": "stream",
     "text": [
      "[3, 1, 2, 0, 5, 6]\n",
      "[3, 1, 2, 0, 5, 6]\n"
     ]
    }
   ],
   "source": [
    "# map : 반복가능한 객체 요소를 지정한 함수 실행 후 추출\n",
    "\n",
    "def conv_abs(x):\n",
    "    return abs(x)\n",
    "\n",
    "print(list(map(conv_abs, [-3,1,2,0,-5,6])))\n",
    "print(list(map(lambda x:abs(x), [-3,1,2,0,-5,6])))"
   ]
  },
  {
   "cell_type": "code",
   "execution_count": 28,
   "metadata": {},
   "outputs": [
    {
     "name": "stdout",
     "output_type": "stream",
     "text": [
      "1024\n"
     ]
    }
   ],
   "source": [
    "# pow : 제곱값 반환\n",
    "\n",
    "print(pow(2,10))"
   ]
  },
  {
   "cell_type": "code",
   "execution_count": 31,
   "metadata": {},
   "outputs": [
    {
     "name": "stdout",
     "output_type": "stream",
     "text": [
      "range(1, 10, 2)\n",
      "[1, 3, 5, 7, 9]\n",
      "[1, 0, -1, -2, -3, -4, -5, -6, -7, -8, -9, -10, -11, -12, -13, -14]\n"
     ]
    }
   ],
   "source": [
    "# range : 반복가능한 객체(iterable) 반환\n",
    "\n",
    "print(range(1,10,2))\n",
    "print(list(range(1,10,2)))\n",
    "print(list(range(1,-15,-1)))"
   ]
  },
  {
   "cell_type": "code",
   "execution_count": 34,
   "metadata": {},
   "outputs": [
    {
     "name": "stdout",
     "output_type": "stream",
     "text": [
      "6.58\n",
      "5\n"
     ]
    }
   ],
   "source": [
    "# round : 반올림\n",
    "\n",
    "print(round(6.5781,2))\n",
    "print(round(5.4))"
   ]
  },
  {
   "cell_type": "code",
   "execution_count": 40,
   "metadata": {},
   "outputs": [
    {
     "name": "stdout",
     "output_type": "stream",
     "text": [
      "[1, 2, 3, 4, 6, 7]\n",
      "[1, 2, 3, 4, 6, 7]\n",
      "['h', 'n', 'o', 'p', 't', 'y']\n"
     ]
    }
   ],
   "source": [
    "# sorted : 반복가능한 객체(iterable) 정렬 후 반환 퀵정렬, 삽입정렬, 병렬정렬\n",
    "\n",
    "print(sorted([6,7,4,3,1,2]))\n",
    "\n",
    "a = sorted([6,7,4,3,1,2])\n",
    "print(a)\n",
    "print(sorted(['p','y','t','h','o','n']))"
   ]
  },
  {
   "cell_type": "code",
   "execution_count": 42,
   "metadata": {},
   "outputs": [
    {
     "name": "stdout",
     "output_type": "stream",
     "text": [
      "40\n",
      "5050\n"
     ]
    }
   ],
   "source": [
    "# sum : 반복가능한 객체(iterable) 합 반환\n",
    "print(sum([6,7,8,9,10]))\n",
    "print(sum(range(1,101)))"
   ]
  },
  {
   "cell_type": "code",
   "execution_count": 49,
   "metadata": {},
   "outputs": [
    {
     "name": "stdout",
     "output_type": "stream",
     "text": [
      "<class 'int'>\n",
      "<class 'set'>\n",
      "<class 'tuple'>\n",
      "<class 'list'>\n"
     ]
    }
   ],
   "source": [
    "# type : 자료형 확인\n",
    "\n",
    "print(type(3))\n",
    "print(type({3,4,3}))\n",
    "print(type(()))\n",
    "print(type([]))"
   ]
  },
  {
   "cell_type": "code",
   "execution_count": 52,
   "metadata": {},
   "outputs": [
    {
     "name": "stdout",
     "output_type": "stream",
     "text": [
      "[(10, 40), (20, 50), (30, 60)]\n",
      "<class 'tuple'>\n"
     ]
    }
   ],
   "source": [
    "# zip : 반복가능한 객체(Iterable)의 요소를 묶어서 반환\n",
    "\n",
    "print((list(zip([10,20,30], [40,50,60]))))\n",
    "print(type(list(zip([10,20,30], [40,50,60]))[0]))"
   ]
  }
 ],
 "metadata": {
  "kernelspec": {
   "display_name": "base",
   "language": "python",
   "name": "python3"
  },
  "language_info": {
   "codemirror_mode": {
    "name": "ipython",
    "version": 3
   },
   "file_extension": ".py",
   "mimetype": "text/x-python",
   "name": "python",
   "nbconvert_exporter": "python",
   "pygments_lexer": "ipython3",
   "version": "3.12.7"
  }
 },
 "nbformat": 4,
 "nbformat_minor": 2
}
