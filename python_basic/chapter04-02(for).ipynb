{
 "cells": [
  {
   "cell_type": "code",
   "execution_count": null,
   "metadata": {},
   "outputs": [
    {
     "name": "stdout",
     "output_type": "stream",
     "text": [
      "v1 is: 0\n",
      "v1 is: 1\n",
      "v1 is: 2\n",
      "v1 is: 3\n",
      "v1 is: 4\n",
      "v1 is: 5\n",
      "v1 is: 6\n",
      "v1 is: 7\n",
      "v1 is: 8\n",
      "v1 is: 9\n",
      "\n",
      "v3 is : 1\n",
      "v3 is : 3\n",
      "v3 is : 5\n",
      "v3 is : 7\n",
      "v3 is : 9\n"
     ]
    }
   ],
   "source": [
    "#파이썬 반복문\n",
    "#For 실습\n",
    "\n",
    "#코딩의 핵심\n",
    "#for in <coLLection>\n",
    "#   <Loop body>\n",
    "\n",
    "for v1 in range(10):\n",
    "    print('v1 is:', v1)\n",
    "print()\n",
    "for v3 in range(1,11,2):\n",
    "    print('v3 is :', v3)\n",
    "    "
   ]
  },
  {
   "cell_type": "code",
   "execution_count": 14,
   "metadata": {},
   "outputs": [
    {
     "name": "stdout",
     "output_type": "stream",
     "text": [
      "1~1000 sum : 125500\n",
      "1~1000 sum: 500500\n",
      "<class 'range'>\n",
      "['__bool__', '__class__', '__contains__', '__delattr__', '__dir__', '__doc__', '__eq__', '__format__', '__ge__', '__getattribute__', '__getitem__', '__getstate__', '__gt__', '__hash__', '__init__', '__init_subclass__', '__iter__', '__le__', '__len__', '__lt__', '__ne__', '__new__', '__reduce__', '__reduce_ex__', '__repr__', '__reversed__', '__setattr__', '__sizeof__', '__str__', '__subclasshook__', 'count', 'index', 'start', 'step', 'stop']\n",
      "1~100 4의 배수의 합: 125500\n"
     ]
    }
   ],
   "source": [
    "# 1~1000 합\n",
    "sum1 = 0\n",
    "for v in range(4, 1001,4):\n",
    "    sum1 += v\n",
    "\n",
    "print('1~1000 sum :', sum1)\n",
    "\n",
    "print('1~1000 sum:', sum(range(1,1001)))\n",
    "\n",
    "print(type(range(1,11)))\n",
    "print(dir(range))\n",
    "print('1~100 4의 배수의 합:', sum(range(4,1001,4)))"
   ]
  },
  {
   "cell_type": "code",
   "execution_count": 15,
   "metadata": {},
   "outputs": [
    {
     "name": "stdout",
     "output_type": "stream",
     "text": [
      "You are : Kim\n",
      "You are : Park\n",
      "You are : Cho\n",
      "You are : Lee\n",
      "You are : Choi\n",
      "You are : Jang\n"
     ]
    }
   ],
   "source": [
    "# Iterables 자료형 반복\n",
    "# 문자열, 리스트, 튜플, 집합, 사전(딕셔너리)\n",
    "# iterable 리턴 함수 : range, reversed, enumerate, filter, map, zip\n",
    "\n",
    "#예제1\n",
    "names = ['Kim','Park','Cho','Lee','Choi','Jang']\n",
    "\n",
    "for n in names:\n",
    "    print('You are :', n)"
   ]
  },
  {
   "cell_type": "code",
   "execution_count": 16,
   "metadata": {},
   "outputs": [
    {
     "name": "stdout",
     "output_type": "stream",
     "text": [
      "Curren number :  11\n",
      "Curren number :  19\n",
      "Curren number :  21\n",
      "Curren number :  28\n",
      "Curren number :  36\n",
      "Curren number :  37\n"
     ]
    }
   ],
   "source": [
    "#예제 2\n",
    "lotto_numbers = [11,19,21,28,36,37]\n",
    "\n",
    "for n in lotto_numbers:\n",
    "    print(\"Curren number : \", n)"
   ]
  },
  {
   "cell_type": "code",
   "execution_count": 17,
   "metadata": {},
   "outputs": [
    {
     "name": "stdout",
     "output_type": "stream",
     "text": [
      "You are :  B\n",
      "You are :  e\n",
      "You are :  a\n",
      "You are :  u\n",
      "You are :  t\n",
      "You are :  i\n",
      "You are :  f\n",
      "You are :  u\n",
      "You are :  l\n"
     ]
    }
   ],
   "source": [
    "word = \"Beautiful\"\n",
    "\n",
    "for s in word:\n",
    "    print(\"You are : \", s )"
   ]
  },
  {
   "cell_type": "code",
   "execution_count": 35,
   "metadata": {},
   "outputs": [
    {
     "name": "stdout",
     "output_type": "stream",
     "text": [
      "key: name\n",
      "key: Age\n",
      "key: City\n",
      "value : Lee\n",
      "value : 33\n",
      "value : Seoul\n"
     ]
    }
   ],
   "source": [
    "#예제 4\n",
    "my_info = {\n",
    "    \"name\" : \"Lee\",\n",
    "    \"Age\" : 33,\n",
    "    \"City\" : \"Seoul\"\n",
    "}\n",
    "\n",
    "for k in my_info:\n",
    "    print('key:', k)\n",
    "\n",
    "for v in my_info.values():\n",
    "    print('value :', v)"
   ]
  },
  {
   "cell_type": "code",
   "execution_count": 28,
   "metadata": {},
   "outputs": [
    {
     "name": "stdout",
     "output_type": "stream",
     "text": [
      "F\n",
      "I\n",
      "N\n",
      "E\n",
      "A\n",
      "P\n",
      "P\n",
      "L\n",
      "E\n"
     ]
    }
   ],
   "source": [
    "#예제5\n",
    "name = 'FineAppLE'\n",
    "\n",
    "for n in name:\n",
    "    if n.isupper():\n",
    "        print(n)\n",
    "    else:\n",
    "        print(n.upper())"
   ]
  },
  {
   "cell_type": "code",
   "execution_count": 1,
   "metadata": {},
   "outputs": [
    {
     "name": "stdout",
     "output_type": "stream",
     "text": [
      "Not found : 14\n",
      "Not found : 3\n",
      "Found : 34!\n"
     ]
    }
   ],
   "source": [
    "#break\n",
    "\n",
    "number = [14,3,4,7,10,24,17,2,33,15,34,36, 38]\n",
    "\n",
    "\n",
    "for num in number:\n",
    "    if num == 4:\n",
    "        print(\"Found : 34!\")\n",
    "        break\n",
    "    else:\n",
    "        print('Not found :', num)"
   ]
  },
  {
   "cell_type": "code",
   "execution_count": 40,
   "metadata": {},
   "outputs": [
    {
     "name": "stdout",
     "output_type": "stream",
     "text": [
      "current type: 1 <class 'str'>\n",
      "multiply by 2 111\n",
      "3\n",
      "current type: 2 <class 'int'>\n",
      "multiply by 2 6\n",
      "3\n",
      "current type: 5 <class 'int'>\n",
      "multiply by 2 15\n",
      "3\n",
      "current type: 4.3 <class 'float'>\n",
      "multiply by 2 12.899999999999999\n",
      "3\n",
      "current type: (4+0j) <class 'complex'>\n",
      "multiply by 2 (12+0j)\n",
      "3\n"
     ]
    }
   ],
   "source": [
    "# continue\n",
    "\n",
    "lt = [\"1\", 2, 5, True, 4.3, complex(4)]\n",
    "\n",
    "for v in lt:\n",
    "    if type(v) is bool:\n",
    "        continue\n",
    "    print(\"current type:\", v, type(v))\n",
    "    print(\"multiply by 2\", v*3)\n",
    "    print(True*3)"
   ]
  },
  {
   "cell_type": "code",
   "execution_count": null,
   "metadata": {},
   "outputs": [
    {
     "name": "stdout",
     "output_type": "stream",
     "text": [
      "1\n",
      "2\n",
      "3\n",
      "4\n",
      "5\n",
      "\n",
      "1\n",
      "2\n",
      "3\n",
      "4\n",
      "5\n",
      "\n",
      "1\n",
      "2\n",
      "3\n",
      "4\n",
      "5\n"
     ]
    }
   ],
   "source": [
    "numbers = [1, 2, 3, 4, 5]\n",
    "\n",
    "# 변수 이름을 num으로 지정\n",
    "for num in numbers:\n",
    "    print(num)\n",
    "print()\n",
    "for i in numbers:  # 변수 이름을 i로 지정\n",
    "    print(i)\n",
    "print()\n",
    "for n in numbers:  # 여기서 n은 names 리스트의 각 요소를 순서대로 가져옵니다.\n",
    "    print(n)\n",
    "\n",
    "#자유롭게 변수 이름을 설정할 수 있지만 의미 있는 이름을 사용하는 것이 코드 가독성에 좋습니다.\n"
   ]
  },
  {
   "cell_type": "code",
   "execution_count": 48,
   "metadata": {},
   "outputs": [
    {
     "name": "stdout",
     "output_type": "stream",
     "text": [
      "Found : 3\n"
     ]
    }
   ],
   "source": [
    "# for - else \n",
    "number = [14,3,4,7,10,24,17,2,33,15,34,36, 38]\n",
    "\n",
    "for num in number:\n",
    "    if num == 3:\n",
    "        print(\"Found : 3\")\n",
    "        break\n",
    "else:\n",
    "    print('Not Found :3')"
   ]
  },
  {
   "cell_type": "code",
   "execution_count": null,
   "metadata": {},
   "outputs": [
    {
     "name": "stdout",
     "output_type": "stream",
     "text": [
      "   2   4   6   8  10  12  14  16  18\n",
      "   3   6   9  12  15  18  21  24  27\n",
      "   4   8  12  16  20  24  28  32  36\n",
      "   5  10  15  20  25  30  35  40  45\n",
      "   6  12  18  24  30  36  42  48  54\n",
      "   7  14  21  28  35  42  49  56  63\n",
      "   8  16  24  32  40  48  56  64  72\n",
      "   9  18  27  36  45  54  63  72  81\n"
     ]
    }
   ],
   "source": [
    "# 구구단 출력, reversed, 흐름제어 하는 문법법\n",
    "\n",
    "for i in range(2,10):\n",
    "    for j in range(1,10):\n",
    "        print('{:4d}'.format(i*j), end='') # end 조건 줄바꿈 다시 듣기기\n",
    "    print()\n"
   ]
  },
  {
   "cell_type": "code",
   "execution_count": null,
   "metadata": {},
   "outputs": [
    {
     "name": "stdout",
     "output_type": "stream",
     "text": [
      "Reversed <reversed object at 0x00000163EDD73340>\n",
      "List ['n', 'a', 'm', 'e', 'c', 'A']\n",
      "List ('n', 'a', 'm', 'e', 'c', 'A')\n",
      "set {'A', 'n', 'm', 'c', 'e', 'a'}\n"
     ]
    }
   ],
   "source": [
    "# 변환 예제, reversed \n",
    "name2 = 'Aceman'\n",
    "\n",
    "print('Reversed', reversed(name2))\n",
    "print('List', list(reversed(name2)))\n",
    "print('List', tuple(reversed(name2)))\n",
    "print('set', set(reversed(name2))) # 순서 없음음"
   ]
  },
  {
   "cell_type": "code",
   "execution_count": null,
   "metadata": {},
   "outputs": [],
   "source": [
    "enumerate, filter, map, zip"
   ]
  },
  {
   "cell_type": "code",
   "execution_count": 64,
   "metadata": {},
   "outputs": [
    {
     "name": "stdout",
     "output_type": "stream",
     "text": [
      "Index 0:['apple', 'banana', 'cherry']\n",
      "Index 1:['apple', 'banana', 'cherry']\n",
      "Index 2:['apple', 'banana', 'cherry']\n"
     ]
    }
   ],
   "source": [
    "fruits = [\"apple\", \"banana\", \"cherry\"]\n",
    "\n",
    "for idx, furit in enumerate(fruits):\n",
    "    print(f\"Index {idx}:{fruits}\")"
   ]
  },
  {
   "cell_type": "code",
   "execution_count": null,
   "metadata": {},
   "outputs": [
    {
     "name": "stdout",
     "output_type": "stream",
     "text": [
      "even number:2\n",
      "even number:4\n",
      "even number:6\n",
      "even number:8\n",
      "even number:10\n"
     ]
    }
   ],
   "source": [
    "numbers = [1, 2, 3, 4, 5, 6, 7, 8, 9, 10]\n",
    "\n",
    "even_numbers = filter(lambda x:x %2 == 0, numbers)\n",
    "\n",
    "for num in even_numbers:\n",
    "    print(f\"even number:{num}\")\n",
    "\n",
    "\n",
    "for num in filter(lambda x:x %2 == 0, numbers):\n",
    "    print(f\"even number: {num}\")"
   ]
  },
  {
   "cell_type": "code",
   "execution_count": 66,
   "metadata": {},
   "outputs": [
    {
     "name": "stdout",
     "output_type": "stream",
     "text": [
      "Sqaured: 1\n",
      "Sqaured: 4\n",
      "Sqaured: 9\n",
      "Sqaured: 16\n",
      "Sqaured: 25\n",
      "Sqaured: 36\n",
      "Sqaured: 49\n",
      "Sqaured: 64\n",
      "Sqaured: 81\n",
      "Sqaured: 100\n"
     ]
    }
   ],
   "source": [
    "numbers = [1, 2, 3, 4, 5, 6, 7, 8, 9, 10]\n",
    "\n",
    "square_numbers = map(lambda x: x**2, numbers)\n",
    "\n",
    "for num in square_numbers:\n",
    "    print(f\"Sqaured: {num}\")"
   ]
  },
  {
   "cell_type": "code",
   "execution_count": 69,
   "metadata": {},
   "outputs": [
    {
     "name": "stdout",
     "output_type": "stream",
     "text": [
      "Alice's score: 85\n",
      "Bob's score: 92\n",
      "Charlie's score: 78\n"
     ]
    }
   ],
   "source": [
    "names = [\"Alice\", \"Bob\", \"Charlie\"]\n",
    "scores = [85, 92, 78]\n",
    "\n",
    "# zip을 사용해 두 리스트를 묶어 반복합니다.\n",
    "for name, score in zip(names, scores):\n",
    "    print(f\"{name}'s score: {score}\")"
   ]
  },
  {
   "cell_type": "code",
   "execution_count": 70,
   "metadata": {},
   "outputs": [
    {
     "name": "stdout",
     "output_type": "stream",
     "text": [
      "0: Alice -> 85\n",
      "1: Bob -> 90\n",
      "2: Charlie -> 78\n",
      "3: David -> 88\n"
     ]
    }
   ],
   "source": [
    "names = [\"Alice\", \"Bob\", \"Charlie\", \"David\"]\n",
    "scores = [85, 90, 78, 88]\n",
    "\n",
    "for idx, (name, score) in enumerate(zip(names, scores)):\n",
    "    print(f\"{idx}: {name} -> {score}\")"
   ]
  }
 ],
 "metadata": {
  "kernelspec": {
   "display_name": "base",
   "language": "python",
   "name": "python3"
  },
  "language_info": {
   "codemirror_mode": {
    "name": "ipython",
    "version": 3
   },
   "file_extension": ".py",
   "mimetype": "text/x-python",
   "name": "python",
   "nbconvert_exporter": "python",
   "pygments_lexer": "ipython3",
   "version": "3.12.7"
  }
 },
 "nbformat": 4,
 "nbformat_minor": 2
}
