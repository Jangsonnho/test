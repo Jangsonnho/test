{
 "cells": [
  {
   "cell_type": "code",
   "execution_count": null,
   "metadata": {},
   "outputs": [
    {
     "name": "stdout",
     "output_type": "stream",
     "text": [
      "1593955305856\n",
      "1593959610512\n",
      "1593959620416\n",
      "False\n",
      "False\n",
      "['__class__', '__delattr__', '__dict__', '__dir__', '__doc__', '__eq__', '__format__', '__ge__', '__getattribute__', '__getstate__', '__gt__', '__hash__', '__init__', '__init_subclass__', '__le__', '__lt__', '__module__', '__ne__', '__new__', '__reduce__', '__reduce_ex__', '__repr__', '__setattr__', '__sizeof__', '__str__', '__subclasshook__', '__weakref__', '_company', '_details', 'detail_info']\n",
      "{'_company': 'Ferrai', '_details': {'color': 'White', 'horepower': 400, 'price': 8000}}\n",
      "<class '__main__.Car'> Automatically created module for IPython interactive environment\n",
      "Current ID : 1593955305856\n",
      "Car detail Info : Ferrai 8000\n",
      "Current ID : 1593959610512\n",
      "Car detail Info : Audi 8000\n",
      "<class '__main__.Car'> <class '__main__.Car'>\n",
      "1593933160560 1593933160560 1593933160560\n"
     ]
    }
   ],
   "source": [
    "class Car():\n",
    "    \"\"\"\n",
    "    car class\n",
    "    Author : kim\n",
    "    Date :2020.2.5\n",
    "    \"\"\"\n",
    "    def __init__(self,company,details):\n",
    "        self._company = company\n",
    "        self._details = details\n",
    "    \n",
    "    def __str__(self):\n",
    "        return 'str :{} - {}'.format(self._company, self._details)\n",
    "\n",
    "    def __repr__(self):\n",
    "        return 'str :{} - {}'.format(self._company, self._details)\n",
    "    \n",
    "    def detail_info(self):\n",
    "        print('Current ID : {}'.format(id(self)))\n",
    "        print('Car detail Info : {} {}'.format(self._company, self._details.get('price')))\n",
    "\n",
    "#self 의미\n",
    "car1 = Car('Ferrai',{'color' : 'White','horepower' :400,'price' : 8000})\n",
    "car2 = Car('Audi',{'color' : 'Black','horepower' :400,'price' : 8000})\n",
    "car3 = Car('BMW',{'color' : 'White','horepower' :400,'price' : 8000})\n",
    "\n",
    "#ID 확인\n",
    "print(id(car1))\n",
    "print(id(car2))\n",
    "print(id(car3))\n",
    "\n",
    "print(car1._company == car2._company)\n",
    "print(car1 is car2)\n",
    "\n",
    "print(dir(car1))\n",
    "print(car1.__dict__)\n",
    "\n",
    "# Doctring\n",
    "print(Car,__doc__)\n",
    "\n",
    "\n",
    "#실행\n",
    "car1.detail_info()\n",
    "car2.detail_info()\n",
    "\n",
    "#비교\n",
    "print(car1.__class__, car2.__class__)\n",
    "print(id(car1.__class__), id(car2.__class__),id(car3.__class__))\n",
    "\n",
    "\n"
   ]
  }
 ],
 "metadata": {
  "kernelspec": {
   "display_name": "base",
   "language": "python",
   "name": "python3"
  },
  "language_info": {
   "codemirror_mode": {
    "name": "ipython",
    "version": 3
   },
   "file_extension": ".py",
   "mimetype": "text/x-python",
   "name": "python",
   "nbconvert_exporter": "python",
   "pygments_lexer": "ipython3",
   "version": "3.12.7"
  }
 },
 "nbformat": 4,
 "nbformat_minor": 2
}
