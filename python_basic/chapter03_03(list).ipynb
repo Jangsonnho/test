{
 "cells": [
  {
   "cell_type": "code",
   "execution_count": null,
   "metadata": {},
   "outputs": [
    {
     "name": "stdout",
     "output_type": "stream",
     "text": [
      "<class 'list'>\n",
      "4\n",
      ">>>>>>\n",
      "d -  <class 'list'> [1000, 10000, 'Ace', 'Base', 'Captine']\n",
      "d -  10000\n",
      "d - 21000\n",
      "d - Captine\n",
      "e - Base\n",
      "<class 'str'>\n",
      "e - ['B', 'a', 's', 'e']\n"
     ]
    }
   ],
   "source": [
    "#자료구조에서 중요\n",
    "# 리스트 자료형(순서 0, 중복0 , 수정0, 삭제0)\n",
    "\n",
    "# 선언\n",
    "a = []\n",
    "b = list()\n",
    "c = [70,80,80,85] # len\n",
    "d = [1000,10000,'Ace','Base','Captine']\n",
    "e = [1000,10000,['Ace', 'Base','Captine']]\n",
    "f = [21.42,'foobar',3,4,False,3.14149]\n",
    "\n",
    "print(type(b))\n",
    "print(len(c))\n",
    "\n",
    "# 인덱싱\n",
    "print('>>>>>>')\n",
    "print('d - ', type(d),d)\n",
    "print('d - ', d[1])\n",
    "print('d -', d[0] + d[1]+ d[1])\n",
    "print('d -', d[-1])\n",
    "print('e -', e[-1][1])\n",
    "print(type(e[-1][1]))\n",
    "print('e -', list(e[-1][1]))\n"
   ]
  },
  {
   "cell_type": "code",
   "execution_count": 8,
   "metadata": {},
   "outputs": [
    {
     "name": "stdout",
     "output_type": "stream",
     "text": [
      ">>>>>>\n",
      "d -  [1000, 10000, 'Ace']\n",
      "d -  ['Ace', 'Base', 'Captine']\n",
      "e - ['Base', 'Captine']\n",
      ">>>>>>\n",
      "c +d [70, 80, 80, 85, 1000, 10000, 'Ace', 'Base', 'Captine']\n",
      "c * 3 [70, 80, 80, 85, 70, 80, 80, 85, 70, 80, 80, 85]\n",
      "'Test' + c[0] Test70\n",
      "True\n",
      ">>>>>>\n",
      "[70, 80, 80, 85] [70, 80, 80, 85]\n",
      "1758809229888\n",
      "1758809229888\n",
      ">>>>>>\n",
      "c - [4, 80, 80, 85]\n",
      "c - [4, 'a', 'b', 'c', 80, 85]\n",
      "c - [4, ['a', 'b', 'c'], 'b', 'c', 80, 85]\n",
      "c - [4, 'c', 80, 85]\n",
      "c - [4, 'c', 85]\n"
     ]
    }
   ],
   "source": [
    "c = [70,80,80,85] # len\n",
    "d = [1000,10000,'Ace','Base','Captine']\n",
    "e = [1000,10000,['Ace', 'Base','Captine']]\n",
    "\n",
    "# 슬라이싱\n",
    "print('>>>>>>')\n",
    "print('d - ', d[0:3])\n",
    "print('d - ', d[2:])\n",
    "print('e -',e[-1][1:3])\n",
    "\n",
    "# 리스트 연산\n",
    "print('>>>>>>')\n",
    "print('c +d', c+d)\n",
    "print('c * 3', c*3)\n",
    "print(\"'Test' + c[0]\", 'Test' + str(c[0]))\n",
    "\n",
    "# 값 비교\n",
    "print(c == c[:3] + c[3:])\n",
    "\n",
    "\n",
    "# Identity(id)\n",
    "print('>>>>>>')\n",
    "temp = c\n",
    "print(temp,c)\n",
    "print(id(temp)) # 깊은복사와 얇은복사, 레퍼 참조형 불변형\n",
    "print(id(c))\n",
    "\n",
    "c = [70,80,80,85] # len\n",
    "\n",
    "#리스트 수정, 삭제\n",
    "print('>>>>>>')\n",
    "c[0] = 4\n",
    "print('c -', c)\n",
    "c[1:2] = ['a','b','c'] #[['a','b','c']]\n",
    "print('c -',c)\n",
    "c[1] = ['a','b','c']\n",
    "print('c -',c)\n",
    "c[1:3] = []\n",
    "print('c -', c)\n",
    "del c[2] # 삭제제\n",
    "print('c -', c)"
   ]
  },
  {
   "cell_type": "code",
   "execution_count": 48,
   "metadata": {},
   "outputs": [
    {
     "name": "stdout",
     "output_type": "stream",
     "text": [
      "a - [5, 2, 3, 1, 4]\n",
      "a - [5, 2, 3, 1, 4, 10]\n",
      "a - [1, 2, 3, 4, 5, 10]\n",
      "a - [10, 5, 4, 3, 2, 1]\n",
      "a - 3 3\n",
      "a - [10, 5, 7, 4, 3, 2, 1]\n",
      "a - [1, 2, 3, 4, 7, 5, 10]\n",
      "a - [1, 2, 3, 4, 7, 5]\n",
      "a - 5\n",
      "a - [1, 2, 3, 4, 7]\n",
      "a - 7\n",
      "a - [1, 2, 3, 4]\n",
      "a - 1\n",
      "a - [1, 2, 3, 4, 8, 9]\n",
      "9\n",
      "8\n",
      "4\n",
      "3\n",
      "2\n",
      "1\n"
     ]
    }
   ],
   "source": [
    "# 리스트 함수\n",
    "a = [5,2,3,1,4]\n",
    "\n",
    "print('a -', a)\n",
    "a.append(10)\n",
    "print('a -', a)\n",
    "a.sort()\n",
    "print('a -', a)\n",
    "a.reverse()\n",
    "print('a -', a) # quick정렬, 삽입정렬, 병합정렬, 선택정렬, 버블정렬\n",
    "print('a -', a.index(3), a[3])\n",
    "a.insert(2,7)\n",
    "print('a -', a)\n",
    "a.reverse()\n",
    "print('a -', a)\n",
    "# del a[6]\n",
    "# print('a -', a)\n",
    "a.remove(10)\n",
    "print('a -', a)\n",
    "print('a -', a.pop())\n",
    "print('a -', a)\n",
    "print('a -', a.pop())\n",
    "print('a -', a) #stack, queue(first in, first out) --- last in first out, 마지막에 있는 접시를 가져간다. 웹브라우저 뒤로가기 , 자료구조에서 문제를 풀때 가장 많이 사용하는 메서\n",
    "print('a -', a.count(4))\n",
    "\n",
    "ex = [8,9]\n",
    "a.extend(ex)\n",
    "print('a -', a)\n",
    "\n",
    "# 삭제 :remove(가장 범용적), pop(알고리즘), del(내가 지워야하는 인덱스 번호호)\n",
    "\n",
    "# 반복문 활용\n",
    "while a:\n",
    "    data = a.pop()\n",
    "    print(data)"
   ]
  },
  {
   "cell_type": "code",
   "execution_count": 1,
   "metadata": {},
   "outputs": [
    {
     "name": "stdout",
     "output_type": "stream",
     "text": [
      "range(0, 6)\n"
     ]
    }
   ],
   "source": [
    "range(6)\n",
    "print(range(6))"
   ]
  }
 ],
 "metadata": {
  "kernelspec": {
   "display_name": "base",
   "language": "python",
   "name": "python3"
  },
  "language_info": {
   "codemirror_mode": {
    "name": "ipython",
    "version": 3
   },
   "file_extension": ".py",
   "mimetype": "text/x-python",
   "name": "python",
   "nbconvert_exporter": "python",
   "pygments_lexer": "ipython3",
   "version": "3.12.7"
  }
 },
 "nbformat": 4,
 "nbformat_minor": 2
}
