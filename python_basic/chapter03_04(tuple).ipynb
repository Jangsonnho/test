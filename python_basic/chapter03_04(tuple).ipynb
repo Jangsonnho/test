{
 "cells": [
  {
   "cell_type": "code",
   "execution_count": null,
   "metadata": {},
   "outputs": [
    {
     "name": "stdout",
     "output_type": "stream",
     "text": [
      "d -  1000\n",
      "d -  2100\n",
      "d -  Captine\n",
      "d -  1000\n",
      "d -  Base\n",
      "d -  ['B', 'a', 's', 'e']\n"
     ]
    }
   ],
   "source": [
    "# 파이썬 튜플\n",
    "# 리스트와 비교 중요\n",
    "# 튜플 자료형(순선0, 중복0, 수정x, 삭제x) # 불변\n",
    "\n",
    "# 선언\n",
    "\n",
    "a = ()\n",
    "b = (1) # c= (1,)-> 튜플, (1)-> 정수\n",
    "c =(11,12,13,14)\n",
    "d= (100,1000,'Ace','Base','Captine')\n",
    "e =(100,1000,('Ace','Base','Captine'))\n",
    "\n",
    "print('d - ', d[1])\n",
    "print('d - ', d[0] +d[1] + d[1])\n",
    "print('d - ', d[-1])\n",
    "print('d - ', e[1])\n",
    "print('d - ', e[-1][1])\n",
    "print('d - ', list(e[-1][1]))\n",
    "\n"
   ]
  },
  {
   "cell_type": "code",
   "execution_count": null,
   "metadata": {},
   "outputs": [
    {
     "name": "stdout",
     "output_type": "stream",
     "text": [
      "d -  (100, 1000, 'Ace')\n",
      "d -  ('Ace', 'Base', 'Captine')\n",
      "d -  ('Base', 'Captine')\n"
     ]
    }
   ],
   "source": [
    "# 수정x\n",
    "# d[0] = 1500\n",
    "e =(100,1000,('Ace','Base','Captine'))\n",
    "print('d - ', d[0:3])\n",
    "print('d - ', d[2:])\n",
    "print('d - ', e[2][1:3])"
   ]
  },
  {
   "cell_type": "code",
   "execution_count": null,
   "metadata": {},
   "outputs": [
    {
     "name": "stdout",
     "output_type": "stream",
     "text": [
      "d -  (11, 12, 13, 14, 100, 1000, 'Ace', 'Base', 'Captine')\n",
      "d -  (11, 12, 13, 14, 11, 12, 13, 14, 11, 12, 13, 14)\n"
     ]
    }
   ],
   "source": [
    "# 튜플연산\n",
    "c =(11,12,13,14)\n",
    "d= (100,1000,'Ace','Base','Captine')\n",
    "\n",
    "print('d - ', c+d)\n",
    "print('d - ', c*3)"
   ]
  },
  {
   "cell_type": "code",
   "execution_count": 10,
   "metadata": {},
   "outputs": [
    {
     "name": "stdout",
     "output_type": "stream",
     "text": [
      "a - (5, 2, 3, 1, 4)\n",
      "a - 2\n",
      "a - 1\n"
     ]
    }
   ],
   "source": [
    "# 튜플 함수\n",
    "a = (5,2,3,1,4)\n",
    "\n",
    "print('a -', a)\n",
    "print('a -', a.index(3))\n",
    "print('a -', a.count(2))"
   ]
  },
  {
   "cell_type": "code",
   "execution_count": 13,
   "metadata": {},
   "outputs": [
    {
     "name": "stdout",
     "output_type": "stream",
     "text": [
      "('foo', 'bar', 'baz', 'qux')\n",
      "foo\n",
      "qux\n",
      "<class 'str'> <class 'str'> <class 'str'> <class 'str'>\n",
      "foo bar baz qux\n"
     ]
    }
   ],
   "source": [
    "# 팩킹과 언팩킹(packing, and unpacking)\n",
    "\n",
    "# 팩킹\n",
    "\n",
    "t = ('foo','bar','baz','qux')\n",
    "\n",
    "print(t)\n",
    "print(t[0])\n",
    "print(t[-1])\n",
    "\n",
    "# 언팩킹1\n",
    "(x1,x2,x3,x4) = t\n",
    "print(type(x1),type(x2),type(x3),type(x4))\n",
    "print(x1,x2,x3,x4)"
   ]
  },
  {
   "cell_type": "code",
   "execution_count": 15,
   "metadata": {},
   "outputs": [
    {
     "name": "stdout",
     "output_type": "stream",
     "text": [
      "(1, 2, 3)\n",
      "(4,)\n",
      "1 2 3\n",
      "4 5 6\n"
     ]
    }
   ],
   "source": [
    "# 팩킹과 언팩킹\n",
    "t2 = 1,2,3\n",
    "t3 = 4,\n",
    "x1,x2,x3 =t2\n",
    "x4,x5,x6 = 4,5,6 \n",
    "\n",
    "print(t2)\n",
    "print(t3)\n",
    "print(x1,x2,x3)\n",
    "print(x4,x5,x6)"
   ]
  }
 ],
 "metadata": {
  "kernelspec": {
   "display_name": "base",
   "language": "python",
   "name": "python3"
  },
  "language_info": {
   "codemirror_mode": {
    "name": "ipython",
    "version": 3
   },
   "file_extension": ".py",
   "mimetype": "text/x-python",
   "name": "python",
   "nbconvert_exporter": "python",
   "pygments_lexer": "ipython3",
   "version": "3.12.7"
  }
 },
 "nbformat": 4,
 "nbformat_minor": 2
}
