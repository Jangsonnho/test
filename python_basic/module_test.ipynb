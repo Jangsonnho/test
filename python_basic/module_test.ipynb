{
 "cells": [
  {
   "cell_type": "code",
   "execution_count": 2,
   "metadata": {},
   "outputs": [
    {
     "name": "stdout",
     "output_type": "stream",
     "text": [
      "['c:\\\\Users\\\\mycomputer\\\\Desktop\\\\test', 'c:\\\\ProgramData\\\\Anaconda3\\\\python312.zip', 'c:\\\\ProgramData\\\\Anaconda3\\\\DLLs', 'c:\\\\ProgramData\\\\Anaconda3\\\\Lib', 'c:\\\\ProgramData\\\\Anaconda3', '', 'C:\\\\Users\\\\mycomputer\\\\AppData\\\\Roaming\\\\Python\\\\Python312\\\\site-packages', 'c:\\\\ProgramData\\\\Anaconda3\\\\Lib\\\\site-packages', 'c:\\\\ProgramData\\\\Anaconda3\\\\Lib\\\\site-packages\\\\win32', 'c:\\\\ProgramData\\\\Anaconda3\\\\Lib\\\\site-packages\\\\win32\\\\lib', 'c:\\\\ProgramData\\\\Anaconda3\\\\Lib\\\\site-packages\\\\Pythonwin', 'c:\\\\ProgramData\\\\Anaconda3\\\\Lib\\\\site-packages\\\\setuptools\\\\_vendor']\n",
      "<class 'list'>\n"
     ]
    }
   ],
   "source": [
    "#모듈 사용 실습\n",
    "import sys\n",
    "\n",
    "# print(sys)\n",
    "print(sys.path)\n",
    "\n",
    "print(type(sys.path))\n",
    "\n",
    "#경로 삽입입\n",
    "# sys.path.append('./test')\n",
    "\n",
    "# print(sys.path)\n",
    "\n",
    "#import test_module\n",
    "\n",
    "# 모듈 사용\n",
    "# print(test_module.power(10,3))\n",
    "\n",
    "\n"
   ]
  }
 ],
 "metadata": {
  "kernelspec": {
   "display_name": "base",
   "language": "python",
   "name": "python3"
  },
  "language_info": {
   "codemirror_mode": {
    "name": "ipython",
    "version": 3
   },
   "file_extension": ".py",
   "mimetype": "text/x-python",
   "name": "python",
   "nbconvert_exporter": "python",
   "pygments_lexer": "ipython3",
   "version": "3.12.7"
  }
 },
 "nbformat": 4,
 "nbformat_minor": 2
}
