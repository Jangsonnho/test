{
 "cells": [
  {
   "cell_type": "code",
   "execution_count": null,
   "metadata": {},
   "outputs": [
    {
     "name": "stdout",
     "output_type": "stream",
     "text": [
      "n = Lee, s = 308276567, sum=150\n",
      "n = Lee, s = 308276567, sum=150\n",
      "n = Lee, s = 308276567, sum=150\n",
      "\n",
      "\n",
      "10,000,000\n",
      "10000000\n",
      "t :         20\n",
      "t center:     20    \n",
      "t center: 20        \n",
      "t center:         20\n",
      "\n",
      "t center: ----20----\n",
      "t center: 20########\n"
     ]
    }
   ],
   "source": [
    "\"\"\"\n",
    "\\n : 개행\n",
    "\\t : 탭\n",
    "\\\\ : 문자\n",
    "\\' : 문자\n",
    "\\\" : 문자\n",
    "\\000 : 널 문자\n",
    "\n",
    "\"\"\"\n",
    "### 3가지 Format Practices\n",
    "\n",
    "x = 50\n",
    "y = 100\n",
    "text = 308276567\n",
    "n = 'Lee'\n",
    "\n",
    "# 출력1\n",
    "ex1 = 'n = %s, s = %s, sum=%d' % (n, text, (x + y)) # %d\n",
    "print(ex1)\n",
    "\n",
    "\n",
    "ex2 = 'n = {n}, s = {serialno}, sum={sum}'.format(n=n, serialno=text, sum=x + y)\n",
    "print(ex2)\n",
    "\n",
    "\n",
    "# 출력3\n",
    "ex3 = f'n = {n}, s = {text}, sum={x + y}'\n",
    "print(ex3)\n",
    "\n",
    "print()\n",
    "print()\n",
    "\n",
    "m = 10000000\n",
    "print(f'{m:,}')\n",
    "print(m)\n",
    "\n",
    "# 정렬\n",
    "# ^ : 가운데, < :왼쪽, > : 오른쪽\n",
    "\n",
    "t = 20\n",
    "print(f\"t : {t:10}\")\n",
    "print(f\"t center: {t:^10}\")\n",
    "print(f\"t center: {t:<10}\")\n",
    "print(f\"t center: {t:>10}\")\n",
    "\n",
    "print()\n",
    "\n",
    "print(f\"t center: {t:-^10}\")\n",
    "print(f\"t center: {t:#<10}\")\n",
    "\n",
    "\n",
    "\n",
    "\n"
   ]
  },
  {
   "cell_type": "code",
   "execution_count": 18,
   "metadata": {},
   "outputs": [
    {
     "data": {
      "text/plain": [
       "0.14855741426452784"
      ]
     },
     "execution_count": 18,
     "metadata": {},
     "output_type": "execute_result"
    }
   ],
   "source": [
    "import random\n",
    "random.random()"
   ]
  },
  {
   "cell_type": "code",
   "execution_count": 19,
   "metadata": {},
   "outputs": [
    {
     "data": {
      "text/plain": [
       "3.141592653589793"
      ]
     },
     "execution_count": 19,
     "metadata": {},
     "output_type": "execute_result"
    }
   ],
   "source": [
    "import math\n",
    "math.pi"
   ]
  }
 ],
 "metadata": {
  "kernelspec": {
   "display_name": "base",
   "language": "python",
   "name": "python3"
  },
  "language_info": {
   "codemirror_mode": {
    "name": "ipython",
    "version": 3
   },
   "file_extension": ".py",
   "mimetype": "text/x-python",
   "name": "python",
   "nbconvert_exporter": "python",
   "pygments_lexer": "ipython3",
   "version": "3.12.7"
  }
 },
 "nbformat": 4,
 "nbformat_minor": 2
}
