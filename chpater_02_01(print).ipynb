{
 "cells": [
  {
   "cell_type": "code",
   "execution_count": null,
   "metadata": {},
   "outputs": [],
   "source": [
    "#print 사용법\n",
    "# 참조"
   ]
  },
  {
   "cell_type": "code",
   "execution_count": null,
   "metadata": {},
   "outputs": [
    {
     "name": "stdout",
     "output_type": "stream",
     "text": [
      "Python Start!\n",
      "Python Start!\n",
      "Python Start!\n",
      "Python Start!\n"
     ]
    }
   ],
   "source": [
    "print('Python Start!')\n",
    "print(\"Python Start!\")\n",
    "print('''Python Start!''')\n",
    "print(\"\"\"Python Start!\"\"\")"
   ]
  },
  {
   "cell_type": "code",
   "execution_count": 8,
   "metadata": {},
   "outputs": [
    {
     "name": "stdout",
     "output_type": "stream",
     "text": [
      "python\n",
      "010-7777-1234\n",
      "python@google.com\n"
     ]
    }
   ],
   "source": [
    "# separator 옵션\n",
    "print('p','y','t','h','o','n', sep='')\n",
    "print('010','7777','1234', sep ='-')\n",
    "print('python','google.com',sep = '@')"
   ]
  },
  {
   "cell_type": "code",
   "execution_count": 15,
   "metadata": {},
   "outputs": [
    {
     "name": "stdout",
     "output_type": "stream",
     "text": [
      "Welcome to IT News Web Site\n",
      "Welcome to\n",
      "IT News\n",
      "Web Site\n"
     ]
    }
   ],
   "source": [
    "# end 옵션\n",
    "print('Welcome to', end=' ')\n",
    "print('IT News', end=' ')\n",
    "print('Web Site')\n",
    "\n",
    "print('Welcome to')\n",
    "print('IT News')\n",
    "print('Web Site')"
   ]
  },
  {
   "cell_type": "code",
   "execution_count": null,
   "metadata": {},
   "outputs": [],
   "source": [
    "# file 옵션\n",
    "import sys # 파이썬 예약어\n",
    "\n",
    "print('Learn Python', file=sys.stdout)"
   ]
  },
  {
   "cell_type": "code",
   "execution_count": 16,
   "metadata": {},
   "outputs": [
    {
     "name": "stdout",
     "output_type": "stream",
     "text": [
      "onetwo\n",
      "onetwo\n",
      "twoone\n"
     ]
    }
   ],
   "source": [
    "# format 사용(d,:3 s :'python', f:3.14)\n",
    "print('%s%s' % ('one', 'two'))\n",
    "print('{}{}'.format('one', 'two'))\n",
    "print('{1}{0}'.format('one','two'))"
   ]
  },
  {
   "cell_type": "code",
   "execution_count": 25,
   "metadata": {},
   "outputs": [
    {
     "name": "stdout",
     "output_type": "stream",
     "text": [
      "      nice\n",
      "  nice1111\n",
      "      nice\n",
      "\n",
      "nice      \n",
      "nice1111  \n",
      "nice      \n",
      "\n",
      "______nice\n",
      "$$$$$$nice\n",
      "   nice   \n"
     ]
    }
   ],
   "source": [
    "# %s\n",
    "print('%10s' % ('nice')) # 총 자리수 10개\n",
    "print('%10s' % ('nice1111'))\n",
    "print('{:>10}'.format('nice'))\n",
    "print()\n",
    "print('%-10s' % ('nice')) # 총 자리수 10개\n",
    "print('%-10s' % ('nice1111'))\n",
    "print('{:10}'.format('nice'))\n",
    "print()\n",
    "print('{:_>10}'.format('nice'))\n",
    "print('{:$>10}'.format('nice'))\n",
    "print('{:^10}'.format('nice'))"
   ]
  },
  {
   "cell_type": "code",
   "execution_count": 29,
   "metadata": {},
   "outputs": [
    {
     "name": "stdout",
     "output_type": "stream",
     "text": [
      "nice\n",
      "pytho\n",
      "pythonstudy\n",
      "pytho     \n"
     ]
    }
   ],
   "source": [
    "print('%.5s' % ('nice'))\n",
    "print('%.5s' % ('pythonstudy'))\n",
    "print('%5s' % ('pythonstudy'))\n",
    "print('{:10.5}'.format('pythonstudy'))"
   ]
  },
  {
   "cell_type": "code",
   "execution_count": 3,
   "metadata": {},
   "outputs": [
    {
     "name": "stdout",
     "output_type": "stream",
     "text": [
      "12\n",
      "12\n",
      "  42\n",
      "  42\n",
      "1234\n",
      "1234\n",
      "3.123132\n",
      "3.123123\n",
      "3.123123\n",
      "  3.123123\n"
     ]
    }
   ],
   "source": [
    "# %d\n",
    "print('%d%d' % (1,2))\n",
    "print('{}{}'.format(1,2))\n",
    "\n",
    "print('%4d' % (42))\n",
    "print(('{:4d}'.format(42)))\n",
    "print('%4d' % (1234))\n",
    "print('{:4d}'.format(1234))\n",
    "print('%4f' % (3.123132123))\n",
    "print('{:4f}'.format(3.123123))\n",
    "print('{:2f}'.format(3.123123))\n",
    "print('{:10f}'.format(3.123123))\n"
   ]
  },
  {
   "cell_type": "code",
   "execution_count": 33,
   "metadata": {},
   "outputs": [
    {
     "name": "stdout",
     "output_type": "stream",
     "text": [
      "3.144343\n",
      "3.144343\n",
      "003.14\n",
      "003.14\n"
     ]
    }
   ],
   "source": [
    "# %f\n",
    "print('%f' % (3.14434343434))\n",
    "print('{:f}'.format(3.14434343434))\n",
    "print('%06.2f' % (3.1415921213543))\n",
    "print('{:06.2f}'.format(3.1415921213543))"
   ]
  }
 ],
 "metadata": {
  "kernelspec": {
   "display_name": "base",
   "language": "python",
   "name": "python3"
  },
  "language_info": {
   "codemirror_mode": {
    "name": "ipython",
    "version": 3
   },
   "file_extension": ".py",
   "mimetype": "text/x-python",
   "name": "python",
   "nbconvert_exporter": "python",
   "pygments_lexer": "ipython3",
   "version": "3.12.7"
  }
 },
 "nbformat": 4,
 "nbformat_minor": 2
}
