{
 "cells": [
  {
   "cell_type": "code",
   "execution_count": 9,
   "metadata": {},
   "outputs": [
    {
     "name": "stdout",
     "output_type": "stream",
     "text": [
      "a- <class 'set'> set()\n",
      "b- <class 'set'> {1, 2, 3, 4}\n",
      "c- <class 'set'> {1, 4, 5, 6}\n",
      "d- <class 'set'> {1, 2, 'Plate', 'Cap', 'Pen'}\n",
      "e- <class 'set'> {'bar', 'baz', 'foo', 'qux'}\n",
      "f- <class 'set'> {42, 3.13155, 'foo', (1, 2, 3)}\n",
      "t- <class 'tuple'> (1, 2, 3, 4)\n",
      "t- 1 (2, 3)\n",
      "l - [1, 4, 5, 6]\n",
      "l2 - ['bar', 'baz', 'foo', 'qux']\n",
      "0\n",
      "4\n"
     ]
    }
   ],
   "source": [
    "# 집합(Set) 특징\n",
    "# 집합(Set) 자료형(순서 x, 중복 x,)\n",
    "\n",
    "# 선언\n",
    "a = set()\n",
    "b = set([1,2,3,4])\n",
    "c = set([1,4,5,6])\n",
    "d = set([1,2,'Pen','Cap','Plate'])\n",
    "e = {'foo','bar','baz','foo','qux'}\n",
    "f = {42,'foo',(1,2,3), 3.13155}\n",
    "\n",
    "print('a-',type(a),a)\n",
    "print('b-',type(b),b)\n",
    "print('c-',type(c),c)\n",
    "print('d-',type(d),d)\n",
    "print('e-',type(e),e)\n",
    "print('f-',type(f),f)\n",
    "\n",
    "# 튜플 변환(set-> tuple)\n",
    "t = tuple(b)\n",
    "print('t-', type(t), t)\n",
    "print('t-', t[0], t[1:3])\n",
    "\n",
    "# 리스트 변환(set-> List)\n",
    "l = list(c)\n",
    "l2 = list(e)\n",
    "\n",
    "print('l -', l)\n",
    "print('l2 -', l2)\n",
    "\n",
    "#길이\n",
    "print(len(a))\n",
    "print(len(b))"
   ]
  },
  {
   "cell_type": "code",
   "execution_count": 13,
   "metadata": {},
   "outputs": [
    {
     "name": "stdout",
     "output_type": "stream",
     "text": [
      "s1 & s2: {4, 5, 6}\n",
      "s1 & s2: {4, 5, 6}\n",
      "s1 | s2: {1, 2, 3, 4, 5, 6, 7, 8, 9}\n",
      "s1 | s2 : {1, 2, 3, 4, 5, 6, 7, 8, 9}\n",
      "s1 - s2: {1, 2, 3}\n",
      "s1 - s2: {1, 2, 3}\n"
     ]
    }
   ],
   "source": [
    "#집합 자료형 활용\n",
    "s1 = set([1,2,3,4,5,6,])\n",
    "s2 = set([7,8,9,4,5,6,])\n",
    "\n",
    "print('s1 & s2:', s1 & s2)\n",
    "print('s1 & s2:', s1.intersection(s2))\n",
    "\n",
    "\n",
    "print('s1 | s2:', s1 | s2)\n",
    "print('s1 | s2 :', s1.union(s2))\n",
    "print('s1 - s2:', s1 - s2)\n",
    "print('s1 - s2:', s1.difference(s2))"
   ]
  }
 ],
 "metadata": {
  "kernelspec": {
   "display_name": "base",
   "language": "python",
   "name": "python3"
  },
  "language_info": {
   "codemirror_mode": {
    "name": "ipython",
    "version": 3
   },
   "file_extension": ".py",
   "mimetype": "text/x-python",
   "name": "python",
   "nbconvert_exporter": "python",
   "pygments_lexer": "ipython3",
   "version": "3.12.7"
  }
 },
 "nbformat": 4,
 "nbformat_minor": 2
}
