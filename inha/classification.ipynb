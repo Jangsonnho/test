{
 "cells": [
  {
   "cell_type": "code",
   "execution_count": 11,
   "metadata": {},
   "outputs": [],
   "source": [
    "import pandas as pd"
   ]
  },
  {
   "cell_type": "code",
   "execution_count": null,
   "metadata": {},
   "outputs": [
    {
     "name": "stdout",
     "output_type": "stream",
     "text": [
      "Your browser has been opened to visit:\n",
      "\n",
      "    https://accounts.google.com/o/oauth2/auth?client_id=478238330564-6pivnad3btouph2g4dqmoehjm0bqon9m.apps.googleusercontent.com&redirect_uri=http%3A%2F%2Flocalhost%3A8090%2F&scope=https%3A%2F%2Fwww.googleapis.com%2Fauth%2Fdrive&access_type=offline&response_type=code\n",
      "\n",
      "Authentication successful.\n"
     ]
    }
   ],
   "source": [
    "from pydrive.auth import GoogleAuth\n",
    "from pydrive.drive import GoogleDrive\n",
    "\n",
    "gauth = GoogleAuth()\n",
    "\n",
    "# 설정파일 경로를 명시적으로 지정\n",
    "gauth.LoadClientConfigFile('/Users/jangsunho/Desktop/test/config/client_secret.json')\n",
    "\n",
    "# 웹 브라우저를 통한 인증\n",
    "gauth.LocalWebserverAuth()\n",
    "\n",
    "# Drive 객체 생성\n",
    "drive = GoogleDrive(gauth)"
   ]
  },
  {
   "cell_type": "code",
   "execution_count": 9,
   "metadata": {},
   "outputs": [
    {
     "name": "stdout",
     "output_type": "stream",
     "text": [
      "title: 2개월 수술데이터, id: 1ta-nxCsxo8yzZDeEiUdM0wHK5ok_J61QM5inxLMcrTs\n",
      "title: 2개월 수술데이터.xlsx, id: 1V9LmDnIyUM3bhYetXr16kIJT9JWefljg\n",
      "title: df_encoded.csv, id: 1mXJjFB9LwL89PBKQ56gqaQ_eo_ToI711\n",
      "title: titanic, id: 1XWTIIOHwou5s1AsnwyMDMTa_RNTM42Bo\n",
      "title: inha_데이터마이닝, id: 1g6hgpxgLspPT7NWl7iY-v7ZHY8b_GiGQ\n",
      "title: 회귀분석, id: 1mDjIEaO1jnODM_rOl_5DaIPjdJGPxCuG\n",
      "title: 인하대 산업경영공학과, id: 1TLkoDbfyXMIf62ktG8_xqsFV00xXxBAc\n",
      "title: 제목없는 문서, id: 1tSSO6pqa7hh1jok5FvpAtpMiWF8MA1lQjfysYsv4UkA\n",
      "title: 검안후기 및 라섹보강설명, id: 1qqcv93h7WsPL4dFAdWufJOICuLz32pHUmSJ_USVgX40\n",
      "title: 제목없는 문서, id: 1INJrWxo9DAUScjd7vximcAI7iCspSYYWmZz-eZUqIfY\n",
      "title: 상담 대본 수정, id: 1SsV5BMofDVwYDXnTmUGRKsYnDcGv4kbWRnVRp5i6j-o\n",
      "title: 상담 빨리하기, id: 1bA81aM4PUnSm5dlCmAJekV1ojUfEwygXys-_yPH_14w\n",
      "title: 제목없는 문서, id: 1nBtj8BfaoCfinygVuKdi5usveZMqomHuyjsiW68FDFw\n",
      "title: 강건 여자보호자, id: 1D9S557fZ0ZWQvQ4-1E2PlKmL56mDf1CevzTZotak2ac\n",
      "title: 스마일프로, id: 1N2-QYlO8AEJWSD4HHR2MsQ4z5jXf0--y0I7RKHcfOJM\n",
      "title: Colab Notebooks, id: 1hd2dIV5RR_b4APFsHGTsOS0EtLvsRgcZ\n",
      "title: 대한 자설, id: 1TuZjfdF15bX4PU59keFCA_pbnJCbiFF0PB-a4NN3yMg\n",
      "title: 대본6, id: 1XwZcwi7LnZrvWEc5wLeOkOGddtA9v1ivOD3-Na2B3a8\n",
      "title: Q&A 2, id: 13ecrlivgjLcALTNv5D7W_kbUexNVUPgg2DKD9V6BaGY\n",
      "title: Q&A, id: 1Ibaule2-pVmmLkuzWjAP-PE8DYr8PYIAuAr3PJLzpdQ\n",
      "title: 라섹은 각막상피라는 표면부터 도수만큼 레이저로 깎는 수술입니다, id: 1HiV5n0uQ9NfljOGsjGnroszVnmFV7Fphh2GeQA7YyVo\n",
      "title: 대본5, id: 1tWKwk7PbtpthOWZ9WWzVv1KxqXkrOhbFYMSGnDbd2Ko\n",
      "title: 대본 4, id: 11LCUity5xeTGWP8HM4eSn6ukSJe0-50MKqgMeEcx1z8\n",
      "title: 채환선생님 멘트, id: 1QdjwT27dgmuP4YXdvjpktIgwVjblHfJQiY-OrMZQsk8\n",
      "title: 대본, id: 1pFi_qd8wUSeC45VBt5X-PPLRbF_YmhaFXPmBiCRFAF0\n",
      "title: 대본3, id: 1iYeJ1iX-dNlF2ywjPhMe8LmTn4brPli0dw3XzHgqvmA\n",
      "title: 각막강화 IPL MMC 양막 PRP 근시퇴행 원추각막, id: 13VpnVhBVgsNHR8CIk-qND4FgZ43n_LqMve6DEeQU0gs\n",
      "title: 대본2, id: 1tpFNuPWZfQp-irEAwDG1J7pxd7xKm5NFwu5ul4Ac31Q\n",
      "title: 동의서, id: 1CoIpvQL4mgjMnUapSGHB3IRql7nl208E28ipHOEYa0Q\n",
      "title: 안구건조증, id: 1Fu07wA4mvcgSzA57H7gdQaImDHXvCQ9nynDwJv5O2ao\n",
      "title: 라섹라식스마일, id: 1RBqHJL4ya9vPR7KHP2rw0G3LKChuyp-V5HESm4mTKF8\n",
      "title: 힐론 안약, id: 1FKGZzeS38-DRD9DS81tkCUlUUekk8v2ceFo9e6-B0GE\n",
      "title: 2015 해성 옵틱스.hwp, id: 16ycTgxvFlZtC60yFTKsMxOLi1OyVU4xM\n",
      "title: 졸업논문_장순호_최종본.hwp, id: 1QfFPXs_SXlJQbrM6GIWd3r0RAW-TShc8\n",
      "title: 20년 서울의료원 안경사채용.hwp, id: 1fJSY2EK_qA3GjNuI3X0cSRuqaJLRPNGa\n",
      "title: 2014 하반기 SK 자기소개서.hwp, id: 1wmU57rTJWZ6PGEOrA2RymIoP2lJF7fmR\n",
      "title: _학생참가신청서 및 체험수기.hwp, id: 1lmlCLTDrX4kLzg_jPhH8UhDCApe76Uvq\n",
      "title: 2015 하반기 현대모비스.hwp, id: 15Z9vdZyAFXA3BQT-c0HAIQCZNDVTBBHZ\n",
      "title: 2015 하반기 sk하이닉스.hwp, id: 1HoZRFQd2sZ3VAfrt94DQs7vbbe0yzw57\n",
      "title: 현대백화점 자유형식.hwp, id: 13koi9eAvbXERJ5LsId5L3KNDP1H8WB8P\n",
      "title: 중소기업 중앙회 자소서 12.hwp, id: 11E8MX7_8pjmeoBjn-vs2Kl_ArysJa9RV\n",
      "title: 다이소 아성산업 영업직.hwp, id: 1khOqDX4RS2D2DVlBRCjQdHMVWlKfcJIo\n",
      "title: 17 홈플러스 인턴직 지원.hwp, id: 1ukqftF1ik7FhHuJ_46L1aQ-57Sz6xxPQ\n",
      "title: 경력 기술서.hwp, id: 1FQVOaNy4bbjWqWVxMD6AvdFb0-9sXgYh\n",
      "title: 가톨릭 성모안과.hwp, id: 10AvhCwywpbP5XDjwsaIVHRM-p_VcLrVS\n",
      "title: 20년 서울의료원 안경사채용.hwp, id: 1ruQ-RUrtn7xNI4ocUuI-X9QJUZBFt2k-\n",
      "title: 17 홈플러스 인턴직 지원.hwp, id: 1JnCuWcxD3qfRfWYB_9PKDcR777WRQJWm\n"
     ]
    }
   ],
   "source": [
    "# 내 드라이브 루트 폴더에 있는 파일 리스트 출력\n",
    "file_list = drive.ListFile({'q': \"'root' in parents and trashed=false\"}).GetList()\n",
    "\n",
    "for file in file_list:\n",
    "    print(f\"title: {file['title']}, id: {file['id']}\")"
   ]
  },
  {
   "cell_type": "code",
   "execution_count": 10,
   "metadata": {},
   "outputs": [
    {
     "name": "stdout",
     "output_type": "stream",
     "text": [
      "title: 기말과제데이터.xlsx, id: 1iyn0ESMEKYeDLAD41AeoKA7r7VNTrDYF, mimeType: application/vnd.openxmlformats-officedocument.spreadsheetml.sheet\n",
      "title: korea-wine.csv, id: 17htZXpTpvO5rNgG1kdiznFZz__Zbjkbc, mimeType: text/csv\n",
      "title: oil_margin_csv.csv, id: 17OmiSW0j-Lm3n6kcDdsS7TiZJQC2hotU, mimeType: text/csv\n",
      "title: 머신러닝 딥러닝_강의교안 2차 배포본(PDF).pdf, id: 1B5he9aDUnroPr2qiluSmqsO1p8jGLpIr, mimeType: application/pdf\n",
      "title: change_csv.csv, id: 1a0IhQiRPavTeuBfW7lvleoBE42IpyQYk, mimeType: text/csv\n",
      "title: 역량평가_csv, id: 1SSx7ZjFCxTXmtkpNhkx74_v73pRkLr4CK-zSnvxid-M, mimeType: application/vnd.google-apps.spreadsheet\n",
      "title: .DS_Store, id: 1meTGVPIBy79QhPTR7c7M-MDbbXI8HUyY, mimeType: application/octet-stream\n",
      "title: Bim_csv.csv, id: 1CDotMaPYRVvNiUd9z1J_b8h8VnrYJb2-, mimeType: text/csv\n",
      "title: 역량평가_csv.csv, id: 1L6jfp0K9Iepxd9xyMkUM1vjTt1UfFrB4, mimeType: text/csv\n",
      "title: pog1_csv.csv, id: 16Ku6RPNU9oLKWHropTnfG6zxGMCr_HV5, mimeType: text/csv\n",
      "title: 머신러닝 딥러닝_강의교안_1차 배포본(PDF).pdf, id: 1gXVznLULqHtMHGEZKsVXPyEUXbIxJKSm, mimeType: application/pdf\n"
     ]
    }
   ],
   "source": [
    "# 폴더 ID를 기준으로 해당 폴더 안에 있는 파일들 불러오기\n",
    "folder_id = '1g6hgpxgLspPT7NWl7iY-v7ZHY8b_GiGQ'\n",
    "file_list = drive.ListFile({\n",
    "    'q': f\"'{folder_id}' in parents and trashed=false\"\n",
    "}).GetList()\n",
    "\n",
    "# 결과 출력\n",
    "for file in file_list:\n",
    "    print(f\"title: {file['title']}, id: {file['id']}, mimeType: {file['mimeType']}\")\n"
   ]
  },
  {
   "cell_type": "code",
   "execution_count": 12,
   "metadata": {},
   "outputs": [],
   "source": [
    "# 파일 ID 및 파일명 지정\n",
    "file_id = '1iyn0ESMEKYeDLAD41AeoKA7r7VNTrDYF'\n",
    "file_name = '기말과제데이터.xlsx'\n",
    "\n",
    "# 파일 객체 생성 후 다운로드\n",
    "file = drive.CreateFile({'id': file_id})\n",
    "file.GetContentFile(file_name)\n",
    "\n",
    "# pandas로 엑셀 파일 읽기\n",
    "df = pd.read_excel(file_name)"
   ]
  },
  {
   "cell_type": "code",
   "execution_count": 14,
   "metadata": {},
   "outputs": [
    {
     "name": "stdout",
     "output_type": "stream",
     "text": [
      "<class 'pandas.core.frame.DataFrame'>\n",
      "RangeIndex: 21000 entries, 0 to 20999\n",
      "Data columns (total 12 columns):\n",
      " #   Column            Non-Null Count  Dtype  \n",
      "---  ------            --------------  -----  \n",
      " 0   fixed acidity     21000 non-null  float64\n",
      " 1   carbinic acidity  21000 non-null  float64\n",
      " 2   citric acid       21000 non-null  float64\n",
      " 3   brix              21000 non-null  float64\n",
      " 4   chlorides         21000 non-null  float64\n",
      " 5   chloride          21000 non-null  float64\n",
      " 6   total chloride    21000 non-null  float64\n",
      " 7   density           21000 non-null  float64\n",
      " 8   pH                21000 non-null  float64\n",
      " 9   sulfate           21000 non-null  float64\n",
      " 10  alcohol           21000 non-null  float64\n",
      " 11  quality           21000 non-null  int64  \n",
      "dtypes: float64(11), int64(1)\n",
      "memory usage: 1.9 MB\n"
     ]
    }
   ],
   "source": [
    "df.info()"
   ]
  },
  {
   "cell_type": "code",
   "execution_count": 16,
   "metadata": {},
   "outputs": [],
   "source": [
    "import seaborn as sns\n",
    "import matplotlib.pyplot as plt\n",
    "%matplotlib inline"
   ]
  },
  {
   "cell_type": "code",
   "execution_count": 19,
   "metadata": {},
   "outputs": [
    {
     "data": {
      "text/plain": [
       "Text(0.5, 1.0, 'Corelation Heatmap')"
      ]
     },
     "execution_count": 19,
     "metadata": {},
     "output_type": "execute_result"
    },
    {
     "data": {
      "image/png": "[encoded data removed]",
      "text/plain": [
       "<Figure size 1000x800 with 2 Axes>"
      ]
     },
     "metadata": {},
     "output_type": "display_data"
    }
   ],
   "source": [
    "plt.figure(figsize=(10,8))\n",
    "sns.heatmap(df.corr(), annot=True, cmap='coolwarm', fmt='.2f')\n",
    "plt.title(\"Corelation Heatmap\")\n"
   ]
  },
  {
   "cell_type": "code",
   "execution_count": 21,
   "metadata": {},
   "outputs": [
    {
     "data": {
      "text/plain": [
       "target\n",
       "0    15000\n",
       "1     6000\n",
       "Name: count, dtype: int64"
      ]
     },
     "execution_count": 21,
     "metadata": {},
     "output_type": "execute_result"
    }
   ],
   "source": [
    "df['target'] = (df['quality'] >= 8).astype(int)\n",
    "df['target'].value_counts()"
   ]
  },
  {
   "cell_type": "code",
   "execution_count": 23,
   "metadata": {},
   "outputs": [
    {
     "name": "stdout",
     "output_type": "stream",
     "text": [
      "(16800, 11) (4200,)\n",
      "(4200, 11) (4200,)\n"
     ]
    }
   ],
   "source": [
    "from sklearn.model_selection import train_test_split, GridSearchCV\n",
    "X = df.drop(['target','quality'],axis=1)\n",
    "y = df['target']\n",
    "\n",
    "X_train, X_test, y_train, y_test = train_test_split(X,y, test_size=0.2,random_state=45)\n",
    "\n",
    "print(X_train.shape, y_test.shape)\n",
    "print(X_test.shape, y_test.shape)"
   ]
  },
  {
   "cell_type": "code",
   "execution_count": 24,
   "metadata": {},
   "outputs": [],
   "source": [
    "new_sample = pd.DataFrame([[\n",
    "    7.8, 0.965, 0.60, 65.8, 0.074, 8.0, 160.0, 1.03898, 3.39, 0.69, 11.7\n",
    "]], columns=[\n",
    "    'fixed acidity', 'carbinic acidity', 'citric acid', 'brix',\n",
    "    'chlorides', 'chloride', 'total chloride', 'density',\n",
    "    'pH', 'sulfate', 'alcohol'\n",
    "])"
   ]
  },
  {
   "cell_type": "code",
   "execution_count": 25,
   "metadata": {},
   "outputs": [],
   "source": [
    "from sklearn.preprocessing import StandardScaler\n",
    "\n",
    "# 스케일러 생성 및 학습\n",
    "scaler = StandardScaler()\n",
    "X_train = scaler.fit_transform(X_train)\n",
    "X_test = scaler.transform(X_test)\n",
    "\n",
    "new_sample_scaled = scaler.transform(new_sample)\n",
    "\n",
    "X_train = pd.DataFrame(X_train, columns=X.columns)\n",
    "X_test = pd.DataFrame(X_test, columns=X.columns)"
   ]
  },
  {
   "cell_type": "code",
   "execution_count": 26,
   "metadata": {},
   "outputs": [
    {
     "data": {
      "text/html": [
       "<div>\n",
       "<style scoped>\n",
       "    .dataframe tbody tr th:only-of-type {\n",
       "        vertical-align: middle;\n",
       "    }\n",
       "\n",
       "    .dataframe tbody tr th {\n",
       "        vertical-align: top;\n",
       "    }\n",
       "\n",
       "    .dataframe thead th {\n",
       "        text-align: right;\n",
       "    }\n",
       "</style>\n",
       "<table border=\"1\" class=\"dataframe\">\n",
       "  <thead>\n",
       "    <tr style=\"text-align: right;\">\n",
       "      <th></th>\n",
       "      <th>fixed acidity</th>\n",
       "      <th>carbinic acidity</th>\n",
       "      <th>citric acid</th>\n",
       "      <th>brix</th>\n",
       "      <th>chlorides</th>\n",
       "      <th>chloride</th>\n",
       "      <th>total chloride</th>\n",
       "      <th>density</th>\n",
       "      <th>pH</th>\n",
       "      <th>sulfate</th>\n",
       "      <th>alcohol</th>\n",
       "    </tr>\n",
       "  </thead>\n",
       "  <tbody>\n",
       "    <tr>\n",
       "      <th>0</th>\n",
       "      <td>1.663519</td>\n",
       "      <td>1.526115</td>\n",
       "      <td>1.029684</td>\n",
       "      <td>0.172406</td>\n",
       "      <td>-0.195555</td>\n",
       "      <td>0.824102</td>\n",
       "      <td>0.330899</td>\n",
       "      <td>1.584536</td>\n",
       "      <td>-1.041216</td>\n",
       "      <td>0.246220</td>\n",
       "      <td>0.513258</td>\n",
       "    </tr>\n",
       "    <tr>\n",
       "      <th>1</th>\n",
       "      <td>-1.237116</td>\n",
       "      <td>-1.295674</td>\n",
       "      <td>-1.383555</td>\n",
       "      <td>-0.573532</td>\n",
       "      <td>-1.300625</td>\n",
       "      <td>-1.089669</td>\n",
       "      <td>-0.785388</td>\n",
       "      <td>-1.050058</td>\n",
       "      <td>-0.689575</td>\n",
       "      <td>-1.562429</td>\n",
       "      <td>0.850681</td>\n",
       "    </tr>\n",
       "    <tr>\n",
       "      <th>2</th>\n",
       "      <td>-0.864177</td>\n",
       "      <td>0.430275</td>\n",
       "      <td>1.418916</td>\n",
       "      <td>-0.116514</td>\n",
       "      <td>0.733344</td>\n",
       "      <td>0.594760</td>\n",
       "      <td>-0.122000</td>\n",
       "      <td>0.224933</td>\n",
       "      <td>0.130920</td>\n",
       "      <td>1.101663</td>\n",
       "      <td>1.441170</td>\n",
       "    </tr>\n",
       "    <tr>\n",
       "      <th>3</th>\n",
       "      <td>0.586140</td>\n",
       "      <td>1.745284</td>\n",
       "      <td>-0.215859</td>\n",
       "      <td>0.287974</td>\n",
       "      <td>-0.131493</td>\n",
       "      <td>0.932942</td>\n",
       "      <td>-0.072122</td>\n",
       "      <td>1.180554</td>\n",
       "      <td>-1.510071</td>\n",
       "      <td>1.077222</td>\n",
       "      <td>1.019392</td>\n",
       "    </tr>\n",
       "    <tr>\n",
       "      <th>4</th>\n",
       "      <td>1.332018</td>\n",
       "      <td>0.430275</td>\n",
       "      <td>0.458810</td>\n",
       "      <td>0.072598</td>\n",
       "      <td>1.870445</td>\n",
       "      <td>1.242617</td>\n",
       "      <td>1.142924</td>\n",
       "      <td>1.379642</td>\n",
       "      <td>0.423954</td>\n",
       "      <td>1.223869</td>\n",
       "      <td>-0.161587</td>\n",
       "    </tr>\n",
       "  </tbody>\n",
       "</table>\n",
       "</div>"
      ],
      "text/plain": [
       "   fixed acidity  carbinic acidity  citric acid      brix  chlorides  \\\n",
       "0       1.663519          1.526115     1.029684  0.172406  -0.195555   \n",
       "1      -1.237116         -1.295674    -1.383555 -0.573532  -1.300625   \n",
       "2      -0.864177          0.430275     1.418916 -0.116514   0.733344   \n",
       "3       0.586140          1.745284    -0.215859  0.287974  -0.131493   \n",
       "4       1.332018          0.430275     0.458810  0.072598   1.870445   \n",
       "\n",
       "   chloride  total chloride   density        pH   sulfate   alcohol  \n",
       "0  0.824102        0.330899  1.584536 -1.041216  0.246220  0.513258  \n",
       "1 -1.089669       -0.785388 -1.050058 -0.689575 -1.562429  0.850681  \n",
       "2  0.594760       -0.122000  0.224933  0.130920  1.101663  1.441170  \n",
       "3  0.932942       -0.072122  1.180554 -1.510071  1.077222  1.019392  \n",
       "4  1.242617        1.142924  1.379642  0.423954  1.223869 -0.161587  "
      ]
     },
     "metadata": {},
     "output_type": "display_data"
    },
    {
     "data": {
      "text/html": [
       "<div>\n",
       "<style scoped>\n",
       "    .dataframe tbody tr th:only-of-type {\n",
       "        vertical-align: middle;\n",
       "    }\n",
       "\n",
       "    .dataframe tbody tr th {\n",
       "        vertical-align: top;\n",
       "    }\n",
       "\n",
       "    .dataframe thead th {\n",
       "        text-align: right;\n",
       "    }\n",
       "</style>\n",
       "<table border=\"1\" class=\"dataframe\">\n",
       "  <thead>\n",
       "    <tr style=\"text-align: right;\">\n",
       "      <th></th>\n",
       "      <th>fixed acidity</th>\n",
       "      <th>carbinic acidity</th>\n",
       "      <th>citric acid</th>\n",
       "      <th>brix</th>\n",
       "      <th>chlorides</th>\n",
       "      <th>chloride</th>\n",
       "      <th>total chloride</th>\n",
       "      <th>density</th>\n",
       "      <th>pH</th>\n",
       "      <th>sulfate</th>\n",
       "      <th>alcohol</th>\n",
       "    </tr>\n",
       "  </thead>\n",
       "  <tbody>\n",
       "    <tr>\n",
       "      <th>0</th>\n",
       "      <td>-0.615551</td>\n",
       "      <td>1.772680</td>\n",
       "      <td>0.666401</td>\n",
       "      <td>0.702969</td>\n",
       "      <td>-0.307664</td>\n",
       "      <td>0.690643</td>\n",
       "      <td>0.643139</td>\n",
       "      <td>-0.113516</td>\n",
       "      <td>0.423954</td>\n",
       "      <td>0.808368</td>\n",
       "      <td>-0.583365</td>\n",
       "    </tr>\n",
       "    <tr>\n",
       "      <th>1</th>\n",
       "      <td>-0.698426</td>\n",
       "      <td>1.032987</td>\n",
       "      <td>0.536657</td>\n",
       "      <td>0.650438</td>\n",
       "      <td>1.005608</td>\n",
       "      <td>0.917393</td>\n",
       "      <td>1.553925</td>\n",
       "      <td>0.565041</td>\n",
       "      <td>-1.275643</td>\n",
       "      <td>1.517164</td>\n",
       "      <td>1.272459</td>\n",
       "    </tr>\n",
       "    <tr>\n",
       "      <th>2</th>\n",
       "      <td>-1.112803</td>\n",
       "      <td>-0.336814</td>\n",
       "      <td>0.355015</td>\n",
       "      <td>0.792271</td>\n",
       "      <td>-0.692036</td>\n",
       "      <td>-0.198217</td>\n",
       "      <td>0.232139</td>\n",
       "      <td>-0.208913</td>\n",
       "      <td>1.244449</td>\n",
       "      <td>0.515074</td>\n",
       "      <td>0.260191</td>\n",
       "    </tr>\n",
       "    <tr>\n",
       "      <th>3</th>\n",
       "      <td>-0.201175</td>\n",
       "      <td>-0.364210</td>\n",
       "      <td>0.173374</td>\n",
       "      <td>0.540123</td>\n",
       "      <td>1.349941</td>\n",
       "      <td>0.242326</td>\n",
       "      <td>1.446187</td>\n",
       "      <td>0.935012</td>\n",
       "      <td>-0.806789</td>\n",
       "      <td>0.686162</td>\n",
       "      <td>1.188103</td>\n",
       "    </tr>\n",
       "    <tr>\n",
       "      <th>4</th>\n",
       "      <td>-1.154240</td>\n",
       "      <td>-1.460050</td>\n",
       "      <td>-1.435453</td>\n",
       "      <td>-1.545354</td>\n",
       "      <td>-1.220547</td>\n",
       "      <td>-1.296983</td>\n",
       "      <td>-1.373957</td>\n",
       "      <td>-1.444916</td>\n",
       "      <td>0.834202</td>\n",
       "      <td>-1.440223</td>\n",
       "      <td>-1.173854</td>\n",
       "    </tr>\n",
       "  </tbody>\n",
       "</table>\n",
       "</div>"
      ],
      "text/plain": [
       "   fixed acidity  carbinic acidity  citric acid      brix  chlorides  \\\n",
       "0      -0.615551          1.772680     0.666401  0.702969  -0.307664   \n",
       "1      -0.698426          1.032987     0.536657  0.650438   1.005608   \n",
       "2      -1.112803         -0.336814     0.355015  0.792271  -0.692036   \n",
       "3      -0.201175         -0.364210     0.173374  0.540123   1.349941   \n",
       "4      -1.154240         -1.460050    -1.435453 -1.545354  -1.220547   \n",
       "\n",
       "   chloride  total chloride   density        pH   sulfate   alcohol  \n",
       "0  0.690643        0.643139 -0.113516  0.423954  0.808368 -0.583365  \n",
       "1  0.917393        1.553925  0.565041 -1.275643  1.517164  1.272459  \n",
       "2 -0.198217        0.232139 -0.208913  1.244449  0.515074  0.260191  \n",
       "3  0.242326        1.446187  0.935012 -0.806789  0.686162  1.188103  \n",
       "4 -1.296983       -1.373957 -1.444916  0.834202 -1.440223 -1.173854  "
      ]
     },
     "metadata": {},
     "output_type": "display_data"
    }
   ],
   "source": [
    "display(X_train.head())\n",
    "display(X_test.head())"
   ]
  },
  {
   "cell_type": "code",
   "execution_count": 27,
   "metadata": {},
   "outputs": [
    {
     "name": "stdout",
     "output_type": "stream",
     "text": [
      "Training Accuracy    : 70.97\n",
      "Model Accuracy Score : 69.69\n",
      "              precision    recall  f1-score   support\n",
      "\n",
      "           0       0.71      0.96      0.82      2954\n",
      "           1       0.43      0.06      0.11      1246\n",
      "\n",
      "    accuracy                           0.70      4200\n",
      "   macro avg       0.57      0.51      0.46      4200\n",
      "weighted avg       0.62      0.70      0.61      4200\n",
      "\n"
     ]
    }
   ],
   "source": [
    "from sklearn.metrics import accuracy_score,classification_report, confusion_matrix\n",
    "\n",
    "# Logistic Regression\n",
    "from sklearn.linear_model import LogisticRegression\n",
    "logreg = LogisticRegression()\n",
    "logreg.fit(X_train, y_train)\n",
    "Y_pred = logreg.predict(X_test)\n",
    "\n",
    "log_train = round(logreg.score(X_train, y_train) * 100, 2)\n",
    "log_accuracy = round(accuracy_score(Y_pred, y_test) * 100, 2)\n",
    "\n",
    "print(\"Training Accuracy    :\",log_train)\n",
    "print(\"Model Accuracy Score :\",log_accuracy)\n",
    "print(classification_report(y_test, Y_pred))"
   ]
  },
  {
   "cell_type": "code",
   "execution_count": 28,
   "metadata": {},
   "outputs": [
    {
     "name": "stdout",
     "output_type": "stream",
     "text": [
      "Training Accuracy     : 88.8\n",
      "Model Accuracy Score  : 76.1\n",
      "              precision    recall  f1-score   support\n",
      "\n",
      "           0       0.82      0.85      0.83      2954\n",
      "           1       0.61      0.56      0.58      1246\n",
      "\n",
      "    accuracy                           0.76      4200\n",
      "   macro avg       0.71      0.70      0.71      4200\n",
      "weighted avg       0.76      0.76      0.76      4200\n",
      "\n"
     ]
    }
   ],
   "source": [
    "from sklearn.neighbors import KNeighborsClassifier\n",
    "knn = KNeighborsClassifier(n_neighbors = 3)\n",
    "knn.fit(X_train, y_train)\n",
    "Y_pred = knn.predict(X_test)\n",
    "\n",
    "knn_train = round(knn.score(X_train, y_train) * 100, 2)\n",
    "knn_accuracy = round(accuracy_score(Y_pred, y_test) * 100, 2)\n",
    "\n",
    "print(\"Training Accuracy     :\",knn_train)\n",
    "print(\"Model Accuracy Score  :\",knn_accuracy)\n",
    "print(classification_report(y_test, Y_pred))"
   ]
  },
  {
   "cell_type": "code",
   "execution_count": 29,
   "metadata": {},
   "outputs": [
    {
     "name": "stdout",
     "output_type": "stream",
     "text": [
      "Training Accuracy     : 71.7\n",
      "Model Accuracy Score  : 70.33\n",
      "              precision    recall  f1-score   support\n",
      "\n",
      "           0       0.70      1.00      0.83      2954\n",
      "           1       0.00      0.00      0.00      1246\n",
      "\n",
      "    accuracy                           0.70      4200\n",
      "   macro avg       0.35      0.50      0.41      4200\n",
      "weighted avg       0.49      0.70      0.58      4200\n",
      "\n"
     ]
    },
    {
     "name": "stderr",
     "output_type": "stream",
     "text": [
      "/opt/anaconda3/envs/test/lib/python3.10/site-packages/sklearn/metrics/_classification.py:1565: UndefinedMetricWarning: Precision is ill-defined and being set to 0.0 in labels with no predicted samples. Use `zero_division` parameter to control this behavior.\n",
      "  _warn_prf(average, modifier, f\"{metric.capitalize()} is\", len(result))\n",
      "/opt/anaconda3/envs/test/lib/python3.10/site-packages/sklearn/metrics/_classification.py:1565: UndefinedMetricWarning: Precision is ill-defined and being set to 0.0 in labels with no predicted samples. Use `zero_division` parameter to control this behavior.\n",
      "  _warn_prf(average, modifier, f\"{metric.capitalize()} is\", len(result))\n",
      "/opt/anaconda3/envs/test/lib/python3.10/site-packages/sklearn/metrics/_classification.py:1565: UndefinedMetricWarning: Precision is ill-defined and being set to 0.0 in labels with no predicted samples. Use `zero_division` parameter to control this behavior.\n",
      "  _warn_prf(average, modifier, f\"{metric.capitalize()} is\", len(result))\n"
     ]
    }
   ],
   "source": [
    "from sklearn.linear_model import SGDClassifier\n",
    "sgd = SGDClassifier()\n",
    "sgd.fit(X_train, y_train)\n",
    "Y_pred = sgd.predict(X_test)\n",
    "\n",
    "sgd_train = round(sgd.score(X_train, y_train) * 100, 2)\n",
    "sgd_accuracy = round(accuracy_score(Y_pred, y_test) * 100, 2)\n",
    "\n",
    "print(\"Training Accuracy     :\",sgd_train)\n",
    "print(\"Model Accuracy Score  :\",sgd_accuracy)\n",
    "print(classification_report(y_test, Y_pred))"
   ]
  },
  {
   "cell_type": "code",
   "execution_count": 30,
   "metadata": {},
   "outputs": [
    {
     "name": "stdout",
     "output_type": "stream",
     "text": [
      "Training Accuracy     : 71.72\n",
      "Model Accuracy Score  : 70.33\n",
      "              precision    recall  f1-score   support\n",
      "\n",
      "           0       0.70      1.00      0.83      2954\n",
      "           1       0.00      0.00      0.00      1246\n",
      "\n",
      "    accuracy                           0.70      4200\n",
      "   macro avg       0.35      0.50      0.41      4200\n",
      "weighted avg       0.49      0.70      0.58      4200\n",
      "\n"
     ]
    },
    {
     "name": "stderr",
     "output_type": "stream",
     "text": [
      "/opt/anaconda3/envs/test/lib/python3.10/site-packages/sklearn/metrics/_classification.py:1565: UndefinedMetricWarning: Precision is ill-defined and being set to 0.0 in labels with no predicted samples. Use `zero_division` parameter to control this behavior.\n",
      "  _warn_prf(average, modifier, f\"{metric.capitalize()} is\", len(result))\n",
      "/opt/anaconda3/envs/test/lib/python3.10/site-packages/sklearn/metrics/_classification.py:1565: UndefinedMetricWarning: Precision is ill-defined and being set to 0.0 in labels with no predicted samples. Use `zero_division` parameter to control this behavior.\n",
      "  _warn_prf(average, modifier, f\"{metric.capitalize()} is\", len(result))\n",
      "/opt/anaconda3/envs/test/lib/python3.10/site-packages/sklearn/metrics/_classification.py:1565: UndefinedMetricWarning: Precision is ill-defined and being set to 0.0 in labels with no predicted samples. Use `zero_division` parameter to control this behavior.\n",
      "  _warn_prf(average, modifier, f\"{metric.capitalize()} is\", len(result))\n"
     ]
    }
   ],
   "source": [
    "from sklearn.svm import SVC\n",
    "svc = SVC(kernel='rbf', probability=True, random_state=45)\n",
    "svc.fit(X_train, y_train)\n",
    "Y_pred = svc.predict(X_test)\n",
    "\n",
    "svc_rbf_train = round(svc.score(X_train, y_train) * 100, 2)\n",
    "svc_rbf_accuracy = round(accuracy_score(Y_pred, y_test) * 100, 2)\n",
    "\n",
    "print(\"Training Accuracy     :\",svc_rbf_train)\n",
    "print(\"Model Accuracy Score  :\",svc_rbf_accuracy)\n",
    "print(classification_report(y_test, Y_pred))"
   ]
  },
  {
   "cell_type": "code",
   "execution_count": 31,
   "metadata": {},
   "outputs": [
    {
     "name": "stdout",
     "output_type": "stream",
     "text": [
      "Fitting 3 folds for each of 4 candidates, totalling 12 fits\n",
      "Best Parameters: {'C': 1, 'gamma': 1}\n",
      "Best Score: 0.7980357142857143\n"
     ]
    }
   ],
   "source": [
    "param_grid = {'C': [0.1, 1], 'gamma': [1, 0.1]}\n",
    "\n",
    "# 동일한 파라미터 그리드로 테스트\n",
    "grid_search = GridSearchCV(svc, param_grid, cv=3, verbose=1, n_jobs=1)\n",
    "grid_search.fit(X_train, y_train)\n",
    "\n",
    "print(\"Best Parameters:\", grid_search.best_params_)\n",
    "print(\"Best Score:\", grid_search.best_score_)"
   ]
  },
  {
   "cell_type": "code",
   "execution_count": 32,
   "metadata": {},
   "outputs": [
    {
     "name": "stdout",
     "output_type": "stream",
     "text": [
      "Training Accuracy     : 95.95\n",
      "Model Accuracy Score  : 82.57\n",
      "              precision    recall  f1-score   support\n",
      "\n",
      "           0       0.84      0.94      0.88      2954\n",
      "           1       0.79      0.56      0.66      1246\n",
      "\n",
      "    accuracy                           0.83      4200\n",
      "   macro avg       0.81      0.75      0.77      4200\n",
      "weighted avg       0.82      0.83      0.82      4200\n",
      "\n"
     ]
    }
   ],
   "source": [
    "best_svm_model = grid_search.best_estimator_\n",
    "y_pred_tuned = best_svm_model.predict(X_test)\n",
    "\n",
    "svc_rbf_pr_train = round(best_svm_model.score(X_train, y_train) * 100, 2)\n",
    "svc_rbf_pr_accuracy = round(accuracy_score(y_pred_tuned, y_test) * 100, 2)\n",
    "\n",
    "print(\"Training Accuracy     :\",svc_rbf_pr_train)\n",
    "print(\"Model Accuracy Score  :\",svc_rbf_pr_accuracy)\n",
    "print(classification_report(y_test, y_pred_tuned))"
   ]
  },
  {
   "cell_type": "code",
   "execution_count": 33,
   "metadata": {},
   "outputs": [
    {
     "name": "stdout",
     "output_type": "stream",
     "text": [
      "Training Accuracy    : 71.45\n",
      "Model Accuracy Score : 70.24\n",
      "              precision    recall  f1-score   support\n",
      "\n",
      "           0       0.70      1.00      0.82      2954\n",
      "           1       0.42      0.01      0.02      1246\n",
      "\n",
      "    accuracy                           0.70      4200\n",
      "   macro avg       0.56      0.50      0.42      4200\n",
      "weighted avg       0.62      0.70      0.58      4200\n",
      "\n"
     ]
    }
   ],
   "source": [
    "from sklearn.svm import LinearSVC\n",
    "linear_svc = LinearSVC()\n",
    "linear_svc.fit(X_train, y_train)\n",
    "Y_pred = linear_svc.predict(X_test)\n",
    "\n",
    "linear_svc_train = round(linear_svc.score(X_train, y_train) * 100, 2)\n",
    "linear_svc_accuracy = round(accuracy_score(Y_pred, y_test) * 100, 2)\n",
    "\n",
    "print(\"Training Accuracy    :\",linear_svc_train)\n",
    "print(\"Model Accuracy Score :\",linear_svc_accuracy)\n",
    "print(classification_report(y_test, Y_pred))"
   ]
  },
  {
   "cell_type": "code",
   "execution_count": 34,
   "metadata": {},
   "outputs": [
    {
     "name": "stdout",
     "output_type": "stream",
     "text": [
      "Training Accuracy     : 100.0\n",
      "Model Accuracy Score  : 83.62\n",
      "              precision    recall  f1-score   support\n",
      "\n",
      "           0       0.89      0.88      0.88      2954\n",
      "           1       0.72      0.73      0.73      1246\n",
      "\n",
      "    accuracy                           0.84      4200\n",
      "   macro avg       0.80      0.81      0.80      4200\n",
      "weighted avg       0.84      0.84      0.84      4200\n",
      "\n"
     ]
    }
   ],
   "source": [
    "from sklearn.tree import DecisionTreeClassifier\n",
    "decision = DecisionTreeClassifier()\n",
    "decision.fit(X_train, y_train)\n",
    "Y_pred = decision.predict(X_test)\n",
    "\n",
    "decision_train = round(decision.score(X_train, y_train) * 100, 2)\n",
    "decision_accuracy = round(accuracy_score(Y_pred, y_test) * 100, 2)\n",
    "\n",
    "print(\"Training Accuracy     :\",decision_train)\n",
    "print(\"Model Accuracy Score  :\",decision_accuracy)\n",
    "print(classification_report(y_test, Y_pred))"
   ]
  },
  {
   "cell_type": "code",
   "execution_count": 35,
   "metadata": {},
   "outputs": [
    {
     "name": "stdout",
     "output_type": "stream",
     "text": [
      "Training Accuracy     : 100.0\n",
      "Model Accuracy Score  : 86.14\n",
      "              precision    recall  f1-score   support\n",
      "\n",
      "           0       0.85      0.97      0.91      2954\n",
      "           1       0.90      0.60      0.72      1246\n",
      "\n",
      "    accuracy                           0.86      4200\n",
      "   macro avg       0.87      0.79      0.81      4200\n",
      "weighted avg       0.87      0.86      0.85      4200\n",
      "\n"
     ]
    }
   ],
   "source": [
    "from sklearn.ensemble import RandomForestClassifier\n",
    "random_forest = RandomForestClassifier(n_estimators=100)\n",
    "random_forest.fit(X_train, y_train)\n",
    "Y_pred = random_forest.predict(X_test)\n",
    "random_forest.score(X_train, y_train)\n",
    "\n",
    "random_forest_train = round(random_forest.score(X_train, y_train) * 100, 2)\n",
    "random_forest_accuracy = round(accuracy_score(Y_pred, y_test) * 100, 2)\n",
    "\n",
    "print(\"Training Accuracy     :\",random_forest_train)\n",
    "print(\"Model Accuracy Score  :\",random_forest_accuracy)\n",
    "print(classification_report(y_test, Y_pred))"
   ]
  },
  {
   "cell_type": "code",
   "execution_count": 36,
   "metadata": {},
   "outputs": [
    {
     "name": "stdout",
     "output_type": "stream",
     "text": [
      "Fitting 3 folds for each of 8 candidates, totalling 24 fits\n",
      "Tuned Random Forest Accuracy: 0.8673809523809524\n",
      "Best Parameters: {'bootstrap': True, 'class_weight': 'balanced', 'max_depth': None, 'max_features': 'sqrt', 'min_samples_leaf': 1, 'min_samples_split': 2, 'n_estimators': 100}\n"
     ]
    }
   ],
   "source": [
    "param_grid = {\n",
    "    'n_estimators': [100],\n",
    "    'max_depth': [None, 20],                   # 제한 없음 vs 깊이 제한 비교\n",
    "    'min_samples_split': [2, 5],               # 기본값과 소폭 조정만 비교\n",
    "    'min_samples_leaf': [1, 2],                # 과적합 방지에 민감한 값만\n",
    "    'max_features': ['sqrt'],                  # 실무에서 자주 쓰이고 성능 우수\n",
    "    'bootstrap': [True],                       # False는 매우 느리고 일반적이지 않음\n",
    "    'class_weight': ['balanced']               # 클래스 불균형 대비 기본 적용\n",
    "}\n",
    "\n",
    "rf = RandomForestClassifier(random_state=45)\n",
    "grid = GridSearchCV(rf, param_grid, cv=3, scoring='accuracy', n_jobs=-1, verbose=1)\n",
    "grid.fit(X_train, y_train)\n",
    "\n",
    "best_rf_model = grid.best_estimator_\n",
    "pred_rf = best_rf_model.predict(X_test)\n",
    "\n",
    "print(\"Tuned Random Forest Accuracy:\", accuracy_score(y_test, pred_rf))\n",
    "print(\"Best Parameters:\", grid.best_params_)\n"
   ]
  },
  {
   "cell_type": "code",
   "execution_count": 37,
   "metadata": {},
   "outputs": [
    {
     "name": "stdout",
     "output_type": "stream",
     "text": [
      "Training Accuracy     : 100.0\n",
      "Model Accuracy Score  : 86.74\n",
      "              precision    recall  f1-score   support\n",
      "\n",
      "           0       0.85      0.98      0.91      2954\n",
      "           1       0.94      0.59      0.73      1246\n",
      "\n",
      "    accuracy                           0.87      4200\n",
      "   macro avg       0.90      0.79      0.82      4200\n",
      "weighted avg       0.88      0.87      0.86      4200\n",
      "\n"
     ]
    }
   ],
   "source": [
    "best_rf_model = grid.best_estimator_\n",
    "pred_rf = best_rf_model.predict(X_test)\n",
    "\n",
    "random_forest_pr_train = round(best_rf_model.score(X_train, y_train) * 100, 2)\n",
    "random_forest_pr_accuracy = round(accuracy_score(pred_rf, y_test) * 100, 2)\n",
    "\n",
    "print(\"Training Accuracy     :\",random_forest_pr_train)\n",
    "print(\"Model Accuracy Score  :\",random_forest_pr_accuracy)\n",
    "print(classification_report(y_test, pred_rf))"
   ]
  },
  {
   "cell_type": "code",
   "execution_count": 38,
   "metadata": {},
   "outputs": [
    {
     "name": "stdout",
     "output_type": "stream",
     "text": [
      "Training Accuracy     : 100.0\n",
      "Model Accuracy Score  : 86.55\n",
      "              precision    recall  f1-score   support\n",
      "\n",
      "           0       0.85      0.98      0.91      2954\n",
      "           1       0.94      0.59      0.72      1246\n",
      "\n",
      "    accuracy                           0.87      4200\n",
      "   macro avg       0.89      0.78      0.82      4200\n",
      "weighted avg       0.88      0.87      0.85      4200\n",
      "\n"
     ]
    }
   ],
   "source": [
    "from sklearn.ensemble import ExtraTreesClassifier\n",
    "extra_trees = ExtraTreesClassifier(n_estimators=100)\n",
    "extra_trees.fit(X_train, y_train)\n",
    "Y_pred = extra_trees.predict(X_test)\n",
    "extra_trees.score(X_train, y_train)\n",
    "\n",
    "extra_trees_train = round(extra_trees.score(X_train, y_train) * 100, 2)\n",
    "extra_trees_accuracy = round(accuracy_score(Y_pred, y_test) * 100, 2)\n",
    "\n",
    "print(\"Training Accuracy     :\",extra_trees_train)\n",
    "print(\"Model Accuracy Score  :\",extra_trees_accuracy)\n",
    "print(classification_report(y_test, Y_pred))"
   ]
  },
  {
   "cell_type": "code",
   "execution_count": 39,
   "metadata": {},
   "outputs": [
    {
     "name": "stdout",
     "output_type": "stream",
     "text": [
      "Training Accuracy     : 73.49\n",
      "Model Accuracy Score  : 71.26\n",
      "              precision    recall  f1-score   support\n",
      "\n",
      "           0       0.71      0.99      0.83      2954\n",
      "           1       0.69      0.06      0.11      1246\n",
      "\n",
      "    accuracy                           0.71      4200\n",
      "   macro avg       0.70      0.52      0.47      4200\n",
      "weighted avg       0.71      0.71      0.61      4200\n",
      "\n"
     ]
    }
   ],
   "source": [
    "from sklearn.ensemble import GradientBoostingClassifier\n",
    "gd_boosting = GradientBoostingClassifier(n_estimators=100)\n",
    "gd_boosting.fit(X_train, y_train)\n",
    "Y_pred = gd_boosting.predict(X_test)\n",
    "\n",
    "gd_boosting_train = round(gd_boosting.score(X_train, y_train) * 100, 2)\n",
    "gd_boosting_accuracy = round(accuracy_score(Y_pred, y_test) * 100, 2)\n",
    "\n",
    "print(\"Training Accuracy     :\",gd_boosting_train)\n",
    "print(\"Model Accuracy Score  :\",gd_boosting_accuracy)\n",
    "print(classification_report(y_test, Y_pred))"
   ]
  },
  {
   "cell_type": "code",
   "execution_count": 40,
   "metadata": {},
   "outputs": [
    {
     "name": "stdout",
     "output_type": "stream",
     "text": [
      "Training Accuracy     : 83.85\n",
      "Model Accuracy Score  : 75.69\n",
      "              precision    recall  f1-score   support\n",
      "\n",
      "           0       0.76      0.96      0.85      2954\n",
      "           1       0.75      0.27      0.40      1246\n",
      "\n",
      "    accuracy                           0.76      4200\n",
      "   macro avg       0.76      0.62      0.62      4200\n",
      "weighted avg       0.76      0.76      0.71      4200\n",
      "\n"
     ]
    }
   ],
   "source": [
    "from sklearn.ensemble import HistGradientBoostingClassifier\n",
    "hist_gradient = HistGradientBoostingClassifier(max_iter=100)\n",
    "hist_gradient.fit(X_train, y_train)\n",
    "Y_pred = hist_gradient.predict(X_test)\n",
    "\n",
    "hist_gradient_train = round(hist_gradient.score(X_train, y_train) * 100, 2)\n",
    "hist_gradient_accuracy = round(accuracy_score(Y_pred, y_test) * 100, 2)\n",
    "\n",
    "print(\"Training Accuracy     :\",hist_gradient_train)\n",
    "print(\"Model Accuracy Score  :\",hist_gradient_accuracy)\n",
    "print(classification_report(y_test, Y_pred))"
   ]
  },
  {
   "cell_type": "code",
   "execution_count": 43,
   "metadata": {},
   "outputs": [
    {
     "name": "stdout",
     "output_type": "stream",
     "text": [
      "Training Accuracy     : 94.75\n",
      "Model Accuracy Score  : 81.0\n",
      "              precision    recall  f1-score   support\n",
      "\n",
      "           0       0.83      0.92      0.87      2954\n",
      "           1       0.75      0.54      0.63      1246\n",
      "\n",
      "    accuracy                           0.81      4200\n",
      "   macro avg       0.79      0.73      0.75      4200\n",
      "weighted avg       0.80      0.81      0.80      4200\n",
      "\n"
     ]
    }
   ],
   "source": [
    "import xgboost as Xgb\n",
    "xgb = Xgb.XGBClassifier()\n",
    "xgb.fit(X_train,y_train)\n",
    "Y_pred = xgb.predict(X_test)\n",
    "xgb.score(X_train, y_train)\n",
    "\n",
    "xgb_train = round(xgb.score(X_train, y_train) * 100, 2)\n",
    "xgb_accuracy = round(accuracy_score(Y_pred, y_test) * 100, 2)\n",
    "\n",
    "print(\"Training Accuracy     :\",xgb_train)\n",
    "print(\"Model Accuracy Score  :\",xgb_accuracy)\n",
    "print(classification_report(y_test, Y_pred))"
   ]
  },
  {
   "cell_type": "code",
   "execution_count": 44,
   "metadata": {},
   "outputs": [
    {
     "name": "stdout",
     "output_type": "stream",
     "text": [
      "Training Accuracy     : 98.64\n",
      "Model Accuracy Score  : 84.5\n",
      "              precision    recall  f1-score   support\n",
      "\n",
      "           0       0.86      0.93      0.89      2954\n",
      "           1       0.80      0.64      0.71      1246\n",
      "\n",
      "    accuracy                           0.84      4200\n",
      "   macro avg       0.83      0.79      0.80      4200\n",
      "weighted avg       0.84      0.84      0.84      4200\n",
      "\n"
     ]
    }
   ],
   "source": [
    "params = {\n",
    "    \"n_estimators\": 500,\n",
    "    \"objective\": \"binary:logistic\",  # 이진 클래스 확률 예측\n",
    "    \"booster\": \"gbtree\",\n",
    "    \"learning_rate\": 0.1,\n",
    "    \"max_depth\": 6,\n",
    "    \"subsample\": 0.8,\n",
    "    \"colsample_bytree\": 0.8,\n",
    "    \"min_child_weight\": 1,\n",
    "    \"gamma\": 0,\n",
    "    \"reg_lambda\": 1,  # L2 정규화\n",
    "    \"reg_alpha\": 0,  # L1 정규화\n",
    "    \"seed\": 42,\n",
    "    \"tree_method\": \"hist\",\n",
    "    \"eval_metric\": \"logloss\",  # 이진 클래스 로스\n",
    "}\n",
    "\n",
    "xgb_pa = Xgb.XGBClassifier(**params)\n",
    "xgb_pa.fit(X_train,y_train)\n",
    "Y_pred = xgb_pa.predict(X_test)\n",
    "xgb_pa.score(X_train, y_train)\n",
    "\n",
    "xgb_pa_train = round(xgb_pa.score(X_train, y_train) * 100, 2)\n",
    "xgb_pa_accuracy = round(accuracy_score(Y_pred, y_test) * 100, 2)\n",
    "\n",
    "print(\"Training Accuracy     :\",xgb_pa_train)\n",
    "print(\"Model Accuracy Score  :\",xgb_pa_accuracy)\n",
    "print(classification_report(y_test, Y_pred))"
   ]
  },
  {
   "cell_type": "code",
   "execution_count": 46,
   "metadata": {},
   "outputs": [
    {
     "data": {
      "text/html": [
       "<div>\n",
       "<style scoped>\n",
       "    .dataframe tbody tr th:only-of-type {\n",
       "        vertical-align: middle;\n",
       "    }\n",
       "\n",
       "    .dataframe tbody tr th {\n",
       "        vertical-align: top;\n",
       "    }\n",
       "\n",
       "    .dataframe thead th {\n",
       "        text-align: right;\n",
       "    }\n",
       "</style>\n",
       "<table border=\"1\" class=\"dataframe\">\n",
       "  <thead>\n",
       "    <tr style=\"text-align: right;\">\n",
       "      <th></th>\n",
       "      <th>Model</th>\n",
       "      <th>Training Accuracy</th>\n",
       "      <th>Model Accuracy Score</th>\n",
       "    </tr>\n",
       "  </thead>\n",
       "  <tbody>\n",
       "    <tr>\n",
       "      <th>8</th>\n",
       "      <td>Random Forest Parameter</td>\n",
       "      <td>100.00</td>\n",
       "      <td>86.74</td>\n",
       "    </tr>\n",
       "    <tr>\n",
       "      <th>9</th>\n",
       "      <td>ExtraTreesClassifier</td>\n",
       "      <td>100.00</td>\n",
       "      <td>86.55</td>\n",
       "    </tr>\n",
       "    <tr>\n",
       "      <th>7</th>\n",
       "      <td>Random Forest</td>\n",
       "      <td>100.00</td>\n",
       "      <td>86.14</td>\n",
       "    </tr>\n",
       "    <tr>\n",
       "      <th>6</th>\n",
       "      <td>Decision Tree</td>\n",
       "      <td>100.00</td>\n",
       "      <td>83.62</td>\n",
       "    </tr>\n",
       "    <tr>\n",
       "      <th>4</th>\n",
       "      <td>RBF SVC Parameter</td>\n",
       "      <td>95.95</td>\n",
       "      <td>82.57</td>\n",
       "    </tr>\n",
       "    <tr>\n",
       "      <th>12</th>\n",
       "      <td>XGBoosting</td>\n",
       "      <td>94.75</td>\n",
       "      <td>81.00</td>\n",
       "    </tr>\n",
       "    <tr>\n",
       "      <th>1</th>\n",
       "      <td>KNN</td>\n",
       "      <td>88.80</td>\n",
       "      <td>76.10</td>\n",
       "    </tr>\n",
       "    <tr>\n",
       "      <th>11</th>\n",
       "      <td>HistGradientBoosting</td>\n",
       "      <td>83.85</td>\n",
       "      <td>75.69</td>\n",
       "    </tr>\n",
       "    <tr>\n",
       "      <th>10</th>\n",
       "      <td>GradientBoosting</td>\n",
       "      <td>73.49</td>\n",
       "      <td>71.26</td>\n",
       "    </tr>\n",
       "    <tr>\n",
       "      <th>2</th>\n",
       "      <td>SGDClassifier</td>\n",
       "      <td>71.70</td>\n",
       "      <td>70.33</td>\n",
       "    </tr>\n",
       "    <tr>\n",
       "      <th>3</th>\n",
       "      <td>RBF SVC</td>\n",
       "      <td>71.72</td>\n",
       "      <td>70.33</td>\n",
       "    </tr>\n",
       "    <tr>\n",
       "      <th>5</th>\n",
       "      <td>Linear SVC</td>\n",
       "      <td>71.45</td>\n",
       "      <td>70.24</td>\n",
       "    </tr>\n",
       "    <tr>\n",
       "      <th>0</th>\n",
       "      <td>Logistic Regression</td>\n",
       "      <td>70.97</td>\n",
       "      <td>69.69</td>\n",
       "    </tr>\n",
       "  </tbody>\n",
       "</table>\n",
       "</div>"
      ],
      "text/plain": [
       "                      Model  Training Accuracy  Model Accuracy Score\n",
       "8   Random Forest Parameter             100.00                 86.74\n",
       "9      ExtraTreesClassifier             100.00                 86.55\n",
       "7             Random Forest             100.00                 86.14\n",
       "6             Decision Tree             100.00                 83.62\n",
       "4         RBF SVC Parameter              95.95                 82.57\n",
       "12               XGBoosting              94.75                 81.00\n",
       "1                       KNN              88.80                 76.10\n",
       "11     HistGradientBoosting              83.85                 75.69\n",
       "10         GradientBoosting              73.49                 71.26\n",
       "2             SGDClassifier              71.70                 70.33\n",
       "3                   RBF SVC              71.72                 70.33\n",
       "5                Linear SVC              71.45                 70.24\n",
       "0       Logistic Regression              70.97                 69.69"
      ]
     },
     "execution_count": 46,
     "metadata": {},
     "output_type": "execute_result"
    }
   ],
   "source": [
    "models = pd.DataFrame({\n",
    "    'Model': [\n",
    "        'Logistic Regression', 'KNN', 'SGDClassifier',\n",
    "        'RBF SVC', 'RBF SVC Parameter', 'Linear SVC',\n",
    "        'Decision Tree', 'Random Forest', 'Random Forest Parameter',\n",
    "        'ExtraTreesClassifier','GradientBoosting', 'HistGradientBoosting','XGBoosting'\n",
    "    ],\n",
    "    'Training Accuracy': [\n",
    "        log_train, knn_train, sgd_train,\n",
    "        svc_rbf_train, svc_rbf_pr_train, linear_svc_train,\n",
    "        decision_train, random_forest_train, random_forest_pr_train,\n",
    "        extra_trees_train, gd_boosting_train, hist_gradient_train, xgb_train\n",
    "    ],\n",
    "    'Model Accuracy Score': [\n",
    "        log_accuracy, knn_accuracy, sgd_accuracy,\n",
    "        svc_rbf_accuracy, svc_rbf_pr_accuracy, linear_svc_accuracy,\n",
    "        decision_accuracy, random_forest_accuracy, random_forest_pr_accuracy,\n",
    "        extra_trees_accuracy, gd_boosting_accuracy, hist_gradient_accuracy, xgb_accuracy\n",
    "    ]\n",
    "})\n",
    "models.sort_values(by='Model Accuracy Score', ascending=False)"
   ]
  },
  {
   "cell_type": "code",
   "execution_count": 48,
   "metadata": {},
   "outputs": [
    {
     "name": "stdout",
     "output_type": "stream",
     "text": [
      "RandomForest Prediction Probability: [0.93 0.07]\n",
      "SVM_RBF Prediction Probability: [0.91319141 0.08680859]\n"
     ]
    },
    {
     "name": "stderr",
     "output_type": "stream",
     "text": [
      "/opt/anaconda3/envs/test/lib/python3.10/site-packages/sklearn/utils/validation.py:2739: UserWarning: X does not have valid feature names, but RandomForestClassifier was fitted with feature names\n",
      "  warnings.warn(\n",
      "/opt/anaconda3/envs/test/lib/python3.10/site-packages/sklearn/utils/validation.py:2739: UserWarning: X does not have valid feature names, but SVC was fitted with feature names\n",
      "  warnings.warn(\n"
     ]
    }
   ],
   "source": [
    "# 예측 확률 (각 클래스별 확률)\n",
    "new_proba_rf = best_rf_model.predict_proba(new_sample_scaled)\n",
    "print(\"RandomForest Prediction Probability:\", new_proba_rf[0])\n",
    "\n",
    "new_proba_svm = best_svm_model.predict_proba(new_sample_scaled)\n",
    "print(\"SVM_RBF Prediction Probability:\", new_proba_svm[0])"
   ]
  }
 ],
 "metadata": {
  "kernelspec": {
   "display_name": "test",
   "language": "python",
   "name": "python3"
  },
  "language_info": {
   "codemirror_mode": {
    "name": "ipython",
    "version": 3
   },
   "file_extension": ".py",
   "mimetype": "text/x-python",
   "name": "python",
   "nbconvert_exporter": "python",
   "pygments_lexer": "ipython3",
   "version": "3.10.16"
  }
 },
 "nbformat": 4,
 "nbformat_minor": 2
}
