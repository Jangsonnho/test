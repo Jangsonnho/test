{
 "cells": [
  {
   "cell_type": "code",
   "execution_count": null,
   "metadata": {},
   "outputs": [],
   "source": [
    "import requests\n",
    "import pandas as pd\n",
    "\n",
    "my_key = \"API KEY\"\n",
    "\n",
    "#kakao map api를 통해 위도, 경도 데이터 가져오는 함수를 정의\n",
    "def get_geocoding(place) :\n",
    "    url = f\"htttp://dapi.kakap.com/v2/local/search/address.json?query={place}\"\n",
    "    headers = {\"Authorization\":f\"KakaoAK{my_key}\"}\n",
    "    response = requests.get(url, headers=headers)\n",
    "    result = response.json()\n",
    "    return result[\"documents\"][0][\"y\"], result[\"documents\"][0][\"X\"]\n",
    "\n",
    "lat = []\n",
    "lng = []\n",
    "\n",
    "#장소(주소) 리스트\n",
    "place = [\"서울특별시 종로구 세종대로 175\",\n",
    "        \"서울특별시 서초구 서초동 700\",\n",
    "        \"부산광역시 해운대구 해운대해벼로 264\"]\n",
    "\n",
    "i=0\n",
    "for place in places:\n",
    "    i = i+i\n",
    "    try:\n",
    "        print(i,place)\n",
    "        #get_geocoding 함수의 리턴값 호출하여 get_location 변수에 저장\n",
    "        place_lat, place_lon = get_geocoding(place)\n",
    "        lat.append(place_lat)\n",
    "        lat.append(place_lon)\n",
    "\n",
    "    except:\n",
    "        lat.append('')\n",
    "        lng.append('')\n",
    "    print(i)\n",
    "#데이터프레임으로 변환하기\n",
    "df = pd.DataFrame({'위도':lat, '경도':lng}, index=places)\n",
    "\n",
    "df"
   ]
  },
  {
   "cell_type": "code",
   "execution_count": null,
   "metadata": {},
   "outputs": [],
   "source": [
    "import requests\n",
    "import pandas as pd\n",
    "\n",
    "my_key = \"API 발급받은 키\"\n",
    "\n",
    "#특정 종목(stockCode)의 재무항목(indicatorName) 데이터를 가져오는 함수를 정의\n",
    "def get_financials(stockcode, indicatorName, apiKey, consolidated=True, ttm=True):\n",
    "\n",
    "    if consolidated:\n",
    "        if ttm:\n",
    "            url = f\"https://api.\""
   ]
  },
  {
   "cell_type": "code",
   "execution_count": null,
   "metadata": {},
   "outputs": [],
   "source": [
    "from sklearn.preprocessing import MinMaxScaler\n",
    "\n",
    "scaler = MinMaxScaler()\n",
    "df['horsepower_minmax'] = scaler.fit_transform(df[['horsepower']])\n",
    "df['horesepower_minmax'].head()\n",
    "\n",
    "from sklearn.preprocessing import StandardScaler\n",
    "\n",
    "scaler = StandardScaler()\n",
    "df['horepower_standard'] = scaler.fit_transform(df[['horserpower']])\n",
    "df['horsepower_standard'].head()b\n"
   ]
  },
  {
   "cell_type": "code",
   "execution_count": null,
   "metadata": {},
   "outputs": [],
   "source": [
    "import pandas as pd\n",
    "\n",
    "pr_m = pd.period_range(start = '2024-01-01',\n",
    "                       end=None,\n",
    "                       periods=3,\n",
    "                       freq='M')\n",
    "print(pr_m)"
   ]
  },
  {
   "cell_type": "code",
   "execution_count": null,
   "metadata": {},
   "outputs": [],
   "source": [
    "#period 배열 만들기 - 1시간 주기\n",
    "pr_h = pd.period_range(start='2024-01-01',\n",
    "                       end=None,\n",
    "                       periods=3,\n",
    "                       freq='h')\n",
    "print(pr_h)"
   ]
  },
  {
   "cell_type": "code",
   "execution_count": null,
   "metadata": {},
   "outputs": [],
   "source": [
    "#period 배열 만들기 = 2일 주기\n",
    "pr_2h = pd.period_range(start = '2024-01-01',\n",
    "                        end=None,\n",
    "                        periods=3,\n",
    "                        freq='2d')\n",
    "print(pr_2h)"
   ]
  },
  {
   "cell_type": "code",
   "execution_count": null,
   "metadata": {},
   "outputs": [],
   "source": [
    "import pandas as pd\n",
    "\n",
    "#read_csv() 함수로 파일 읽어와서 df로 변환\n",
    "df = pd.read_csv('./stock-data.csv')\n",
    "\n",
    "#문자열인 날짜 데이터를 판다스 TimeStamp로 변환\n",
    "df['new_Date'] = pd.to_datetime(df['Date'])\n",
    "df.head()"
   ]
  },
  {
   "cell_type": "code",
   "execution_count": null,
   "metadata": {},
   "outputs": [],
   "source": [
    "#dt 속성을 이용하여 new_Date 열의 년월일 정보를 연,월,일로 구분\n",
    "df['Year'] = df['new_Date'].dt.year\n",
    "df['Month'] = df['new_Date'].dt.month\n",
    "df['Day'] = df['new_Date'].dt.day\n",
    "df.head()"
   ]
  },
  {
   "cell_type": "code",
   "execution_count": null,
   "metadata": {},
   "outputs": [],
   "source": [
    "# oreint = 'split'\n",
    "dummy variable\n",
    "horsepower_dummies = pd.get_dummies(df['hp_bin'])\n",
    "print(horsepower_dummies.head(15))\n",
    "\n",
    "from sklearn import preprocessing\n",
    "onehot_labeled = label_encoder.fit_transform(df['hp_bin'.head(15)])\n",
    "onehot_reshaped = onehot_labeled.reshape(len(onehot_labeled),1)\n",
    "onehot_fitted = onehot_encoder.fit_transform(onehot_reshaped)"
   ]
  },
  {
   "cell_type": "code",
   "execution_count": null,
   "metadata": {},
   "outputs": [],
   "source": [
    "df['Date_yr'] = df['new_Date'].dt.to_period(freq='Y')\n",
    "df['Date_m'] = df['new_Date'].dt.to_period(freq='M')\n",
    "df.head()"
   ]
  },
  {
   "cell_type": "code",
   "execution_count": null,
   "metadata": {},
   "outputs": [],
   "source": [
    "df_june = df[df['Date_m'].astype(str).str.fullmatch('2018-06')]\n",
    "df_june.head()"
   ]
  },
  {
   "cell_type": "code",
   "execution_count": null,
   "metadata": {},
   "outputs": [],
   "source": [
    "df_june = df_june.set_index('new_Date')\n",
    "df_june.head()"
   ]
  },
  {
   "cell_type": "code",
   "execution_count": null,
   "metadata": {},
   "outputs": [],
   "source": [
    "#라이브러리 불러오기\n",
    "import pandas as pd\n",
    "# read_csv() 함수로 파일 읽어와서 df로 변환\n",
    "df = pd.read_csv('./stock-data.csv')\n",
    "#문자열인 날짜 데이터를 판다스 Timestamp로 변환\n",
    "df['new_Date'] = pd.to_datetime(df['Date'])\n",
    "\n",
    "#원하는 열을 새로운 행 인덱스로 지정하고 오름차순 정렬\n",
    "df = df.set_index('new_Date').sort_index()\n",
    "#부분 문자열 인덱싱 1\n",
    "df.loc['2018-06-27']"
   ]
  },
  {
   "cell_type": "code",
   "execution_count": null,
   "metadata": {},
   "outputs": [],
   "source": [
    "df.loc['2018-07']"
   ]
  },
  {
   "cell_type": "code",
   "execution_count": null,
   "metadata": {},
   "outputs": [],
   "source": [
    "df.loc['2018-06-27':'2018-07-02']"
   ]
  },
  {
   "cell_type": "code",
   "execution_count": null,
   "metadata": {},
   "outputs": [],
   "source": [
    "df[df.index < '2018-06-05']"
   ]
  },
  {
   "cell_type": "code",
   "execution_count": null,
   "metadata": {},
   "outputs": [],
   "source": [
    "#시간 자료형을 활용한 인덱싱\n",
    "df.loc[pd.Timestamp(2018,6,27):pd.Timestamp(2018,7,2)]"
   ]
  },
  {
   "cell_type": "code",
   "execution_count": null,
   "metadata": {},
   "outputs": [],
   "source": [
    "#시간 자료형을 활용한 인덱싱2\n",
    "df.loc[pd.Timestamp(2018,6,27,10,30,0):pd.Timestamp(2018,7,2,23,59,59)]"
   ]
  },
  {
   "cell_type": "code",
   "execution_count": null,
   "metadata": {},
   "outputs": [],
   "source": [
    "#날짜 ,시간의 절대적 차이 1\n",
    "a = df.index\n",
    "\n",
    "b = pd.Timestamp('2018-07-03') - a\n",
    "\n",
    "c =a + pd.Timedelta(day=1)\n"
   ]
  },
  {
   "cell_type": "code",
   "execution_count": null,
   "metadata": {},
   "outputs": [],
   "source": [
    "import pandas as pd\n",
    "\n",
    "dict_data = {'co':[1,2,3], 'c1':[4,5,6], 'c2':[7,8,9], 'c3':[10,11,12], 'c4':[13,14,15]}\n",
    "\n",
    "df = pd.DataFrame(dict_data)\n",
    "\n",
    "print(type(df))"
   ]
  },
  {
   "cell_type": "code",
   "execution_count": null,
   "metadata": {},
   "outputs": [],
   "source": [
    "df3 = df.copy()\n",
    "df3 = df3.drop(['영어','음악'],axis=1 axis=\"columns\")\n",
    "df5 = df5.drop(columns=['수학'])\n",
    "\n",
    "labell = df.loc['서준']"
   ]
  },
  {
   "cell_type": "code",
   "execution_count": null,
   "metadata": {},
   "outputs": [],
   "source": [
    "import pandas as pd\n",
    "\n",
    "#DataFrame() 함수로 데이터프레임 변환, 변수 df에 저장\n",
    "\n",
    "exam_data = {'수학' : [90,80,70], '영어' : [98,89,95],\n",
    "             '음악' : [85,95,100], '체육' : [100,90,90]}\n",
    "\n",
    "df = pd.DataFrame(exam_data, index=['서준', '우현', '인아'])\n",
    "\n",
    "print(df)"
   ]
  },
  {
   "cell_type": "code",
   "execution_count": null,
   "metadata": {},
   "outputs": [],
   "source": [
    "#class 인덱스를 사용하여 행 1개 선택\n",
    "labell = df.loc['서준']\n",
    "positional = df.iloc[0]\n",
    "print(labell)\n",
    "print('\\n')\n",
    "print(positional)"
   ]
  },
  {
   "cell_type": "code",
   "execution_count": null,
   "metadata": {},
   "outputs": [],
   "source": [
    "#행 인덱스의 범위를 지정하여 행 선택\n",
    "label3 = df.loc['서준':'우현']\n",
    "position3 = df.iloc[0:1]\n",
    "print(label3)\n",
    "print('\\n')\n",
    "print(position3)"
   ]
  },
  {
   "cell_type": "code",
   "execution_count": null,
   "metadata": {},
   "outputs": [],
   "source": [
    "print(\"\"\"안녕하세요\n",
    "저는 김민규입니다.\n",
    "감사합니다\n",
    "\"\"\")\n",
    "\n",
    "print(\"안녕하세요 \\n 김민규\")"
   ]
  },
  {
   "cell_type": "code",
   "execution_count": null,
   "metadata": {},
   "outputs": [],
   "source": [
    "print(type(df))"
   ]
  },
  {
   "cell_type": "code",
   "execution_count": null,
   "metadata": {},
   "outputs": [],
   "source": [
    "# '수학' 점수 데이터만 선택, 변수 math1에 저장\n",
    "math1 = df['수학']\n",
    "print(math1)\n",
    "print('\\n')\n",
    "print(type(math1))"
   ]
  },
  {
   "cell_type": "code",
   "execution_count": null,
   "metadata": {},
   "outputs": [],
   "source": [
    "df.iloc[::2]\n",
    "df.iloc[0:3:2]\n",
    "df.iloc[::-1]\n",
    "# 데이터프레임 df의 특정원소 1개 선택('서준'의 '음악'점수)\n",
    "a = df.loc['서준', '음악']\n",
    "print(a)\n",
    "\n",
    "b=df.iloc[0,2]\n",
    "print(b)\n",
    "\n",
    "df['국어'] = 80\n",
    "print(df)\n",
    "\n",
    "df['미술'] = [80,90,100]\n",
    "print(df)\n",
    "\n",
    "print(df)\n",
    "\n",
    "df = df.drop('미술', axis=1)\n",
    "print(df)\n",
    "\n",
    "df.iloc[0][3] = 80\n",
    "print(df)\n",
    "\n",
    "\n",
    "import pandas as pd\n",
    "\n",
    "# DataFrame() 함수롤 데이터프레임 변환, 변수 df에 저장\n",
    "exam_dat = {'이름' : ['서준','우현','인아'],\n",
    "            '수학' : [90,80,70],\n",
    "            '영어' : [98,89,95],\n",
    "            '음악' : [85,95,100],\n",
    "            '체육' : [100,90,90]}\n",
    "df = pd.DataFrame(exam_data)\n",
    "print(df)\n",
    "\n",
    "# 데이터프레임 df를 전치하기(메소드활용)\n",
    "df= df.transpose()\n",
    "print(df)\n",
    "\n",
    "# 데이터프레임 df를 다시 전치하기(클래스 속성 활용)\n",
    "df = df.T\n",
    "print(df)\n",
    "\n",
    "import pandas as pd\n",
    "\n",
    "dict_data = {'cO':[1,2,3], 'c1':[4,5,6], 'c2':[7,8,9], 'c3' :[10,11,12],'c4' : [13,14,15] }\n",
    "\n",
    "df = pd.DataFrame(dict_data, index=['r0','r1','r2'])\n",
    "print(df)\n",
    "\n",
    "new_index = ['r0','r1','r2','r3','r4']\n",
    "ndf = df.reindex(new_index)\n",
    "print(ndf)\n",
    "\n",
    "# reindex로 발생한 NaN 값을 숫자0으로 채우기\n",
    "new_index = ['r0','r1','r2','r3','r4']\n",
    "ndf2 = df.reindex(new_index, fill_value=0)\n",
    "print(ndf2)\n",
    "\n",
    "ndf3 = df.sort_values(by=['c3','c4'],ascending=[False,True])\n",
    "print(ndf3)\n",
    "\n",
    "\n",
    "# 라이브러리 불러오기\n",
    "import pandas as pd\n",
    "import seaborn as sns\n",
    "\n",
    "# titanic 데이터셋에서 age, fare 2개 열을 선택하여 데이터프레임 만들기\n",
    "titanic = sns.load_dataset('titanic')\n",
    "df = titanic.loc[:, ['age', 'fare']]\n",
    "print(df.head())\n",
    "print('\\n')\n",
    "print(type(df))\n",
    "\n",
    "# 데이터프레임에 숫자 10 더하기\n",
    "addition = df + 10\n",
    "print(addition.head())\n",
    "print('\\n')\n",
    "print(type(addition))\n",
    "\n",
    "titanic = sns.load_dataset('titanic')\n",
    "df = titanic.loc[:,['age','fare']]\n",
    "addition = df +10\n",
    "substraction = addition -df\n",
    "\n",
    "print(substraction.tail())\n",
    "print('\\n')\n",
    "print(type(substraction))\n",
    "\n",
    "\n",
    "# 사칙연산 수행(연산 매소드 사용)\n",
    "sample1 = addition.tail()\n",
    "sample2= substraction.tail().fillna(0.0)\n",
    "\n",
    "df_add = sample1.add(sample2, fillna_value=0)\n",
    "df_sub = sample1.sub(sample2)\n",
    "\n",
    "df.loc[df['age'] < 20]\n",
    "\n",
    "df.loc[~(df['age']<20)]\n",
    "\n",
    "# 나이가 10대인 승객\n",
    "mask1 = (titanic.age >=10) & (titanic.age<20)\n",
    "df_teenage = titanic[mask1]\n",
    "df_teenage.head()\n",
    "\n",
    "import pandas as pd\n",
    "import seaborn as sns\n",
    "\n",
    "titanic = sns.load_dataset('titanic')\n",
    "\n",
    "df = titanic.loc[0:9, ['age','fare']]\n",
    "\n",
    "df.query('age<20')\n",
    "\n",
    "df.query('age>=20 and fare < 15')\n",
    "\n",
    "df.query('age>=20 or fare <15')\n",
    "\n",
    "# 디스플레이 설정 변경 - 출력할 최대 열의 개수\n",
    "pd.set_option('display.max_columns',10)\n",
    "\n",
    "# 탑승한 도시가 \"southampton\", \"Qeenstown\"인 승객만 따로 추출 - 불린 인덱싱\n",
    "mask1= titanic['embark_town'] == \"Southamtown\"\n",
    "mask2 = titanic['embark_town'] == \"Queenstown\"\n",
    "df_boolean = titanic[mask1 | mask2]\n",
    "df_boolean.head()\n",
    "\n",
    "isin_filter = titanic['embark_town'].isin([\"Sothampton\", \"Queenstown\"])\n",
    "df_isin = titanic[isin_filter]\n",
    "df_isin.head()\n",
    "\n",
    "import pandas as pd\n",
    "fruit_names = pd.Series([\"Apple\", \"Banana\",\"Cherry\"])\n",
    "\n",
    "fruit_names\n",
    "\n",
    "pd.Series([\"Apple\",\"Banana\",\"Cherry\"], dtype=\"string\")\n"
   ]
  }
 ],
 "metadata": {
  "kernelspec": {
   "display_name": "test",
   "language": "python",
   "name": "python3"
  },
  "language_info": {
   "name": "python",
   "version": "3.12.8"
  }
 },
 "nbformat": 4,
 "nbformat_minor": 2
}
