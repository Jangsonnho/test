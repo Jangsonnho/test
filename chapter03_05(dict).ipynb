{
 "cells": [
  {
   "cell_type": "code",
   "execution_count": 11,
   "metadata": {},
   "outputs": [
    {
     "name": "stdout",
     "output_type": "stream",
     "text": [
      "a - <class 'dict'> {'name': 'Kim', 'phone': '01033337777', 'birth': '870514'}\n",
      "b - <class 'dict'> {0: 'Hello Python'}\n",
      "c - <class 'dict'> {'arr': [1, 2, 3, 4]}\n",
      "d - <class 'dict'> {'Name': 'Niceman', 'City': 'Seoul', 'Age': 33, 'Grade': 'A', 'Status': True}\n",
      "e - <class 'dict'> {'Name': 'Niceman', 'City': 'Seoul'}\n",
      "f - <class 'dict'> {'Name': 'Niceman', 'City': 'Seoul', 'Age': 33, 'Grade': 'A', 'Status': True}\n",
      "a - Kim\n",
      "a - None\n",
      "b - Hello Python\n",
      "b - Hello Python\n",
      "f - Seoul\n",
      "f - 33\n"
     ]
    }
   ],
   "source": [
    "#파이썬 딕셔러니\n",
    "# 범용적으로 가장 많이 사용\n",
    "# 딕셔너리 자료형(순서x, 키중복x, 수정o, 삭제o) # 해시 순서x\n",
    "# 구조적, 효율적으로 저장, 파이썬 형태로 저장해서 보관해서 엑셀로 편리하게 쓰거나 데이터베이스에 저장하면 서비스 형태가 나타난다. 자바에서 map 형태로 제공, json형태도 key-value이루어져 있어\n",
    "\n",
    "# 선언\n",
    "a = {'name':'Kim', 'phone':'01033337777','birth':'870514'}\n",
    "b = {0:'Hello Python'}\n",
    "c = {'arr':[1,2,3,4]}\n",
    "d = {\n",
    "    'Name':'Niceman',\n",
    "    'City':'Seoul',\n",
    "    'Age':33,\n",
    "    'Grade':'A',\n",
    "    'Status':True\n",
    "}\n",
    "\n",
    "e = dict([\n",
    "    ('Name','Niceman'),\n",
    "    ('City','Seoul'), \n",
    "])\n",
    "\n",
    "f = dict(\n",
    "    Name='Niceman',\n",
    "    City='Seoul',\n",
    "    Age=33,\n",
    "    Grade='A',\n",
    "    Status=True\n",
    ")\n",
    "\n",
    "print('a -' ,type(a),a)\n",
    "print('b -' ,type(b),b)\n",
    "print('c -' ,type(c),c)\n",
    "print('d -' ,type(d),d)\n",
    "print('e -' ,type(e),e)\n",
    "print('f -' ,type(f),f)\n",
    "\n",
    "print('a -' ,a['name']) # 키가 존재x -> 에러발생\n",
    "print('a -' ,a.get('name1') ) # 키가존재x -> None 처리\n",
    "print('b -' ,b[0])\n",
    "print('b -' ,b.get(0))\n",
    "print('f -' ,f.get('City'))\n",
    "print('f -' , f.get('Age'))"
   ]
  },
  {
   "cell_type": "code",
   "execution_count": 14,
   "metadata": {},
   "outputs": [
    {
     "name": "stdout",
     "output_type": "stream",
     "text": [
      "a- {'name': 'Kim', 'phone': '01033337777', 'birth': '870514', 'address': 'seoul', 'rank': [1, 2, 3]}\n",
      "a- {'name': 'Kim', 'phone': '01033337777', 'birth': '870514', 'address': 'seoul', 'rank': [1, 2, 3]}\n",
      "a- 5\n",
      "b- 1\n",
      "c- 1\n",
      "d- 5\n"
     ]
    }
   ],
   "source": [
    "# 딕셔너리 추가\n",
    "a['address'] = 'seoul'\n",
    "print('a-' ,a)\n",
    "a['rank'] = [1,2,3]\n",
    "print('a-' ,a)\n",
    "\n",
    "# 키의 갯수를 세는것\n",
    "print('a-' ,len(a))\n",
    "print('b-' ,len(b))\n",
    "print('c-' ,len(c))\n",
    "print('d-' ,len(d))"
   ]
  },
  {
   "cell_type": "code",
   "execution_count": 25,
   "metadata": {},
   "outputs": [
    {
     "name": "stdout",
     "output_type": "stream",
     "text": [
      "a- dict_keys(['phone', 'birth', 'address', 'rank'])\n",
      "b- dict_keys([0])\n",
      "c- dict_keys(['arr'])\n",
      "d- dict_keys(['Name', 'City', 'Age', 'Grade', 'Status'])\n",
      "e- dict_keys(['Name', 'City'])\n",
      "a- ['phone', 'birth', 'address', 'rank']\n",
      "\n",
      "a- dict_values(['01033337777', '870514', 'seoul', [1, 2, 3]])\n",
      "b- dict_values(['Hello Python'])\n",
      "c- dict_values([[1, 2, 3, 4]])\n",
      "a- ['01033337777', '870514', 'seoul', [1, 2, 3]]\n",
      "\n",
      "a- dict_items([('phone', '01033337777'), ('birth', '870514'), ('address', 'seoul'), ('rank', [1, 2, 3])])\n",
      "b- dict_items([(0, 'Hello Python')])\n",
      "c- dict_items([('arr', [1, 2, 3, 4])])\n",
      "a- [('phone', '01033337777'), ('birth', '870514'), ('address', 'seoul'), ('rank', [1, 2, 3])]\n",
      "\n"
     ]
    },
    {
     "ename": "KeyError",
     "evalue": "'name'",
     "output_type": "error",
     "traceback": [
      "\u001b[1;31m---------------------------------------------------------------------------\u001b[0m",
      "\u001b[1;31mKeyError\u001b[0m                                  Traceback (most recent call last)",
      "Cell \u001b[1;32mIn[25], line 21\u001b[0m\n\u001b[0;32m     18\u001b[0m \u001b[38;5;28mprint\u001b[39m(\u001b[38;5;124m'\u001b[39m\u001b[38;5;124ma-\u001b[39m\u001b[38;5;124m'\u001b[39m ,\u001b[38;5;28mlist\u001b[39m(a\u001b[38;5;241m.\u001b[39mitems()))\n\u001b[0;32m     20\u001b[0m \u001b[38;5;28mprint\u001b[39m()\n\u001b[1;32m---> 21\u001b[0m \u001b[38;5;28mprint\u001b[39m(\u001b[38;5;124m'\u001b[39m\u001b[38;5;124ma-\u001b[39m\u001b[38;5;124m'\u001b[39m , a\u001b[38;5;241m.\u001b[39mpop(\u001b[38;5;124m'\u001b[39m\u001b[38;5;124mname\u001b[39m\u001b[38;5;124m'\u001b[39m))\n\u001b[0;32m     22\u001b[0m \u001b[38;5;28mprint\u001b[39m(\u001b[38;5;124m'\u001b[39m\u001b[38;5;124ma-\u001b[39m\u001b[38;5;124m'\u001b[39m , a)\n\u001b[0;32m     23\u001b[0m \u001b[38;5;28mprint\u001b[39m()\n",
      "\u001b[1;31mKeyError\u001b[0m: 'name'"
     ]
    }
   ],
   "source": [
    "print('a-' ,a.keys())\n",
    "print('b-' ,b.keys())\n",
    "print('c-' ,c.keys())\n",
    "print('d-' ,d.keys())\n",
    "print('e-' ,e.keys())\n",
    "\n",
    "print('a-' ,list(a.keys()))\n",
    "print()\n",
    "print('a-' ,a.values())\n",
    "print('b-' ,b.values())\n",
    "print('c-' ,c.values())\n",
    "print('a-' ,list(a.values()))\n",
    "print()\n",
    "print('a-' ,a.items())\n",
    "print('b-' ,b.items())\n",
    "print('c-' ,c.items())\n",
    "\n",
    "print('a-' ,list(a.items()))\n",
    "\n",
    "print()\n",
    "print('a-' , a.pop('name'))\n",
    "print('a-' , a)\n",
    "print()\n",
    "\n",
    "print('f - ', f.popitems())\n",
    "print('f - ', f)"
   ]
  },
  {
   "cell_type": "code",
   "execution_count": 32,
   "metadata": {},
   "outputs": [
    {
     "name": "stdout",
     "output_type": "stream",
     "text": [
      "a - True\n",
      "d - True\n",
      "d - False\n",
      "a - {'phone': '01033337777', 'birth': '910904', 'address': 'dj', 'rank': [1, 2, 3], 'test': 'test_dict'}\n",
      "a - {'phone': '01033337777', 'birth': '910904', 'address': 'dj', 'rank': [1, 2, 3], 'test': 'test_dict'}\n",
      "a - {'phone': '01033337777', 'birth': '910904', 'address': 'dj', 'rank': [1, 2, 3], 'test': 'test_dict'}\n",
      "a - {'phone': '01033337777', 'birth': '910904', 'address': 'Busan', 'rank': [1, 2, 3], 'test': 'test_dict'}\n"
     ]
    }
   ],
   "source": [
    "print('a -', 'birth' in a )\n",
    "print('d -', 'City' in d )\n",
    "print('d -', 'city' in d ) # 리스트 comprehension\n",
    "\n",
    "# 수정\n",
    "a['test'] = 'test_dict'\n",
    "print('a -', a)\n",
    "a['address'] = 'dj'\n",
    "print('a -', a)\n",
    "\n",
    "a.update(birth='910904')\n",
    "print('a -', a)\n",
    "\n",
    "temp = {'address':'Busan'}\n",
    "a.update(temp)\n",
    "print('a -', a)"
   ]
  }
 ],
 "metadata": {
  "kernelspec": {
   "display_name": "base",
   "language": "python",
   "name": "python3"
  },
  "language_info": {
   "codemirror_mode": {
    "name": "ipython",
    "version": 3
   },
   "file_extension": ".py",
   "mimetype": "text/x-python",
   "name": "python",
   "nbconvert_exporter": "python",
   "pygments_lexer": "ipython3",
   "version": "3.12.7"
  }
 },
 "nbformat": 4,
 "nbformat_minor": 2
}
