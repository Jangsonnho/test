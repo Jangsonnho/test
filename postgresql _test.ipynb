{
 "cells": [
  {
   "cell_type": "code",
   "execution_count": 1,
   "metadata": {},
   "outputs": [
    {
     "data": {
      "text/plain": [
       "\"SELECT \\n    COUNT(film_category.flim_id) AS films_in_category.category.category_id\\nFROM \\n    category\\n    LEFT JOIN film_catefory ON\\n        category.category_id = film_category.category_id\\nGROUO BY\\n    category.catefory_id\\nORDER BY\\n    film_in_category DESC ;\\n\\n    \\nSELECT \\n    film.title\\nFROM\\n    film\\n    LEFT JOIN inventory ON\\n        film.film_id = inventory.film_id\\nWHERE\\n    inventory.film_id IS NULL\\nORDER BY\\n    film.title ASC;\\n\\nSELECT\\n    city.city,\\n    COUNT(CASE\\n            WHEN customer.active = 1\\n                THEN1\\n        END) AS active_customers,\\n    COUNT(CASE\\n            WHEN cutomers.active =0\\n                TEHN 1\\n        END) AS inactive_customers\\nFROM\\n    city\\n    INNER JOIN address ON\\n        city.city_id = address.city_id\\n    INNER JOIN customer ON\\n        address.address_id = cusomer.address_id\\nGROUP BY\\n    city.city\\nORDER BY\\n    inactive_customers DESC;\\n\\nSELECT\\n    catogry.name,\\n    EXTRACT (HOUR FROM SUM(rental.return_date - rental.rental_date)) AS total_rental_hours\\nFROM\\n    category\\n    INNER JOIN film_category USING (category_id)\\n    INNER JOIN film USING (film_id)\\n    INNER JOIN inventory USING(film_id)\\n    INNER JOIN rental USING(inventory_id)\\n    INNER JOIN cusomer USING(cumstomer_id)\\n    INNER JOIN address USING(address_id)\\n    INNER JOIN city USING(city_id)\\nWHRER\\n    LOWER(city.city) LIKE 'a%' OR city.city LIKE '%-%'\\nGROUP BY\\n    category.name\\nORDER BY\\n    total_rental_hours DESC\\nLIMIT\\n    1;\\n\""
      ]
     },
     "execution_count": 1,
     "metadata": {},
     "output_type": "execute_result"
    }
   ],
   "source": [
    "# postresql 구문 연습\n",
    "\"\"\"SELECT \n",
    "    COUNT(film_category.flim_id) AS films_in_category.category.category_id\n",
    "FROM \n",
    "    category\n",
    "    LEFT JOIN film_catefory ON\n",
    "        category.category_id = film_category.category_id\n",
    "GROUO BY\n",
    "    category.catefory_id\n",
    "ORDER BY\n",
    "    film_in_category DESC ;\n",
    "\n",
    "    \n",
    "SELECT \n",
    "    film.title\n",
    "FROM\n",
    "    film\n",
    "    LEFT JOIN inventory ON\n",
    "        film.film_id = inventory.film_id\n",
    "WHERE\n",
    "    inventory.film_id IS NULL\n",
    "ORDER BY\n",
    "    film.title ASC;\n",
    "\n",
    "SELECT\n",
    "    city.city,\n",
    "    COUNT(CASE\n",
    "            WHEN customer.active = 1\n",
    "                THEN1\n",
    "        END) AS active_customers,\n",
    "    COUNT(CASE\n",
    "            WHEN cutomers.active =0\n",
    "                TEHN 1\n",
    "        END) AS inactive_customers\n",
    "FROM\n",
    "    city\n",
    "    INNER JOIN address ON\n",
    "        city.city_id = address.city_id\n",
    "    INNER JOIN customer ON\n",
    "        address.address_id = cusomer.address_id\n",
    "GROUP BY\n",
    "    city.city\n",
    "ORDER BY\n",
    "    inactive_customers DESC;\n",
    "\n",
    "SELECT\n",
    "    catogry.name,\n",
    "    EXTRACT (HOUR FROM SUM(rental.return_date - rental.rental_date)) AS total_rental_hours\n",
    "FROM\n",
    "    category\n",
    "    INNER JOIN film_category USING (category_id)\n",
    "    INNER JOIN film USING (film_id)\n",
    "    INNER JOIN inventory USING(film_id)\n",
    "    INNER JOIN rental USING(inventory_id)\n",
    "    INNER JOIN cusomer USING(cumstomer_id)\n",
    "    INNER JOIN address USING(address_id)\n",
    "    INNER JOIN city USING(city_id)\n",
    "WHRER\n",
    "    LOWER(city.city) LIKE 'a%' OR city.city LIKE '%-%'\n",
    "GROUP BY\n",
    "    category.name\n",
    "ORDER BY\n",
    "    total_rental_hours DESC\n",
    "LIMIT\n",
    "    1;\n",
    "\"\"\"\n",
    "# 도시 이름이 소문자로 변환된 후 'a'로 시작하는 경우(LOWER(city.city) LIKE 'a%') 또는 도시 이름에 하이픈('-')이 포함된 경우(city.city LIKE '%-%')를 필터링합니다.\n",
    "# EXTRACT (HOUR FROM SUM(rental.return_date - rental.rental_date)) AS total_rental_hours는 대여 기간의 총 시간을 시간 단위로 계산하여 total_rental_hours라는 별칭으로 출력합니다. SUM(rental.return_date - rental.rental_date)는 각 대여의 반환 날짜와 대여 날짜 사이의 차이를 합산합니다\n",
    "# COUNT(CASE WHEN customer.active = 1 THEN 1 END) AS active_customers는 각 도시에 있는 활성 고객의 수를 계산하여 active_customers라는 별칭으로 출력합니다.\n"
   ]
  }
 ],
 "metadata": {
  "kernelspec": {
   "display_name": "test",
   "language": "python",
   "name": "python3"
  },
  "language_info": {
   "codemirror_mode": {
    "name": "ipython",
    "version": 3
   },
   "file_extension": ".py",
   "mimetype": "text/x-python",
   "name": "python",
   "nbconvert_exporter": "python",
   "pygments_lexer": "ipython3",
   "version": "3.12.8"
  }
 },
 "nbformat": 4,
 "nbformat_minor": 2
}
