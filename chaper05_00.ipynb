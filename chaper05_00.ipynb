{
 "cells": [
  {
   "cell_type": "code",
   "execution_count": null,
   "metadata": {},
   "outputs": [
    {
     "name": "stdout",
     "output_type": "stream",
     "text": [
      "예제1호출\n",
      "예제2 호출 10 20\n",
      "예제3 호출 100 200\n",
      "예제4 호출 2500\n"
     ]
    }
   ],
   "source": [
    "#Chapter05-0\n",
    "#함수란? 완전 함수 기초 서렴ㅇ\n",
    "# 파이썬 함수 쌩기초\n",
    "\n",
    "# 함수\n",
    "# 프로그래머가 이름을 통해서 정의 후 필요할 때 마다 호출\n",
    "# 반복 되는 코드를 한번 구현 후 재사용 가능한 코드의 집합\n",
    "# 함수 구현 -> 재사용, 루틴(프로시져, 서브루틴)\n",
    "\n",
    "# 종류\n",
    "# 1. 매개변수가 필요한 함수\n",
    "# 2. 매개변수가 필요하지 않은 함수\n",
    "# 3. 결과값을 반환하는 함수(return)\n",
    "# 4. 결과값을 반환하지 않는 함수\n",
    "\n",
    "#예제1 : 매개변수가 필요X\n",
    "\n",
    "def function1():\n",
    "    print('예제1호출')\n",
    "\n",
    "# 예제2 : 매개변수가 필요O\n",
    "\n",
    "def function2(a, b):\n",
    "    print('예제2 호출',a,b)\n",
    "\n",
    "# 예제3 : 결과값 반환x\n",
    "\n",
    "def function3(x, y):\n",
    "    print('예제3 호출',x,y)\n",
    "    \n",
    "# 예제4 : 결과값 반환o\n",
    "\n",
    "def function4(x, y):\n",
    "    return x * y\n",
    "\n",
    "#실행\n",
    "function1()\n",
    "function2(10,20)\n",
    "function3(100,200)\n",
    "function4(50,50)\n",
    "\n",
    "r = function4(50,50)\n",
    "print('예제4 호출',r)\n",
    "\n"
   ]
  }
 ],
 "metadata": {
  "kernelspec": {
   "display_name": "base",
   "language": "python",
   "name": "python3"
  },
  "language_info": {
   "codemirror_mode": {
    "name": "ipython",
    "version": 3
   },
   "file_extension": ".py",
   "mimetype": "text/x-python",
   "name": "python",
   "nbconvert_exporter": "python",
   "pygments_lexer": "ipython3",
   "version": "3.12.7"
  }
 },
 "nbformat": 4,
 "nbformat_minor": 2
}
