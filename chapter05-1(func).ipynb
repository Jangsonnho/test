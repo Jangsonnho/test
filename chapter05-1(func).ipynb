{
 "cells": [
  {
   "cell_type": "code",
   "execution_count": 2,
   "metadata": {},
   "outputs": [
    {
     "name": "stdout",
     "output_type": "stream",
     "text": [
      "Hello,  Goodboy\n",
      "Hello, Goodboy2\n",
      "100 200 300\n",
      "<class 'list'> [300, 600, 900] {600, 900, 300}\n"
     ]
    }
   ],
   "source": [
    "# Chapter 05-1\n",
    "# 파이썬 함수 및 중요성\n",
    "# 파이썬 함수식 및 람다(Lanbda)\n",
    "\n",
    "# 함수 정의 방법\n",
    "# def function_name(parameter):\n",
    "#   code\n",
    "\n",
    "# 예제1\n",
    "def first_func(w1):\n",
    "    print(\"Hello, \", w1)\n",
    "\n",
    "word = \"Goodboy\"\n",
    "\n",
    "first_func(word)\n",
    "\n",
    "#예제2\n",
    "def return_func(w1):\n",
    "    value =  \"Hello, \" + str(w1)\n",
    "    return value\n",
    "\n",
    "x = return_func('Goodboy2')\n",
    "print(x)\n",
    "\n",
    "# 예제3(다중반환)\n",
    "\n",
    "def func_mul(x):\n",
    "    y1 = x * 10\n",
    "    y2 = x * 20\n",
    "    y3 = x * 30\n",
    "    return y1, y2, y3\n",
    "\n",
    "x, y, z =  func_mul(10)\n",
    "\n",
    "print(x, y, z)\n",
    "\n",
    "# 리스트 리턴\n",
    "def func_mul2(x):\n",
    "    y1 = x * 10\n",
    "    y2 = x * 20\n",
    "    y3 = x * 30\n",
    "    return [y1, y2, y3]\n",
    "\n",
    "q = func_mul2(30)\n",
    "\n",
    "print(type(q), q, set(q))\n",
    "\n"
   ]
  },
  {
   "cell_type": "code",
   "execution_count": null,
   "metadata": {},
   "outputs": [
    {
     "name": "stdout",
     "output_type": "stream",
     "text": [
      "Result : 0 Lee\n",
      "-----\n",
      "Result : 0 Lee\n",
      "Result : 1 Park\n",
      "-----\n",
      "Result : 0 Lee\n",
      "Result : 1 Park\n",
      "Result : 2 kim\n",
      "-----\n",
      "name1 Lee\n",
      "-----\n",
      "name1 Lee\n",
      "-----\n",
      "name2 Park\n",
      "-----\n",
      "name1 Lee\n",
      "-----\n",
      "name2 Park\n",
      "-----\n",
      "name3 Cho\n",
      "-----\n"
     ]
    }
   ],
   "source": [
    "# 중요\n",
    "# *args, **kwargs, 아스타\n",
    "\n",
    "# *args(언팩킹)\n",
    "def args_func(*args): # 매개변수 명 자유\n",
    "    for i, v in enumerate(args):\n",
    "        print('Result : {}'.format(i), v)\n",
    "    print('-----')\n",
    "\n",
    "args_func('Lee')\n",
    "args_func('Lee', 'Park')\n",
    "args_func('Lee', 'Park','kim')\n",
    "\n",
    "# **kwargs(언팩킹)\n",
    "def kwargs_func(**kwargs): # 매개변수 명 자유\n",
    "    for v in kwargs.keys():\n",
    "        print(\"{}\".format(v), kwargs[v])\n",
    "        print('-----')\n",
    "\n",
    "kwargs_func(name1='Lee')\n",
    "kwargs_func(name1='Lee', name2='Park')\n",
    "kwargs_func(name1='Lee', name2='Park', name3='Cho')"
   ]
  },
  {
   "cell_type": "code",
   "execution_count": 5,
   "metadata": {},
   "outputs": [
    {
     "name": "stdout",
     "output_type": "stream",
     "text": [
      "10 20 ('Lee', 'Kim', 'Park') {'age1': 10, 'age2': 20, 'age3': 30}\n"
     ]
    }
   ],
   "source": [
    "# 전체 혼합\n",
    "def example(args_1, args_2, *args, **kwargs):\n",
    "    print(args_1, args_2, args, kwargs)\n",
    "\n",
    "example(10, 20, 'Lee', 'Kim', 'Park', age1=10, age2=20, age3=30)\n",
    "\n"
   ]
  },
  {
   "cell_type": "code",
   "execution_count": null,
   "metadata": {},
   "outputs": [
    {
     "name": "stdout",
     "output_type": "stream",
     "text": [
      "In func\n",
      "200\n"
     ]
    },
    {
     "ename": "NameError",
     "evalue": "name 'func_in_func' is not defined",
     "output_type": "error",
     "traceback": [
      "\u001b[1;31m---------------------------------------------------------------------------\u001b[0m",
      "\u001b[1;31mNameError\u001b[0m                                 Traceback (most recent call last)",
      "Cell \u001b[1;32mIn[8], line 10\u001b[0m\n\u001b[0;32m      7\u001b[0m     func_in_func(num \u001b[38;5;241m+\u001b[39m \u001b[38;5;241m100\u001b[39m) \u001b[38;5;66;03m#4\u001b[39;00m\n\u001b[0;32m      9\u001b[0m nested_func(\u001b[38;5;241m100\u001b[39m) \u001b[38;5;66;03m#1 -100\u001b[39;00m\n\u001b[1;32m---> 10\u001b[0m func_in_func(\u001b[38;5;241m1000\u001b[39m)\n",
      "\u001b[1;31mNameError\u001b[0m: name 'func_in_func' is not defined"
     ]
    }
   ],
   "source": [
    "# 중첩함수\n",
    "\n",
    "def nested_func(num): #2\n",
    "    def func_in_func(num): #5\n",
    "        print(num) #6\n",
    "    print(\"In func\") #3\n",
    "    func_in_func(num + 100) #4\n",
    "\n",
    "nested_func(100) #1 -100\n",
    "func_in_func(1000)\n",
    "\n",
    "#실행불가, 부모함수를 호출하지는 않고는 자식 함수는 사용할수 없다.\n",
    "# func_in_func(1000)\n",
    "\n"
   ]
  },
  {
   "cell_type": "code",
   "execution_count": 16,
   "metadata": {},
   "outputs": [
    {
     "name": "stdout",
     "output_type": "stream",
     "text": [
      "500\n",
      "500\n",
      "1000\n",
      "2500\n",
      "2000000\n",
      "2000000\n",
      "2000000\n"
     ]
    }
   ],
   "source": [
    "# 람다식 예제\n",
    "# 메모리 절약, 가독성 향상, 코드 간결\n",
    "# 함수는 객체 생성 -> 리소스(메모리) 할당\n",
    "# 람다는 즉시 실행 함수(Heap 초기화) -> 메모리 초기화\n",
    "# 남발 시 가독성 오히려 감소\n",
    "\n",
    "#def mul_func(x, y):\n",
    "# return x * y\n",
    "\n",
    "# lambda x, y : x*y\n",
    "\n",
    "# 일반적함수 -> 변수, 할당당\n",
    "def mul_func(x, y):\n",
    "    return x * y\n",
    "\n",
    "q = mul_func(10,50)\n",
    "\n",
    "print(q)\n",
    "print(mul_func(10,50))\n",
    "\n",
    "mul_func_var = mul_func\n",
    "print(mul_func_var(20,50))\n",
    "\n",
    "# 람다 함수 -> 할당\n",
    "lambda_mul_func = lambda x,y : x*y\n",
    "print(lambda_mul_func(50,50))\n",
    "\n",
    "\n",
    "def func_final(x,y, func):\n",
    "    print(x*y * func(100,100))\n",
    "\n",
    "func_final(10,20, lambda x,y : x * y)\n",
    "func_final(10,20, lambda_mul_func)\n",
    "func_final(10,20, mul_func_var)"
   ]
  }
 ],
 "metadata": {
  "kernelspec": {
   "display_name": "base",
   "language": "python",
   "name": "python3"
  },
  "language_info": {
   "codemirror_mode": {
    "name": "ipython",
    "version": 3
   },
   "file_extension": ".py",
   "mimetype": "text/x-python",
   "name": "python",
   "nbconvert_exporter": "python",
   "pygments_lexer": "ipython3",
   "version": "3.12.7"
  }
 },
 "nbformat": 4,
 "nbformat_minor": 2
}
