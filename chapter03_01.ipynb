{
 "cells": [
  {
   "cell_type": "code",
   "execution_count": null,
   "metadata": {},
   "outputs": [],
   "source": [
    "# 숫자형\n",
    "\n",
    "# 파이썬 지원 자료형\n",
    "\"\"\"\n",
    "int : 정수\n",
    "float : 실수\n",
    "complex : 복소수\n",
    "bool : 불린\n",
    "str : 문자열(시퀀스)\n",
    "list : 리스트(시퀀스)\n",
    "tuple : 튜플(시퀀스)\n",
    "set : 집합\n",
    "dict : 사전\n",
    "\n",
    "\"\"\""
   ]
  },
  {
   "cell_type": "code",
   "execution_count": 47,
   "metadata": {},
   "outputs": [
    {
     "name": "stdout",
     "output_type": "stream",
     "text": [
      "<class 'str'>\n",
      "<class 'bool'>\n",
      "<class 'list'>\n",
      "<class 'int'>\n",
      "<class 'float'>\n",
      "<class 'tuple'>\n",
      "<class 'dict'>\n"
     ]
    }
   ],
   "source": [
    "# 데이터 타입\n",
    "str1 = \"Python\"\n",
    "bool = True\n",
    "str2 = 'Anaconda'\n",
    "float_v = 10.0 # 10 == 10.0\n",
    "int_v = 7\n",
    "list = [str1, str2]\n",
    "dict = {\n",
    "    \"name\" : \"Machine Learning\",\n",
    "    \"version\" : 2.0\n",
    "}\n",
    "tuple = (7,8,9)\n",
    "set = {1,2,3}\n",
    "\n",
    "\n",
    "# 데이터 타입 출력\n",
    "print(type('a'))\n",
    "print(type(True))\n",
    "print(type([]))\n",
    "print(type(3))\n",
    "print(type(10.0))\n",
    "print(type(()))\n",
    "print(type({}))"
   ]
  },
  {
   "cell_type": "code",
   "execution_count": null,
   "metadata": {},
   "outputs": [],
   "source": [
    "# 숫자형 연산자\n",
    "\"\"\"\n",
    "+\n",
    "-\n",
    "*\n",
    "/\n",
    "// :몫\n",
    "% : 나머지\n",
    "abs(x) : 절대값\n",
    "pow(x,y) x**y -> 2 **3\n",
    "\n",
    "\"\"\""
   ]
  },
  {
   "cell_type": "code",
   "execution_count": 26,
   "metadata": {},
   "outputs": [
    {
     "name": "stdout",
     "output_type": "stream",
     "text": [
      "77\n",
      "-14\n",
      "5555555555555555555555\n"
     ]
    }
   ],
   "source": [
    "# 정수 선언\n",
    "i = 77\n",
    "i2 = -14\n",
    "big_int = 5555555555555555555555\n",
    "\n",
    "# 정수 출력\n",
    "print(i)\n",
    "print(i2)\n",
    "print(big_int)"
   ]
  },
  {
   "cell_type": "code",
   "execution_count": 27,
   "metadata": {},
   "outputs": [
    {
     "name": "stdout",
     "output_type": "stream",
     "text": [
      "0.9999\n",
      "3.141592\n",
      "-3.9\n",
      "0.3333333333333333\n"
     ]
    }
   ],
   "source": [
    "# 실수 출력\n",
    "f = 0.9999\n",
    "f2 = 3.141592\n",
    "f3 = -3.9\n",
    "f4 = 3 / 9\n",
    "\n",
    "print(f)\n",
    "print(f2)\n",
    "print(f3)\n",
    "print(f4)"
   ]
  },
  {
   "cell_type": "code",
   "execution_count": 19,
   "metadata": {},
   "outputs": [
    {
     "name": "stdout",
     "output_type": "stream",
     "text": [
      "26\n",
      "12\n",
      "0\n",
      "0\n",
      "2\n",
      "2\n",
      "140720505104856\n",
      "<class 'int'>\n",
      "['__abs__', '__add__', '__and__', '__bool__', '__ceil__', '__class__', '__delattr__', '__dir__', '__divmod__', '__doc__', '__eq__', '__float__', '__floor__', '__floordiv__', '__format__', '__ge__', '__getattribute__', '__getnewargs__', '__getstate__', '__gt__', '__hash__', '__index__', '__init__', '__init_subclass__', '__int__', '__invert__', '__le__', '__lshift__', '__lt__', '__mod__', '__mul__', '__ne__', '__neg__', '__new__', '__or__', '__pos__', '__pow__', '__radd__', '__rand__', '__rdivmod__', '__reduce__', '__reduce_ex__', '__repr__', '__rfloordiv__', '__rlshift__', '__rmod__', '__rmul__', '__ror__', '__round__', '__rpow__', '__rrshift__', '__rshift__', '__rsub__', '__rtruediv__', '__rxor__', '__setattr__', '__sizeof__', '__str__', '__sub__', '__subclasshook__', '__truediv__', '__trunc__', '__xor__', 'as_integer_ratio', 'bit_count', 'bit_length', 'conjugate', 'denominator', 'from_bytes', 'imag', 'is_integer', 'numerator', 'real', 'to_bytes']\n"
     ]
    }
   ],
   "source": [
    "# 연산 실습\n",
    "i2 = 24\n",
    "i2 = 2\n",
    "big_int1 = 777777777777775464621\n",
    "big_int2 = 3154644543212\n",
    "f1 = 1.234\n",
    "f2 = 3.931\n",
    "\n",
    "print(i1+i2)\n",
    "print(i1 // i2)\n",
    "print(i2 // i1)\n",
    "print(i1 % i2)\n",
    "print(i2 % i1)\n",
    "print(i2)\n",
    "print(id(i2))\n",
    "print(type(i2))\n",
    "print(dir(i2))"
   ]
  },
  {
   "cell_type": "code",
   "execution_count": 4,
   "metadata": {},
   "outputs": [
    {
     "name": "stdout",
     "output_type": "stream",
     "text": [
      "<class 'float'> <class 'int'> <class 'float'> <class 'float'>\n",
      "6.0\n",
      "0\n",
      "0.0\n",
      "(3+0j)\n",
      "(3+0j)\n"
     ]
    }
   ],
   "source": [
    "# 형 변환 실습\n",
    "a =3.\n",
    "b = 6\n",
    "c = .7\n",
    "d = 12.7\n",
    "\n",
    "# 타입 출력\n",
    "print(type(a), type(b), type(c), type(d))\n",
    "\n",
    "# 형 변환\n",
    "print(float(b))\n",
    "print(int(c))\n",
    "print(float(False))\n",
    "print(complex(3))\n",
    "print(complex('3'))"
   ]
  },
  {
   "cell_type": "code",
   "execution_count": 13,
   "metadata": {},
   "outputs": [
    {
     "name": "stdout",
     "output_type": "stream",
     "text": [
      "12 4\n",
      "125 125\n"
     ]
    }
   ],
   "source": [
    "# 수치 연산 함수\n",
    "x, y = divmod(100,8)\n",
    "print(x,y)\n",
    "print(pow(5,3), 5 **3)"
   ]
  },
  {
   "cell_type": "code",
   "execution_count": null,
   "metadata": {},
   "outputs": [
    {
     "name": "stdout",
     "output_type": "stream",
     "text": [
      "3.141592653589793\n",
      "6\n"
     ]
    }
   ],
   "source": [
    "# 외부 모듈\n",
    "import math\n",
    "\n",
    "print(math.pi)\n",
    "print(math.ceil(5.1)) # 이상의 수 중에서 가장 적은 정수수"
   ]
  }
 ],
 "metadata": {
  "kernelspec": {
   "display_name": "base",
   "language": "python",
   "name": "python3"
  },
  "language_info": {
   "codemirror_mode": {
    "name": "ipython",
    "version": 3
   },
   "file_extension": ".py",
   "mimetype": "text/x-python",
   "name": "python",
   "nbconvert_exporter": "python",
   "pygments_lexer": "ipython3",
   "version": "3.12.7"
  }
 },
 "nbformat": 4,
 "nbformat_minor": 2
}
