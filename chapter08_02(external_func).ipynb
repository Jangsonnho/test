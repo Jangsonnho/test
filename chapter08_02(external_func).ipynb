{
 "cells": [
  {
   "cell_type": "code",
   "execution_count": null,
   "metadata": {},
   "outputs": [],
   "source": [
    "# 파이썬 외장(external) 함수\n",
    "# 실제 프로그램 개발 중 자주 사용\n",
    "# 종류 : sys, pickle, shutil, temfile, time, random 등\n"
   ]
  },
  {
   "cell_type": "code",
   "execution_count": 1,
   "metadata": {},
   "outputs": [
    {
     "name": "stdout",
     "output_type": "stream",
     "text": [
      "['c:\\\\ProgramData\\\\Anaconda3\\\\Lib\\\\site-packages\\\\ipykernel_launcher.py', '--f=c:\\\\Users\\\\mycomputer\\\\AppData\\\\Roaming\\\\jupyter\\\\runtime\\\\kernel-v3f39732cd51c168171b9a96058fd2aa2d993462a0.json']\n"
     ]
    }
   ],
   "source": [
    "# 예제1\n",
    "import sys\n",
    "print(sys.argv)"
   ]
  },
  {
   "cell_type": "code",
   "execution_count": null,
   "metadata": {},
   "outputs": [],
   "source": [
    "# 예제2(강제 종료)\n",
    "# sys.exit()"
   ]
  },
  {
   "cell_type": "code",
   "execution_count": 2,
   "metadata": {},
   "outputs": [
    {
     "name": "stdout",
     "output_type": "stream",
     "text": [
      "['c:\\\\Users\\\\mycomputer\\\\Desktop\\\\test', 'c:\\\\ProgramData\\\\Anaconda3\\\\python312.zip', 'c:\\\\ProgramData\\\\Anaconda3\\\\DLLs', 'c:\\\\ProgramData\\\\Anaconda3\\\\Lib', 'c:\\\\ProgramData\\\\Anaconda3', '', 'C:\\\\Users\\\\mycomputer\\\\AppData\\\\Roaming\\\\Python\\\\Python312\\\\site-packages', 'c:\\\\ProgramData\\\\Anaconda3\\\\Lib\\\\site-packages', 'c:\\\\ProgramData\\\\Anaconda3\\\\Lib\\\\site-packages\\\\win32', 'c:\\\\ProgramData\\\\Anaconda3\\\\Lib\\\\site-packages\\\\win32\\\\lib', 'c:\\\\ProgramData\\\\Anaconda3\\\\Lib\\\\site-packages\\\\Pythonwin', 'c:\\\\ProgramData\\\\Anaconda3\\\\Lib\\\\site-packages\\\\setuptools\\\\_vendor']\n"
     ]
    }
   ],
   "source": [
    "# 예제3 (파이썬 패키지 위치)\n",
    "print(sys.path)"
   ]
  },
  {
   "cell_type": "code",
   "execution_count": null,
   "metadata": {},
   "outputs": [],
   "source": [
    "# pickle : 객체 파일 읽읽기, 쓰기\n",
    "import pickle"
   ]
  },
  {
   "cell_type": "code",
   "execution_count": 5,
   "metadata": {},
   "outputs": [],
   "source": [
    "# 예제4(쓰기)\n",
    "\n",
    "f = open(\"test.obj\", 'wb')\n",
    "obj = {1: 'python', 2:'study', 3:'basic'}\n",
    "pickle.dump(obj, f)\n",
    "f.close()"
   ]
  },
  {
   "cell_type": "code",
   "execution_count": 7,
   "metadata": {},
   "outputs": [
    {
     "name": "stdout",
     "output_type": "stream",
     "text": [
      "{1: 'python', 2: 'study', 3: 'basic'} <class 'dict'>\n"
     ]
    }
   ],
   "source": [
    "# 예제5(읽기)\n",
    "\n",
    "f = open('test.obj', 'rb')\n",
    "data = pickle.load(f)\n",
    "print(data, type(data))\n",
    "f.close()"
   ]
  },
  {
   "cell_type": "code",
   "execution_count": 9,
   "metadata": {},
   "outputs": [
    {
     "name": "stdout",
     "output_type": "stream",
     "text": [
      "environ({'ALLUSERSPROFILE': 'C:\\\\ProgramData', 'APPDATA': 'C:\\\\Users\\\\mycomputer\\\\AppData\\\\Roaming', 'C:\\\\USERS\\\\<YOURUSERNAME>\\\\APPDATA\\\\LOCAL\\\\PROGRAMS\\\\PYTHON\\\\PYTHONXX\\\\SCRIPTS': 'C:\\\\Users\\\\<YourUsername>\\\\AppData\\\\Local\\\\Programs\\\\Python\\\\PythonXX\\\\Scripts', 'CHROME_CRASHPAD_PIPE_NAME': '\\\\\\\\.\\\\pipe\\\\crashpad_1504_UDDBNJLBLTFPZQGG', 'COMMONPROGRAMFILES': 'C:\\\\Program Files\\\\Common Files', 'COMMONPROGRAMFILES(X86)': 'C:\\\\Program Files (x86)\\\\Common Files', 'COMMONPROGRAMW6432': 'C:\\\\Program Files\\\\Common Files', 'COMPUTERNAME': 'DESKTOP-J0VM10M', 'COMSPEC': 'C:\\\\WINDOWS\\\\system32\\\\cmd.exe', 'CONDA_ALLOW_SOFTLINKS': 'false', 'CONDA_DEFAULT_ENV': 'base', 'CONDA_EXE': 'C:\\\\ProgramData\\\\anaconda3\\\\Scripts\\\\conda.exe', 'CONDA_PREFIX': 'C:\\\\ProgramData\\\\Anaconda3', 'CONDA_PROMPT_MODIFIER': '(base) ', 'CONDA_PYTHON_EXE': 'C:\\\\ProgramData\\\\anaconda3\\\\python.exe', 'CONDA_ROOT': 'C:\\\\ProgramData\\\\Anaconda3', 'CONDA_SHLVL': '1', 'DRIVERDATA': 'C:\\\\Windows\\\\System32\\\\Drivers\\\\DriverData', 'EFC_2484': '1', 'ELECTRON_RUN_AS_NODE': '1', 'FPS_BROWSER_APP_PROFILE_STRING': 'Internet Explorer', 'FPS_BROWSER_USER_PROFILE_STRING': 'Default', 'HOMEDRIVE': 'C:', 'HOMEPATH': '\\\\Users\\\\mycomputer', 'JPY_INTERRUPT_EVENT': '3164', 'LOCALAPPDATA': 'C:\\\\Users\\\\mycomputer\\\\AppData\\\\Local', 'LOGONSERVER': '\\\\\\\\DESKTOP-J0VM10M', 'NUMBER_OF_PROCESSORS': '8', 'ONEDRIVE': 'C:\\\\Users\\\\mycomputer\\\\OneDrive', 'ORIGINAL_XDG_CURRENT_DESKTOP': 'undefined', 'OS': 'Windows_NT', 'PATH': 'c:\\\\ProgramData\\\\Anaconda3;C:\\\\ProgramData\\\\Anaconda3;C:\\\\ProgramData\\\\Anaconda3\\\\Library\\\\mingw-w64\\\\bin;C:\\\\ProgramData\\\\Anaconda3\\\\Library\\\\usr\\\\bin;C:\\\\ProgramData\\\\Anaconda3\\\\Library\\\\bin;C:\\\\ProgramData\\\\Anaconda3\\\\Scripts;C:\\\\ProgramData\\\\Anaconda3\\\\bin;C:\\\\ProgramData\\\\anaconda3\\\\condabin;C:\\\\WINDOWS\\\\system32;C:\\\\WINDOWS;C:\\\\WINDOWS\\\\System32\\\\Wbem;C:\\\\WINDOWS\\\\System32\\\\WindowsPowerShell\\\\v1.0;C:\\\\WINDOWS\\\\System32\\\\OpenSSH;C:\\\\Program Files (x86)\\\\Intel\\\\Intel(R) Management Engine Components\\\\DAL;C:\\\\Program Files\\\\Intel\\\\Intel(R) Management Engine Components\\\\DAL;C:\\\\Program Files\\\\Wondershare\\\\Wondershare DemoCreator (Korean);C:\\\\Program Files\\\\nodejs;C:\\\\Program Files\\\\Git\\\\cmd;C:\\\\Users\\\\mycomputer\\\\AppData\\\\Local\\\\Microsoft\\\\WindowsApps;C:\\\\Users\\\\mycomputer\\\\AppData\\\\Roaming\\\\npm;C:\\\\Users\\\\mycomputer\\\\AppData\\\\Local\\\\Programs\\\\Microsoft VS Code\\\\bin;C:\\\\ProgramData\\\\Anaconda3;C:\\\\ProgramData\\\\Anaconda3\\\\Scripts;C:\\\\ProgramData\\\\Anaconda3\\\\Library\\\\bin;C:\\\\Program Files\\\\Git\\\\bin;C:\\\\Program Files\\\\Git\\\\cmd;.', 'PATHEXT': '.COM;.EXE;.BAT;.CMD;.VBS;.VBE;.JS;.JSE;.WSF;.WSH;.MSC', 'PROCESSOR_ARCHITECTURE': 'AMD64', 'PROCESSOR_IDENTIFIER': 'Intel64 Family 6 Model 142 Stepping 12, GenuineIntel', 'PROCESSOR_LEVEL': '6', 'PROCESSOR_REVISION': '8e0c', 'PROGRAMDATA': 'C:\\\\ProgramData', 'PROGRAMFILES': 'C:\\\\Program Files', 'PROGRAMFILES(X86)': 'C:\\\\Program Files (x86)', 'PROGRAMW6432': 'C:\\\\Program Files', 'PROMPT': '(base) $P$G', 'PSMODULEPATH': 'C:\\\\Program Files\\\\WindowsPowerShell\\\\Modules;C:\\\\WINDOWS\\\\system32\\\\WindowsPowerShell\\\\v1.0\\\\Modules', 'PUBLIC': 'C:\\\\Users\\\\Public', 'PYDEVD_IPYTHON_COMPATIBLE_DEBUGGING': '1', 'PYTHONIOENCODING': 'utf-8', 'PYTHONUNBUFFERED': '1', 'PYTHONUTF8': '1', 'PYTHON_FROZEN_MODULES': 'on', 'SESSIONNAME': 'Console', 'SSL_CERT_FILE': 'C:\\\\ProgramData\\\\Anaconda3\\\\Library\\\\ssl\\\\cacert.pem', 'SYSTEMDRIVE': 'C:', 'SYSTEMROOT': 'C:\\\\WINDOWS', 'TEMP': 'C:\\\\Users\\\\MYCOMP~1\\\\AppData\\\\Local\\\\Temp', 'TMP': 'C:\\\\Users\\\\MYCOMP~1\\\\AppData\\\\Local\\\\Temp', 'USERDOMAIN': 'DESKTOP-J0VM10M', 'USERDOMAIN_ROAMINGPROFILE': 'DESKTOP-J0VM10M', 'USERNAME': 'mycomputer', 'USERPROFILE': 'C:\\\\Users\\\\mycomputer', 'VSCODE_CODE_CACHE_PATH': 'C:\\\\Users\\\\mycomputer\\\\AppData\\\\Roaming\\\\Code\\\\CachedData\\\\e54c774e0add60467559eb0d1e229c6452cf8447', 'VSCODE_CRASH_REPORTER_PROCESS_TYPE': 'extensionHost', 'VSCODE_CWD': 'C:\\\\Users\\\\mycomputer\\\\AppData\\\\Local\\\\Programs\\\\Microsoft VS Code', 'VSCODE_ESM_ENTRYPOINT': 'vs/workbench/api/node/extensionHostProcess', 'VSCODE_HANDLES_UNCAUGHT_ERRORS': 'true', 'VSCODE_IPC_HOOK': '\\\\\\\\.\\\\pipe\\\\57366d5a-1.97.2-main-sock', 'VSCODE_L10N_BUNDLE_LOCATION': '', 'VSCODE_NLS_CONFIG': '{\"userLocale\":\"en-us\",\"osLocale\":\"ko\",\"resolvedLanguage\":\"en\",\"defaultMessagesFile\":\"C:\\\\\\\\Users\\\\\\\\mycomputer\\\\\\\\AppData\\\\\\\\Local\\\\\\\\Programs\\\\\\\\Microsoft VS Code\\\\\\\\resources\\\\\\\\app\\\\\\\\out\\\\\\\\nls.messages.json\",\"locale\":\"en-us\",\"availableLanguages\":{}}', 'VSCODE_PID': '1504', 'WINDIR': 'C:\\\\WINDOWS', 'ZES_ENABLE_SYSMAN': '1', '_CONDA_OLD_CHCP': '949', '__COMPAT_LAYER': 'DetectorsAppHealth', '__CONDA_OPENSLL_CERT_FILE_SET': '\"1\"', 'PYDEVD_USE_FRAME_EVAL': 'NO', 'TERM': 'xterm-color', 'CLICOLOR': '1', 'FORCE_COLOR': '1', 'CLICOLOR_FORCE': '1', 'PAGER': 'cat', 'GIT_PAGER': 'cat', 'MPLBACKEND': 'module://matplotlib_inline.backend_inline'})\n",
      "mycomputer\n"
     ]
    }
   ],
   "source": [
    "# os : 환경변수, 디렉토리(파일) 처리 관련, 운영체제 작업 관련\n",
    "# mkdir, rmdir(비어 있으면 삭제), rename\n",
    "\n",
    "# 예제6\n",
    "import os\n",
    "print(os.environ)\n",
    "print(os.environ[\"USERNAME\"])"
   ]
  },
  {
   "cell_type": "code",
   "execution_count": 10,
   "metadata": {},
   "outputs": [
    {
     "name": "stdout",
     "output_type": "stream",
     "text": [
      "c:\\Users\\mycomputer\\Desktop\\test\n"
     ]
    }
   ],
   "source": [
    "# 예제7(현재경로)\n",
    "print(os.getcwd())"
   ]
  },
  {
   "cell_type": "code",
   "execution_count": 11,
   "metadata": {},
   "outputs": [
    {
     "name": "stdout",
     "output_type": "stream",
     "text": [
      "1739791756.053451\n"
     ]
    }
   ],
   "source": [
    "# time : 시간 관련 처리\n",
    "import time\n",
    "\n",
    "# 예제8\n",
    "print(time.time())"
   ]
  },
  {
   "cell_type": "code",
   "execution_count": 12,
   "metadata": {},
   "outputs": [
    {
     "name": "stdout",
     "output_type": "stream",
     "text": [
      "time.struct_time(tm_year=2025, tm_mon=2, tm_mday=17, tm_hour=20, tm_min=30, tm_sec=1, tm_wday=0, tm_yday=48, tm_isdst=0)\n"
     ]
    }
   ],
   "source": [
    "# 예제9(형태 변환)\n",
    "\n",
    "print(time.localtime(time.time()))"
   ]
  },
  {
   "cell_type": "code",
   "execution_count": 13,
   "metadata": {},
   "outputs": [
    {
     "name": "stdout",
     "output_type": "stream",
     "text": [
      "Mon Feb 17 20:30:33 2025\n"
     ]
    }
   ],
   "source": [
    "# 예제10(간단 표현)\n",
    "\n",
    "print(time.ctime())"
   ]
  },
  {
   "cell_type": "code",
   "execution_count": null,
   "metadata": {},
   "outputs": [
    {
     "name": "stdout",
     "output_type": "stream",
     "text": [
      "2025-02-17 20:32:12\n"
     ]
    }
   ],
   "source": [
    "# 예제11(형식 표현)\n",
    "print(time.strftime('%Y-%m-%d %H:%M:%S', time.localtime(time.time())))"
   ]
  },
  {
   "cell_type": "code",
   "execution_count": null,
   "metadata": {},
   "outputs": [
    {
     "name": "stdout",
     "output_type": "stream",
     "text": [
      "0\n",
      "1\n",
      "2\n",
      "3\n",
      "4\n"
     ]
    }
   ],
   "source": [
    "# 예제12(시간 간격 발생)\n",
    "\n",
    "#for i in range(5):\n",
    "    # print(i)\n",
    "    # time.sleep(2)"
   ]
  },
  {
   "cell_type": "code",
   "execution_count": null,
   "metadata": {},
   "outputs": [
    {
     "name": "stdout",
     "output_type": "stream",
     "text": [
      "0.1464677832997765\n"
     ]
    }
   ],
   "source": [
    "# random : 난수 리턴\n",
    "import random\n",
    "\n",
    "# 예제13\n",
    "\n",
    "print(random.random()) # 0~1 실수수"
   ]
  },
  {
   "cell_type": "code",
   "execution_count": null,
   "metadata": {},
   "outputs": [
    {
     "name": "stdout",
     "output_type": "stream",
     "text": [
      "29\n",
      "33\n"
     ]
    }
   ],
   "source": [
    "# 예제14\n",
    "print(random.randint(1,45))\n",
    "print(random.randrange(1,45)) #range는 44까지 가져옴옴"
   ]
  },
  {
   "cell_type": "code",
   "execution_count": 32,
   "metadata": {},
   "outputs": [
    {
     "name": "stdout",
     "output_type": "stream",
     "text": [
      "[3, 5, 2, 4, 1]\n"
     ]
    }
   ],
   "source": [
    "# 예제15(섞기)\n",
    "\n",
    "d =[1,2,3,4,5]\n",
    "random.shuffle(d)\n",
    "print(d)"
   ]
  },
  {
   "cell_type": "code",
   "execution_count": 38,
   "metadata": {},
   "outputs": [
    {
     "name": "stdout",
     "output_type": "stream",
     "text": [
      "3\n"
     ]
    }
   ],
   "source": [
    "# 예제16(무작위선택)\n",
    "\n",
    "c = random.choice(d)\n",
    "print(c)"
   ]
  },
  {
   "cell_type": "code",
   "execution_count": 40,
   "metadata": {},
   "outputs": [
    {
     "data": {
      "text/plain": [
       "True"
      ]
     },
     "execution_count": 40,
     "metadata": {},
     "output_type": "execute_result"
    }
   ],
   "source": [
    "# webbrowser : 본인 os의 웹 브라우저 실행\n",
    "\n",
    "import webbrowser\n",
    "\n",
    "webbrowser.open(\"http://google.com\")\n",
    "webbrowser.open_new(\"http://google.com\")"
   ]
  }
 ],
 "metadata": {
  "kernelspec": {
   "display_name": "base",
   "language": "python",
   "name": "python3"
  },
  "language_info": {
   "codemirror_mode": {
    "name": "ipython",
    "version": 3
   },
   "file_extension": ".py",
   "mimetype": "text/x-python",
   "name": "python",
   "nbconvert_exporter": "python",
   "pygments_lexer": "ipython3",
   "version": "3.12.7"
  }
 },
 "nbformat": 4,
 "nbformat_minor": 2
}
