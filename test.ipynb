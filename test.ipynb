{
 "cells": [
  {
   "cell_type": "code",
   "execution_count": null,
   "metadata": {},
   "outputs": [
    {
     "data": {
      "text/plain": [
       "['test.ipynb']"
      ]
     },
     "execution_count": 10,
     "metadata": {},
     "output_type": "execute_result"
    }
   ],
   "source": [
    "import os\n",
    "os.listdir('.')"
   ]
  },
  {
   "cell_type": "code",
   "execution_count": null,
   "metadata": {},
   "outputs": [
    {
     "name": "stdout",
     "output_type": "stream",
     "text": [
      "['Forward', 'Audi']\n",
      "[{'color': 'White', 'horepower': 400, 'price': 8000}]\n",
      "\n",
      "\n"
     ]
    }
   ],
   "source": [
    "# 클래스 중심-> 데이터중심-> 객체로 관리\n",
    "\n",
    "#차량1\n",
    "car_company = 'Forward'\n",
    "car_detail = [\n",
    "    {'color' : 'White'},\n",
    "    {'horepower' :400},\n",
    "    {'price' : 8000}\n",
    "]\n",
    "\n",
    "#차량2\n",
    "car_company = 'BMW'\n",
    "car_detail = [\n",
    "    {'color' : 'Black'},\n",
    "    {'horepower' :400},\n",
    "    {'price' : 8000}\n",
    "]\n",
    "\n",
    "#리스트 구조\n",
    "#관리하기 불편\n",
    "#인덱스 접근 시 실수가능성, 삭제 불편편\n",
    "car_company_list = ['Forward','Bnw','Audi']\n",
    "car_detail_list = [\n",
    "    {'color' : 'White','horepower' :400,'price' : 8000},\n",
    "    {'color' : 'Black', 'horepower' :400,'price' : 8000}\n",
    "]\n",
    "\n",
    "del car_company_list[1]\n",
    "del car_detail_list[1]\n",
    "\n",
    "print(car_company_list)\n",
    "print(car_detail_list)\n",
    "\n"
   ]
  },
  {
   "cell_type": "code",
   "execution_count": 15,
   "metadata": {},
   "outputs": [
    {
     "name": "stdout",
     "output_type": "stream",
     "text": [
      "[{'car_company': 'Ferrai', 'car_detail': {'color': 'White', 'horepower': 400, 'price': 8000}}, {'car_company': 'BMW', 'car_detail': {'color': 'White', 'horepower': 400, 'price': 8000}}]\n"
     ]
    }
   ],
   "source": [
    "#딕셔너리 구조\n",
    "#코드 반복지속, 중접 문제(키), 키 조회 예외 처리 등\n",
    "\n",
    "car_dicts = [\n",
    "    {'car_company' : 'Ferrai', 'car_detail':{'color' : 'White','horepower' :400,'price' : 8000}},\n",
    "    {'car_company' : 'audi', 'car_detail':{'color' : 'White','horepower' :400,'price' : 8000}},\n",
    "    {'car_company' : 'BMW', 'car_detail':{'color' : 'White','horepower' :400,'price' : 8000}}    \n",
    "]\n",
    "\n",
    "del car_dicts[1]\n",
    "\n",
    "print(car_dicts)\n"
   ]
  },
  {
   "cell_type": "code",
   "execution_count": 21,
   "metadata": {},
   "outputs": [
    {
     "name": "stdout",
     "output_type": "stream",
     "text": [
      "str :Ferrai - {'color': 'White', 'horepower': 400, 'price': 8000}\n",
      "{'_company': 'Ferrai', '_details': {'color': 'White', 'horepower': 400, 'price': 8000}}\n",
      "['__class__', '__delattr__', '__dict__', '__dir__', '__doc__', '__eq__', '__format__', '__ge__', '__getattribute__', '__getstate__', '__gt__', '__hash__', '__init__', '__init_subclass__', '__le__', '__lt__', '__module__', '__ne__', '__new__', '__reduce__', '__reduce_ex__', '__repr__', '__setattr__', '__sizeof__', '__str__', '__subclasshook__', '__weakref__', '_company', '_details']\n",
      "[str :Ferrai - {'color': 'White', 'horepower': 400, 'price': 8000}]\n"
     ]
    }
   ],
   "source": [
    "#클래스 구조\n",
    "#구조 설계 후에는 재사용성 증가, 코드 반복 최소화, 매소드 활용\n",
    "\n",
    "class Car():\n",
    "    def __init__(self,company,details):\n",
    "        self._company = company\n",
    "        self._details = details\n",
    "    \n",
    "    def __str__(self):\n",
    "        return 'str :{} - {}'.format(self._company, self._details)\n",
    "\n",
    "    def __repr__(self):\n",
    "        return 'str :{} - {}'.format(self._company, self._details)\n",
    "\n",
    "\n",
    "car1 = Car('Ferrai',{'color' : 'White','horepower' :400,'price' : 8000})\n",
    "\n",
    "print(car1)\n",
    "print(car1.__dict__)\n",
    "print(dir(car1))\n",
    "\n",
    "# 리스트 선언\n",
    "\n",
    "car_list = []\n",
    "\n",
    "car_list.append(car1)\n",
    "\n",
    "print(car_list)\n",
    "\n"
   ]
  },
  {
   "cell_type": "code",
   "execution_count": null,
   "metadata": {},
   "outputs": [],
   "source": [
    "execution_date = context(**arg)\n",
    "\n",
    "def get_db(conn, execution_date, df):\n",
    "    conn = get_conn(db = 'psycopg2')\n",
    "    execution_date = context(**arg)\n",
    "    df = get_data(conn, execution_date)\n",
    "    df = change_df(df)\n",
    "    return df\n",
    "\n",
    "def insert_db(conn, execution_date, df):\n",
    "    conn = get_conn(db ='psycopg2')\n",
    "    execution_date = context(**arg)\n",
    "    df = pd.read_csv('./tableau.csv')\n",
    "    insert(conn,df)\n",
    "\n",
    "\n",
    "conn = get \n",
    "date = \n",
    "df = pd.read_csv('./exam.csv')\n",
    "result = get_db(conn, date, df)"
   ]
  },
  {
   "cell_type": "code",
   "execution_count": null,
   "metadata": {},
   "outputs": [],
   "source": [
    "# db_utils.py\n",
    "from datetime import datetime, timedelta\n",
    "import pandas as pd\n",
    "import psycopg2  # 실제 DB 환경에 맞게 임포트\n",
    "\n",
    "def get_conn(db):\n",
    "    \"\"\"\n",
    "    psycopg2를 이용하여 DB 연결을 생성합니다.\n",
    "    \"\"\"\n",
    "    # 실제 연결 정보는 환경에 맞게 수정\n",
    "    conn = psycopg2.connect(database=db, user='your_user', password='your_password', host='your_host', port='your_port')\n",
    "    return conn\n",
    "\n",
    "def get_data(conn, execution_date=None):\n",
    "    \"\"\"\n",
    "    DB에서 데이터를 조회하여 pandas DataFrame으로 반환합니다.\n",
    "    execution_date가 없으면 현재 시각을 기준으로, \n",
    "    execution_date 기준 30일 전부터 execution_date까지의 데이터를 조회합니다.\n",
    "    \"\"\"\n",
    "    if execution_date is None:\n",
    "        execution_date = datetime.now()\n",
    "    start_date = execution_date - timedelta(days=30)\n",
    "    end_date = execution_date\n",
    "\n",
    "    cursor = conn.cursor()\n",
    "    query = f\"\"\"\n",
    "        SELECT *\n",
    "        FROM dw_test\n",
    "        WHERE date_column BETWEEN '{start_date}' AND '{end_date}'\n",
    "    \"\"\"\n",
    "    cursor.execute(query)\n",
    "    results = cursor.fetchall()\n",
    "    conn.commit()\n",
    "    columns = [desc[0] for desc in cursor.description] if cursor.description else None\n",
    "    df = pd.DataFrame(results, columns=columns)\n",
    "    return df\n",
    "\n",
    "def change_df(df):\n",
    "    \"\"\"\n",
    "    DataFrame 전처리 함수 예시.\n",
    "    실제 전처리 로직에 맞게 수정하세요.\n",
    "    \"\"\"\n",
    "    # 예시: 컬럼 이름을 소문자로 변경\n",
    "    df.columns = [col.lower() for col in df.columns]\n",
    "    return df\n",
    "\n",
    "def insert(conn, df):\n",
    "    \"\"\"\n",
    "    DataFrame의 데이터를 DB에 삽입하는 함수 예시.\n",
    "    실제 테이블 스키마와 삽입 방식에 맞게 수정하세요.\n",
    "    \"\"\"\n",
    "    cursor = conn.cursor()\n",
    "    # 예시: df의 각 행을 INSERT 문으로 처리\n",
    "    for _, row in df.iterrows():\n",
    "        # 실제 테이블 및 컬럼명에 맞게 쿼리 구성 필요\n",
    "        query = f\"INSERT INTO your_table VALUES ({','.join(map(str, row.tolist()))})\"\n",
    "        cursor.execute(query)\n",
    "    conn.commit()"
   ]
  },
  {
   "cell_type": "code",
   "execution_count": null,
   "metadata": {},
   "outputs": [],
   "source": [
    "# process_functions.py\n",
    "import pandas as pd\n",
    "from db_utils import get_conn, get_data, change_df, insert\n",
    "\n",
    "def get_db(**kwargs):\n",
    "    \"\"\"\n",
    "    Airflow의 실행 컨텍스트에서 execution_date를 받아,\n",
    "    DB 연결 후 데이터를 조회(get_data) 및 전처리(change_df)합니다.\n",
    "    \"\"\"\n",
    "    execution_date = kwargs.get('execution_date')\n",
    "    conn = get_conn(db='psycopg2')\n",
    "    df = get_data(conn, execution_date)\n",
    "    df = change_df(df)\n",
    "    # 필요시 XCom에 저장하거나 추가 처리를 할 수 있음\n",
    "    return df\n",
    "\n",
    "def insert_db(**kwargs):\n",
    "    \"\"\"\n",
    "    Airflow의 실행 컨텍스트에서 execution_date를 받아,\n",
    "    CSV 파일을 읽어 DB에 데이터를 삽입(insert)합니다.\n",
    "    \"\"\"\n",
    "    # execution_date를 가져오지만, 이 예시에서는 사용하지 않습니다.\n",
    "    _ = kwargs.get('execution_date')\n",
    "    conn = get_conn(db='psycopg2')\n",
    "    df = pd.read_csv('./tableau.csv')\n",
    "    insert(conn, df)"
   ]
  },
  {
   "cell_type": "code",
   "execution_count": null,
   "metadata": {},
   "outputs": [],
   "source": [
    "# sample_dag_modularized.py\n",
    "from airflow import DAG\n",
    "from airflow.operators.dummy_operator import DummyOperator\n",
    "from airflow.operators.python_operator import PythonOperator\n",
    "from datetime import datetime\n",
    "from process_functions import get_db, insert_db\n",
    "\n",
    "default_args = {\n",
    "    'owner': 'airflow',\n",
    "    'start_date': datetime(2023, 1, 1)\n",
    "}\n",
    "\n",
    "dag = DAG(\n",
    "    'sample_dag_modularized',\n",
    "    default_args=default_args,\n",
    "    schedule_interval='@daily',\n",
    "    catchup=False\n",
    ")\n",
    "\n",
    "# 시작 DummyOperator\n",
    "start = DummyOperator(\n",
    "    task_id='start',\n",
    "    dag=dag\n",
    ")\n",
    "\n",
    "# get_db 작업: 데이터를 조회 및 전처리하는 작업\n",
    "get_db_task = PythonOperator(\n",
    "    task_id='get_db_task',\n",
    "    python_callable=get_db,\n",
    "    provide_context=True,\n",
    "    dag=dag\n",
    ")\n",
    "\n",
    "# insert_db 작업: CSV 파일의 데이터를 DB에 삽입하는 작업\n",
    "insert_db_task = PythonOperator(\n",
    "    task_id='insert_db_task',\n",
    "    python_callable=insert_db,\n",
    "    provide_context=True,\n",
    "    dag=dag\n",
    ")\n",
    "\n",
    "# 종료 DummyOperator\n",
    "end = DummyOperator(\n",
    "    task_id='end',\n",
    "    dag=dag\n",
    ")\n",
    "\n",
    "# 태스크 의존성 설정: start → get_db_task → insert_db_task → end\n",
    "start >> get_db_task >> insert_db_task >> end"
   ]
  }
 ],
 "metadata": {
  "kernelspec": {
   "display_name": "test",
   "language": "python",
   "name": "python3"
  },
  "language_info": {
   "codemirror_mode": {
    "name": "ipython",
    "version": 3
   },
   "file_extension": ".py",
   "mimetype": "text/x-python",
   "name": "python",
   "nbconvert_exporter": "python",
   "pygments_lexer": "ipython3",
   "version": "3.10.16"
  }
 },
 "nbformat": 4,
 "nbformat_minor": 2
}
