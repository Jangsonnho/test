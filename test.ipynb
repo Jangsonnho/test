{
 "cells": [
  {
   "cell_type": "code",
   "execution_count": null,
   "metadata": {},
   "outputs": [
    {
     "data": {
      "text/plain": [
       "['test.ipynb']"
      ]
     },
     "execution_count": 10,
     "metadata": {},
     "output_type": "execute_result"
    }
   ],
   "source": [
    "import os\n",
    "os.listdir('.')"
   ]
  },
  {
   "cell_type": "code",
   "execution_count": null,
   "metadata": {},
   "outputs": [
    {
     "name": "stdout",
     "output_type": "stream",
     "text": [
      "['Forward', 'Audi']\n",
      "[{'color': 'White', 'horepower': 400, 'price': 8000}]\n",
      "\n",
      "\n"
     ]
    }
   ],
   "source": [
    "# 클래스 중심-> 데이터중심-> 객체로 관리\n",
    "\n",
    "#차량1\n",
    "car_company = 'Forward'\n",
    "car_detail = [\n",
    "    {'color' : 'White'},\n",
    "    {'horepower' :400},\n",
    "    {'price' : 8000}\n",
    "]\n",
    "\n",
    "#차량2\n",
    "car_company = 'BMW'\n",
    "car_detail = [\n",
    "    {'color' : 'Black'},\n",
    "    {'horepower' :400},\n",
    "    {'price' : 8000}\n",
    "]\n",
    "\n",
    "#리스트 구조\n",
    "#관리하기 불편\n",
    "#인덱스 접근 시 실수가능성, 삭제 불편편\n",
    "car_company_list = ['Forward','Bnw','Audi']\n",
    "car_detail_list = [\n",
    "    {'color' : 'White','horepower' :400,'price' : 8000},\n",
    "    {'color' : 'Black', 'horepower' :400,'price' : 8000}\n",
    "]\n",
    "\n",
    "del car_company_list[1]\n",
    "del car_detail_list[1]\n",
    "\n",
    "print(car_company_list)\n",
    "print(car_detail_list)\n",
    "\n"
   ]
  },
  {
   "cell_type": "code",
   "execution_count": 15,
   "metadata": {},
   "outputs": [
    {
     "name": "stdout",
     "output_type": "stream",
     "text": [
      "[{'car_company': 'Ferrai', 'car_detail': {'color': 'White', 'horepower': 400, 'price': 8000}}, {'car_company': 'BMW', 'car_detail': {'color': 'White', 'horepower': 400, 'price': 8000}}]\n"
     ]
    }
   ],
   "source": [
    "#딕셔너리 구조\n",
    "#코드 반복지속, 중접 문제(키), 키 조회 예외 처리 등\n",
    "\n",
    "car_dicts = [\n",
    "    {'car_company' : 'Ferrai', 'car_detail':{'color' : 'White','horepower' :400,'price' : 8000}},\n",
    "    {'car_company' : 'audi', 'car_detail':{'color' : 'White','horepower' :400,'price' : 8000}},\n",
    "    {'car_company' : 'BMW', 'car_detail':{'color' : 'White','horepower' :400,'price' : 8000}}    \n",
    "]\n",
    "\n",
    "del car_dicts[1]\n",
    "\n",
    "print(car_dicts)\n"
   ]
  },
  {
   "cell_type": "code",
   "execution_count": 21,
   "metadata": {},
   "outputs": [
    {
     "name": "stdout",
     "output_type": "stream",
     "text": [
      "str :Ferrai - {'color': 'White', 'horepower': 400, 'price': 8000}\n",
      "{'_company': 'Ferrai', '_details': {'color': 'White', 'horepower': 400, 'price': 8000}}\n",
      "['__class__', '__delattr__', '__dict__', '__dir__', '__doc__', '__eq__', '__format__', '__ge__', '__getattribute__', '__getstate__', '__gt__', '__hash__', '__init__', '__init_subclass__', '__le__', '__lt__', '__module__', '__ne__', '__new__', '__reduce__', '__reduce_ex__', '__repr__', '__setattr__', '__sizeof__', '__str__', '__subclasshook__', '__weakref__', '_company', '_details']\n",
      "[str :Ferrai - {'color': 'White', 'horepower': 400, 'price': 8000}]\n"
     ]
    }
   ],
   "source": [
    "#클래스 구조\n",
    "#구조 설계 후에는 재사용성 증가, 코드 반복 최소화, 매소드 활용\n",
    "\n",
    "class Car():\n",
    "    def __init__(self,company,details):\n",
    "        self._company = company\n",
    "        self._details = details\n",
    "    \n",
    "    def __str__(self):\n",
    "        return 'str :{} - {}'.format(self._company, self._details)\n",
    "\n",
    "    def __repr__(self):\n",
    "        return 'str :{} - {}'.format(self._company, self._details)\n",
    "\n",
    "\n",
    "car1 = Car('Ferrai',{'color' : 'White','horepower' :400,'price' : 8000})\n",
    "\n",
    "print(car1)\n",
    "print(car1.__dict__)\n",
    "print(dir(car1))\n",
    "\n",
    "# 리스트 선언\n",
    "\n",
    "car_list = []\n",
    "\n",
    "car_list.append(car1)\n",
    "\n",
    "print(car_list)\n",
    "\n"
   ]
  }
 ],
 "metadata": {
  "kernelspec": {
   "display_name": "base",
   "language": "python",
   "name": "python3"
  },
  "language_info": {
   "codemirror_mode": {
    "name": "ipython",
    "version": 3
   },
   "file_extension": ".py",
   "mimetype": "text/x-python",
   "name": "python",
   "nbconvert_exporter": "python",
   "pygments_lexer": "ipython3",
   "version": "3.12.7"
  }
 },
 "nbformat": 4,
 "nbformat_minor": 2
}
