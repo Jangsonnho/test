{
 "cells": [
  {
   "cell_type": "code",
   "execution_count": 4,
   "metadata": {},
   "outputs": [],
   "source": [
    "import pyodbc"
   ]
  },
  {
   "cell_type": "code",
   "execution_count": 9,
   "metadata": {},
   "outputs": [
    {
     "ename": "Error",
     "evalue": "('01000', \"[01000] [unixODBC][Driver Manager]Can't open lib 'FreeTDS' : file not found (0) (SQLDriverConnect)\")",
     "output_type": "error",
     "traceback": [
      "\u001b[0;31m---------------------------------------------------------------------------\u001b[0m",
      "\u001b[0;31mError\u001b[0m                                     Traceback (most recent call last)",
      "Cell \u001b[0;32mIn[9], line 19\u001b[0m\n\u001b[1;32m      9\u001b[0m connection_string \u001b[38;5;241m=\u001b[39m (\u001b[38;5;124mf\u001b[39m\u001b[38;5;124m\"\u001b[39m\u001b[38;5;124mDRIVER=\u001b[39m\u001b[38;5;130;01m{{\u001b[39;00m\u001b[38;5;124mFreeTDS\u001b[39m\u001b[38;5;130;01m}}\u001b[39;00m\u001b[38;5;124m;\u001b[39m\u001b[38;5;124m\"\u001b[39m\n\u001b[1;32m     10\u001b[0m         \u001b[38;5;124mf\u001b[39m\u001b[38;5;124m\"\u001b[39m\u001b[38;5;124mSERVER=\u001b[39m\u001b[38;5;132;01m{\u001b[39;00mserver\u001b[38;5;132;01m}\u001b[39;00m\u001b[38;5;124m;\u001b[39m\u001b[38;5;124m\"\u001b[39m\n\u001b[1;32m     11\u001b[0m         \u001b[38;5;124mf\u001b[39m\u001b[38;5;124m\"\u001b[39m\u001b[38;5;124mPORT=\u001b[39m\u001b[38;5;132;01m{\u001b[39;00mport\u001b[38;5;132;01m}\u001b[39;00m\u001b[38;5;124m;\u001b[39m\u001b[38;5;124m\"\u001b[39m\n\u001b[0;32m   (...)\u001b[0m\n\u001b[1;32m     16\u001b[0m         \u001b[38;5;124mf\u001b[39m\u001b[38;5;124m\"\u001b[39m\u001b[38;5;124mClientCharset=UTF-8;\u001b[39m\u001b[38;5;124m\"\u001b[39m\n\u001b[1;32m     17\u001b[0m )\n\u001b[1;32m     18\u001b[0m \u001b[38;5;66;03m# 데이터베이스에 연결\u001b[39;00m\n\u001b[0;32m---> 19\u001b[0m conn \u001b[38;5;241m=\u001b[39m pyodbc\u001b[38;5;241m.\u001b[39mconnect(connection_string)\n\u001b[1;32m     21\u001b[0m \u001b[38;5;66;03m# 커서 생성\u001b[39;00m\n\u001b[1;32m     22\u001b[0m cursor \u001b[38;5;241m=\u001b[39m conn\u001b[38;5;241m.\u001b[39mcursor()\n",
      "\u001b[0;31mError\u001b[0m: ('01000', \"[01000] [unixODBC][Driver Manager]Can't open lib 'FreeTDS' : file not found (0) (SQLDriverConnect)\")"
     ]
    }
   ],
   "source": [
    "# 데이터베이스 연결 설정\n",
    "server = '220.85.109.247'  # MySQL 서버 주소\n",
    "database = 'SOFTCRM'  # 데이터베이스 이름\n",
    "username = 'sungmin'  # 사용자 이름\n",
    "password = '0691'  # 비밀번호\n",
    "port = '1433'  # MySQL 포트 번호 (기본값은 3306)\n",
    "\n",
    "# ODBC 연결 문자열\n",
    "connection_string = (f\"DRIVER={{FreeTDS}};\"\n",
    "        f\"SERVER={server};\"\n",
    "        f\"PORT={port};\"\n",
    "        f\"DATABASE={database};\"\n",
    "        f\"UID={username};\"\n",
    "        f\"PWD={password};\"\n",
    "        f\"TDS_Version=7.4;\"\n",
    "        f\"ClientCharset=UTF-8;\"\n",
    ")\n",
    "# 데이터베이스에 연결\n",
    "conn = pyodbc.connect(connection_string)\n",
    "\n",
    "# 커서 생성\n",
    "cursor = conn.cursor()\n",
    "\n"
   ]
  },
  {
   "cell_type": "code",
   "execution_count": null,
   "metadata": {},
   "outputs": [],
   "source": [
    "# 쿼리 실행 예제\n",
    "query = \"SELECT * FROM your_table_name\"\n",
    "cursor.execute(query)\n",
    "\n",
    "# 결과 가져오기\n",
    "rows = cursor.fetchall()\n",
    "\n",
    "# 결과 출력\n",
    "for row in rows:\n",
    "    print(row)\n",
    "\n",
    "# 연결 닫기\n",
    "cursor.close()\n",
    "conn.close()"
   ]
  }
 ],
 "metadata": {
  "kernelspec": {
   "display_name": "test",
   "language": "python",
   "name": "python3"
  },
  "language_info": {
   "codemirror_mode": {
    "name": "ipython",
    "version": 3
   },
   "file_extension": ".py",
   "mimetype": "text/x-python",
   "name": "python",
   "nbconvert_exporter": "python",
   "pygments_lexer": "ipython3",
   "version": "3.12.8"
  }
 },
 "nbformat": 4,
 "nbformat_minor": 2
}
