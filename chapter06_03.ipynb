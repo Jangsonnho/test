{
 "cells": [
  {
   "cell_type": "code",
   "execution_count": null,
   "metadata": {},
   "outputs": [
    {
     "name": "stdout",
     "output_type": "stream",
     "text": [
      "Module1 -> Test1\n",
      "Path :  c:\\Users\\mycomputer\\Desktop\\test\\sub\\sub1\\module1.py\n",
      "Module1 -> Test2\n",
      "Path :  c:\\Users\\mycomputer\\Desktop\\test\\sub\\sub1\\module1.py\n",
      "Module2 -> Test1\n",
      "Path :  c:\\Users\\mycomputer\\Desktop\\test\\sub\\sub2\\module2.py\n",
      "Module2 -> Test2\n",
      "Path :  c:\\Users\\mycomputer\\Desktop\\test\\sub\\sub2\\module2.py\n",
      "\n",
      "\n",
      "\n",
      "Module1 -> Test1\n",
      "Path :  c:\\Users\\mycomputer\\Desktop\\test\\sub\\sub1\\module1.py\n",
      "Module1 -> Test2\n",
      "Path :  c:\\Users\\mycomputer\\Desktop\\test\\sub\\sub1\\module1.py\n",
      "Module2 -> Test1\n",
      "Path :  c:\\Users\\mycomputer\\Desktop\\test\\sub\\sub2\\module2.py\n",
      "Module2 -> Test2\n",
      "Path :  c:\\Users\\mycomputer\\Desktop\\test\\sub\\sub2\\module2.py\n"
     ]
    },
    {
     "ename": "ImportError",
     "evalue": "attempted relative import with no known parent package",
     "output_type": "error",
     "traceback": [
      "\u001b[1;31m---------------------------------------------------------------------------\u001b[0m",
      "\u001b[1;31mImportError\u001b[0m                               Traceback (most recent call last)",
      "Cell \u001b[1;32mIn[4], line 37\u001b[0m\n\u001b[0;32m     33\u001b[0m m2\u001b[38;5;241m.\u001b[39mmod2_test2()\n\u001b[0;32m     36\u001b[0m \u001b[38;5;66;03m# 예제3\u001b[39;00m\n\u001b[1;32m---> 37\u001b[0m \u001b[38;5;28;01mfrom\u001b[39;00m \u001b[38;5;21;01m.\u001b[39;00m\u001b[38;5;21;01msub\u001b[39;00m\u001b[38;5;21;01m.\u001b[39;00m\u001b[38;5;21;01msub1\u001b[39;00m \u001b[38;5;28;01mimport\u001b[39;00m \u001b[38;5;241m*\u001b[39m \u001b[38;5;66;03m# 파이썬 작업할때 불필요한 작업을 한다. / CPU, 메모리 능력저하하\u001b[39;00m\n\u001b[0;32m     38\u001b[0m \u001b[38;5;28;01mfrom\u001b[39;00m \u001b[38;5;21;01msub\u001b[39;00m\u001b[38;5;21;01m.\u001b[39;00m\u001b[38;5;21;01msub2\u001b[39;00m \u001b[38;5;28;01mimport\u001b[39;00m \u001b[38;5;241m*\u001b[39m\n\u001b[0;32m     40\u001b[0m module1\u001b[38;5;241m.\u001b[39mmod1_test1()\n",
      "\u001b[1;31mImportError\u001b[0m: attempted relative import with no known parent package"
     ]
    }
   ],
   "source": [
    "# Chapter06-3\n",
    "# 파이썬 패키지\n",
    "# 패키지 작성 및 사용법\n",
    "# 파이썬은 패키지로 분할 된 개별적인 모듈로 구성\n",
    "# __init__.py : Python3.3 부터는 없어도 패키지로 인식 -> 단, 하위 호환을 위해 작성 추천\n",
    "# 상대 경로 : ..(부모 디렉토리), .(현재 디렉토리) -> 모듈 내부에서만 사용\n",
    "\n",
    "#예제\n",
    "import sub.sub1.module1\n",
    "import sub.sub2.module2\n",
    "\n",
    "# 사용\n",
    "sub.sub1.module1.mod1_test1()\n",
    "sub.sub1.module1.mod1_test2()\n",
    "\n",
    "sub.sub2.module2.mod2_test1()\n",
    "sub.sub2.module2.mod2_test2()\n",
    "\n",
    "print()\n",
    "print()\n",
    "print()\n",
    "\n",
    "# 예제2\n",
    "from sub.sub1 import module1\n",
    "from sub.sub2 import module2 as m2 # Alias\n",
    "\n",
    "# 사용\n",
    "module1.mod1_test1()\n",
    "module1.mod1_test2()\n",
    "\n",
    "# 사용\n",
    "m2.mod2_test1()\n",
    "m2.mod2_test2()\n",
    "\n",
    "\n",
    "# 예제3\n",
    "from sub.sub1 import * # 파이썬 작업할때 불필요한 작업을 한다. / CPU, 메모리 능력저하하\n",
    "from sub.sub2 import *\n",
    "\n",
    "module1.mod1_test1()\n",
    "module1.mod1_test2()\n",
    "\n",
    "# 사용\n",
    "module2.mod2_test1()\n",
    "module2.mod2_test2()\n",
    "\n",
    "\n"
   ]
  }
 ],
 "metadata": {
  "kernelspec": {
   "display_name": "base",
   "language": "python",
   "name": "python3"
  },
  "language_info": {
   "codemirror_mode": {
    "name": "ipython",
    "version": 3
   },
   "file_extension": ".py",
   "mimetype": "text/x-python",
   "name": "python",
   "nbconvert_exporter": "python",
   "pygments_lexer": "ipython3",
   "version": "3.12.7"
  }
 },
 "nbformat": 4,
 "nbformat_minor": 2
}
