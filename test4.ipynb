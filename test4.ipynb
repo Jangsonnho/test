{
 "cells": [
  {
   "cell_type": "code",
   "execution_count": 1,
   "metadata": {},
   "outputs": [
    {
     "ename": "ModuleNotFoundError",
     "evalue": "No module named 'pand'",
     "output_type": "error",
     "traceback": [
      "\u001b[0;31m---------------------------------------------------------------------------\u001b[0m",
      "\u001b[0;31mModuleNotFoundError\u001b[0m                       Traceback (most recent call last)",
      "Cell \u001b[0;32mIn[1], line 1\u001b[0m\n\u001b[0;32m----> 1\u001b[0m \u001b[38;5;28;01mimport\u001b[39;00m \u001b[38;5;21;01mpand\u001b[39;00m \u001b[38;5;28;01mas\u001b[39;00m \u001b[38;5;21;01mpd\u001b[39;00m\n\u001b[1;32m      2\u001b[0m \u001b[38;5;28;01mimport\u001b[39;00m \u001b[38;5;21;01mnumpy\u001b[39;00m \u001b[38;5;28;01mas\u001b[39;00m \u001b[38;5;21;01mnp\u001b[39;00m\n\u001b[1;32m      3\u001b[0m \u001b[38;5;28;01mimport\u001b[39;00m \u001b[38;5;21;01mmatplotlib\u001b[39;00m\u001b[38;5;21;01m.\u001b[39;00m\u001b[38;5;21;01mpyplot\u001b[39;00m \u001b[38;5;28;01mas\u001b[39;00m \u001b[38;5;21;01mplt\u001b[39;00m\n",
      "\u001b[0;31mModuleNotFoundError\u001b[0m: No module named 'pand'"
     ]
    }
   ],
   "source": [
    "import pand as pd\n",
    "import numpy as np\n",
    "import matplotlib.pyplot as plt\n",
    "import seaborn as sns\n",
    "\n",
    "df = pd.read_csv('/data/auto-mpg.csv',header=none)\n",
    "\n",
    "df.columns = ['a','b']\n",
    "\n",
    "df['horsepower'] = df['horsepower'].replace('?',np.nan)\n",
    "df['horsepower'] = df['horsepower'].astype('float')\n",
    "\n",
    "df['horsepower'] = df['horsepower'].fillna(df['horsepower'].mean())\n",
    "\n",
    "ndf = df[['mpg','cylinders','horsepower','weight']]\n",
    "\n",
    "X= ndf[['cylinders','horsepower','weight']]\n",
    "y=ndf[['mpg']]\n",
    "\n",
    "from sklearn.model_selection import train_test_split\n",
    "X_train, X_test, y_train, y_test = train_test_split(X,y,test_size=0.3, random_state=10)\n",
    "\n",
    "from sklearn.linear_model import LinearRegression\n",
    "\n",
    "#단순 회귀분석 모형 객체 생성\n",
    "lr = LinearRegression()\n",
    "\n",
    "lr.fit(X_train,y_train)\n",
    "\n",
    "#학습을 마친 모형에 test data를 적용하여 결정계수(R-제곱) 계산\n",
    "r_square = lr.score(X_test, y_test)\n",
    "\n",
    "#train data의 산점도와 test data로 예측한 회귀선을 그래프로 출력\n",
    "y_hat_test = lr.predict(X_test)\n",
    "\n",
    "from sklearn.metrics import mean_squared_error\n",
    "mse = mean_squared_error(y_test, y_hat_test)\n",
    "\n",
    "from sklearn.metrics import mean_absolute_error\n",
    "mae = mean_absolute_error(y_test, y_hat_test)\n",
    "\n",
    "# 과대적합(overfitting) 대응방안 \n",
    "# 데이터양 늘이기, 모델의 파라미터 수를 줄이거나 다항회귀 차수를 낮추는 등으로 모델 복잡도 감소\n",
    "# 라소또는 리짓 규제 기법을 적용하여 모델의 복잡도에 패널티를 부여 \n",
    "# 교차검증(k-fold) 데이터를 여러 집합으로 나누고, 각각에 대해 훈련과 검증을 반복하여 모델의 성능을 평가\n",
    "# 변수 선택또는 차원축소"
   ]
  },
  {
   "cell_type": "code",
   "execution_count": 2,
   "metadata": {},
   "outputs": [
    {
     "ename": "SyntaxError",
     "evalue": "unterminated triple-quoted string literal (detected at line 50) (2878801194.py, line 49)",
     "output_type": "error",
     "traceback": [
      "\u001b[0;36m  Cell \u001b[0;32mIn[2], line 49\u001b[0;36m\u001b[0m\n\u001b[0;31m    query 6 =\"\"\"\"\u001b[0m\n\u001b[0m             ^\u001b[0m\n\u001b[0;31mSyntaxError\u001b[0m\u001b[0;31m:\u001b[0m unterminated triple-quoted string literal (detected at line 50)\n"
     ]
    }
   ],
   "source": []
  }
 ],
 "metadata": {
  "kernelspec": {
   "display_name": "test",
   "language": "python",
   "name": "python3"
  },
  "language_info": {
   "codemirror_mode": {
    "name": "ipython",
    "version": 3
   },
   "file_extension": ".py",
   "mimetype": "text/x-python",
   "name": "python",
   "nbconvert_exporter": "python",
   "pygments_lexer": "ipython3",
   "version": "3.12.8"
  }
 },
 "nbformat": 4,
 "nbformat_minor": 2
}
