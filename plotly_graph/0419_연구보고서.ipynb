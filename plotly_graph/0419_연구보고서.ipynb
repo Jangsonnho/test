{
 "cells": [
  {
   "cell_type": "code",
   "execution_count": 1,
   "metadata": {},
   "outputs": [
    {
     "data": {
      "text/html": [
       "<div>\n",
       "<style scoped>\n",
       "    .dataframe tbody tr th:only-of-type {\n",
       "        vertical-align: middle;\n",
       "    }\n",
       "\n",
       "    .dataframe tbody tr th {\n",
       "        vertical-align: top;\n",
       "    }\n",
       "\n",
       "    .dataframe thead th {\n",
       "        text-align: right;\n",
       "    }\n",
       "</style>\n",
       "<table border=\"1\" class=\"dataframe\">\n",
       "  <thead>\n",
       "    <tr style=\"text-align: right;\">\n",
       "      <th></th>\n",
       "      <th>cust_num</th>\n",
       "      <th>operation_date</th>\n",
       "      <th>exam_date</th>\n",
       "      <th>operation</th>\n",
       "      <th>op_year_week</th>\n",
       "      <th>total_cost_price</th>\n",
       "      <th>motive</th>\n",
       "      <th>birth_day</th>\n",
       "      <th>job</th>\n",
       "      <th>addr</th>\n",
       "      <th>age</th>\n",
       "    </tr>\n",
       "  </thead>\n",
       "  <tbody>\n",
       "    <tr>\n",
       "      <th>0</th>\n",
       "      <td>2198529</td>\n",
       "      <td>2024-12-31</td>\n",
       "      <td>2024-12-31</td>\n",
       "      <td>토릭 렌즈삽입술</td>\n",
       "      <td>2025-01</td>\n",
       "      <td>6400000</td>\n",
       "      <td>referral_customers</td>\n",
       "      <td>1999-03-25</td>\n",
       "      <td>학생</td>\n",
       "      <td>서울 성북구</td>\n",
       "      <td>25</td>\n",
       "    </tr>\n",
       "    <tr>\n",
       "      <th>1</th>\n",
       "      <td>2198530</td>\n",
       "      <td>2024-12-31</td>\n",
       "      <td>2024-12-31</td>\n",
       "      <td>스마일</td>\n",
       "      <td>2025-01</td>\n",
       "      <td>2400000</td>\n",
       "      <td>search_ad</td>\n",
       "      <td>1989-06-27</td>\n",
       "      <td>자영업/프리랜서</td>\n",
       "      <td>서울 서초구</td>\n",
       "      <td>35</td>\n",
       "    </tr>\n",
       "    <tr>\n",
       "      <th>2</th>\n",
       "      <td>2198531</td>\n",
       "      <td>2024-12-31</td>\n",
       "      <td>2024-12-31</td>\n",
       "      <td>스마일</td>\n",
       "      <td>2025-01</td>\n",
       "      <td>2800000</td>\n",
       "      <td>search_ad</td>\n",
       "      <td>1999-09-28</td>\n",
       "      <td>직장인</td>\n",
       "      <td>경기 고양시</td>\n",
       "      <td>25</td>\n",
       "    </tr>\n",
       "    <tr>\n",
       "      <th>3</th>\n",
       "      <td>2198532</td>\n",
       "      <td>2024-12-31</td>\n",
       "      <td>2024-12-31</td>\n",
       "      <td>스마일</td>\n",
       "      <td>2025-01</td>\n",
       "      <td>2400000</td>\n",
       "      <td>referral_customers</td>\n",
       "      <td>2002-03-12</td>\n",
       "      <td>직장인</td>\n",
       "      <td>서울 도봉구</td>\n",
       "      <td>22</td>\n",
       "    </tr>\n",
       "    <tr>\n",
       "      <th>4</th>\n",
       "      <td>2198533</td>\n",
       "      <td>2024-12-31</td>\n",
       "      <td>2024-12-31</td>\n",
       "      <td>스마일</td>\n",
       "      <td>2025-01</td>\n",
       "      <td>2800000</td>\n",
       "      <td>referral_customers</td>\n",
       "      <td>1997-04-10</td>\n",
       "      <td>직장인</td>\n",
       "      <td>서울 금천구</td>\n",
       "      <td>27</td>\n",
       "    </tr>\n",
       "  </tbody>\n",
       "</table>\n",
       "</div>"
      ],
      "text/plain": [
       "   cust_num operation_date  exam_date operation op_year_week  \\\n",
       "0   2198529     2024-12-31 2024-12-31  토릭 렌즈삽입술      2025-01   \n",
       "1   2198530     2024-12-31 2024-12-31       스마일      2025-01   \n",
       "2   2198531     2024-12-31 2024-12-31       스마일      2025-01   \n",
       "3   2198532     2024-12-31 2024-12-31       스마일      2025-01   \n",
       "4   2198533     2024-12-31 2024-12-31       스마일      2025-01   \n",
       "\n",
       "   total_cost_price              motive  birth_day       job    addr  age  \n",
       "0           6400000  referral_customers 1999-03-25        학생  서울 성북구   25  \n",
       "1           2400000           search_ad 1989-06-27  자영업/프리랜서  서울 서초구   35  \n",
       "2           2800000           search_ad 1999-09-28       직장인  경기 고양시   25  \n",
       "3           2400000  referral_customers 2002-03-12       직장인  서울 도봉구   22  \n",
       "4           2800000  referral_customers 1997-04-10       직장인  서울 금천구   27  "
      ]
     },
     "execution_count": 1,
     "metadata": {},
     "output_type": "execute_result"
    }
   ],
   "source": [
    "%load_ext autoreload\n",
    "%autoreload 2\n",
    "\n",
    "import pandas as pd\n",
    "from graph import *\n",
    "\n",
    "df = pd.read_excel('../Data/2개월 수술데이터.xlsx')\n",
    "columns = ['cust_num', 'operation_date', 'exam_date_x', 'operation', 'op_year_week', 'total_cost_price', 'motive_y', 'birth_day', 'job', 'addr']\n",
    "df = df[columns].rename(columns={\n",
    "    'exam_date_x': 'exam_date',\n",
    "    'motive_y': 'motive'\n",
    "})\n",
    "\n",
    "# 나이 생성\n",
    "df['age'] = df.apply(\n",
    "    lambda row: row['exam_date'].year - row['birth_day'].year, axis=1)\n",
    "df.head(5)"
   ]
  },
  {
   "cell_type": "code",
   "execution_count": 2,
   "metadata": {},
   "outputs": [
    {
     "data": {
      "text/html": [
       "<div>\n",
       "<style scoped>\n",
       "    .dataframe tbody tr th:only-of-type {\n",
       "        vertical-align: middle;\n",
       "    }\n",
       "\n",
       "    .dataframe tbody tr th {\n",
       "        vertical-align: top;\n",
       "    }\n",
       "\n",
       "    .dataframe thead th {\n",
       "        text-align: right;\n",
       "    }\n",
       "</style>\n",
       "<table border=\"1\" class=\"dataframe\">\n",
       "  <thead>\n",
       "    <tr style=\"text-align: right;\">\n",
       "      <th></th>\n",
       "      <th>operation</th>\n",
       "      <th>motive</th>\n",
       "      <th>value</th>\n",
       "    </tr>\n",
       "  </thead>\n",
       "  <tbody>\n",
       "    <tr>\n",
       "      <th>0</th>\n",
       "      <td>라섹</td>\n",
       "      <td>b2b_corporate</td>\n",
       "      <td>35</td>\n",
       "    </tr>\n",
       "    <tr>\n",
       "      <th>1</th>\n",
       "      <td>라섹</td>\n",
       "      <td>motive_b2b_military</td>\n",
       "      <td>14</td>\n",
       "    </tr>\n",
       "    <tr>\n",
       "      <th>2</th>\n",
       "      <td>라섹</td>\n",
       "      <td>promotion</td>\n",
       "      <td>1</td>\n",
       "    </tr>\n",
       "    <tr>\n",
       "      <th>3</th>\n",
       "      <td>라섹</td>\n",
       "      <td>referral_customers</td>\n",
       "      <td>100</td>\n",
       "    </tr>\n",
       "    <tr>\n",
       "      <th>4</th>\n",
       "      <td>라섹</td>\n",
       "      <td>referral_staff</td>\n",
       "      <td>30</td>\n",
       "    </tr>\n",
       "    <tr>\n",
       "      <th>5</th>\n",
       "      <td>라섹</td>\n",
       "      <td>search_ad</td>\n",
       "      <td>128</td>\n",
       "    </tr>\n",
       "    <tr>\n",
       "      <th>6</th>\n",
       "      <td>라섹</td>\n",
       "      <td>기타</td>\n",
       "      <td>2</td>\n",
       "    </tr>\n",
       "    <tr>\n",
       "      <th>7</th>\n",
       "      <td>라식</td>\n",
       "      <td>b2b_corporate</td>\n",
       "      <td>10</td>\n",
       "    </tr>\n",
       "    <tr>\n",
       "      <th>8</th>\n",
       "      <td>라식</td>\n",
       "      <td>motive_b2b_military</td>\n",
       "      <td>1</td>\n",
       "    </tr>\n",
       "    <tr>\n",
       "      <th>9</th>\n",
       "      <td>라식</td>\n",
       "      <td>referral_customers</td>\n",
       "      <td>33</td>\n",
       "    </tr>\n",
       "    <tr>\n",
       "      <th>10</th>\n",
       "      <td>라식</td>\n",
       "      <td>referral_staff</td>\n",
       "      <td>16</td>\n",
       "    </tr>\n",
       "    <tr>\n",
       "      <th>11</th>\n",
       "      <td>라식</td>\n",
       "      <td>search_ad</td>\n",
       "      <td>38</td>\n",
       "    </tr>\n",
       "    <tr>\n",
       "      <th>12</th>\n",
       "      <td>라식</td>\n",
       "      <td>기타</td>\n",
       "      <td>1</td>\n",
       "    </tr>\n",
       "    <tr>\n",
       "      <th>13</th>\n",
       "      <td>렌즈삽입술</td>\n",
       "      <td>b2b_corporate</td>\n",
       "      <td>4</td>\n",
       "    </tr>\n",
       "    <tr>\n",
       "      <th>14</th>\n",
       "      <td>렌즈삽입술</td>\n",
       "      <td>motive_b2b_military</td>\n",
       "      <td>3</td>\n",
       "    </tr>\n",
       "    <tr>\n",
       "      <th>15</th>\n",
       "      <td>렌즈삽입술</td>\n",
       "      <td>promotion</td>\n",
       "      <td>1</td>\n",
       "    </tr>\n",
       "    <tr>\n",
       "      <th>16</th>\n",
       "      <td>렌즈삽입술</td>\n",
       "      <td>referral_customers</td>\n",
       "      <td>21</td>\n",
       "    </tr>\n",
       "    <tr>\n",
       "      <th>17</th>\n",
       "      <td>렌즈삽입술</td>\n",
       "      <td>referral_staff</td>\n",
       "      <td>7</td>\n",
       "    </tr>\n",
       "    <tr>\n",
       "      <th>18</th>\n",
       "      <td>렌즈삽입술</td>\n",
       "      <td>search_ad</td>\n",
       "      <td>18</td>\n",
       "    </tr>\n",
       "    <tr>\n",
       "      <th>19</th>\n",
       "      <td>스마일</td>\n",
       "      <td>b2b_corporate</td>\n",
       "      <td>135</td>\n",
       "    </tr>\n",
       "    <tr>\n",
       "      <th>20</th>\n",
       "      <td>스마일</td>\n",
       "      <td>motive_b2b_military</td>\n",
       "      <td>66</td>\n",
       "    </tr>\n",
       "    <tr>\n",
       "      <th>21</th>\n",
       "      <td>스마일</td>\n",
       "      <td>promotion</td>\n",
       "      <td>5</td>\n",
       "    </tr>\n",
       "    <tr>\n",
       "      <th>22</th>\n",
       "      <td>스마일</td>\n",
       "      <td>referral_customers</td>\n",
       "      <td>495</td>\n",
       "    </tr>\n",
       "    <tr>\n",
       "      <th>23</th>\n",
       "      <td>스마일</td>\n",
       "      <td>referral_staff</td>\n",
       "      <td>119</td>\n",
       "    </tr>\n",
       "    <tr>\n",
       "      <th>24</th>\n",
       "      <td>스마일</td>\n",
       "      <td>search_ad</td>\n",
       "      <td>524</td>\n",
       "    </tr>\n",
       "    <tr>\n",
       "      <th>25</th>\n",
       "      <td>스마일</td>\n",
       "      <td>기타</td>\n",
       "      <td>2</td>\n",
       "    </tr>\n",
       "    <tr>\n",
       "      <th>26</th>\n",
       "      <td>스마일 프로</td>\n",
       "      <td>b2b_corporate</td>\n",
       "      <td>22</td>\n",
       "    </tr>\n",
       "    <tr>\n",
       "      <th>27</th>\n",
       "      <td>스마일 프로</td>\n",
       "      <td>motive_b2b_military</td>\n",
       "      <td>10</td>\n",
       "    </tr>\n",
       "    <tr>\n",
       "      <th>28</th>\n",
       "      <td>스마일 프로</td>\n",
       "      <td>referral_customers</td>\n",
       "      <td>127</td>\n",
       "    </tr>\n",
       "    <tr>\n",
       "      <th>29</th>\n",
       "      <td>스마일 프로</td>\n",
       "      <td>referral_staff</td>\n",
       "      <td>38</td>\n",
       "    </tr>\n",
       "    <tr>\n",
       "      <th>30</th>\n",
       "      <td>스마일 프로</td>\n",
       "      <td>search_ad</td>\n",
       "      <td>127</td>\n",
       "    </tr>\n",
       "    <tr>\n",
       "      <th>31</th>\n",
       "      <td>스마일 프로</td>\n",
       "      <td>기타</td>\n",
       "      <td>1</td>\n",
       "    </tr>\n",
       "    <tr>\n",
       "      <th>32</th>\n",
       "      <td>커스텀 라섹</td>\n",
       "      <td>b2b_corporate</td>\n",
       "      <td>10</td>\n",
       "    </tr>\n",
       "    <tr>\n",
       "      <th>33</th>\n",
       "      <td>커스텀 라섹</td>\n",
       "      <td>motive_b2b_military</td>\n",
       "      <td>3</td>\n",
       "    </tr>\n",
       "    <tr>\n",
       "      <th>34</th>\n",
       "      <td>커스텀 라섹</td>\n",
       "      <td>referral_customers</td>\n",
       "      <td>26</td>\n",
       "    </tr>\n",
       "    <tr>\n",
       "      <th>35</th>\n",
       "      <td>커스텀 라섹</td>\n",
       "      <td>referral_staff</td>\n",
       "      <td>6</td>\n",
       "    </tr>\n",
       "    <tr>\n",
       "      <th>36</th>\n",
       "      <td>커스텀 라섹</td>\n",
       "      <td>search_ad</td>\n",
       "      <td>33</td>\n",
       "    </tr>\n",
       "    <tr>\n",
       "      <th>37</th>\n",
       "      <td>커스텀 라식</td>\n",
       "      <td>b2b_corporate</td>\n",
       "      <td>13</td>\n",
       "    </tr>\n",
       "    <tr>\n",
       "      <th>38</th>\n",
       "      <td>커스텀 라식</td>\n",
       "      <td>motive_b2b_military</td>\n",
       "      <td>3</td>\n",
       "    </tr>\n",
       "    <tr>\n",
       "      <th>39</th>\n",
       "      <td>커스텀 라식</td>\n",
       "      <td>referral_customers</td>\n",
       "      <td>38</td>\n",
       "    </tr>\n",
       "    <tr>\n",
       "      <th>40</th>\n",
       "      <td>커스텀 라식</td>\n",
       "      <td>referral_staff</td>\n",
       "      <td>4</td>\n",
       "    </tr>\n",
       "    <tr>\n",
       "      <th>41</th>\n",
       "      <td>커스텀 라식</td>\n",
       "      <td>search_ad</td>\n",
       "      <td>45</td>\n",
       "    </tr>\n",
       "    <tr>\n",
       "      <th>42</th>\n",
       "      <td>토릭 렌즈삽입술</td>\n",
       "      <td>b2b_corporate</td>\n",
       "      <td>10</td>\n",
       "    </tr>\n",
       "    <tr>\n",
       "      <th>43</th>\n",
       "      <td>토릭 렌즈삽입술</td>\n",
       "      <td>motive_b2b_military</td>\n",
       "      <td>6</td>\n",
       "    </tr>\n",
       "    <tr>\n",
       "      <th>44</th>\n",
       "      <td>토릭 렌즈삽입술</td>\n",
       "      <td>promotion</td>\n",
       "      <td>1</td>\n",
       "    </tr>\n",
       "    <tr>\n",
       "      <th>45</th>\n",
       "      <td>토릭 렌즈삽입술</td>\n",
       "      <td>referral_customers</td>\n",
       "      <td>58</td>\n",
       "    </tr>\n",
       "    <tr>\n",
       "      <th>46</th>\n",
       "      <td>토릭 렌즈삽입술</td>\n",
       "      <td>referral_staff</td>\n",
       "      <td>23</td>\n",
       "    </tr>\n",
       "    <tr>\n",
       "      <th>47</th>\n",
       "      <td>토릭 렌즈삽입술</td>\n",
       "      <td>search_ad</td>\n",
       "      <td>57</td>\n",
       "    </tr>\n",
       "    <tr>\n",
       "      <th>48</th>\n",
       "      <td>토릭 렌즈삽입술</td>\n",
       "      <td>기타</td>\n",
       "      <td>1</td>\n",
       "    </tr>\n",
       "    <tr>\n",
       "      <th>49</th>\n",
       "      <td>퍼스널 라식</td>\n",
       "      <td>b2b_corporate</td>\n",
       "      <td>1</td>\n",
       "    </tr>\n",
       "    <tr>\n",
       "      <th>50</th>\n",
       "      <td>퍼스널 라식</td>\n",
       "      <td>referral_customers</td>\n",
       "      <td>1</td>\n",
       "    </tr>\n",
       "    <tr>\n",
       "      <th>51</th>\n",
       "      <td>퍼스널 라식</td>\n",
       "      <td>referral_staff</td>\n",
       "      <td>2</td>\n",
       "    </tr>\n",
       "    <tr>\n",
       "      <th>52</th>\n",
       "      <td>퍼스널 라식</td>\n",
       "      <td>search_ad</td>\n",
       "      <td>2</td>\n",
       "    </tr>\n",
       "  </tbody>\n",
       "</table>\n",
       "</div>"
      ],
      "text/plain": [
       "   operation               motive  value\n",
       "0         라섹        b2b_corporate     35\n",
       "1         라섹  motive_b2b_military     14\n",
       "2         라섹            promotion      1\n",
       "3         라섹   referral_customers    100\n",
       "4         라섹       referral_staff     30\n",
       "5         라섹            search_ad    128\n",
       "6         라섹                   기타      2\n",
       "7         라식        b2b_corporate     10\n",
       "8         라식  motive_b2b_military      1\n",
       "9         라식   referral_customers     33\n",
       "10        라식       referral_staff     16\n",
       "11        라식            search_ad     38\n",
       "12        라식                   기타      1\n",
       "13     렌즈삽입술        b2b_corporate      4\n",
       "14     렌즈삽입술  motive_b2b_military      3\n",
       "15     렌즈삽입술            promotion      1\n",
       "16     렌즈삽입술   referral_customers     21\n",
       "17     렌즈삽입술       referral_staff      7\n",
       "18     렌즈삽입술            search_ad     18\n",
       "19       스마일        b2b_corporate    135\n",
       "20       스마일  motive_b2b_military     66\n",
       "21       스마일            promotion      5\n",
       "22       스마일   referral_customers    495\n",
       "23       스마일       referral_staff    119\n",
       "24       스마일            search_ad    524\n",
       "25       스마일                   기타      2\n",
       "26    스마일 프로        b2b_corporate     22\n",
       "27    스마일 프로  motive_b2b_military     10\n",
       "28    스마일 프로   referral_customers    127\n",
       "29    스마일 프로       referral_staff     38\n",
       "30    스마일 프로            search_ad    127\n",
       "31    스마일 프로                   기타      1\n",
       "32    커스텀 라섹        b2b_corporate     10\n",
       "33    커스텀 라섹  motive_b2b_military      3\n",
       "34    커스텀 라섹   referral_customers     26\n",
       "35    커스텀 라섹       referral_staff      6\n",
       "36    커스텀 라섹            search_ad     33\n",
       "37    커스텀 라식        b2b_corporate     13\n",
       "38    커스텀 라식  motive_b2b_military      3\n",
       "39    커스텀 라식   referral_customers     38\n",
       "40    커스텀 라식       referral_staff      4\n",
       "41    커스텀 라식            search_ad     45\n",
       "42  토릭 렌즈삽입술        b2b_corporate     10\n",
       "43  토릭 렌즈삽입술  motive_b2b_military      6\n",
       "44  토릭 렌즈삽입술            promotion      1\n",
       "45  토릭 렌즈삽입술   referral_customers     58\n",
       "46  토릭 렌즈삽입술       referral_staff     23\n",
       "47  토릭 렌즈삽입술            search_ad     57\n",
       "48  토릭 렌즈삽입술                   기타      1\n",
       "49    퍼스널 라식        b2b_corporate      1\n",
       "50    퍼스널 라식   referral_customers      1\n",
       "51    퍼스널 라식       referral_staff      2\n",
       "52    퍼스널 라식            search_ad      2"
      ]
     },
     "execution_count": 2,
     "metadata": {},
     "output_type": "execute_result"
    }
   ],
   "source": [
    "df_plot = df.groupby(['operation', 'motive'])[\"cust_num\"].count().reset_index(name='value')\n",
    "df_plot"
   ]
  },
  {
   "cell_type": "code",
   "execution_count": 61,
   "metadata": {},
   "outputs": [
    {
     "data": {
      "text/html": [
       "<div>\n",
       "<style scoped>\n",
       "    .dataframe tbody tr th:only-of-type {\n",
       "        vertical-align: middle;\n",
       "    }\n",
       "\n",
       "    .dataframe tbody tr th {\n",
       "        vertical-align: top;\n",
       "    }\n",
       "\n",
       "    .dataframe thead th {\n",
       "        text-align: right;\n",
       "    }\n",
       "</style>\n",
       "<table border=\"1\" class=\"dataframe\">\n",
       "  <thead>\n",
       "    <tr style=\"text-align: right;\">\n",
       "      <th></th>\n",
       "      <th>operation</th>\n",
       "      <th>total</th>\n",
       "    </tr>\n",
       "  </thead>\n",
       "  <tbody>\n",
       "    <tr>\n",
       "      <th>0</th>\n",
       "      <td>라섹</td>\n",
       "      <td>310</td>\n",
       "    </tr>\n",
       "    <tr>\n",
       "      <th>1</th>\n",
       "      <td>라식</td>\n",
       "      <td>99</td>\n",
       "    </tr>\n",
       "    <tr>\n",
       "      <th>2</th>\n",
       "      <td>렌즈삽입술</td>\n",
       "      <td>54</td>\n",
       "    </tr>\n",
       "    <tr>\n",
       "      <th>3</th>\n",
       "      <td>스마일</td>\n",
       "      <td>1346</td>\n",
       "    </tr>\n",
       "    <tr>\n",
       "      <th>4</th>\n",
       "      <td>스마일 프로</td>\n",
       "      <td>325</td>\n",
       "    </tr>\n",
       "    <tr>\n",
       "      <th>5</th>\n",
       "      <td>커스텀 라섹</td>\n",
       "      <td>78</td>\n",
       "    </tr>\n",
       "    <tr>\n",
       "      <th>6</th>\n",
       "      <td>커스텀 라식</td>\n",
       "      <td>103</td>\n",
       "    </tr>\n",
       "    <tr>\n",
       "      <th>7</th>\n",
       "      <td>토릭 렌즈삽입술</td>\n",
       "      <td>156</td>\n",
       "    </tr>\n",
       "    <tr>\n",
       "      <th>8</th>\n",
       "      <td>퍼스널 라식</td>\n",
       "      <td>6</td>\n",
       "    </tr>\n",
       "  </tbody>\n",
       "</table>\n",
       "</div>"
      ],
      "text/plain": [
       "  operation  total\n",
       "0        라섹    310\n",
       "1        라식     99\n",
       "2     렌즈삽입술     54\n",
       "3       스마일   1346\n",
       "4    스마일 프로    325\n",
       "5    커스텀 라섹     78\n",
       "6    커스텀 라식    103\n",
       "7  토릭 렌즈삽입술    156\n",
       "8    퍼스널 라식      6"
      ]
     },
     "execution_count": 61,
     "metadata": {},
     "output_type": "execute_result"
    }
   ],
   "source": [
    "df_sum = df_plot.groupby('operation')['value'].sum().reset_index(name='total')\n",
    "df_sum"
   ]
  },
  {
   "cell_type": "code",
   "execution_count": 62,
   "metadata": {},
   "outputs": [
    {
     "data": {
      "text/html": [
       "<div>\n",
       "<style scoped>\n",
       "    .dataframe tbody tr th:only-of-type {\n",
       "        vertical-align: middle;\n",
       "    }\n",
       "\n",
       "    .dataframe tbody tr th {\n",
       "        vertical-align: top;\n",
       "    }\n",
       "\n",
       "    .dataframe thead th {\n",
       "        text-align: right;\n",
       "    }\n",
       "</style>\n",
       "<table border=\"1\" class=\"dataframe\">\n",
       "  <thead>\n",
       "    <tr style=\"text-align: right;\">\n",
       "      <th></th>\n",
       "      <th>operation</th>\n",
       "      <th>motive</th>\n",
       "      <th>value</th>\n",
       "      <th>total</th>\n",
       "    </tr>\n",
       "  </thead>\n",
       "  <tbody>\n",
       "    <tr>\n",
       "      <th>0</th>\n",
       "      <td>라섹</td>\n",
       "      <td>b2b_corporate</td>\n",
       "      <td>35</td>\n",
       "      <td>310</td>\n",
       "    </tr>\n",
       "    <tr>\n",
       "      <th>1</th>\n",
       "      <td>라섹</td>\n",
       "      <td>motive_b2b_military</td>\n",
       "      <td>14</td>\n",
       "      <td>310</td>\n",
       "    </tr>\n",
       "    <tr>\n",
       "      <th>2</th>\n",
       "      <td>라섹</td>\n",
       "      <td>promotion</td>\n",
       "      <td>1</td>\n",
       "      <td>310</td>\n",
       "    </tr>\n",
       "    <tr>\n",
       "      <th>3</th>\n",
       "      <td>라섹</td>\n",
       "      <td>referral_customers</td>\n",
       "      <td>100</td>\n",
       "      <td>310</td>\n",
       "    </tr>\n",
       "    <tr>\n",
       "      <th>4</th>\n",
       "      <td>라섹</td>\n",
       "      <td>referral_staff</td>\n",
       "      <td>30</td>\n",
       "      <td>310</td>\n",
       "    </tr>\n",
       "    <tr>\n",
       "      <th>5</th>\n",
       "      <td>라섹</td>\n",
       "      <td>search_ad</td>\n",
       "      <td>128</td>\n",
       "      <td>310</td>\n",
       "    </tr>\n",
       "    <tr>\n",
       "      <th>6</th>\n",
       "      <td>라섹</td>\n",
       "      <td>기타</td>\n",
       "      <td>2</td>\n",
       "      <td>310</td>\n",
       "    </tr>\n",
       "    <tr>\n",
       "      <th>7</th>\n",
       "      <td>라식</td>\n",
       "      <td>b2b_corporate</td>\n",
       "      <td>10</td>\n",
       "      <td>99</td>\n",
       "    </tr>\n",
       "    <tr>\n",
       "      <th>8</th>\n",
       "      <td>라식</td>\n",
       "      <td>motive_b2b_military</td>\n",
       "      <td>1</td>\n",
       "      <td>99</td>\n",
       "    </tr>\n",
       "    <tr>\n",
       "      <th>9</th>\n",
       "      <td>라식</td>\n",
       "      <td>referral_customers</td>\n",
       "      <td>33</td>\n",
       "      <td>99</td>\n",
       "    </tr>\n",
       "    <tr>\n",
       "      <th>10</th>\n",
       "      <td>라식</td>\n",
       "      <td>referral_staff</td>\n",
       "      <td>16</td>\n",
       "      <td>99</td>\n",
       "    </tr>\n",
       "    <tr>\n",
       "      <th>11</th>\n",
       "      <td>라식</td>\n",
       "      <td>search_ad</td>\n",
       "      <td>38</td>\n",
       "      <td>99</td>\n",
       "    </tr>\n",
       "    <tr>\n",
       "      <th>12</th>\n",
       "      <td>라식</td>\n",
       "      <td>기타</td>\n",
       "      <td>1</td>\n",
       "      <td>99</td>\n",
       "    </tr>\n",
       "    <tr>\n",
       "      <th>13</th>\n",
       "      <td>렌즈삽입술</td>\n",
       "      <td>b2b_corporate</td>\n",
       "      <td>4</td>\n",
       "      <td>54</td>\n",
       "    </tr>\n",
       "    <tr>\n",
       "      <th>14</th>\n",
       "      <td>렌즈삽입술</td>\n",
       "      <td>motive_b2b_military</td>\n",
       "      <td>3</td>\n",
       "      <td>54</td>\n",
       "    </tr>\n",
       "    <tr>\n",
       "      <th>15</th>\n",
       "      <td>렌즈삽입술</td>\n",
       "      <td>promotion</td>\n",
       "      <td>1</td>\n",
       "      <td>54</td>\n",
       "    </tr>\n",
       "    <tr>\n",
       "      <th>16</th>\n",
       "      <td>렌즈삽입술</td>\n",
       "      <td>referral_customers</td>\n",
       "      <td>21</td>\n",
       "      <td>54</td>\n",
       "    </tr>\n",
       "    <tr>\n",
       "      <th>17</th>\n",
       "      <td>렌즈삽입술</td>\n",
       "      <td>referral_staff</td>\n",
       "      <td>7</td>\n",
       "      <td>54</td>\n",
       "    </tr>\n",
       "    <tr>\n",
       "      <th>18</th>\n",
       "      <td>렌즈삽입술</td>\n",
       "      <td>search_ad</td>\n",
       "      <td>18</td>\n",
       "      <td>54</td>\n",
       "    </tr>\n",
       "    <tr>\n",
       "      <th>19</th>\n",
       "      <td>스마일</td>\n",
       "      <td>b2b_corporate</td>\n",
       "      <td>135</td>\n",
       "      <td>1346</td>\n",
       "    </tr>\n",
       "    <tr>\n",
       "      <th>20</th>\n",
       "      <td>스마일</td>\n",
       "      <td>motive_b2b_military</td>\n",
       "      <td>66</td>\n",
       "      <td>1346</td>\n",
       "    </tr>\n",
       "    <tr>\n",
       "      <th>21</th>\n",
       "      <td>스마일</td>\n",
       "      <td>promotion</td>\n",
       "      <td>5</td>\n",
       "      <td>1346</td>\n",
       "    </tr>\n",
       "    <tr>\n",
       "      <th>22</th>\n",
       "      <td>스마일</td>\n",
       "      <td>referral_customers</td>\n",
       "      <td>495</td>\n",
       "      <td>1346</td>\n",
       "    </tr>\n",
       "    <tr>\n",
       "      <th>23</th>\n",
       "      <td>스마일</td>\n",
       "      <td>referral_staff</td>\n",
       "      <td>119</td>\n",
       "      <td>1346</td>\n",
       "    </tr>\n",
       "    <tr>\n",
       "      <th>24</th>\n",
       "      <td>스마일</td>\n",
       "      <td>search_ad</td>\n",
       "      <td>524</td>\n",
       "      <td>1346</td>\n",
       "    </tr>\n",
       "    <tr>\n",
       "      <th>25</th>\n",
       "      <td>스마일</td>\n",
       "      <td>기타</td>\n",
       "      <td>2</td>\n",
       "      <td>1346</td>\n",
       "    </tr>\n",
       "    <tr>\n",
       "      <th>26</th>\n",
       "      <td>스마일 프로</td>\n",
       "      <td>b2b_corporate</td>\n",
       "      <td>22</td>\n",
       "      <td>325</td>\n",
       "    </tr>\n",
       "    <tr>\n",
       "      <th>27</th>\n",
       "      <td>스마일 프로</td>\n",
       "      <td>motive_b2b_military</td>\n",
       "      <td>10</td>\n",
       "      <td>325</td>\n",
       "    </tr>\n",
       "    <tr>\n",
       "      <th>28</th>\n",
       "      <td>스마일 프로</td>\n",
       "      <td>referral_customers</td>\n",
       "      <td>127</td>\n",
       "      <td>325</td>\n",
       "    </tr>\n",
       "    <tr>\n",
       "      <th>29</th>\n",
       "      <td>스마일 프로</td>\n",
       "      <td>referral_staff</td>\n",
       "      <td>38</td>\n",
       "      <td>325</td>\n",
       "    </tr>\n",
       "    <tr>\n",
       "      <th>30</th>\n",
       "      <td>스마일 프로</td>\n",
       "      <td>search_ad</td>\n",
       "      <td>127</td>\n",
       "      <td>325</td>\n",
       "    </tr>\n",
       "    <tr>\n",
       "      <th>31</th>\n",
       "      <td>스마일 프로</td>\n",
       "      <td>기타</td>\n",
       "      <td>1</td>\n",
       "      <td>325</td>\n",
       "    </tr>\n",
       "    <tr>\n",
       "      <th>32</th>\n",
       "      <td>커스텀 라섹</td>\n",
       "      <td>b2b_corporate</td>\n",
       "      <td>10</td>\n",
       "      <td>78</td>\n",
       "    </tr>\n",
       "    <tr>\n",
       "      <th>33</th>\n",
       "      <td>커스텀 라섹</td>\n",
       "      <td>motive_b2b_military</td>\n",
       "      <td>3</td>\n",
       "      <td>78</td>\n",
       "    </tr>\n",
       "    <tr>\n",
       "      <th>34</th>\n",
       "      <td>커스텀 라섹</td>\n",
       "      <td>referral_customers</td>\n",
       "      <td>26</td>\n",
       "      <td>78</td>\n",
       "    </tr>\n",
       "    <tr>\n",
       "      <th>35</th>\n",
       "      <td>커스텀 라섹</td>\n",
       "      <td>referral_staff</td>\n",
       "      <td>6</td>\n",
       "      <td>78</td>\n",
       "    </tr>\n",
       "    <tr>\n",
       "      <th>36</th>\n",
       "      <td>커스텀 라섹</td>\n",
       "      <td>search_ad</td>\n",
       "      <td>33</td>\n",
       "      <td>78</td>\n",
       "    </tr>\n",
       "    <tr>\n",
       "      <th>37</th>\n",
       "      <td>커스텀 라식</td>\n",
       "      <td>b2b_corporate</td>\n",
       "      <td>13</td>\n",
       "      <td>103</td>\n",
       "    </tr>\n",
       "    <tr>\n",
       "      <th>38</th>\n",
       "      <td>커스텀 라식</td>\n",
       "      <td>motive_b2b_military</td>\n",
       "      <td>3</td>\n",
       "      <td>103</td>\n",
       "    </tr>\n",
       "    <tr>\n",
       "      <th>39</th>\n",
       "      <td>커스텀 라식</td>\n",
       "      <td>referral_customers</td>\n",
       "      <td>38</td>\n",
       "      <td>103</td>\n",
       "    </tr>\n",
       "    <tr>\n",
       "      <th>40</th>\n",
       "      <td>커스텀 라식</td>\n",
       "      <td>referral_staff</td>\n",
       "      <td>4</td>\n",
       "      <td>103</td>\n",
       "    </tr>\n",
       "    <tr>\n",
       "      <th>41</th>\n",
       "      <td>커스텀 라식</td>\n",
       "      <td>search_ad</td>\n",
       "      <td>45</td>\n",
       "      <td>103</td>\n",
       "    </tr>\n",
       "    <tr>\n",
       "      <th>42</th>\n",
       "      <td>토릭 렌즈삽입술</td>\n",
       "      <td>b2b_corporate</td>\n",
       "      <td>10</td>\n",
       "      <td>156</td>\n",
       "    </tr>\n",
       "    <tr>\n",
       "      <th>43</th>\n",
       "      <td>토릭 렌즈삽입술</td>\n",
       "      <td>motive_b2b_military</td>\n",
       "      <td>6</td>\n",
       "      <td>156</td>\n",
       "    </tr>\n",
       "    <tr>\n",
       "      <th>44</th>\n",
       "      <td>토릭 렌즈삽입술</td>\n",
       "      <td>promotion</td>\n",
       "      <td>1</td>\n",
       "      <td>156</td>\n",
       "    </tr>\n",
       "    <tr>\n",
       "      <th>45</th>\n",
       "      <td>토릭 렌즈삽입술</td>\n",
       "      <td>referral_customers</td>\n",
       "      <td>58</td>\n",
       "      <td>156</td>\n",
       "    </tr>\n",
       "    <tr>\n",
       "      <th>46</th>\n",
       "      <td>토릭 렌즈삽입술</td>\n",
       "      <td>referral_staff</td>\n",
       "      <td>23</td>\n",
       "      <td>156</td>\n",
       "    </tr>\n",
       "    <tr>\n",
       "      <th>47</th>\n",
       "      <td>토릭 렌즈삽입술</td>\n",
       "      <td>search_ad</td>\n",
       "      <td>57</td>\n",
       "      <td>156</td>\n",
       "    </tr>\n",
       "    <tr>\n",
       "      <th>48</th>\n",
       "      <td>토릭 렌즈삽입술</td>\n",
       "      <td>기타</td>\n",
       "      <td>1</td>\n",
       "      <td>156</td>\n",
       "    </tr>\n",
       "    <tr>\n",
       "      <th>49</th>\n",
       "      <td>퍼스널 라식</td>\n",
       "      <td>b2b_corporate</td>\n",
       "      <td>1</td>\n",
       "      <td>6</td>\n",
       "    </tr>\n",
       "    <tr>\n",
       "      <th>50</th>\n",
       "      <td>퍼스널 라식</td>\n",
       "      <td>referral_customers</td>\n",
       "      <td>1</td>\n",
       "      <td>6</td>\n",
       "    </tr>\n",
       "    <tr>\n",
       "      <th>51</th>\n",
       "      <td>퍼스널 라식</td>\n",
       "      <td>referral_staff</td>\n",
       "      <td>2</td>\n",
       "      <td>6</td>\n",
       "    </tr>\n",
       "    <tr>\n",
       "      <th>52</th>\n",
       "      <td>퍼스널 라식</td>\n",
       "      <td>search_ad</td>\n",
       "      <td>2</td>\n",
       "      <td>6</td>\n",
       "    </tr>\n",
       "  </tbody>\n",
       "</table>\n",
       "</div>"
      ],
      "text/plain": [
       "   operation               motive  value  total\n",
       "0         라섹        b2b_corporate     35    310\n",
       "1         라섹  motive_b2b_military     14    310\n",
       "2         라섹            promotion      1    310\n",
       "3         라섹   referral_customers    100    310\n",
       "4         라섹       referral_staff     30    310\n",
       "5         라섹            search_ad    128    310\n",
       "6         라섹                   기타      2    310\n",
       "7         라식        b2b_corporate     10     99\n",
       "8         라식  motive_b2b_military      1     99\n",
       "9         라식   referral_customers     33     99\n",
       "10        라식       referral_staff     16     99\n",
       "11        라식            search_ad     38     99\n",
       "12        라식                   기타      1     99\n",
       "13     렌즈삽입술        b2b_corporate      4     54\n",
       "14     렌즈삽입술  motive_b2b_military      3     54\n",
       "15     렌즈삽입술            promotion      1     54\n",
       "16     렌즈삽입술   referral_customers     21     54\n",
       "17     렌즈삽입술       referral_staff      7     54\n",
       "18     렌즈삽입술            search_ad     18     54\n",
       "19       스마일        b2b_corporate    135   1346\n",
       "20       스마일  motive_b2b_military     66   1346\n",
       "21       스마일            promotion      5   1346\n",
       "22       스마일   referral_customers    495   1346\n",
       "23       스마일       referral_staff    119   1346\n",
       "24       스마일            search_ad    524   1346\n",
       "25       스마일                   기타      2   1346\n",
       "26    스마일 프로        b2b_corporate     22    325\n",
       "27    스마일 프로  motive_b2b_military     10    325\n",
       "28    스마일 프로   referral_customers    127    325\n",
       "29    스마일 프로       referral_staff     38    325\n",
       "30    스마일 프로            search_ad    127    325\n",
       "31    스마일 프로                   기타      1    325\n",
       "32    커스텀 라섹        b2b_corporate     10     78\n",
       "33    커스텀 라섹  motive_b2b_military      3     78\n",
       "34    커스텀 라섹   referral_customers     26     78\n",
       "35    커스텀 라섹       referral_staff      6     78\n",
       "36    커스텀 라섹            search_ad     33     78\n",
       "37    커스텀 라식        b2b_corporate     13    103\n",
       "38    커스텀 라식  motive_b2b_military      3    103\n",
       "39    커스텀 라식   referral_customers     38    103\n",
       "40    커스텀 라식       referral_staff      4    103\n",
       "41    커스텀 라식            search_ad     45    103\n",
       "42  토릭 렌즈삽입술        b2b_corporate     10    156\n",
       "43  토릭 렌즈삽입술  motive_b2b_military      6    156\n",
       "44  토릭 렌즈삽입술            promotion      1    156\n",
       "45  토릭 렌즈삽입술   referral_customers     58    156\n",
       "46  토릭 렌즈삽입술       referral_staff     23    156\n",
       "47  토릭 렌즈삽입술            search_ad     57    156\n",
       "48  토릭 렌즈삽입술                   기타      1    156\n",
       "49    퍼스널 라식        b2b_corporate      1      6\n",
       "50    퍼스널 라식   referral_customers      1      6\n",
       "51    퍼스널 라식       referral_staff      2      6\n",
       "52    퍼스널 라식            search_ad      2      6"
      ]
     },
     "execution_count": 62,
     "metadata": {},
     "output_type": "execute_result"
    }
   ],
   "source": [
    "df_plot = pd.merge(df_plot, df_sum, on='operation')\n",
    "df_plot\n"
   ]
  },
  {
   "cell_type": "code",
   "execution_count": 63,
   "metadata": {},
   "outputs": [
    {
     "data": {
      "text/html": [
       "<div>\n",
       "<style scoped>\n",
       "    .dataframe tbody tr th:only-of-type {\n",
       "        vertical-align: middle;\n",
       "    }\n",
       "\n",
       "    .dataframe tbody tr th {\n",
       "        vertical-align: top;\n",
       "    }\n",
       "\n",
       "    .dataframe thead th {\n",
       "        text-align: right;\n",
       "    }\n",
       "</style>\n",
       "<table border=\"1\" class=\"dataframe\">\n",
       "  <thead>\n",
       "    <tr style=\"text-align: right;\">\n",
       "      <th></th>\n",
       "      <th>operation</th>\n",
       "      <th>motive</th>\n",
       "      <th>value</th>\n",
       "      <th>total</th>\n",
       "      <th>ratio</th>\n",
       "    </tr>\n",
       "  </thead>\n",
       "  <tbody>\n",
       "    <tr>\n",
       "      <th>5</th>\n",
       "      <td>라섹</td>\n",
       "      <td>search_ad</td>\n",
       "      <td>128</td>\n",
       "      <td>310</td>\n",
       "      <td>0.412903</td>\n",
       "    </tr>\n",
       "    <tr>\n",
       "      <th>3</th>\n",
       "      <td>라섹</td>\n",
       "      <td>referral_customers</td>\n",
       "      <td>100</td>\n",
       "      <td>310</td>\n",
       "      <td>0.322581</td>\n",
       "    </tr>\n",
       "    <tr>\n",
       "      <th>0</th>\n",
       "      <td>라섹</td>\n",
       "      <td>b2b_corporate</td>\n",
       "      <td>35</td>\n",
       "      <td>310</td>\n",
       "      <td>0.112903</td>\n",
       "    </tr>\n",
       "    <tr>\n",
       "      <th>4</th>\n",
       "      <td>라섹</td>\n",
       "      <td>referral_staff</td>\n",
       "      <td>30</td>\n",
       "      <td>310</td>\n",
       "      <td>0.096774</td>\n",
       "    </tr>\n",
       "    <tr>\n",
       "      <th>1</th>\n",
       "      <td>라섹</td>\n",
       "      <td>motive_b2b_military</td>\n",
       "      <td>14</td>\n",
       "      <td>310</td>\n",
       "      <td>0.045161</td>\n",
       "    </tr>\n",
       "    <tr>\n",
       "      <th>6</th>\n",
       "      <td>라섹</td>\n",
       "      <td>기타</td>\n",
       "      <td>2</td>\n",
       "      <td>310</td>\n",
       "      <td>0.006452</td>\n",
       "    </tr>\n",
       "    <tr>\n",
       "      <th>2</th>\n",
       "      <td>라섹</td>\n",
       "      <td>promotion</td>\n",
       "      <td>1</td>\n",
       "      <td>310</td>\n",
       "      <td>0.003226</td>\n",
       "    </tr>\n",
       "    <tr>\n",
       "      <th>11</th>\n",
       "      <td>라식</td>\n",
       "      <td>search_ad</td>\n",
       "      <td>38</td>\n",
       "      <td>99</td>\n",
       "      <td>0.383838</td>\n",
       "    </tr>\n",
       "    <tr>\n",
       "      <th>9</th>\n",
       "      <td>라식</td>\n",
       "      <td>referral_customers</td>\n",
       "      <td>33</td>\n",
       "      <td>99</td>\n",
       "      <td>0.333333</td>\n",
       "    </tr>\n",
       "    <tr>\n",
       "      <th>10</th>\n",
       "      <td>라식</td>\n",
       "      <td>referral_staff</td>\n",
       "      <td>16</td>\n",
       "      <td>99</td>\n",
       "      <td>0.161616</td>\n",
       "    </tr>\n",
       "    <tr>\n",
       "      <th>7</th>\n",
       "      <td>라식</td>\n",
       "      <td>b2b_corporate</td>\n",
       "      <td>10</td>\n",
       "      <td>99</td>\n",
       "      <td>0.101010</td>\n",
       "    </tr>\n",
       "    <tr>\n",
       "      <th>8</th>\n",
       "      <td>라식</td>\n",
       "      <td>motive_b2b_military</td>\n",
       "      <td>1</td>\n",
       "      <td>99</td>\n",
       "      <td>0.010101</td>\n",
       "    </tr>\n",
       "    <tr>\n",
       "      <th>12</th>\n",
       "      <td>라식</td>\n",
       "      <td>기타</td>\n",
       "      <td>1</td>\n",
       "      <td>99</td>\n",
       "      <td>0.010101</td>\n",
       "    </tr>\n",
       "    <tr>\n",
       "      <th>16</th>\n",
       "      <td>렌즈삽입술</td>\n",
       "      <td>referral_customers</td>\n",
       "      <td>21</td>\n",
       "      <td>54</td>\n",
       "      <td>0.388889</td>\n",
       "    </tr>\n",
       "    <tr>\n",
       "      <th>18</th>\n",
       "      <td>렌즈삽입술</td>\n",
       "      <td>search_ad</td>\n",
       "      <td>18</td>\n",
       "      <td>54</td>\n",
       "      <td>0.333333</td>\n",
       "    </tr>\n",
       "    <tr>\n",
       "      <th>17</th>\n",
       "      <td>렌즈삽입술</td>\n",
       "      <td>referral_staff</td>\n",
       "      <td>7</td>\n",
       "      <td>54</td>\n",
       "      <td>0.129630</td>\n",
       "    </tr>\n",
       "    <tr>\n",
       "      <th>13</th>\n",
       "      <td>렌즈삽입술</td>\n",
       "      <td>b2b_corporate</td>\n",
       "      <td>4</td>\n",
       "      <td>54</td>\n",
       "      <td>0.074074</td>\n",
       "    </tr>\n",
       "    <tr>\n",
       "      <th>14</th>\n",
       "      <td>렌즈삽입술</td>\n",
       "      <td>motive_b2b_military</td>\n",
       "      <td>3</td>\n",
       "      <td>54</td>\n",
       "      <td>0.055556</td>\n",
       "    </tr>\n",
       "    <tr>\n",
       "      <th>15</th>\n",
       "      <td>렌즈삽입술</td>\n",
       "      <td>promotion</td>\n",
       "      <td>1</td>\n",
       "      <td>54</td>\n",
       "      <td>0.018519</td>\n",
       "    </tr>\n",
       "    <tr>\n",
       "      <th>24</th>\n",
       "      <td>스마일</td>\n",
       "      <td>search_ad</td>\n",
       "      <td>524</td>\n",
       "      <td>1346</td>\n",
       "      <td>0.389302</td>\n",
       "    </tr>\n",
       "    <tr>\n",
       "      <th>22</th>\n",
       "      <td>스마일</td>\n",
       "      <td>referral_customers</td>\n",
       "      <td>495</td>\n",
       "      <td>1346</td>\n",
       "      <td>0.367756</td>\n",
       "    </tr>\n",
       "    <tr>\n",
       "      <th>19</th>\n",
       "      <td>스마일</td>\n",
       "      <td>b2b_corporate</td>\n",
       "      <td>135</td>\n",
       "      <td>1346</td>\n",
       "      <td>0.100297</td>\n",
       "    </tr>\n",
       "    <tr>\n",
       "      <th>23</th>\n",
       "      <td>스마일</td>\n",
       "      <td>referral_staff</td>\n",
       "      <td>119</td>\n",
       "      <td>1346</td>\n",
       "      <td>0.088410</td>\n",
       "    </tr>\n",
       "    <tr>\n",
       "      <th>20</th>\n",
       "      <td>스마일</td>\n",
       "      <td>motive_b2b_military</td>\n",
       "      <td>66</td>\n",
       "      <td>1346</td>\n",
       "      <td>0.049034</td>\n",
       "    </tr>\n",
       "    <tr>\n",
       "      <th>21</th>\n",
       "      <td>스마일</td>\n",
       "      <td>promotion</td>\n",
       "      <td>5</td>\n",
       "      <td>1346</td>\n",
       "      <td>0.003715</td>\n",
       "    </tr>\n",
       "    <tr>\n",
       "      <th>25</th>\n",
       "      <td>스마일</td>\n",
       "      <td>기타</td>\n",
       "      <td>2</td>\n",
       "      <td>1346</td>\n",
       "      <td>0.001486</td>\n",
       "    </tr>\n",
       "    <tr>\n",
       "      <th>28</th>\n",
       "      <td>스마일 프로</td>\n",
       "      <td>referral_customers</td>\n",
       "      <td>127</td>\n",
       "      <td>325</td>\n",
       "      <td>0.390769</td>\n",
       "    </tr>\n",
       "    <tr>\n",
       "      <th>30</th>\n",
       "      <td>스마일 프로</td>\n",
       "      <td>search_ad</td>\n",
       "      <td>127</td>\n",
       "      <td>325</td>\n",
       "      <td>0.390769</td>\n",
       "    </tr>\n",
       "    <tr>\n",
       "      <th>29</th>\n",
       "      <td>스마일 프로</td>\n",
       "      <td>referral_staff</td>\n",
       "      <td>38</td>\n",
       "      <td>325</td>\n",
       "      <td>0.116923</td>\n",
       "    </tr>\n",
       "    <tr>\n",
       "      <th>26</th>\n",
       "      <td>스마일 프로</td>\n",
       "      <td>b2b_corporate</td>\n",
       "      <td>22</td>\n",
       "      <td>325</td>\n",
       "      <td>0.067692</td>\n",
       "    </tr>\n",
       "    <tr>\n",
       "      <th>27</th>\n",
       "      <td>스마일 프로</td>\n",
       "      <td>motive_b2b_military</td>\n",
       "      <td>10</td>\n",
       "      <td>325</td>\n",
       "      <td>0.030769</td>\n",
       "    </tr>\n",
       "    <tr>\n",
       "      <th>31</th>\n",
       "      <td>스마일 프로</td>\n",
       "      <td>기타</td>\n",
       "      <td>1</td>\n",
       "      <td>325</td>\n",
       "      <td>0.003077</td>\n",
       "    </tr>\n",
       "    <tr>\n",
       "      <th>36</th>\n",
       "      <td>커스텀 라섹</td>\n",
       "      <td>search_ad</td>\n",
       "      <td>33</td>\n",
       "      <td>78</td>\n",
       "      <td>0.423077</td>\n",
       "    </tr>\n",
       "    <tr>\n",
       "      <th>34</th>\n",
       "      <td>커스텀 라섹</td>\n",
       "      <td>referral_customers</td>\n",
       "      <td>26</td>\n",
       "      <td>78</td>\n",
       "      <td>0.333333</td>\n",
       "    </tr>\n",
       "    <tr>\n",
       "      <th>32</th>\n",
       "      <td>커스텀 라섹</td>\n",
       "      <td>b2b_corporate</td>\n",
       "      <td>10</td>\n",
       "      <td>78</td>\n",
       "      <td>0.128205</td>\n",
       "    </tr>\n",
       "    <tr>\n",
       "      <th>35</th>\n",
       "      <td>커스텀 라섹</td>\n",
       "      <td>referral_staff</td>\n",
       "      <td>6</td>\n",
       "      <td>78</td>\n",
       "      <td>0.076923</td>\n",
       "    </tr>\n",
       "    <tr>\n",
       "      <th>33</th>\n",
       "      <td>커스텀 라섹</td>\n",
       "      <td>motive_b2b_military</td>\n",
       "      <td>3</td>\n",
       "      <td>78</td>\n",
       "      <td>0.038462</td>\n",
       "    </tr>\n",
       "    <tr>\n",
       "      <th>41</th>\n",
       "      <td>커스텀 라식</td>\n",
       "      <td>search_ad</td>\n",
       "      <td>45</td>\n",
       "      <td>103</td>\n",
       "      <td>0.436893</td>\n",
       "    </tr>\n",
       "    <tr>\n",
       "      <th>39</th>\n",
       "      <td>커스텀 라식</td>\n",
       "      <td>referral_customers</td>\n",
       "      <td>38</td>\n",
       "      <td>103</td>\n",
       "      <td>0.368932</td>\n",
       "    </tr>\n",
       "    <tr>\n",
       "      <th>37</th>\n",
       "      <td>커스텀 라식</td>\n",
       "      <td>b2b_corporate</td>\n",
       "      <td>13</td>\n",
       "      <td>103</td>\n",
       "      <td>0.126214</td>\n",
       "    </tr>\n",
       "    <tr>\n",
       "      <th>40</th>\n",
       "      <td>커스텀 라식</td>\n",
       "      <td>referral_staff</td>\n",
       "      <td>4</td>\n",
       "      <td>103</td>\n",
       "      <td>0.038835</td>\n",
       "    </tr>\n",
       "    <tr>\n",
       "      <th>38</th>\n",
       "      <td>커스텀 라식</td>\n",
       "      <td>motive_b2b_military</td>\n",
       "      <td>3</td>\n",
       "      <td>103</td>\n",
       "      <td>0.029126</td>\n",
       "    </tr>\n",
       "    <tr>\n",
       "      <th>45</th>\n",
       "      <td>토릭 렌즈삽입술</td>\n",
       "      <td>referral_customers</td>\n",
       "      <td>58</td>\n",
       "      <td>156</td>\n",
       "      <td>0.371795</td>\n",
       "    </tr>\n",
       "    <tr>\n",
       "      <th>47</th>\n",
       "      <td>토릭 렌즈삽입술</td>\n",
       "      <td>search_ad</td>\n",
       "      <td>57</td>\n",
       "      <td>156</td>\n",
       "      <td>0.365385</td>\n",
       "    </tr>\n",
       "    <tr>\n",
       "      <th>46</th>\n",
       "      <td>토릭 렌즈삽입술</td>\n",
       "      <td>referral_staff</td>\n",
       "      <td>23</td>\n",
       "      <td>156</td>\n",
       "      <td>0.147436</td>\n",
       "    </tr>\n",
       "    <tr>\n",
       "      <th>42</th>\n",
       "      <td>토릭 렌즈삽입술</td>\n",
       "      <td>b2b_corporate</td>\n",
       "      <td>10</td>\n",
       "      <td>156</td>\n",
       "      <td>0.064103</td>\n",
       "    </tr>\n",
       "    <tr>\n",
       "      <th>43</th>\n",
       "      <td>토릭 렌즈삽입술</td>\n",
       "      <td>motive_b2b_military</td>\n",
       "      <td>6</td>\n",
       "      <td>156</td>\n",
       "      <td>0.038462</td>\n",
       "    </tr>\n",
       "    <tr>\n",
       "      <th>44</th>\n",
       "      <td>토릭 렌즈삽입술</td>\n",
       "      <td>promotion</td>\n",
       "      <td>1</td>\n",
       "      <td>156</td>\n",
       "      <td>0.006410</td>\n",
       "    </tr>\n",
       "    <tr>\n",
       "      <th>48</th>\n",
       "      <td>토릭 렌즈삽입술</td>\n",
       "      <td>기타</td>\n",
       "      <td>1</td>\n",
       "      <td>156</td>\n",
       "      <td>0.006410</td>\n",
       "    </tr>\n",
       "    <tr>\n",
       "      <th>51</th>\n",
       "      <td>퍼스널 라식</td>\n",
       "      <td>referral_staff</td>\n",
       "      <td>2</td>\n",
       "      <td>6</td>\n",
       "      <td>0.333333</td>\n",
       "    </tr>\n",
       "    <tr>\n",
       "      <th>52</th>\n",
       "      <td>퍼스널 라식</td>\n",
       "      <td>search_ad</td>\n",
       "      <td>2</td>\n",
       "      <td>6</td>\n",
       "      <td>0.333333</td>\n",
       "    </tr>\n",
       "    <tr>\n",
       "      <th>49</th>\n",
       "      <td>퍼스널 라식</td>\n",
       "      <td>b2b_corporate</td>\n",
       "      <td>1</td>\n",
       "      <td>6</td>\n",
       "      <td>0.166667</td>\n",
       "    </tr>\n",
       "    <tr>\n",
       "      <th>50</th>\n",
       "      <td>퍼스널 라식</td>\n",
       "      <td>referral_customers</td>\n",
       "      <td>1</td>\n",
       "      <td>6</td>\n",
       "      <td>0.166667</td>\n",
       "    </tr>\n",
       "  </tbody>\n",
       "</table>\n",
       "</div>"
      ],
      "text/plain": [
       "   operation               motive  value  total     ratio\n",
       "5         라섹            search_ad    128    310  0.412903\n",
       "3         라섹   referral_customers    100    310  0.322581\n",
       "0         라섹        b2b_corporate     35    310  0.112903\n",
       "4         라섹       referral_staff     30    310  0.096774\n",
       "1         라섹  motive_b2b_military     14    310  0.045161\n",
       "6         라섹                   기타      2    310  0.006452\n",
       "2         라섹            promotion      1    310  0.003226\n",
       "11        라식            search_ad     38     99  0.383838\n",
       "9         라식   referral_customers     33     99  0.333333\n",
       "10        라식       referral_staff     16     99  0.161616\n",
       "7         라식        b2b_corporate     10     99  0.101010\n",
       "8         라식  motive_b2b_military      1     99  0.010101\n",
       "12        라식                   기타      1     99  0.010101\n",
       "16     렌즈삽입술   referral_customers     21     54  0.388889\n",
       "18     렌즈삽입술            search_ad     18     54  0.333333\n",
       "17     렌즈삽입술       referral_staff      7     54  0.129630\n",
       "13     렌즈삽입술        b2b_corporate      4     54  0.074074\n",
       "14     렌즈삽입술  motive_b2b_military      3     54  0.055556\n",
       "15     렌즈삽입술            promotion      1     54  0.018519\n",
       "24       스마일            search_ad    524   1346  0.389302\n",
       "22       스마일   referral_customers    495   1346  0.367756\n",
       "19       스마일        b2b_corporate    135   1346  0.100297\n",
       "23       스마일       referral_staff    119   1346  0.088410\n",
       "20       스마일  motive_b2b_military     66   1346  0.049034\n",
       "21       스마일            promotion      5   1346  0.003715\n",
       "25       스마일                   기타      2   1346  0.001486\n",
       "28    스마일 프로   referral_customers    127    325  0.390769\n",
       "30    스마일 프로            search_ad    127    325  0.390769\n",
       "29    스마일 프로       referral_staff     38    325  0.116923\n",
       "26    스마일 프로        b2b_corporate     22    325  0.067692\n",
       "27    스마일 프로  motive_b2b_military     10    325  0.030769\n",
       "31    스마일 프로                   기타      1    325  0.003077\n",
       "36    커스텀 라섹            search_ad     33     78  0.423077\n",
       "34    커스텀 라섹   referral_customers     26     78  0.333333\n",
       "32    커스텀 라섹        b2b_corporate     10     78  0.128205\n",
       "35    커스텀 라섹       referral_staff      6     78  0.076923\n",
       "33    커스텀 라섹  motive_b2b_military      3     78  0.038462\n",
       "41    커스텀 라식            search_ad     45    103  0.436893\n",
       "39    커스텀 라식   referral_customers     38    103  0.368932\n",
       "37    커스텀 라식        b2b_corporate     13    103  0.126214\n",
       "40    커스텀 라식       referral_staff      4    103  0.038835\n",
       "38    커스텀 라식  motive_b2b_military      3    103  0.029126\n",
       "45  토릭 렌즈삽입술   referral_customers     58    156  0.371795\n",
       "47  토릭 렌즈삽입술            search_ad     57    156  0.365385\n",
       "46  토릭 렌즈삽입술       referral_staff     23    156  0.147436\n",
       "42  토릭 렌즈삽입술        b2b_corporate     10    156  0.064103\n",
       "43  토릭 렌즈삽입술  motive_b2b_military      6    156  0.038462\n",
       "44  토릭 렌즈삽입술            promotion      1    156  0.006410\n",
       "48  토릭 렌즈삽입술                   기타      1    156  0.006410\n",
       "51    퍼스널 라식       referral_staff      2      6  0.333333\n",
       "52    퍼스널 라식            search_ad      2      6  0.333333\n",
       "49    퍼스널 라식        b2b_corporate      1      6  0.166667\n",
       "50    퍼스널 라식   referral_customers      1      6  0.166667"
      ]
     },
     "execution_count": 63,
     "metadata": {},
     "output_type": "execute_result"
    }
   ],
   "source": [
    "df_plot['ratio'] = df_plot['value'] / df_plot['total']\n",
    "df_plot = df_plot.sort_values(by=['operation', 'ratio'], ascending=[True, False])\n",
    "df_plot"
   ]
  },
  {
   "cell_type": "code",
   "execution_count": 69,
   "metadata": {},
   "outputs": [
    {
     "name": "stderr",
     "output_type": "stream",
     "text": [
      "/var/folders/46/1sp9y6bn2bd214vk81sxx8z00000gn/T/ipykernel_8221/887589743.py:4: FutureWarning:\n",
      "\n",
      "Setting an item of incompatible dtype is deprecated and will raise an error in a future version of pandas. Value '['41.3%' '38.4%' '38.9%' '38.9%' '39.1%' '39.1%' '42.3%' '43.7%' '37.2%'\n",
      " '33.3%' '33.3%']' has dtype incompatible with float64, please explicitly cast to a compatible dtype first.\n",
      "\n"
     ]
    },
    {
     "data": {
      "text/html": [
       "<div>\n",
       "<style scoped>\n",
       "    .dataframe tbody tr th:only-of-type {\n",
       "        vertical-align: middle;\n",
       "    }\n",
       "\n",
       "    .dataframe tbody tr th {\n",
       "        vertical-align: top;\n",
       "    }\n",
       "\n",
       "    .dataframe thead th {\n",
       "        text-align: right;\n",
       "    }\n",
       "</style>\n",
       "<table border=\"1\" class=\"dataframe\">\n",
       "  <thead>\n",
       "    <tr style=\"text-align: right;\">\n",
       "      <th></th>\n",
       "      <th>operation</th>\n",
       "      <th>motive</th>\n",
       "      <th>value</th>\n",
       "      <th>total</th>\n",
       "      <th>ratio</th>\n",
       "      <th>text_label</th>\n",
       "    </tr>\n",
       "  </thead>\n",
       "  <tbody>\n",
       "    <tr>\n",
       "      <th>5</th>\n",
       "      <td>라섹</td>\n",
       "      <td>search_ad</td>\n",
       "      <td>128</td>\n",
       "      <td>310</td>\n",
       "      <td>0.412903</td>\n",
       "      <td>41.3%</td>\n",
       "    </tr>\n",
       "    <tr>\n",
       "      <th>3</th>\n",
       "      <td>라섹</td>\n",
       "      <td>referral_customers</td>\n",
       "      <td>100</td>\n",
       "      <td>310</td>\n",
       "      <td>0.322581</td>\n",
       "      <td>NaN</td>\n",
       "    </tr>\n",
       "    <tr>\n",
       "      <th>0</th>\n",
       "      <td>라섹</td>\n",
       "      <td>b2b_corporate</td>\n",
       "      <td>35</td>\n",
       "      <td>310</td>\n",
       "      <td>0.112903</td>\n",
       "      <td>NaN</td>\n",
       "    </tr>\n",
       "    <tr>\n",
       "      <th>4</th>\n",
       "      <td>라섹</td>\n",
       "      <td>referral_staff</td>\n",
       "      <td>30</td>\n",
       "      <td>310</td>\n",
       "      <td>0.096774</td>\n",
       "      <td>NaN</td>\n",
       "    </tr>\n",
       "    <tr>\n",
       "      <th>1</th>\n",
       "      <td>라섹</td>\n",
       "      <td>motive_b2b_military</td>\n",
       "      <td>14</td>\n",
       "      <td>310</td>\n",
       "      <td>0.045161</td>\n",
       "      <td>NaN</td>\n",
       "    </tr>\n",
       "    <tr>\n",
       "      <th>6</th>\n",
       "      <td>라섹</td>\n",
       "      <td>기타</td>\n",
       "      <td>2</td>\n",
       "      <td>310</td>\n",
       "      <td>0.006452</td>\n",
       "      <td>NaN</td>\n",
       "    </tr>\n",
       "    <tr>\n",
       "      <th>2</th>\n",
       "      <td>라섹</td>\n",
       "      <td>promotion</td>\n",
       "      <td>1</td>\n",
       "      <td>310</td>\n",
       "      <td>0.003226</td>\n",
       "      <td>NaN</td>\n",
       "    </tr>\n",
       "    <tr>\n",
       "      <th>11</th>\n",
       "      <td>라식</td>\n",
       "      <td>search_ad</td>\n",
       "      <td>38</td>\n",
       "      <td>99</td>\n",
       "      <td>0.383838</td>\n",
       "      <td>38.4%</td>\n",
       "    </tr>\n",
       "    <tr>\n",
       "      <th>9</th>\n",
       "      <td>라식</td>\n",
       "      <td>referral_customers</td>\n",
       "      <td>33</td>\n",
       "      <td>99</td>\n",
       "      <td>0.333333</td>\n",
       "      <td>NaN</td>\n",
       "    </tr>\n",
       "    <tr>\n",
       "      <th>10</th>\n",
       "      <td>라식</td>\n",
       "      <td>referral_staff</td>\n",
       "      <td>16</td>\n",
       "      <td>99</td>\n",
       "      <td>0.161616</td>\n",
       "      <td>NaN</td>\n",
       "    </tr>\n",
       "    <tr>\n",
       "      <th>7</th>\n",
       "      <td>라식</td>\n",
       "      <td>b2b_corporate</td>\n",
       "      <td>10</td>\n",
       "      <td>99</td>\n",
       "      <td>0.101010</td>\n",
       "      <td>NaN</td>\n",
       "    </tr>\n",
       "    <tr>\n",
       "      <th>8</th>\n",
       "      <td>라식</td>\n",
       "      <td>motive_b2b_military</td>\n",
       "      <td>1</td>\n",
       "      <td>99</td>\n",
       "      <td>0.010101</td>\n",
       "      <td>NaN</td>\n",
       "    </tr>\n",
       "    <tr>\n",
       "      <th>12</th>\n",
       "      <td>라식</td>\n",
       "      <td>기타</td>\n",
       "      <td>1</td>\n",
       "      <td>99</td>\n",
       "      <td>0.010101</td>\n",
       "      <td>NaN</td>\n",
       "    </tr>\n",
       "    <tr>\n",
       "      <th>16</th>\n",
       "      <td>렌즈삽입술</td>\n",
       "      <td>referral_customers</td>\n",
       "      <td>21</td>\n",
       "      <td>54</td>\n",
       "      <td>0.388889</td>\n",
       "      <td>38.9%</td>\n",
       "    </tr>\n",
       "    <tr>\n",
       "      <th>18</th>\n",
       "      <td>렌즈삽입술</td>\n",
       "      <td>search_ad</td>\n",
       "      <td>18</td>\n",
       "      <td>54</td>\n",
       "      <td>0.333333</td>\n",
       "      <td>NaN</td>\n",
       "    </tr>\n",
       "    <tr>\n",
       "      <th>17</th>\n",
       "      <td>렌즈삽입술</td>\n",
       "      <td>referral_staff</td>\n",
       "      <td>7</td>\n",
       "      <td>54</td>\n",
       "      <td>0.129630</td>\n",
       "      <td>NaN</td>\n",
       "    </tr>\n",
       "    <tr>\n",
       "      <th>13</th>\n",
       "      <td>렌즈삽입술</td>\n",
       "      <td>b2b_corporate</td>\n",
       "      <td>4</td>\n",
       "      <td>54</td>\n",
       "      <td>0.074074</td>\n",
       "      <td>NaN</td>\n",
       "    </tr>\n",
       "    <tr>\n",
       "      <th>14</th>\n",
       "      <td>렌즈삽입술</td>\n",
       "      <td>motive_b2b_military</td>\n",
       "      <td>3</td>\n",
       "      <td>54</td>\n",
       "      <td>0.055556</td>\n",
       "      <td>NaN</td>\n",
       "    </tr>\n",
       "    <tr>\n",
       "      <th>15</th>\n",
       "      <td>렌즈삽입술</td>\n",
       "      <td>promotion</td>\n",
       "      <td>1</td>\n",
       "      <td>54</td>\n",
       "      <td>0.018519</td>\n",
       "      <td>NaN</td>\n",
       "    </tr>\n",
       "    <tr>\n",
       "      <th>24</th>\n",
       "      <td>스마일</td>\n",
       "      <td>search_ad</td>\n",
       "      <td>524</td>\n",
       "      <td>1346</td>\n",
       "      <td>0.389302</td>\n",
       "      <td>38.9%</td>\n",
       "    </tr>\n",
       "    <tr>\n",
       "      <th>22</th>\n",
       "      <td>스마일</td>\n",
       "      <td>referral_customers</td>\n",
       "      <td>495</td>\n",
       "      <td>1346</td>\n",
       "      <td>0.367756</td>\n",
       "      <td>NaN</td>\n",
       "    </tr>\n",
       "    <tr>\n",
       "      <th>19</th>\n",
       "      <td>스마일</td>\n",
       "      <td>b2b_corporate</td>\n",
       "      <td>135</td>\n",
       "      <td>1346</td>\n",
       "      <td>0.100297</td>\n",
       "      <td>NaN</td>\n",
       "    </tr>\n",
       "    <tr>\n",
       "      <th>23</th>\n",
       "      <td>스마일</td>\n",
       "      <td>referral_staff</td>\n",
       "      <td>119</td>\n",
       "      <td>1346</td>\n",
       "      <td>0.088410</td>\n",
       "      <td>NaN</td>\n",
       "    </tr>\n",
       "    <tr>\n",
       "      <th>20</th>\n",
       "      <td>스마일</td>\n",
       "      <td>motive_b2b_military</td>\n",
       "      <td>66</td>\n",
       "      <td>1346</td>\n",
       "      <td>0.049034</td>\n",
       "      <td>NaN</td>\n",
       "    </tr>\n",
       "    <tr>\n",
       "      <th>21</th>\n",
       "      <td>스마일</td>\n",
       "      <td>promotion</td>\n",
       "      <td>5</td>\n",
       "      <td>1346</td>\n",
       "      <td>0.003715</td>\n",
       "      <td>NaN</td>\n",
       "    </tr>\n",
       "    <tr>\n",
       "      <th>25</th>\n",
       "      <td>스마일</td>\n",
       "      <td>기타</td>\n",
       "      <td>2</td>\n",
       "      <td>1346</td>\n",
       "      <td>0.001486</td>\n",
       "      <td>NaN</td>\n",
       "    </tr>\n",
       "    <tr>\n",
       "      <th>28</th>\n",
       "      <td>스마일 프로</td>\n",
       "      <td>referral_customers</td>\n",
       "      <td>127</td>\n",
       "      <td>325</td>\n",
       "      <td>0.390769</td>\n",
       "      <td>39.1%</td>\n",
       "    </tr>\n",
       "    <tr>\n",
       "      <th>30</th>\n",
       "      <td>스마일 프로</td>\n",
       "      <td>search_ad</td>\n",
       "      <td>127</td>\n",
       "      <td>325</td>\n",
       "      <td>0.390769</td>\n",
       "      <td>39.1%</td>\n",
       "    </tr>\n",
       "    <tr>\n",
       "      <th>29</th>\n",
       "      <td>스마일 프로</td>\n",
       "      <td>referral_staff</td>\n",
       "      <td>38</td>\n",
       "      <td>325</td>\n",
       "      <td>0.116923</td>\n",
       "      <td>NaN</td>\n",
       "    </tr>\n",
       "    <tr>\n",
       "      <th>26</th>\n",
       "      <td>스마일 프로</td>\n",
       "      <td>b2b_corporate</td>\n",
       "      <td>22</td>\n",
       "      <td>325</td>\n",
       "      <td>0.067692</td>\n",
       "      <td>NaN</td>\n",
       "    </tr>\n",
       "    <tr>\n",
       "      <th>27</th>\n",
       "      <td>스마일 프로</td>\n",
       "      <td>motive_b2b_military</td>\n",
       "      <td>10</td>\n",
       "      <td>325</td>\n",
       "      <td>0.030769</td>\n",
       "      <td>NaN</td>\n",
       "    </tr>\n",
       "    <tr>\n",
       "      <th>31</th>\n",
       "      <td>스마일 프로</td>\n",
       "      <td>기타</td>\n",
       "      <td>1</td>\n",
       "      <td>325</td>\n",
       "      <td>0.003077</td>\n",
       "      <td>NaN</td>\n",
       "    </tr>\n",
       "    <tr>\n",
       "      <th>36</th>\n",
       "      <td>커스텀 라섹</td>\n",
       "      <td>search_ad</td>\n",
       "      <td>33</td>\n",
       "      <td>78</td>\n",
       "      <td>0.423077</td>\n",
       "      <td>42.3%</td>\n",
       "    </tr>\n",
       "    <tr>\n",
       "      <th>34</th>\n",
       "      <td>커스텀 라섹</td>\n",
       "      <td>referral_customers</td>\n",
       "      <td>26</td>\n",
       "      <td>78</td>\n",
       "      <td>0.333333</td>\n",
       "      <td>NaN</td>\n",
       "    </tr>\n",
       "    <tr>\n",
       "      <th>32</th>\n",
       "      <td>커스텀 라섹</td>\n",
       "      <td>b2b_corporate</td>\n",
       "      <td>10</td>\n",
       "      <td>78</td>\n",
       "      <td>0.128205</td>\n",
       "      <td>NaN</td>\n",
       "    </tr>\n",
       "    <tr>\n",
       "      <th>35</th>\n",
       "      <td>커스텀 라섹</td>\n",
       "      <td>referral_staff</td>\n",
       "      <td>6</td>\n",
       "      <td>78</td>\n",
       "      <td>0.076923</td>\n",
       "      <td>NaN</td>\n",
       "    </tr>\n",
       "    <tr>\n",
       "      <th>33</th>\n",
       "      <td>커스텀 라섹</td>\n",
       "      <td>motive_b2b_military</td>\n",
       "      <td>3</td>\n",
       "      <td>78</td>\n",
       "      <td>0.038462</td>\n",
       "      <td>NaN</td>\n",
       "    </tr>\n",
       "    <tr>\n",
       "      <th>41</th>\n",
       "      <td>커스텀 라식</td>\n",
       "      <td>search_ad</td>\n",
       "      <td>45</td>\n",
       "      <td>103</td>\n",
       "      <td>0.436893</td>\n",
       "      <td>43.7%</td>\n",
       "    </tr>\n",
       "    <tr>\n",
       "      <th>39</th>\n",
       "      <td>커스텀 라식</td>\n",
       "      <td>referral_customers</td>\n",
       "      <td>38</td>\n",
       "      <td>103</td>\n",
       "      <td>0.368932</td>\n",
       "      <td>NaN</td>\n",
       "    </tr>\n",
       "    <tr>\n",
       "      <th>37</th>\n",
       "      <td>커스텀 라식</td>\n",
       "      <td>b2b_corporate</td>\n",
       "      <td>13</td>\n",
       "      <td>103</td>\n",
       "      <td>0.126214</td>\n",
       "      <td>NaN</td>\n",
       "    </tr>\n",
       "    <tr>\n",
       "      <th>40</th>\n",
       "      <td>커스텀 라식</td>\n",
       "      <td>referral_staff</td>\n",
       "      <td>4</td>\n",
       "      <td>103</td>\n",
       "      <td>0.038835</td>\n",
       "      <td>NaN</td>\n",
       "    </tr>\n",
       "    <tr>\n",
       "      <th>38</th>\n",
       "      <td>커스텀 라식</td>\n",
       "      <td>motive_b2b_military</td>\n",
       "      <td>3</td>\n",
       "      <td>103</td>\n",
       "      <td>0.029126</td>\n",
       "      <td>NaN</td>\n",
       "    </tr>\n",
       "    <tr>\n",
       "      <th>45</th>\n",
       "      <td>토릭 렌즈삽입술</td>\n",
       "      <td>referral_customers</td>\n",
       "      <td>58</td>\n",
       "      <td>156</td>\n",
       "      <td>0.371795</td>\n",
       "      <td>37.2%</td>\n",
       "    </tr>\n",
       "    <tr>\n",
       "      <th>47</th>\n",
       "      <td>토릭 렌즈삽입술</td>\n",
       "      <td>search_ad</td>\n",
       "      <td>57</td>\n",
       "      <td>156</td>\n",
       "      <td>0.365385</td>\n",
       "      <td>NaN</td>\n",
       "    </tr>\n",
       "    <tr>\n",
       "      <th>46</th>\n",
       "      <td>토릭 렌즈삽입술</td>\n",
       "      <td>referral_staff</td>\n",
       "      <td>23</td>\n",
       "      <td>156</td>\n",
       "      <td>0.147436</td>\n",
       "      <td>NaN</td>\n",
       "    </tr>\n",
       "    <tr>\n",
       "      <th>42</th>\n",
       "      <td>토릭 렌즈삽입술</td>\n",
       "      <td>b2b_corporate</td>\n",
       "      <td>10</td>\n",
       "      <td>156</td>\n",
       "      <td>0.064103</td>\n",
       "      <td>NaN</td>\n",
       "    </tr>\n",
       "    <tr>\n",
       "      <th>43</th>\n",
       "      <td>토릭 렌즈삽입술</td>\n",
       "      <td>motive_b2b_military</td>\n",
       "      <td>6</td>\n",
       "      <td>156</td>\n",
       "      <td>0.038462</td>\n",
       "      <td>NaN</td>\n",
       "    </tr>\n",
       "    <tr>\n",
       "      <th>44</th>\n",
       "      <td>토릭 렌즈삽입술</td>\n",
       "      <td>promotion</td>\n",
       "      <td>1</td>\n",
       "      <td>156</td>\n",
       "      <td>0.006410</td>\n",
       "      <td>NaN</td>\n",
       "    </tr>\n",
       "    <tr>\n",
       "      <th>48</th>\n",
       "      <td>토릭 렌즈삽입술</td>\n",
       "      <td>기타</td>\n",
       "      <td>1</td>\n",
       "      <td>156</td>\n",
       "      <td>0.006410</td>\n",
       "      <td>NaN</td>\n",
       "    </tr>\n",
       "    <tr>\n",
       "      <th>51</th>\n",
       "      <td>퍼스널 라식</td>\n",
       "      <td>referral_staff</td>\n",
       "      <td>2</td>\n",
       "      <td>6</td>\n",
       "      <td>0.333333</td>\n",
       "      <td>33.3%</td>\n",
       "    </tr>\n",
       "    <tr>\n",
       "      <th>52</th>\n",
       "      <td>퍼스널 라식</td>\n",
       "      <td>search_ad</td>\n",
       "      <td>2</td>\n",
       "      <td>6</td>\n",
       "      <td>0.333333</td>\n",
       "      <td>33.3%</td>\n",
       "    </tr>\n",
       "    <tr>\n",
       "      <th>49</th>\n",
       "      <td>퍼스널 라식</td>\n",
       "      <td>b2b_corporate</td>\n",
       "      <td>1</td>\n",
       "      <td>6</td>\n",
       "      <td>0.166667</td>\n",
       "      <td>NaN</td>\n",
       "    </tr>\n",
       "    <tr>\n",
       "      <th>50</th>\n",
       "      <td>퍼스널 라식</td>\n",
       "      <td>referral_customers</td>\n",
       "      <td>1</td>\n",
       "      <td>6</td>\n",
       "      <td>0.166667</td>\n",
       "      <td>NaN</td>\n",
       "    </tr>\n",
       "  </tbody>\n",
       "</table>\n",
       "</div>"
      ],
      "text/plain": [
       "   operation               motive  value  total     ratio text_label\n",
       "5         라섹            search_ad    128    310  0.412903      41.3%\n",
       "3         라섹   referral_customers    100    310  0.322581        NaN\n",
       "0         라섹        b2b_corporate     35    310  0.112903        NaN\n",
       "4         라섹       referral_staff     30    310  0.096774        NaN\n",
       "1         라섹  motive_b2b_military     14    310  0.045161        NaN\n",
       "6         라섹                   기타      2    310  0.006452        NaN\n",
       "2         라섹            promotion      1    310  0.003226        NaN\n",
       "11        라식            search_ad     38     99  0.383838      38.4%\n",
       "9         라식   referral_customers     33     99  0.333333        NaN\n",
       "10        라식       referral_staff     16     99  0.161616        NaN\n",
       "7         라식        b2b_corporate     10     99  0.101010        NaN\n",
       "8         라식  motive_b2b_military      1     99  0.010101        NaN\n",
       "12        라식                   기타      1     99  0.010101        NaN\n",
       "16     렌즈삽입술   referral_customers     21     54  0.388889      38.9%\n",
       "18     렌즈삽입술            search_ad     18     54  0.333333        NaN\n",
       "17     렌즈삽입술       referral_staff      7     54  0.129630        NaN\n",
       "13     렌즈삽입술        b2b_corporate      4     54  0.074074        NaN\n",
       "14     렌즈삽입술  motive_b2b_military      3     54  0.055556        NaN\n",
       "15     렌즈삽입술            promotion      1     54  0.018519        NaN\n",
       "24       스마일            search_ad    524   1346  0.389302      38.9%\n",
       "22       스마일   referral_customers    495   1346  0.367756        NaN\n",
       "19       스마일        b2b_corporate    135   1346  0.100297        NaN\n",
       "23       스마일       referral_staff    119   1346  0.088410        NaN\n",
       "20       스마일  motive_b2b_military     66   1346  0.049034        NaN\n",
       "21       스마일            promotion      5   1346  0.003715        NaN\n",
       "25       스마일                   기타      2   1346  0.001486        NaN\n",
       "28    스마일 프로   referral_customers    127    325  0.390769      39.1%\n",
       "30    스마일 프로            search_ad    127    325  0.390769      39.1%\n",
       "29    스마일 프로       referral_staff     38    325  0.116923        NaN\n",
       "26    스마일 프로        b2b_corporate     22    325  0.067692        NaN\n",
       "27    스마일 프로  motive_b2b_military     10    325  0.030769        NaN\n",
       "31    스마일 프로                   기타      1    325  0.003077        NaN\n",
       "36    커스텀 라섹            search_ad     33     78  0.423077      42.3%\n",
       "34    커스텀 라섹   referral_customers     26     78  0.333333        NaN\n",
       "32    커스텀 라섹        b2b_corporate     10     78  0.128205        NaN\n",
       "35    커스텀 라섹       referral_staff      6     78  0.076923        NaN\n",
       "33    커스텀 라섹  motive_b2b_military      3     78  0.038462        NaN\n",
       "41    커스텀 라식            search_ad     45    103  0.436893      43.7%\n",
       "39    커스텀 라식   referral_customers     38    103  0.368932        NaN\n",
       "37    커스텀 라식        b2b_corporate     13    103  0.126214        NaN\n",
       "40    커스텀 라식       referral_staff      4    103  0.038835        NaN\n",
       "38    커스텀 라식  motive_b2b_military      3    103  0.029126        NaN\n",
       "45  토릭 렌즈삽입술   referral_customers     58    156  0.371795      37.2%\n",
       "47  토릭 렌즈삽입술            search_ad     57    156  0.365385        NaN\n",
       "46  토릭 렌즈삽입술       referral_staff     23    156  0.147436        NaN\n",
       "42  토릭 렌즈삽입술        b2b_corporate     10    156  0.064103        NaN\n",
       "43  토릭 렌즈삽입술  motive_b2b_military      6    156  0.038462        NaN\n",
       "44  토릭 렌즈삽입술            promotion      1    156  0.006410        NaN\n",
       "48  토릭 렌즈삽입술                   기타      1    156  0.006410        NaN\n",
       "51    퍼스널 라식       referral_staff      2      6  0.333333      33.3%\n",
       "52    퍼스널 라식            search_ad      2      6  0.333333      33.3%\n",
       "49    퍼스널 라식        b2b_corporate      1      6  0.166667        NaN\n",
       "50    퍼스널 라식   referral_customers      1      6  0.166667        NaN"
      ]
     },
     "execution_count": 69,
     "metadata": {},
     "output_type": "execute_result"
    }
   ],
   "source": [
    "df_plot['text_label'] = np.nan\n",
    "df_plot\n",
    "mask = df_plot.groupby('operation')['ratio'].transform('max') == df_plot['ratio']\n",
    "df_plot.loc[mask, 'text_label'] = (df_plot.loc[mask, 'ratio'] * 100).round(1).astype(str) + '%'\n",
    "df_plot\n",
    "# df_filtered = df_plot[df_plot['motive']=='b2b_corporate']\n",
    "# df_filtered"
   ]
  },
  {
   "cell_type": "code",
   "execution_count": 12,
   "metadata": {},
   "outputs": [
    {
     "name": "stdout",
     "output_type": "stream",
     "text": [
      "<class 'pandas.core.frame.DataFrame'>\n",
      "RangeIndex: 2477 entries, 0 to 2476\n",
      "Data columns (total 11 columns):\n",
      " #   Column            Non-Null Count  Dtype         \n",
      "---  ------            --------------  -----         \n",
      " 0   cust_num          2477 non-null   int64         \n",
      " 1   operation_date    2477 non-null   datetime64[ns]\n",
      " 2   exam_date         2477 non-null   datetime64[ns]\n",
      " 3   operation         2477 non-null   object        \n",
      " 4   op_year_week      2477 non-null   object        \n",
      " 5   total_cost_price  2477 non-null   int64         \n",
      " 6   motive            2477 non-null   object        \n",
      " 7   birth_day         2477 non-null   datetime64[ns]\n",
      " 8   job               2477 non-null   object        \n",
      " 9   addr              2477 non-null   object        \n",
      " 10  age               2477 non-null   int64         \n",
      "dtypes: datetime64[ns](3), int64(3), object(5)\n",
      "memory usage: 213.0+ KB\n"
     ]
    }
   ],
   "source": [
    "df.info()"
   ]
  },
  {
   "cell_type": "code",
   "execution_count": 27,
   "metadata": {},
   "outputs": [
    {
     "data": {
      "text/plain": [
       "Index(['cust_num', 'operation_date', 'exam_date', 'operation', 'op_year_week',\n",
       "       'total_cost_price', 'motive', 'birth_day', 'job', 'addr', 'age'],\n",
       "      dtype='object')"
      ]
     },
     "execution_count": 27,
     "metadata": {},
     "output_type": "execute_result"
    }
   ],
   "source": [
    "df.columns"
   ]
  },
  {
   "cell_type": "code",
   "execution_count": null,
   "metadata": {},
   "outputs": [
    {
     "data": {
      "text/plain": [
       "array(['토릭 렌즈삽입술', '스마일', '커스텀 라섹', '스마일 프로', '라섹', '렌즈삽입술', '라식',\n",
       "       '커스텀 라식', '퍼스널 라식'], dtype=object)"
      ]
     },
     "execution_count": 15,
     "metadata": {},
     "output_type": "execute_result"
    }
   ],
   "source": [
    "# 수술 개수 ( operation, cust_num, count) / 수술 종류별 금액(operation, total_cost_price, sum)\n",
    "df['operation'].unique()"
   ]
  },
  {
   "cell_type": "code",
   "execution_count": null,
   "metadata": {},
   "outputs": [
    {
     "data": {
      "text/plain": [
       "array(['2025-01', '2025-02', '2025-03', '2025-04', '2025-05', '2025-06',\n",
       "       '2025-07', '2025-08', '2025-09'], dtype=object)"
      ]
     },
     "execution_count": 16,
     "metadata": {},
     "output_type": "execute_result"
    }
   ],
   "source": [
    "# 주차별 수술 개수( year-week, cust_num, count) / 주차별 금액(year-week, total_cost_price, sum)\n",
    "df['op_year_week'].unique()"
   ]
  },
  {
   "cell_type": "code",
   "execution_count": 17,
   "metadata": {},
   "outputs": [
    {
     "data": {
      "text/plain": [
       "array(['referral_customers', 'search_ad', 'b2b_corporate',\n",
       "       'referral_staff', 'motive_b2b_military', '기타', 'promotion'],\n",
       "      dtype=object)"
      ]
     },
     "execution_count": 17,
     "metadata": {},
     "output_type": "execute_result"
    }
   ],
   "source": [
    "# 내원동기별 수술 (motive, cust_num)\n",
    "df['motive'].unique()"
   ]
  },
  {
   "cell_type": "code",
   "execution_count": null,
   "metadata": {},
   "outputs": [
    {
     "data": {
      "text/plain": [
       "array(['학생', '자영업/프리랜서', '직장인', '취준', '마켓전문가', '군인', '수능', '프로젝트 매니저',\n",
       "       '주부', '컨설턴트', '목수', '교사', '소프트웨어 엔지니어', '사업', '원어민 선생님', '재수생',\n",
       "       '회사원', '졸업생', '호텔리어', '뷰티매니저', '간호사', 'Doctor', '유치원교사', '의사',\n",
       "       '소프트웨어 디벨로퍼', '약사', '재수 끝난 재수생', '어린이집 교사', '방사선사', '태권도', '선생님',\n",
       "       '건축가', '항해사', '영어교사', '프로그램관리자', '배우', '마케팅매니저', '쉐프', 'STUDENT',\n",
       "       '교직원', '요리사', 'Teacher', '디자이너', '의사(성형외과)', '연구원', '프리랜서', '자영업',\n",
       "       'x', '사회복지사', 'Student', 'jeweller', '변호사', '언어재활사', '데이터분석가',\n",
       "       '과학자', '경찰'], dtype=object)"
      ]
     },
     "execution_count": 19,
     "metadata": {},
     "output_type": "execute_result"
    }
   ],
   "source": [
    "# 직업별 수술개수(motive, cust_num)\n",
    "df['job'].unique()"
   ]
  },
  {
   "cell_type": "code",
   "execution_count": 20,
   "metadata": {},
   "outputs": [
    {
     "data": {
      "text/plain": [
       "array(['서울 성북구', '서울 서초구', '경기 고양시', '서울 도봉구', '서울 금천구', '경기 남양주시',\n",
       "       '서울 중랑구', '대전 동구', '서울 중구', '경기 김포시', '경기 성남시', '경기 용인시', '충남 천안시',\n",
       "       '경기 오산시', '서울 강동구', '경기 광명시', '서울 영등포구', '경기 수원시', '강원특별자치도 춘천시',\n",
       "       '경기 여주시', '서울 동대문구', '서울 송파구', '경북 봉화군', '경기 화성시', '서울 성동구',\n",
       "       '경기 부천시', '경기 평택시', '서울 노원구', '서울 마포구', '서울 용산구', '인천 연수구',\n",
       "       '서울 광진구', '경기 하남시', '경기 의정부시', '서울 은평구', '경기 안양시', '세종 고운마을3길',\n",
       "       '인천 부평구', '강원특별자치도 동해시', '경기 안산시', '서울 강남구', '인천 남동구', '제주 제주시',\n",
       "       '서울 서대문구', '서울 관악구', '경북 영주시', '서울 강서구', '경남 창원시', '충남 태안군',\n",
       "       '강원특별자치도 원주시', '강원특별자치도 삼척시', '인천 서구', '경기 과천시', '경기 파주시',\n",
       "       '경기 이천시', '경기 동두천시', '전북특별자치도 군산시', '경기 안성시', '경기 포천시', '충남 당진시',\n",
       "       '제주 서귀포시', '서울 동작구', '경기 양주시', '충남 아산시', '경기 시흥시', '충남 서산시',\n",
       "       '전북특별자치도 전주시', '서울 양천구', '서울 구로구', '강원특별자치도 횡성군', '경기 구리시',\n",
       "       '울산 중구', '대전 중구', '충남 청양군', '인천 계양구', '충남 예산군', '경북 포항시', '대전 유성구',\n",
       "       '전남 여수시', '회기동', '경북 김천시', '충북 진천군', '충북 청주시', '충북 제천시', '명동 8나길',\n",
       "       '울산 남구', '강원특별자치도 속초시', '세종 마음안로', '충북 음성군', '서울 종로구', '세종 아름동',\n",
       "       '대전 대덕구', '경기 군포시', '강원특별자치도 강릉시', '충남 논산시', '인천 중구', '경기 광주시',\n",
       "       '전남 광양시', '경북 예천군', '경북 구미시', '충북 영동군', '서울 강북구', '강원특별자치도 철원군',\n",
       "       '강원특별자치도 평창군', '경기 가평군', '충북 충주시', '대구 남구', '경남 진주시', '경북 안동시',\n",
       "       '부산 영도구', '대구 서구', '대구 달성군', '대구 수성구', '경북 경주시', '전북특별자치도 익산시',\n",
       "       '세종 남세종로', '부산 남구', '부산 사상구', '인천 강화군', '경남 통영시', '세종 국세청로',\n",
       "       '강원특별자치도 고성군', '광주 광산구', '세종 다정중앙로', '경기 연천군', '대전 서구', '충남 계룡시',\n",
       "       '마포 글래드', '경북 영덕군', '서울시 둔촌동', '충남 홍성군', '강원특별자치도 정선군', '울산 동구',\n",
       "       '광주 북구', '경남 사천시', '인천 미추홀구', '경기 의왕시', '경북 울진군', '강원특별자치도 영월군',\n",
       "       '강원특별자치도 화천군', '경기 양평군', '충남 보령시', '경남 김해시', '수원시 팔달구', '부산 강서구',\n",
       "       '인천 동구', '10 마곡중앙', '세종 마음로', '서대문구 신촉역로17', '강원특별자치도 양양군',\n",
       "       '충북 보은군', '전북특별자치도 정읍시', '서울시 동작구', '경북 문경시', '경남 거제시', '대구 달서구',\n",
       "       '울산 북구', '대구 동구', '명동 남산호텔', '전남 순천시', '강원특별자치도 양구군', '대구 북구',\n",
       "       '홍익로 6길', '충남 서천군', '광주 남구', '전남 목포시', '강원특별자치도 홍천군', '충북 단양군',\n",
       "       '경북 청송군', '부산 금정구', '세종 보듬4로', '세종 마음안1로', '강원특별자치도 인제군'],\n",
       "      dtype=object)"
      ]
     },
     "execution_count": 20,
     "metadata": {},
     "output_type": "execute_result"
    }
   ],
   "source": [
    "#주소별 수수개수(addr, cust_num)\n",
    "df['addr'].unique()"
   ]
  },
  {
   "cell_type": "code",
   "execution_count": 22,
   "metadata": {},
   "outputs": [
    {
     "data": {
      "text/plain": [
       "array([ 25,  35,  22,  27,  21,  19,  37,  20,  24,  26,  28,  18,  31,\n",
       "        30,  33,  23,  43,  29,  34,  32,  38,  40,  39,  42,  41,  36,\n",
       "       122,  45,  44, 121,  46])"
      ]
     },
     "execution_count": 22,
     "metadata": {},
     "output_type": "execute_result"
    }
   ],
   "source": [
    "#나이별 수술 개수(age, cust_num)\n",
    "df['age'].unique()"
   ]
  },
  {
   "cell_type": "code",
   "execution_count": 25,
   "metadata": {},
   "outputs": [
    {
     "data": {
      "text/html": [
       "<div>\n",
       "<style scoped>\n",
       "    .dataframe tbody tr th:only-of-type {\n",
       "        vertical-align: middle;\n",
       "    }\n",
       "\n",
       "    .dataframe tbody tr th {\n",
       "        vertical-align: top;\n",
       "    }\n",
       "\n",
       "    .dataframe thead th {\n",
       "        text-align: right;\n",
       "    }\n",
       "</style>\n",
       "<table border=\"1\" class=\"dataframe\">\n",
       "  <thead>\n",
       "    <tr style=\"text-align: right;\">\n",
       "      <th></th>\n",
       "      <th>cust_num</th>\n",
       "      <th>operation_date</th>\n",
       "      <th>exam_date</th>\n",
       "      <th>operation</th>\n",
       "      <th>op_year_week</th>\n",
       "      <th>total_cost_price</th>\n",
       "      <th>motive</th>\n",
       "      <th>birth_day</th>\n",
       "      <th>job</th>\n",
       "      <th>addr</th>\n",
       "      <th>age</th>\n",
       "    </tr>\n",
       "  </thead>\n",
       "  <tbody>\n",
       "    <tr>\n",
       "      <th>422</th>\n",
       "      <td>2199795</td>\n",
       "      <td>2025-01-11</td>\n",
       "      <td>2025-01-11</td>\n",
       "      <td>스마일</td>\n",
       "      <td>2025-02</td>\n",
       "      <td>2518000</td>\n",
       "      <td>search_ad</td>\n",
       "      <td>1903-05-07</td>\n",
       "      <td>학생</td>\n",
       "      <td>대구 남구</td>\n",
       "      <td>122</td>\n",
       "    </tr>\n",
       "    <tr>\n",
       "      <th>2368</th>\n",
       "      <td>2204757</td>\n",
       "      <td>2025-02-28</td>\n",
       "      <td>2025-02-28</td>\n",
       "      <td>스마일 프로</td>\n",
       "      <td>2025-09</td>\n",
       "      <td>4318000</td>\n",
       "      <td>search_ad</td>\n",
       "      <td>1903-05-06</td>\n",
       "      <td>학생</td>\n",
       "      <td>서울 종로구</td>\n",
       "      <td>122</td>\n",
       "    </tr>\n",
       "  </tbody>\n",
       "</table>\n",
       "</div>"
      ],
      "text/plain": [
       "      cust_num operation_date  exam_date operation op_year_week  \\\n",
       "422    2199795     2025-01-11 2025-01-11       스마일      2025-02   \n",
       "2368   2204757     2025-02-28 2025-02-28    스마일 프로      2025-09   \n",
       "\n",
       "      total_cost_price     motive  birth_day job    addr  age  \n",
       "422            2518000  search_ad 1903-05-07  학생   대구 남구  122  \n",
       "2368           4318000  search_ad 1903-05-06  학생  서울 종로구  122  "
      ]
     },
     "execution_count": 25,
     "metadata": {},
     "output_type": "execute_result"
    }
   ],
   "source": [
    "df_age_check = df[df['age'] == 122]\n",
    "df_age_check"
   ]
  },
  {
   "cell_type": "code",
   "execution_count": 3,
   "metadata": {},
   "outputs": [],
   "source": [
    "instance = Graph()"
   ]
  },
  {
   "cell_type": "code",
   "execution_count": 4,
   "metadata": {},
   "outputs": [
    {
     "data": {
      "text/html": [
       "<div>\n",
       "<style scoped>\n",
       "    .dataframe tbody tr th:only-of-type {\n",
       "        vertical-align: middle;\n",
       "    }\n",
       "\n",
       "    .dataframe tbody tr th {\n",
       "        vertical-align: top;\n",
       "    }\n",
       "\n",
       "    .dataframe thead th {\n",
       "        text-align: right;\n",
       "    }\n",
       "</style>\n",
       "<table border=\"1\" class=\"dataframe\">\n",
       "  <thead>\n",
       "    <tr style=\"text-align: right;\">\n",
       "      <th></th>\n",
       "      <th>cust_num</th>\n",
       "      <th>operation_date</th>\n",
       "      <th>exam_date</th>\n",
       "      <th>operation</th>\n",
       "      <th>op_year_week</th>\n",
       "      <th>total_cost_price</th>\n",
       "      <th>motive</th>\n",
       "      <th>birth_day</th>\n",
       "      <th>job</th>\n",
       "      <th>addr</th>\n",
       "      <th>age</th>\n",
       "    </tr>\n",
       "  </thead>\n",
       "  <tbody>\n",
       "    <tr>\n",
       "      <th>0</th>\n",
       "      <td>2198529</td>\n",
       "      <td>2024-12-31</td>\n",
       "      <td>2024-12-31</td>\n",
       "      <td>토릭 렌즈삽입술</td>\n",
       "      <td>2025-01</td>\n",
       "      <td>6400000</td>\n",
       "      <td>referral_customers</td>\n",
       "      <td>1999-03-25</td>\n",
       "      <td>학생</td>\n",
       "      <td>서울 성북구</td>\n",
       "      <td>25</td>\n",
       "    </tr>\n",
       "    <tr>\n",
       "      <th>1</th>\n",
       "      <td>2198530</td>\n",
       "      <td>2024-12-31</td>\n",
       "      <td>2024-12-31</td>\n",
       "      <td>스마일</td>\n",
       "      <td>2025-01</td>\n",
       "      <td>2400000</td>\n",
       "      <td>search_ad</td>\n",
       "      <td>1989-06-27</td>\n",
       "      <td>자영업/프리랜서</td>\n",
       "      <td>서울 서초구</td>\n",
       "      <td>35</td>\n",
       "    </tr>\n",
       "    <tr>\n",
       "      <th>2</th>\n",
       "      <td>2198531</td>\n",
       "      <td>2024-12-31</td>\n",
       "      <td>2024-12-31</td>\n",
       "      <td>스마일</td>\n",
       "      <td>2025-01</td>\n",
       "      <td>2800000</td>\n",
       "      <td>search_ad</td>\n",
       "      <td>1999-09-28</td>\n",
       "      <td>직장인</td>\n",
       "      <td>경기 고양시</td>\n",
       "      <td>25</td>\n",
       "    </tr>\n",
       "    <tr>\n",
       "      <th>3</th>\n",
       "      <td>2198532</td>\n",
       "      <td>2024-12-31</td>\n",
       "      <td>2024-12-31</td>\n",
       "      <td>스마일</td>\n",
       "      <td>2025-01</td>\n",
       "      <td>2400000</td>\n",
       "      <td>referral_customers</td>\n",
       "      <td>2002-03-12</td>\n",
       "      <td>직장인</td>\n",
       "      <td>서울 도봉구</td>\n",
       "      <td>22</td>\n",
       "    </tr>\n",
       "    <tr>\n",
       "      <th>4</th>\n",
       "      <td>2198533</td>\n",
       "      <td>2024-12-31</td>\n",
       "      <td>2024-12-31</td>\n",
       "      <td>스마일</td>\n",
       "      <td>2025-01</td>\n",
       "      <td>2800000</td>\n",
       "      <td>referral_customers</td>\n",
       "      <td>1997-04-10</td>\n",
       "      <td>직장인</td>\n",
       "      <td>서울 금천구</td>\n",
       "      <td>27</td>\n",
       "    </tr>\n",
       "    <tr>\n",
       "      <th>...</th>\n",
       "      <td>...</td>\n",
       "      <td>...</td>\n",
       "      <td>...</td>\n",
       "      <td>...</td>\n",
       "      <td>...</td>\n",
       "      <td>...</td>\n",
       "      <td>...</td>\n",
       "      <td>...</td>\n",
       "      <td>...</td>\n",
       "      <td>...</td>\n",
       "      <td>...</td>\n",
       "    </tr>\n",
       "    <tr>\n",
       "      <th>2472</th>\n",
       "      <td>2204970</td>\n",
       "      <td>2025-03-01</td>\n",
       "      <td>2025-03-01</td>\n",
       "      <td>스마일</td>\n",
       "      <td>2025-09</td>\n",
       "      <td>2450000</td>\n",
       "      <td>search_ad</td>\n",
       "      <td>1984-02-22</td>\n",
       "      <td>직장인</td>\n",
       "      <td>서울 구로구</td>\n",
       "      <td>41</td>\n",
       "    </tr>\n",
       "    <tr>\n",
       "      <th>2473</th>\n",
       "      <td>2204971</td>\n",
       "      <td>2025-03-01</td>\n",
       "      <td>2025-03-01</td>\n",
       "      <td>스마일</td>\n",
       "      <td>2025-09</td>\n",
       "      <td>2518000</td>\n",
       "      <td>referral_customers</td>\n",
       "      <td>1995-10-26</td>\n",
       "      <td>직장인</td>\n",
       "      <td>서울 관악구</td>\n",
       "      <td>30</td>\n",
       "    </tr>\n",
       "    <tr>\n",
       "      <th>2474</th>\n",
       "      <td>2204972</td>\n",
       "      <td>2025-03-01</td>\n",
       "      <td>2025-03-01</td>\n",
       "      <td>스마일</td>\n",
       "      <td>2025-09</td>\n",
       "      <td>2546000</td>\n",
       "      <td>search_ad</td>\n",
       "      <td>1996-08-20</td>\n",
       "      <td>직장인</td>\n",
       "      <td>서울 강서구</td>\n",
       "      <td>29</td>\n",
       "    </tr>\n",
       "    <tr>\n",
       "      <th>2475</th>\n",
       "      <td>2204973</td>\n",
       "      <td>2025-03-01</td>\n",
       "      <td>2025-03-01</td>\n",
       "      <td>스마일</td>\n",
       "      <td>2025-09</td>\n",
       "      <td>2450000</td>\n",
       "      <td>referral_customers</td>\n",
       "      <td>1991-03-23</td>\n",
       "      <td>자영업/프리랜서</td>\n",
       "      <td>서울 노원구</td>\n",
       "      <td>34</td>\n",
       "    </tr>\n",
       "    <tr>\n",
       "      <th>2476</th>\n",
       "      <td>2204980</td>\n",
       "      <td>2025-03-01</td>\n",
       "      <td>2025-03-01</td>\n",
       "      <td>라식</td>\n",
       "      <td>2025-09</td>\n",
       "      <td>1755000</td>\n",
       "      <td>search_ad</td>\n",
       "      <td>2000-12-11</td>\n",
       "      <td>취준</td>\n",
       "      <td>경기 동두천시</td>\n",
       "      <td>25</td>\n",
       "    </tr>\n",
       "  </tbody>\n",
       "</table>\n",
       "<p>2477 rows × 11 columns</p>\n",
       "</div>"
      ],
      "text/plain": [
       "      cust_num operation_date  exam_date operation op_year_week  \\\n",
       "0      2198529     2024-12-31 2024-12-31  토릭 렌즈삽입술      2025-01   \n",
       "1      2198530     2024-12-31 2024-12-31       스마일      2025-01   \n",
       "2      2198531     2024-12-31 2024-12-31       스마일      2025-01   \n",
       "3      2198532     2024-12-31 2024-12-31       스마일      2025-01   \n",
       "4      2198533     2024-12-31 2024-12-31       스마일      2025-01   \n",
       "...        ...            ...        ...       ...          ...   \n",
       "2472   2204970     2025-03-01 2025-03-01       스마일      2025-09   \n",
       "2473   2204971     2025-03-01 2025-03-01       스마일      2025-09   \n",
       "2474   2204972     2025-03-01 2025-03-01       스마일      2025-09   \n",
       "2475   2204973     2025-03-01 2025-03-01       스마일      2025-09   \n",
       "2476   2204980     2025-03-01 2025-03-01        라식      2025-09   \n",
       "\n",
       "      total_cost_price              motive  birth_day       job     addr  age  \n",
       "0              6400000  referral_customers 1999-03-25        학생   서울 성북구   25  \n",
       "1              2400000           search_ad 1989-06-27  자영업/프리랜서   서울 서초구   35  \n",
       "2              2800000           search_ad 1999-09-28       직장인   경기 고양시   25  \n",
       "3              2400000  referral_customers 2002-03-12       직장인   서울 도봉구   22  \n",
       "4              2800000  referral_customers 1997-04-10       직장인   서울 금천구   27  \n",
       "...                ...                 ...        ...       ...      ...  ...  \n",
       "2472           2450000           search_ad 1984-02-22       직장인   서울 구로구   41  \n",
       "2473           2518000  referral_customers 1995-10-26       직장인   서울 관악구   30  \n",
       "2474           2546000           search_ad 1996-08-20       직장인   서울 강서구   29  \n",
       "2475           2450000  referral_customers 1991-03-23  자영업/프리랜서   서울 노원구   34  \n",
       "2476           1755000           search_ad 2000-12-11        취준  경기 동두천시   25  \n",
       "\n",
       "[2477 rows x 11 columns]"
      ]
     },
     "execution_count": 4,
     "metadata": {},
     "output_type": "execute_result"
    }
   ],
   "source": [
    "df"
   ]
  },
  {
   "cell_type": "code",
   "execution_count": 5,
   "metadata": {},
   "outputs": [
    {
     "data": {
      "application/vnd.plotly.v1+json": {
       "config": {
        "plotlyServerURL": "https://plot.ly"
       },
       "data": [
        {
         "name": "막대 그래프",
         "text": {
          "bdata": "AAAAAAAIlUAAAAAAAFB0QAAAAAAAYHNAAAAAAACAY0AAAAAAAMBZQAAAAAAAwFhAAAAAAACAU0AAAAAAAABLQAAAAAAAABhA",
          "dtype": "f8"
         },
         "textposition": "outside",
         "type": "bar",
         "x": [
          "스마일",
          "스마일 프로",
          "라섹",
          "토릭 렌즈삽입술",
          "커스텀 라식",
          "라식",
          "커스텀 라섹",
          "렌즈삽입술",
          "퍼스널 라식"
         ],
         "y": {
          "bdata": "QgVFATYBnABnAGMATgA2AAYA",
          "dtype": "i2"
         }
        }
       ],
       "layout": {
        "template": {
         "data": {
          "bar": [
           {
            "error_x": {
             "color": "#2a3f5f"
            },
            "error_y": {
             "color": "#2a3f5f"
            },
            "marker": {
             "line": {
              "color": "#E5ECF6",
              "width": 0.5
             },
             "pattern": {
              "fillmode": "overlay",
              "size": 10,
              "solidity": 0.2
             }
            },
            "type": "bar"
           }
          ],
          "barpolar": [
           {
            "marker": {
             "line": {
              "color": "#E5ECF6",
              "width": 0.5
             },
             "pattern": {
              "fillmode": "overlay",
              "size": 10,
              "solidity": 0.2
             }
            },
            "type": "barpolar"
           }
          ],
          "carpet": [
           {
            "aaxis": {
             "endlinecolor": "#2a3f5f",
             "gridcolor": "white",
             "linecolor": "white",
             "minorgridcolor": "white",
             "startlinecolor": "#2a3f5f"
            },
            "baxis": {
             "endlinecolor": "#2a3f5f",
             "gridcolor": "white",
             "linecolor": "white",
             "minorgridcolor": "white",
             "startlinecolor": "#2a3f5f"
            },
            "type": "carpet"
           }
          ],
          "choropleth": [
           {
            "colorbar": {
             "outlinewidth": 0,
             "ticks": ""
            },
            "type": "choropleth"
           }
          ],
          "contour": [
           {
            "colorbar": {
             "outlinewidth": 0,
             "ticks": ""
            },
            "colorscale": [
             [
              0,
              "#0d0887"
             ],
             [
              0.1111111111111111,
              "#46039f"
             ],
             [
              0.2222222222222222,
              "#7201a8"
             ],
             [
              0.3333333333333333,
              "#9c179e"
             ],
             [
              0.4444444444444444,
              "#bd3786"
             ],
             [
              0.5555555555555556,
              "#d8576b"
             ],
             [
              0.6666666666666666,
              "#ed7953"
             ],
             [
              0.7777777777777778,
              "#fb9f3a"
             ],
             [
              0.8888888888888888,
              "#fdca26"
             ],
             [
              1,
              "#f0f921"
             ]
            ],
            "type": "contour"
           }
          ],
          "contourcarpet": [
           {
            "colorbar": {
             "outlinewidth": 0,
             "ticks": ""
            },
            "type": "contourcarpet"
           }
          ],
          "heatmap": [
           {
            "colorbar": {
             "outlinewidth": 0,
             "ticks": ""
            },
            "colorscale": [
             [
              0,
              "#0d0887"
             ],
             [
              0.1111111111111111,
              "#46039f"
             ],
             [
              0.2222222222222222,
              "#7201a8"
             ],
             [
              0.3333333333333333,
              "#9c179e"
             ],
             [
              0.4444444444444444,
              "#bd3786"
             ],
             [
              0.5555555555555556,
              "#d8576b"
             ],
             [
              0.6666666666666666,
              "#ed7953"
             ],
             [
              0.7777777777777778,
              "#fb9f3a"
             ],
             [
              0.8888888888888888,
              "#fdca26"
             ],
             [
              1,
              "#f0f921"
             ]
            ],
            "type": "heatmap"
           }
          ],
          "histogram": [
           {
            "marker": {
             "pattern": {
              "fillmode": "overlay",
              "size": 10,
              "solidity": 0.2
             }
            },
            "type": "histogram"
           }
          ],
          "histogram2d": [
           {
            "colorbar": {
             "outlinewidth": 0,
             "ticks": ""
            },
            "colorscale": [
             [
              0,
              "#0d0887"
             ],
             [
              0.1111111111111111,
              "#46039f"
             ],
             [
              0.2222222222222222,
              "#7201a8"
             ],
             [
              0.3333333333333333,
              "#9c179e"
             ],
             [
              0.4444444444444444,
              "#bd3786"
             ],
             [
              0.5555555555555556,
              "#d8576b"
             ],
             [
              0.6666666666666666,
              "#ed7953"
             ],
             [
              0.7777777777777778,
              "#fb9f3a"
             ],
             [
              0.8888888888888888,
              "#fdca26"
             ],
             [
              1,
              "#f0f921"
             ]
            ],
            "type": "histogram2d"
           }
          ],
          "histogram2dcontour": [
           {
            "colorbar": {
             "outlinewidth": 0,
             "ticks": ""
            },
            "colorscale": [
             [
              0,
              "#0d0887"
             ],
             [
              0.1111111111111111,
              "#46039f"
             ],
             [
              0.2222222222222222,
              "#7201a8"
             ],
             [
              0.3333333333333333,
              "#9c179e"
             ],
             [
              0.4444444444444444,
              "#bd3786"
             ],
             [
              0.5555555555555556,
              "#d8576b"
             ],
             [
              0.6666666666666666,
              "#ed7953"
             ],
             [
              0.7777777777777778,
              "#fb9f3a"
             ],
             [
              0.8888888888888888,
              "#fdca26"
             ],
             [
              1,
              "#f0f921"
             ]
            ],
            "type": "histogram2dcontour"
           }
          ],
          "mesh3d": [
           {
            "colorbar": {
             "outlinewidth": 0,
             "ticks": ""
            },
            "type": "mesh3d"
           }
          ],
          "parcoords": [
           {
            "line": {
             "colorbar": {
              "outlinewidth": 0,
              "ticks": ""
             }
            },
            "type": "parcoords"
           }
          ],
          "pie": [
           {
            "automargin": true,
            "type": "pie"
           }
          ],
          "scatter": [
           {
            "fillpattern": {
             "fillmode": "overlay",
             "size": 10,
             "solidity": 0.2
            },
            "type": "scatter"
           }
          ],
          "scatter3d": [
           {
            "line": {
             "colorbar": {
              "outlinewidth": 0,
              "ticks": ""
             }
            },
            "marker": {
             "colorbar": {
              "outlinewidth": 0,
              "ticks": ""
             }
            },
            "type": "scatter3d"
           }
          ],
          "scattercarpet": [
           {
            "marker": {
             "colorbar": {
              "outlinewidth": 0,
              "ticks": ""
             }
            },
            "type": "scattercarpet"
           }
          ],
          "scattergeo": [
           {
            "marker": {
             "colorbar": {
              "outlinewidth": 0,
              "ticks": ""
             }
            },
            "type": "scattergeo"
           }
          ],
          "scattergl": [
           {
            "marker": {
             "colorbar": {
              "outlinewidth": 0,
              "ticks": ""
             }
            },
            "type": "scattergl"
           }
          ],
          "scattermap": [
           {
            "marker": {
             "colorbar": {
              "outlinewidth": 0,
              "ticks": ""
             }
            },
            "type": "scattermap"
           }
          ],
          "scattermapbox": [
           {
            "marker": {
             "colorbar": {
              "outlinewidth": 0,
              "ticks": ""
             }
            },
            "type": "scattermapbox"
           }
          ],
          "scatterpolar": [
           {
            "marker": {
             "colorbar": {
              "outlinewidth": 0,
              "ticks": ""
             }
            },
            "type": "scatterpolar"
           }
          ],
          "scatterpolargl": [
           {
            "marker": {
             "colorbar": {
              "outlinewidth": 0,
              "ticks": ""
             }
            },
            "type": "scatterpolargl"
           }
          ],
          "scatterternary": [
           {
            "marker": {
             "colorbar": {
              "outlinewidth": 0,
              "ticks": ""
             }
            },
            "type": "scatterternary"
           }
          ],
          "surface": [
           {
            "colorbar": {
             "outlinewidth": 0,
             "ticks": ""
            },
            "colorscale": [
             [
              0,
              "#0d0887"
             ],
             [
              0.1111111111111111,
              "#46039f"
             ],
             [
              0.2222222222222222,
              "#7201a8"
             ],
             [
              0.3333333333333333,
              "#9c179e"
             ],
             [
              0.4444444444444444,
              "#bd3786"
             ],
             [
              0.5555555555555556,
              "#d8576b"
             ],
             [
              0.6666666666666666,
              "#ed7953"
             ],
             [
              0.7777777777777778,
              "#fb9f3a"
             ],
             [
              0.8888888888888888,
              "#fdca26"
             ],
             [
              1,
              "#f0f921"
             ]
            ],
            "type": "surface"
           }
          ],
          "table": [
           {
            "cells": {
             "fill": {
              "color": "#EBF0F8"
             },
             "line": {
              "color": "white"
             }
            },
            "header": {
             "fill": {
              "color": "#C8D4E3"
             },
             "line": {
              "color": "white"
             }
            },
            "type": "table"
           }
          ]
         },
         "layout": {
          "annotationdefaults": {
           "arrowcolor": "#2a3f5f",
           "arrowhead": 0,
           "arrowwidth": 1
          },
          "autotypenumbers": "strict",
          "coloraxis": {
           "colorbar": {
            "outlinewidth": 0,
            "ticks": ""
           }
          },
          "colorscale": {
           "diverging": [
            [
             0,
             "#8e0152"
            ],
            [
             0.1,
             "#c51b7d"
            ],
            [
             0.2,
             "#de77ae"
            ],
            [
             0.3,
             "#f1b6da"
            ],
            [
             0.4,
             "#fde0ef"
            ],
            [
             0.5,
             "#f7f7f7"
            ],
            [
             0.6,
             "#e6f5d0"
            ],
            [
             0.7,
             "#b8e186"
            ],
            [
             0.8,
             "#7fbc41"
            ],
            [
             0.9,
             "#4d9221"
            ],
            [
             1,
             "#276419"
            ]
           ],
           "sequential": [
            [
             0,
             "#0d0887"
            ],
            [
             0.1111111111111111,
             "#46039f"
            ],
            [
             0.2222222222222222,
             "#7201a8"
            ],
            [
             0.3333333333333333,
             "#9c179e"
            ],
            [
             0.4444444444444444,
             "#bd3786"
            ],
            [
             0.5555555555555556,
             "#d8576b"
            ],
            [
             0.6666666666666666,
             "#ed7953"
            ],
            [
             0.7777777777777778,
             "#fb9f3a"
            ],
            [
             0.8888888888888888,
             "#fdca26"
            ],
            [
             1,
             "#f0f921"
            ]
           ],
           "sequentialminus": [
            [
             0,
             "#0d0887"
            ],
            [
             0.1111111111111111,
             "#46039f"
            ],
            [
             0.2222222222222222,
             "#7201a8"
            ],
            [
             0.3333333333333333,
             "#9c179e"
            ],
            [
             0.4444444444444444,
             "#bd3786"
            ],
            [
             0.5555555555555556,
             "#d8576b"
            ],
            [
             0.6666666666666666,
             "#ed7953"
            ],
            [
             0.7777777777777778,
             "#fb9f3a"
            ],
            [
             0.8888888888888888,
             "#fdca26"
            ],
            [
             1,
             "#f0f921"
            ]
           ]
          },
          "colorway": [
           "#636efa",
           "#EF553B",
           "#00cc96",
           "#ab63fa",
           "#FFA15A",
           "#19d3f3",
           "#FF6692",
           "#B6E880",
           "#FF97FF",
           "#FECB52"
          ],
          "font": {
           "color": "#2a3f5f"
          },
          "geo": {
           "bgcolor": "white",
           "lakecolor": "white",
           "landcolor": "#E5ECF6",
           "showlakes": true,
           "showland": true,
           "subunitcolor": "white"
          },
          "hoverlabel": {
           "align": "left"
          },
          "hovermode": "closest",
          "mapbox": {
           "style": "light"
          },
          "paper_bgcolor": "white",
          "plot_bgcolor": "#E5ECF6",
          "polar": {
           "angularaxis": {
            "gridcolor": "white",
            "linecolor": "white",
            "ticks": ""
           },
           "bgcolor": "#E5ECF6",
           "radialaxis": {
            "gridcolor": "white",
            "linecolor": "white",
            "ticks": ""
           }
          },
          "scene": {
           "xaxis": {
            "backgroundcolor": "#E5ECF6",
            "gridcolor": "white",
            "gridwidth": 2,
            "linecolor": "white",
            "showbackground": true,
            "ticks": "",
            "zerolinecolor": "white"
           },
           "yaxis": {
            "backgroundcolor": "#E5ECF6",
            "gridcolor": "white",
            "gridwidth": 2,
            "linecolor": "white",
            "showbackground": true,
            "ticks": "",
            "zerolinecolor": "white"
           },
           "zaxis": {
            "backgroundcolor": "#E5ECF6",
            "gridcolor": "white",
            "gridwidth": 2,
            "linecolor": "white",
            "showbackground": true,
            "ticks": "",
            "zerolinecolor": "white"
           }
          },
          "shapedefaults": {
           "line": {
            "color": "#2a3f5f"
           }
          },
          "ternary": {
           "aaxis": {
            "gridcolor": "white",
            "linecolor": "white",
            "ticks": ""
           },
           "baxis": {
            "gridcolor": "white",
            "linecolor": "white",
            "ticks": ""
           },
           "bgcolor": "#E5ECF6",
           "caxis": {
            "gridcolor": "white",
            "linecolor": "white",
            "ticks": ""
           }
          },
          "title": {
           "x": 0.05
          },
          "xaxis": {
           "automargin": true,
           "gridcolor": "white",
           "linecolor": "white",
           "ticks": "",
           "title": {
            "standoff": 15
           },
           "zerolinecolor": "white",
           "zerolinewidth": 2
          },
          "yaxis": {
           "automargin": true,
           "gridcolor": "white",
           "linecolor": "white",
           "ticks": "",
           "title": {
            "standoff": 15
           },
           "zerolinecolor": "white",
           "zerolinewidth": 2
          }
         }
        },
        "title": {
         "text": "operation 기준 막대 그래프"
        },
        "xaxis": {
         "categoryarray": [
          "스마일",
          "스마일 프로",
          "라섹",
          "토릭 렌즈삽입술",
          "커스텀 라식",
          "라식",
          "커스텀 라섹",
          "렌즈삽입술",
          "퍼스널 라식"
         ],
         "categoryorder": "array",
         "tickangle": 45,
         "title": {
          "text": "operation"
         },
         "type": "category"
        },
        "yaxis": {
         "title": {
          "text": "수술 count"
         }
        }
       }
      }
     },
     "metadata": {},
     "output_type": "display_data"
    },
    {
     "data": {
      "application/vnd.plotly.v1+json": {
       "config": {
        "plotlyServerURL": "https://plot.ly"
       },
       "data": [
        {
         "name": "막대 그래프",
         "text": {
          "bdata": "AAAAAACAe0AAAAAAAMByQAAAAAAAcHFAAAAAAADgcEAAAAAAANBwQAAAAAAAUHBAAAAAAAAgb0AAAAAAAABtQAAAAAAAIGZA",
          "dtype": "f8"
         },
         "textposition": "outside",
         "type": "bar",
         "x": [
          "2025-04",
          "2025-07",
          "2025-06",
          "2025-09",
          "2025-05",
          "2025-02",
          "2025-08",
          "2025-03",
          "2025-01"
         ],
         "y": {
          "bdata": "uAEsARcBDgENAQUB+QDoALEA",
          "dtype": "i2"
         }
        }
       ],
       "layout": {
        "template": {
         "data": {
          "bar": [
           {
            "error_x": {
             "color": "#2a3f5f"
            },
            "error_y": {
             "color": "#2a3f5f"
            },
            "marker": {
             "line": {
              "color": "#E5ECF6",
              "width": 0.5
             },
             "pattern": {
              "fillmode": "overlay",
              "size": 10,
              "solidity": 0.2
             }
            },
            "type": "bar"
           }
          ],
          "barpolar": [
           {
            "marker": {
             "line": {
              "color": "#E5ECF6",
              "width": 0.5
             },
             "pattern": {
              "fillmode": "overlay",
              "size": 10,
              "solidity": 0.2
             }
            },
            "type": "barpolar"
           }
          ],
          "carpet": [
           {
            "aaxis": {
             "endlinecolor": "#2a3f5f",
             "gridcolor": "white",
             "linecolor": "white",
             "minorgridcolor": "white",
             "startlinecolor": "#2a3f5f"
            },
            "baxis": {
             "endlinecolor": "#2a3f5f",
             "gridcolor": "white",
             "linecolor": "white",
             "minorgridcolor": "white",
             "startlinecolor": "#2a3f5f"
            },
            "type": "carpet"
           }
          ],
          "choropleth": [
           {
            "colorbar": {
             "outlinewidth": 0,
             "ticks": ""
            },
            "type": "choropleth"
           }
          ],
          "contour": [
           {
            "colorbar": {
             "outlinewidth": 0,
             "ticks": ""
            },
            "colorscale": [
             [
              0,
              "#0d0887"
             ],
             [
              0.1111111111111111,
              "#46039f"
             ],
             [
              0.2222222222222222,
              "#7201a8"
             ],
             [
              0.3333333333333333,
              "#9c179e"
             ],
             [
              0.4444444444444444,
              "#bd3786"
             ],
             [
              0.5555555555555556,
              "#d8576b"
             ],
             [
              0.6666666666666666,
              "#ed7953"
             ],
             [
              0.7777777777777778,
              "#fb9f3a"
             ],
             [
              0.8888888888888888,
              "#fdca26"
             ],
             [
              1,
              "#f0f921"
             ]
            ],
            "type": "contour"
           }
          ],
          "contourcarpet": [
           {
            "colorbar": {
             "outlinewidth": 0,
             "ticks": ""
            },
            "type": "contourcarpet"
           }
          ],
          "heatmap": [
           {
            "colorbar": {
             "outlinewidth": 0,
             "ticks": ""
            },
            "colorscale": [
             [
              0,
              "#0d0887"
             ],
             [
              0.1111111111111111,
              "#46039f"
             ],
             [
              0.2222222222222222,
              "#7201a8"
             ],
             [
              0.3333333333333333,
              "#9c179e"
             ],
             [
              0.4444444444444444,
              "#bd3786"
             ],
             [
              0.5555555555555556,
              "#d8576b"
             ],
             [
              0.6666666666666666,
              "#ed7953"
             ],
             [
              0.7777777777777778,
              "#fb9f3a"
             ],
             [
              0.8888888888888888,
              "#fdca26"
             ],
             [
              1,
              "#f0f921"
             ]
            ],
            "type": "heatmap"
           }
          ],
          "histogram": [
           {
            "marker": {
             "pattern": {
              "fillmode": "overlay",
              "size": 10,
              "solidity": 0.2
             }
            },
            "type": "histogram"
           }
          ],
          "histogram2d": [
           {
            "colorbar": {
             "outlinewidth": 0,
             "ticks": ""
            },
            "colorscale": [
             [
              0,
              "#0d0887"
             ],
             [
              0.1111111111111111,
              "#46039f"
             ],
             [
              0.2222222222222222,
              "#7201a8"
             ],
             [
              0.3333333333333333,
              "#9c179e"
             ],
             [
              0.4444444444444444,
              "#bd3786"
             ],
             [
              0.5555555555555556,
              "#d8576b"
             ],
             [
              0.6666666666666666,
              "#ed7953"
             ],
             [
              0.7777777777777778,
              "#fb9f3a"
             ],
             [
              0.8888888888888888,
              "#fdca26"
             ],
             [
              1,
              "#f0f921"
             ]
            ],
            "type": "histogram2d"
           }
          ],
          "histogram2dcontour": [
           {
            "colorbar": {
             "outlinewidth": 0,
             "ticks": ""
            },
            "colorscale": [
             [
              0,
              "#0d0887"
             ],
             [
              0.1111111111111111,
              "#46039f"
             ],
             [
              0.2222222222222222,
              "#7201a8"
             ],
             [
              0.3333333333333333,
              "#9c179e"
             ],
             [
              0.4444444444444444,
              "#bd3786"
             ],
             [
              0.5555555555555556,
              "#d8576b"
             ],
             [
              0.6666666666666666,
              "#ed7953"
             ],
             [
              0.7777777777777778,
              "#fb9f3a"
             ],
             [
              0.8888888888888888,
              "#fdca26"
             ],
             [
              1,
              "#f0f921"
             ]
            ],
            "type": "histogram2dcontour"
           }
          ],
          "mesh3d": [
           {
            "colorbar": {
             "outlinewidth": 0,
             "ticks": ""
            },
            "type": "mesh3d"
           }
          ],
          "parcoords": [
           {
            "line": {
             "colorbar": {
              "outlinewidth": 0,
              "ticks": ""
             }
            },
            "type": "parcoords"
           }
          ],
          "pie": [
           {
            "automargin": true,
            "type": "pie"
           }
          ],
          "scatter": [
           {
            "fillpattern": {
             "fillmode": "overlay",
             "size": 10,
             "solidity": 0.2
            },
            "type": "scatter"
           }
          ],
          "scatter3d": [
           {
            "line": {
             "colorbar": {
              "outlinewidth": 0,
              "ticks": ""
             }
            },
            "marker": {
             "colorbar": {
              "outlinewidth": 0,
              "ticks": ""
             }
            },
            "type": "scatter3d"
           }
          ],
          "scattercarpet": [
           {
            "marker": {
             "colorbar": {
              "outlinewidth": 0,
              "ticks": ""
             }
            },
            "type": "scattercarpet"
           }
          ],
          "scattergeo": [
           {
            "marker": {
             "colorbar": {
              "outlinewidth": 0,
              "ticks": ""
             }
            },
            "type": "scattergeo"
           }
          ],
          "scattergl": [
           {
            "marker": {
             "colorbar": {
              "outlinewidth": 0,
              "ticks": ""
             }
            },
            "type": "scattergl"
           }
          ],
          "scattermap": [
           {
            "marker": {
             "colorbar": {
              "outlinewidth": 0,
              "ticks": ""
             }
            },
            "type": "scattermap"
           }
          ],
          "scattermapbox": [
           {
            "marker": {
             "colorbar": {
              "outlinewidth": 0,
              "ticks": ""
             }
            },
            "type": "scattermapbox"
           }
          ],
          "scatterpolar": [
           {
            "marker": {
             "colorbar": {
              "outlinewidth": 0,
              "ticks": ""
             }
            },
            "type": "scatterpolar"
           }
          ],
          "scatterpolargl": [
           {
            "marker": {
             "colorbar": {
              "outlinewidth": 0,
              "ticks": ""
             }
            },
            "type": "scatterpolargl"
           }
          ],
          "scatterternary": [
           {
            "marker": {
             "colorbar": {
              "outlinewidth": 0,
              "ticks": ""
             }
            },
            "type": "scatterternary"
           }
          ],
          "surface": [
           {
            "colorbar": {
             "outlinewidth": 0,
             "ticks": ""
            },
            "colorscale": [
             [
              0,
              "#0d0887"
             ],
             [
              0.1111111111111111,
              "#46039f"
             ],
             [
              0.2222222222222222,
              "#7201a8"
             ],
             [
              0.3333333333333333,
              "#9c179e"
             ],
             [
              0.4444444444444444,
              "#bd3786"
             ],
             [
              0.5555555555555556,
              "#d8576b"
             ],
             [
              0.6666666666666666,
              "#ed7953"
             ],
             [
              0.7777777777777778,
              "#fb9f3a"
             ],
             [
              0.8888888888888888,
              "#fdca26"
             ],
             [
              1,
              "#f0f921"
             ]
            ],
            "type": "surface"
           }
          ],
          "table": [
           {
            "cells": {
             "fill": {
              "color": "#EBF0F8"
             },
             "line": {
              "color": "white"
             }
            },
            "header": {
             "fill": {
              "color": "#C8D4E3"
             },
             "line": {
              "color": "white"
             }
            },
            "type": "table"
           }
          ]
         },
         "layout": {
          "annotationdefaults": {
           "arrowcolor": "#2a3f5f",
           "arrowhead": 0,
           "arrowwidth": 1
          },
          "autotypenumbers": "strict",
          "coloraxis": {
           "colorbar": {
            "outlinewidth": 0,
            "ticks": ""
           }
          },
          "colorscale": {
           "diverging": [
            [
             0,
             "#8e0152"
            ],
            [
             0.1,
             "#c51b7d"
            ],
            [
             0.2,
             "#de77ae"
            ],
            [
             0.3,
             "#f1b6da"
            ],
            [
             0.4,
             "#fde0ef"
            ],
            [
             0.5,
             "#f7f7f7"
            ],
            [
             0.6,
             "#e6f5d0"
            ],
            [
             0.7,
             "#b8e186"
            ],
            [
             0.8,
             "#7fbc41"
            ],
            [
             0.9,
             "#4d9221"
            ],
            [
             1,
             "#276419"
            ]
           ],
           "sequential": [
            [
             0,
             "#0d0887"
            ],
            [
             0.1111111111111111,
             "#46039f"
            ],
            [
             0.2222222222222222,
             "#7201a8"
            ],
            [
             0.3333333333333333,
             "#9c179e"
            ],
            [
             0.4444444444444444,
             "#bd3786"
            ],
            [
             0.5555555555555556,
             "#d8576b"
            ],
            [
             0.6666666666666666,
             "#ed7953"
            ],
            [
             0.7777777777777778,
             "#fb9f3a"
            ],
            [
             0.8888888888888888,
             "#fdca26"
            ],
            [
             1,
             "#f0f921"
            ]
           ],
           "sequentialminus": [
            [
             0,
             "#0d0887"
            ],
            [
             0.1111111111111111,
             "#46039f"
            ],
            [
             0.2222222222222222,
             "#7201a8"
            ],
            [
             0.3333333333333333,
             "#9c179e"
            ],
            [
             0.4444444444444444,
             "#bd3786"
            ],
            [
             0.5555555555555556,
             "#d8576b"
            ],
            [
             0.6666666666666666,
             "#ed7953"
            ],
            [
             0.7777777777777778,
             "#fb9f3a"
            ],
            [
             0.8888888888888888,
             "#fdca26"
            ],
            [
             1,
             "#f0f921"
            ]
           ]
          },
          "colorway": [
           "#636efa",
           "#EF553B",
           "#00cc96",
           "#ab63fa",
           "#FFA15A",
           "#19d3f3",
           "#FF6692",
           "#B6E880",
           "#FF97FF",
           "#FECB52"
          ],
          "font": {
           "color": "#2a3f5f"
          },
          "geo": {
           "bgcolor": "white",
           "lakecolor": "white",
           "landcolor": "#E5ECF6",
           "showlakes": true,
           "showland": true,
           "subunitcolor": "white"
          },
          "hoverlabel": {
           "align": "left"
          },
          "hovermode": "closest",
          "mapbox": {
           "style": "light"
          },
          "paper_bgcolor": "white",
          "plot_bgcolor": "#E5ECF6",
          "polar": {
           "angularaxis": {
            "gridcolor": "white",
            "linecolor": "white",
            "ticks": ""
           },
           "bgcolor": "#E5ECF6",
           "radialaxis": {
            "gridcolor": "white",
            "linecolor": "white",
            "ticks": ""
           }
          },
          "scene": {
           "xaxis": {
            "backgroundcolor": "#E5ECF6",
            "gridcolor": "white",
            "gridwidth": 2,
            "linecolor": "white",
            "showbackground": true,
            "ticks": "",
            "zerolinecolor": "white"
           },
           "yaxis": {
            "backgroundcolor": "#E5ECF6",
            "gridcolor": "white",
            "gridwidth": 2,
            "linecolor": "white",
            "showbackground": true,
            "ticks": "",
            "zerolinecolor": "white"
           },
           "zaxis": {
            "backgroundcolor": "#E5ECF6",
            "gridcolor": "white",
            "gridwidth": 2,
            "linecolor": "white",
            "showbackground": true,
            "ticks": "",
            "zerolinecolor": "white"
           }
          },
          "shapedefaults": {
           "line": {
            "color": "#2a3f5f"
           }
          },
          "ternary": {
           "aaxis": {
            "gridcolor": "white",
            "linecolor": "white",
            "ticks": ""
           },
           "baxis": {
            "gridcolor": "white",
            "linecolor": "white",
            "ticks": ""
           },
           "bgcolor": "#E5ECF6",
           "caxis": {
            "gridcolor": "white",
            "linecolor": "white",
            "ticks": ""
           }
          },
          "title": {
           "x": 0.05
          },
          "xaxis": {
           "automargin": true,
           "gridcolor": "white",
           "linecolor": "white",
           "ticks": "",
           "title": {
            "standoff": 15
           },
           "zerolinecolor": "white",
           "zerolinewidth": 2
          },
          "yaxis": {
           "automargin": true,
           "gridcolor": "white",
           "linecolor": "white",
           "ticks": "",
           "title": {
            "standoff": 15
           },
           "zerolinecolor": "white",
           "zerolinewidth": 2
          }
         }
        },
        "title": {
         "text": "op_year_week 기준 막대 그래프"
        },
        "xaxis": {
         "categoryarray": [
          "2025-04",
          "2025-07",
          "2025-06",
          "2025-09",
          "2025-05",
          "2025-02",
          "2025-08",
          "2025-03",
          "2025-01"
         ],
         "categoryorder": "array",
         "tickangle": 45,
         "title": {
          "text": "op_year_week"
         },
         "type": "category"
        },
        "yaxis": {
         "title": {
          "text": "수술 count"
         }
        }
       }
      }
     },
     "metadata": {},
     "output_type": "display_data"
    },
    {
     "data": {
      "application/vnd.plotly.v1+json": {
       "config": {
        "plotlyServerURL": "https://plot.ly"
       },
       "data": [
        {
         "name": "막대 그래프",
         "text": {
          "bdata": "AAAAAABgjkAAAAAAABiMQAAAAAAAoG5AAAAAAAAAbkAAAAAAAIBaQAAAAAAAACBAAAAAAAAAHEA=",
          "dtype": "f8"
         },
         "textposition": "outside",
         "type": "bar",
         "x": [
          "search_ad",
          "referral_customers",
          "referral_staff",
          "b2b_corporate",
          "motive_b2b_military",
          "promotion",
          "기타"
         ],
         "y": {
          "bdata": "zAODA/UA8ABqAAgABwA=",
          "dtype": "i2"
         }
        }
       ],
       "layout": {
        "template": {
         "data": {
          "bar": [
           {
            "error_x": {
             "color": "#2a3f5f"
            },
            "error_y": {
             "color": "#2a3f5f"
            },
            "marker": {
             "line": {
              "color": "#E5ECF6",
              "width": 0.5
             },
             "pattern": {
              "fillmode": "overlay",
              "size": 10,
              "solidity": 0.2
             }
            },
            "type": "bar"
           }
          ],
          "barpolar": [
           {
            "marker": {
             "line": {
              "color": "#E5ECF6",
              "width": 0.5
             },
             "pattern": {
              "fillmode": "overlay",
              "size": 10,
              "solidity": 0.2
             }
            },
            "type": "barpolar"
           }
          ],
          "carpet": [
           {
            "aaxis": {
             "endlinecolor": "#2a3f5f",
             "gridcolor": "white",
             "linecolor": "white",
             "minorgridcolor": "white",
             "startlinecolor": "#2a3f5f"
            },
            "baxis": {
             "endlinecolor": "#2a3f5f",
             "gridcolor": "white",
             "linecolor": "white",
             "minorgridcolor": "white",
             "startlinecolor": "#2a3f5f"
            },
            "type": "carpet"
           }
          ],
          "choropleth": [
           {
            "colorbar": {
             "outlinewidth": 0,
             "ticks": ""
            },
            "type": "choropleth"
           }
          ],
          "contour": [
           {
            "colorbar": {
             "outlinewidth": 0,
             "ticks": ""
            },
            "colorscale": [
             [
              0,
              "#0d0887"
             ],
             [
              0.1111111111111111,
              "#46039f"
             ],
             [
              0.2222222222222222,
              "#7201a8"
             ],
             [
              0.3333333333333333,
              "#9c179e"
             ],
             [
              0.4444444444444444,
              "#bd3786"
             ],
             [
              0.5555555555555556,
              "#d8576b"
             ],
             [
              0.6666666666666666,
              "#ed7953"
             ],
             [
              0.7777777777777778,
              "#fb9f3a"
             ],
             [
              0.8888888888888888,
              "#fdca26"
             ],
             [
              1,
              "#f0f921"
             ]
            ],
            "type": "contour"
           }
          ],
          "contourcarpet": [
           {
            "colorbar": {
             "outlinewidth": 0,
             "ticks": ""
            },
            "type": "contourcarpet"
           }
          ],
          "heatmap": [
           {
            "colorbar": {
             "outlinewidth": 0,
             "ticks": ""
            },
            "colorscale": [
             [
              0,
              "#0d0887"
             ],
             [
              0.1111111111111111,
              "#46039f"
             ],
             [
              0.2222222222222222,
              "#7201a8"
             ],
             [
              0.3333333333333333,
              "#9c179e"
             ],
             [
              0.4444444444444444,
              "#bd3786"
             ],
             [
              0.5555555555555556,
              "#d8576b"
             ],
             [
              0.6666666666666666,
              "#ed7953"
             ],
             [
              0.7777777777777778,
              "#fb9f3a"
             ],
             [
              0.8888888888888888,
              "#fdca26"
             ],
             [
              1,
              "#f0f921"
             ]
            ],
            "type": "heatmap"
           }
          ],
          "histogram": [
           {
            "marker": {
             "pattern": {
              "fillmode": "overlay",
              "size": 10,
              "solidity": 0.2
             }
            },
            "type": "histogram"
           }
          ],
          "histogram2d": [
           {
            "colorbar": {
             "outlinewidth": 0,
             "ticks": ""
            },
            "colorscale": [
             [
              0,
              "#0d0887"
             ],
             [
              0.1111111111111111,
              "#46039f"
             ],
             [
              0.2222222222222222,
              "#7201a8"
             ],
             [
              0.3333333333333333,
              "#9c179e"
             ],
             [
              0.4444444444444444,
              "#bd3786"
             ],
             [
              0.5555555555555556,
              "#d8576b"
             ],
             [
              0.6666666666666666,
              "#ed7953"
             ],
             [
              0.7777777777777778,
              "#fb9f3a"
             ],
             [
              0.8888888888888888,
              "#fdca26"
             ],
             [
              1,
              "#f0f921"
             ]
            ],
            "type": "histogram2d"
           }
          ],
          "histogram2dcontour": [
           {
            "colorbar": {
             "outlinewidth": 0,
             "ticks": ""
            },
            "colorscale": [
             [
              0,
              "#0d0887"
             ],
             [
              0.1111111111111111,
              "#46039f"
             ],
             [
              0.2222222222222222,
              "#7201a8"
             ],
             [
              0.3333333333333333,
              "#9c179e"
             ],
             [
              0.4444444444444444,
              "#bd3786"
             ],
             [
              0.5555555555555556,
              "#d8576b"
             ],
             [
              0.6666666666666666,
              "#ed7953"
             ],
             [
              0.7777777777777778,
              "#fb9f3a"
             ],
             [
              0.8888888888888888,
              "#fdca26"
             ],
             [
              1,
              "#f0f921"
             ]
            ],
            "type": "histogram2dcontour"
           }
          ],
          "mesh3d": [
           {
            "colorbar": {
             "outlinewidth": 0,
             "ticks": ""
            },
            "type": "mesh3d"
           }
          ],
          "parcoords": [
           {
            "line": {
             "colorbar": {
              "outlinewidth": 0,
              "ticks": ""
             }
            },
            "type": "parcoords"
           }
          ],
          "pie": [
           {
            "automargin": true,
            "type": "pie"
           }
          ],
          "scatter": [
           {
            "fillpattern": {
             "fillmode": "overlay",
             "size": 10,
             "solidity": 0.2
            },
            "type": "scatter"
           }
          ],
          "scatter3d": [
           {
            "line": {
             "colorbar": {
              "outlinewidth": 0,
              "ticks": ""
             }
            },
            "marker": {
             "colorbar": {
              "outlinewidth": 0,
              "ticks": ""
             }
            },
            "type": "scatter3d"
           }
          ],
          "scattercarpet": [
           {
            "marker": {
             "colorbar": {
              "outlinewidth": 0,
              "ticks": ""
             }
            },
            "type": "scattercarpet"
           }
          ],
          "scattergeo": [
           {
            "marker": {
             "colorbar": {
              "outlinewidth": 0,
              "ticks": ""
             }
            },
            "type": "scattergeo"
           }
          ],
          "scattergl": [
           {
            "marker": {
             "colorbar": {
              "outlinewidth": 0,
              "ticks": ""
             }
            },
            "type": "scattergl"
           }
          ],
          "scattermap": [
           {
            "marker": {
             "colorbar": {
              "outlinewidth": 0,
              "ticks": ""
             }
            },
            "type": "scattermap"
           }
          ],
          "scattermapbox": [
           {
            "marker": {
             "colorbar": {
              "outlinewidth": 0,
              "ticks": ""
             }
            },
            "type": "scattermapbox"
           }
          ],
          "scatterpolar": [
           {
            "marker": {
             "colorbar": {
              "outlinewidth": 0,
              "ticks": ""
             }
            },
            "type": "scatterpolar"
           }
          ],
          "scatterpolargl": [
           {
            "marker": {
             "colorbar": {
              "outlinewidth": 0,
              "ticks": ""
             }
            },
            "type": "scatterpolargl"
           }
          ],
          "scatterternary": [
           {
            "marker": {
             "colorbar": {
              "outlinewidth": 0,
              "ticks": ""
             }
            },
            "type": "scatterternary"
           }
          ],
          "surface": [
           {
            "colorbar": {
             "outlinewidth": 0,
             "ticks": ""
            },
            "colorscale": [
             [
              0,
              "#0d0887"
             ],
             [
              0.1111111111111111,
              "#46039f"
             ],
             [
              0.2222222222222222,
              "#7201a8"
             ],
             [
              0.3333333333333333,
              "#9c179e"
             ],
             [
              0.4444444444444444,
              "#bd3786"
             ],
             [
              0.5555555555555556,
              "#d8576b"
             ],
             [
              0.6666666666666666,
              "#ed7953"
             ],
             [
              0.7777777777777778,
              "#fb9f3a"
             ],
             [
              0.8888888888888888,
              "#fdca26"
             ],
             [
              1,
              "#f0f921"
             ]
            ],
            "type": "surface"
           }
          ],
          "table": [
           {
            "cells": {
             "fill": {
              "color": "#EBF0F8"
             },
             "line": {
              "color": "white"
             }
            },
            "header": {
             "fill": {
              "color": "#C8D4E3"
             },
             "line": {
              "color": "white"
             }
            },
            "type": "table"
           }
          ]
         },
         "layout": {
          "annotationdefaults": {
           "arrowcolor": "#2a3f5f",
           "arrowhead": 0,
           "arrowwidth": 1
          },
          "autotypenumbers": "strict",
          "coloraxis": {
           "colorbar": {
            "outlinewidth": 0,
            "ticks": ""
           }
          },
          "colorscale": {
           "diverging": [
            [
             0,
             "#8e0152"
            ],
            [
             0.1,
             "#c51b7d"
            ],
            [
             0.2,
             "#de77ae"
            ],
            [
             0.3,
             "#f1b6da"
            ],
            [
             0.4,
             "#fde0ef"
            ],
            [
             0.5,
             "#f7f7f7"
            ],
            [
             0.6,
             "#e6f5d0"
            ],
            [
             0.7,
             "#b8e186"
            ],
            [
             0.8,
             "#7fbc41"
            ],
            [
             0.9,
             "#4d9221"
            ],
            [
             1,
             "#276419"
            ]
           ],
           "sequential": [
            [
             0,
             "#0d0887"
            ],
            [
             0.1111111111111111,
             "#46039f"
            ],
            [
             0.2222222222222222,
             "#7201a8"
            ],
            [
             0.3333333333333333,
             "#9c179e"
            ],
            [
             0.4444444444444444,
             "#bd3786"
            ],
            [
             0.5555555555555556,
             "#d8576b"
            ],
            [
             0.6666666666666666,
             "#ed7953"
            ],
            [
             0.7777777777777778,
             "#fb9f3a"
            ],
            [
             0.8888888888888888,
             "#fdca26"
            ],
            [
             1,
             "#f0f921"
            ]
           ],
           "sequentialminus": [
            [
             0,
             "#0d0887"
            ],
            [
             0.1111111111111111,
             "#46039f"
            ],
            [
             0.2222222222222222,
             "#7201a8"
            ],
            [
             0.3333333333333333,
             "#9c179e"
            ],
            [
             0.4444444444444444,
             "#bd3786"
            ],
            [
             0.5555555555555556,
             "#d8576b"
            ],
            [
             0.6666666666666666,
             "#ed7953"
            ],
            [
             0.7777777777777778,
             "#fb9f3a"
            ],
            [
             0.8888888888888888,
             "#fdca26"
            ],
            [
             1,
             "#f0f921"
            ]
           ]
          },
          "colorway": [
           "#636efa",
           "#EF553B",
           "#00cc96",
           "#ab63fa",
           "#FFA15A",
           "#19d3f3",
           "#FF6692",
           "#B6E880",
           "#FF97FF",
           "#FECB52"
          ],
          "font": {
           "color": "#2a3f5f"
          },
          "geo": {
           "bgcolor": "white",
           "lakecolor": "white",
           "landcolor": "#E5ECF6",
           "showlakes": true,
           "showland": true,
           "subunitcolor": "white"
          },
          "hoverlabel": {
           "align": "left"
          },
          "hovermode": "closest",
          "mapbox": {
           "style": "light"
          },
          "paper_bgcolor": "white",
          "plot_bgcolor": "#E5ECF6",
          "polar": {
           "angularaxis": {
            "gridcolor": "white",
            "linecolor": "white",
            "ticks": ""
           },
           "bgcolor": "#E5ECF6",
           "radialaxis": {
            "gridcolor": "white",
            "linecolor": "white",
            "ticks": ""
           }
          },
          "scene": {
           "xaxis": {
            "backgroundcolor": "#E5ECF6",
            "gridcolor": "white",
            "gridwidth": 2,
            "linecolor": "white",
            "showbackground": true,
            "ticks": "",
            "zerolinecolor": "white"
           },
           "yaxis": {
            "backgroundcolor": "#E5ECF6",
            "gridcolor": "white",
            "gridwidth": 2,
            "linecolor": "white",
            "showbackground": true,
            "ticks": "",
            "zerolinecolor": "white"
           },
           "zaxis": {
            "backgroundcolor": "#E5ECF6",
            "gridcolor": "white",
            "gridwidth": 2,
            "linecolor": "white",
            "showbackground": true,
            "ticks": "",
            "zerolinecolor": "white"
           }
          },
          "shapedefaults": {
           "line": {
            "color": "#2a3f5f"
           }
          },
          "ternary": {
           "aaxis": {
            "gridcolor": "white",
            "linecolor": "white",
            "ticks": ""
           },
           "baxis": {
            "gridcolor": "white",
            "linecolor": "white",
            "ticks": ""
           },
           "bgcolor": "#E5ECF6",
           "caxis": {
            "gridcolor": "white",
            "linecolor": "white",
            "ticks": ""
           }
          },
          "title": {
           "x": 0.05
          },
          "xaxis": {
           "automargin": true,
           "gridcolor": "white",
           "linecolor": "white",
           "ticks": "",
           "title": {
            "standoff": 15
           },
           "zerolinecolor": "white",
           "zerolinewidth": 2
          },
          "yaxis": {
           "automargin": true,
           "gridcolor": "white",
           "linecolor": "white",
           "ticks": "",
           "title": {
            "standoff": 15
           },
           "zerolinecolor": "white",
           "zerolinewidth": 2
          }
         }
        },
        "title": {
         "text": "motive 기준 막대 그래프"
        },
        "xaxis": {
         "categoryarray": [
          "search_ad",
          "referral_customers",
          "referral_staff",
          "b2b_corporate",
          "motive_b2b_military",
          "promotion",
          "기타"
         ],
         "categoryorder": "array",
         "tickangle": 45,
         "title": {
          "text": "motive"
         },
         "type": "category"
        },
        "yaxis": {
         "title": {
          "text": "수술 count"
         }
        }
       }
      }
     },
     "metadata": {},
     "output_type": "display_data"
    },
    {
     "data": {
      "application/vnd.plotly.v1+json": {
       "config": {
        "plotlyServerURL": "https://plot.ly"
       },
       "data": [
        {
         "name": "막대 그래프",
         "text": {
          "bdata": "AAAAAAB8kkAAAAAAAEiKQAAAAAAAAGVAAAAAAADAV0AAAAAAAIBTQAAAAAAAgEJAAAAAAAAAJEAAAAAAAAAcQAAAAAAAABBAAAAAAAAACEAAAAAAAAAIQAAAAAAAAABAAAAAAAAAAEAAAAAAAAAAQAAAAAAAAPA/AAAAAAAA8D8AAAAAAADwPwAAAAAAAPA/AAAAAAAA8D8AAAAAAADwPwAAAAAAAPA/AAAAAAAA8D8AAAAAAADwPwAAAAAAAPA/AAAAAAAA8D8AAAAAAADwPwAAAAAAAPA/AAAAAAAA8D8AAAAAAADwPwAAAAAAAPA/AAAAAAAA8D8AAAAAAADwPwAAAAAAAPA/AAAAAAAA8D8AAAAAAADwPwAAAAAAAPA/AAAAAAAA8D8AAAAAAADwPwAAAAAAAPA/AAAAAAAA8D8AAAAAAADwPwAAAAAAAPA/AAAAAAAA8D8AAAAAAADwPwAAAAAAAPA/AAAAAAAA8D8AAAAAAADwPwAAAAAAAPA/AAAAAAAA8D8AAAAAAADwPwAAAAAAAPA/AAAAAAAA8D8AAAAAAADwPwAAAAAAAPA/AAAAAAAA8D8AAAAAAADwPw==",
          "dtype": "f8"
         },
         "textposition": "outside",
         "type": "bar",
         "x": [
          "학생",
          "직장인",
          "취준",
          "자영업/프리랜서",
          "군인",
          "주부",
          "교사",
          "간호사",
          "회사원",
          "항해사",
          "의사",
          "약사",
          "디자이너",
          "선생님",
          "태권도",
          "자영업",
          "영어교사",
          "요리사",
          "원어민 선생님",
          "유치원교사",
          "의사(성형외과)",
          "호텔리어",
          "프로그램관리자",
          "재수 끝난 재수생",
          "재수생",
          "졸업생",
          "언어재활사",
          "프리랜서",
          "프로젝트 매니저",
          "컨설턴트",
          "연구원",
          "Doctor",
          "어린이집 교사",
          "STUDENT",
          "Student",
          "Teacher",
          "jeweller",
          "x",
          "건축가",
          "경찰",
          "과학자",
          "교직원",
          "데이터분석가",
          "마케팅매니저",
          "마켓전문가",
          "목수",
          "방사선사",
          "배우",
          "변호사",
          "뷰티매니저",
          "사업",
          "사회복지사",
          "소프트웨어 디벨로퍼",
          "소프트웨어 엔지니어",
          "수능",
          "쉐프"
         ],
         "y": {
          "bdata": "nwRJA6gAXwBOACUACgAHAAQAAwADAAIAAgACAAEAAQABAAEAAQABAAEAAQABAAEAAQABAAEAAQABAAEAAQABAAEAAQABAAEAAQABAAEAAQABAAEAAQABAAEAAQABAAEAAQABAAEAAQABAAEAAQABAA==",
          "dtype": "i2"
         }
        }
       ],
       "layout": {
        "template": {
         "data": {
          "bar": [
           {
            "error_x": {
             "color": "#2a3f5f"
            },
            "error_y": {
             "color": "#2a3f5f"
            },
            "marker": {
             "line": {
              "color": "#E5ECF6",
              "width": 0.5
             },
             "pattern": {
              "fillmode": "overlay",
              "size": 10,
              "solidity": 0.2
             }
            },
            "type": "bar"
           }
          ],
          "barpolar": [
           {
            "marker": {
             "line": {
              "color": "#E5ECF6",
              "width": 0.5
             },
             "pattern": {
              "fillmode": "overlay",
              "size": 10,
              "solidity": 0.2
             }
            },
            "type": "barpolar"
           }
          ],
          "carpet": [
           {
            "aaxis": {
             "endlinecolor": "#2a3f5f",
             "gridcolor": "white",
             "linecolor": "white",
             "minorgridcolor": "white",
             "startlinecolor": "#2a3f5f"
            },
            "baxis": {
             "endlinecolor": "#2a3f5f",
             "gridcolor": "white",
             "linecolor": "white",
             "minorgridcolor": "white",
             "startlinecolor": "#2a3f5f"
            },
            "type": "carpet"
           }
          ],
          "choropleth": [
           {
            "colorbar": {
             "outlinewidth": 0,
             "ticks": ""
            },
            "type": "choropleth"
           }
          ],
          "contour": [
           {
            "colorbar": {
             "outlinewidth": 0,
             "ticks": ""
            },
            "colorscale": [
             [
              0,
              "#0d0887"
             ],
             [
              0.1111111111111111,
              "#46039f"
             ],
             [
              0.2222222222222222,
              "#7201a8"
             ],
             [
              0.3333333333333333,
              "#9c179e"
             ],
             [
              0.4444444444444444,
              "#bd3786"
             ],
             [
              0.5555555555555556,
              "#d8576b"
             ],
             [
              0.6666666666666666,
              "#ed7953"
             ],
             [
              0.7777777777777778,
              "#fb9f3a"
             ],
             [
              0.8888888888888888,
              "#fdca26"
             ],
             [
              1,
              "#f0f921"
             ]
            ],
            "type": "contour"
           }
          ],
          "contourcarpet": [
           {
            "colorbar": {
             "outlinewidth": 0,
             "ticks": ""
            },
            "type": "contourcarpet"
           }
          ],
          "heatmap": [
           {
            "colorbar": {
             "outlinewidth": 0,
             "ticks": ""
            },
            "colorscale": [
             [
              0,
              "#0d0887"
             ],
             [
              0.1111111111111111,
              "#46039f"
             ],
             [
              0.2222222222222222,
              "#7201a8"
             ],
             [
              0.3333333333333333,
              "#9c179e"
             ],
             [
              0.4444444444444444,
              "#bd3786"
             ],
             [
              0.5555555555555556,
              "#d8576b"
             ],
             [
              0.6666666666666666,
              "#ed7953"
             ],
             [
              0.7777777777777778,
              "#fb9f3a"
             ],
             [
              0.8888888888888888,
              "#fdca26"
             ],
             [
              1,
              "#f0f921"
             ]
            ],
            "type": "heatmap"
           }
          ],
          "histogram": [
           {
            "marker": {
             "pattern": {
              "fillmode": "overlay",
              "size": 10,
              "solidity": 0.2
             }
            },
            "type": "histogram"
           }
          ],
          "histogram2d": [
           {
            "colorbar": {
             "outlinewidth": 0,
             "ticks": ""
            },
            "colorscale": [
             [
              0,
              "#0d0887"
             ],
             [
              0.1111111111111111,
              "#46039f"
             ],
             [
              0.2222222222222222,
              "#7201a8"
             ],
             [
              0.3333333333333333,
              "#9c179e"
             ],
             [
              0.4444444444444444,
              "#bd3786"
             ],
             [
              0.5555555555555556,
              "#d8576b"
             ],
             [
              0.6666666666666666,
              "#ed7953"
             ],
             [
              0.7777777777777778,
              "#fb9f3a"
             ],
             [
              0.8888888888888888,
              "#fdca26"
             ],
             [
              1,
              "#f0f921"
             ]
            ],
            "type": "histogram2d"
           }
          ],
          "histogram2dcontour": [
           {
            "colorbar": {
             "outlinewidth": 0,
             "ticks": ""
            },
            "colorscale": [
             [
              0,
              "#0d0887"
             ],
             [
              0.1111111111111111,
              "#46039f"
             ],
             [
              0.2222222222222222,
              "#7201a8"
             ],
             [
              0.3333333333333333,
              "#9c179e"
             ],
             [
              0.4444444444444444,
              "#bd3786"
             ],
             [
              0.5555555555555556,
              "#d8576b"
             ],
             [
              0.6666666666666666,
              "#ed7953"
             ],
             [
              0.7777777777777778,
              "#fb9f3a"
             ],
             [
              0.8888888888888888,
              "#fdca26"
             ],
             [
              1,
              "#f0f921"
             ]
            ],
            "type": "histogram2dcontour"
           }
          ],
          "mesh3d": [
           {
            "colorbar": {
             "outlinewidth": 0,
             "ticks": ""
            },
            "type": "mesh3d"
           }
          ],
          "parcoords": [
           {
            "line": {
             "colorbar": {
              "outlinewidth": 0,
              "ticks": ""
             }
            },
            "type": "parcoords"
           }
          ],
          "pie": [
           {
            "automargin": true,
            "type": "pie"
           }
          ],
          "scatter": [
           {
            "fillpattern": {
             "fillmode": "overlay",
             "size": 10,
             "solidity": 0.2
            },
            "type": "scatter"
           }
          ],
          "scatter3d": [
           {
            "line": {
             "colorbar": {
              "outlinewidth": 0,
              "ticks": ""
             }
            },
            "marker": {
             "colorbar": {
              "outlinewidth": 0,
              "ticks": ""
             }
            },
            "type": "scatter3d"
           }
          ],
          "scattercarpet": [
           {
            "marker": {
             "colorbar": {
              "outlinewidth": 0,
              "ticks": ""
             }
            },
            "type": "scattercarpet"
           }
          ],
          "scattergeo": [
           {
            "marker": {
             "colorbar": {
              "outlinewidth": 0,
              "ticks": ""
             }
            },
            "type": "scattergeo"
           }
          ],
          "scattergl": [
           {
            "marker": {
             "colorbar": {
              "outlinewidth": 0,
              "ticks": ""
             }
            },
            "type": "scattergl"
           }
          ],
          "scattermap": [
           {
            "marker": {
             "colorbar": {
              "outlinewidth": 0,
              "ticks": ""
             }
            },
            "type": "scattermap"
           }
          ],
          "scattermapbox": [
           {
            "marker": {
             "colorbar": {
              "outlinewidth": 0,
              "ticks": ""
             }
            },
            "type": "scattermapbox"
           }
          ],
          "scatterpolar": [
           {
            "marker": {
             "colorbar": {
              "outlinewidth": 0,
              "ticks": ""
             }
            },
            "type": "scatterpolar"
           }
          ],
          "scatterpolargl": [
           {
            "marker": {
             "colorbar": {
              "outlinewidth": 0,
              "ticks": ""
             }
            },
            "type": "scatterpolargl"
           }
          ],
          "scatterternary": [
           {
            "marker": {
             "colorbar": {
              "outlinewidth": 0,
              "ticks": ""
             }
            },
            "type": "scatterternary"
           }
          ],
          "surface": [
           {
            "colorbar": {
             "outlinewidth": 0,
             "ticks": ""
            },
            "colorscale": [
             [
              0,
              "#0d0887"
             ],
             [
              0.1111111111111111,
              "#46039f"
             ],
             [
              0.2222222222222222,
              "#7201a8"
             ],
             [
              0.3333333333333333,
              "#9c179e"
             ],
             [
              0.4444444444444444,
              "#bd3786"
             ],
             [
              0.5555555555555556,
              "#d8576b"
             ],
             [
              0.6666666666666666,
              "#ed7953"
             ],
             [
              0.7777777777777778,
              "#fb9f3a"
             ],
             [
              0.8888888888888888,
              "#fdca26"
             ],
             [
              1,
              "#f0f921"
             ]
            ],
            "type": "surface"
           }
          ],
          "table": [
           {
            "cells": {
             "fill": {
              "color": "#EBF0F8"
             },
             "line": {
              "color": "white"
             }
            },
            "header": {
             "fill": {
              "color": "#C8D4E3"
             },
             "line": {
              "color": "white"
             }
            },
            "type": "table"
           }
          ]
         },
         "layout": {
          "annotationdefaults": {
           "arrowcolor": "#2a3f5f",
           "arrowhead": 0,
           "arrowwidth": 1
          },
          "autotypenumbers": "strict",
          "coloraxis": {
           "colorbar": {
            "outlinewidth": 0,
            "ticks": ""
           }
          },
          "colorscale": {
           "diverging": [
            [
             0,
             "#8e0152"
            ],
            [
             0.1,
             "#c51b7d"
            ],
            [
             0.2,
             "#de77ae"
            ],
            [
             0.3,
             "#f1b6da"
            ],
            [
             0.4,
             "#fde0ef"
            ],
            [
             0.5,
             "#f7f7f7"
            ],
            [
             0.6,
             "#e6f5d0"
            ],
            [
             0.7,
             "#b8e186"
            ],
            [
             0.8,
             "#7fbc41"
            ],
            [
             0.9,
             "#4d9221"
            ],
            [
             1,
             "#276419"
            ]
           ],
           "sequential": [
            [
             0,
             "#0d0887"
            ],
            [
             0.1111111111111111,
             "#46039f"
            ],
            [
             0.2222222222222222,
             "#7201a8"
            ],
            [
             0.3333333333333333,
             "#9c179e"
            ],
            [
             0.4444444444444444,
             "#bd3786"
            ],
            [
             0.5555555555555556,
             "#d8576b"
            ],
            [
             0.6666666666666666,
             "#ed7953"
            ],
            [
             0.7777777777777778,
             "#fb9f3a"
            ],
            [
             0.8888888888888888,
             "#fdca26"
            ],
            [
             1,
             "#f0f921"
            ]
           ],
           "sequentialminus": [
            [
             0,
             "#0d0887"
            ],
            [
             0.1111111111111111,
             "#46039f"
            ],
            [
             0.2222222222222222,
             "#7201a8"
            ],
            [
             0.3333333333333333,
             "#9c179e"
            ],
            [
             0.4444444444444444,
             "#bd3786"
            ],
            [
             0.5555555555555556,
             "#d8576b"
            ],
            [
             0.6666666666666666,
             "#ed7953"
            ],
            [
             0.7777777777777778,
             "#fb9f3a"
            ],
            [
             0.8888888888888888,
             "#fdca26"
            ],
            [
             1,
             "#f0f921"
            ]
           ]
          },
          "colorway": [
           "#636efa",
           "#EF553B",
           "#00cc96",
           "#ab63fa",
           "#FFA15A",
           "#19d3f3",
           "#FF6692",
           "#B6E880",
           "#FF97FF",
           "#FECB52"
          ],
          "font": {
           "color": "#2a3f5f"
          },
          "geo": {
           "bgcolor": "white",
           "lakecolor": "white",
           "landcolor": "#E5ECF6",
           "showlakes": true,
           "showland": true,
           "subunitcolor": "white"
          },
          "hoverlabel": {
           "align": "left"
          },
          "hovermode": "closest",
          "mapbox": {
           "style": "light"
          },
          "paper_bgcolor": "white",
          "plot_bgcolor": "#E5ECF6",
          "polar": {
           "angularaxis": {
            "gridcolor": "white",
            "linecolor": "white",
            "ticks": ""
           },
           "bgcolor": "#E5ECF6",
           "radialaxis": {
            "gridcolor": "white",
            "linecolor": "white",
            "ticks": ""
           }
          },
          "scene": {
           "xaxis": {
            "backgroundcolor": "#E5ECF6",
            "gridcolor": "white",
            "gridwidth": 2,
            "linecolor": "white",
            "showbackground": true,
            "ticks": "",
            "zerolinecolor": "white"
           },
           "yaxis": {
            "backgroundcolor": "#E5ECF6",
            "gridcolor": "white",
            "gridwidth": 2,
            "linecolor": "white",
            "showbackground": true,
            "ticks": "",
            "zerolinecolor": "white"
           },
           "zaxis": {
            "backgroundcolor": "#E5ECF6",
            "gridcolor": "white",
            "gridwidth": 2,
            "linecolor": "white",
            "showbackground": true,
            "ticks": "",
            "zerolinecolor": "white"
           }
          },
          "shapedefaults": {
           "line": {
            "color": "#2a3f5f"
           }
          },
          "ternary": {
           "aaxis": {
            "gridcolor": "white",
            "linecolor": "white",
            "ticks": ""
           },
           "baxis": {
            "gridcolor": "white",
            "linecolor": "white",
            "ticks": ""
           },
           "bgcolor": "#E5ECF6",
           "caxis": {
            "gridcolor": "white",
            "linecolor": "white",
            "ticks": ""
           }
          },
          "title": {
           "x": 0.05
          },
          "xaxis": {
           "automargin": true,
           "gridcolor": "white",
           "linecolor": "white",
           "ticks": "",
           "title": {
            "standoff": 15
           },
           "zerolinecolor": "white",
           "zerolinewidth": 2
          },
          "yaxis": {
           "automargin": true,
           "gridcolor": "white",
           "linecolor": "white",
           "ticks": "",
           "title": {
            "standoff": 15
           },
           "zerolinecolor": "white",
           "zerolinewidth": 2
          }
         }
        },
        "title": {
         "text": "job 기준 막대 그래프"
        },
        "xaxis": {
         "categoryarray": [
          "학생",
          "직장인",
          "취준",
          "자영업/프리랜서",
          "군인",
          "주부",
          "교사",
          "간호사",
          "회사원",
          "항해사",
          "의사",
          "약사",
          "디자이너",
          "선생님",
          "태권도",
          "자영업",
          "영어교사",
          "요리사",
          "원어민 선생님",
          "유치원교사",
          "의사(성형외과)",
          "호텔리어",
          "프로그램관리자",
          "재수 끝난 재수생",
          "재수생",
          "졸업생",
          "언어재활사",
          "프리랜서",
          "프로젝트 매니저",
          "컨설턴트",
          "연구원",
          "Doctor",
          "어린이집 교사",
          "STUDENT",
          "Student",
          "Teacher",
          "jeweller",
          "x",
          "건축가",
          "경찰",
          "과학자",
          "교직원",
          "데이터분석가",
          "마케팅매니저",
          "마켓전문가",
          "목수",
          "방사선사",
          "배우",
          "변호사",
          "뷰티매니저",
          "사업",
          "사회복지사",
          "소프트웨어 디벨로퍼",
          "소프트웨어 엔지니어",
          "수능",
          "쉐프"
         ],
         "categoryorder": "array",
         "tickangle": 45,
         "title": {
          "text": "job"
         },
         "type": "category"
        },
        "yaxis": {
         "title": {
          "text": "수술 count"
         }
        }
       }
      }
     },
     "metadata": {},
     "output_type": "display_data"
    },
    {
     "data": {
      "application/vnd.plotly.v1+json": {
       "config": {
        "plotlyServerURL": "https://plot.ly"
       },
       "data": [
        {
         "name": "막대 그래프",
         "text": {
          "bdata": "AAAAAABAWkAAAAAAAIBYQAAAAAAAgFdAAAAAAABAVEAAAAAAAABSQAAAAAAAgE1AAAAAAAAATUAAAAAAAABMQAAAAAAAgEtAAAAAAAAAS0AAAAAAAIBJQAAAAAAAAElAAAAAAACARUAAAAAAAABFQAAAAAAAAERAAAAAAAAAREAAAAAAAIBDQAAAAAAAgENAAAAAAACAQ0AAAAAAAABDQAAAAAAAAENAAAAAAAAAQkAAAAAAAABCQAAAAAAAAEJAAAAAAAAAQUAAAAAAAIBAQAAAAAAAgEBAAAAAAAAAQEAAAAAAAABAQAAAAAAAAD9AAAAAAAAAPkAAAAAAAAA+QAAAAAAAAD1AAAAAAAAAPEAAAAAAAAA8QAAAAAAAADxAAAAAAAAAPEAAAAAAAAA7QAAAAAAAADpAAAAAAAAAOkAAAAAAAAA4QAAAAAAAADhAAAAAAAAAN0AAAAAAAAA2QAAAAAAAADZAAAAAAAAANUAAAAAAAAA0QAAAAAAAADNAAAAAAAAAMkAAAAAAAAAyQAAAAAAAADFAAAAAAAAAMUAAAAAAAAAxQAAAAAAAAC5AAAAAAAAALkAAAAAAAAAqQAAAAAAAACpAAAAAAAAAKkAAAAAAAAAoQAAAAAAAAChAAAAAAAAAKEAAAAAAAAAoQAAAAAAAAChAAAAAAAAAKEAAAAAAAAAoQAAAAAAAACRAAAAAAAAAJEAAAAAAAAAiQAAAAAAAACJAAAAAAAAAIkAAAAAAAAAgQAAAAAAAACBAAAAAAAAAIEAAAAAAAAAcQAAAAAAAABxAAAAAAAAAHEAAAAAAAAAYQAAAAAAAABhAAAAAAAAAGEAAAAAAAAAYQAAAAAAAABRAAAAAAAAAFEAAAAAAAAAUQAAAAAAAABRAAAAAAAAAFEAAAAAAAAAUQAAAAAAAABBAAAAAAAAAEEAAAAAAAAAQQAAAAAAAABBAAAAAAAAAEEAAAAAAAAAQQAAAAAAAAAhAAAAAAAAACEAAAAAAAAAIQAAAAAAAAAhAAAAAAAAACEAAAAAAAAAIQAAAAAAAAAhAAAAAAAAACEAAAAAAAAAAQAAAAAAAAABAAAAAAAAAAEAAAAAAAAAAQAAAAAAAAABAAAAAAAAAAEAAAAAAAAAAQAAAAAAAAABAAAAAAAAAAEAAAAAAAAAAQAAAAAAAAABAAAAAAAAAAEAAAAAAAAAAQAAAAAAAAABAAAAAAAAAAEAAAAAAAAAAQAAAAAAAAABAAAAAAAAAAEAAAAAAAAAAQAAAAAAAAABAAAAAAAAAAEAAAAAAAADwPwAAAAAAAPA/AAAAAAAA8D8AAAAAAADwPwAAAAAAAPA/AAAAAAAA8D8AAAAAAADwPwAAAAAAAPA/AAAAAAAA8D8AAAAAAADwPwAAAAAAAPA/AAAAAAAA8D8AAAAAAADwPwAAAAAAAPA/AAAAAAAA8D8AAAAAAADwPwAAAAAAAPA/AAAAAAAA8D8AAAAAAADwPwAAAAAAAPA/AAAAAAAA8D8AAAAAAADwPwAAAAAAAPA/AAAAAAAA8D8AAAAAAADwPwAAAAAAAPA/AAAAAAAA8D8AAAAAAADwPwAAAAAAAPA/AAAAAAAA8D8AAAAAAADwPwAAAAAAAPA/AAAAAAAA8D8AAAAAAADwPwAAAAAAAPA/AAAAAAAA8D8AAAAAAADwPwAAAAAAAPA/AAAAAAAA8D8AAAAAAADwPwAAAAAAAPA/AAAAAAAA8D8AAAAAAADwPwAAAAAAAPA/AAAAAAAA8D8AAAAAAADwPwAAAAAAAPA/AAAAAAAA8D8AAAAAAADwPwAAAAAAAPA/AAAAAAAA8D8AAAAAAADwPw==",
          "dtype": "f8"
         },
         "textposition": "outside",
         "type": "bar",
         "x": [
          "경기 용인시",
          "경기 수원시",
          "경기 화성시",
          "경기 고양시",
          "서울 강남구",
          "서울 송파구",
          "경기 성남시",
          "서울 노원구",
          "서울 강동구",
          "경기 남양주시",
          "서울 강서구",
          "서울 관악구",
          "서울 서초구",
          "강원특별자치도 원주시",
          "서울 광진구",
          "서울 영등포구",
          "경기 안양시",
          "경기 평택시",
          "서울 동작구",
          "경기 부천시",
          "서울 양천구",
          "서울 서대문구",
          "경기 의정부시",
          "경기 김포시",
          "서울 마포구",
          "서울 동대문구",
          "서울 은평구",
          "인천 서구",
          "서울 중구",
          "경기 광명시",
          "서울 중랑구",
          "인천 연수구",
          "서울 성북구",
          "서울 구로구",
          "경기 시흥시",
          "충북 청주시",
          "서울 성동구",
          "경기 하남시",
          "강원특별자치도 춘천시",
          "경기 군포시",
          "서울 금천구",
          "경기 파주시",
          "경기 안산시",
          "서울 용산구",
          "충남 천안시",
          "서울 도봉구",
          "경기 광주시",
          "경기 양주시",
          "충남 아산시",
          "인천 남동구",
          "인천 부평구",
          "경기 구리시",
          "경기 안성시",
          "경기 이천시",
          "경기 오산시",
          "제주 제주시",
          "충북 충주시",
          "충남 서산시",
          "경남 창원시",
          "서울 종로구",
          "경기 의왕시",
          "경기 과천시",
          "인천 계양구",
          "충남 당진시",
          "강원특별자치도 강릉시",
          "대전 유성구",
          "대전 서구",
          "전북특별자치도 전주시",
          "충남 예산군",
          "경북 구미시",
          "경북 포항시",
          "경기 동두천시",
          "서울 강북구",
          "강원특별자치도 삼척시",
          "인천 중구",
          "강원특별자치도 철원군",
          "전북특별자치도 익산시",
          "경기 여주시",
          "대전 대덕구",
          "인천 미추홀구",
          "충남 홍성군",
          "경북 김천시",
          "경기 포천시",
          "대전 동구",
          "경북 영주시",
          "경기 가평군",
          "강원특별자치도 속초시",
          "강원특별자치도 동해시",
          "경북 울진군",
          "전남 여수시",
          "충북 제천시",
          "전북특별자치도 군산시",
          "충남 태안군",
          "충남 서천군",
          "충남 보령시",
          "경북 안동시",
          "강원특별자치도 횡성군",
          "강원특별자치도 평창군",
          "경남 진주시",
          "대구 수성구",
          "충북 진천군",
          "강원특별자치도 영월군",
          "경남 김해시",
          "강원특별자치도 화천군",
          "세종 국세청로",
          "강원특별자치도 고성군",
          "경기 양평군",
          "경기 연천군",
          "충북 음성군",
          "부산 남구",
          "경북 경주시",
          "제주 서귀포시",
          "충북 단양군",
          "충남 청양군",
          "울산 중구",
          "광주 광산구",
          "대구 동구",
          "대구 서구",
          "대전 중구",
          "충남 논산시",
          "전남 광양시",
          "인천 동구",
          "10 마곡중앙",
          "전남 목포시",
          "전남 순천시",
          "전북특별자치도 정읍시",
          "충남 계룡시",
          "충북 보은군",
          "충북 영동군",
          "홍익로 6길",
          "인천 강화군",
          "부산 금정구",
          "울산 북구",
          "대구 북구",
          "대구 달서구",
          "대구 남구",
          "광주 북구",
          "광주 남구",
          "경북 청송군",
          "경북 예천군",
          "경북 영덕군",
          "경북 봉화군",
          "경북 문경시",
          "경남 통영시",
          "경남 사천시",
          "경남 거제시",
          "강원특별자치도 홍천군",
          "강원특별자치도 정선군",
          "강원특별자치도 인제군",
          "강원특별자치도 양양군",
          "강원특별자치도 양구군",
          "대구 달성군",
          "마포 글래드",
          "울산 동구",
          "명동 8나길",
          "울산 남구",
          "수원시 팔달구",
          "세종 아름동",
          "세종 보듬4로",
          "세종 마음안로",
          "세종 마음안1로",
          "세종 마음로",
          "세종 다정중앙로",
          "세종 남세종로",
          "세종 고운마을3길",
          "서울시 둔촌동",
          "서울시 동작구",
          "서대문구 신촉역로17",
          "부산 영도구",
          "부산 사상구",
          "부산 강서구",
          "명동 남산호텔",
          "회기동"
         ],
         "y": {
          "bdata": "aWJeUUg7Ojg3NjMyKyooKCcnJyYmJCQkIiEhICAfHh4dHBwcHBsaGhgYFxYWFRQTEhIREREPDw0NDQwMDAwMDAwKCgkJCQgICAcHBwYGBgYFBQUFBQUEBAQEBAQDAwMDAwMDAwICAgICAgICAgICAgICAgICAgICAgEBAQEBAQEBAQEBAQEBAQEBAQEBAQEBAQEBAQEBAQEBAQEBAQEBAQEBAQEBAQEBAQEBAQE=",
          "dtype": "i1"
         }
        }
       ],
       "layout": {
        "template": {
         "data": {
          "bar": [
           {
            "error_x": {
             "color": "#2a3f5f"
            },
            "error_y": {
             "color": "#2a3f5f"
            },
            "marker": {
             "line": {
              "color": "#E5ECF6",
              "width": 0.5
             },
             "pattern": {
              "fillmode": "overlay",
              "size": 10,
              "solidity": 0.2
             }
            },
            "type": "bar"
           }
          ],
          "barpolar": [
           {
            "marker": {
             "line": {
              "color": "#E5ECF6",
              "width": 0.5
             },
             "pattern": {
              "fillmode": "overlay",
              "size": 10,
              "solidity": 0.2
             }
            },
            "type": "barpolar"
           }
          ],
          "carpet": [
           {
            "aaxis": {
             "endlinecolor": "#2a3f5f",
             "gridcolor": "white",
             "linecolor": "white",
             "minorgridcolor": "white",
             "startlinecolor": "#2a3f5f"
            },
            "baxis": {
             "endlinecolor": "#2a3f5f",
             "gridcolor": "white",
             "linecolor": "white",
             "minorgridcolor": "white",
             "startlinecolor": "#2a3f5f"
            },
            "type": "carpet"
           }
          ],
          "choropleth": [
           {
            "colorbar": {
             "outlinewidth": 0,
             "ticks": ""
            },
            "type": "choropleth"
           }
          ],
          "contour": [
           {
            "colorbar": {
             "outlinewidth": 0,
             "ticks": ""
            },
            "colorscale": [
             [
              0,
              "#0d0887"
             ],
             [
              0.1111111111111111,
              "#46039f"
             ],
             [
              0.2222222222222222,
              "#7201a8"
             ],
             [
              0.3333333333333333,
              "#9c179e"
             ],
             [
              0.4444444444444444,
              "#bd3786"
             ],
             [
              0.5555555555555556,
              "#d8576b"
             ],
             [
              0.6666666666666666,
              "#ed7953"
             ],
             [
              0.7777777777777778,
              "#fb9f3a"
             ],
             [
              0.8888888888888888,
              "#fdca26"
             ],
             [
              1,
              "#f0f921"
             ]
            ],
            "type": "contour"
           }
          ],
          "contourcarpet": [
           {
            "colorbar": {
             "outlinewidth": 0,
             "ticks": ""
            },
            "type": "contourcarpet"
           }
          ],
          "heatmap": [
           {
            "colorbar": {
             "outlinewidth": 0,
             "ticks": ""
            },
            "colorscale": [
             [
              0,
              "#0d0887"
             ],
             [
              0.1111111111111111,
              "#46039f"
             ],
             [
              0.2222222222222222,
              "#7201a8"
             ],
             [
              0.3333333333333333,
              "#9c179e"
             ],
             [
              0.4444444444444444,
              "#bd3786"
             ],
             [
              0.5555555555555556,
              "#d8576b"
             ],
             [
              0.6666666666666666,
              "#ed7953"
             ],
             [
              0.7777777777777778,
              "#fb9f3a"
             ],
             [
              0.8888888888888888,
              "#fdca26"
             ],
             [
              1,
              "#f0f921"
             ]
            ],
            "type": "heatmap"
           }
          ],
          "histogram": [
           {
            "marker": {
             "pattern": {
              "fillmode": "overlay",
              "size": 10,
              "solidity": 0.2
             }
            },
            "type": "histogram"
           }
          ],
          "histogram2d": [
           {
            "colorbar": {
             "outlinewidth": 0,
             "ticks": ""
            },
            "colorscale": [
             [
              0,
              "#0d0887"
             ],
             [
              0.1111111111111111,
              "#46039f"
             ],
             [
              0.2222222222222222,
              "#7201a8"
             ],
             [
              0.3333333333333333,
              "#9c179e"
             ],
             [
              0.4444444444444444,
              "#bd3786"
             ],
             [
              0.5555555555555556,
              "#d8576b"
             ],
             [
              0.6666666666666666,
              "#ed7953"
             ],
             [
              0.7777777777777778,
              "#fb9f3a"
             ],
             [
              0.8888888888888888,
              "#fdca26"
             ],
             [
              1,
              "#f0f921"
             ]
            ],
            "type": "histogram2d"
           }
          ],
          "histogram2dcontour": [
           {
            "colorbar": {
             "outlinewidth": 0,
             "ticks": ""
            },
            "colorscale": [
             [
              0,
              "#0d0887"
             ],
             [
              0.1111111111111111,
              "#46039f"
             ],
             [
              0.2222222222222222,
              "#7201a8"
             ],
             [
              0.3333333333333333,
              "#9c179e"
             ],
             [
              0.4444444444444444,
              "#bd3786"
             ],
             [
              0.5555555555555556,
              "#d8576b"
             ],
             [
              0.6666666666666666,
              "#ed7953"
             ],
             [
              0.7777777777777778,
              "#fb9f3a"
             ],
             [
              0.8888888888888888,
              "#fdca26"
             ],
             [
              1,
              "#f0f921"
             ]
            ],
            "type": "histogram2dcontour"
           }
          ],
          "mesh3d": [
           {
            "colorbar": {
             "outlinewidth": 0,
             "ticks": ""
            },
            "type": "mesh3d"
           }
          ],
          "parcoords": [
           {
            "line": {
             "colorbar": {
              "outlinewidth": 0,
              "ticks": ""
             }
            },
            "type": "parcoords"
           }
          ],
          "pie": [
           {
            "automargin": true,
            "type": "pie"
           }
          ],
          "scatter": [
           {
            "fillpattern": {
             "fillmode": "overlay",
             "size": 10,
             "solidity": 0.2
            },
            "type": "scatter"
           }
          ],
          "scatter3d": [
           {
            "line": {
             "colorbar": {
              "outlinewidth": 0,
              "ticks": ""
             }
            },
            "marker": {
             "colorbar": {
              "outlinewidth": 0,
              "ticks": ""
             }
            },
            "type": "scatter3d"
           }
          ],
          "scattercarpet": [
           {
            "marker": {
             "colorbar": {
              "outlinewidth": 0,
              "ticks": ""
             }
            },
            "type": "scattercarpet"
           }
          ],
          "scattergeo": [
           {
            "marker": {
             "colorbar": {
              "outlinewidth": 0,
              "ticks": ""
             }
            },
            "type": "scattergeo"
           }
          ],
          "scattergl": [
           {
            "marker": {
             "colorbar": {
              "outlinewidth": 0,
              "ticks": ""
             }
            },
            "type": "scattergl"
           }
          ],
          "scattermap": [
           {
            "marker": {
             "colorbar": {
              "outlinewidth": 0,
              "ticks": ""
             }
            },
            "type": "scattermap"
           }
          ],
          "scattermapbox": [
           {
            "marker": {
             "colorbar": {
              "outlinewidth": 0,
              "ticks": ""
             }
            },
            "type": "scattermapbox"
           }
          ],
          "scatterpolar": [
           {
            "marker": {
             "colorbar": {
              "outlinewidth": 0,
              "ticks": ""
             }
            },
            "type": "scatterpolar"
           }
          ],
          "scatterpolargl": [
           {
            "marker": {
             "colorbar": {
              "outlinewidth": 0,
              "ticks": ""
             }
            },
            "type": "scatterpolargl"
           }
          ],
          "scatterternary": [
           {
            "marker": {
             "colorbar": {
              "outlinewidth": 0,
              "ticks": ""
             }
            },
            "type": "scatterternary"
           }
          ],
          "surface": [
           {
            "colorbar": {
             "outlinewidth": 0,
             "ticks": ""
            },
            "colorscale": [
             [
              0,
              "#0d0887"
             ],
             [
              0.1111111111111111,
              "#46039f"
             ],
             [
              0.2222222222222222,
              "#7201a8"
             ],
             [
              0.3333333333333333,
              "#9c179e"
             ],
             [
              0.4444444444444444,
              "#bd3786"
             ],
             [
              0.5555555555555556,
              "#d8576b"
             ],
             [
              0.6666666666666666,
              "#ed7953"
             ],
             [
              0.7777777777777778,
              "#fb9f3a"
             ],
             [
              0.8888888888888888,
              "#fdca26"
             ],
             [
              1,
              "#f0f921"
             ]
            ],
            "type": "surface"
           }
          ],
          "table": [
           {
            "cells": {
             "fill": {
              "color": "#EBF0F8"
             },
             "line": {
              "color": "white"
             }
            },
            "header": {
             "fill": {
              "color": "#C8D4E3"
             },
             "line": {
              "color": "white"
             }
            },
            "type": "table"
           }
          ]
         },
         "layout": {
          "annotationdefaults": {
           "arrowcolor": "#2a3f5f",
           "arrowhead": 0,
           "arrowwidth": 1
          },
          "autotypenumbers": "strict",
          "coloraxis": {
           "colorbar": {
            "outlinewidth": 0,
            "ticks": ""
           }
          },
          "colorscale": {
           "diverging": [
            [
             0,
             "#8e0152"
            ],
            [
             0.1,
             "#c51b7d"
            ],
            [
             0.2,
             "#de77ae"
            ],
            [
             0.3,
             "#f1b6da"
            ],
            [
             0.4,
             "#fde0ef"
            ],
            [
             0.5,
             "#f7f7f7"
            ],
            [
             0.6,
             "#e6f5d0"
            ],
            [
             0.7,
             "#b8e186"
            ],
            [
             0.8,
             "#7fbc41"
            ],
            [
             0.9,
             "#4d9221"
            ],
            [
             1,
             "#276419"
            ]
           ],
           "sequential": [
            [
             0,
             "#0d0887"
            ],
            [
             0.1111111111111111,
             "#46039f"
            ],
            [
             0.2222222222222222,
             "#7201a8"
            ],
            [
             0.3333333333333333,
             "#9c179e"
            ],
            [
             0.4444444444444444,
             "#bd3786"
            ],
            [
             0.5555555555555556,
             "#d8576b"
            ],
            [
             0.6666666666666666,
             "#ed7953"
            ],
            [
             0.7777777777777778,
             "#fb9f3a"
            ],
            [
             0.8888888888888888,
             "#fdca26"
            ],
            [
             1,
             "#f0f921"
            ]
           ],
           "sequentialminus": [
            [
             0,
             "#0d0887"
            ],
            [
             0.1111111111111111,
             "#46039f"
            ],
            [
             0.2222222222222222,
             "#7201a8"
            ],
            [
             0.3333333333333333,
             "#9c179e"
            ],
            [
             0.4444444444444444,
             "#bd3786"
            ],
            [
             0.5555555555555556,
             "#d8576b"
            ],
            [
             0.6666666666666666,
             "#ed7953"
            ],
            [
             0.7777777777777778,
             "#fb9f3a"
            ],
            [
             0.8888888888888888,
             "#fdca26"
            ],
            [
             1,
             "#f0f921"
            ]
           ]
          },
          "colorway": [
           "#636efa",
           "#EF553B",
           "#00cc96",
           "#ab63fa",
           "#FFA15A",
           "#19d3f3",
           "#FF6692",
           "#B6E880",
           "#FF97FF",
           "#FECB52"
          ],
          "font": {
           "color": "#2a3f5f"
          },
          "geo": {
           "bgcolor": "white",
           "lakecolor": "white",
           "landcolor": "#E5ECF6",
           "showlakes": true,
           "showland": true,
           "subunitcolor": "white"
          },
          "hoverlabel": {
           "align": "left"
          },
          "hovermode": "closest",
          "mapbox": {
           "style": "light"
          },
          "paper_bgcolor": "white",
          "plot_bgcolor": "#E5ECF6",
          "polar": {
           "angularaxis": {
            "gridcolor": "white",
            "linecolor": "white",
            "ticks": ""
           },
           "bgcolor": "#E5ECF6",
           "radialaxis": {
            "gridcolor": "white",
            "linecolor": "white",
            "ticks": ""
           }
          },
          "scene": {
           "xaxis": {
            "backgroundcolor": "#E5ECF6",
            "gridcolor": "white",
            "gridwidth": 2,
            "linecolor": "white",
            "showbackground": true,
            "ticks": "",
            "zerolinecolor": "white"
           },
           "yaxis": {
            "backgroundcolor": "#E5ECF6",
            "gridcolor": "white",
            "gridwidth": 2,
            "linecolor": "white",
            "showbackground": true,
            "ticks": "",
            "zerolinecolor": "white"
           },
           "zaxis": {
            "backgroundcolor": "#E5ECF6",
            "gridcolor": "white",
            "gridwidth": 2,
            "linecolor": "white",
            "showbackground": true,
            "ticks": "",
            "zerolinecolor": "white"
           }
          },
          "shapedefaults": {
           "line": {
            "color": "#2a3f5f"
           }
          },
          "ternary": {
           "aaxis": {
            "gridcolor": "white",
            "linecolor": "white",
            "ticks": ""
           },
           "baxis": {
            "gridcolor": "white",
            "linecolor": "white",
            "ticks": ""
           },
           "bgcolor": "#E5ECF6",
           "caxis": {
            "gridcolor": "white",
            "linecolor": "white",
            "ticks": ""
           }
          },
          "title": {
           "x": 0.05
          },
          "xaxis": {
           "automargin": true,
           "gridcolor": "white",
           "linecolor": "white",
           "ticks": "",
           "title": {
            "standoff": 15
           },
           "zerolinecolor": "white",
           "zerolinewidth": 2
          },
          "yaxis": {
           "automargin": true,
           "gridcolor": "white",
           "linecolor": "white",
           "ticks": "",
           "title": {
            "standoff": 15
           },
           "zerolinecolor": "white",
           "zerolinewidth": 2
          }
         }
        },
        "title": {
         "text": "addr 기준 막대 그래프"
        },
        "xaxis": {
         "categoryarray": [
          "경기 용인시",
          "경기 수원시",
          "경기 화성시",
          "경기 고양시",
          "서울 강남구",
          "서울 송파구",
          "경기 성남시",
          "서울 노원구",
          "서울 강동구",
          "경기 남양주시",
          "서울 강서구",
          "서울 관악구",
          "서울 서초구",
          "강원특별자치도 원주시",
          "서울 광진구",
          "서울 영등포구",
          "경기 안양시",
          "경기 평택시",
          "서울 동작구",
          "경기 부천시",
          "서울 양천구",
          "서울 서대문구",
          "경기 의정부시",
          "경기 김포시",
          "서울 마포구",
          "서울 동대문구",
          "서울 은평구",
          "인천 서구",
          "서울 중구",
          "경기 광명시",
          "서울 중랑구",
          "인천 연수구",
          "서울 성북구",
          "서울 구로구",
          "경기 시흥시",
          "충북 청주시",
          "서울 성동구",
          "경기 하남시",
          "강원특별자치도 춘천시",
          "경기 군포시",
          "서울 금천구",
          "경기 파주시",
          "경기 안산시",
          "서울 용산구",
          "충남 천안시",
          "서울 도봉구",
          "경기 광주시",
          "경기 양주시",
          "충남 아산시",
          "인천 남동구",
          "인천 부평구",
          "경기 구리시",
          "경기 안성시",
          "경기 이천시",
          "경기 오산시",
          "제주 제주시",
          "충북 충주시",
          "충남 서산시",
          "경남 창원시",
          "서울 종로구",
          "경기 의왕시",
          "경기 과천시",
          "인천 계양구",
          "충남 당진시",
          "강원특별자치도 강릉시",
          "대전 유성구",
          "대전 서구",
          "전북특별자치도 전주시",
          "충남 예산군",
          "경북 구미시",
          "경북 포항시",
          "경기 동두천시",
          "서울 강북구",
          "강원특별자치도 삼척시",
          "인천 중구",
          "강원특별자치도 철원군",
          "전북특별자치도 익산시",
          "경기 여주시",
          "대전 대덕구",
          "인천 미추홀구",
          "충남 홍성군",
          "경북 김천시",
          "경기 포천시",
          "대전 동구",
          "경북 영주시",
          "경기 가평군",
          "강원특별자치도 속초시",
          "강원특별자치도 동해시",
          "경북 울진군",
          "전남 여수시",
          "충북 제천시",
          "전북특별자치도 군산시",
          "충남 태안군",
          "충남 서천군",
          "충남 보령시",
          "경북 안동시",
          "강원특별자치도 횡성군",
          "강원특별자치도 평창군",
          "경남 진주시",
          "대구 수성구",
          "충북 진천군",
          "강원특별자치도 영월군",
          "경남 김해시",
          "강원특별자치도 화천군",
          "세종 국세청로",
          "강원특별자치도 고성군",
          "경기 양평군",
          "경기 연천군",
          "충북 음성군",
          "부산 남구",
          "경북 경주시",
          "제주 서귀포시",
          "충북 단양군",
          "충남 청양군",
          "울산 중구",
          "광주 광산구",
          "대구 동구",
          "대구 서구",
          "대전 중구",
          "충남 논산시",
          "전남 광양시",
          "인천 동구",
          "10 마곡중앙",
          "전남 목포시",
          "전남 순천시",
          "전북특별자치도 정읍시",
          "충남 계룡시",
          "충북 보은군",
          "충북 영동군",
          "홍익로 6길",
          "인천 강화군",
          "부산 금정구",
          "울산 북구",
          "대구 북구",
          "대구 달서구",
          "대구 남구",
          "광주 북구",
          "광주 남구",
          "경북 청송군",
          "경북 예천군",
          "경북 영덕군",
          "경북 봉화군",
          "경북 문경시",
          "경남 통영시",
          "경남 사천시",
          "경남 거제시",
          "강원특별자치도 홍천군",
          "강원특별자치도 정선군",
          "강원특별자치도 인제군",
          "강원특별자치도 양양군",
          "강원특별자치도 양구군",
          "대구 달성군",
          "마포 글래드",
          "울산 동구",
          "명동 8나길",
          "울산 남구",
          "수원시 팔달구",
          "세종 아름동",
          "세종 보듬4로",
          "세종 마음안로",
          "세종 마음안1로",
          "세종 마음로",
          "세종 다정중앙로",
          "세종 남세종로",
          "세종 고운마을3길",
          "서울시 둔촌동",
          "서울시 동작구",
          "서대문구 신촉역로17",
          "부산 영도구",
          "부산 사상구",
          "부산 강서구",
          "명동 남산호텔",
          "회기동"
         ],
         "categoryorder": "array",
         "tickangle": 45,
         "title": {
          "text": "addr"
         },
         "type": "category"
        },
        "yaxis": {
         "title": {
          "text": "수술 count"
         }
        }
       }
      }
     },
     "metadata": {},
     "output_type": "display_data"
    },
    {
     "data": {
      "application/vnd.plotly.v1+json": {
       "config": {
        "plotlyServerURL": "https://plot.ly"
       },
       "data": [
        {
         "name": "막대 그래프",
         "text": {
          "bdata": "AAAAAAAwdkAAAAAAACBrQAAAAAAAYGhAAAAAAABAY0AAAAAAAOBiQAAAAAAAgGJAAAAAAABAYkAAAAAAAEBhQAAAAAAAoGBAAAAAAADAX0AAAAAAAMBbQAAAAAAAgFlAAAAAAAAAV0AAAAAAAABWQAAAAAAAQFFAAAAAAACATEAAAAAAAABGQAAAAAAAAENAAAAAAAAAP0AAAAAAAAA2QAAAAAAAADFAAAAAAAAAKkAAAAAAAAAgQAAAAAAAABhAAAAAAAAAGEAAAAAAAAAIQAAAAAAAAABAAAAAAAAA8D8AAAAAAADwPwAAAAAAAPA/AAAAAAAA8D8=",
          "dtype": "f8"
         },
         "textposition": "outside",
         "type": "bar",
         "x": {
          "bdata": "ExQWFRkXGBwdGxofHiEgIiMlJCYnKCspKhJ6LC0ueQ==",
          "dtype": "i1"
         },
         "y": {
          "bdata": "YwHZAMMAmgCXAJQAkgCKAIUAfwBvAGYAXABYAEUAOQAsACYAHwAWABEADQAIAAYABgADAAIAAQABAAEAAQA=",
          "dtype": "i2"
         }
        }
       ],
       "layout": {
        "template": {
         "data": {
          "bar": [
           {
            "error_x": {
             "color": "#2a3f5f"
            },
            "error_y": {
             "color": "#2a3f5f"
            },
            "marker": {
             "line": {
              "color": "#E5ECF6",
              "width": 0.5
             },
             "pattern": {
              "fillmode": "overlay",
              "size": 10,
              "solidity": 0.2
             }
            },
            "type": "bar"
           }
          ],
          "barpolar": [
           {
            "marker": {
             "line": {
              "color": "#E5ECF6",
              "width": 0.5
             },
             "pattern": {
              "fillmode": "overlay",
              "size": 10,
              "solidity": 0.2
             }
            },
            "type": "barpolar"
           }
          ],
          "carpet": [
           {
            "aaxis": {
             "endlinecolor": "#2a3f5f",
             "gridcolor": "white",
             "linecolor": "white",
             "minorgridcolor": "white",
             "startlinecolor": "#2a3f5f"
            },
            "baxis": {
             "endlinecolor": "#2a3f5f",
             "gridcolor": "white",
             "linecolor": "white",
             "minorgridcolor": "white",
             "startlinecolor": "#2a3f5f"
            },
            "type": "carpet"
           }
          ],
          "choropleth": [
           {
            "colorbar": {
             "outlinewidth": 0,
             "ticks": ""
            },
            "type": "choropleth"
           }
          ],
          "contour": [
           {
            "colorbar": {
             "outlinewidth": 0,
             "ticks": ""
            },
            "colorscale": [
             [
              0,
              "#0d0887"
             ],
             [
              0.1111111111111111,
              "#46039f"
             ],
             [
              0.2222222222222222,
              "#7201a8"
             ],
             [
              0.3333333333333333,
              "#9c179e"
             ],
             [
              0.4444444444444444,
              "#bd3786"
             ],
             [
              0.5555555555555556,
              "#d8576b"
             ],
             [
              0.6666666666666666,
              "#ed7953"
             ],
             [
              0.7777777777777778,
              "#fb9f3a"
             ],
             [
              0.8888888888888888,
              "#fdca26"
             ],
             [
              1,
              "#f0f921"
             ]
            ],
            "type": "contour"
           }
          ],
          "contourcarpet": [
           {
            "colorbar": {
             "outlinewidth": 0,
             "ticks": ""
            },
            "type": "contourcarpet"
           }
          ],
          "heatmap": [
           {
            "colorbar": {
             "outlinewidth": 0,
             "ticks": ""
            },
            "colorscale": [
             [
              0,
              "#0d0887"
             ],
             [
              0.1111111111111111,
              "#46039f"
             ],
             [
              0.2222222222222222,
              "#7201a8"
             ],
             [
              0.3333333333333333,
              "#9c179e"
             ],
             [
              0.4444444444444444,
              "#bd3786"
             ],
             [
              0.5555555555555556,
              "#d8576b"
             ],
             [
              0.6666666666666666,
              "#ed7953"
             ],
             [
              0.7777777777777778,
              "#fb9f3a"
             ],
             [
              0.8888888888888888,
              "#fdca26"
             ],
             [
              1,
              "#f0f921"
             ]
            ],
            "type": "heatmap"
           }
          ],
          "histogram": [
           {
            "marker": {
             "pattern": {
              "fillmode": "overlay",
              "size": 10,
              "solidity": 0.2
             }
            },
            "type": "histogram"
           }
          ],
          "histogram2d": [
           {
            "colorbar": {
             "outlinewidth": 0,
             "ticks": ""
            },
            "colorscale": [
             [
              0,
              "#0d0887"
             ],
             [
              0.1111111111111111,
              "#46039f"
             ],
             [
              0.2222222222222222,
              "#7201a8"
             ],
             [
              0.3333333333333333,
              "#9c179e"
             ],
             [
              0.4444444444444444,
              "#bd3786"
             ],
             [
              0.5555555555555556,
              "#d8576b"
             ],
             [
              0.6666666666666666,
              "#ed7953"
             ],
             [
              0.7777777777777778,
              "#fb9f3a"
             ],
             [
              0.8888888888888888,
              "#fdca26"
             ],
             [
              1,
              "#f0f921"
             ]
            ],
            "type": "histogram2d"
           }
          ],
          "histogram2dcontour": [
           {
            "colorbar": {
             "outlinewidth": 0,
             "ticks": ""
            },
            "colorscale": [
             [
              0,
              "#0d0887"
             ],
             [
              0.1111111111111111,
              "#46039f"
             ],
             [
              0.2222222222222222,
              "#7201a8"
             ],
             [
              0.3333333333333333,
              "#9c179e"
             ],
             [
              0.4444444444444444,
              "#bd3786"
             ],
             [
              0.5555555555555556,
              "#d8576b"
             ],
             [
              0.6666666666666666,
              "#ed7953"
             ],
             [
              0.7777777777777778,
              "#fb9f3a"
             ],
             [
              0.8888888888888888,
              "#fdca26"
             ],
             [
              1,
              "#f0f921"
             ]
            ],
            "type": "histogram2dcontour"
           }
          ],
          "mesh3d": [
           {
            "colorbar": {
             "outlinewidth": 0,
             "ticks": ""
            },
            "type": "mesh3d"
           }
          ],
          "parcoords": [
           {
            "line": {
             "colorbar": {
              "outlinewidth": 0,
              "ticks": ""
             }
            },
            "type": "parcoords"
           }
          ],
          "pie": [
           {
            "automargin": true,
            "type": "pie"
           }
          ],
          "scatter": [
           {
            "fillpattern": {
             "fillmode": "overlay",
             "size": 10,
             "solidity": 0.2
            },
            "type": "scatter"
           }
          ],
          "scatter3d": [
           {
            "line": {
             "colorbar": {
              "outlinewidth": 0,
              "ticks": ""
             }
            },
            "marker": {
             "colorbar": {
              "outlinewidth": 0,
              "ticks": ""
             }
            },
            "type": "scatter3d"
           }
          ],
          "scattercarpet": [
           {
            "marker": {
             "colorbar": {
              "outlinewidth": 0,
              "ticks": ""
             }
            },
            "type": "scattercarpet"
           }
          ],
          "scattergeo": [
           {
            "marker": {
             "colorbar": {
              "outlinewidth": 0,
              "ticks": ""
             }
            },
            "type": "scattergeo"
           }
          ],
          "scattergl": [
           {
            "marker": {
             "colorbar": {
              "outlinewidth": 0,
              "ticks": ""
             }
            },
            "type": "scattergl"
           }
          ],
          "scattermap": [
           {
            "marker": {
             "colorbar": {
              "outlinewidth": 0,
              "ticks": ""
             }
            },
            "type": "scattermap"
           }
          ],
          "scattermapbox": [
           {
            "marker": {
             "colorbar": {
              "outlinewidth": 0,
              "ticks": ""
             }
            },
            "type": "scattermapbox"
           }
          ],
          "scatterpolar": [
           {
            "marker": {
             "colorbar": {
              "outlinewidth": 0,
              "ticks": ""
             }
            },
            "type": "scatterpolar"
           }
          ],
          "scatterpolargl": [
           {
            "marker": {
             "colorbar": {
              "outlinewidth": 0,
              "ticks": ""
             }
            },
            "type": "scatterpolargl"
           }
          ],
          "scatterternary": [
           {
            "marker": {
             "colorbar": {
              "outlinewidth": 0,
              "ticks": ""
             }
            },
            "type": "scatterternary"
           }
          ],
          "surface": [
           {
            "colorbar": {
             "outlinewidth": 0,
             "ticks": ""
            },
            "colorscale": [
             [
              0,
              "#0d0887"
             ],
             [
              0.1111111111111111,
              "#46039f"
             ],
             [
              0.2222222222222222,
              "#7201a8"
             ],
             [
              0.3333333333333333,
              "#9c179e"
             ],
             [
              0.4444444444444444,
              "#bd3786"
             ],
             [
              0.5555555555555556,
              "#d8576b"
             ],
             [
              0.6666666666666666,
              "#ed7953"
             ],
             [
              0.7777777777777778,
              "#fb9f3a"
             ],
             [
              0.8888888888888888,
              "#fdca26"
             ],
             [
              1,
              "#f0f921"
             ]
            ],
            "type": "surface"
           }
          ],
          "table": [
           {
            "cells": {
             "fill": {
              "color": "#EBF0F8"
             },
             "line": {
              "color": "white"
             }
            },
            "header": {
             "fill": {
              "color": "#C8D4E3"
             },
             "line": {
              "color": "white"
             }
            },
            "type": "table"
           }
          ]
         },
         "layout": {
          "annotationdefaults": {
           "arrowcolor": "#2a3f5f",
           "arrowhead": 0,
           "arrowwidth": 1
          },
          "autotypenumbers": "strict",
          "coloraxis": {
           "colorbar": {
            "outlinewidth": 0,
            "ticks": ""
           }
          },
          "colorscale": {
           "diverging": [
            [
             0,
             "#8e0152"
            ],
            [
             0.1,
             "#c51b7d"
            ],
            [
             0.2,
             "#de77ae"
            ],
            [
             0.3,
             "#f1b6da"
            ],
            [
             0.4,
             "#fde0ef"
            ],
            [
             0.5,
             "#f7f7f7"
            ],
            [
             0.6,
             "#e6f5d0"
            ],
            [
             0.7,
             "#b8e186"
            ],
            [
             0.8,
             "#7fbc41"
            ],
            [
             0.9,
             "#4d9221"
            ],
            [
             1,
             "#276419"
            ]
           ],
           "sequential": [
            [
             0,
             "#0d0887"
            ],
            [
             0.1111111111111111,
             "#46039f"
            ],
            [
             0.2222222222222222,
             "#7201a8"
            ],
            [
             0.3333333333333333,
             "#9c179e"
            ],
            [
             0.4444444444444444,
             "#bd3786"
            ],
            [
             0.5555555555555556,
             "#d8576b"
            ],
            [
             0.6666666666666666,
             "#ed7953"
            ],
            [
             0.7777777777777778,
             "#fb9f3a"
            ],
            [
             0.8888888888888888,
             "#fdca26"
            ],
            [
             1,
             "#f0f921"
            ]
           ],
           "sequentialminus": [
            [
             0,
             "#0d0887"
            ],
            [
             0.1111111111111111,
             "#46039f"
            ],
            [
             0.2222222222222222,
             "#7201a8"
            ],
            [
             0.3333333333333333,
             "#9c179e"
            ],
            [
             0.4444444444444444,
             "#bd3786"
            ],
            [
             0.5555555555555556,
             "#d8576b"
            ],
            [
             0.6666666666666666,
             "#ed7953"
            ],
            [
             0.7777777777777778,
             "#fb9f3a"
            ],
            [
             0.8888888888888888,
             "#fdca26"
            ],
            [
             1,
             "#f0f921"
            ]
           ]
          },
          "colorway": [
           "#636efa",
           "#EF553B",
           "#00cc96",
           "#ab63fa",
           "#FFA15A",
           "#19d3f3",
           "#FF6692",
           "#B6E880",
           "#FF97FF",
           "#FECB52"
          ],
          "font": {
           "color": "#2a3f5f"
          },
          "geo": {
           "bgcolor": "white",
           "lakecolor": "white",
           "landcolor": "#E5ECF6",
           "showlakes": true,
           "showland": true,
           "subunitcolor": "white"
          },
          "hoverlabel": {
           "align": "left"
          },
          "hovermode": "closest",
          "mapbox": {
           "style": "light"
          },
          "paper_bgcolor": "white",
          "plot_bgcolor": "#E5ECF6",
          "polar": {
           "angularaxis": {
            "gridcolor": "white",
            "linecolor": "white",
            "ticks": ""
           },
           "bgcolor": "#E5ECF6",
           "radialaxis": {
            "gridcolor": "white",
            "linecolor": "white",
            "ticks": ""
           }
          },
          "scene": {
           "xaxis": {
            "backgroundcolor": "#E5ECF6",
            "gridcolor": "white",
            "gridwidth": 2,
            "linecolor": "white",
            "showbackground": true,
            "ticks": "",
            "zerolinecolor": "white"
           },
           "yaxis": {
            "backgroundcolor": "#E5ECF6",
            "gridcolor": "white",
            "gridwidth": 2,
            "linecolor": "white",
            "showbackground": true,
            "ticks": "",
            "zerolinecolor": "white"
           },
           "zaxis": {
            "backgroundcolor": "#E5ECF6",
            "gridcolor": "white",
            "gridwidth": 2,
            "linecolor": "white",
            "showbackground": true,
            "ticks": "",
            "zerolinecolor": "white"
           }
          },
          "shapedefaults": {
           "line": {
            "color": "#2a3f5f"
           }
          },
          "ternary": {
           "aaxis": {
            "gridcolor": "white",
            "linecolor": "white",
            "ticks": ""
           },
           "baxis": {
            "gridcolor": "white",
            "linecolor": "white",
            "ticks": ""
           },
           "bgcolor": "#E5ECF6",
           "caxis": {
            "gridcolor": "white",
            "linecolor": "white",
            "ticks": ""
           }
          },
          "title": {
           "x": 0.05
          },
          "xaxis": {
           "automargin": true,
           "gridcolor": "white",
           "linecolor": "white",
           "ticks": "",
           "title": {
            "standoff": 15
           },
           "zerolinecolor": "white",
           "zerolinewidth": 2
          },
          "yaxis": {
           "automargin": true,
           "gridcolor": "white",
           "linecolor": "white",
           "ticks": "",
           "title": {
            "standoff": 15
           },
           "zerolinecolor": "white",
           "zerolinewidth": 2
          }
         }
        },
        "title": {
         "text": "age 기준 막대 그래프"
        },
        "xaxis": {
         "categoryarray": [
          19,
          20,
          22,
          21,
          25,
          23,
          24,
          28,
          29,
          27,
          26,
          31,
          30,
          33,
          32,
          34,
          35,
          37,
          36,
          38,
          39,
          40,
          43,
          41,
          42,
          18,
          122,
          44,
          45,
          46,
          121
         ],
         "categoryorder": "array",
         "tickangle": 45,
         "title": {
          "text": "age"
         },
         "type": "category"
        },
        "yaxis": {
         "title": {
          "text": "수술 count"
         }
        }
       }
      }
     },
     "metadata": {},
     "output_type": "display_data"
    }
   ],
   "source": [
    "x_list = ['operation','op_year_week','motive', 'job', 'addr', 'age']\n",
    "instance.bar_graph(df,x_list,agg=\"count\")"
   ]
  },
  {
   "cell_type": "code",
   "execution_count": 6,
   "metadata": {},
   "outputs": [
    {
     "name": "stderr",
     "output_type": "stream",
     "text": [
      "/Users/jangsunho/Desktop/test/plotly_graph/graph.py:122: FutureWarning:\n",
      "\n",
      "Setting an item of incompatible dtype is deprecated and will raise an error in a future version of pandas. Value '['41.3%' '38.4%' '38.9%' '38.9%' '39.1%' '39.1%' '42.3%' '43.7%' '37.2%'\n",
      " '33.3%' '33.3%']' has dtype incompatible with float64, please explicitly cast to a compatible dtype first.\n",
      "\n"
     ]
    },
    {
     "data": {
      "application/vnd.plotly.v1+json": {
       "config": {
        "plotlyServerURL": "https://plot.ly"
       },
       "data": [
        {
         "name": "search_ad",
         "text": [
          "41.3%",
          "38.4%",
          null,
          "38.9%",
          "39.1%",
          "42.3%",
          "43.7%",
          null,
          "33.3%"
         ],
         "textposition": "inside",
         "type": "bar",
         "x": [
          "라섹",
          "라식",
          "렌즈삽입술",
          "스마일",
          "스마일 프로",
          "커스텀 라섹",
          "커스텀 라식",
          "토릭 렌즈삽입술",
          "퍼스널 라식"
         ],
         "y": {
          "bdata": "gAAmABIADAJ/ACEALQA5AAIA",
          "dtype": "i2"
         }
        },
        {
         "name": "referral_customers",
         "text": [
          null,
          null,
          "38.9%",
          null,
          "39.1%",
          null,
          null,
          "37.2%",
          null
         ],
         "textposition": "inside",
         "type": "bar",
         "x": [
          "라섹",
          "라식",
          "렌즈삽입술",
          "스마일",
          "스마일 프로",
          "커스텀 라섹",
          "커스텀 라식",
          "토릭 렌즈삽입술",
          "퍼스널 라식"
         ],
         "y": {
          "bdata": "ZAAhABUA7wF/ABoAJgA6AAEA",
          "dtype": "i2"
         }
        },
        {
         "name": "b2b_corporate",
         "text": [
          null,
          null,
          null,
          null,
          null,
          null,
          null,
          null,
          null
         ],
         "textposition": "inside",
         "type": "bar",
         "x": [
          "라섹",
          "라식",
          "렌즈삽입술",
          "스마일",
          "스마일 프로",
          "커스텀 라섹",
          "커스텀 라식",
          "토릭 렌즈삽입술",
          "퍼스널 라식"
         ],
         "y": {
          "bdata": "IwAKAAQAhwAWAAoADQAKAAEA",
          "dtype": "i2"
         }
        },
        {
         "name": "referral_staff",
         "text": [
          null,
          null,
          null,
          null,
          null,
          null,
          null,
          null,
          "33.3%"
         ],
         "textposition": "inside",
         "type": "bar",
         "x": [
          "라섹",
          "라식",
          "렌즈삽입술",
          "스마일",
          "스마일 프로",
          "커스텀 라섹",
          "커스텀 라식",
          "토릭 렌즈삽입술",
          "퍼스널 라식"
         ],
         "y": {
          "bdata": "HhAHdyYGBBcC",
          "dtype": "i1"
         }
        },
        {
         "name": "motive_b2b_military",
         "text": [
          null,
          null,
          null,
          null,
          null,
          null,
          null,
          null
         ],
         "textposition": "inside",
         "type": "bar",
         "x": [
          "라섹",
          "라식",
          "렌즈삽입술",
          "스마일",
          "스마일 프로",
          "커스텀 라섹",
          "커스텀 라식",
          "토릭 렌즈삽입술"
         ],
         "y": {
          "bdata": "DgEDQgoDAwY=",
          "dtype": "i1"
         }
        },
        {
         "name": "기타",
         "text": [
          null,
          null,
          null,
          null,
          null
         ],
         "textposition": "inside",
         "type": "bar",
         "x": [
          "라섹",
          "라식",
          "스마일",
          "스마일 프로",
          "토릭 렌즈삽입술"
         ],
         "y": {
          "bdata": "AgECAQE=",
          "dtype": "i1"
         }
        },
        {
         "name": "promotion",
         "text": [
          null,
          null,
          null,
          null
         ],
         "textposition": "inside",
         "type": "bar",
         "x": [
          "라섹",
          "렌즈삽입술",
          "스마일",
          "토릭 렌즈삽입술"
         ],
         "y": {
          "bdata": "AQEFAQ==",
          "dtype": "i1"
         }
        }
       ],
       "layout": {
        "barmode": "stack",
        "legend": {
         "title": {
          "text": "motive"
         }
        },
        "template": {
         "data": {
          "bar": [
           {
            "error_x": {
             "color": "#2a3f5f"
            },
            "error_y": {
             "color": "#2a3f5f"
            },
            "marker": {
             "line": {
              "color": "#E5ECF6",
              "width": 0.5
             },
             "pattern": {
              "fillmode": "overlay",
              "size": 10,
              "solidity": 0.2
             }
            },
            "type": "bar"
           }
          ],
          "barpolar": [
           {
            "marker": {
             "line": {
              "color": "#E5ECF6",
              "width": 0.5
             },
             "pattern": {
              "fillmode": "overlay",
              "size": 10,
              "solidity": 0.2
             }
            },
            "type": "barpolar"
           }
          ],
          "carpet": [
           {
            "aaxis": {
             "endlinecolor": "#2a3f5f",
             "gridcolor": "white",
             "linecolor": "white",
             "minorgridcolor": "white",
             "startlinecolor": "#2a3f5f"
            },
            "baxis": {
             "endlinecolor": "#2a3f5f",
             "gridcolor": "white",
             "linecolor": "white",
             "minorgridcolor": "white",
             "startlinecolor": "#2a3f5f"
            },
            "type": "carpet"
           }
          ],
          "choropleth": [
           {
            "colorbar": {
             "outlinewidth": 0,
             "ticks": ""
            },
            "type": "choropleth"
           }
          ],
          "contour": [
           {
            "colorbar": {
             "outlinewidth": 0,
             "ticks": ""
            },
            "colorscale": [
             [
              0,
              "#0d0887"
             ],
             [
              0.1111111111111111,
              "#46039f"
             ],
             [
              0.2222222222222222,
              "#7201a8"
             ],
             [
              0.3333333333333333,
              "#9c179e"
             ],
             [
              0.4444444444444444,
              "#bd3786"
             ],
             [
              0.5555555555555556,
              "#d8576b"
             ],
             [
              0.6666666666666666,
              "#ed7953"
             ],
             [
              0.7777777777777778,
              "#fb9f3a"
             ],
             [
              0.8888888888888888,
              "#fdca26"
             ],
             [
              1,
              "#f0f921"
             ]
            ],
            "type": "contour"
           }
          ],
          "contourcarpet": [
           {
            "colorbar": {
             "outlinewidth": 0,
             "ticks": ""
            },
            "type": "contourcarpet"
           }
          ],
          "heatmap": [
           {
            "colorbar": {
             "outlinewidth": 0,
             "ticks": ""
            },
            "colorscale": [
             [
              0,
              "#0d0887"
             ],
             [
              0.1111111111111111,
              "#46039f"
             ],
             [
              0.2222222222222222,
              "#7201a8"
             ],
             [
              0.3333333333333333,
              "#9c179e"
             ],
             [
              0.4444444444444444,
              "#bd3786"
             ],
             [
              0.5555555555555556,
              "#d8576b"
             ],
             [
              0.6666666666666666,
              "#ed7953"
             ],
             [
              0.7777777777777778,
              "#fb9f3a"
             ],
             [
              0.8888888888888888,
              "#fdca26"
             ],
             [
              1,
              "#f0f921"
             ]
            ],
            "type": "heatmap"
           }
          ],
          "histogram": [
           {
            "marker": {
             "pattern": {
              "fillmode": "overlay",
              "size": 10,
              "solidity": 0.2
             }
            },
            "type": "histogram"
           }
          ],
          "histogram2d": [
           {
            "colorbar": {
             "outlinewidth": 0,
             "ticks": ""
            },
            "colorscale": [
             [
              0,
              "#0d0887"
             ],
             [
              0.1111111111111111,
              "#46039f"
             ],
             [
              0.2222222222222222,
              "#7201a8"
             ],
             [
              0.3333333333333333,
              "#9c179e"
             ],
             [
              0.4444444444444444,
              "#bd3786"
             ],
             [
              0.5555555555555556,
              "#d8576b"
             ],
             [
              0.6666666666666666,
              "#ed7953"
             ],
             [
              0.7777777777777778,
              "#fb9f3a"
             ],
             [
              0.8888888888888888,
              "#fdca26"
             ],
             [
              1,
              "#f0f921"
             ]
            ],
            "type": "histogram2d"
           }
          ],
          "histogram2dcontour": [
           {
            "colorbar": {
             "outlinewidth": 0,
             "ticks": ""
            },
            "colorscale": [
             [
              0,
              "#0d0887"
             ],
             [
              0.1111111111111111,
              "#46039f"
             ],
             [
              0.2222222222222222,
              "#7201a8"
             ],
             [
              0.3333333333333333,
              "#9c179e"
             ],
             [
              0.4444444444444444,
              "#bd3786"
             ],
             [
              0.5555555555555556,
              "#d8576b"
             ],
             [
              0.6666666666666666,
              "#ed7953"
             ],
             [
              0.7777777777777778,
              "#fb9f3a"
             ],
             [
              0.8888888888888888,
              "#fdca26"
             ],
             [
              1,
              "#f0f921"
             ]
            ],
            "type": "histogram2dcontour"
           }
          ],
          "mesh3d": [
           {
            "colorbar": {
             "outlinewidth": 0,
             "ticks": ""
            },
            "type": "mesh3d"
           }
          ],
          "parcoords": [
           {
            "line": {
             "colorbar": {
              "outlinewidth": 0,
              "ticks": ""
             }
            },
            "type": "parcoords"
           }
          ],
          "pie": [
           {
            "automargin": true,
            "type": "pie"
           }
          ],
          "scatter": [
           {
            "fillpattern": {
             "fillmode": "overlay",
             "size": 10,
             "solidity": 0.2
            },
            "type": "scatter"
           }
          ],
          "scatter3d": [
           {
            "line": {
             "colorbar": {
              "outlinewidth": 0,
              "ticks": ""
             }
            },
            "marker": {
             "colorbar": {
              "outlinewidth": 0,
              "ticks": ""
             }
            },
            "type": "scatter3d"
           }
          ],
          "scattercarpet": [
           {
            "marker": {
             "colorbar": {
              "outlinewidth": 0,
              "ticks": ""
             }
            },
            "type": "scattercarpet"
           }
          ],
          "scattergeo": [
           {
            "marker": {
             "colorbar": {
              "outlinewidth": 0,
              "ticks": ""
             }
            },
            "type": "scattergeo"
           }
          ],
          "scattergl": [
           {
            "marker": {
             "colorbar": {
              "outlinewidth": 0,
              "ticks": ""
             }
            },
            "type": "scattergl"
           }
          ],
          "scattermap": [
           {
            "marker": {
             "colorbar": {
              "outlinewidth": 0,
              "ticks": ""
             }
            },
            "type": "scattermap"
           }
          ],
          "scattermapbox": [
           {
            "marker": {
             "colorbar": {
              "outlinewidth": 0,
              "ticks": ""
             }
            },
            "type": "scattermapbox"
           }
          ],
          "scatterpolar": [
           {
            "marker": {
             "colorbar": {
              "outlinewidth": 0,
              "ticks": ""
             }
            },
            "type": "scatterpolar"
           }
          ],
          "scatterpolargl": [
           {
            "marker": {
             "colorbar": {
              "outlinewidth": 0,
              "ticks": ""
             }
            },
            "type": "scatterpolargl"
           }
          ],
          "scatterternary": [
           {
            "marker": {
             "colorbar": {
              "outlinewidth": 0,
              "ticks": ""
             }
            },
            "type": "scatterternary"
           }
          ],
          "surface": [
           {
            "colorbar": {
             "outlinewidth": 0,
             "ticks": ""
            },
            "colorscale": [
             [
              0,
              "#0d0887"
             ],
             [
              0.1111111111111111,
              "#46039f"
             ],
             [
              0.2222222222222222,
              "#7201a8"
             ],
             [
              0.3333333333333333,
              "#9c179e"
             ],
             [
              0.4444444444444444,
              "#bd3786"
             ],
             [
              0.5555555555555556,
              "#d8576b"
             ],
             [
              0.6666666666666666,
              "#ed7953"
             ],
             [
              0.7777777777777778,
              "#fb9f3a"
             ],
             [
              0.8888888888888888,
              "#fdca26"
             ],
             [
              1,
              "#f0f921"
             ]
            ],
            "type": "surface"
           }
          ],
          "table": [
           {
            "cells": {
             "fill": {
              "color": "#EBF0F8"
             },
             "line": {
              "color": "white"
             }
            },
            "header": {
             "fill": {
              "color": "#C8D4E3"
             },
             "line": {
              "color": "white"
             }
            },
            "type": "table"
           }
          ]
         },
         "layout": {
          "annotationdefaults": {
           "arrowcolor": "#2a3f5f",
           "arrowhead": 0,
           "arrowwidth": 1
          },
          "autotypenumbers": "strict",
          "coloraxis": {
           "colorbar": {
            "outlinewidth": 0,
            "ticks": ""
           }
          },
          "colorscale": {
           "diverging": [
            [
             0,
             "#8e0152"
            ],
            [
             0.1,
             "#c51b7d"
            ],
            [
             0.2,
             "#de77ae"
            ],
            [
             0.3,
             "#f1b6da"
            ],
            [
             0.4,
             "#fde0ef"
            ],
            [
             0.5,
             "#f7f7f7"
            ],
            [
             0.6,
             "#e6f5d0"
            ],
            [
             0.7,
             "#b8e186"
            ],
            [
             0.8,
             "#7fbc41"
            ],
            [
             0.9,
             "#4d9221"
            ],
            [
             1,
             "#276419"
            ]
           ],
           "sequential": [
            [
             0,
             "#0d0887"
            ],
            [
             0.1111111111111111,
             "#46039f"
            ],
            [
             0.2222222222222222,
             "#7201a8"
            ],
            [
             0.3333333333333333,
             "#9c179e"
            ],
            [
             0.4444444444444444,
             "#bd3786"
            ],
            [
             0.5555555555555556,
             "#d8576b"
            ],
            [
             0.6666666666666666,
             "#ed7953"
            ],
            [
             0.7777777777777778,
             "#fb9f3a"
            ],
            [
             0.8888888888888888,
             "#fdca26"
            ],
            [
             1,
             "#f0f921"
            ]
           ],
           "sequentialminus": [
            [
             0,
             "#0d0887"
            ],
            [
             0.1111111111111111,
             "#46039f"
            ],
            [
             0.2222222222222222,
             "#7201a8"
            ],
            [
             0.3333333333333333,
             "#9c179e"
            ],
            [
             0.4444444444444444,
             "#bd3786"
            ],
            [
             0.5555555555555556,
             "#d8576b"
            ],
            [
             0.6666666666666666,
             "#ed7953"
            ],
            [
             0.7777777777777778,
             "#fb9f3a"
            ],
            [
             0.8888888888888888,
             "#fdca26"
            ],
            [
             1,
             "#f0f921"
            ]
           ]
          },
          "colorway": [
           "#636efa",
           "#EF553B",
           "#00cc96",
           "#ab63fa",
           "#FFA15A",
           "#19d3f3",
           "#FF6692",
           "#B6E880",
           "#FF97FF",
           "#FECB52"
          ],
          "font": {
           "color": "#2a3f5f"
          },
          "geo": {
           "bgcolor": "white",
           "lakecolor": "white",
           "landcolor": "#E5ECF6",
           "showlakes": true,
           "showland": true,
           "subunitcolor": "white"
          },
          "hoverlabel": {
           "align": "left"
          },
          "hovermode": "closest",
          "mapbox": {
           "style": "light"
          },
          "paper_bgcolor": "white",
          "plot_bgcolor": "#E5ECF6",
          "polar": {
           "angularaxis": {
            "gridcolor": "white",
            "linecolor": "white",
            "ticks": ""
           },
           "bgcolor": "#E5ECF6",
           "radialaxis": {
            "gridcolor": "white",
            "linecolor": "white",
            "ticks": ""
           }
          },
          "scene": {
           "xaxis": {
            "backgroundcolor": "#E5ECF6",
            "gridcolor": "white",
            "gridwidth": 2,
            "linecolor": "white",
            "showbackground": true,
            "ticks": "",
            "zerolinecolor": "white"
           },
           "yaxis": {
            "backgroundcolor": "#E5ECF6",
            "gridcolor": "white",
            "gridwidth": 2,
            "linecolor": "white",
            "showbackground": true,
            "ticks": "",
            "zerolinecolor": "white"
           },
           "zaxis": {
            "backgroundcolor": "#E5ECF6",
            "gridcolor": "white",
            "gridwidth": 2,
            "linecolor": "white",
            "showbackground": true,
            "ticks": "",
            "zerolinecolor": "white"
           }
          },
          "shapedefaults": {
           "line": {
            "color": "#2a3f5f"
           }
          },
          "ternary": {
           "aaxis": {
            "gridcolor": "white",
            "linecolor": "white",
            "ticks": ""
           },
           "baxis": {
            "gridcolor": "white",
            "linecolor": "white",
            "ticks": ""
           },
           "bgcolor": "#E5ECF6",
           "caxis": {
            "gridcolor": "white",
            "linecolor": "white",
            "ticks": ""
           }
          },
          "title": {
           "x": 0.05
          },
          "xaxis": {
           "automargin": true,
           "gridcolor": "white",
           "linecolor": "white",
           "ticks": "",
           "title": {
            "standoff": 15
           },
           "zerolinecolor": "white",
           "zerolinewidth": 2
          },
          "yaxis": {
           "automargin": true,
           "gridcolor": "white",
           "linecolor": "white",
           "ticks": "",
           "title": {
            "standoff": 15
           },
           "zerolinecolor": "white",
           "zerolinewidth": 2
          }
         }
        },
        "title": {
         "text": "operation 기준 motive별 고객 수 (Grouped Bar)"
        },
        "xaxis": {
         "tickangle": 45,
         "title": {
          "text": "operation"
         },
         "type": "category"
        },
        "yaxis": {
         "title": {
          "text": "고객 수 (count)"
         }
        }
       }
      }
     },
     "metadata": {},
     "output_type": "display_data"
    }
   ],
   "source": [
    "x_list = ['operation']\n",
    "\n",
    "instance.bar_graph(df, x_list, y=\"motive\", agg=\"count_mix\")"
   ]
  },
  {
   "cell_type": "code",
   "execution_count": 7,
   "metadata": {},
   "outputs": [
    {
     "name": "stderr",
     "output_type": "stream",
     "text": [
      "/Users/jangsunho/Desktop/test/plotly_graph/graph.py:122: FutureWarning:\n",
      "\n",
      "Setting an item of incompatible dtype is deprecated and will raise an error in a future version of pandas. Value '['51.9%' '41.4%' '40.7%' '45.0%' '52.9%' '59.0%' '45.6%' '53.2%' '83.3%']' has dtype incompatible with float64, please explicitly cast to a compatible dtype first.\n",
      "\n"
     ]
    },
    {
     "data": {
      "application/vnd.plotly.v1+json": {
       "config": {
        "plotlyServerURL": "https://plot.ly"
       },
       "data": [
        {
         "name": "학생",
         "text": [
          "51.9%",
          "41.4%",
          "40.7%",
          "45.0%",
          "52.9%",
          "59.0%",
          "45.6%",
          "53.2%",
          "83.3%"
         ],
         "textposition": "inside",
         "type": "bar",
         "x": [
          "라섹",
          "라식",
          "렌즈삽입술",
          "스마일",
          "스마일 프로",
          "커스텀 라섹",
          "커스텀 라식",
          "토릭 렌즈삽입술",
          "퍼스널 라식"
         ],
         "y": {
          "bdata": "oQApABYAXgKsAC4ALwBTAAUA",
          "dtype": "i2"
         }
        },
        {
         "name": "직장인",
         "text": [
          null,
          null,
          null,
          null,
          null,
          null,
          null,
          null,
          null
         ],
         "textposition": "inside",
         "type": "bar",
         "x": [
          "라섹",
          "라식",
          "렌즈삽입술",
          "스마일",
          "스마일 프로",
          "커스텀 라섹",
          "커스텀 라식",
          "토릭 렌즈삽입술",
          "퍼스널 라식"
         ],
         "y": {
          "bdata": "VQAmABUA/gFXABMAIQAvAAEA",
          "dtype": "i2"
         }
        },
        {
         "name": "취준",
         "text": [
          null,
          null,
          null,
          null,
          null,
          null,
          null,
          null
         ],
         "textposition": "inside",
         "type": "bar",
         "x": [
          "라섹",
          "라식",
          "렌즈삽입술",
          "스마일",
          "스마일 프로",
          "커스텀 라섹",
          "커스텀 라식",
          "토릭 렌즈삽입술"
         ],
         "y": {
          "bdata": "IwgDTBgFBgs=",
          "dtype": "i1"
         }
        },
        {
         "name": "군인",
         "text": [
          null,
          null,
          null,
          null,
          null,
          null,
          null
         ],
         "textposition": "inside",
         "type": "bar",
         "x": [
          "라섹",
          "라식",
          "스마일",
          "스마일 프로",
          "커스텀 라섹",
          "커스텀 라식",
          "토릭 렌즈삽입술"
         ],
         "y": {
          "bdata": "CwEvBgMEBg==",
          "dtype": "i1"
         }
        },
        {
         "name": "주부",
         "text": [
          null,
          null,
          null,
          null,
          null,
          null,
          null,
          null
         ],
         "textposition": "inside",
         "type": "bar",
         "x": [
          "라섹",
          "라식",
          "렌즈삽입술",
          "스마일",
          "스마일 프로",
          "커스텀 라섹",
          "커스텀 라식",
          "토릭 렌즈삽입술"
         ],
         "y": {
          "bdata": "BQEBFAYBAgE=",
          "dtype": "i1"
         }
        },
        {
         "name": "자영업/프리랜서",
         "text": [
          null,
          null,
          null,
          null,
          null,
          null,
          null,
          null
         ],
         "textposition": "inside",
         "type": "bar",
         "x": [
          "라섹",
          "라식",
          "렌즈삽입술",
          "스마일",
          "스마일 프로",
          "커스텀 라섹",
          "커스텀 라식",
          "토릭 렌즈삽입술"
         ],
         "y": {
          "bdata": "BAcFMw0CCAU=",
          "dtype": "i1"
         }
        },
        {
         "name": "간호사",
         "text": [
          null,
          null,
          null,
          null,
          null
         ],
         "textposition": "inside",
         "type": "bar",
         "x": [
          "라섹",
          "스마일",
          "스마일 프로",
          "커스텀 라섹",
          "토릭 렌즈삽입술"
         ],
         "y": {
          "bdata": "AgIBAQE=",
          "dtype": "i1"
         }
        },
        {
         "name": "교사",
         "text": [
          null,
          null,
          null,
          null,
          null
         ],
         "textposition": "inside",
         "type": "bar",
         "x": [
          "라섹",
          "스마일",
          "커스텀 라섹",
          "커스텀 라식",
          "토릭 렌즈삽입술"
         ],
         "y": {
          "bdata": "AgQBAgE=",
          "dtype": "i1"
         }
        },
        {
         "name": "STUDENT",
         "text": [
          null
         ],
         "textposition": "inside",
         "type": "bar",
         "x": [
          "라섹"
         ],
         "y": {
          "bdata": "AQ==",
          "dtype": "i1"
         }
        },
        {
         "name": "건축가",
         "text": [
          null
         ],
         "textposition": "inside",
         "type": "bar",
         "x": [
          "라섹"
         ],
         "y": {
          "bdata": "AQ==",
          "dtype": "i1"
         }
        },
        {
         "name": "언어재활사",
         "text": [
          null
         ],
         "textposition": "inside",
         "type": "bar",
         "x": [
          "라섹"
         ],
         "y": {
          "bdata": "AQ==",
          "dtype": "i1"
         }
        },
        {
         "name": "재수 끝난 재수생",
         "text": [
          null
         ],
         "textposition": "inside",
         "type": "bar",
         "x": [
          "라섹"
         ],
         "y": {
          "bdata": "AQ==",
          "dtype": "i1"
         }
        },
        {
         "name": "회사원",
         "text": [
          null,
          null,
          null
         ],
         "textposition": "inside",
         "type": "bar",
         "x": [
          "라섹",
          "스마일",
          "스마일 프로"
         ],
         "y": {
          "bdata": "AQIB",
          "dtype": "i1"
         }
        },
        {
         "name": "Student",
         "text": [
          null
         ],
         "textposition": "inside",
         "type": "bar",
         "x": [
          "라식"
         ],
         "y": {
          "bdata": "AQ==",
          "dtype": "i1"
         }
        },
        {
         "name": "영어교사",
         "text": [
          null
         ],
         "textposition": "inside",
         "type": "bar",
         "x": [
          "라식"
         ],
         "y": {
          "bdata": "AQ==",
          "dtype": "i1"
         }
        },
        {
         "name": "의사",
         "text": [
          null,
          null
         ],
         "textposition": "inside",
         "type": "bar",
         "x": [
          "라식",
          "스마일 프로"
         ],
         "y": {
          "bdata": "AQI=",
          "dtype": "i1"
         }
        },
        {
         "name": "배우",
         "text": [
          null
         ],
         "textposition": "inside",
         "type": "bar",
         "x": [
          "렌즈삽입술"
         ],
         "y": {
          "bdata": "AQ==",
          "dtype": "i1"
         }
        },
        {
         "name": "항해사",
         "text": [
          null,
          null,
          null
         ],
         "textposition": "inside",
         "type": "bar",
         "x": [
          "렌즈삽입술",
          "스마일",
          "스마일 프로"
         ],
         "y": {
          "bdata": "AQEB",
          "dtype": "i1"
         }
        },
        {
         "name": "선생님",
         "text": [
          null
         ],
         "textposition": "inside",
         "type": "bar",
         "x": [
          "스마일"
         ],
         "y": {
          "bdata": "Ag==",
          "dtype": "i1"
         }
        },
        {
         "name": "Doctor",
         "text": [
          null
         ],
         "textposition": "inside",
         "type": "bar",
         "x": [
          "스마일"
         ],
         "y": {
          "bdata": "AQ==",
          "dtype": "i1"
         }
        },
        {
         "name": "Teacher",
         "text": [
          null
         ],
         "textposition": "inside",
         "type": "bar",
         "x": [
          "스마일"
         ],
         "y": {
          "bdata": "AQ==",
          "dtype": "i1"
         }
        },
        {
         "name": "jeweller",
         "text": [
          null
         ],
         "textposition": "inside",
         "type": "bar",
         "x": [
          "스마일"
         ],
         "y": {
          "bdata": "AQ==",
          "dtype": "i1"
         }
        },
        {
         "name": "x",
         "text": [
          null
         ],
         "textposition": "inside",
         "type": "bar",
         "x": [
          "스마일"
         ],
         "y": {
          "bdata": "AQ==",
          "dtype": "i1"
         }
        },
        {
         "name": "경찰",
         "text": [
          null
         ],
         "textposition": "inside",
         "type": "bar",
         "x": [
          "스마일"
         ],
         "y": {
          "bdata": "AQ==",
          "dtype": "i1"
         }
        },
        {
         "name": "교직원",
         "text": [
          null
         ],
         "textposition": "inside",
         "type": "bar",
         "x": [
          "스마일"
         ],
         "y": {
          "bdata": "AQ==",
          "dtype": "i1"
         }
        },
        {
         "name": "데이터분석가",
         "text": [
          null
         ],
         "textposition": "inside",
         "type": "bar",
         "x": [
          "스마일"
         ],
         "y": {
          "bdata": "AQ==",
          "dtype": "i1"
         }
        },
        {
         "name": "디자이너",
         "text": [
          null,
          null
         ],
         "textposition": "inside",
         "type": "bar",
         "x": [
          "스마일",
          "스마일 프로"
         ],
         "y": {
          "bdata": "AQE=",
          "dtype": "i1"
         }
        },
        {
         "name": "마케팅매니저",
         "text": [
          null
         ],
         "textposition": "inside",
         "type": "bar",
         "x": [
          "스마일"
         ],
         "y": {
          "bdata": "AQ==",
          "dtype": "i1"
         }
        },
        {
         "name": "마켓전문가",
         "text": [
          null
         ],
         "textposition": "inside",
         "type": "bar",
         "x": [
          "스마일"
         ],
         "y": {
          "bdata": "AQ==",
          "dtype": "i1"
         }
        },
        {
         "name": "방사선사",
         "text": [
          null
         ],
         "textposition": "inside",
         "type": "bar",
         "x": [
          "스마일"
         ],
         "y": {
          "bdata": "AQ==",
          "dtype": "i1"
         }
        },
        {
         "name": "사회복지사",
         "text": [
          null
         ],
         "textposition": "inside",
         "type": "bar",
         "x": [
          "스마일"
         ],
         "y": {
          "bdata": "AQ==",
          "dtype": "i1"
         }
        },
        {
         "name": "소프트웨어 디벨로퍼",
         "text": [
          null
         ],
         "textposition": "inside",
         "type": "bar",
         "x": [
          "스마일"
         ],
         "y": {
          "bdata": "AQ==",
          "dtype": "i1"
         }
        },
        {
         "name": "쉐프",
         "text": [
          null
         ],
         "textposition": "inside",
         "type": "bar",
         "x": [
          "스마일"
         ],
         "y": {
          "bdata": "AQ==",
          "dtype": "i1"
         }
        },
        {
         "name": "약사",
         "text": [
          null,
          null
         ],
         "textposition": "inside",
         "type": "bar",
         "x": [
          "스마일",
          "스마일 프로"
         ],
         "y": {
          "bdata": "AQE=",
          "dtype": "i1"
         }
        },
        {
         "name": "어린이집 교사",
         "text": [
          null
         ],
         "textposition": "inside",
         "type": "bar",
         "x": [
          "스마일"
         ],
         "y": {
          "bdata": "AQ==",
          "dtype": "i1"
         }
        },
        {
         "name": "연구원",
         "text": [
          null
         ],
         "textposition": "inside",
         "type": "bar",
         "x": [
          "스마일"
         ],
         "y": {
          "bdata": "AQ==",
          "dtype": "i1"
         }
        },
        {
         "name": "요리사",
         "text": [
          null
         ],
         "textposition": "inside",
         "type": "bar",
         "x": [
          "스마일"
         ],
         "y": {
          "bdata": "AQ==",
          "dtype": "i1"
         }
        },
        {
         "name": "원어민 선생님",
         "text": [
          null
         ],
         "textposition": "inside",
         "type": "bar",
         "x": [
          "스마일"
         ],
         "y": {
          "bdata": "AQ==",
          "dtype": "i1"
         }
        },
        {
         "name": "유치원교사",
         "text": [
          null
         ],
         "textposition": "inside",
         "type": "bar",
         "x": [
          "스마일"
         ],
         "y": {
          "bdata": "AQ==",
          "dtype": "i1"
         }
        },
        {
         "name": "자영업",
         "text": [
          null
         ],
         "textposition": "inside",
         "type": "bar",
         "x": [
          "스마일"
         ],
         "y": {
          "bdata": "AQ==",
          "dtype": "i1"
         }
        },
        {
         "name": "재수생",
         "text": [
          null
         ],
         "textposition": "inside",
         "type": "bar",
         "x": [
          "스마일"
         ],
         "y": {
          "bdata": "AQ==",
          "dtype": "i1"
         }
        },
        {
         "name": "졸업생",
         "text": [
          null
         ],
         "textposition": "inside",
         "type": "bar",
         "x": [
          "스마일"
         ],
         "y": {
          "bdata": "AQ==",
          "dtype": "i1"
         }
        },
        {
         "name": "태권도",
         "text": [
          null
         ],
         "textposition": "inside",
         "type": "bar",
         "x": [
          "스마일"
         ],
         "y": {
          "bdata": "AQ==",
          "dtype": "i1"
         }
        },
        {
         "name": "프로그램관리자",
         "text": [
          null
         ],
         "textposition": "inside",
         "type": "bar",
         "x": [
          "스마일"
         ],
         "y": {
          "bdata": "AQ==",
          "dtype": "i1"
         }
        },
        {
         "name": "과학자",
         "text": [
          null
         ],
         "textposition": "inside",
         "type": "bar",
         "x": [
          "스마일 프로"
         ],
         "y": {
          "bdata": "AQ==",
          "dtype": "i1"
         }
        },
        {
         "name": "목수",
         "text": [
          null
         ],
         "textposition": "inside",
         "type": "bar",
         "x": [
          "스마일 프로"
         ],
         "y": {
          "bdata": "AQ==",
          "dtype": "i1"
         }
        },
        {
         "name": "변호사",
         "text": [
          null
         ],
         "textposition": "inside",
         "type": "bar",
         "x": [
          "스마일 프로"
         ],
         "y": {
          "bdata": "AQ==",
          "dtype": "i1"
         }
        },
        {
         "name": "뷰티매니저",
         "text": [
          null
         ],
         "textposition": "inside",
         "type": "bar",
         "x": [
          "스마일 프로"
         ],
         "y": {
          "bdata": "AQ==",
          "dtype": "i1"
         }
        },
        {
         "name": "사업",
         "text": [
          null
         ],
         "textposition": "inside",
         "type": "bar",
         "x": [
          "스마일 프로"
         ],
         "y": {
          "bdata": "AQ==",
          "dtype": "i1"
         }
        },
        {
         "name": "소프트웨어 엔지니어",
         "text": [
          null
         ],
         "textposition": "inside",
         "type": "bar",
         "x": [
          "스마일 프로"
         ],
         "y": {
          "bdata": "AQ==",
          "dtype": "i1"
         }
        },
        {
         "name": "의사(성형외과)",
         "text": [
          null
         ],
         "textposition": "inside",
         "type": "bar",
         "x": [
          "스마일 프로"
         ],
         "y": {
          "bdata": "AQ==",
          "dtype": "i1"
         }
        },
        {
         "name": "프로젝트 매니저",
         "text": [
          null
         ],
         "textposition": "inside",
         "type": "bar",
         "x": [
          "스마일 프로"
         ],
         "y": {
          "bdata": "AQ==",
          "dtype": "i1"
         }
        },
        {
         "name": "프리랜서",
         "text": [
          null
         ],
         "textposition": "inside",
         "type": "bar",
         "x": [
          "스마일 프로"
         ],
         "y": {
          "bdata": "AQ==",
          "dtype": "i1"
         }
        },
        {
         "name": "호텔리어",
         "text": [
          null
         ],
         "textposition": "inside",
         "type": "bar",
         "x": [
          "스마일 프로"
         ],
         "y": {
          "bdata": "AQ==",
          "dtype": "i1"
         }
        },
        {
         "name": "수능",
         "text": [
          null
         ],
         "textposition": "inside",
         "type": "bar",
         "x": [
          "커스텀 라식"
         ],
         "y": {
          "bdata": "AQ==",
          "dtype": "i1"
         }
        },
        {
         "name": "컨설턴트",
         "text": [
          null
         ],
         "textposition": "inside",
         "type": "bar",
         "x": [
          "토릭 렌즈삽입술"
         ],
         "y": {
          "bdata": "AQ==",
          "dtype": "i1"
         }
        }
       ],
       "layout": {
        "barmode": "stack",
        "legend": {
         "title": {
          "text": "job"
         }
        },
        "template": {
         "data": {
          "bar": [
           {
            "error_x": {
             "color": "#2a3f5f"
            },
            "error_y": {
             "color": "#2a3f5f"
            },
            "marker": {
             "line": {
              "color": "#E5ECF6",
              "width": 0.5
             },
             "pattern": {
              "fillmode": "overlay",
              "size": 10,
              "solidity": 0.2
             }
            },
            "type": "bar"
           }
          ],
          "barpolar": [
           {
            "marker": {
             "line": {
              "color": "#E5ECF6",
              "width": 0.5
             },
             "pattern": {
              "fillmode": "overlay",
              "size": 10,
              "solidity": 0.2
             }
            },
            "type": "barpolar"
           }
          ],
          "carpet": [
           {
            "aaxis": {
             "endlinecolor": "#2a3f5f",
             "gridcolor": "white",
             "linecolor": "white",
             "minorgridcolor": "white",
             "startlinecolor": "#2a3f5f"
            },
            "baxis": {
             "endlinecolor": "#2a3f5f",
             "gridcolor": "white",
             "linecolor": "white",
             "minorgridcolor": "white",
             "startlinecolor": "#2a3f5f"
            },
            "type": "carpet"
           }
          ],
          "choropleth": [
           {
            "colorbar": {
             "outlinewidth": 0,
             "ticks": ""
            },
            "type": "choropleth"
           }
          ],
          "contour": [
           {
            "colorbar": {
             "outlinewidth": 0,
             "ticks": ""
            },
            "colorscale": [
             [
              0,
              "#0d0887"
             ],
             [
              0.1111111111111111,
              "#46039f"
             ],
             [
              0.2222222222222222,
              "#7201a8"
             ],
             [
              0.3333333333333333,
              "#9c179e"
             ],
             [
              0.4444444444444444,
              "#bd3786"
             ],
             [
              0.5555555555555556,
              "#d8576b"
             ],
             [
              0.6666666666666666,
              "#ed7953"
             ],
             [
              0.7777777777777778,
              "#fb9f3a"
             ],
             [
              0.8888888888888888,
              "#fdca26"
             ],
             [
              1,
              "#f0f921"
             ]
            ],
            "type": "contour"
           }
          ],
          "contourcarpet": [
           {
            "colorbar": {
             "outlinewidth": 0,
             "ticks": ""
            },
            "type": "contourcarpet"
           }
          ],
          "heatmap": [
           {
            "colorbar": {
             "outlinewidth": 0,
             "ticks": ""
            },
            "colorscale": [
             [
              0,
              "#0d0887"
             ],
             [
              0.1111111111111111,
              "#46039f"
             ],
             [
              0.2222222222222222,
              "#7201a8"
             ],
             [
              0.3333333333333333,
              "#9c179e"
             ],
             [
              0.4444444444444444,
              "#bd3786"
             ],
             [
              0.5555555555555556,
              "#d8576b"
             ],
             [
              0.6666666666666666,
              "#ed7953"
             ],
             [
              0.7777777777777778,
              "#fb9f3a"
             ],
             [
              0.8888888888888888,
              "#fdca26"
             ],
             [
              1,
              "#f0f921"
             ]
            ],
            "type": "heatmap"
           }
          ],
          "histogram": [
           {
            "marker": {
             "pattern": {
              "fillmode": "overlay",
              "size": 10,
              "solidity": 0.2
             }
            },
            "type": "histogram"
           }
          ],
          "histogram2d": [
           {
            "colorbar": {
             "outlinewidth": 0,
             "ticks": ""
            },
            "colorscale": [
             [
              0,
              "#0d0887"
             ],
             [
              0.1111111111111111,
              "#46039f"
             ],
             [
              0.2222222222222222,
              "#7201a8"
             ],
             [
              0.3333333333333333,
              "#9c179e"
             ],
             [
              0.4444444444444444,
              "#bd3786"
             ],
             [
              0.5555555555555556,
              "#d8576b"
             ],
             [
              0.6666666666666666,
              "#ed7953"
             ],
             [
              0.7777777777777778,
              "#fb9f3a"
             ],
             [
              0.8888888888888888,
              "#fdca26"
             ],
             [
              1,
              "#f0f921"
             ]
            ],
            "type": "histogram2d"
           }
          ],
          "histogram2dcontour": [
           {
            "colorbar": {
             "outlinewidth": 0,
             "ticks": ""
            },
            "colorscale": [
             [
              0,
              "#0d0887"
             ],
             [
              0.1111111111111111,
              "#46039f"
             ],
             [
              0.2222222222222222,
              "#7201a8"
             ],
             [
              0.3333333333333333,
              "#9c179e"
             ],
             [
              0.4444444444444444,
              "#bd3786"
             ],
             [
              0.5555555555555556,
              "#d8576b"
             ],
             [
              0.6666666666666666,
              "#ed7953"
             ],
             [
              0.7777777777777778,
              "#fb9f3a"
             ],
             [
              0.8888888888888888,
              "#fdca26"
             ],
             [
              1,
              "#f0f921"
             ]
            ],
            "type": "histogram2dcontour"
           }
          ],
          "mesh3d": [
           {
            "colorbar": {
             "outlinewidth": 0,
             "ticks": ""
            },
            "type": "mesh3d"
           }
          ],
          "parcoords": [
           {
            "line": {
             "colorbar": {
              "outlinewidth": 0,
              "ticks": ""
             }
            },
            "type": "parcoords"
           }
          ],
          "pie": [
           {
            "automargin": true,
            "type": "pie"
           }
          ],
          "scatter": [
           {
            "fillpattern": {
             "fillmode": "overlay",
             "size": 10,
             "solidity": 0.2
            },
            "type": "scatter"
           }
          ],
          "scatter3d": [
           {
            "line": {
             "colorbar": {
              "outlinewidth": 0,
              "ticks": ""
             }
            },
            "marker": {
             "colorbar": {
              "outlinewidth": 0,
              "ticks": ""
             }
            },
            "type": "scatter3d"
           }
          ],
          "scattercarpet": [
           {
            "marker": {
             "colorbar": {
              "outlinewidth": 0,
              "ticks": ""
             }
            },
            "type": "scattercarpet"
           }
          ],
          "scattergeo": [
           {
            "marker": {
             "colorbar": {
              "outlinewidth": 0,
              "ticks": ""
             }
            },
            "type": "scattergeo"
           }
          ],
          "scattergl": [
           {
            "marker": {
             "colorbar": {
              "outlinewidth": 0,
              "ticks": ""
             }
            },
            "type": "scattergl"
           }
          ],
          "scattermap": [
           {
            "marker": {
             "colorbar": {
              "outlinewidth": 0,
              "ticks": ""
             }
            },
            "type": "scattermap"
           }
          ],
          "scattermapbox": [
           {
            "marker": {
             "colorbar": {
              "outlinewidth": 0,
              "ticks": ""
             }
            },
            "type": "scattermapbox"
           }
          ],
          "scatterpolar": [
           {
            "marker": {
             "colorbar": {
              "outlinewidth": 0,
              "ticks": ""
             }
            },
            "type": "scatterpolar"
           }
          ],
          "scatterpolargl": [
           {
            "marker": {
             "colorbar": {
              "outlinewidth": 0,
              "ticks": ""
             }
            },
            "type": "scatterpolargl"
           }
          ],
          "scatterternary": [
           {
            "marker": {
             "colorbar": {
              "outlinewidth": 0,
              "ticks": ""
             }
            },
            "type": "scatterternary"
           }
          ],
          "surface": [
           {
            "colorbar": {
             "outlinewidth": 0,
             "ticks": ""
            },
            "colorscale": [
             [
              0,
              "#0d0887"
             ],
             [
              0.1111111111111111,
              "#46039f"
             ],
             [
              0.2222222222222222,
              "#7201a8"
             ],
             [
              0.3333333333333333,
              "#9c179e"
             ],
             [
              0.4444444444444444,
              "#bd3786"
             ],
             [
              0.5555555555555556,
              "#d8576b"
             ],
             [
              0.6666666666666666,
              "#ed7953"
             ],
             [
              0.7777777777777778,
              "#fb9f3a"
             ],
             [
              0.8888888888888888,
              "#fdca26"
             ],
             [
              1,
              "#f0f921"
             ]
            ],
            "type": "surface"
           }
          ],
          "table": [
           {
            "cells": {
             "fill": {
              "color": "#EBF0F8"
             },
             "line": {
              "color": "white"
             }
            },
            "header": {
             "fill": {
              "color": "#C8D4E3"
             },
             "line": {
              "color": "white"
             }
            },
            "type": "table"
           }
          ]
         },
         "layout": {
          "annotationdefaults": {
           "arrowcolor": "#2a3f5f",
           "arrowhead": 0,
           "arrowwidth": 1
          },
          "autotypenumbers": "strict",
          "coloraxis": {
           "colorbar": {
            "outlinewidth": 0,
            "ticks": ""
           }
          },
          "colorscale": {
           "diverging": [
            [
             0,
             "#8e0152"
            ],
            [
             0.1,
             "#c51b7d"
            ],
            [
             0.2,
             "#de77ae"
            ],
            [
             0.3,
             "#f1b6da"
            ],
            [
             0.4,
             "#fde0ef"
            ],
            [
             0.5,
             "#f7f7f7"
            ],
            [
             0.6,
             "#e6f5d0"
            ],
            [
             0.7,
             "#b8e186"
            ],
            [
             0.8,
             "#7fbc41"
            ],
            [
             0.9,
             "#4d9221"
            ],
            [
             1,
             "#276419"
            ]
           ],
           "sequential": [
            [
             0,
             "#0d0887"
            ],
            [
             0.1111111111111111,
             "#46039f"
            ],
            [
             0.2222222222222222,
             "#7201a8"
            ],
            [
             0.3333333333333333,
             "#9c179e"
            ],
            [
             0.4444444444444444,
             "#bd3786"
            ],
            [
             0.5555555555555556,
             "#d8576b"
            ],
            [
             0.6666666666666666,
             "#ed7953"
            ],
            [
             0.7777777777777778,
             "#fb9f3a"
            ],
            [
             0.8888888888888888,
             "#fdca26"
            ],
            [
             1,
             "#f0f921"
            ]
           ],
           "sequentialminus": [
            [
             0,
             "#0d0887"
            ],
            [
             0.1111111111111111,
             "#46039f"
            ],
            [
             0.2222222222222222,
             "#7201a8"
            ],
            [
             0.3333333333333333,
             "#9c179e"
            ],
            [
             0.4444444444444444,
             "#bd3786"
            ],
            [
             0.5555555555555556,
             "#d8576b"
            ],
            [
             0.6666666666666666,
             "#ed7953"
            ],
            [
             0.7777777777777778,
             "#fb9f3a"
            ],
            [
             0.8888888888888888,
             "#fdca26"
            ],
            [
             1,
             "#f0f921"
            ]
           ]
          },
          "colorway": [
           "#636efa",
           "#EF553B",
           "#00cc96",
           "#ab63fa",
           "#FFA15A",
           "#19d3f3",
           "#FF6692",
           "#B6E880",
           "#FF97FF",
           "#FECB52"
          ],
          "font": {
           "color": "#2a3f5f"
          },
          "geo": {
           "bgcolor": "white",
           "lakecolor": "white",
           "landcolor": "#E5ECF6",
           "showlakes": true,
           "showland": true,
           "subunitcolor": "white"
          },
          "hoverlabel": {
           "align": "left"
          },
          "hovermode": "closest",
          "mapbox": {
           "style": "light"
          },
          "paper_bgcolor": "white",
          "plot_bgcolor": "#E5ECF6",
          "polar": {
           "angularaxis": {
            "gridcolor": "white",
            "linecolor": "white",
            "ticks": ""
           },
           "bgcolor": "#E5ECF6",
           "radialaxis": {
            "gridcolor": "white",
            "linecolor": "white",
            "ticks": ""
           }
          },
          "scene": {
           "xaxis": {
            "backgroundcolor": "#E5ECF6",
            "gridcolor": "white",
            "gridwidth": 2,
            "linecolor": "white",
            "showbackground": true,
            "ticks": "",
            "zerolinecolor": "white"
           },
           "yaxis": {
            "backgroundcolor": "#E5ECF6",
            "gridcolor": "white",
            "gridwidth": 2,
            "linecolor": "white",
            "showbackground": true,
            "ticks": "",
            "zerolinecolor": "white"
           },
           "zaxis": {
            "backgroundcolor": "#E5ECF6",
            "gridcolor": "white",
            "gridwidth": 2,
            "linecolor": "white",
            "showbackground": true,
            "ticks": "",
            "zerolinecolor": "white"
           }
          },
          "shapedefaults": {
           "line": {
            "color": "#2a3f5f"
           }
          },
          "ternary": {
           "aaxis": {
            "gridcolor": "white",
            "linecolor": "white",
            "ticks": ""
           },
           "baxis": {
            "gridcolor": "white",
            "linecolor": "white",
            "ticks": ""
           },
           "bgcolor": "#E5ECF6",
           "caxis": {
            "gridcolor": "white",
            "linecolor": "white",
            "ticks": ""
           }
          },
          "title": {
           "x": 0.05
          },
          "xaxis": {
           "automargin": true,
           "gridcolor": "white",
           "linecolor": "white",
           "ticks": "",
           "title": {
            "standoff": 15
           },
           "zerolinecolor": "white",
           "zerolinewidth": 2
          },
          "yaxis": {
           "automargin": true,
           "gridcolor": "white",
           "linecolor": "white",
           "ticks": "",
           "title": {
            "standoff": 15
           },
           "zerolinecolor": "white",
           "zerolinewidth": 2
          }
         }
        },
        "title": {
         "text": "operation 기준 job별 고객 수 (Grouped Bar)"
        },
        "xaxis": {
         "tickangle": 45,
         "title": {
          "text": "operation"
         },
         "type": "category"
        },
        "yaxis": {
         "title": {
          "text": "고객 수 (count)"
         }
        }
       }
      }
     },
     "metadata": {},
     "output_type": "display_data"
    }
   ],
   "source": [
    "x_list = ['operation']\n",
    "\n",
    "instance.bar_graph(df, x_list, y=\"job\", agg=\"count_mix\")"
   ]
  },
  {
   "cell_type": "code",
   "execution_count": 8,
   "metadata": {},
   "outputs": [
    {
     "data": {
      "application/vnd.plotly.v1+json": {
       "config": {
        "plotlyServerURL": "https://plot.ly"
       },
       "data": [
        {
         "line": {
          "color": "blue",
          "width": 2
         },
         "marker": {
          "color": "black",
          "size": 10
         },
         "mode": "lines+markers+text",
         "name": "라인 그래프 데이터",
         "showlegend": true,
         "text": {
          "bdata": "AAAAAAAgZkAAAAAAAFBwQAAAAAAAAG1AAAAAAACAe0AAAAAAANBwQAAAAAAAcHFAAAAAAADAckAAAAAAACBvQAAAAAAA4HBA",
          "dtype": "f8"
         },
         "textposition": "top center",
         "type": "scatter",
         "x": [
          "2025-01",
          "2025-02",
          "2025-03",
          "2025-04",
          "2025-05",
          "2025-06",
          "2025-07",
          "2025-08",
          "2025-09"
         ],
         "y": {
          "bdata": "sQAFAegAuAENARcBLAH5AA4B",
          "dtype": "i2"
         }
        }
       ],
       "layout": {
        "template": {
         "data": {
          "bar": [
           {
            "error_x": {
             "color": "#2a3f5f"
            },
            "error_y": {
             "color": "#2a3f5f"
            },
            "marker": {
             "line": {
              "color": "#E5ECF6",
              "width": 0.5
             },
             "pattern": {
              "fillmode": "overlay",
              "size": 10,
              "solidity": 0.2
             }
            },
            "type": "bar"
           }
          ],
          "barpolar": [
           {
            "marker": {
             "line": {
              "color": "#E5ECF6",
              "width": 0.5
             },
             "pattern": {
              "fillmode": "overlay",
              "size": 10,
              "solidity": 0.2
             }
            },
            "type": "barpolar"
           }
          ],
          "carpet": [
           {
            "aaxis": {
             "endlinecolor": "#2a3f5f",
             "gridcolor": "white",
             "linecolor": "white",
             "minorgridcolor": "white",
             "startlinecolor": "#2a3f5f"
            },
            "baxis": {
             "endlinecolor": "#2a3f5f",
             "gridcolor": "white",
             "linecolor": "white",
             "minorgridcolor": "white",
             "startlinecolor": "#2a3f5f"
            },
            "type": "carpet"
           }
          ],
          "choropleth": [
           {
            "colorbar": {
             "outlinewidth": 0,
             "ticks": ""
            },
            "type": "choropleth"
           }
          ],
          "contour": [
           {
            "colorbar": {
             "outlinewidth": 0,
             "ticks": ""
            },
            "colorscale": [
             [
              0,
              "#0d0887"
             ],
             [
              0.1111111111111111,
              "#46039f"
             ],
             [
              0.2222222222222222,
              "#7201a8"
             ],
             [
              0.3333333333333333,
              "#9c179e"
             ],
             [
              0.4444444444444444,
              "#bd3786"
             ],
             [
              0.5555555555555556,
              "#d8576b"
             ],
             [
              0.6666666666666666,
              "#ed7953"
             ],
             [
              0.7777777777777778,
              "#fb9f3a"
             ],
             [
              0.8888888888888888,
              "#fdca26"
             ],
             [
              1,
              "#f0f921"
             ]
            ],
            "type": "contour"
           }
          ],
          "contourcarpet": [
           {
            "colorbar": {
             "outlinewidth": 0,
             "ticks": ""
            },
            "type": "contourcarpet"
           }
          ],
          "heatmap": [
           {
            "colorbar": {
             "outlinewidth": 0,
             "ticks": ""
            },
            "colorscale": [
             [
              0,
              "#0d0887"
             ],
             [
              0.1111111111111111,
              "#46039f"
             ],
             [
              0.2222222222222222,
              "#7201a8"
             ],
             [
              0.3333333333333333,
              "#9c179e"
             ],
             [
              0.4444444444444444,
              "#bd3786"
             ],
             [
              0.5555555555555556,
              "#d8576b"
             ],
             [
              0.6666666666666666,
              "#ed7953"
             ],
             [
              0.7777777777777778,
              "#fb9f3a"
             ],
             [
              0.8888888888888888,
              "#fdca26"
             ],
             [
              1,
              "#f0f921"
             ]
            ],
            "type": "heatmap"
           }
          ],
          "histogram": [
           {
            "marker": {
             "pattern": {
              "fillmode": "overlay",
              "size": 10,
              "solidity": 0.2
             }
            },
            "type": "histogram"
           }
          ],
          "histogram2d": [
           {
            "colorbar": {
             "outlinewidth": 0,
             "ticks": ""
            },
            "colorscale": [
             [
              0,
              "#0d0887"
             ],
             [
              0.1111111111111111,
              "#46039f"
             ],
             [
              0.2222222222222222,
              "#7201a8"
             ],
             [
              0.3333333333333333,
              "#9c179e"
             ],
             [
              0.4444444444444444,
              "#bd3786"
             ],
             [
              0.5555555555555556,
              "#d8576b"
             ],
             [
              0.6666666666666666,
              "#ed7953"
             ],
             [
              0.7777777777777778,
              "#fb9f3a"
             ],
             [
              0.8888888888888888,
              "#fdca26"
             ],
             [
              1,
              "#f0f921"
             ]
            ],
            "type": "histogram2d"
           }
          ],
          "histogram2dcontour": [
           {
            "colorbar": {
             "outlinewidth": 0,
             "ticks": ""
            },
            "colorscale": [
             [
              0,
              "#0d0887"
             ],
             [
              0.1111111111111111,
              "#46039f"
             ],
             [
              0.2222222222222222,
              "#7201a8"
             ],
             [
              0.3333333333333333,
              "#9c179e"
             ],
             [
              0.4444444444444444,
              "#bd3786"
             ],
             [
              0.5555555555555556,
              "#d8576b"
             ],
             [
              0.6666666666666666,
              "#ed7953"
             ],
             [
              0.7777777777777778,
              "#fb9f3a"
             ],
             [
              0.8888888888888888,
              "#fdca26"
             ],
             [
              1,
              "#f0f921"
             ]
            ],
            "type": "histogram2dcontour"
           }
          ],
          "mesh3d": [
           {
            "colorbar": {
             "outlinewidth": 0,
             "ticks": ""
            },
            "type": "mesh3d"
           }
          ],
          "parcoords": [
           {
            "line": {
             "colorbar": {
              "outlinewidth": 0,
              "ticks": ""
             }
            },
            "type": "parcoords"
           }
          ],
          "pie": [
           {
            "automargin": true,
            "type": "pie"
           }
          ],
          "scatter": [
           {
            "fillpattern": {
             "fillmode": "overlay",
             "size": 10,
             "solidity": 0.2
            },
            "type": "scatter"
           }
          ],
          "scatter3d": [
           {
            "line": {
             "colorbar": {
              "outlinewidth": 0,
              "ticks": ""
             }
            },
            "marker": {
             "colorbar": {
              "outlinewidth": 0,
              "ticks": ""
             }
            },
            "type": "scatter3d"
           }
          ],
          "scattercarpet": [
           {
            "marker": {
             "colorbar": {
              "outlinewidth": 0,
              "ticks": ""
             }
            },
            "type": "scattercarpet"
           }
          ],
          "scattergeo": [
           {
            "marker": {
             "colorbar": {
              "outlinewidth": 0,
              "ticks": ""
             }
            },
            "type": "scattergeo"
           }
          ],
          "scattergl": [
           {
            "marker": {
             "colorbar": {
              "outlinewidth": 0,
              "ticks": ""
             }
            },
            "type": "scattergl"
           }
          ],
          "scattermap": [
           {
            "marker": {
             "colorbar": {
              "outlinewidth": 0,
              "ticks": ""
             }
            },
            "type": "scattermap"
           }
          ],
          "scattermapbox": [
           {
            "marker": {
             "colorbar": {
              "outlinewidth": 0,
              "ticks": ""
             }
            },
            "type": "scattermapbox"
           }
          ],
          "scatterpolar": [
           {
            "marker": {
             "colorbar": {
              "outlinewidth": 0,
              "ticks": ""
             }
            },
            "type": "scatterpolar"
           }
          ],
          "scatterpolargl": [
           {
            "marker": {
             "colorbar": {
              "outlinewidth": 0,
              "ticks": ""
             }
            },
            "type": "scatterpolargl"
           }
          ],
          "scatterternary": [
           {
            "marker": {
             "colorbar": {
              "outlinewidth": 0,
              "ticks": ""
             }
            },
            "type": "scatterternary"
           }
          ],
          "surface": [
           {
            "colorbar": {
             "outlinewidth": 0,
             "ticks": ""
            },
            "colorscale": [
             [
              0,
              "#0d0887"
             ],
             [
              0.1111111111111111,
              "#46039f"
             ],
             [
              0.2222222222222222,
              "#7201a8"
             ],
             [
              0.3333333333333333,
              "#9c179e"
             ],
             [
              0.4444444444444444,
              "#bd3786"
             ],
             [
              0.5555555555555556,
              "#d8576b"
             ],
             [
              0.6666666666666666,
              "#ed7953"
             ],
             [
              0.7777777777777778,
              "#fb9f3a"
             ],
             [
              0.8888888888888888,
              "#fdca26"
             ],
             [
              1,
              "#f0f921"
             ]
            ],
            "type": "surface"
           }
          ],
          "table": [
           {
            "cells": {
             "fill": {
              "color": "#EBF0F8"
             },
             "line": {
              "color": "white"
             }
            },
            "header": {
             "fill": {
              "color": "#C8D4E3"
             },
             "line": {
              "color": "white"
             }
            },
            "type": "table"
           }
          ]
         },
         "layout": {
          "annotationdefaults": {
           "arrowcolor": "#2a3f5f",
           "arrowhead": 0,
           "arrowwidth": 1
          },
          "autotypenumbers": "strict",
          "coloraxis": {
           "colorbar": {
            "outlinewidth": 0,
            "ticks": ""
           }
          },
          "colorscale": {
           "diverging": [
            [
             0,
             "#8e0152"
            ],
            [
             0.1,
             "#c51b7d"
            ],
            [
             0.2,
             "#de77ae"
            ],
            [
             0.3,
             "#f1b6da"
            ],
            [
             0.4,
             "#fde0ef"
            ],
            [
             0.5,
             "#f7f7f7"
            ],
            [
             0.6,
             "#e6f5d0"
            ],
            [
             0.7,
             "#b8e186"
            ],
            [
             0.8,
             "#7fbc41"
            ],
            [
             0.9,
             "#4d9221"
            ],
            [
             1,
             "#276419"
            ]
           ],
           "sequential": [
            [
             0,
             "#0d0887"
            ],
            [
             0.1111111111111111,
             "#46039f"
            ],
            [
             0.2222222222222222,
             "#7201a8"
            ],
            [
             0.3333333333333333,
             "#9c179e"
            ],
            [
             0.4444444444444444,
             "#bd3786"
            ],
            [
             0.5555555555555556,
             "#d8576b"
            ],
            [
             0.6666666666666666,
             "#ed7953"
            ],
            [
             0.7777777777777778,
             "#fb9f3a"
            ],
            [
             0.8888888888888888,
             "#fdca26"
            ],
            [
             1,
             "#f0f921"
            ]
           ],
           "sequentialminus": [
            [
             0,
             "#0d0887"
            ],
            [
             0.1111111111111111,
             "#46039f"
            ],
            [
             0.2222222222222222,
             "#7201a8"
            ],
            [
             0.3333333333333333,
             "#9c179e"
            ],
            [
             0.4444444444444444,
             "#bd3786"
            ],
            [
             0.5555555555555556,
             "#d8576b"
            ],
            [
             0.6666666666666666,
             "#ed7953"
            ],
            [
             0.7777777777777778,
             "#fb9f3a"
            ],
            [
             0.8888888888888888,
             "#fdca26"
            ],
            [
             1,
             "#f0f921"
            ]
           ]
          },
          "colorway": [
           "#636efa",
           "#EF553B",
           "#00cc96",
           "#ab63fa",
           "#FFA15A",
           "#19d3f3",
           "#FF6692",
           "#B6E880",
           "#FF97FF",
           "#FECB52"
          ],
          "font": {
           "color": "#2a3f5f"
          },
          "geo": {
           "bgcolor": "white",
           "lakecolor": "white",
           "landcolor": "#E5ECF6",
           "showlakes": true,
           "showland": true,
           "subunitcolor": "white"
          },
          "hoverlabel": {
           "align": "left"
          },
          "hovermode": "closest",
          "mapbox": {
           "style": "light"
          },
          "paper_bgcolor": "white",
          "plot_bgcolor": "#E5ECF6",
          "polar": {
           "angularaxis": {
            "gridcolor": "white",
            "linecolor": "white",
            "ticks": ""
           },
           "bgcolor": "#E5ECF6",
           "radialaxis": {
            "gridcolor": "white",
            "linecolor": "white",
            "ticks": ""
           }
          },
          "scene": {
           "xaxis": {
            "backgroundcolor": "#E5ECF6",
            "gridcolor": "white",
            "gridwidth": 2,
            "linecolor": "white",
            "showbackground": true,
            "ticks": "",
            "zerolinecolor": "white"
           },
           "yaxis": {
            "backgroundcolor": "#E5ECF6",
            "gridcolor": "white",
            "gridwidth": 2,
            "linecolor": "white",
            "showbackground": true,
            "ticks": "",
            "zerolinecolor": "white"
           },
           "zaxis": {
            "backgroundcolor": "#E5ECF6",
            "gridcolor": "white",
            "gridwidth": 2,
            "linecolor": "white",
            "showbackground": true,
            "ticks": "",
            "zerolinecolor": "white"
           }
          },
          "shapedefaults": {
           "line": {
            "color": "#2a3f5f"
           }
          },
          "ternary": {
           "aaxis": {
            "gridcolor": "white",
            "linecolor": "white",
            "ticks": ""
           },
           "baxis": {
            "gridcolor": "white",
            "linecolor": "white",
            "ticks": ""
           },
           "bgcolor": "#E5ECF6",
           "caxis": {
            "gridcolor": "white",
            "linecolor": "white",
            "ticks": ""
           }
          },
          "title": {
           "x": 0.05
          },
          "xaxis": {
           "automargin": true,
           "gridcolor": "white",
           "linecolor": "white",
           "ticks": "",
           "title": {
            "standoff": 15
           },
           "zerolinecolor": "white",
           "zerolinewidth": 2
          },
          "yaxis": {
           "automargin": true,
           "gridcolor": "white",
           "linecolor": "white",
           "ticks": "",
           "title": {
            "standoff": 15
           },
           "zerolinecolor": "white",
           "zerolinewidth": 2
          }
         }
        },
        "title": {
         "text": "라인 그래프"
        },
        "xaxis": {
         "tickangle": 45,
         "tickmode": "linear",
         "title": {
          "text": "op_year_week"
         },
         "type": "category"
        },
        "yaxis": {
         "title": {
          "text": "주차별 count"
         }
        }
       }
      }
     },
     "metadata": {},
     "output_type": "display_data"
    }
   ],
   "source": [
    "x_list = ['op_year_week']\n",
    "instance.line_graph(df,x_list,agg='count')"
   ]
  },
  {
   "cell_type": "code",
   "execution_count": 9,
   "metadata": {},
   "outputs": [
    {
     "data": {
      "application/vnd.plotly.v1+json": {
       "config": {
        "plotlyServerURL": "https://plot.ly"
       },
       "data": [
        {
         "line": {
          "color": "blue",
          "width": 2
         },
         "marker": {
          "color": "black",
          "size": 10
         },
         "mode": "lines+markers+text",
         "name": "라인 그래프 데이터",
         "showlegend": true,
         "text": {
          "bdata": "AAAA0Ni7vUEAAAAIckfGQQAAAHDBv8NBAAAAJVWr0UEAAABw6VnFQQAAAAAe7sZBAAAAXF1RyEEAAACkJ3DEQQAAAIBK8cZB",
          "dtype": "f8"
         },
         "textposition": "top center",
         "type": "scatter",
         "x": [
          "2025-01",
          "2025-02",
          "2025-03",
          "2025-04",
          "2025-05",
          "2025-06",
          "2025-07",
          "2025-08",
          "2025-09"
         ],
         "y": {
          "bdata": "0Ni7HRDkjizggn8nlFStRuDSsyoAPNwtuLqiMEhP4CgAleIt",
          "dtype": "i4"
         }
        }
       ],
       "layout": {
        "template": {
         "data": {
          "bar": [
           {
            "error_x": {
             "color": "#2a3f5f"
            },
            "error_y": {
             "color": "#2a3f5f"
            },
            "marker": {
             "line": {
              "color": "#E5ECF6",
              "width": 0.5
             },
             "pattern": {
              "fillmode": "overlay",
              "size": 10,
              "solidity": 0.2
             }
            },
            "type": "bar"
           }
          ],
          "barpolar": [
           {
            "marker": {
             "line": {
              "color": "#E5ECF6",
              "width": 0.5
             },
             "pattern": {
              "fillmode": "overlay",
              "size": 10,
              "solidity": 0.2
             }
            },
            "type": "barpolar"
           }
          ],
          "carpet": [
           {
            "aaxis": {
             "endlinecolor": "#2a3f5f",
             "gridcolor": "white",
             "linecolor": "white",
             "minorgridcolor": "white",
             "startlinecolor": "#2a3f5f"
            },
            "baxis": {
             "endlinecolor": "#2a3f5f",
             "gridcolor": "white",
             "linecolor": "white",
             "minorgridcolor": "white",
             "startlinecolor": "#2a3f5f"
            },
            "type": "carpet"
           }
          ],
          "choropleth": [
           {
            "colorbar": {
             "outlinewidth": 0,
             "ticks": ""
            },
            "type": "choropleth"
           }
          ],
          "contour": [
           {
            "colorbar": {
             "outlinewidth": 0,
             "ticks": ""
            },
            "colorscale": [
             [
              0,
              "#0d0887"
             ],
             [
              0.1111111111111111,
              "#46039f"
             ],
             [
              0.2222222222222222,
              "#7201a8"
             ],
             [
              0.3333333333333333,
              "#9c179e"
             ],
             [
              0.4444444444444444,
              "#bd3786"
             ],
             [
              0.5555555555555556,
              "#d8576b"
             ],
             [
              0.6666666666666666,
              "#ed7953"
             ],
             [
              0.7777777777777778,
              "#fb9f3a"
             ],
             [
              0.8888888888888888,
              "#fdca26"
             ],
             [
              1,
              "#f0f921"
             ]
            ],
            "type": "contour"
           }
          ],
          "contourcarpet": [
           {
            "colorbar": {
             "outlinewidth": 0,
             "ticks": ""
            },
            "type": "contourcarpet"
           }
          ],
          "heatmap": [
           {
            "colorbar": {
             "outlinewidth": 0,
             "ticks": ""
            },
            "colorscale": [
             [
              0,
              "#0d0887"
             ],
             [
              0.1111111111111111,
              "#46039f"
             ],
             [
              0.2222222222222222,
              "#7201a8"
             ],
             [
              0.3333333333333333,
              "#9c179e"
             ],
             [
              0.4444444444444444,
              "#bd3786"
             ],
             [
              0.5555555555555556,
              "#d8576b"
             ],
             [
              0.6666666666666666,
              "#ed7953"
             ],
             [
              0.7777777777777778,
              "#fb9f3a"
             ],
             [
              0.8888888888888888,
              "#fdca26"
             ],
             [
              1,
              "#f0f921"
             ]
            ],
            "type": "heatmap"
           }
          ],
          "histogram": [
           {
            "marker": {
             "pattern": {
              "fillmode": "overlay",
              "size": 10,
              "solidity": 0.2
             }
            },
            "type": "histogram"
           }
          ],
          "histogram2d": [
           {
            "colorbar": {
             "outlinewidth": 0,
             "ticks": ""
            },
            "colorscale": [
             [
              0,
              "#0d0887"
             ],
             [
              0.1111111111111111,
              "#46039f"
             ],
             [
              0.2222222222222222,
              "#7201a8"
             ],
             [
              0.3333333333333333,
              "#9c179e"
             ],
             [
              0.4444444444444444,
              "#bd3786"
             ],
             [
              0.5555555555555556,
              "#d8576b"
             ],
             [
              0.6666666666666666,
              "#ed7953"
             ],
             [
              0.7777777777777778,
              "#fb9f3a"
             ],
             [
              0.8888888888888888,
              "#fdca26"
             ],
             [
              1,
              "#f0f921"
             ]
            ],
            "type": "histogram2d"
           }
          ],
          "histogram2dcontour": [
           {
            "colorbar": {
             "outlinewidth": 0,
             "ticks": ""
            },
            "colorscale": [
             [
              0,
              "#0d0887"
             ],
             [
              0.1111111111111111,
              "#46039f"
             ],
             [
              0.2222222222222222,
              "#7201a8"
             ],
             [
              0.3333333333333333,
              "#9c179e"
             ],
             [
              0.4444444444444444,
              "#bd3786"
             ],
             [
              0.5555555555555556,
              "#d8576b"
             ],
             [
              0.6666666666666666,
              "#ed7953"
             ],
             [
              0.7777777777777778,
              "#fb9f3a"
             ],
             [
              0.8888888888888888,
              "#fdca26"
             ],
             [
              1,
              "#f0f921"
             ]
            ],
            "type": "histogram2dcontour"
           }
          ],
          "mesh3d": [
           {
            "colorbar": {
             "outlinewidth": 0,
             "ticks": ""
            },
            "type": "mesh3d"
           }
          ],
          "parcoords": [
           {
            "line": {
             "colorbar": {
              "outlinewidth": 0,
              "ticks": ""
             }
            },
            "type": "parcoords"
           }
          ],
          "pie": [
           {
            "automargin": true,
            "type": "pie"
           }
          ],
          "scatter": [
           {
            "fillpattern": {
             "fillmode": "overlay",
             "size": 10,
             "solidity": 0.2
            },
            "type": "scatter"
           }
          ],
          "scatter3d": [
           {
            "line": {
             "colorbar": {
              "outlinewidth": 0,
              "ticks": ""
             }
            },
            "marker": {
             "colorbar": {
              "outlinewidth": 0,
              "ticks": ""
             }
            },
            "type": "scatter3d"
           }
          ],
          "scattercarpet": [
           {
            "marker": {
             "colorbar": {
              "outlinewidth": 0,
              "ticks": ""
             }
            },
            "type": "scattercarpet"
           }
          ],
          "scattergeo": [
           {
            "marker": {
             "colorbar": {
              "outlinewidth": 0,
              "ticks": ""
             }
            },
            "type": "scattergeo"
           }
          ],
          "scattergl": [
           {
            "marker": {
             "colorbar": {
              "outlinewidth": 0,
              "ticks": ""
             }
            },
            "type": "scattergl"
           }
          ],
          "scattermap": [
           {
            "marker": {
             "colorbar": {
              "outlinewidth": 0,
              "ticks": ""
             }
            },
            "type": "scattermap"
           }
          ],
          "scattermapbox": [
           {
            "marker": {
             "colorbar": {
              "outlinewidth": 0,
              "ticks": ""
             }
            },
            "type": "scattermapbox"
           }
          ],
          "scatterpolar": [
           {
            "marker": {
             "colorbar": {
              "outlinewidth": 0,
              "ticks": ""
             }
            },
            "type": "scatterpolar"
           }
          ],
          "scatterpolargl": [
           {
            "marker": {
             "colorbar": {
              "outlinewidth": 0,
              "ticks": ""
             }
            },
            "type": "scatterpolargl"
           }
          ],
          "scatterternary": [
           {
            "marker": {
             "colorbar": {
              "outlinewidth": 0,
              "ticks": ""
             }
            },
            "type": "scatterternary"
           }
          ],
          "surface": [
           {
            "colorbar": {
             "outlinewidth": 0,
             "ticks": ""
            },
            "colorscale": [
             [
              0,
              "#0d0887"
             ],
             [
              0.1111111111111111,
              "#46039f"
             ],
             [
              0.2222222222222222,
              "#7201a8"
             ],
             [
              0.3333333333333333,
              "#9c179e"
             ],
             [
              0.4444444444444444,
              "#bd3786"
             ],
             [
              0.5555555555555556,
              "#d8576b"
             ],
             [
              0.6666666666666666,
              "#ed7953"
             ],
             [
              0.7777777777777778,
              "#fb9f3a"
             ],
             [
              0.8888888888888888,
              "#fdca26"
             ],
             [
              1,
              "#f0f921"
             ]
            ],
            "type": "surface"
           }
          ],
          "table": [
           {
            "cells": {
             "fill": {
              "color": "#EBF0F8"
             },
             "line": {
              "color": "white"
             }
            },
            "header": {
             "fill": {
              "color": "#C8D4E3"
             },
             "line": {
              "color": "white"
             }
            },
            "type": "table"
           }
          ]
         },
         "layout": {
          "annotationdefaults": {
           "arrowcolor": "#2a3f5f",
           "arrowhead": 0,
           "arrowwidth": 1
          },
          "autotypenumbers": "strict",
          "coloraxis": {
           "colorbar": {
            "outlinewidth": 0,
            "ticks": ""
           }
          },
          "colorscale": {
           "diverging": [
            [
             0,
             "#8e0152"
            ],
            [
             0.1,
             "#c51b7d"
            ],
            [
             0.2,
             "#de77ae"
            ],
            [
             0.3,
             "#f1b6da"
            ],
            [
             0.4,
             "#fde0ef"
            ],
            [
             0.5,
             "#f7f7f7"
            ],
            [
             0.6,
             "#e6f5d0"
            ],
            [
             0.7,
             "#b8e186"
            ],
            [
             0.8,
             "#7fbc41"
            ],
            [
             0.9,
             "#4d9221"
            ],
            [
             1,
             "#276419"
            ]
           ],
           "sequential": [
            [
             0,
             "#0d0887"
            ],
            [
             0.1111111111111111,
             "#46039f"
            ],
            [
             0.2222222222222222,
             "#7201a8"
            ],
            [
             0.3333333333333333,
             "#9c179e"
            ],
            [
             0.4444444444444444,
             "#bd3786"
            ],
            [
             0.5555555555555556,
             "#d8576b"
            ],
            [
             0.6666666666666666,
             "#ed7953"
            ],
            [
             0.7777777777777778,
             "#fb9f3a"
            ],
            [
             0.8888888888888888,
             "#fdca26"
            ],
            [
             1,
             "#f0f921"
            ]
           ],
           "sequentialminus": [
            [
             0,
             "#0d0887"
            ],
            [
             0.1111111111111111,
             "#46039f"
            ],
            [
             0.2222222222222222,
             "#7201a8"
            ],
            [
             0.3333333333333333,
             "#9c179e"
            ],
            [
             0.4444444444444444,
             "#bd3786"
            ],
            [
             0.5555555555555556,
             "#d8576b"
            ],
            [
             0.6666666666666666,
             "#ed7953"
            ],
            [
             0.7777777777777778,
             "#fb9f3a"
            ],
            [
             0.8888888888888888,
             "#fdca26"
            ],
            [
             1,
             "#f0f921"
            ]
           ]
          },
          "colorway": [
           "#636efa",
           "#EF553B",
           "#00cc96",
           "#ab63fa",
           "#FFA15A",
           "#19d3f3",
           "#FF6692",
           "#B6E880",
           "#FF97FF",
           "#FECB52"
          ],
          "font": {
           "color": "#2a3f5f"
          },
          "geo": {
           "bgcolor": "white",
           "lakecolor": "white",
           "landcolor": "#E5ECF6",
           "showlakes": true,
           "showland": true,
           "subunitcolor": "white"
          },
          "hoverlabel": {
           "align": "left"
          },
          "hovermode": "closest",
          "mapbox": {
           "style": "light"
          },
          "paper_bgcolor": "white",
          "plot_bgcolor": "#E5ECF6",
          "polar": {
           "angularaxis": {
            "gridcolor": "white",
            "linecolor": "white",
            "ticks": ""
           },
           "bgcolor": "#E5ECF6",
           "radialaxis": {
            "gridcolor": "white",
            "linecolor": "white",
            "ticks": ""
           }
          },
          "scene": {
           "xaxis": {
            "backgroundcolor": "#E5ECF6",
            "gridcolor": "white",
            "gridwidth": 2,
            "linecolor": "white",
            "showbackground": true,
            "ticks": "",
            "zerolinecolor": "white"
           },
           "yaxis": {
            "backgroundcolor": "#E5ECF6",
            "gridcolor": "white",
            "gridwidth": 2,
            "linecolor": "white",
            "showbackground": true,
            "ticks": "",
            "zerolinecolor": "white"
           },
           "zaxis": {
            "backgroundcolor": "#E5ECF6",
            "gridcolor": "white",
            "gridwidth": 2,
            "linecolor": "white",
            "showbackground": true,
            "ticks": "",
            "zerolinecolor": "white"
           }
          },
          "shapedefaults": {
           "line": {
            "color": "#2a3f5f"
           }
          },
          "ternary": {
           "aaxis": {
            "gridcolor": "white",
            "linecolor": "white",
            "ticks": ""
           },
           "baxis": {
            "gridcolor": "white",
            "linecolor": "white",
            "ticks": ""
           },
           "bgcolor": "#E5ECF6",
           "caxis": {
            "gridcolor": "white",
            "linecolor": "white",
            "ticks": ""
           }
          },
          "title": {
           "x": 0.05
          },
          "xaxis": {
           "automargin": true,
           "gridcolor": "white",
           "linecolor": "white",
           "ticks": "",
           "title": {
            "standoff": 15
           },
           "zerolinecolor": "white",
           "zerolinewidth": 2
          },
          "yaxis": {
           "automargin": true,
           "gridcolor": "white",
           "linecolor": "white",
           "ticks": "",
           "title": {
            "standoff": 15
           },
           "zerolinecolor": "white",
           "zerolinewidth": 2
          }
         }
        },
        "title": {
         "text": "라인 그래프"
        },
        "xaxis": {
         "tickangle": 45,
         "tickmode": "linear",
         "title": {
          "text": "op_year_week"
         },
         "type": "category"
        },
        "yaxis": {
         "title": {
          "text": "주차별 sum"
         }
        }
       }
      }
     },
     "metadata": {},
     "output_type": "display_data"
    }
   ],
   "source": [
    "x_list = ['op_year_week']\n",
    "instance.line_graph(df,x_list,agg=\"sum\")"
   ]
  },
  {
   "cell_type": "code",
   "execution_count": 10,
   "metadata": {},
   "outputs": [
    {
     "name": "stdout",
     "output_type": "stream",
     "text": [
      "{'__module__': 'graph', '__init__': <function Graph.__init__ at 0x10b9ff250>, 'line_graph': <function Graph.line_graph at 0x10b9ff2e0>, 'bar_graph': <function Graph.bar_graph at 0x10b9ff370>, 'scatter_graph': <function Graph.scatter_graph at 0x10b9ff400>, 'histogram_graph': <function Graph.histogram_graph at 0x10b9ff490>, 'pie_graph': <function Graph.pie_graph at 0x10b9ff520>, 'line_graph_date': <function Graph.line_graph_date at 0x10b9ff5b0>, 'heatmap_graph': <function Graph.heatmap_graph at 0x10b9ff640>, '__dict__': <attribute '__dict__' of 'Graph' objects>, '__weakref__': <attribute '__weakref__' of 'Graph' objects>, '__doc__': None}\n"
     ]
    }
   ],
   "source": [
    "print(Graph.__dict__)"
   ]
  },
  {
   "cell_type": "code",
   "execution_count": 11,
   "metadata": {},
   "outputs": [],
   "source": [
    "x = 'operation'\n",
    "y ='cust_num'"
   ]
  },
  {
   "cell_type": "code",
   "execution_count": 12,
   "metadata": {},
   "outputs": [
    {
     "data": {
      "application/vnd.plotly.v1+json": {
       "config": {
        "plotlyServerURL": "https://plot.ly"
       },
       "data": [
        {
         "name": "히스토그램 데이터",
         "nbinsx": 30,
         "showlegend": true,
         "type": "histogram",
         "x": [
          "토릭 렌즈삽입술",
          "스마일",
          "스마일",
          "스마일",
          "스마일",
          "스마일",
          "커스텀 라섹",
          "스마일 프로",
          "스마일",
          "커스텀 라섹",
          "스마일",
          "스마일",
          "스마일",
          "스마일 프로",
          "스마일",
          "스마일",
          "스마일",
          "라섹",
          "스마일",
          "스마일",
          "스마일",
          "스마일",
          "스마일",
          "스마일",
          "라섹",
          "스마일",
          "스마일",
          "스마일",
          "라섹",
          "스마일 프로",
          "스마일 프로",
          "스마일",
          "스마일",
          "스마일",
          "스마일",
          "라섹",
          "렌즈삽입술",
          "스마일",
          "스마일",
          "스마일",
          "스마일",
          "스마일",
          "스마일 프로",
          "스마일",
          "스마일",
          "스마일",
          "스마일",
          "스마일",
          "스마일",
          "스마일",
          "스마일 프로",
          "스마일",
          "스마일",
          "스마일",
          "스마일",
          "스마일 프로",
          "스마일",
          "스마일",
          "라섹",
          "스마일",
          "라섹",
          "스마일",
          "토릭 렌즈삽입술",
          "스마일 프로",
          "라식",
          "스마일",
          "스마일 프로",
          "스마일",
          "라섹",
          "스마일",
          "토릭 렌즈삽입술",
          "라섹",
          "라섹",
          "커스텀 라섹",
          "커스텀 라식",
          "커스텀 라식",
          "스마일",
          "스마일 프로",
          "라섹",
          "스마일",
          "토릭 렌즈삽입술",
          "토릭 렌즈삽입술",
          "스마일",
          "라섹",
          "스마일",
          "스마일",
          "라섹",
          "스마일",
          "스마일",
          "스마일 프로",
          "토릭 렌즈삽입술",
          "토릭 렌즈삽입술",
          "스마일",
          "토릭 렌즈삽입술",
          "라섹",
          "스마일 프로",
          "라섹",
          "라식",
          "커스텀 라식",
          "스마일",
          "스마일",
          "라섹",
          "스마일 프로",
          "스마일",
          "라섹",
          "스마일",
          "스마일",
          "스마일",
          "라섹",
          "스마일",
          "스마일",
          "스마일 프로",
          "스마일",
          "스마일",
          "스마일",
          "스마일",
          "스마일",
          "스마일",
          "스마일",
          "스마일",
          "라섹",
          "스마일",
          "스마일",
          "스마일",
          "스마일 프로",
          "스마일",
          "스마일",
          "스마일 프로",
          "스마일 프로",
          "스마일 프로",
          "스마일",
          "커스텀 라식",
          "스마일",
          "라식",
          "라섹",
          "스마일",
          "스마일",
          "스마일 프로",
          "스마일 프로",
          "스마일",
          "토릭 렌즈삽입술",
          "렌즈삽입술",
          "스마일",
          "스마일",
          "스마일",
          "스마일 프로",
          "스마일",
          "스마일",
          "스마일",
          "스마일",
          "스마일",
          "스마일",
          "스마일 프로",
          "스마일",
          "라섹",
          "스마일",
          "스마일",
          "토릭 렌즈삽입술",
          "스마일",
          "스마일 프로",
          "토릭 렌즈삽입술",
          "스마일",
          "스마일",
          "스마일",
          "스마일",
          "스마일 프로",
          "스마일",
          "스마일 프로",
          "스마일",
          "라섹",
          "스마일",
          "스마일",
          "스마일 프로",
          "스마일",
          "스마일 프로",
          "스마일 프로",
          "스마일",
          "스마일",
          "렌즈삽입술",
          "라섹",
          "스마일",
          "스마일",
          "스마일",
          "렌즈삽입술",
          "렌즈삽입술",
          "라섹",
          "스마일 프로",
          "라섹",
          "스마일",
          "토릭 렌즈삽입술",
          "라섹",
          "스마일",
          "스마일",
          "토릭 렌즈삽입술",
          "스마일 프로",
          "라섹",
          "커스텀 라식",
          "스마일",
          "스마일 프로",
          "스마일 프로",
          "스마일",
          "라섹",
          "스마일",
          "스마일",
          "라섹",
          "스마일",
          "토릭 렌즈삽입술",
          "스마일",
          "스마일",
          "스마일",
          "스마일",
          "스마일",
          "커스텀 라섹",
          "스마일 프로",
          "라섹",
          "라섹",
          "스마일 프로",
          "스마일 프로",
          "스마일 프로",
          "스마일",
          "스마일",
          "스마일",
          "스마일",
          "커스텀 라식",
          "커스텀 라섹",
          "스마일 프로",
          "토릭 렌즈삽입술",
          "토릭 렌즈삽입술",
          "스마일",
          "스마일",
          "스마일",
          "렌즈삽입술",
          "스마일",
          "스마일 프로",
          "라섹",
          "라식",
          "스마일",
          "라섹",
          "스마일 프로",
          "토릭 렌즈삽입술",
          "라섹",
          "토릭 렌즈삽입술",
          "라식",
          "라섹",
          "스마일 프로",
          "스마일",
          "스마일",
          "스마일",
          "스마일",
          "스마일",
          "라식",
          "스마일 프로",
          "스마일",
          "라섹",
          "스마일",
          "스마일 프로",
          "스마일 프로",
          "라섹",
          "스마일",
          "스마일",
          "스마일",
          "스마일",
          "스마일",
          "스마일",
          "스마일",
          "토릭 렌즈삽입술",
          "토릭 렌즈삽입술",
          "스마일 프로",
          "토릭 렌즈삽입술",
          "스마일",
          "스마일 프로",
          "스마일",
          "스마일 프로",
          "스마일 프로",
          "스마일",
          "라섹",
          "스마일",
          "스마일",
          "스마일",
          "라식",
          "스마일",
          "라섹",
          "스마일",
          "스마일",
          "스마일 프로",
          "스마일",
          "스마일",
          "스마일 프로",
          "스마일",
          "라섹",
          "라섹",
          "스마일",
          "스마일",
          "스마일",
          "스마일",
          "라섹",
          "스마일",
          "라섹",
          "스마일",
          "스마일",
          "라섹",
          "스마일",
          "스마일",
          "스마일 프로",
          "스마일",
          "스마일",
          "토릭 렌즈삽입술",
          "스마일",
          "스마일",
          "커스텀 라식",
          "스마일",
          "라섹",
          "스마일",
          "스마일 프로",
          "스마일",
          "토릭 렌즈삽입술",
          "스마일",
          "라섹",
          "렌즈삽입술",
          "라섹",
          "스마일",
          "스마일",
          "토릭 렌즈삽입술",
          "스마일",
          "스마일",
          "스마일",
          "스마일 프로",
          "스마일",
          "스마일",
          "스마일",
          "스마일",
          "스마일 프로",
          "스마일",
          "렌즈삽입술",
          "렌즈삽입술",
          "스마일",
          "스마일 프로",
          "스마일",
          "스마일",
          "스마일 프로",
          "스마일",
          "렌즈삽입술",
          "스마일",
          "스마일 프로",
          "커스텀 라식",
          "스마일",
          "스마일",
          "스마일",
          "스마일",
          "스마일",
          "스마일 프로",
          "스마일",
          "스마일",
          "스마일 프로",
          "스마일 프로",
          "스마일 프로",
          "라섹",
          "스마일",
          "스마일",
          "라섹",
          "라식",
          "라섹",
          "스마일 프로",
          "라식",
          "스마일",
          "스마일",
          "스마일",
          "토릭 렌즈삽입술",
          "라섹",
          "스마일",
          "스마일",
          "스마일",
          "스마일",
          "라섹",
          "스마일",
          "커스텀 라섹",
          "라섹",
          "라섹",
          "라섹",
          "스마일",
          "스마일",
          "스마일",
          "커스텀 라섹",
          "스마일",
          "스마일 프로",
          "스마일",
          "커스텀 라식",
          "스마일",
          "스마일",
          "토릭 렌즈삽입술",
          "스마일 프로",
          "렌즈삽입술",
          "렌즈삽입술",
          "라식",
          "스마일",
          "스마일",
          "퍼스널 라식",
          "스마일",
          "스마일",
          "토릭 렌즈삽입술",
          "스마일",
          "스마일",
          "스마일",
          "라식",
          "토릭 렌즈삽입술",
          "스마일",
          "스마일",
          "스마일",
          "스마일",
          "토릭 렌즈삽입술",
          "스마일",
          "스마일",
          "스마일",
          "스마일",
          "스마일",
          "스마일",
          "스마일",
          "스마일",
          "스마일",
          "스마일",
          "커스텀 라식",
          "스마일 프로",
          "스마일",
          "스마일",
          "스마일",
          "커스텀 라섹",
          "스마일",
          "렌즈삽입술",
          "스마일",
          "스마일",
          "스마일",
          "스마일",
          "스마일",
          "스마일",
          "토릭 렌즈삽입술",
          "스마일",
          "커스텀 라섹",
          "스마일",
          "토릭 렌즈삽입술",
          "스마일 프로",
          "스마일",
          "스마일",
          "스마일",
          "스마일 프로",
          "스마일",
          "스마일",
          "스마일",
          "스마일",
          "스마일 프로",
          "라섹",
          "스마일",
          "스마일 프로",
          "스마일 프로",
          "스마일 프로",
          "스마일 프로",
          "스마일 프로",
          "스마일 프로",
          "스마일",
          "스마일",
          "스마일",
          "토릭 렌즈삽입술",
          "라섹",
          "라섹",
          "스마일",
          "라식",
          "라섹",
          "스마일",
          "스마일",
          "스마일 프로",
          "라식",
          "스마일",
          "스마일",
          "커스텀 라식",
          "라섹",
          "라섹",
          "스마일",
          "커스텀 라식",
          "스마일",
          "스마일",
          "스마일 프로",
          "토릭 렌즈삽입술",
          "라섹",
          "스마일",
          "스마일 프로",
          "스마일",
          "라섹",
          "스마일",
          "스마일",
          "스마일",
          "커스텀 라식",
          "스마일",
          "스마일",
          "스마일",
          "스마일",
          "렌즈삽입술",
          "스마일",
          "스마일 프로",
          "커스텀 라섹",
          "스마일",
          "라섹",
          "스마일",
          "라섹",
          "스마일",
          "라섹",
          "스마일",
          "토릭 렌즈삽입술",
          "커스텀 라섹",
          "스마일 프로",
          "스마일 프로",
          "라섹",
          "토릭 렌즈삽입술",
          "스마일",
          "스마일 프로",
          "스마일",
          "스마일",
          "스마일",
          "스마일",
          "스마일",
          "스마일 프로",
          "라섹",
          "스마일",
          "스마일",
          "커스텀 라섹",
          "스마일",
          "스마일",
          "스마일",
          "스마일",
          "스마일",
          "라섹",
          "스마일",
          "스마일 프로",
          "토릭 렌즈삽입술",
          "스마일 프로",
          "스마일",
          "스마일",
          "라섹",
          "스마일",
          "스마일",
          "라섹",
          "스마일",
          "스마일",
          "스마일 프로",
          "토릭 렌즈삽입술",
          "스마일",
          "커스텀 라식",
          "스마일",
          "라식",
          "스마일 프로",
          "스마일",
          "스마일",
          "스마일",
          "스마일",
          "라섹",
          "스마일",
          "라섹",
          "스마일",
          "스마일",
          "커스텀 라섹",
          "스마일 프로",
          "스마일 프로",
          "라섹",
          "토릭 렌즈삽입술",
          "스마일",
          "스마일 프로",
          "스마일",
          "커스텀 라섹",
          "라식",
          "토릭 렌즈삽입술",
          "토릭 렌즈삽입술",
          "스마일 프로",
          "스마일",
          "스마일 프로",
          "스마일",
          "라식",
          "스마일",
          "스마일",
          "스마일",
          "라식",
          "스마일",
          "스마일",
          "커스텀 라섹",
          "스마일 프로",
          "스마일",
          "스마일",
          "커스텀 라식",
          "토릭 렌즈삽입술",
          "라섹",
          "라식",
          "스마일",
          "스마일",
          "스마일",
          "라섹",
          "토릭 렌즈삽입술",
          "스마일",
          "라섹",
          "라섹",
          "라섹",
          "스마일",
          "스마일 프로",
          "스마일",
          "스마일",
          "라섹",
          "스마일",
          "토릭 렌즈삽입술",
          "스마일 프로",
          "스마일 프로",
          "스마일 프로",
          "스마일",
          "스마일",
          "스마일 프로",
          "스마일 프로",
          "스마일",
          "스마일",
          "스마일",
          "스마일",
          "스마일",
          "스마일",
          "스마일 프로",
          "스마일",
          "스마일",
          "스마일",
          "스마일",
          "스마일",
          "스마일",
          "스마일",
          "스마일",
          "스마일",
          "렌즈삽입술",
          "라섹",
          "스마일",
          "스마일",
          "커스텀 라식",
          "스마일 프로",
          "스마일",
          "라섹",
          "라섹",
          "스마일",
          "퍼스널 라식",
          "라섹",
          "스마일",
          "토릭 렌즈삽입술",
          "스마일",
          "스마일",
          "스마일 프로",
          "스마일 프로",
          "스마일",
          "스마일",
          "스마일",
          "라식",
          "스마일",
          "스마일",
          "렌즈삽입술",
          "커스텀 라섹",
          "스마일",
          "토릭 렌즈삽입술",
          "스마일 프로",
          "토릭 렌즈삽입술",
          "토릭 렌즈삽입술",
          "스마일",
          "스마일",
          "스마일",
          "스마일",
          "스마일 프로",
          "스마일",
          "스마일",
          "커스텀 라식",
          "스마일",
          "라식",
          "커스텀 라식",
          "스마일 프로",
          "토릭 렌즈삽입술",
          "토릭 렌즈삽입술",
          "스마일",
          "스마일",
          "스마일",
          "스마일",
          "스마일",
          "스마일",
          "라섹",
          "스마일",
          "토릭 렌즈삽입술",
          "스마일",
          "스마일",
          "스마일",
          "스마일",
          "스마일",
          "렌즈삽입술",
          "커스텀 라섹",
          "스마일",
          "라식",
          "스마일",
          "스마일 프로",
          "스마일",
          "스마일",
          "토릭 렌즈삽입술",
          "커스텀 라섹",
          "스마일 프로",
          "라식",
          "토릭 렌즈삽입술",
          "토릭 렌즈삽입술",
          "스마일",
          "스마일",
          "스마일",
          "스마일",
          "스마일 프로",
          "스마일",
          "스마일",
          "스마일 프로",
          "토릭 렌즈삽입술",
          "라섹",
          "커스텀 라식",
          "스마일",
          "라섹",
          "커스텀 라식",
          "스마일 프로",
          "스마일",
          "라섹",
          "스마일",
          "라섹",
          "스마일",
          "스마일",
          "스마일",
          "스마일 프로",
          "스마일",
          "스마일",
          "스마일",
          "스마일",
          "스마일",
          "스마일",
          "스마일",
          "토릭 렌즈삽입술",
          "커스텀 라식",
          "라식",
          "스마일",
          "스마일",
          "라섹",
          "라식",
          "라섹",
          "스마일",
          "스마일",
          "스마일 프로",
          "스마일",
          "스마일",
          "커스텀 라섹",
          "스마일",
          "커스텀 라섹",
          "라식",
          "스마일",
          "스마일 프로",
          "스마일 프로",
          "스마일",
          "스마일",
          "라섹",
          "스마일",
          "토릭 렌즈삽입술",
          "스마일",
          "토릭 렌즈삽입술",
          "라섹",
          "스마일",
          "스마일",
          "스마일",
          "스마일",
          "스마일",
          "라섹",
          "라섹",
          "커스텀 라식",
          "스마일",
          "라섹",
          "라섹",
          "스마일",
          "스마일",
          "토릭 렌즈삽입술",
          "스마일",
          "스마일",
          "스마일",
          "라섹",
          "스마일",
          "토릭 렌즈삽입술",
          "스마일",
          "스마일 프로",
          "라섹",
          "스마일",
          "토릭 렌즈삽입술",
          "스마일",
          "스마일",
          "라섹",
          "스마일 프로",
          "스마일 프로",
          "스마일 프로",
          "스마일",
          "스마일 프로",
          "커스텀 라섹",
          "스마일 프로",
          "스마일",
          "스마일",
          "라섹",
          "스마일",
          "라섹",
          "라식",
          "스마일",
          "스마일",
          "라섹",
          "라섹",
          "토릭 렌즈삽입술",
          "스마일",
          "라섹",
          "스마일 프로",
          "라섹",
          "라식",
          "스마일",
          "커스텀 라섹",
          "스마일",
          "스마일 프로",
          "커스텀 라섹",
          "스마일",
          "스마일",
          "토릭 렌즈삽입술",
          "스마일",
          "스마일",
          "스마일",
          "스마일",
          "스마일",
          "스마일",
          "스마일",
          "스마일",
          "라섹",
          "스마일 프로",
          "스마일",
          "스마일",
          "스마일",
          "라섹",
          "스마일 프로",
          "스마일",
          "라식",
          "스마일",
          "스마일",
          "스마일",
          "토릭 렌즈삽입술",
          "라섹",
          "스마일",
          "스마일",
          "커스텀 라섹",
          "스마일",
          "스마일",
          "라섹",
          "토릭 렌즈삽입술",
          "스마일",
          "스마일",
          "스마일",
          "스마일",
          "라섹",
          "스마일",
          "라섹",
          "스마일",
          "스마일",
          "커스텀 라식",
          "스마일",
          "라섹",
          "라섹",
          "토릭 렌즈삽입술",
          "스마일",
          "렌즈삽입술",
          "스마일",
          "스마일",
          "스마일",
          "라섹",
          "스마일",
          "스마일",
          "라섹",
          "스마일",
          "스마일",
          "스마일 프로",
          "스마일",
          "라섹",
          "스마일 프로",
          "스마일",
          "스마일",
          "스마일",
          "스마일",
          "스마일",
          "스마일",
          "스마일",
          "토릭 렌즈삽입술",
          "스마일",
          "스마일",
          "스마일 프로",
          "스마일 프로",
          "스마일 프로",
          "스마일",
          "스마일",
          "스마일 프로",
          "라섹",
          "스마일",
          "스마일",
          "스마일",
          "라섹",
          "스마일",
          "스마일",
          "스마일 프로",
          "스마일",
          "스마일",
          "스마일",
          "스마일",
          "스마일 프로",
          "라섹",
          "스마일",
          "스마일",
          "커스텀 라섹",
          "스마일",
          "스마일 프로",
          "스마일",
          "스마일",
          "스마일",
          "라식",
          "스마일",
          "스마일",
          "스마일 프로",
          "스마일",
          "스마일",
          "라섹",
          "라섹",
          "스마일",
          "스마일",
          "스마일 프로",
          "스마일",
          "스마일",
          "스마일",
          "토릭 렌즈삽입술",
          "라식",
          "스마일",
          "커스텀 라섹",
          "커스텀 라식",
          "스마일 프로",
          "스마일",
          "스마일",
          "커스텀 라섹",
          "라섹",
          "스마일",
          "스마일 프로",
          "스마일",
          "커스텀 라식",
          "토릭 렌즈삽입술",
          "스마일",
          "스마일",
          "라섹",
          "스마일",
          "스마일",
          "라섹",
          "스마일",
          "토릭 렌즈삽입술",
          "스마일",
          "스마일 프로",
          "스마일 프로",
          "스마일 프로",
          "커스텀 라섹",
          "커스텀 라섹",
          "스마일",
          "스마일",
          "커스텀 라섹",
          "스마일",
          "스마일",
          "스마일",
          "토릭 렌즈삽입술",
          "스마일",
          "스마일",
          "토릭 렌즈삽입술",
          "라섹",
          "스마일",
          "라섹",
          "스마일",
          "스마일",
          "스마일",
          "커스텀 라섹",
          "스마일",
          "스마일 프로",
          "라섹",
          "라섹",
          "스마일",
          "스마일",
          "스마일",
          "렌즈삽입술",
          "커스텀 라식",
          "라식",
          "라섹",
          "스마일",
          "스마일",
          "스마일",
          "스마일",
          "커스텀 라식",
          "라섹",
          "스마일",
          "스마일 프로",
          "스마일",
          "스마일",
          "스마일",
          "스마일 프로",
          "스마일",
          "스마일",
          "스마일",
          "스마일",
          "스마일 프로",
          "스마일",
          "커스텀 라섹",
          "스마일 프로",
          "스마일",
          "스마일",
          "토릭 렌즈삽입술",
          "커스텀 라섹",
          "스마일",
          "스마일",
          "라섹",
          "스마일",
          "토릭 렌즈삽입술",
          "커스텀 라섹",
          "커스텀 라식",
          "스마일",
          "스마일 프로",
          "스마일",
          "커스텀 라식",
          "커스텀 라섹",
          "스마일",
          "스마일",
          "스마일",
          "렌즈삽입술",
          "커스텀 라식",
          "라섹",
          "스마일",
          "라섹",
          "스마일 프로",
          "스마일",
          "스마일",
          "라섹",
          "스마일 프로",
          "스마일",
          "라섹",
          "스마일",
          "스마일",
          "라식",
          "라섹",
          "렌즈삽입술",
          "스마일",
          "스마일",
          "라섹",
          "스마일",
          "라식",
          "스마일",
          "스마일 프로",
          "스마일",
          "스마일",
          "스마일 프로",
          "스마일",
          "스마일",
          "라섹",
          "라섹",
          "스마일",
          "스마일",
          "스마일",
          "스마일 프로",
          "스마일",
          "스마일",
          "커스텀 라식",
          "커스텀 라섹",
          "스마일",
          "스마일",
          "스마일 프로",
          "스마일 프로",
          "스마일",
          "라섹",
          "스마일 프로",
          "렌즈삽입술",
          "스마일",
          "스마일",
          "렌즈삽입술",
          "스마일",
          "라섹",
          "스마일",
          "라섹",
          "라섹",
          "스마일",
          "라섹",
          "스마일",
          "스마일",
          "커스텀 라섹",
          "스마일",
          "라섹",
          "스마일",
          "스마일",
          "라섹",
          "스마일 프로",
          "라섹",
          "스마일",
          "라섹",
          "커스텀 라식",
          "스마일",
          "스마일",
          "커스텀 라식",
          "라섹",
          "스마일",
          "라식",
          "스마일",
          "스마일",
          "스마일",
          "토릭 렌즈삽입술",
          "스마일",
          "스마일",
          "스마일",
          "스마일",
          "스마일",
          "스마일",
          "라섹",
          "스마일",
          "스마일",
          "스마일",
          "스마일",
          "토릭 렌즈삽입술",
          "커스텀 라식",
          "스마일",
          "스마일",
          "스마일",
          "라섹",
          "스마일",
          "스마일",
          "스마일",
          "스마일 프로",
          "커스텀 라식",
          "스마일",
          "스마일",
          "스마일 프로",
          "라식",
          "스마일",
          "스마일",
          "스마일",
          "스마일 프로",
          "스마일",
          "스마일",
          "라식",
          "라섹",
          "스마일",
          "토릭 렌즈삽입술",
          "스마일 프로",
          "라섹",
          "스마일",
          "스마일 프로",
          "스마일",
          "스마일",
          "스마일 프로",
          "스마일",
          "스마일",
          "스마일",
          "커스텀 라식",
          "스마일",
          "토릭 렌즈삽입술",
          "커스텀 라섹",
          "스마일",
          "라섹",
          "라섹",
          "스마일",
          "라식",
          "커스텀 라식",
          "렌즈삽입술",
          "스마일",
          "스마일 프로",
          "스마일",
          "라섹",
          "커스텀 라섹",
          "스마일",
          "스마일",
          "스마일",
          "스마일",
          "스마일 프로",
          "스마일",
          "스마일",
          "스마일",
          "스마일",
          "스마일",
          "스마일 프로",
          "스마일",
          "스마일",
          "토릭 렌즈삽입술",
          "스마일",
          "스마일",
          "스마일",
          "스마일",
          "스마일 프로",
          "스마일",
          "커스텀 라식",
          "스마일",
          "스마일",
          "커스텀 라식",
          "커스텀 라섹",
          "라섹",
          "스마일",
          "라섹",
          "스마일 프로",
          "스마일",
          "라섹",
          "스마일 프로",
          "스마일",
          "스마일",
          "라섹",
          "스마일",
          "스마일",
          "스마일",
          "스마일",
          "라섹",
          "라섹",
          "스마일",
          "스마일",
          "라섹",
          "스마일",
          "스마일",
          "라섹",
          "스마일",
          "스마일",
          "렌즈삽입술",
          "스마일",
          "스마일",
          "스마일",
          "스마일 프로",
          "렌즈삽입술",
          "라섹",
          "스마일 프로",
          "스마일",
          "토릭 렌즈삽입술",
          "스마일",
          "렌즈삽입술",
          "라섹",
          "라식",
          "스마일",
          "스마일",
          "스마일",
          "스마일",
          "스마일",
          "스마일",
          "스마일",
          "커스텀 라섹",
          "스마일",
          "스마일",
          "라식",
          "라섹",
          "토릭 렌즈삽입술",
          "스마일",
          "스마일",
          "스마일 프로",
          "스마일",
          "라섹",
          "스마일",
          "스마일",
          "스마일",
          "라섹",
          "라섹",
          "스마일",
          "커스텀 라섹",
          "라섹",
          "스마일",
          "스마일",
          "스마일",
          "스마일",
          "라섹",
          "스마일 프로",
          "라섹",
          "스마일 프로",
          "스마일",
          "스마일",
          "스마일",
          "스마일 프로",
          "토릭 렌즈삽입술",
          "스마일 프로",
          "스마일",
          "스마일 프로",
          "스마일",
          "스마일",
          "스마일",
          "라섹",
          "렌즈삽입술",
          "렌즈삽입술",
          "스마일",
          "스마일",
          "스마일",
          "스마일",
          "스마일",
          "라식",
          "커스텀 라섹",
          "스마일",
          "스마일 프로",
          "스마일 프로",
          "스마일",
          "커스텀 라식",
          "스마일",
          "스마일",
          "라섹",
          "스마일",
          "스마일",
          "스마일",
          "스마일 프로",
          "스마일 프로",
          "스마일",
          "스마일",
          "스마일",
          "스마일",
          "스마일",
          "스마일",
          "라식",
          "스마일 프로",
          "라섹",
          "커스텀 라식",
          "라섹",
          "스마일 프로",
          "스마일",
          "스마일 프로",
          "스마일 프로",
          "스마일",
          "스마일",
          "스마일 프로",
          "스마일",
          "스마일 프로",
          "스마일",
          "스마일",
          "라섹",
          "스마일",
          "스마일",
          "토릭 렌즈삽입술",
          "커스텀 라식",
          "스마일",
          "스마일",
          "스마일",
          "스마일",
          "라섹",
          "스마일",
          "스마일",
          "스마일",
          "스마일",
          "커스텀 라식",
          "스마일",
          "라섹",
          "커스텀 라식",
          "스마일 프로",
          "렌즈삽입술",
          "커스텀 라섹",
          "스마일",
          "스마일",
          "스마일",
          "스마일",
          "토릭 렌즈삽입술",
          "스마일",
          "스마일",
          "커스텀 라식",
          "스마일",
          "퍼스널 라식",
          "라섹",
          "라섹",
          "커스텀 라식",
          "스마일",
          "스마일",
          "스마일",
          "라식",
          "스마일 프로",
          "라섹",
          "스마일",
          "스마일",
          "스마일",
          "라식",
          "스마일",
          "스마일 프로",
          "스마일",
          "스마일",
          "스마일",
          "스마일 프로",
          "토릭 렌즈삽입술",
          "커스텀 라섹",
          "스마일",
          "스마일",
          "스마일",
          "렌즈삽입술",
          "스마일",
          "라식",
          "토릭 렌즈삽입술",
          "스마일 프로",
          "스마일",
          "스마일",
          "스마일",
          "스마일",
          "스마일",
          "토릭 렌즈삽입술",
          "스마일",
          "토릭 렌즈삽입술",
          "라섹",
          "스마일",
          "토릭 렌즈삽입술",
          "스마일",
          "스마일",
          "스마일",
          "스마일",
          "스마일",
          "스마일",
          "커스텀 라섹",
          "스마일",
          "스마일",
          "스마일 프로",
          "스마일",
          "스마일",
          "라식",
          "스마일",
          "스마일",
          "커스텀 라식",
          "스마일",
          "스마일",
          "라식",
          "렌즈삽입술",
          "토릭 렌즈삽입술",
          "라섹",
          "라섹",
          "스마일",
          "토릭 렌즈삽입술",
          "스마일",
          "라섹",
          "토릭 렌즈삽입술",
          "스마일",
          "스마일",
          "토릭 렌즈삽입술",
          "토릭 렌즈삽입술",
          "토릭 렌즈삽입술",
          "스마일",
          "라섹",
          "토릭 렌즈삽입술",
          "스마일",
          "커스텀 라식",
          "스마일",
          "스마일 프로",
          "토릭 렌즈삽입술",
          "스마일",
          "스마일",
          "스마일",
          "라섹",
          "스마일",
          "스마일 프로",
          "스마일",
          "토릭 렌즈삽입술",
          "스마일",
          "라섹",
          "라섹",
          "스마일",
          "스마일",
          "스마일 프로",
          "스마일",
          "렌즈삽입술",
          "라식",
          "스마일 프로",
          "스마일 프로",
          "스마일",
          "스마일 프로",
          "커스텀 라섹",
          "스마일",
          "스마일",
          "스마일",
          "스마일",
          "스마일",
          "토릭 렌즈삽입술",
          "스마일",
          "스마일 프로",
          "스마일",
          "라식",
          "커스텀 라섹",
          "스마일",
          "렌즈삽입술",
          "스마일",
          "라섹",
          "스마일",
          "커스텀 라식",
          "스마일",
          "스마일",
          "라섹",
          "스마일",
          "스마일",
          "스마일 프로",
          "스마일 프로",
          "스마일",
          "라식",
          "렌즈삽입술",
          "라식",
          "스마일",
          "라섹",
          "스마일",
          "스마일",
          "토릭 렌즈삽입술",
          "스마일",
          "스마일",
          "스마일",
          "라섹",
          "스마일",
          "라섹",
          "스마일",
          "스마일",
          "토릭 렌즈삽입술",
          "스마일",
          "스마일",
          "스마일",
          "스마일 프로",
          "스마일",
          "토릭 렌즈삽입술",
          "스마일 프로",
          "라섹",
          "스마일",
          "토릭 렌즈삽입술",
          "스마일 프로",
          "스마일",
          "스마일",
          "토릭 렌즈삽입술",
          "커스텀 라섹",
          "스마일",
          "라섹",
          "스마일",
          "라섹",
          "스마일",
          "스마일",
          "스마일",
          "커스텀 라식",
          "스마일",
          "라섹",
          "커스텀 라섹",
          "렌즈삽입술",
          "스마일",
          "스마일 프로",
          "스마일",
          "스마일",
          "스마일",
          "스마일 프로",
          "스마일",
          "스마일 프로",
          "스마일 프로",
          "스마일",
          "스마일 프로",
          "커스텀 라섹",
          "스마일",
          "스마일",
          "스마일",
          "스마일",
          "라식",
          "스마일",
          "토릭 렌즈삽입술",
          "스마일",
          "라섹",
          "커스텀 라식",
          "스마일",
          "스마일",
          "스마일",
          "라식",
          "토릭 렌즈삽입술",
          "라식",
          "스마일",
          "스마일 프로",
          "스마일 프로",
          "스마일 프로",
          "스마일",
          "라섹",
          "스마일",
          "라식",
          "스마일",
          "커스텀 라섹",
          "스마일",
          "스마일",
          "라섹",
          "스마일 프로",
          "라섹",
          "스마일",
          "스마일",
          "커스텀 라식",
          "라섹",
          "스마일",
          "커스텀 라식",
          "스마일",
          "커스텀 라섹",
          "스마일 프로",
          "스마일",
          "스마일",
          "라섹",
          "커스텀 라식",
          "라섹",
          "라식",
          "라섹",
          "라섹",
          "커스텀 라식",
          "라섹",
          "스마일",
          "렌즈삽입술",
          "스마일",
          "스마일",
          "커스텀 라식",
          "라섹",
          "라섹",
          "커스텀 라섹",
          "커스텀 라섹",
          "토릭 렌즈삽입술",
          "스마일",
          "스마일",
          "스마일",
          "스마일",
          "스마일",
          "스마일",
          "스마일",
          "라식",
          "스마일",
          "스마일",
          "스마일",
          "스마일",
          "스마일",
          "토릭 렌즈삽입술",
          "커스텀 라식",
          "스마일 프로",
          "스마일",
          "스마일",
          "커스텀 라식",
          "스마일 프로",
          "스마일",
          "라섹",
          "스마일",
          "스마일",
          "스마일 프로",
          "스마일",
          "스마일",
          "토릭 렌즈삽입술",
          "스마일",
          "스마일",
          "라섹",
          "라섹",
          "커스텀 라식",
          "라섹",
          "라섹",
          "스마일",
          "스마일",
          "스마일",
          "라식",
          "커스텀 라식",
          "스마일",
          "커스텀 라섹",
          "스마일 프로",
          "라섹",
          "스마일",
          "스마일",
          "라섹",
          "스마일",
          "스마일",
          "스마일",
          "스마일",
          "렌즈삽입술",
          "스마일",
          "스마일",
          "라섹",
          "토릭 렌즈삽입술",
          "스마일 프로",
          "스마일 프로",
          "스마일",
          "라식",
          "라섹",
          "스마일",
          "라섹",
          "스마일",
          "스마일",
          "스마일",
          "라섹",
          "커스텀 라식",
          "스마일 프로",
          "스마일",
          "스마일",
          "커스텀 라식",
          "스마일",
          "렌즈삽입술",
          "스마일",
          "스마일",
          "토릭 렌즈삽입술",
          "스마일",
          "렌즈삽입술",
          "토릭 렌즈삽입술",
          "스마일",
          "렌즈삽입술",
          "토릭 렌즈삽입술",
          "스마일",
          "스마일 프로",
          "스마일",
          "스마일 프로",
          "스마일",
          "스마일 프로",
          "라섹",
          "라섹",
          "라섹",
          "스마일",
          "퍼스널 라식",
          "스마일",
          "라섹",
          "스마일",
          "토릭 렌즈삽입술",
          "라식",
          "스마일",
          "스마일 프로",
          "스마일",
          "스마일",
          "스마일",
          "스마일 프로",
          "라식",
          "스마일",
          "라섹",
          "스마일 프로",
          "토릭 렌즈삽입술",
          "스마일",
          "스마일",
          "스마일",
          "렌즈삽입술",
          "토릭 렌즈삽입술",
          "스마일 프로",
          "라섹",
          "스마일",
          "스마일",
          "라섹",
          "스마일",
          "스마일",
          "스마일",
          "스마일 프로",
          "스마일",
          "스마일",
          "스마일",
          "토릭 렌즈삽입술",
          "라섹",
          "스마일 프로",
          "스마일",
          "토릭 렌즈삽입술",
          "스마일",
          "스마일",
          "스마일",
          "라섹",
          "스마일",
          "스마일 프로",
          "라섹",
          "커스텀 라식",
          "스마일",
          "토릭 렌즈삽입술",
          "스마일 프로",
          "라섹",
          "스마일",
          "라섹",
          "스마일 프로",
          "스마일",
          "스마일",
          "커스텀 라식",
          "라섹",
          "라섹",
          "스마일",
          "스마일",
          "라섹",
          "스마일 프로",
          "스마일 프로",
          "스마일",
          "스마일",
          "스마일",
          "라섹",
          "커스텀 라식",
          "스마일",
          "라섹",
          "스마일",
          "스마일",
          "스마일",
          "스마일",
          "스마일",
          "스마일",
          "스마일",
          "스마일",
          "스마일",
          "스마일 프로",
          "스마일 프로",
          "스마일 프로",
          "스마일",
          "스마일",
          "스마일",
          "스마일",
          "스마일 프로",
          "스마일",
          "스마일",
          "스마일 프로",
          "토릭 렌즈삽입술",
          "스마일",
          "스마일",
          "스마일",
          "토릭 렌즈삽입술",
          "스마일",
          "스마일",
          "스마일",
          "라섹",
          "스마일",
          "커스텀 라섹",
          "스마일",
          "스마일",
          "스마일",
          "스마일",
          "커스텀 라식",
          "토릭 렌즈삽입술",
          "스마일",
          "스마일 프로",
          "스마일",
          "스마일",
          "스마일",
          "스마일",
          "스마일",
          "스마일",
          "스마일",
          "스마일",
          "스마일",
          "스마일",
          "스마일",
          "스마일",
          "스마일",
          "스마일 프로",
          "커스텀 라식",
          "스마일 프로",
          "스마일 프로",
          "스마일",
          "라식",
          "스마일",
          "라섹",
          "스마일 프로",
          "스마일",
          "라섹",
          "라식",
          "스마일",
          "라섹",
          "스마일",
          "스마일",
          "스마일",
          "커스텀 라식",
          "커스텀 라섹",
          "스마일",
          "스마일",
          "스마일 프로",
          "스마일",
          "라섹",
          "스마일",
          "스마일 프로",
          "렌즈삽입술",
          "라섹",
          "라식",
          "스마일",
          "스마일",
          "커스텀 라섹",
          "스마일",
          "스마일",
          "스마일",
          "라섹",
          "스마일",
          "스마일",
          "라섹",
          "라식",
          "스마일",
          "스마일",
          "스마일 프로",
          "스마일",
          "스마일",
          "스마일 프로",
          "라식",
          "스마일",
          "토릭 렌즈삽입술",
          "라섹",
          "스마일",
          "스마일",
          "스마일",
          "라섹",
          "라섹",
          "스마일",
          "커스텀 라섹",
          "스마일",
          "스마일",
          "스마일",
          "스마일",
          "스마일 프로",
          "스마일",
          "스마일",
          "스마일",
          "스마일",
          "스마일",
          "스마일",
          "스마일",
          "스마일",
          "스마일",
          "스마일",
          "커스텀 라섹",
          "커스텀 라식",
          "라섹",
          "스마일",
          "스마일",
          "스마일",
          "스마일 프로",
          "스마일",
          "커스텀 라섹",
          "커스텀 라식",
          "스마일",
          "커스텀 라섹",
          "스마일 프로",
          "스마일",
          "라식",
          "스마일 프로",
          "스마일",
          "스마일",
          "스마일 프로",
          "스마일",
          "스마일 프로",
          "스마일",
          "스마일 프로",
          "스마일",
          "라섹",
          "스마일 프로",
          "스마일",
          "스마일",
          "라식",
          "라식",
          "라섹",
          "스마일",
          "스마일 프로",
          "라섹",
          "스마일",
          "스마일",
          "커스텀 라섹",
          "토릭 렌즈삽입술",
          "스마일",
          "커스텀 라식",
          "토릭 렌즈삽입술",
          "라섹",
          "스마일",
          "스마일 프로",
          "스마일 프로",
          "토릭 렌즈삽입술",
          "스마일",
          "커스텀 라식",
          "스마일",
          "라식",
          "스마일",
          "스마일",
          "스마일",
          "스마일 프로",
          "라식",
          "커스텀 라섹",
          "라식",
          "라섹",
          "라섹",
          "라섹",
          "스마일",
          "스마일",
          "스마일",
          "라섹",
          "라섹",
          "라섹",
          "커스텀 라식",
          "스마일",
          "스마일 프로",
          "스마일",
          "라식",
          "스마일",
          "스마일",
          "스마일",
          "라섹",
          "스마일 프로",
          "스마일 프로",
          "스마일",
          "스마일",
          "스마일",
          "스마일",
          "스마일",
          "라섹",
          "스마일 프로",
          "렌즈삽입술",
          "스마일",
          "스마일",
          "스마일",
          "커스텀 라섹",
          "라섹",
          "토릭 렌즈삽입술",
          "스마일",
          "스마일 프로",
          "라섹",
          "스마일",
          "스마일",
          "스마일",
          "스마일 프로",
          "스마일",
          "스마일",
          "스마일",
          "스마일",
          "스마일",
          "스마일",
          "스마일",
          "커스텀 라식",
          "스마일",
          "스마일",
          "커스텀 라식",
          "스마일",
          "스마일",
          "스마일",
          "스마일",
          "라섹",
          "스마일 프로",
          "스마일",
          "라섹",
          "스마일",
          "스마일",
          "스마일",
          "스마일",
          "스마일",
          "스마일",
          "스마일",
          "스마일 프로",
          "스마일",
          "토릭 렌즈삽입술",
          "스마일",
          "스마일",
          "스마일",
          "라섹",
          "라섹",
          "스마일",
          "스마일",
          "스마일",
          "스마일",
          "커스텀 라식",
          "스마일",
          "라식",
          "스마일",
          "스마일",
          "스마일 프로",
          "스마일",
          "스마일",
          "커스텀 라식",
          "라식",
          "라섹",
          "라식",
          "스마일 프로",
          "스마일 프로",
          "라섹",
          "스마일",
          "라식",
          "토릭 렌즈삽입술",
          "토릭 렌즈삽입술",
          "라섹",
          "커스텀 라식",
          "스마일 프로",
          "라식",
          "스마일 프로",
          "커스텀 라식",
          "토릭 렌즈삽입술",
          "라섹",
          "스마일 프로",
          "스마일",
          "스마일",
          "스마일 프로",
          "라섹",
          "커스텀 라섹",
          "라섹",
          "커스텀 라섹",
          "스마일",
          "스마일",
          "스마일",
          "스마일 프로",
          "스마일",
          "라섹",
          "스마일",
          "스마일",
          "스마일",
          "라섹",
          "라식",
          "라섹",
          "스마일",
          "라섹",
          "스마일",
          "스마일",
          "스마일",
          "스마일",
          "스마일",
          "스마일 프로",
          "라섹",
          "스마일 프로",
          "스마일 프로",
          "토릭 렌즈삽입술",
          "스마일",
          "스마일",
          "스마일",
          "스마일",
          "스마일",
          "토릭 렌즈삽입술",
          "스마일",
          "스마일",
          "커스텀 라식",
          "스마일",
          "스마일",
          "스마일",
          "스마일 프로",
          "커스텀 라식",
          "스마일",
          "커스텀 라섹",
          "라섹",
          "스마일",
          "커스텀 라식",
          "스마일",
          "렌즈삽입술",
          "스마일",
          "스마일 프로",
          "스마일",
          "스마일",
          "스마일",
          "라섹",
          "스마일",
          "라섹",
          "스마일",
          "커스텀 라섹",
          "라섹",
          "커스텀 라식",
          "라식",
          "스마일",
          "스마일",
          "라섹",
          "커스텀 라식",
          "스마일",
          "토릭 렌즈삽입술",
          "라식",
          "라식",
          "스마일",
          "스마일",
          "라섹",
          "스마일",
          "토릭 렌즈삽입술",
          "스마일",
          "스마일",
          "스마일",
          "스마일",
          "스마일",
          "스마일",
          "스마일 프로",
          "스마일",
          "커스텀 라식",
          "스마일",
          "스마일",
          "토릭 렌즈삽입술",
          "커스텀 라식",
          "스마일",
          "스마일",
          "라섹",
          "스마일 프로",
          "스마일 프로",
          "스마일",
          "커스텀 라식",
          "스마일",
          "스마일",
          "스마일",
          "라식",
          "스마일",
          "스마일",
          "스마일",
          "라식",
          "라섹",
          "스마일",
          "커스텀 라섹",
          "스마일",
          "스마일",
          "스마일 프로",
          "토릭 렌즈삽입술",
          "라식",
          "스마일",
          "스마일",
          "커스텀 라섹",
          "토릭 렌즈삽입술",
          "커스텀 라식",
          "스마일 프로",
          "스마일",
          "스마일",
          "토릭 렌즈삽입술",
          "스마일",
          "스마일 프로",
          "렌즈삽입술",
          "스마일 프로",
          "스마일",
          "스마일 프로",
          "스마일",
          "스마일 프로",
          "라식",
          "토릭 렌즈삽입술",
          "스마일",
          "스마일",
          "토릭 렌즈삽입술",
          "스마일",
          "스마일 프로",
          "스마일",
          "스마일",
          "스마일",
          "스마일 프로",
          "스마일",
          "스마일",
          "스마일",
          "스마일",
          "스마일",
          "스마일",
          "렌즈삽입술",
          "스마일",
          "토릭 렌즈삽입술",
          "스마일",
          "스마일",
          "스마일",
          "스마일",
          "스마일",
          "커스텀 라섹",
          "스마일",
          "스마일",
          "스마일",
          "스마일",
          "토릭 렌즈삽입술",
          "렌즈삽입술",
          "커스텀 라섹",
          "스마일",
          "스마일",
          "스마일",
          "스마일",
          "스마일",
          "스마일",
          "스마일",
          "스마일",
          "스마일",
          "라섹",
          "토릭 렌즈삽입술",
          "라식",
          "스마일 프로",
          "스마일 프로",
          "스마일",
          "스마일",
          "스마일",
          "토릭 렌즈삽입술",
          "토릭 렌즈삽입술",
          "스마일",
          "라식",
          "스마일 프로",
          "스마일 프로",
          "스마일",
          "퍼스널 라식",
          "퍼스널 라식",
          "스마일 프로",
          "스마일 프로",
          "스마일",
          "스마일",
          "스마일 프로",
          "스마일",
          "스마일",
          "스마일",
          "스마일",
          "스마일",
          "스마일",
          "스마일",
          "라섹",
          "라섹",
          "스마일 프로",
          "스마일 프로",
          "스마일",
          "라섹",
          "커스텀 라섹",
          "토릭 렌즈삽입술",
          "스마일 프로",
          "스마일",
          "렌즈삽입술",
          "라식",
          "스마일",
          "스마일 프로",
          "스마일",
          "스마일",
          "토릭 렌즈삽입술",
          "스마일 프로",
          "스마일",
          "스마일",
          "스마일",
          "스마일",
          "스마일 프로",
          "스마일",
          "라식",
          "토릭 렌즈삽입술",
          "라섹",
          "토릭 렌즈삽입술",
          "커스텀 라식",
          "스마일",
          "스마일",
          "스마일 프로",
          "라식",
          "라섹",
          "스마일",
          "라식",
          "스마일",
          "라섹",
          "스마일",
          "스마일 프로",
          "스마일",
          "토릭 렌즈삽입술",
          "스마일 프로",
          "라섹",
          "스마일",
          "스마일",
          "스마일",
          "스마일",
          "스마일",
          "스마일",
          "토릭 렌즈삽입술",
          "라섹",
          "렌즈삽입술",
          "스마일",
          "스마일",
          "스마일",
          "스마일 프로",
          "라식",
          "스마일",
          "라섹",
          "스마일",
          "스마일 프로",
          "커스텀 라식",
          "스마일",
          "라섹",
          "라섹",
          "스마일",
          "커스텀 라식",
          "스마일",
          "라섹",
          "스마일 프로",
          "토릭 렌즈삽입술",
          "스마일",
          "스마일",
          "토릭 렌즈삽입술",
          "스마일",
          "스마일",
          "렌즈삽입술",
          "라식",
          "스마일 프로",
          "라섹",
          "스마일",
          "스마일 프로",
          "토릭 렌즈삽입술",
          "스마일",
          "라섹",
          "스마일 프로",
          "스마일",
          "스마일",
          "라섹",
          "스마일",
          "스마일",
          "라섹",
          "스마일",
          "스마일",
          "스마일",
          "스마일 프로",
          "커스텀 라식",
          "스마일",
          "스마일",
          "토릭 렌즈삽입술",
          "스마일",
          "스마일",
          "스마일",
          "스마일",
          "스마일",
          "스마일",
          "스마일",
          "렌즈삽입술",
          "토릭 렌즈삽입술",
          "라섹",
          "스마일",
          "스마일",
          "커스텀 라식",
          "스마일 프로",
          "스마일",
          "스마일",
          "스마일",
          "스마일 프로",
          "스마일",
          "렌즈삽입술",
          "스마일 프로",
          "스마일",
          "스마일",
          "스마일",
          "라식",
          "커스텀 라식",
          "스마일",
          "스마일",
          "커스텀 라섹",
          "스마일",
          "스마일",
          "스마일",
          "스마일",
          "스마일 프로",
          "스마일",
          "라섹",
          "스마일 프로",
          "스마일",
          "스마일 프로",
          "스마일",
          "스마일",
          "스마일",
          "스마일",
          "스마일",
          "스마일",
          "스마일",
          "스마일",
          "스마일",
          "스마일",
          "스마일",
          "스마일",
          "스마일",
          "스마일",
          "커스텀 라식",
          "스마일",
          "라식",
          "스마일",
          "라섹",
          "커스텀 라식",
          "커스텀 라섹",
          "스마일",
          "스마일",
          "스마일",
          "스마일 프로",
          "스마일",
          "스마일",
          "스마일",
          "커스텀 라식",
          "스마일",
          "스마일",
          "스마일 프로",
          "스마일",
          "스마일",
          "스마일",
          "스마일",
          "라섹",
          "스마일",
          "스마일",
          "스마일",
          "스마일",
          "라식",
          "스마일",
          "라식",
          "커스텀 라식",
          "라식",
          "스마일",
          "스마일",
          "스마일",
          "커스텀 라식",
          "스마일",
          "스마일",
          "스마일",
          "스마일",
          "스마일 프로",
          "스마일",
          "스마일",
          "스마일",
          "스마일",
          "스마일",
          "스마일",
          "스마일",
          "스마일",
          "렌즈삽입술",
          "스마일",
          "스마일",
          "스마일",
          "스마일 프로",
          "스마일",
          "커스텀 라식",
          "스마일",
          "스마일",
          "커스텀 라식",
          "스마일",
          "스마일 프로",
          "스마일",
          "커스텀 라식",
          "커스텀 라섹",
          "스마일",
          "스마일",
          "스마일",
          "스마일",
          "커스텀 라식",
          "스마일",
          "스마일",
          "스마일",
          "스마일",
          "스마일",
          "스마일",
          "라식"
         ]
        }
       ],
       "layout": {
        "template": {
         "data": {
          "bar": [
           {
            "error_x": {
             "color": "#2a3f5f"
            },
            "error_y": {
             "color": "#2a3f5f"
            },
            "marker": {
             "line": {
              "color": "#E5ECF6",
              "width": 0.5
             },
             "pattern": {
              "fillmode": "overlay",
              "size": 10,
              "solidity": 0.2
             }
            },
            "type": "bar"
           }
          ],
          "barpolar": [
           {
            "marker": {
             "line": {
              "color": "#E5ECF6",
              "width": 0.5
             },
             "pattern": {
              "fillmode": "overlay",
              "size": 10,
              "solidity": 0.2
             }
            },
            "type": "barpolar"
           }
          ],
          "carpet": [
           {
            "aaxis": {
             "endlinecolor": "#2a3f5f",
             "gridcolor": "white",
             "linecolor": "white",
             "minorgridcolor": "white",
             "startlinecolor": "#2a3f5f"
            },
            "baxis": {
             "endlinecolor": "#2a3f5f",
             "gridcolor": "white",
             "linecolor": "white",
             "minorgridcolor": "white",
             "startlinecolor": "#2a3f5f"
            },
            "type": "carpet"
           }
          ],
          "choropleth": [
           {
            "colorbar": {
             "outlinewidth": 0,
             "ticks": ""
            },
            "type": "choropleth"
           }
          ],
          "contour": [
           {
            "colorbar": {
             "outlinewidth": 0,
             "ticks": ""
            },
            "colorscale": [
             [
              0,
              "#0d0887"
             ],
             [
              0.1111111111111111,
              "#46039f"
             ],
             [
              0.2222222222222222,
              "#7201a8"
             ],
             [
              0.3333333333333333,
              "#9c179e"
             ],
             [
              0.4444444444444444,
              "#bd3786"
             ],
             [
              0.5555555555555556,
              "#d8576b"
             ],
             [
              0.6666666666666666,
              "#ed7953"
             ],
             [
              0.7777777777777778,
              "#fb9f3a"
             ],
             [
              0.8888888888888888,
              "#fdca26"
             ],
             [
              1,
              "#f0f921"
             ]
            ],
            "type": "contour"
           }
          ],
          "contourcarpet": [
           {
            "colorbar": {
             "outlinewidth": 0,
             "ticks": ""
            },
            "type": "contourcarpet"
           }
          ],
          "heatmap": [
           {
            "colorbar": {
             "outlinewidth": 0,
             "ticks": ""
            },
            "colorscale": [
             [
              0,
              "#0d0887"
             ],
             [
              0.1111111111111111,
              "#46039f"
             ],
             [
              0.2222222222222222,
              "#7201a8"
             ],
             [
              0.3333333333333333,
              "#9c179e"
             ],
             [
              0.4444444444444444,
              "#bd3786"
             ],
             [
              0.5555555555555556,
              "#d8576b"
             ],
             [
              0.6666666666666666,
              "#ed7953"
             ],
             [
              0.7777777777777778,
              "#fb9f3a"
             ],
             [
              0.8888888888888888,
              "#fdca26"
             ],
             [
              1,
              "#f0f921"
             ]
            ],
            "type": "heatmap"
           }
          ],
          "histogram": [
           {
            "marker": {
             "pattern": {
              "fillmode": "overlay",
              "size": 10,
              "solidity": 0.2
             }
            },
            "type": "histogram"
           }
          ],
          "histogram2d": [
           {
            "colorbar": {
             "outlinewidth": 0,
             "ticks": ""
            },
            "colorscale": [
             [
              0,
              "#0d0887"
             ],
             [
              0.1111111111111111,
              "#46039f"
             ],
             [
              0.2222222222222222,
              "#7201a8"
             ],
             [
              0.3333333333333333,
              "#9c179e"
             ],
             [
              0.4444444444444444,
              "#bd3786"
             ],
             [
              0.5555555555555556,
              "#d8576b"
             ],
             [
              0.6666666666666666,
              "#ed7953"
             ],
             [
              0.7777777777777778,
              "#fb9f3a"
             ],
             [
              0.8888888888888888,
              "#fdca26"
             ],
             [
              1,
              "#f0f921"
             ]
            ],
            "type": "histogram2d"
           }
          ],
          "histogram2dcontour": [
           {
            "colorbar": {
             "outlinewidth": 0,
             "ticks": ""
            },
            "colorscale": [
             [
              0,
              "#0d0887"
             ],
             [
              0.1111111111111111,
              "#46039f"
             ],
             [
              0.2222222222222222,
              "#7201a8"
             ],
             [
              0.3333333333333333,
              "#9c179e"
             ],
             [
              0.4444444444444444,
              "#bd3786"
             ],
             [
              0.5555555555555556,
              "#d8576b"
             ],
             [
              0.6666666666666666,
              "#ed7953"
             ],
             [
              0.7777777777777778,
              "#fb9f3a"
             ],
             [
              0.8888888888888888,
              "#fdca26"
             ],
             [
              1,
              "#f0f921"
             ]
            ],
            "type": "histogram2dcontour"
           }
          ],
          "mesh3d": [
           {
            "colorbar": {
             "outlinewidth": 0,
             "ticks": ""
            },
            "type": "mesh3d"
           }
          ],
          "parcoords": [
           {
            "line": {
             "colorbar": {
              "outlinewidth": 0,
              "ticks": ""
             }
            },
            "type": "parcoords"
           }
          ],
          "pie": [
           {
            "automargin": true,
            "type": "pie"
           }
          ],
          "scatter": [
           {
            "fillpattern": {
             "fillmode": "overlay",
             "size": 10,
             "solidity": 0.2
            },
            "type": "scatter"
           }
          ],
          "scatter3d": [
           {
            "line": {
             "colorbar": {
              "outlinewidth": 0,
              "ticks": ""
             }
            },
            "marker": {
             "colorbar": {
              "outlinewidth": 0,
              "ticks": ""
             }
            },
            "type": "scatter3d"
           }
          ],
          "scattercarpet": [
           {
            "marker": {
             "colorbar": {
              "outlinewidth": 0,
              "ticks": ""
             }
            },
            "type": "scattercarpet"
           }
          ],
          "scattergeo": [
           {
            "marker": {
             "colorbar": {
              "outlinewidth": 0,
              "ticks": ""
             }
            },
            "type": "scattergeo"
           }
          ],
          "scattergl": [
           {
            "marker": {
             "colorbar": {
              "outlinewidth": 0,
              "ticks": ""
             }
            },
            "type": "scattergl"
           }
          ],
          "scattermap": [
           {
            "marker": {
             "colorbar": {
              "outlinewidth": 0,
              "ticks": ""
             }
            },
            "type": "scattermap"
           }
          ],
          "scattermapbox": [
           {
            "marker": {
             "colorbar": {
              "outlinewidth": 0,
              "ticks": ""
             }
            },
            "type": "scattermapbox"
           }
          ],
          "scatterpolar": [
           {
            "marker": {
             "colorbar": {
              "outlinewidth": 0,
              "ticks": ""
             }
            },
            "type": "scatterpolar"
           }
          ],
          "scatterpolargl": [
           {
            "marker": {
             "colorbar": {
              "outlinewidth": 0,
              "ticks": ""
             }
            },
            "type": "scatterpolargl"
           }
          ],
          "scatterternary": [
           {
            "marker": {
             "colorbar": {
              "outlinewidth": 0,
              "ticks": ""
             }
            },
            "type": "scatterternary"
           }
          ],
          "surface": [
           {
            "colorbar": {
             "outlinewidth": 0,
             "ticks": ""
            },
            "colorscale": [
             [
              0,
              "#0d0887"
             ],
             [
              0.1111111111111111,
              "#46039f"
             ],
             [
              0.2222222222222222,
              "#7201a8"
             ],
             [
              0.3333333333333333,
              "#9c179e"
             ],
             [
              0.4444444444444444,
              "#bd3786"
             ],
             [
              0.5555555555555556,
              "#d8576b"
             ],
             [
              0.6666666666666666,
              "#ed7953"
             ],
             [
              0.7777777777777778,
              "#fb9f3a"
             ],
             [
              0.8888888888888888,
              "#fdca26"
             ],
             [
              1,
              "#f0f921"
             ]
            ],
            "type": "surface"
           }
          ],
          "table": [
           {
            "cells": {
             "fill": {
              "color": "#EBF0F8"
             },
             "line": {
              "color": "white"
             }
            },
            "header": {
             "fill": {
              "color": "#C8D4E3"
             },
             "line": {
              "color": "white"
             }
            },
            "type": "table"
           }
          ]
         },
         "layout": {
          "annotationdefaults": {
           "arrowcolor": "#2a3f5f",
           "arrowhead": 0,
           "arrowwidth": 1
          },
          "autotypenumbers": "strict",
          "coloraxis": {
           "colorbar": {
            "outlinewidth": 0,
            "ticks": ""
           }
          },
          "colorscale": {
           "diverging": [
            [
             0,
             "#8e0152"
            ],
            [
             0.1,
             "#c51b7d"
            ],
            [
             0.2,
             "#de77ae"
            ],
            [
             0.3,
             "#f1b6da"
            ],
            [
             0.4,
             "#fde0ef"
            ],
            [
             0.5,
             "#f7f7f7"
            ],
            [
             0.6,
             "#e6f5d0"
            ],
            [
             0.7,
             "#b8e186"
            ],
            [
             0.8,
             "#7fbc41"
            ],
            [
             0.9,
             "#4d9221"
            ],
            [
             1,
             "#276419"
            ]
           ],
           "sequential": [
            [
             0,
             "#0d0887"
            ],
            [
             0.1111111111111111,
             "#46039f"
            ],
            [
             0.2222222222222222,
             "#7201a8"
            ],
            [
             0.3333333333333333,
             "#9c179e"
            ],
            [
             0.4444444444444444,
             "#bd3786"
            ],
            [
             0.5555555555555556,
             "#d8576b"
            ],
            [
             0.6666666666666666,
             "#ed7953"
            ],
            [
             0.7777777777777778,
             "#fb9f3a"
            ],
            [
             0.8888888888888888,
             "#fdca26"
            ],
            [
             1,
             "#f0f921"
            ]
           ],
           "sequentialminus": [
            [
             0,
             "#0d0887"
            ],
            [
             0.1111111111111111,
             "#46039f"
            ],
            [
             0.2222222222222222,
             "#7201a8"
            ],
            [
             0.3333333333333333,
             "#9c179e"
            ],
            [
             0.4444444444444444,
             "#bd3786"
            ],
            [
             0.5555555555555556,
             "#d8576b"
            ],
            [
             0.6666666666666666,
             "#ed7953"
            ],
            [
             0.7777777777777778,
             "#fb9f3a"
            ],
            [
             0.8888888888888888,
             "#fdca26"
            ],
            [
             1,
             "#f0f921"
            ]
           ]
          },
          "colorway": [
           "#636efa",
           "#EF553B",
           "#00cc96",
           "#ab63fa",
           "#FFA15A",
           "#19d3f3",
           "#FF6692",
           "#B6E880",
           "#FF97FF",
           "#FECB52"
          ],
          "font": {
           "color": "#2a3f5f"
          },
          "geo": {
           "bgcolor": "white",
           "lakecolor": "white",
           "landcolor": "#E5ECF6",
           "showlakes": true,
           "showland": true,
           "subunitcolor": "white"
          },
          "hoverlabel": {
           "align": "left"
          },
          "hovermode": "closest",
          "mapbox": {
           "style": "light"
          },
          "paper_bgcolor": "white",
          "plot_bgcolor": "#E5ECF6",
          "polar": {
           "angularaxis": {
            "gridcolor": "white",
            "linecolor": "white",
            "ticks": ""
           },
           "bgcolor": "#E5ECF6",
           "radialaxis": {
            "gridcolor": "white",
            "linecolor": "white",
            "ticks": ""
           }
          },
          "scene": {
           "xaxis": {
            "backgroundcolor": "#E5ECF6",
            "gridcolor": "white",
            "gridwidth": 2,
            "linecolor": "white",
            "showbackground": true,
            "ticks": "",
            "zerolinecolor": "white"
           },
           "yaxis": {
            "backgroundcolor": "#E5ECF6",
            "gridcolor": "white",
            "gridwidth": 2,
            "linecolor": "white",
            "showbackground": true,
            "ticks": "",
            "zerolinecolor": "white"
           },
           "zaxis": {
            "backgroundcolor": "#E5ECF6",
            "gridcolor": "white",
            "gridwidth": 2,
            "linecolor": "white",
            "showbackground": true,
            "ticks": "",
            "zerolinecolor": "white"
           }
          },
          "shapedefaults": {
           "line": {
            "color": "#2a3f5f"
           }
          },
          "ternary": {
           "aaxis": {
            "gridcolor": "white",
            "linecolor": "white",
            "ticks": ""
           },
           "baxis": {
            "gridcolor": "white",
            "linecolor": "white",
            "ticks": ""
           },
           "bgcolor": "#E5ECF6",
           "caxis": {
            "gridcolor": "white",
            "linecolor": "white",
            "ticks": ""
           }
          },
          "title": {
           "x": 0.05
          },
          "xaxis": {
           "automargin": true,
           "gridcolor": "white",
           "linecolor": "white",
           "ticks": "",
           "title": {
            "standoff": 15
           },
           "zerolinecolor": "white",
           "zerolinewidth": 2
          },
          "yaxis": {
           "automargin": true,
           "gridcolor": "white",
           "linecolor": "white",
           "ticks": "",
           "title": {
            "standoff": 15
           },
           "zerolinecolor": "white",
           "zerolinewidth": 2
          }
         }
        },
        "title": {
         "text": "히스토그램"
        },
        "xaxis": {
         "title": {
          "text": "operation"
         }
        },
        "yaxis": {
         "title": {
          "text": "빈도"
         }
        }
       }
      }
     },
     "metadata": {},
     "output_type": "display_data"
    }
   ],
   "source": [
    "instance.histogram_graph(df,x,y)"
   ]
  },
  {
   "cell_type": "code",
   "execution_count": 13,
   "metadata": {},
   "outputs": [
    {
     "data": {
      "application/vnd.plotly.v1+json": {
       "config": {
        "plotlyServerURL": "https://plot.ly"
       },
       "data": [
        {
         "insidetextorientation": "radial",
         "labels": [
          "토릭 렌즈삽입술",
          "스마일",
          "스마일",
          "스마일",
          "스마일",
          "스마일",
          "커스텀 라섹",
          "스마일 프로",
          "스마일",
          "커스텀 라섹",
          "스마일",
          "스마일",
          "스마일",
          "스마일 프로",
          "스마일",
          "스마일",
          "스마일",
          "라섹",
          "스마일",
          "스마일",
          "스마일",
          "스마일",
          "스마일",
          "스마일",
          "라섹",
          "스마일",
          "스마일",
          "스마일",
          "라섹",
          "스마일 프로",
          "스마일 프로",
          "스마일",
          "스마일",
          "스마일",
          "스마일",
          "라섹",
          "렌즈삽입술",
          "스마일",
          "스마일",
          "스마일",
          "스마일",
          "스마일",
          "스마일 프로",
          "스마일",
          "스마일",
          "스마일",
          "스마일",
          "스마일",
          "스마일",
          "스마일",
          "스마일 프로",
          "스마일",
          "스마일",
          "스마일",
          "스마일",
          "스마일 프로",
          "스마일",
          "스마일",
          "라섹",
          "스마일",
          "라섹",
          "스마일",
          "토릭 렌즈삽입술",
          "스마일 프로",
          "라식",
          "스마일",
          "스마일 프로",
          "스마일",
          "라섹",
          "스마일",
          "토릭 렌즈삽입술",
          "라섹",
          "라섹",
          "커스텀 라섹",
          "커스텀 라식",
          "커스텀 라식",
          "스마일",
          "스마일 프로",
          "라섹",
          "스마일",
          "토릭 렌즈삽입술",
          "토릭 렌즈삽입술",
          "스마일",
          "라섹",
          "스마일",
          "스마일",
          "라섹",
          "스마일",
          "스마일",
          "스마일 프로",
          "토릭 렌즈삽입술",
          "토릭 렌즈삽입술",
          "스마일",
          "토릭 렌즈삽입술",
          "라섹",
          "스마일 프로",
          "라섹",
          "라식",
          "커스텀 라식",
          "스마일",
          "스마일",
          "라섹",
          "스마일 프로",
          "스마일",
          "라섹",
          "스마일",
          "스마일",
          "스마일",
          "라섹",
          "스마일",
          "스마일",
          "스마일 프로",
          "스마일",
          "스마일",
          "스마일",
          "스마일",
          "스마일",
          "스마일",
          "스마일",
          "스마일",
          "라섹",
          "스마일",
          "스마일",
          "스마일",
          "스마일 프로",
          "스마일",
          "스마일",
          "스마일 프로",
          "스마일 프로",
          "스마일 프로",
          "스마일",
          "커스텀 라식",
          "스마일",
          "라식",
          "라섹",
          "스마일",
          "스마일",
          "스마일 프로",
          "스마일 프로",
          "스마일",
          "토릭 렌즈삽입술",
          "렌즈삽입술",
          "스마일",
          "스마일",
          "스마일",
          "스마일 프로",
          "스마일",
          "스마일",
          "스마일",
          "스마일",
          "스마일",
          "스마일",
          "스마일 프로",
          "스마일",
          "라섹",
          "스마일",
          "스마일",
          "토릭 렌즈삽입술",
          "스마일",
          "스마일 프로",
          "토릭 렌즈삽입술",
          "스마일",
          "스마일",
          "스마일",
          "스마일",
          "스마일 프로",
          "스마일",
          "스마일 프로",
          "스마일",
          "라섹",
          "스마일",
          "스마일",
          "스마일 프로",
          "스마일",
          "스마일 프로",
          "스마일 프로",
          "스마일",
          "스마일",
          "렌즈삽입술",
          "라섹",
          "스마일",
          "스마일",
          "스마일",
          "렌즈삽입술",
          "렌즈삽입술",
          "라섹",
          "스마일 프로",
          "라섹",
          "스마일",
          "토릭 렌즈삽입술",
          "라섹",
          "스마일",
          "스마일",
          "토릭 렌즈삽입술",
          "스마일 프로",
          "라섹",
          "커스텀 라식",
          "스마일",
          "스마일 프로",
          "스마일 프로",
          "스마일",
          "라섹",
          "스마일",
          "스마일",
          "라섹",
          "스마일",
          "토릭 렌즈삽입술",
          "스마일",
          "스마일",
          "스마일",
          "스마일",
          "스마일",
          "커스텀 라섹",
          "스마일 프로",
          "라섹",
          "라섹",
          "스마일 프로",
          "스마일 프로",
          "스마일 프로",
          "스마일",
          "스마일",
          "스마일",
          "스마일",
          "커스텀 라식",
          "커스텀 라섹",
          "스마일 프로",
          "토릭 렌즈삽입술",
          "토릭 렌즈삽입술",
          "스마일",
          "스마일",
          "스마일",
          "렌즈삽입술",
          "스마일",
          "스마일 프로",
          "라섹",
          "라식",
          "스마일",
          "라섹",
          "스마일 프로",
          "토릭 렌즈삽입술",
          "라섹",
          "토릭 렌즈삽입술",
          "라식",
          "라섹",
          "스마일 프로",
          "스마일",
          "스마일",
          "스마일",
          "스마일",
          "스마일",
          "라식",
          "스마일 프로",
          "스마일",
          "라섹",
          "스마일",
          "스마일 프로",
          "스마일 프로",
          "라섹",
          "스마일",
          "스마일",
          "스마일",
          "스마일",
          "스마일",
          "스마일",
          "스마일",
          "토릭 렌즈삽입술",
          "토릭 렌즈삽입술",
          "스마일 프로",
          "토릭 렌즈삽입술",
          "스마일",
          "스마일 프로",
          "스마일",
          "스마일 프로",
          "스마일 프로",
          "스마일",
          "라섹",
          "스마일",
          "스마일",
          "스마일",
          "라식",
          "스마일",
          "라섹",
          "스마일",
          "스마일",
          "스마일 프로",
          "스마일",
          "스마일",
          "스마일 프로",
          "스마일",
          "라섹",
          "라섹",
          "스마일",
          "스마일",
          "스마일",
          "스마일",
          "라섹",
          "스마일",
          "라섹",
          "스마일",
          "스마일",
          "라섹",
          "스마일",
          "스마일",
          "스마일 프로",
          "스마일",
          "스마일",
          "토릭 렌즈삽입술",
          "스마일",
          "스마일",
          "커스텀 라식",
          "스마일",
          "라섹",
          "스마일",
          "스마일 프로",
          "스마일",
          "토릭 렌즈삽입술",
          "스마일",
          "라섹",
          "렌즈삽입술",
          "라섹",
          "스마일",
          "스마일",
          "토릭 렌즈삽입술",
          "스마일",
          "스마일",
          "스마일",
          "스마일 프로",
          "스마일",
          "스마일",
          "스마일",
          "스마일",
          "스마일 프로",
          "스마일",
          "렌즈삽입술",
          "렌즈삽입술",
          "스마일",
          "스마일 프로",
          "스마일",
          "스마일",
          "스마일 프로",
          "스마일",
          "렌즈삽입술",
          "스마일",
          "스마일 프로",
          "커스텀 라식",
          "스마일",
          "스마일",
          "스마일",
          "스마일",
          "스마일",
          "스마일 프로",
          "스마일",
          "스마일",
          "스마일 프로",
          "스마일 프로",
          "스마일 프로",
          "라섹",
          "스마일",
          "스마일",
          "라섹",
          "라식",
          "라섹",
          "스마일 프로",
          "라식",
          "스마일",
          "스마일",
          "스마일",
          "토릭 렌즈삽입술",
          "라섹",
          "스마일",
          "스마일",
          "스마일",
          "스마일",
          "라섹",
          "스마일",
          "커스텀 라섹",
          "라섹",
          "라섹",
          "라섹",
          "스마일",
          "스마일",
          "스마일",
          "커스텀 라섹",
          "스마일",
          "스마일 프로",
          "스마일",
          "커스텀 라식",
          "스마일",
          "스마일",
          "토릭 렌즈삽입술",
          "스마일 프로",
          "렌즈삽입술",
          "렌즈삽입술",
          "라식",
          "스마일",
          "스마일",
          "퍼스널 라식",
          "스마일",
          "스마일",
          "토릭 렌즈삽입술",
          "스마일",
          "스마일",
          "스마일",
          "라식",
          "토릭 렌즈삽입술",
          "스마일",
          "스마일",
          "스마일",
          "스마일",
          "토릭 렌즈삽입술",
          "스마일",
          "스마일",
          "스마일",
          "스마일",
          "스마일",
          "스마일",
          "스마일",
          "스마일",
          "스마일",
          "스마일",
          "커스텀 라식",
          "스마일 프로",
          "스마일",
          "스마일",
          "스마일",
          "커스텀 라섹",
          "스마일",
          "렌즈삽입술",
          "스마일",
          "스마일",
          "스마일",
          "스마일",
          "스마일",
          "스마일",
          "토릭 렌즈삽입술",
          "스마일",
          "커스텀 라섹",
          "스마일",
          "토릭 렌즈삽입술",
          "스마일 프로",
          "스마일",
          "스마일",
          "스마일",
          "스마일 프로",
          "스마일",
          "스마일",
          "스마일",
          "스마일",
          "스마일 프로",
          "라섹",
          "스마일",
          "스마일 프로",
          "스마일 프로",
          "스마일 프로",
          "스마일 프로",
          "스마일 프로",
          "스마일 프로",
          "스마일",
          "스마일",
          "스마일",
          "토릭 렌즈삽입술",
          "라섹",
          "라섹",
          "스마일",
          "라식",
          "라섹",
          "스마일",
          "스마일",
          "스마일 프로",
          "라식",
          "스마일",
          "스마일",
          "커스텀 라식",
          "라섹",
          "라섹",
          "스마일",
          "커스텀 라식",
          "스마일",
          "스마일",
          "스마일 프로",
          "토릭 렌즈삽입술",
          "라섹",
          "스마일",
          "스마일 프로",
          "스마일",
          "라섹",
          "스마일",
          "스마일",
          "스마일",
          "커스텀 라식",
          "스마일",
          "스마일",
          "스마일",
          "스마일",
          "렌즈삽입술",
          "스마일",
          "스마일 프로",
          "커스텀 라섹",
          "스마일",
          "라섹",
          "스마일",
          "라섹",
          "스마일",
          "라섹",
          "스마일",
          "토릭 렌즈삽입술",
          "커스텀 라섹",
          "스마일 프로",
          "스마일 프로",
          "라섹",
          "토릭 렌즈삽입술",
          "스마일",
          "스마일 프로",
          "스마일",
          "스마일",
          "스마일",
          "스마일",
          "스마일",
          "스마일 프로",
          "라섹",
          "스마일",
          "스마일",
          "커스텀 라섹",
          "스마일",
          "스마일",
          "스마일",
          "스마일",
          "스마일",
          "라섹",
          "스마일",
          "스마일 프로",
          "토릭 렌즈삽입술",
          "스마일 프로",
          "스마일",
          "스마일",
          "라섹",
          "스마일",
          "스마일",
          "라섹",
          "스마일",
          "스마일",
          "스마일 프로",
          "토릭 렌즈삽입술",
          "스마일",
          "커스텀 라식",
          "스마일",
          "라식",
          "스마일 프로",
          "스마일",
          "스마일",
          "스마일",
          "스마일",
          "라섹",
          "스마일",
          "라섹",
          "스마일",
          "스마일",
          "커스텀 라섹",
          "스마일 프로",
          "스마일 프로",
          "라섹",
          "토릭 렌즈삽입술",
          "스마일",
          "스마일 프로",
          "스마일",
          "커스텀 라섹",
          "라식",
          "토릭 렌즈삽입술",
          "토릭 렌즈삽입술",
          "스마일 프로",
          "스마일",
          "스마일 프로",
          "스마일",
          "라식",
          "스마일",
          "스마일",
          "스마일",
          "라식",
          "스마일",
          "스마일",
          "커스텀 라섹",
          "스마일 프로",
          "스마일",
          "스마일",
          "커스텀 라식",
          "토릭 렌즈삽입술",
          "라섹",
          "라식",
          "스마일",
          "스마일",
          "스마일",
          "라섹",
          "토릭 렌즈삽입술",
          "스마일",
          "라섹",
          "라섹",
          "라섹",
          "스마일",
          "스마일 프로",
          "스마일",
          "스마일",
          "라섹",
          "스마일",
          "토릭 렌즈삽입술",
          "스마일 프로",
          "스마일 프로",
          "스마일 프로",
          "스마일",
          "스마일",
          "스마일 프로",
          "스마일 프로",
          "스마일",
          "스마일",
          "스마일",
          "스마일",
          "스마일",
          "스마일",
          "스마일 프로",
          "스마일",
          "스마일",
          "스마일",
          "스마일",
          "스마일",
          "스마일",
          "스마일",
          "스마일",
          "스마일",
          "렌즈삽입술",
          "라섹",
          "스마일",
          "스마일",
          "커스텀 라식",
          "스마일 프로",
          "스마일",
          "라섹",
          "라섹",
          "스마일",
          "퍼스널 라식",
          "라섹",
          "스마일",
          "토릭 렌즈삽입술",
          "스마일",
          "스마일",
          "스마일 프로",
          "스마일 프로",
          "스마일",
          "스마일",
          "스마일",
          "라식",
          "스마일",
          "스마일",
          "렌즈삽입술",
          "커스텀 라섹",
          "스마일",
          "토릭 렌즈삽입술",
          "스마일 프로",
          "토릭 렌즈삽입술",
          "토릭 렌즈삽입술",
          "스마일",
          "스마일",
          "스마일",
          "스마일",
          "스마일 프로",
          "스마일",
          "스마일",
          "커스텀 라식",
          "스마일",
          "라식",
          "커스텀 라식",
          "스마일 프로",
          "토릭 렌즈삽입술",
          "토릭 렌즈삽입술",
          "스마일",
          "스마일",
          "스마일",
          "스마일",
          "스마일",
          "스마일",
          "라섹",
          "스마일",
          "토릭 렌즈삽입술",
          "스마일",
          "스마일",
          "스마일",
          "스마일",
          "스마일",
          "렌즈삽입술",
          "커스텀 라섹",
          "스마일",
          "라식",
          "스마일",
          "스마일 프로",
          "스마일",
          "스마일",
          "토릭 렌즈삽입술",
          "커스텀 라섹",
          "스마일 프로",
          "라식",
          "토릭 렌즈삽입술",
          "토릭 렌즈삽입술",
          "스마일",
          "스마일",
          "스마일",
          "스마일",
          "스마일 프로",
          "스마일",
          "스마일",
          "스마일 프로",
          "토릭 렌즈삽입술",
          "라섹",
          "커스텀 라식",
          "스마일",
          "라섹",
          "커스텀 라식",
          "스마일 프로",
          "스마일",
          "라섹",
          "스마일",
          "라섹",
          "스마일",
          "스마일",
          "스마일",
          "스마일 프로",
          "스마일",
          "스마일",
          "스마일",
          "스마일",
          "스마일",
          "스마일",
          "스마일",
          "토릭 렌즈삽입술",
          "커스텀 라식",
          "라식",
          "스마일",
          "스마일",
          "라섹",
          "라식",
          "라섹",
          "스마일",
          "스마일",
          "스마일 프로",
          "스마일",
          "스마일",
          "커스텀 라섹",
          "스마일",
          "커스텀 라섹",
          "라식",
          "스마일",
          "스마일 프로",
          "스마일 프로",
          "스마일",
          "스마일",
          "라섹",
          "스마일",
          "토릭 렌즈삽입술",
          "스마일",
          "토릭 렌즈삽입술",
          "라섹",
          "스마일",
          "스마일",
          "스마일",
          "스마일",
          "스마일",
          "라섹",
          "라섹",
          "커스텀 라식",
          "스마일",
          "라섹",
          "라섹",
          "스마일",
          "스마일",
          "토릭 렌즈삽입술",
          "스마일",
          "스마일",
          "스마일",
          "라섹",
          "스마일",
          "토릭 렌즈삽입술",
          "스마일",
          "스마일 프로",
          "라섹",
          "스마일",
          "토릭 렌즈삽입술",
          "스마일",
          "스마일",
          "라섹",
          "스마일 프로",
          "스마일 프로",
          "스마일 프로",
          "스마일",
          "스마일 프로",
          "커스텀 라섹",
          "스마일 프로",
          "스마일",
          "스마일",
          "라섹",
          "스마일",
          "라섹",
          "라식",
          "스마일",
          "스마일",
          "라섹",
          "라섹",
          "토릭 렌즈삽입술",
          "스마일",
          "라섹",
          "스마일 프로",
          "라섹",
          "라식",
          "스마일",
          "커스텀 라섹",
          "스마일",
          "스마일 프로",
          "커스텀 라섹",
          "스마일",
          "스마일",
          "토릭 렌즈삽입술",
          "스마일",
          "스마일",
          "스마일",
          "스마일",
          "스마일",
          "스마일",
          "스마일",
          "스마일",
          "라섹",
          "스마일 프로",
          "스마일",
          "스마일",
          "스마일",
          "라섹",
          "스마일 프로",
          "스마일",
          "라식",
          "스마일",
          "스마일",
          "스마일",
          "토릭 렌즈삽입술",
          "라섹",
          "스마일",
          "스마일",
          "커스텀 라섹",
          "스마일",
          "스마일",
          "라섹",
          "토릭 렌즈삽입술",
          "스마일",
          "스마일",
          "스마일",
          "스마일",
          "라섹",
          "스마일",
          "라섹",
          "스마일",
          "스마일",
          "커스텀 라식",
          "스마일",
          "라섹",
          "라섹",
          "토릭 렌즈삽입술",
          "스마일",
          "렌즈삽입술",
          "스마일",
          "스마일",
          "스마일",
          "라섹",
          "스마일",
          "스마일",
          "라섹",
          "스마일",
          "스마일",
          "스마일 프로",
          "스마일",
          "라섹",
          "스마일 프로",
          "스마일",
          "스마일",
          "스마일",
          "스마일",
          "스마일",
          "스마일",
          "스마일",
          "토릭 렌즈삽입술",
          "스마일",
          "스마일",
          "스마일 프로",
          "스마일 프로",
          "스마일 프로",
          "스마일",
          "스마일",
          "스마일 프로",
          "라섹",
          "스마일",
          "스마일",
          "스마일",
          "라섹",
          "스마일",
          "스마일",
          "스마일 프로",
          "스마일",
          "스마일",
          "스마일",
          "스마일",
          "스마일 프로",
          "라섹",
          "스마일",
          "스마일",
          "커스텀 라섹",
          "스마일",
          "스마일 프로",
          "스마일",
          "스마일",
          "스마일",
          "라식",
          "스마일",
          "스마일",
          "스마일 프로",
          "스마일",
          "스마일",
          "라섹",
          "라섹",
          "스마일",
          "스마일",
          "스마일 프로",
          "스마일",
          "스마일",
          "스마일",
          "토릭 렌즈삽입술",
          "라식",
          "스마일",
          "커스텀 라섹",
          "커스텀 라식",
          "스마일 프로",
          "스마일",
          "스마일",
          "커스텀 라섹",
          "라섹",
          "스마일",
          "스마일 프로",
          "스마일",
          "커스텀 라식",
          "토릭 렌즈삽입술",
          "스마일",
          "스마일",
          "라섹",
          "스마일",
          "스마일",
          "라섹",
          "스마일",
          "토릭 렌즈삽입술",
          "스마일",
          "스마일 프로",
          "스마일 프로",
          "스마일 프로",
          "커스텀 라섹",
          "커스텀 라섹",
          "스마일",
          "스마일",
          "커스텀 라섹",
          "스마일",
          "스마일",
          "스마일",
          "토릭 렌즈삽입술",
          "스마일",
          "스마일",
          "토릭 렌즈삽입술",
          "라섹",
          "스마일",
          "라섹",
          "스마일",
          "스마일",
          "스마일",
          "커스텀 라섹",
          "스마일",
          "스마일 프로",
          "라섹",
          "라섹",
          "스마일",
          "스마일",
          "스마일",
          "렌즈삽입술",
          "커스텀 라식",
          "라식",
          "라섹",
          "스마일",
          "스마일",
          "스마일",
          "스마일",
          "커스텀 라식",
          "라섹",
          "스마일",
          "스마일 프로",
          "스마일",
          "스마일",
          "스마일",
          "스마일 프로",
          "스마일",
          "스마일",
          "스마일",
          "스마일",
          "스마일 프로",
          "스마일",
          "커스텀 라섹",
          "스마일 프로",
          "스마일",
          "스마일",
          "토릭 렌즈삽입술",
          "커스텀 라섹",
          "스마일",
          "스마일",
          "라섹",
          "스마일",
          "토릭 렌즈삽입술",
          "커스텀 라섹",
          "커스텀 라식",
          "스마일",
          "스마일 프로",
          "스마일",
          "커스텀 라식",
          "커스텀 라섹",
          "스마일",
          "스마일",
          "스마일",
          "렌즈삽입술",
          "커스텀 라식",
          "라섹",
          "스마일",
          "라섹",
          "스마일 프로",
          "스마일",
          "스마일",
          "라섹",
          "스마일 프로",
          "스마일",
          "라섹",
          "스마일",
          "스마일",
          "라식",
          "라섹",
          "렌즈삽입술",
          "스마일",
          "스마일",
          "라섹",
          "스마일",
          "라식",
          "스마일",
          "스마일 프로",
          "스마일",
          "스마일",
          "스마일 프로",
          "스마일",
          "스마일",
          "라섹",
          "라섹",
          "스마일",
          "스마일",
          "스마일",
          "스마일 프로",
          "스마일",
          "스마일",
          "커스텀 라식",
          "커스텀 라섹",
          "스마일",
          "스마일",
          "스마일 프로",
          "스마일 프로",
          "스마일",
          "라섹",
          "스마일 프로",
          "렌즈삽입술",
          "스마일",
          "스마일",
          "렌즈삽입술",
          "스마일",
          "라섹",
          "스마일",
          "라섹",
          "라섹",
          "스마일",
          "라섹",
          "스마일",
          "스마일",
          "커스텀 라섹",
          "스마일",
          "라섹",
          "스마일",
          "스마일",
          "라섹",
          "스마일 프로",
          "라섹",
          "스마일",
          "라섹",
          "커스텀 라식",
          "스마일",
          "스마일",
          "커스텀 라식",
          "라섹",
          "스마일",
          "라식",
          "스마일",
          "스마일",
          "스마일",
          "토릭 렌즈삽입술",
          "스마일",
          "스마일",
          "스마일",
          "스마일",
          "스마일",
          "스마일",
          "라섹",
          "스마일",
          "스마일",
          "스마일",
          "스마일",
          "토릭 렌즈삽입술",
          "커스텀 라식",
          "스마일",
          "스마일",
          "스마일",
          "라섹",
          "스마일",
          "스마일",
          "스마일",
          "스마일 프로",
          "커스텀 라식",
          "스마일",
          "스마일",
          "스마일 프로",
          "라식",
          "스마일",
          "스마일",
          "스마일",
          "스마일 프로",
          "스마일",
          "스마일",
          "라식",
          "라섹",
          "스마일",
          "토릭 렌즈삽입술",
          "스마일 프로",
          "라섹",
          "스마일",
          "스마일 프로",
          "스마일",
          "스마일",
          "스마일 프로",
          "스마일",
          "스마일",
          "스마일",
          "커스텀 라식",
          "스마일",
          "토릭 렌즈삽입술",
          "커스텀 라섹",
          "스마일",
          "라섹",
          "라섹",
          "스마일",
          "라식",
          "커스텀 라식",
          "렌즈삽입술",
          "스마일",
          "스마일 프로",
          "스마일",
          "라섹",
          "커스텀 라섹",
          "스마일",
          "스마일",
          "스마일",
          "스마일",
          "스마일 프로",
          "스마일",
          "스마일",
          "스마일",
          "스마일",
          "스마일",
          "스마일 프로",
          "스마일",
          "스마일",
          "토릭 렌즈삽입술",
          "스마일",
          "스마일",
          "스마일",
          "스마일",
          "스마일 프로",
          "스마일",
          "커스텀 라식",
          "스마일",
          "스마일",
          "커스텀 라식",
          "커스텀 라섹",
          "라섹",
          "스마일",
          "라섹",
          "스마일 프로",
          "스마일",
          "라섹",
          "스마일 프로",
          "스마일",
          "스마일",
          "라섹",
          "스마일",
          "스마일",
          "스마일",
          "스마일",
          "라섹",
          "라섹",
          "스마일",
          "스마일",
          "라섹",
          "스마일",
          "스마일",
          "라섹",
          "스마일",
          "스마일",
          "렌즈삽입술",
          "스마일",
          "스마일",
          "스마일",
          "스마일 프로",
          "렌즈삽입술",
          "라섹",
          "스마일 프로",
          "스마일",
          "토릭 렌즈삽입술",
          "스마일",
          "렌즈삽입술",
          "라섹",
          "라식",
          "스마일",
          "스마일",
          "스마일",
          "스마일",
          "스마일",
          "스마일",
          "스마일",
          "커스텀 라섹",
          "스마일",
          "스마일",
          "라식",
          "라섹",
          "토릭 렌즈삽입술",
          "스마일",
          "스마일",
          "스마일 프로",
          "스마일",
          "라섹",
          "스마일",
          "스마일",
          "스마일",
          "라섹",
          "라섹",
          "스마일",
          "커스텀 라섹",
          "라섹",
          "스마일",
          "스마일",
          "스마일",
          "스마일",
          "라섹",
          "스마일 프로",
          "라섹",
          "스마일 프로",
          "스마일",
          "스마일",
          "스마일",
          "스마일 프로",
          "토릭 렌즈삽입술",
          "스마일 프로",
          "스마일",
          "스마일 프로",
          "스마일",
          "스마일",
          "스마일",
          "라섹",
          "렌즈삽입술",
          "렌즈삽입술",
          "스마일",
          "스마일",
          "스마일",
          "스마일",
          "스마일",
          "라식",
          "커스텀 라섹",
          "스마일",
          "스마일 프로",
          "스마일 프로",
          "스마일",
          "커스텀 라식",
          "스마일",
          "스마일",
          "라섹",
          "스마일",
          "스마일",
          "스마일",
          "스마일 프로",
          "스마일 프로",
          "스마일",
          "스마일",
          "스마일",
          "스마일",
          "스마일",
          "스마일",
          "라식",
          "스마일 프로",
          "라섹",
          "커스텀 라식",
          "라섹",
          "스마일 프로",
          "스마일",
          "스마일 프로",
          "스마일 프로",
          "스마일",
          "스마일",
          "스마일 프로",
          "스마일",
          "스마일 프로",
          "스마일",
          "스마일",
          "라섹",
          "스마일",
          "스마일",
          "토릭 렌즈삽입술",
          "커스텀 라식",
          "스마일",
          "스마일",
          "스마일",
          "스마일",
          "라섹",
          "스마일",
          "스마일",
          "스마일",
          "스마일",
          "커스텀 라식",
          "스마일",
          "라섹",
          "커스텀 라식",
          "스마일 프로",
          "렌즈삽입술",
          "커스텀 라섹",
          "스마일",
          "스마일",
          "스마일",
          "스마일",
          "토릭 렌즈삽입술",
          "스마일",
          "스마일",
          "커스텀 라식",
          "스마일",
          "퍼스널 라식",
          "라섹",
          "라섹",
          "커스텀 라식",
          "스마일",
          "스마일",
          "스마일",
          "라식",
          "스마일 프로",
          "라섹",
          "스마일",
          "스마일",
          "스마일",
          "라식",
          "스마일",
          "스마일 프로",
          "스마일",
          "스마일",
          "스마일",
          "스마일 프로",
          "토릭 렌즈삽입술",
          "커스텀 라섹",
          "스마일",
          "스마일",
          "스마일",
          "렌즈삽입술",
          "스마일",
          "라식",
          "토릭 렌즈삽입술",
          "스마일 프로",
          "스마일",
          "스마일",
          "스마일",
          "스마일",
          "스마일",
          "토릭 렌즈삽입술",
          "스마일",
          "토릭 렌즈삽입술",
          "라섹",
          "스마일",
          "토릭 렌즈삽입술",
          "스마일",
          "스마일",
          "스마일",
          "스마일",
          "스마일",
          "스마일",
          "커스텀 라섹",
          "스마일",
          "스마일",
          "스마일 프로",
          "스마일",
          "스마일",
          "라식",
          "스마일",
          "스마일",
          "커스텀 라식",
          "스마일",
          "스마일",
          "라식",
          "렌즈삽입술",
          "토릭 렌즈삽입술",
          "라섹",
          "라섹",
          "스마일",
          "토릭 렌즈삽입술",
          "스마일",
          "라섹",
          "토릭 렌즈삽입술",
          "스마일",
          "스마일",
          "토릭 렌즈삽입술",
          "토릭 렌즈삽입술",
          "토릭 렌즈삽입술",
          "스마일",
          "라섹",
          "토릭 렌즈삽입술",
          "스마일",
          "커스텀 라식",
          "스마일",
          "스마일 프로",
          "토릭 렌즈삽입술",
          "스마일",
          "스마일",
          "스마일",
          "라섹",
          "스마일",
          "스마일 프로",
          "스마일",
          "토릭 렌즈삽입술",
          "스마일",
          "라섹",
          "라섹",
          "스마일",
          "스마일",
          "스마일 프로",
          "스마일",
          "렌즈삽입술",
          "라식",
          "스마일 프로",
          "스마일 프로",
          "스마일",
          "스마일 프로",
          "커스텀 라섹",
          "스마일",
          "스마일",
          "스마일",
          "스마일",
          "스마일",
          "토릭 렌즈삽입술",
          "스마일",
          "스마일 프로",
          "스마일",
          "라식",
          "커스텀 라섹",
          "스마일",
          "렌즈삽입술",
          "스마일",
          "라섹",
          "스마일",
          "커스텀 라식",
          "스마일",
          "스마일",
          "라섹",
          "스마일",
          "스마일",
          "스마일 프로",
          "스마일 프로",
          "스마일",
          "라식",
          "렌즈삽입술",
          "라식",
          "스마일",
          "라섹",
          "스마일",
          "스마일",
          "토릭 렌즈삽입술",
          "스마일",
          "스마일",
          "스마일",
          "라섹",
          "스마일",
          "라섹",
          "스마일",
          "스마일",
          "토릭 렌즈삽입술",
          "스마일",
          "스마일",
          "스마일",
          "스마일 프로",
          "스마일",
          "토릭 렌즈삽입술",
          "스마일 프로",
          "라섹",
          "스마일",
          "토릭 렌즈삽입술",
          "스마일 프로",
          "스마일",
          "스마일",
          "토릭 렌즈삽입술",
          "커스텀 라섹",
          "스마일",
          "라섹",
          "스마일",
          "라섹",
          "스마일",
          "스마일",
          "스마일",
          "커스텀 라식",
          "스마일",
          "라섹",
          "커스텀 라섹",
          "렌즈삽입술",
          "스마일",
          "스마일 프로",
          "스마일",
          "스마일",
          "스마일",
          "스마일 프로",
          "스마일",
          "스마일 프로",
          "스마일 프로",
          "스마일",
          "스마일 프로",
          "커스텀 라섹",
          "스마일",
          "스마일",
          "스마일",
          "스마일",
          "라식",
          "스마일",
          "토릭 렌즈삽입술",
          "스마일",
          "라섹",
          "커스텀 라식",
          "스마일",
          "스마일",
          "스마일",
          "라식",
          "토릭 렌즈삽입술",
          "라식",
          "스마일",
          "스마일 프로",
          "스마일 프로",
          "스마일 프로",
          "스마일",
          "라섹",
          "스마일",
          "라식",
          "스마일",
          "커스텀 라섹",
          "스마일",
          "스마일",
          "라섹",
          "스마일 프로",
          "라섹",
          "스마일",
          "스마일",
          "커스텀 라식",
          "라섹",
          "스마일",
          "커스텀 라식",
          "스마일",
          "커스텀 라섹",
          "스마일 프로",
          "스마일",
          "스마일",
          "라섹",
          "커스텀 라식",
          "라섹",
          "라식",
          "라섹",
          "라섹",
          "커스텀 라식",
          "라섹",
          "스마일",
          "렌즈삽입술",
          "스마일",
          "스마일",
          "커스텀 라식",
          "라섹",
          "라섹",
          "커스텀 라섹",
          "커스텀 라섹",
          "토릭 렌즈삽입술",
          "스마일",
          "스마일",
          "스마일",
          "스마일",
          "스마일",
          "스마일",
          "스마일",
          "라식",
          "스마일",
          "스마일",
          "스마일",
          "스마일",
          "스마일",
          "토릭 렌즈삽입술",
          "커스텀 라식",
          "스마일 프로",
          "스마일",
          "스마일",
          "커스텀 라식",
          "스마일 프로",
          "스마일",
          "라섹",
          "스마일",
          "스마일",
          "스마일 프로",
          "스마일",
          "스마일",
          "토릭 렌즈삽입술",
          "스마일",
          "스마일",
          "라섹",
          "라섹",
          "커스텀 라식",
          "라섹",
          "라섹",
          "스마일",
          "스마일",
          "스마일",
          "라식",
          "커스텀 라식",
          "스마일",
          "커스텀 라섹",
          "스마일 프로",
          "라섹",
          "스마일",
          "스마일",
          "라섹",
          "스마일",
          "스마일",
          "스마일",
          "스마일",
          "렌즈삽입술",
          "스마일",
          "스마일",
          "라섹",
          "토릭 렌즈삽입술",
          "스마일 프로",
          "스마일 프로",
          "스마일",
          "라식",
          "라섹",
          "스마일",
          "라섹",
          "스마일",
          "스마일",
          "스마일",
          "라섹",
          "커스텀 라식",
          "스마일 프로",
          "스마일",
          "스마일",
          "커스텀 라식",
          "스마일",
          "렌즈삽입술",
          "스마일",
          "스마일",
          "토릭 렌즈삽입술",
          "스마일",
          "렌즈삽입술",
          "토릭 렌즈삽입술",
          "스마일",
          "렌즈삽입술",
          "토릭 렌즈삽입술",
          "스마일",
          "스마일 프로",
          "스마일",
          "스마일 프로",
          "스마일",
          "스마일 프로",
          "라섹",
          "라섹",
          "라섹",
          "스마일",
          "퍼스널 라식",
          "스마일",
          "라섹",
          "스마일",
          "토릭 렌즈삽입술",
          "라식",
          "스마일",
          "스마일 프로",
          "스마일",
          "스마일",
          "스마일",
          "스마일 프로",
          "라식",
          "스마일",
          "라섹",
          "스마일 프로",
          "토릭 렌즈삽입술",
          "스마일",
          "스마일",
          "스마일",
          "렌즈삽입술",
          "토릭 렌즈삽입술",
          "스마일 프로",
          "라섹",
          "스마일",
          "스마일",
          "라섹",
          "스마일",
          "스마일",
          "스마일",
          "스마일 프로",
          "스마일",
          "스마일",
          "스마일",
          "토릭 렌즈삽입술",
          "라섹",
          "스마일 프로",
          "스마일",
          "토릭 렌즈삽입술",
          "스마일",
          "스마일",
          "스마일",
          "라섹",
          "스마일",
          "스마일 프로",
          "라섹",
          "커스텀 라식",
          "스마일",
          "토릭 렌즈삽입술",
          "스마일 프로",
          "라섹",
          "스마일",
          "라섹",
          "스마일 프로",
          "스마일",
          "스마일",
          "커스텀 라식",
          "라섹",
          "라섹",
          "스마일",
          "스마일",
          "라섹",
          "스마일 프로",
          "스마일 프로",
          "스마일",
          "스마일",
          "스마일",
          "라섹",
          "커스텀 라식",
          "스마일",
          "라섹",
          "스마일",
          "스마일",
          "스마일",
          "스마일",
          "스마일",
          "스마일",
          "스마일",
          "스마일",
          "스마일",
          "스마일 프로",
          "스마일 프로",
          "스마일 프로",
          "스마일",
          "스마일",
          "스마일",
          "스마일",
          "스마일 프로",
          "스마일",
          "스마일",
          "스마일 프로",
          "토릭 렌즈삽입술",
          "스마일",
          "스마일",
          "스마일",
          "토릭 렌즈삽입술",
          "스마일",
          "스마일",
          "스마일",
          "라섹",
          "스마일",
          "커스텀 라섹",
          "스마일",
          "스마일",
          "스마일",
          "스마일",
          "커스텀 라식",
          "토릭 렌즈삽입술",
          "스마일",
          "스마일 프로",
          "스마일",
          "스마일",
          "스마일",
          "스마일",
          "스마일",
          "스마일",
          "스마일",
          "스마일",
          "스마일",
          "스마일",
          "스마일",
          "스마일",
          "스마일",
          "스마일 프로",
          "커스텀 라식",
          "스마일 프로",
          "스마일 프로",
          "스마일",
          "라식",
          "스마일",
          "라섹",
          "스마일 프로",
          "스마일",
          "라섹",
          "라식",
          "스마일",
          "라섹",
          "스마일",
          "스마일",
          "스마일",
          "커스텀 라식",
          "커스텀 라섹",
          "스마일",
          "스마일",
          "스마일 프로",
          "스마일",
          "라섹",
          "스마일",
          "스마일 프로",
          "렌즈삽입술",
          "라섹",
          "라식",
          "스마일",
          "스마일",
          "커스텀 라섹",
          "스마일",
          "스마일",
          "스마일",
          "라섹",
          "스마일",
          "스마일",
          "라섹",
          "라식",
          "스마일",
          "스마일",
          "스마일 프로",
          "스마일",
          "스마일",
          "스마일 프로",
          "라식",
          "스마일",
          "토릭 렌즈삽입술",
          "라섹",
          "스마일",
          "스마일",
          "스마일",
          "라섹",
          "라섹",
          "스마일",
          "커스텀 라섹",
          "스마일",
          "스마일",
          "스마일",
          "스마일",
          "스마일 프로",
          "스마일",
          "스마일",
          "스마일",
          "스마일",
          "스마일",
          "스마일",
          "스마일",
          "스마일",
          "스마일",
          "스마일",
          "커스텀 라섹",
          "커스텀 라식",
          "라섹",
          "스마일",
          "스마일",
          "스마일",
          "스마일 프로",
          "스마일",
          "커스텀 라섹",
          "커스텀 라식",
          "스마일",
          "커스텀 라섹",
          "스마일 프로",
          "스마일",
          "라식",
          "스마일 프로",
          "스마일",
          "스마일",
          "스마일 프로",
          "스마일",
          "스마일 프로",
          "스마일",
          "스마일 프로",
          "스마일",
          "라섹",
          "스마일 프로",
          "스마일",
          "스마일",
          "라식",
          "라식",
          "라섹",
          "스마일",
          "스마일 프로",
          "라섹",
          "스마일",
          "스마일",
          "커스텀 라섹",
          "토릭 렌즈삽입술",
          "스마일",
          "커스텀 라식",
          "토릭 렌즈삽입술",
          "라섹",
          "스마일",
          "스마일 프로",
          "스마일 프로",
          "토릭 렌즈삽입술",
          "스마일",
          "커스텀 라식",
          "스마일",
          "라식",
          "스마일",
          "스마일",
          "스마일",
          "스마일 프로",
          "라식",
          "커스텀 라섹",
          "라식",
          "라섹",
          "라섹",
          "라섹",
          "스마일",
          "스마일",
          "스마일",
          "라섹",
          "라섹",
          "라섹",
          "커스텀 라식",
          "스마일",
          "스마일 프로",
          "스마일",
          "라식",
          "스마일",
          "스마일",
          "스마일",
          "라섹",
          "스마일 프로",
          "스마일 프로",
          "스마일",
          "스마일",
          "스마일",
          "스마일",
          "스마일",
          "라섹",
          "스마일 프로",
          "렌즈삽입술",
          "스마일",
          "스마일",
          "스마일",
          "커스텀 라섹",
          "라섹",
          "토릭 렌즈삽입술",
          "스마일",
          "스마일 프로",
          "라섹",
          "스마일",
          "스마일",
          "스마일",
          "스마일 프로",
          "스마일",
          "스마일",
          "스마일",
          "스마일",
          "스마일",
          "스마일",
          "스마일",
          "커스텀 라식",
          "스마일",
          "스마일",
          "커스텀 라식",
          "스마일",
          "스마일",
          "스마일",
          "스마일",
          "라섹",
          "스마일 프로",
          "스마일",
          "라섹",
          "스마일",
          "스마일",
          "스마일",
          "스마일",
          "스마일",
          "스마일",
          "스마일",
          "스마일 프로",
          "스마일",
          "토릭 렌즈삽입술",
          "스마일",
          "스마일",
          "스마일",
          "라섹",
          "라섹",
          "스마일",
          "스마일",
          "스마일",
          "스마일",
          "커스텀 라식",
          "스마일",
          "라식",
          "스마일",
          "스마일",
          "스마일 프로",
          "스마일",
          "스마일",
          "커스텀 라식",
          "라식",
          "라섹",
          "라식",
          "스마일 프로",
          "스마일 프로",
          "라섹",
          "스마일",
          "라식",
          "토릭 렌즈삽입술",
          "토릭 렌즈삽입술",
          "라섹",
          "커스텀 라식",
          "스마일 프로",
          "라식",
          "스마일 프로",
          "커스텀 라식",
          "토릭 렌즈삽입술",
          "라섹",
          "스마일 프로",
          "스마일",
          "스마일",
          "스마일 프로",
          "라섹",
          "커스텀 라섹",
          "라섹",
          "커스텀 라섹",
          "스마일",
          "스마일",
          "스마일",
          "스마일 프로",
          "스마일",
          "라섹",
          "스마일",
          "스마일",
          "스마일",
          "라섹",
          "라식",
          "라섹",
          "스마일",
          "라섹",
          "스마일",
          "스마일",
          "스마일",
          "스마일",
          "스마일",
          "스마일 프로",
          "라섹",
          "스마일 프로",
          "스마일 프로",
          "토릭 렌즈삽입술",
          "스마일",
          "스마일",
          "스마일",
          "스마일",
          "스마일",
          "토릭 렌즈삽입술",
          "스마일",
          "스마일",
          "커스텀 라식",
          "스마일",
          "스마일",
          "스마일",
          "스마일 프로",
          "커스텀 라식",
          "스마일",
          "커스텀 라섹",
          "라섹",
          "스마일",
          "커스텀 라식",
          "스마일",
          "렌즈삽입술",
          "스마일",
          "스마일 프로",
          "스마일",
          "스마일",
          "스마일",
          "라섹",
          "스마일",
          "라섹",
          "스마일",
          "커스텀 라섹",
          "라섹",
          "커스텀 라식",
          "라식",
          "스마일",
          "스마일",
          "라섹",
          "커스텀 라식",
          "스마일",
          "토릭 렌즈삽입술",
          "라식",
          "라식",
          "스마일",
          "스마일",
          "라섹",
          "스마일",
          "토릭 렌즈삽입술",
          "스마일",
          "스마일",
          "스마일",
          "스마일",
          "스마일",
          "스마일",
          "스마일 프로",
          "스마일",
          "커스텀 라식",
          "스마일",
          "스마일",
          "토릭 렌즈삽입술",
          "커스텀 라식",
          "스마일",
          "스마일",
          "라섹",
          "스마일 프로",
          "스마일 프로",
          "스마일",
          "커스텀 라식",
          "스마일",
          "스마일",
          "스마일",
          "라식",
          "스마일",
          "스마일",
          "스마일",
          "라식",
          "라섹",
          "스마일",
          "커스텀 라섹",
          "스마일",
          "스마일",
          "스마일 프로",
          "토릭 렌즈삽입술",
          "라식",
          "스마일",
          "스마일",
          "커스텀 라섹",
          "토릭 렌즈삽입술",
          "커스텀 라식",
          "스마일 프로",
          "스마일",
          "스마일",
          "토릭 렌즈삽입술",
          "스마일",
          "스마일 프로",
          "렌즈삽입술",
          "스마일 프로",
          "스마일",
          "스마일 프로",
          "스마일",
          "스마일 프로",
          "라식",
          "토릭 렌즈삽입술",
          "스마일",
          "스마일",
          "토릭 렌즈삽입술",
          "스마일",
          "스마일 프로",
          "스마일",
          "스마일",
          "스마일",
          "스마일 프로",
          "스마일",
          "스마일",
          "스마일",
          "스마일",
          "스마일",
          "스마일",
          "렌즈삽입술",
          "스마일",
          "토릭 렌즈삽입술",
          "스마일",
          "스마일",
          "스마일",
          "스마일",
          "스마일",
          "커스텀 라섹",
          "스마일",
          "스마일",
          "스마일",
          "스마일",
          "토릭 렌즈삽입술",
          "렌즈삽입술",
          "커스텀 라섹",
          "스마일",
          "스마일",
          "스마일",
          "스마일",
          "스마일",
          "스마일",
          "스마일",
          "스마일",
          "스마일",
          "라섹",
          "토릭 렌즈삽입술",
          "라식",
          "스마일 프로",
          "스마일 프로",
          "스마일",
          "스마일",
          "스마일",
          "토릭 렌즈삽입술",
          "토릭 렌즈삽입술",
          "스마일",
          "라식",
          "스마일 프로",
          "스마일 프로",
          "스마일",
          "퍼스널 라식",
          "퍼스널 라식",
          "스마일 프로",
          "스마일 프로",
          "스마일",
          "스마일",
          "스마일 프로",
          "스마일",
          "스마일",
          "스마일",
          "스마일",
          "스마일",
          "스마일",
          "스마일",
          "라섹",
          "라섹",
          "스마일 프로",
          "스마일 프로",
          "스마일",
          "라섹",
          "커스텀 라섹",
          "토릭 렌즈삽입술",
          "스마일 프로",
          "스마일",
          "렌즈삽입술",
          "라식",
          "스마일",
          "스마일 프로",
          "스마일",
          "스마일",
          "토릭 렌즈삽입술",
          "스마일 프로",
          "스마일",
          "스마일",
          "스마일",
          "스마일",
          "스마일 프로",
          "스마일",
          "라식",
          "토릭 렌즈삽입술",
          "라섹",
          "토릭 렌즈삽입술",
          "커스텀 라식",
          "스마일",
          "스마일",
          "스마일 프로",
          "라식",
          "라섹",
          "스마일",
          "라식",
          "스마일",
          "라섹",
          "스마일",
          "스마일 프로",
          "스마일",
          "토릭 렌즈삽입술",
          "스마일 프로",
          "라섹",
          "스마일",
          "스마일",
          "스마일",
          "스마일",
          "스마일",
          "스마일",
          "토릭 렌즈삽입술",
          "라섹",
          "렌즈삽입술",
          "스마일",
          "스마일",
          "스마일",
          "스마일 프로",
          "라식",
          "스마일",
          "라섹",
          "스마일",
          "스마일 프로",
          "커스텀 라식",
          "스마일",
          "라섹",
          "라섹",
          "스마일",
          "커스텀 라식",
          "스마일",
          "라섹",
          "스마일 프로",
          "토릭 렌즈삽입술",
          "스마일",
          "스마일",
          "토릭 렌즈삽입술",
          "스마일",
          "스마일",
          "렌즈삽입술",
          "라식",
          "스마일 프로",
          "라섹",
          "스마일",
          "스마일 프로",
          "토릭 렌즈삽입술",
          "스마일",
          "라섹",
          "스마일 프로",
          "스마일",
          "스마일",
          "라섹",
          "스마일",
          "스마일",
          "라섹",
          "스마일",
          "스마일",
          "스마일",
          "스마일 프로",
          "커스텀 라식",
          "스마일",
          "스마일",
          "토릭 렌즈삽입술",
          "스마일",
          "스마일",
          "스마일",
          "스마일",
          "스마일",
          "스마일",
          "스마일",
          "렌즈삽입술",
          "토릭 렌즈삽입술",
          "라섹",
          "스마일",
          "스마일",
          "커스텀 라식",
          "스마일 프로",
          "스마일",
          "스마일",
          "스마일",
          "스마일 프로",
          "스마일",
          "렌즈삽입술",
          "스마일 프로",
          "스마일",
          "스마일",
          "스마일",
          "라식",
          "커스텀 라식",
          "스마일",
          "스마일",
          "커스텀 라섹",
          "스마일",
          "스마일",
          "스마일",
          "스마일",
          "스마일 프로",
          "스마일",
          "라섹",
          "스마일 프로",
          "스마일",
          "스마일 프로",
          "스마일",
          "스마일",
          "스마일",
          "스마일",
          "스마일",
          "스마일",
          "스마일",
          "스마일",
          "스마일",
          "스마일",
          "스마일",
          "스마일",
          "스마일",
          "스마일",
          "커스텀 라식",
          "스마일",
          "라식",
          "스마일",
          "라섹",
          "커스텀 라식",
          "커스텀 라섹",
          "스마일",
          "스마일",
          "스마일",
          "스마일 프로",
          "스마일",
          "스마일",
          "스마일",
          "커스텀 라식",
          "스마일",
          "스마일",
          "스마일 프로",
          "스마일",
          "스마일",
          "스마일",
          "스마일",
          "라섹",
          "스마일",
          "스마일",
          "스마일",
          "스마일",
          "라식",
          "스마일",
          "라식",
          "커스텀 라식",
          "라식",
          "스마일",
          "스마일",
          "스마일",
          "커스텀 라식",
          "스마일",
          "스마일",
          "스마일",
          "스마일",
          "스마일 프로",
          "스마일",
          "스마일",
          "스마일",
          "스마일",
          "스마일",
          "스마일",
          "스마일",
          "스마일",
          "렌즈삽입술",
          "스마일",
          "스마일",
          "스마일",
          "스마일 프로",
          "스마일",
          "커스텀 라식",
          "스마일",
          "스마일",
          "커스텀 라식",
          "스마일",
          "스마일 프로",
          "스마일",
          "커스텀 라식",
          "커스텀 라섹",
          "스마일",
          "스마일",
          "스마일",
          "스마일",
          "커스텀 라식",
          "스마일",
          "스마일",
          "스마일",
          "스마일",
          "스마일",
          "스마일",
          "라식"
         ],
         "textinfo": "label+percent",
         "type": "pie",
         "values": {
          "bdata": "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",
          "dtype": "i4"
         }
        }
       ],
       "layout": {
        "template": {
         "data": {
          "bar": [
           {
            "error_x": {
             "color": "#2a3f5f"
            },
            "error_y": {
             "color": "#2a3f5f"
            },
            "marker": {
             "line": {
              "color": "#E5ECF6",
              "width": 0.5
             },
             "pattern": {
              "fillmode": "overlay",
              "size": 10,
              "solidity": 0.2
             }
            },
            "type": "bar"
           }
          ],
          "barpolar": [
           {
            "marker": {
             "line": {
              "color": "#E5ECF6",
              "width": 0.5
             },
             "pattern": {
              "fillmode": "overlay",
              "size": 10,
              "solidity": 0.2
             }
            },
            "type": "barpolar"
           }
          ],
          "carpet": [
           {
            "aaxis": {
             "endlinecolor": "#2a3f5f",
             "gridcolor": "white",
             "linecolor": "white",
             "minorgridcolor": "white",
             "startlinecolor": "#2a3f5f"
            },
            "baxis": {
             "endlinecolor": "#2a3f5f",
             "gridcolor": "white",
             "linecolor": "white",
             "minorgridcolor": "white",
             "startlinecolor": "#2a3f5f"
            },
            "type": "carpet"
           }
          ],
          "choropleth": [
           {
            "colorbar": {
             "outlinewidth": 0,
             "ticks": ""
            },
            "type": "choropleth"
           }
          ],
          "contour": [
           {
            "colorbar": {
             "outlinewidth": 0,
             "ticks": ""
            },
            "colorscale": [
             [
              0,
              "#0d0887"
             ],
             [
              0.1111111111111111,
              "#46039f"
             ],
             [
              0.2222222222222222,
              "#7201a8"
             ],
             [
              0.3333333333333333,
              "#9c179e"
             ],
             [
              0.4444444444444444,
              "#bd3786"
             ],
             [
              0.5555555555555556,
              "#d8576b"
             ],
             [
              0.6666666666666666,
              "#ed7953"
             ],
             [
              0.7777777777777778,
              "#fb9f3a"
             ],
             [
              0.8888888888888888,
              "#fdca26"
             ],
             [
              1,
              "#f0f921"
             ]
            ],
            "type": "contour"
           }
          ],
          "contourcarpet": [
           {
            "colorbar": {
             "outlinewidth": 0,
             "ticks": ""
            },
            "type": "contourcarpet"
           }
          ],
          "heatmap": [
           {
            "colorbar": {
             "outlinewidth": 0,
             "ticks": ""
            },
            "colorscale": [
             [
              0,
              "#0d0887"
             ],
             [
              0.1111111111111111,
              "#46039f"
             ],
             [
              0.2222222222222222,
              "#7201a8"
             ],
             [
              0.3333333333333333,
              "#9c179e"
             ],
             [
              0.4444444444444444,
              "#bd3786"
             ],
             [
              0.5555555555555556,
              "#d8576b"
             ],
             [
              0.6666666666666666,
              "#ed7953"
             ],
             [
              0.7777777777777778,
              "#fb9f3a"
             ],
             [
              0.8888888888888888,
              "#fdca26"
             ],
             [
              1,
              "#f0f921"
             ]
            ],
            "type": "heatmap"
           }
          ],
          "histogram": [
           {
            "marker": {
             "pattern": {
              "fillmode": "overlay",
              "size": 10,
              "solidity": 0.2
             }
            },
            "type": "histogram"
           }
          ],
          "histogram2d": [
           {
            "colorbar": {
             "outlinewidth": 0,
             "ticks": ""
            },
            "colorscale": [
             [
              0,
              "#0d0887"
             ],
             [
              0.1111111111111111,
              "#46039f"
             ],
             [
              0.2222222222222222,
              "#7201a8"
             ],
             [
              0.3333333333333333,
              "#9c179e"
             ],
             [
              0.4444444444444444,
              "#bd3786"
             ],
             [
              0.5555555555555556,
              "#d8576b"
             ],
             [
              0.6666666666666666,
              "#ed7953"
             ],
             [
              0.7777777777777778,
              "#fb9f3a"
             ],
             [
              0.8888888888888888,
              "#fdca26"
             ],
             [
              1,
              "#f0f921"
             ]
            ],
            "type": "histogram2d"
           }
          ],
          "histogram2dcontour": [
           {
            "colorbar": {
             "outlinewidth": 0,
             "ticks": ""
            },
            "colorscale": [
             [
              0,
              "#0d0887"
             ],
             [
              0.1111111111111111,
              "#46039f"
             ],
             [
              0.2222222222222222,
              "#7201a8"
             ],
             [
              0.3333333333333333,
              "#9c179e"
             ],
             [
              0.4444444444444444,
              "#bd3786"
             ],
             [
              0.5555555555555556,
              "#d8576b"
             ],
             [
              0.6666666666666666,
              "#ed7953"
             ],
             [
              0.7777777777777778,
              "#fb9f3a"
             ],
             [
              0.8888888888888888,
              "#fdca26"
             ],
             [
              1,
              "#f0f921"
             ]
            ],
            "type": "histogram2dcontour"
           }
          ],
          "mesh3d": [
           {
            "colorbar": {
             "outlinewidth": 0,
             "ticks": ""
            },
            "type": "mesh3d"
           }
          ],
          "parcoords": [
           {
            "line": {
             "colorbar": {
              "outlinewidth": 0,
              "ticks": ""
             }
            },
            "type": "parcoords"
           }
          ],
          "pie": [
           {
            "automargin": true,
            "type": "pie"
           }
          ],
          "scatter": [
           {
            "fillpattern": {
             "fillmode": "overlay",
             "size": 10,
             "solidity": 0.2
            },
            "type": "scatter"
           }
          ],
          "scatter3d": [
           {
            "line": {
             "colorbar": {
              "outlinewidth": 0,
              "ticks": ""
             }
            },
            "marker": {
             "colorbar": {
              "outlinewidth": 0,
              "ticks": ""
             }
            },
            "type": "scatter3d"
           }
          ],
          "scattercarpet": [
           {
            "marker": {
             "colorbar": {
              "outlinewidth": 0,
              "ticks": ""
             }
            },
            "type": "scattercarpet"
           }
          ],
          "scattergeo": [
           {
            "marker": {
             "colorbar": {
              "outlinewidth": 0,
              "ticks": ""
             }
            },
            "type": "scattergeo"
           }
          ],
          "scattergl": [
           {
            "marker": {
             "colorbar": {
              "outlinewidth": 0,
              "ticks": ""
             }
            },
            "type": "scattergl"
           }
          ],
          "scattermap": [
           {
            "marker": {
             "colorbar": {
              "outlinewidth": 0,
              "ticks": ""
             }
            },
            "type": "scattermap"
           }
          ],
          "scattermapbox": [
           {
            "marker": {
             "colorbar": {
              "outlinewidth": 0,
              "ticks": ""
             }
            },
            "type": "scattermapbox"
           }
          ],
          "scatterpolar": [
           {
            "marker": {
             "colorbar": {
              "outlinewidth": 0,
              "ticks": ""
             }
            },
            "type": "scatterpolar"
           }
          ],
          "scatterpolargl": [
           {
            "marker": {
             "colorbar": {
              "outlinewidth": 0,
              "ticks": ""
             }
            },
            "type": "scatterpolargl"
           }
          ],
          "scatterternary": [
           {
            "marker": {
             "colorbar": {
              "outlinewidth": 0,
              "ticks": ""
             }
            },
            "type": "scatterternary"
           }
          ],
          "surface": [
           {
            "colorbar": {
             "outlinewidth": 0,
             "ticks": ""
            },
            "colorscale": [
             [
              0,
              "#0d0887"
             ],
             [
              0.1111111111111111,
              "#46039f"
             ],
             [
              0.2222222222222222,
              "#7201a8"
             ],
             [
              0.3333333333333333,
              "#9c179e"
             ],
             [
              0.4444444444444444,
              "#bd3786"
             ],
             [
              0.5555555555555556,
              "#d8576b"
             ],
             [
              0.6666666666666666,
              "#ed7953"
             ],
             [
              0.7777777777777778,
              "#fb9f3a"
             ],
             [
              0.8888888888888888,
              "#fdca26"
             ],
             [
              1,
              "#f0f921"
             ]
            ],
            "type": "surface"
           }
          ],
          "table": [
           {
            "cells": {
             "fill": {
              "color": "#EBF0F8"
             },
             "line": {
              "color": "white"
             }
            },
            "header": {
             "fill": {
              "color": "#C8D4E3"
             },
             "line": {
              "color": "white"
             }
            },
            "type": "table"
           }
          ]
         },
         "layout": {
          "annotationdefaults": {
           "arrowcolor": "#2a3f5f",
           "arrowhead": 0,
           "arrowwidth": 1
          },
          "autotypenumbers": "strict",
          "coloraxis": {
           "colorbar": {
            "outlinewidth": 0,
            "ticks": ""
           }
          },
          "colorscale": {
           "diverging": [
            [
             0,
             "#8e0152"
            ],
            [
             0.1,
             "#c51b7d"
            ],
            [
             0.2,
             "#de77ae"
            ],
            [
             0.3,
             "#f1b6da"
            ],
            [
             0.4,
             "#fde0ef"
            ],
            [
             0.5,
             "#f7f7f7"
            ],
            [
             0.6,
             "#e6f5d0"
            ],
            [
             0.7,
             "#b8e186"
            ],
            [
             0.8,
             "#7fbc41"
            ],
            [
             0.9,
             "#4d9221"
            ],
            [
             1,
             "#276419"
            ]
           ],
           "sequential": [
            [
             0,
             "#0d0887"
            ],
            [
             0.1111111111111111,
             "#46039f"
            ],
            [
             0.2222222222222222,
             "#7201a8"
            ],
            [
             0.3333333333333333,
             "#9c179e"
            ],
            [
             0.4444444444444444,
             "#bd3786"
            ],
            [
             0.5555555555555556,
             "#d8576b"
            ],
            [
             0.6666666666666666,
             "#ed7953"
            ],
            [
             0.7777777777777778,
             "#fb9f3a"
            ],
            [
             0.8888888888888888,
             "#fdca26"
            ],
            [
             1,
             "#f0f921"
            ]
           ],
           "sequentialminus": [
            [
             0,
             "#0d0887"
            ],
            [
             0.1111111111111111,
             "#46039f"
            ],
            [
             0.2222222222222222,
             "#7201a8"
            ],
            [
             0.3333333333333333,
             "#9c179e"
            ],
            [
             0.4444444444444444,
             "#bd3786"
            ],
            [
             0.5555555555555556,
             "#d8576b"
            ],
            [
             0.6666666666666666,
             "#ed7953"
            ],
            [
             0.7777777777777778,
             "#fb9f3a"
            ],
            [
             0.8888888888888888,
             "#fdca26"
            ],
            [
             1,
             "#f0f921"
            ]
           ]
          },
          "colorway": [
           "#636efa",
           "#EF553B",
           "#00cc96",
           "#ab63fa",
           "#FFA15A",
           "#19d3f3",
           "#FF6692",
           "#B6E880",
           "#FF97FF",
           "#FECB52"
          ],
          "font": {
           "color": "#2a3f5f"
          },
          "geo": {
           "bgcolor": "white",
           "lakecolor": "white",
           "landcolor": "#E5ECF6",
           "showlakes": true,
           "showland": true,
           "subunitcolor": "white"
          },
          "hoverlabel": {
           "align": "left"
          },
          "hovermode": "closest",
          "mapbox": {
           "style": "light"
          },
          "paper_bgcolor": "white",
          "plot_bgcolor": "#E5ECF6",
          "polar": {
           "angularaxis": {
            "gridcolor": "white",
            "linecolor": "white",
            "ticks": ""
           },
           "bgcolor": "#E5ECF6",
           "radialaxis": {
            "gridcolor": "white",
            "linecolor": "white",
            "ticks": ""
           }
          },
          "scene": {
           "xaxis": {
            "backgroundcolor": "#E5ECF6",
            "gridcolor": "white",
            "gridwidth": 2,
            "linecolor": "white",
            "showbackground": true,
            "ticks": "",
            "zerolinecolor": "white"
           },
           "yaxis": {
            "backgroundcolor": "#E5ECF6",
            "gridcolor": "white",
            "gridwidth": 2,
            "linecolor": "white",
            "showbackground": true,
            "ticks": "",
            "zerolinecolor": "white"
           },
           "zaxis": {
            "backgroundcolor": "#E5ECF6",
            "gridcolor": "white",
            "gridwidth": 2,
            "linecolor": "white",
            "showbackground": true,
            "ticks": "",
            "zerolinecolor": "white"
           }
          },
          "shapedefaults": {
           "line": {
            "color": "#2a3f5f"
           }
          },
          "ternary": {
           "aaxis": {
            "gridcolor": "white",
            "linecolor": "white",
            "ticks": ""
           },
           "baxis": {
            "gridcolor": "white",
            "linecolor": "white",
            "ticks": ""
           },
           "bgcolor": "#E5ECF6",
           "caxis": {
            "gridcolor": "white",
            "linecolor": "white",
            "ticks": ""
           }
          },
          "title": {
           "x": 0.05
          },
          "xaxis": {
           "automargin": true,
           "gridcolor": "white",
           "linecolor": "white",
           "ticks": "",
           "title": {
            "standoff": 15
           },
           "zerolinecolor": "white",
           "zerolinewidth": 2
          },
          "yaxis": {
           "automargin": true,
           "gridcolor": "white",
           "linecolor": "white",
           "ticks": "",
           "title": {
            "standoff": 15
           },
           "zerolinecolor": "white",
           "zerolinewidth": 2
          }
         }
        },
        "title": {
         "text": "파이차트"
        }
       }
      }
     },
     "metadata": {},
     "output_type": "display_data"
    }
   ],
   "source": [
    "instance.pie_graph(df,x,y)"
   ]
  },
  {
   "cell_type": "code",
   "execution_count": 14,
   "metadata": {},
   "outputs": [
    {
     "data": {
      "application/vnd.plotly.v1+json": {
       "config": {
        "plotlyServerURL": "https://plot.ly"
       },
       "data": [
        {
         "insidetextorientation": "radial",
         "labels": [
          "토릭 렌즈삽입술",
          "스마일",
          "스마일",
          "스마일",
          "스마일",
          "스마일",
          "커스텀 라섹",
          "스마일 프로",
          "스마일",
          "커스텀 라섹",
          "스마일",
          "스마일",
          "스마일",
          "스마일 프로",
          "스마일",
          "스마일",
          "스마일",
          "라섹",
          "스마일",
          "스마일",
          "스마일",
          "스마일",
          "스마일",
          "스마일",
          "라섹",
          "스마일",
          "스마일",
          "스마일",
          "라섹",
          "스마일 프로",
          "스마일 프로",
          "스마일",
          "스마일",
          "스마일",
          "스마일",
          "라섹",
          "렌즈삽입술",
          "스마일",
          "스마일",
          "스마일",
          "스마일",
          "스마일",
          "스마일 프로",
          "스마일",
          "스마일",
          "스마일",
          "스마일",
          "스마일",
          "스마일",
          "스마일",
          "스마일 프로",
          "스마일",
          "스마일",
          "스마일",
          "스마일",
          "스마일 프로",
          "스마일",
          "스마일",
          "라섹",
          "스마일",
          "라섹",
          "스마일",
          "토릭 렌즈삽입술",
          "스마일 프로",
          "라식",
          "스마일",
          "스마일 프로",
          "스마일",
          "라섹",
          "스마일",
          "토릭 렌즈삽입술",
          "라섹",
          "라섹",
          "커스텀 라섹",
          "커스텀 라식",
          "커스텀 라식",
          "스마일",
          "스마일 프로",
          "라섹",
          "스마일",
          "토릭 렌즈삽입술",
          "토릭 렌즈삽입술",
          "스마일",
          "라섹",
          "스마일",
          "스마일",
          "라섹",
          "스마일",
          "스마일",
          "스마일 프로",
          "토릭 렌즈삽입술",
          "토릭 렌즈삽입술",
          "스마일",
          "토릭 렌즈삽입술",
          "라섹",
          "스마일 프로",
          "라섹",
          "라식",
          "커스텀 라식",
          "스마일",
          "스마일",
          "라섹",
          "스마일 프로",
          "스마일",
          "라섹",
          "스마일",
          "스마일",
          "스마일",
          "라섹",
          "스마일",
          "스마일",
          "스마일 프로",
          "스마일",
          "스마일",
          "스마일",
          "스마일",
          "스마일",
          "스마일",
          "스마일",
          "스마일",
          "라섹",
          "스마일",
          "스마일",
          "스마일",
          "스마일 프로",
          "스마일",
          "스마일",
          "스마일 프로",
          "스마일 프로",
          "스마일 프로",
          "스마일",
          "커스텀 라식",
          "스마일",
          "라식",
          "라섹",
          "스마일",
          "스마일",
          "스마일 프로",
          "스마일 프로",
          "스마일",
          "토릭 렌즈삽입술",
          "렌즈삽입술",
          "스마일",
          "스마일",
          "스마일",
          "스마일 프로",
          "스마일",
          "스마일",
          "스마일",
          "스마일",
          "스마일",
          "스마일",
          "스마일 프로",
          "스마일",
          "라섹",
          "스마일",
          "스마일",
          "토릭 렌즈삽입술",
          "스마일",
          "스마일 프로",
          "토릭 렌즈삽입술",
          "스마일",
          "스마일",
          "스마일",
          "스마일",
          "스마일 프로",
          "스마일",
          "스마일 프로",
          "스마일",
          "라섹",
          "스마일",
          "스마일",
          "스마일 프로",
          "스마일",
          "스마일 프로",
          "스마일 프로",
          "스마일",
          "스마일",
          "렌즈삽입술",
          "라섹",
          "스마일",
          "스마일",
          "스마일",
          "렌즈삽입술",
          "렌즈삽입술",
          "라섹",
          "스마일 프로",
          "라섹",
          "스마일",
          "토릭 렌즈삽입술",
          "라섹",
          "스마일",
          "스마일",
          "토릭 렌즈삽입술",
          "스마일 프로",
          "라섹",
          "커스텀 라식",
          "스마일",
          "스마일 프로",
          "스마일 프로",
          "스마일",
          "라섹",
          "스마일",
          "스마일",
          "라섹",
          "스마일",
          "토릭 렌즈삽입술",
          "스마일",
          "스마일",
          "스마일",
          "스마일",
          "스마일",
          "커스텀 라섹",
          "스마일 프로",
          "라섹",
          "라섹",
          "스마일 프로",
          "스마일 프로",
          "스마일 프로",
          "스마일",
          "스마일",
          "스마일",
          "스마일",
          "커스텀 라식",
          "커스텀 라섹",
          "스마일 프로",
          "토릭 렌즈삽입술",
          "토릭 렌즈삽입술",
          "스마일",
          "스마일",
          "스마일",
          "렌즈삽입술",
          "스마일",
          "스마일 프로",
          "라섹",
          "라식",
          "스마일",
          "라섹",
          "스마일 프로",
          "토릭 렌즈삽입술",
          "라섹",
          "토릭 렌즈삽입술",
          "라식",
          "라섹",
          "스마일 프로",
          "스마일",
          "스마일",
          "스마일",
          "스마일",
          "스마일",
          "라식",
          "스마일 프로",
          "스마일",
          "라섹",
          "스마일",
          "스마일 프로",
          "스마일 프로",
          "라섹",
          "스마일",
          "스마일",
          "스마일",
          "스마일",
          "스마일",
          "스마일",
          "스마일",
          "토릭 렌즈삽입술",
          "토릭 렌즈삽입술",
          "스마일 프로",
          "토릭 렌즈삽입술",
          "스마일",
          "스마일 프로",
          "스마일",
          "스마일 프로",
          "스마일 프로",
          "스마일",
          "라섹",
          "스마일",
          "스마일",
          "스마일",
          "라식",
          "스마일",
          "라섹",
          "스마일",
          "스마일",
          "스마일 프로",
          "스마일",
          "스마일",
          "스마일 프로",
          "스마일",
          "라섹",
          "라섹",
          "스마일",
          "스마일",
          "스마일",
          "스마일",
          "라섹",
          "스마일",
          "라섹",
          "스마일",
          "스마일",
          "라섹",
          "스마일",
          "스마일",
          "스마일 프로",
          "스마일",
          "스마일",
          "토릭 렌즈삽입술",
          "스마일",
          "스마일",
          "커스텀 라식",
          "스마일",
          "라섹",
          "스마일",
          "스마일 프로",
          "스마일",
          "토릭 렌즈삽입술",
          "스마일",
          "라섹",
          "렌즈삽입술",
          "라섹",
          "스마일",
          "스마일",
          "토릭 렌즈삽입술",
          "스마일",
          "스마일",
          "스마일",
          "스마일 프로",
          "스마일",
          "스마일",
          "스마일",
          "스마일",
          "스마일 프로",
          "스마일",
          "렌즈삽입술",
          "렌즈삽입술",
          "스마일",
          "스마일 프로",
          "스마일",
          "스마일",
          "스마일 프로",
          "스마일",
          "렌즈삽입술",
          "스마일",
          "스마일 프로",
          "커스텀 라식",
          "스마일",
          "스마일",
          "스마일",
          "스마일",
          "스마일",
          "스마일 프로",
          "스마일",
          "스마일",
          "스마일 프로",
          "스마일 프로",
          "스마일 프로",
          "라섹",
          "스마일",
          "스마일",
          "라섹",
          "라식",
          "라섹",
          "스마일 프로",
          "라식",
          "스마일",
          "스마일",
          "스마일",
          "토릭 렌즈삽입술",
          "라섹",
          "스마일",
          "스마일",
          "스마일",
          "스마일",
          "라섹",
          "스마일",
          "커스텀 라섹",
          "라섹",
          "라섹",
          "라섹",
          "스마일",
          "스마일",
          "스마일",
          "커스텀 라섹",
          "스마일",
          "스마일 프로",
          "스마일",
          "커스텀 라식",
          "스마일",
          "스마일",
          "토릭 렌즈삽입술",
          "스마일 프로",
          "렌즈삽입술",
          "렌즈삽입술",
          "라식",
          "스마일",
          "스마일",
          "퍼스널 라식",
          "스마일",
          "스마일",
          "토릭 렌즈삽입술",
          "스마일",
          "스마일",
          "스마일",
          "라식",
          "토릭 렌즈삽입술",
          "스마일",
          "스마일",
          "스마일",
          "스마일",
          "토릭 렌즈삽입술",
          "스마일",
          "스마일",
          "스마일",
          "스마일",
          "스마일",
          "스마일",
          "스마일",
          "스마일",
          "스마일",
          "스마일",
          "커스텀 라식",
          "스마일 프로",
          "스마일",
          "스마일",
          "스마일",
          "커스텀 라섹",
          "스마일",
          "렌즈삽입술",
          "스마일",
          "스마일",
          "스마일",
          "스마일",
          "스마일",
          "스마일",
          "토릭 렌즈삽입술",
          "스마일",
          "커스텀 라섹",
          "스마일",
          "토릭 렌즈삽입술",
          "스마일 프로",
          "스마일",
          "스마일",
          "스마일",
          "스마일 프로",
          "스마일",
          "스마일",
          "스마일",
          "스마일",
          "스마일 프로",
          "라섹",
          "스마일",
          "스마일 프로",
          "스마일 프로",
          "스마일 프로",
          "스마일 프로",
          "스마일 프로",
          "스마일 프로",
          "스마일",
          "스마일",
          "스마일",
          "토릭 렌즈삽입술",
          "라섹",
          "라섹",
          "스마일",
          "라식",
          "라섹",
          "스마일",
          "스마일",
          "스마일 프로",
          "라식",
          "스마일",
          "스마일",
          "커스텀 라식",
          "라섹",
          "라섹",
          "스마일",
          "커스텀 라식",
          "스마일",
          "스마일",
          "스마일 프로",
          "토릭 렌즈삽입술",
          "라섹",
          "스마일",
          "스마일 프로",
          "스마일",
          "라섹",
          "스마일",
          "스마일",
          "스마일",
          "커스텀 라식",
          "스마일",
          "스마일",
          "스마일",
          "스마일",
          "렌즈삽입술",
          "스마일",
          "스마일 프로",
          "커스텀 라섹",
          "스마일",
          "라섹",
          "스마일",
          "라섹",
          "스마일",
          "라섹",
          "스마일",
          "토릭 렌즈삽입술",
          "커스텀 라섹",
          "스마일 프로",
          "스마일 프로",
          "라섹",
          "토릭 렌즈삽입술",
          "스마일",
          "스마일 프로",
          "스마일",
          "스마일",
          "스마일",
          "스마일",
          "스마일",
          "스마일 프로",
          "라섹",
          "스마일",
          "스마일",
          "커스텀 라섹",
          "스마일",
          "스마일",
          "스마일",
          "스마일",
          "스마일",
          "라섹",
          "스마일",
          "스마일 프로",
          "토릭 렌즈삽입술",
          "스마일 프로",
          "스마일",
          "스마일",
          "라섹",
          "스마일",
          "스마일",
          "라섹",
          "스마일",
          "스마일",
          "스마일 프로",
          "토릭 렌즈삽입술",
          "스마일",
          "커스텀 라식",
          "스마일",
          "라식",
          "스마일 프로",
          "스마일",
          "스마일",
          "스마일",
          "스마일",
          "라섹",
          "스마일",
          "라섹",
          "스마일",
          "스마일",
          "커스텀 라섹",
          "스마일 프로",
          "스마일 프로",
          "라섹",
          "토릭 렌즈삽입술",
          "스마일",
          "스마일 프로",
          "스마일",
          "커스텀 라섹",
          "라식",
          "토릭 렌즈삽입술",
          "토릭 렌즈삽입술",
          "스마일 프로",
          "스마일",
          "스마일 프로",
          "스마일",
          "라식",
          "스마일",
          "스마일",
          "스마일",
          "라식",
          "스마일",
          "스마일",
          "커스텀 라섹",
          "스마일 프로",
          "스마일",
          "스마일",
          "커스텀 라식",
          "토릭 렌즈삽입술",
          "라섹",
          "라식",
          "스마일",
          "스마일",
          "스마일",
          "라섹",
          "토릭 렌즈삽입술",
          "스마일",
          "라섹",
          "라섹",
          "라섹",
          "스마일",
          "스마일 프로",
          "스마일",
          "스마일",
          "라섹",
          "스마일",
          "토릭 렌즈삽입술",
          "스마일 프로",
          "스마일 프로",
          "스마일 프로",
          "스마일",
          "스마일",
          "스마일 프로",
          "스마일 프로",
          "스마일",
          "스마일",
          "스마일",
          "스마일",
          "스마일",
          "스마일",
          "스마일 프로",
          "스마일",
          "스마일",
          "스마일",
          "스마일",
          "스마일",
          "스마일",
          "스마일",
          "스마일",
          "스마일",
          "렌즈삽입술",
          "라섹",
          "스마일",
          "스마일",
          "커스텀 라식",
          "스마일 프로",
          "스마일",
          "라섹",
          "라섹",
          "스마일",
          "퍼스널 라식",
          "라섹",
          "스마일",
          "토릭 렌즈삽입술",
          "스마일",
          "스마일",
          "스마일 프로",
          "스마일 프로",
          "스마일",
          "스마일",
          "스마일",
          "라식",
          "스마일",
          "스마일",
          "렌즈삽입술",
          "커스텀 라섹",
          "스마일",
          "토릭 렌즈삽입술",
          "스마일 프로",
          "토릭 렌즈삽입술",
          "토릭 렌즈삽입술",
          "스마일",
          "스마일",
          "스마일",
          "스마일",
          "스마일 프로",
          "스마일",
          "스마일",
          "커스텀 라식",
          "스마일",
          "라식",
          "커스텀 라식",
          "스마일 프로",
          "토릭 렌즈삽입술",
          "토릭 렌즈삽입술",
          "스마일",
          "스마일",
          "스마일",
          "스마일",
          "스마일",
          "스마일",
          "라섹",
          "스마일",
          "토릭 렌즈삽입술",
          "스마일",
          "스마일",
          "스마일",
          "스마일",
          "스마일",
          "렌즈삽입술",
          "커스텀 라섹",
          "스마일",
          "라식",
          "스마일",
          "스마일 프로",
          "스마일",
          "스마일",
          "토릭 렌즈삽입술",
          "커스텀 라섹",
          "스마일 프로",
          "라식",
          "토릭 렌즈삽입술",
          "토릭 렌즈삽입술",
          "스마일",
          "스마일",
          "스마일",
          "스마일",
          "스마일 프로",
          "스마일",
          "스마일",
          "스마일 프로",
          "토릭 렌즈삽입술",
          "라섹",
          "커스텀 라식",
          "스마일",
          "라섹",
          "커스텀 라식",
          "스마일 프로",
          "스마일",
          "라섹",
          "스마일",
          "라섹",
          "스마일",
          "스마일",
          "스마일",
          "스마일 프로",
          "스마일",
          "스마일",
          "스마일",
          "스마일",
          "스마일",
          "스마일",
          "스마일",
          "토릭 렌즈삽입술",
          "커스텀 라식",
          "라식",
          "스마일",
          "스마일",
          "라섹",
          "라식",
          "라섹",
          "스마일",
          "스마일",
          "스마일 프로",
          "스마일",
          "스마일",
          "커스텀 라섹",
          "스마일",
          "커스텀 라섹",
          "라식",
          "스마일",
          "스마일 프로",
          "스마일 프로",
          "스마일",
          "스마일",
          "라섹",
          "스마일",
          "토릭 렌즈삽입술",
          "스마일",
          "토릭 렌즈삽입술",
          "라섹",
          "스마일",
          "스마일",
          "스마일",
          "스마일",
          "스마일",
          "라섹",
          "라섹",
          "커스텀 라식",
          "스마일",
          "라섹",
          "라섹",
          "스마일",
          "스마일",
          "토릭 렌즈삽입술",
          "스마일",
          "스마일",
          "스마일",
          "라섹",
          "스마일",
          "토릭 렌즈삽입술",
          "스마일",
          "스마일 프로",
          "라섹",
          "스마일",
          "토릭 렌즈삽입술",
          "스마일",
          "스마일",
          "라섹",
          "스마일 프로",
          "스마일 프로",
          "스마일 프로",
          "스마일",
          "스마일 프로",
          "커스텀 라섹",
          "스마일 프로",
          "스마일",
          "스마일",
          "라섹",
          "스마일",
          "라섹",
          "라식",
          "스마일",
          "스마일",
          "라섹",
          "라섹",
          "토릭 렌즈삽입술",
          "스마일",
          "라섹",
          "스마일 프로",
          "라섹",
          "라식",
          "스마일",
          "커스텀 라섹",
          "스마일",
          "스마일 프로",
          "커스텀 라섹",
          "스마일",
          "스마일",
          "토릭 렌즈삽입술",
          "스마일",
          "스마일",
          "스마일",
          "스마일",
          "스마일",
          "스마일",
          "스마일",
          "스마일",
          "라섹",
          "스마일 프로",
          "스마일",
          "스마일",
          "스마일",
          "라섹",
          "스마일 프로",
          "스마일",
          "라식",
          "스마일",
          "스마일",
          "스마일",
          "토릭 렌즈삽입술",
          "라섹",
          "스마일",
          "스마일",
          "커스텀 라섹",
          "스마일",
          "스마일",
          "라섹",
          "토릭 렌즈삽입술",
          "스마일",
          "스마일",
          "스마일",
          "스마일",
          "라섹",
          "스마일",
          "라섹",
          "스마일",
          "스마일",
          "커스텀 라식",
          "스마일",
          "라섹",
          "라섹",
          "토릭 렌즈삽입술",
          "스마일",
          "렌즈삽입술",
          "스마일",
          "스마일",
          "스마일",
          "라섹",
          "스마일",
          "스마일",
          "라섹",
          "스마일",
          "스마일",
          "스마일 프로",
          "스마일",
          "라섹",
          "스마일 프로",
          "스마일",
          "스마일",
          "스마일",
          "스마일",
          "스마일",
          "스마일",
          "스마일",
          "토릭 렌즈삽입술",
          "스마일",
          "스마일",
          "스마일 프로",
          "스마일 프로",
          "스마일 프로",
          "스마일",
          "스마일",
          "스마일 프로",
          "라섹",
          "스마일",
          "스마일",
          "스마일",
          "라섹",
          "스마일",
          "스마일",
          "스마일 프로",
          "스마일",
          "스마일",
          "스마일",
          "스마일",
          "스마일 프로",
          "라섹",
          "스마일",
          "스마일",
          "커스텀 라섹",
          "스마일",
          "스마일 프로",
          "스마일",
          "스마일",
          "스마일",
          "라식",
          "스마일",
          "스마일",
          "스마일 프로",
          "스마일",
          "스마일",
          "라섹",
          "라섹",
          "스마일",
          "스마일",
          "스마일 프로",
          "스마일",
          "스마일",
          "스마일",
          "토릭 렌즈삽입술",
          "라식",
          "스마일",
          "커스텀 라섹",
          "커스텀 라식",
          "스마일 프로",
          "스마일",
          "스마일",
          "커스텀 라섹",
          "라섹",
          "스마일",
          "스마일 프로",
          "스마일",
          "커스텀 라식",
          "토릭 렌즈삽입술",
          "스마일",
          "스마일",
          "라섹",
          "스마일",
          "스마일",
          "라섹",
          "스마일",
          "토릭 렌즈삽입술",
          "스마일",
          "스마일 프로",
          "스마일 프로",
          "스마일 프로",
          "커스텀 라섹",
          "커스텀 라섹",
          "스마일",
          "스마일",
          "커스텀 라섹",
          "스마일",
          "스마일",
          "스마일",
          "토릭 렌즈삽입술",
          "스마일",
          "스마일",
          "토릭 렌즈삽입술",
          "라섹",
          "스마일",
          "라섹",
          "스마일",
          "스마일",
          "스마일",
          "커스텀 라섹",
          "스마일",
          "스마일 프로",
          "라섹",
          "라섹",
          "스마일",
          "스마일",
          "스마일",
          "렌즈삽입술",
          "커스텀 라식",
          "라식",
          "라섹",
          "스마일",
          "스마일",
          "스마일",
          "스마일",
          "커스텀 라식",
          "라섹",
          "스마일",
          "스마일 프로",
          "스마일",
          "스마일",
          "스마일",
          "스마일 프로",
          "스마일",
          "스마일",
          "스마일",
          "스마일",
          "스마일 프로",
          "스마일",
          "커스텀 라섹",
          "스마일 프로",
          "스마일",
          "스마일",
          "토릭 렌즈삽입술",
          "커스텀 라섹",
          "스마일",
          "스마일",
          "라섹",
          "스마일",
          "토릭 렌즈삽입술",
          "커스텀 라섹",
          "커스텀 라식",
          "스마일",
          "스마일 프로",
          "스마일",
          "커스텀 라식",
          "커스텀 라섹",
          "스마일",
          "스마일",
          "스마일",
          "렌즈삽입술",
          "커스텀 라식",
          "라섹",
          "스마일",
          "라섹",
          "스마일 프로",
          "스마일",
          "스마일",
          "라섹",
          "스마일 프로",
          "스마일",
          "라섹",
          "스마일",
          "스마일",
          "라식",
          "라섹",
          "렌즈삽입술",
          "스마일",
          "스마일",
          "라섹",
          "스마일",
          "라식",
          "스마일",
          "스마일 프로",
          "스마일",
          "스마일",
          "스마일 프로",
          "스마일",
          "스마일",
          "라섹",
          "라섹",
          "스마일",
          "스마일",
          "스마일",
          "스마일 프로",
          "스마일",
          "스마일",
          "커스텀 라식",
          "커스텀 라섹",
          "스마일",
          "스마일",
          "스마일 프로",
          "스마일 프로",
          "스마일",
          "라섹",
          "스마일 프로",
          "렌즈삽입술",
          "스마일",
          "스마일",
          "렌즈삽입술",
          "스마일",
          "라섹",
          "스마일",
          "라섹",
          "라섹",
          "스마일",
          "라섹",
          "스마일",
          "스마일",
          "커스텀 라섹",
          "스마일",
          "라섹",
          "스마일",
          "스마일",
          "라섹",
          "스마일 프로",
          "라섹",
          "스마일",
          "라섹",
          "커스텀 라식",
          "스마일",
          "스마일",
          "커스텀 라식",
          "라섹",
          "스마일",
          "라식",
          "스마일",
          "스마일",
          "스마일",
          "토릭 렌즈삽입술",
          "스마일",
          "스마일",
          "스마일",
          "스마일",
          "스마일",
          "스마일",
          "라섹",
          "스마일",
          "스마일",
          "스마일",
          "스마일",
          "토릭 렌즈삽입술",
          "커스텀 라식",
          "스마일",
          "스마일",
          "스마일",
          "라섹",
          "스마일",
          "스마일",
          "스마일",
          "스마일 프로",
          "커스텀 라식",
          "스마일",
          "스마일",
          "스마일 프로",
          "라식",
          "스마일",
          "스마일",
          "스마일",
          "스마일 프로",
          "스마일",
          "스마일",
          "라식",
          "라섹",
          "스마일",
          "토릭 렌즈삽입술",
          "스마일 프로",
          "라섹",
          "스마일",
          "스마일 프로",
          "스마일",
          "스마일",
          "스마일 프로",
          "스마일",
          "스마일",
          "스마일",
          "커스텀 라식",
          "스마일",
          "토릭 렌즈삽입술",
          "커스텀 라섹",
          "스마일",
          "라섹",
          "라섹",
          "스마일",
          "라식",
          "커스텀 라식",
          "렌즈삽입술",
          "스마일",
          "스마일 프로",
          "스마일",
          "라섹",
          "커스텀 라섹",
          "스마일",
          "스마일",
          "스마일",
          "스마일",
          "스마일 프로",
          "스마일",
          "스마일",
          "스마일",
          "스마일",
          "스마일",
          "스마일 프로",
          "스마일",
          "스마일",
          "토릭 렌즈삽입술",
          "스마일",
          "스마일",
          "스마일",
          "스마일",
          "스마일 프로",
          "스마일",
          "커스텀 라식",
          "스마일",
          "스마일",
          "커스텀 라식",
          "커스텀 라섹",
          "라섹",
          "스마일",
          "라섹",
          "스마일 프로",
          "스마일",
          "라섹",
          "스마일 프로",
          "스마일",
          "스마일",
          "라섹",
          "스마일",
          "스마일",
          "스마일",
          "스마일",
          "라섹",
          "라섹",
          "스마일",
          "스마일",
          "라섹",
          "스마일",
          "스마일",
          "라섹",
          "스마일",
          "스마일",
          "렌즈삽입술",
          "스마일",
          "스마일",
          "스마일",
          "스마일 프로",
          "렌즈삽입술",
          "라섹",
          "스마일 프로",
          "스마일",
          "토릭 렌즈삽입술",
          "스마일",
          "렌즈삽입술",
          "라섹",
          "라식",
          "스마일",
          "스마일",
          "스마일",
          "스마일",
          "스마일",
          "스마일",
          "스마일",
          "커스텀 라섹",
          "스마일",
          "스마일",
          "라식",
          "라섹",
          "토릭 렌즈삽입술",
          "스마일",
          "스마일",
          "스마일 프로",
          "스마일",
          "라섹",
          "스마일",
          "스마일",
          "스마일",
          "라섹",
          "라섹",
          "스마일",
          "커스텀 라섹",
          "라섹",
          "스마일",
          "스마일",
          "스마일",
          "스마일",
          "라섹",
          "스마일 프로",
          "라섹",
          "스마일 프로",
          "스마일",
          "스마일",
          "스마일",
          "스마일 프로",
          "토릭 렌즈삽입술",
          "스마일 프로",
          "스마일",
          "스마일 프로",
          "스마일",
          "스마일",
          "스마일",
          "라섹",
          "렌즈삽입술",
          "렌즈삽입술",
          "스마일",
          "스마일",
          "스마일",
          "스마일",
          "스마일",
          "라식",
          "커스텀 라섹",
          "스마일",
          "스마일 프로",
          "스마일 프로",
          "스마일",
          "커스텀 라식",
          "스마일",
          "스마일",
          "라섹",
          "스마일",
          "스마일",
          "스마일",
          "스마일 프로",
          "스마일 프로",
          "스마일",
          "스마일",
          "스마일",
          "스마일",
          "스마일",
          "스마일",
          "라식",
          "스마일 프로",
          "라섹",
          "커스텀 라식",
          "라섹",
          "스마일 프로",
          "스마일",
          "스마일 프로",
          "스마일 프로",
          "스마일",
          "스마일",
          "스마일 프로",
          "스마일",
          "스마일 프로",
          "스마일",
          "스마일",
          "라섹",
          "스마일",
          "스마일",
          "토릭 렌즈삽입술",
          "커스텀 라식",
          "스마일",
          "스마일",
          "스마일",
          "스마일",
          "라섹",
          "스마일",
          "스마일",
          "스마일",
          "스마일",
          "커스텀 라식",
          "스마일",
          "라섹",
          "커스텀 라식",
          "스마일 프로",
          "렌즈삽입술",
          "커스텀 라섹",
          "스마일",
          "스마일",
          "스마일",
          "스마일",
          "토릭 렌즈삽입술",
          "스마일",
          "스마일",
          "커스텀 라식",
          "스마일",
          "퍼스널 라식",
          "라섹",
          "라섹",
          "커스텀 라식",
          "스마일",
          "스마일",
          "스마일",
          "라식",
          "스마일 프로",
          "라섹",
          "스마일",
          "스마일",
          "스마일",
          "라식",
          "스마일",
          "스마일 프로",
          "스마일",
          "스마일",
          "스마일",
          "스마일 프로",
          "토릭 렌즈삽입술",
          "커스텀 라섹",
          "스마일",
          "스마일",
          "스마일",
          "렌즈삽입술",
          "스마일",
          "라식",
          "토릭 렌즈삽입술",
          "스마일 프로",
          "스마일",
          "스마일",
          "스마일",
          "스마일",
          "스마일",
          "토릭 렌즈삽입술",
          "스마일",
          "토릭 렌즈삽입술",
          "라섹",
          "스마일",
          "토릭 렌즈삽입술",
          "스마일",
          "스마일",
          "스마일",
          "스마일",
          "스마일",
          "스마일",
          "커스텀 라섹",
          "스마일",
          "스마일",
          "스마일 프로",
          "스마일",
          "스마일",
          "라식",
          "스마일",
          "스마일",
          "커스텀 라식",
          "스마일",
          "스마일",
          "라식",
          "렌즈삽입술",
          "토릭 렌즈삽입술",
          "라섹",
          "라섹",
          "스마일",
          "토릭 렌즈삽입술",
          "스마일",
          "라섹",
          "토릭 렌즈삽입술",
          "스마일",
          "스마일",
          "토릭 렌즈삽입술",
          "토릭 렌즈삽입술",
          "토릭 렌즈삽입술",
          "스마일",
          "라섹",
          "토릭 렌즈삽입술",
          "스마일",
          "커스텀 라식",
          "스마일",
          "스마일 프로",
          "토릭 렌즈삽입술",
          "스마일",
          "스마일",
          "스마일",
          "라섹",
          "스마일",
          "스마일 프로",
          "스마일",
          "토릭 렌즈삽입술",
          "스마일",
          "라섹",
          "라섹",
          "스마일",
          "스마일",
          "스마일 프로",
          "스마일",
          "렌즈삽입술",
          "라식",
          "스마일 프로",
          "스마일 프로",
          "스마일",
          "스마일 프로",
          "커스텀 라섹",
          "스마일",
          "스마일",
          "스마일",
          "스마일",
          "스마일",
          "토릭 렌즈삽입술",
          "스마일",
          "스마일 프로",
          "스마일",
          "라식",
          "커스텀 라섹",
          "스마일",
          "렌즈삽입술",
          "스마일",
          "라섹",
          "스마일",
          "커스텀 라식",
          "스마일",
          "스마일",
          "라섹",
          "스마일",
          "스마일",
          "스마일 프로",
          "스마일 프로",
          "스마일",
          "라식",
          "렌즈삽입술",
          "라식",
          "스마일",
          "라섹",
          "스마일",
          "스마일",
          "토릭 렌즈삽입술",
          "스마일",
          "스마일",
          "스마일",
          "라섹",
          "스마일",
          "라섹",
          "스마일",
          "스마일",
          "토릭 렌즈삽입술",
          "스마일",
          "스마일",
          "스마일",
          "스마일 프로",
          "스마일",
          "토릭 렌즈삽입술",
          "스마일 프로",
          "라섹",
          "스마일",
          "토릭 렌즈삽입술",
          "스마일 프로",
          "스마일",
          "스마일",
          "토릭 렌즈삽입술",
          "커스텀 라섹",
          "스마일",
          "라섹",
          "스마일",
          "라섹",
          "스마일",
          "스마일",
          "스마일",
          "커스텀 라식",
          "스마일",
          "라섹",
          "커스텀 라섹",
          "렌즈삽입술",
          "스마일",
          "스마일 프로",
          "스마일",
          "스마일",
          "스마일",
          "스마일 프로",
          "스마일",
          "스마일 프로",
          "스마일 프로",
          "스마일",
          "스마일 프로",
          "커스텀 라섹",
          "스마일",
          "스마일",
          "스마일",
          "스마일",
          "라식",
          "스마일",
          "토릭 렌즈삽입술",
          "스마일",
          "라섹",
          "커스텀 라식",
          "스마일",
          "스마일",
          "스마일",
          "라식",
          "토릭 렌즈삽입술",
          "라식",
          "스마일",
          "스마일 프로",
          "스마일 프로",
          "스마일 프로",
          "스마일",
          "라섹",
          "스마일",
          "라식",
          "스마일",
          "커스텀 라섹",
          "스마일",
          "스마일",
          "라섹",
          "스마일 프로",
          "라섹",
          "스마일",
          "스마일",
          "커스텀 라식",
          "라섹",
          "스마일",
          "커스텀 라식",
          "스마일",
          "커스텀 라섹",
          "스마일 프로",
          "스마일",
          "스마일",
          "라섹",
          "커스텀 라식",
          "라섹",
          "라식",
          "라섹",
          "라섹",
          "커스텀 라식",
          "라섹",
          "스마일",
          "렌즈삽입술",
          "스마일",
          "스마일",
          "커스텀 라식",
          "라섹",
          "라섹",
          "커스텀 라섹",
          "커스텀 라섹",
          "토릭 렌즈삽입술",
          "스마일",
          "스마일",
          "스마일",
          "스마일",
          "스마일",
          "스마일",
          "스마일",
          "라식",
          "스마일",
          "스마일",
          "스마일",
          "스마일",
          "스마일",
          "토릭 렌즈삽입술",
          "커스텀 라식",
          "스마일 프로",
          "스마일",
          "스마일",
          "커스텀 라식",
          "스마일 프로",
          "스마일",
          "라섹",
          "스마일",
          "스마일",
          "스마일 프로",
          "스마일",
          "스마일",
          "토릭 렌즈삽입술",
          "스마일",
          "스마일",
          "라섹",
          "라섹",
          "커스텀 라식",
          "라섹",
          "라섹",
          "스마일",
          "스마일",
          "스마일",
          "라식",
          "커스텀 라식",
          "스마일",
          "커스텀 라섹",
          "스마일 프로",
          "라섹",
          "스마일",
          "스마일",
          "라섹",
          "스마일",
          "스마일",
          "스마일",
          "스마일",
          "렌즈삽입술",
          "스마일",
          "스마일",
          "라섹",
          "토릭 렌즈삽입술",
          "스마일 프로",
          "스마일 프로",
          "스마일",
          "라식",
          "라섹",
          "스마일",
          "라섹",
          "스마일",
          "스마일",
          "스마일",
          "라섹",
          "커스텀 라식",
          "스마일 프로",
          "스마일",
          "스마일",
          "커스텀 라식",
          "스마일",
          "렌즈삽입술",
          "스마일",
          "스마일",
          "토릭 렌즈삽입술",
          "스마일",
          "렌즈삽입술",
          "토릭 렌즈삽입술",
          "스마일",
          "렌즈삽입술",
          "토릭 렌즈삽입술",
          "스마일",
          "스마일 프로",
          "스마일",
          "스마일 프로",
          "스마일",
          "스마일 프로",
          "라섹",
          "라섹",
          "라섹",
          "스마일",
          "퍼스널 라식",
          "스마일",
          "라섹",
          "스마일",
          "토릭 렌즈삽입술",
          "라식",
          "스마일",
          "스마일 프로",
          "스마일",
          "스마일",
          "스마일",
          "스마일 프로",
          "라식",
          "스마일",
          "라섹",
          "스마일 프로",
          "토릭 렌즈삽입술",
          "스마일",
          "스마일",
          "스마일",
          "렌즈삽입술",
          "토릭 렌즈삽입술",
          "스마일 프로",
          "라섹",
          "스마일",
          "스마일",
          "라섹",
          "스마일",
          "스마일",
          "스마일",
          "스마일 프로",
          "스마일",
          "스마일",
          "스마일",
          "토릭 렌즈삽입술",
          "라섹",
          "스마일 프로",
          "스마일",
          "토릭 렌즈삽입술",
          "스마일",
          "스마일",
          "스마일",
          "라섹",
          "스마일",
          "스마일 프로",
          "라섹",
          "커스텀 라식",
          "스마일",
          "토릭 렌즈삽입술",
          "스마일 프로",
          "라섹",
          "스마일",
          "라섹",
          "스마일 프로",
          "스마일",
          "스마일",
          "커스텀 라식",
          "라섹",
          "라섹",
          "스마일",
          "스마일",
          "라섹",
          "스마일 프로",
          "스마일 프로",
          "스마일",
          "스마일",
          "스마일",
          "라섹",
          "커스텀 라식",
          "스마일",
          "라섹",
          "스마일",
          "스마일",
          "스마일",
          "스마일",
          "스마일",
          "스마일",
          "스마일",
          "스마일",
          "스마일",
          "스마일 프로",
          "스마일 프로",
          "스마일 프로",
          "스마일",
          "스마일",
          "스마일",
          "스마일",
          "스마일 프로",
          "스마일",
          "스마일",
          "스마일 프로",
          "토릭 렌즈삽입술",
          "스마일",
          "스마일",
          "스마일",
          "토릭 렌즈삽입술",
          "스마일",
          "스마일",
          "스마일",
          "라섹",
          "스마일",
          "커스텀 라섹",
          "스마일",
          "스마일",
          "스마일",
          "스마일",
          "커스텀 라식",
          "토릭 렌즈삽입술",
          "스마일",
          "스마일 프로",
          "스마일",
          "스마일",
          "스마일",
          "스마일",
          "스마일",
          "스마일",
          "스마일",
          "스마일",
          "스마일",
          "스마일",
          "스마일",
          "스마일",
          "스마일",
          "스마일 프로",
          "커스텀 라식",
          "스마일 프로",
          "스마일 프로",
          "스마일",
          "라식",
          "스마일",
          "라섹",
          "스마일 프로",
          "스마일",
          "라섹",
          "라식",
          "스마일",
          "라섹",
          "스마일",
          "스마일",
          "스마일",
          "커스텀 라식",
          "커스텀 라섹",
          "스마일",
          "스마일",
          "스마일 프로",
          "스마일",
          "라섹",
          "스마일",
          "스마일 프로",
          "렌즈삽입술",
          "라섹",
          "라식",
          "스마일",
          "스마일",
          "커스텀 라섹",
          "스마일",
          "스마일",
          "스마일",
          "라섹",
          "스마일",
          "스마일",
          "라섹",
          "라식",
          "스마일",
          "스마일",
          "스마일 프로",
          "스마일",
          "스마일",
          "스마일 프로",
          "라식",
          "스마일",
          "토릭 렌즈삽입술",
          "라섹",
          "스마일",
          "스마일",
          "스마일",
          "라섹",
          "라섹",
          "스마일",
          "커스텀 라섹",
          "스마일",
          "스마일",
          "스마일",
          "스마일",
          "스마일 프로",
          "스마일",
          "스마일",
          "스마일",
          "스마일",
          "스마일",
          "스마일",
          "스마일",
          "스마일",
          "스마일",
          "스마일",
          "커스텀 라섹",
          "커스텀 라식",
          "라섹",
          "스마일",
          "스마일",
          "스마일",
          "스마일 프로",
          "스마일",
          "커스텀 라섹",
          "커스텀 라식",
          "스마일",
          "커스텀 라섹",
          "스마일 프로",
          "스마일",
          "라식",
          "스마일 프로",
          "스마일",
          "스마일",
          "스마일 프로",
          "스마일",
          "스마일 프로",
          "스마일",
          "스마일 프로",
          "스마일",
          "라섹",
          "스마일 프로",
          "스마일",
          "스마일",
          "라식",
          "라식",
          "라섹",
          "스마일",
          "스마일 프로",
          "라섹",
          "스마일",
          "스마일",
          "커스텀 라섹",
          "토릭 렌즈삽입술",
          "스마일",
          "커스텀 라식",
          "토릭 렌즈삽입술",
          "라섹",
          "스마일",
          "스마일 프로",
          "스마일 프로",
          "토릭 렌즈삽입술",
          "스마일",
          "커스텀 라식",
          "스마일",
          "라식",
          "스마일",
          "스마일",
          "스마일",
          "스마일 프로",
          "라식",
          "커스텀 라섹",
          "라식",
          "라섹",
          "라섹",
          "라섹",
          "스마일",
          "스마일",
          "스마일",
          "라섹",
          "라섹",
          "라섹",
          "커스텀 라식",
          "스마일",
          "스마일 프로",
          "스마일",
          "라식",
          "스마일",
          "스마일",
          "스마일",
          "라섹",
          "스마일 프로",
          "스마일 프로",
          "스마일",
          "스마일",
          "스마일",
          "스마일",
          "스마일",
          "라섹",
          "스마일 프로",
          "렌즈삽입술",
          "스마일",
          "스마일",
          "스마일",
          "커스텀 라섹",
          "라섹",
          "토릭 렌즈삽입술",
          "스마일",
          "스마일 프로",
          "라섹",
          "스마일",
          "스마일",
          "스마일",
          "스마일 프로",
          "스마일",
          "스마일",
          "스마일",
          "스마일",
          "스마일",
          "스마일",
          "스마일",
          "커스텀 라식",
          "스마일",
          "스마일",
          "커스텀 라식",
          "스마일",
          "스마일",
          "스마일",
          "스마일",
          "라섹",
          "스마일 프로",
          "스마일",
          "라섹",
          "스마일",
          "스마일",
          "스마일",
          "스마일",
          "스마일",
          "스마일",
          "스마일",
          "스마일 프로",
          "스마일",
          "토릭 렌즈삽입술",
          "스마일",
          "스마일",
          "스마일",
          "라섹",
          "라섹",
          "스마일",
          "스마일",
          "스마일",
          "스마일",
          "커스텀 라식",
          "스마일",
          "라식",
          "스마일",
          "스마일",
          "스마일 프로",
          "스마일",
          "스마일",
          "커스텀 라식",
          "라식",
          "라섹",
          "라식",
          "스마일 프로",
          "스마일 프로",
          "라섹",
          "스마일",
          "라식",
          "토릭 렌즈삽입술",
          "토릭 렌즈삽입술",
          "라섹",
          "커스텀 라식",
          "스마일 프로",
          "라식",
          "스마일 프로",
          "커스텀 라식",
          "토릭 렌즈삽입술",
          "라섹",
          "스마일 프로",
          "스마일",
          "스마일",
          "스마일 프로",
          "라섹",
          "커스텀 라섹",
          "라섹",
          "커스텀 라섹",
          "스마일",
          "스마일",
          "스마일",
          "스마일 프로",
          "스마일",
          "라섹",
          "스마일",
          "스마일",
          "스마일",
          "라섹",
          "라식",
          "라섹",
          "스마일",
          "라섹",
          "스마일",
          "스마일",
          "스마일",
          "스마일",
          "스마일",
          "스마일 프로",
          "라섹",
          "스마일 프로",
          "스마일 프로",
          "토릭 렌즈삽입술",
          "스마일",
          "스마일",
          "스마일",
          "스마일",
          "스마일",
          "토릭 렌즈삽입술",
          "스마일",
          "스마일",
          "커스텀 라식",
          "스마일",
          "스마일",
          "스마일",
          "스마일 프로",
          "커스텀 라식",
          "스마일",
          "커스텀 라섹",
          "라섹",
          "스마일",
          "커스텀 라식",
          "스마일",
          "렌즈삽입술",
          "스마일",
          "스마일 프로",
          "스마일",
          "스마일",
          "스마일",
          "라섹",
          "스마일",
          "라섹",
          "스마일",
          "커스텀 라섹",
          "라섹",
          "커스텀 라식",
          "라식",
          "스마일",
          "스마일",
          "라섹",
          "커스텀 라식",
          "스마일",
          "토릭 렌즈삽입술",
          "라식",
          "라식",
          "스마일",
          "스마일",
          "라섹",
          "스마일",
          "토릭 렌즈삽입술",
          "스마일",
          "스마일",
          "스마일",
          "스마일",
          "스마일",
          "스마일",
          "스마일 프로",
          "스마일",
          "커스텀 라식",
          "스마일",
          "스마일",
          "토릭 렌즈삽입술",
          "커스텀 라식",
          "스마일",
          "스마일",
          "라섹",
          "스마일 프로",
          "스마일 프로",
          "스마일",
          "커스텀 라식",
          "스마일",
          "스마일",
          "스마일",
          "라식",
          "스마일",
          "스마일",
          "스마일",
          "라식",
          "라섹",
          "스마일",
          "커스텀 라섹",
          "스마일",
          "스마일",
          "스마일 프로",
          "토릭 렌즈삽입술",
          "라식",
          "스마일",
          "스마일",
          "커스텀 라섹",
          "토릭 렌즈삽입술",
          "커스텀 라식",
          "스마일 프로",
          "스마일",
          "스마일",
          "토릭 렌즈삽입술",
          "스마일",
          "스마일 프로",
          "렌즈삽입술",
          "스마일 프로",
          "스마일",
          "스마일 프로",
          "스마일",
          "스마일 프로",
          "라식",
          "토릭 렌즈삽입술",
          "스마일",
          "스마일",
          "토릭 렌즈삽입술",
          "스마일",
          "스마일 프로",
          "스마일",
          "스마일",
          "스마일",
          "스마일 프로",
          "스마일",
          "스마일",
          "스마일",
          "스마일",
          "스마일",
          "스마일",
          "렌즈삽입술",
          "스마일",
          "토릭 렌즈삽입술",
          "스마일",
          "스마일",
          "스마일",
          "스마일",
          "스마일",
          "커스텀 라섹",
          "스마일",
          "스마일",
          "스마일",
          "스마일",
          "토릭 렌즈삽입술",
          "렌즈삽입술",
          "커스텀 라섹",
          "스마일",
          "스마일",
          "스마일",
          "스마일",
          "스마일",
          "스마일",
          "스마일",
          "스마일",
          "스마일",
          "라섹",
          "토릭 렌즈삽입술",
          "라식",
          "스마일 프로",
          "스마일 프로",
          "스마일",
          "스마일",
          "스마일",
          "토릭 렌즈삽입술",
          "토릭 렌즈삽입술",
          "스마일",
          "라식",
          "스마일 프로",
          "스마일 프로",
          "스마일",
          "퍼스널 라식",
          "퍼스널 라식",
          "스마일 프로",
          "스마일 프로",
          "스마일",
          "스마일",
          "스마일 프로",
          "스마일",
          "스마일",
          "스마일",
          "스마일",
          "스마일",
          "스마일",
          "스마일",
          "라섹",
          "라섹",
          "스마일 프로",
          "스마일 프로",
          "스마일",
          "라섹",
          "커스텀 라섹",
          "토릭 렌즈삽입술",
          "스마일 프로",
          "스마일",
          "렌즈삽입술",
          "라식",
          "스마일",
          "스마일 프로",
          "스마일",
          "스마일",
          "토릭 렌즈삽입술",
          "스마일 프로",
          "스마일",
          "스마일",
          "스마일",
          "스마일",
          "스마일 프로",
          "스마일",
          "라식",
          "토릭 렌즈삽입술",
          "라섹",
          "토릭 렌즈삽입술",
          "커스텀 라식",
          "스마일",
          "스마일",
          "스마일 프로",
          "라식",
          "라섹",
          "스마일",
          "라식",
          "스마일",
          "라섹",
          "스마일",
          "스마일 프로",
          "스마일",
          "토릭 렌즈삽입술",
          "스마일 프로",
          "라섹",
          "스마일",
          "스마일",
          "스마일",
          "스마일",
          "스마일",
          "스마일",
          "토릭 렌즈삽입술",
          "라섹",
          "렌즈삽입술",
          "스마일",
          "스마일",
          "스마일",
          "스마일 프로",
          "라식",
          "스마일",
          "라섹",
          "스마일",
          "스마일 프로",
          "커스텀 라식",
          "스마일",
          "라섹",
          "라섹",
          "스마일",
          "커스텀 라식",
          "스마일",
          "라섹",
          "스마일 프로",
          "토릭 렌즈삽입술",
          "스마일",
          "스마일",
          "토릭 렌즈삽입술",
          "스마일",
          "스마일",
          "렌즈삽입술",
          "라식",
          "스마일 프로",
          "라섹",
          "스마일",
          "스마일 프로",
          "토릭 렌즈삽입술",
          "스마일",
          "라섹",
          "스마일 프로",
          "스마일",
          "스마일",
          "라섹",
          "스마일",
          "스마일",
          "라섹",
          "스마일",
          "스마일",
          "스마일",
          "스마일 프로",
          "커스텀 라식",
          "스마일",
          "스마일",
          "토릭 렌즈삽입술",
          "스마일",
          "스마일",
          "스마일",
          "스마일",
          "스마일",
          "스마일",
          "스마일",
          "렌즈삽입술",
          "토릭 렌즈삽입술",
          "라섹",
          "스마일",
          "스마일",
          "커스텀 라식",
          "스마일 프로",
          "스마일",
          "스마일",
          "스마일",
          "스마일 프로",
          "스마일",
          "렌즈삽입술",
          "스마일 프로",
          "스마일",
          "스마일",
          "스마일",
          "라식",
          "커스텀 라식",
          "스마일",
          "스마일",
          "커스텀 라섹",
          "스마일",
          "스마일",
          "스마일",
          "스마일",
          "스마일 프로",
          "스마일",
          "라섹",
          "스마일 프로",
          "스마일",
          "스마일 프로",
          "스마일",
          "스마일",
          "스마일",
          "스마일",
          "스마일",
          "스마일",
          "스마일",
          "스마일",
          "스마일",
          "스마일",
          "스마일",
          "스마일",
          "스마일",
          "스마일",
          "커스텀 라식",
          "스마일",
          "라식",
          "스마일",
          "라섹",
          "커스텀 라식",
          "커스텀 라섹",
          "스마일",
          "스마일",
          "스마일",
          "스마일 프로",
          "스마일",
          "스마일",
          "스마일",
          "커스텀 라식",
          "스마일",
          "스마일",
          "스마일 프로",
          "스마일",
          "스마일",
          "스마일",
          "스마일",
          "라섹",
          "스마일",
          "스마일",
          "스마일",
          "스마일",
          "라식",
          "스마일",
          "라식",
          "커스텀 라식",
          "라식",
          "스마일",
          "스마일",
          "스마일",
          "커스텀 라식",
          "스마일",
          "스마일",
          "스마일",
          "스마일",
          "스마일 프로",
          "스마일",
          "스마일",
          "스마일",
          "스마일",
          "스마일",
          "스마일",
          "스마일",
          "스마일",
          "렌즈삽입술",
          "스마일",
          "스마일",
          "스마일",
          "스마일 프로",
          "스마일",
          "커스텀 라식",
          "스마일",
          "스마일",
          "커스텀 라식",
          "스마일",
          "스마일 프로",
          "스마일",
          "커스텀 라식",
          "커스텀 라섹",
          "스마일",
          "스마일",
          "스마일",
          "스마일",
          "커스텀 라식",
          "스마일",
          "스마일",
          "스마일",
          "스마일",
          "스마일",
          "스마일",
          "라식"
         ],
         "textinfo": "label+percent",
         "type": "pie",
         "values": {
          "bdata": "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",
          "dtype": "i4"
         }
        }
       ],
       "layout": {
        "template": {
         "data": {
          "bar": [
           {
            "error_x": {
             "color": "#2a3f5f"
            },
            "error_y": {
             "color": "#2a3f5f"
            },
            "marker": {
             "line": {
              "color": "#E5ECF6",
              "width": 0.5
             },
             "pattern": {
              "fillmode": "overlay",
              "size": 10,
              "solidity": 0.2
             }
            },
            "type": "bar"
           }
          ],
          "barpolar": [
           {
            "marker": {
             "line": {
              "color": "#E5ECF6",
              "width": 0.5
             },
             "pattern": {
              "fillmode": "overlay",
              "size": 10,
              "solidity": 0.2
             }
            },
            "type": "barpolar"
           }
          ],
          "carpet": [
           {
            "aaxis": {
             "endlinecolor": "#2a3f5f",
             "gridcolor": "white",
             "linecolor": "white",
             "minorgridcolor": "white",
             "startlinecolor": "#2a3f5f"
            },
            "baxis": {
             "endlinecolor": "#2a3f5f",
             "gridcolor": "white",
             "linecolor": "white",
             "minorgridcolor": "white",
             "startlinecolor": "#2a3f5f"
            },
            "type": "carpet"
           }
          ],
          "choropleth": [
           {
            "colorbar": {
             "outlinewidth": 0,
             "ticks": ""
            },
            "type": "choropleth"
           }
          ],
          "contour": [
           {
            "colorbar": {
             "outlinewidth": 0,
             "ticks": ""
            },
            "colorscale": [
             [
              0,
              "#0d0887"
             ],
             [
              0.1111111111111111,
              "#46039f"
             ],
             [
              0.2222222222222222,
              "#7201a8"
             ],
             [
              0.3333333333333333,
              "#9c179e"
             ],
             [
              0.4444444444444444,
              "#bd3786"
             ],
             [
              0.5555555555555556,
              "#d8576b"
             ],
             [
              0.6666666666666666,
              "#ed7953"
             ],
             [
              0.7777777777777778,
              "#fb9f3a"
             ],
             [
              0.8888888888888888,
              "#fdca26"
             ],
             [
              1,
              "#f0f921"
             ]
            ],
            "type": "contour"
           }
          ],
          "contourcarpet": [
           {
            "colorbar": {
             "outlinewidth": 0,
             "ticks": ""
            },
            "type": "contourcarpet"
           }
          ],
          "heatmap": [
           {
            "colorbar": {
             "outlinewidth": 0,
             "ticks": ""
            },
            "colorscale": [
             [
              0,
              "#0d0887"
             ],
             [
              0.1111111111111111,
              "#46039f"
             ],
             [
              0.2222222222222222,
              "#7201a8"
             ],
             [
              0.3333333333333333,
              "#9c179e"
             ],
             [
              0.4444444444444444,
              "#bd3786"
             ],
             [
              0.5555555555555556,
              "#d8576b"
             ],
             [
              0.6666666666666666,
              "#ed7953"
             ],
             [
              0.7777777777777778,
              "#fb9f3a"
             ],
             [
              0.8888888888888888,
              "#fdca26"
             ],
             [
              1,
              "#f0f921"
             ]
            ],
            "type": "heatmap"
           }
          ],
          "histogram": [
           {
            "marker": {
             "pattern": {
              "fillmode": "overlay",
              "size": 10,
              "solidity": 0.2
             }
            },
            "type": "histogram"
           }
          ],
          "histogram2d": [
           {
            "colorbar": {
             "outlinewidth": 0,
             "ticks": ""
            },
            "colorscale": [
             [
              0,
              "#0d0887"
             ],
             [
              0.1111111111111111,
              "#46039f"
             ],
             [
              0.2222222222222222,
              "#7201a8"
             ],
             [
              0.3333333333333333,
              "#9c179e"
             ],
             [
              0.4444444444444444,
              "#bd3786"
             ],
             [
              0.5555555555555556,
              "#d8576b"
             ],
             [
              0.6666666666666666,
              "#ed7953"
             ],
             [
              0.7777777777777778,
              "#fb9f3a"
             ],
             [
              0.8888888888888888,
              "#fdca26"
             ],
             [
              1,
              "#f0f921"
             ]
            ],
            "type": "histogram2d"
           }
          ],
          "histogram2dcontour": [
           {
            "colorbar": {
             "outlinewidth": 0,
             "ticks": ""
            },
            "colorscale": [
             [
              0,
              "#0d0887"
             ],
             [
              0.1111111111111111,
              "#46039f"
             ],
             [
              0.2222222222222222,
              "#7201a8"
             ],
             [
              0.3333333333333333,
              "#9c179e"
             ],
             [
              0.4444444444444444,
              "#bd3786"
             ],
             [
              0.5555555555555556,
              "#d8576b"
             ],
             [
              0.6666666666666666,
              "#ed7953"
             ],
             [
              0.7777777777777778,
              "#fb9f3a"
             ],
             [
              0.8888888888888888,
              "#fdca26"
             ],
             [
              1,
              "#f0f921"
             ]
            ],
            "type": "histogram2dcontour"
           }
          ],
          "mesh3d": [
           {
            "colorbar": {
             "outlinewidth": 0,
             "ticks": ""
            },
            "type": "mesh3d"
           }
          ],
          "parcoords": [
           {
            "line": {
             "colorbar": {
              "outlinewidth": 0,
              "ticks": ""
             }
            },
            "type": "parcoords"
           }
          ],
          "pie": [
           {
            "automargin": true,
            "type": "pie"
           }
          ],
          "scatter": [
           {
            "fillpattern": {
             "fillmode": "overlay",
             "size": 10,
             "solidity": 0.2
            },
            "type": "scatter"
           }
          ],
          "scatter3d": [
           {
            "line": {
             "colorbar": {
              "outlinewidth": 0,
              "ticks": ""
             }
            },
            "marker": {
             "colorbar": {
              "outlinewidth": 0,
              "ticks": ""
             }
            },
            "type": "scatter3d"
           }
          ],
          "scattercarpet": [
           {
            "marker": {
             "colorbar": {
              "outlinewidth": 0,
              "ticks": ""
             }
            },
            "type": "scattercarpet"
           }
          ],
          "scattergeo": [
           {
            "marker": {
             "colorbar": {
              "outlinewidth": 0,
              "ticks": ""
             }
            },
            "type": "scattergeo"
           }
          ],
          "scattergl": [
           {
            "marker": {
             "colorbar": {
              "outlinewidth": 0,
              "ticks": ""
             }
            },
            "type": "scattergl"
           }
          ],
          "scattermap": [
           {
            "marker": {
             "colorbar": {
              "outlinewidth": 0,
              "ticks": ""
             }
            },
            "type": "scattermap"
           }
          ],
          "scattermapbox": [
           {
            "marker": {
             "colorbar": {
              "outlinewidth": 0,
              "ticks": ""
             }
            },
            "type": "scattermapbox"
           }
          ],
          "scatterpolar": [
           {
            "marker": {
             "colorbar": {
              "outlinewidth": 0,
              "ticks": ""
             }
            },
            "type": "scatterpolar"
           }
          ],
          "scatterpolargl": [
           {
            "marker": {
             "colorbar": {
              "outlinewidth": 0,
              "ticks": ""
             }
            },
            "type": "scatterpolargl"
           }
          ],
          "scatterternary": [
           {
            "marker": {
             "colorbar": {
              "outlinewidth": 0,
              "ticks": ""
             }
            },
            "type": "scatterternary"
           }
          ],
          "surface": [
           {
            "colorbar": {
             "outlinewidth": 0,
             "ticks": ""
            },
            "colorscale": [
             [
              0,
              "#0d0887"
             ],
             [
              0.1111111111111111,
              "#46039f"
             ],
             [
              0.2222222222222222,
              "#7201a8"
             ],
             [
              0.3333333333333333,
              "#9c179e"
             ],
             [
              0.4444444444444444,
              "#bd3786"
             ],
             [
              0.5555555555555556,
              "#d8576b"
             ],
             [
              0.6666666666666666,
              "#ed7953"
             ],
             [
              0.7777777777777778,
              "#fb9f3a"
             ],
             [
              0.8888888888888888,
              "#fdca26"
             ],
             [
              1,
              "#f0f921"
             ]
            ],
            "type": "surface"
           }
          ],
          "table": [
           {
            "cells": {
             "fill": {
              "color": "#EBF0F8"
             },
             "line": {
              "color": "white"
             }
            },
            "header": {
             "fill": {
              "color": "#C8D4E3"
             },
             "line": {
              "color": "white"
             }
            },
            "type": "table"
           }
          ]
         },
         "layout": {
          "annotationdefaults": {
           "arrowcolor": "#2a3f5f",
           "arrowhead": 0,
           "arrowwidth": 1
          },
          "autotypenumbers": "strict",
          "coloraxis": {
           "colorbar": {
            "outlinewidth": 0,
            "ticks": ""
           }
          },
          "colorscale": {
           "diverging": [
            [
             0,
             "#8e0152"
            ],
            [
             0.1,
             "#c51b7d"
            ],
            [
             0.2,
             "#de77ae"
            ],
            [
             0.3,
             "#f1b6da"
            ],
            [
             0.4,
             "#fde0ef"
            ],
            [
             0.5,
             "#f7f7f7"
            ],
            [
             0.6,
             "#e6f5d0"
            ],
            [
             0.7,
             "#b8e186"
            ],
            [
             0.8,
             "#7fbc41"
            ],
            [
             0.9,
             "#4d9221"
            ],
            [
             1,
             "#276419"
            ]
           ],
           "sequential": [
            [
             0,
             "#0d0887"
            ],
            [
             0.1111111111111111,
             "#46039f"
            ],
            [
             0.2222222222222222,
             "#7201a8"
            ],
            [
             0.3333333333333333,
             "#9c179e"
            ],
            [
             0.4444444444444444,
             "#bd3786"
            ],
            [
             0.5555555555555556,
             "#d8576b"
            ],
            [
             0.6666666666666666,
             "#ed7953"
            ],
            [
             0.7777777777777778,
             "#fb9f3a"
            ],
            [
             0.8888888888888888,
             "#fdca26"
            ],
            [
             1,
             "#f0f921"
            ]
           ],
           "sequentialminus": [
            [
             0,
             "#0d0887"
            ],
            [
             0.1111111111111111,
             "#46039f"
            ],
            [
             0.2222222222222222,
             "#7201a8"
            ],
            [
             0.3333333333333333,
             "#9c179e"
            ],
            [
             0.4444444444444444,
             "#bd3786"
            ],
            [
             0.5555555555555556,
             "#d8576b"
            ],
            [
             0.6666666666666666,
             "#ed7953"
            ],
            [
             0.7777777777777778,
             "#fb9f3a"
            ],
            [
             0.8888888888888888,
             "#fdca26"
            ],
            [
             1,
             "#f0f921"
            ]
           ]
          },
          "colorway": [
           "#636efa",
           "#EF553B",
           "#00cc96",
           "#ab63fa",
           "#FFA15A",
           "#19d3f3",
           "#FF6692",
           "#B6E880",
           "#FF97FF",
           "#FECB52"
          ],
          "font": {
           "color": "#2a3f5f"
          },
          "geo": {
           "bgcolor": "white",
           "lakecolor": "white",
           "landcolor": "#E5ECF6",
           "showlakes": true,
           "showland": true,
           "subunitcolor": "white"
          },
          "hoverlabel": {
           "align": "left"
          },
          "hovermode": "closest",
          "mapbox": {
           "style": "light"
          },
          "paper_bgcolor": "white",
          "plot_bgcolor": "#E5ECF6",
          "polar": {
           "angularaxis": {
            "gridcolor": "white",
            "linecolor": "white",
            "ticks": ""
           },
           "bgcolor": "#E5ECF6",
           "radialaxis": {
            "gridcolor": "white",
            "linecolor": "white",
            "ticks": ""
           }
          },
          "scene": {
           "xaxis": {
            "backgroundcolor": "#E5ECF6",
            "gridcolor": "white",
            "gridwidth": 2,
            "linecolor": "white",
            "showbackground": true,
            "ticks": "",
            "zerolinecolor": "white"
           },
           "yaxis": {
            "backgroundcolor": "#E5ECF6",
            "gridcolor": "white",
            "gridwidth": 2,
            "linecolor": "white",
            "showbackground": true,
            "ticks": "",
            "zerolinecolor": "white"
           },
           "zaxis": {
            "backgroundcolor": "#E5ECF6",
            "gridcolor": "white",
            "gridwidth": 2,
            "linecolor": "white",
            "showbackground": true,
            "ticks": "",
            "zerolinecolor": "white"
           }
          },
          "shapedefaults": {
           "line": {
            "color": "#2a3f5f"
           }
          },
          "ternary": {
           "aaxis": {
            "gridcolor": "white",
            "linecolor": "white",
            "ticks": ""
           },
           "baxis": {
            "gridcolor": "white",
            "linecolor": "white",
            "ticks": ""
           },
           "bgcolor": "#E5ECF6",
           "caxis": {
            "gridcolor": "white",
            "linecolor": "white",
            "ticks": ""
           }
          },
          "title": {
           "x": 0.05
          },
          "xaxis": {
           "automargin": true,
           "gridcolor": "white",
           "linecolor": "white",
           "ticks": "",
           "title": {
            "standoff": 15
           },
           "zerolinecolor": "white",
           "zerolinewidth": 2
          },
          "yaxis": {
           "automargin": true,
           "gridcolor": "white",
           "linecolor": "white",
           "ticks": "",
           "title": {
            "standoff": 15
           },
           "zerolinecolor": "white",
           "zerolinewidth": 2
          }
         }
        },
        "title": {
         "text": "파이차트"
        }
       }
      }
     },
     "metadata": {},
     "output_type": "display_data"
    }
   ],
   "source": [
    "y ='total_cost_price'\n",
    "instance.pie_graph(df,x,y)"
   ]
  },
  {
   "cell_type": "code",
   "execution_count": 15,
   "metadata": {},
   "outputs": [
    {
     "data": {
      "application/vnd.plotly.v1+json": {
       "config": {
        "plotlyServerURL": "https://plot.ly"
       },
       "data": [
        {
         "marker": {
          "color": "blue",
          "opacity": 0.7,
          "size": 8
         },
         "mode": "markers",
         "name": "산점도 데이터",
         "showlegend": true,
         "type": "scatter",
         "x": [
          "토릭 렌즈삽입술",
          "스마일",
          "스마일",
          "스마일",
          "스마일",
          "스마일",
          "커스텀 라섹",
          "스마일 프로",
          "스마일",
          "커스텀 라섹",
          "스마일",
          "스마일",
          "스마일",
          "스마일 프로",
          "스마일",
          "스마일",
          "스마일",
          "라섹",
          "스마일",
          "스마일",
          "스마일",
          "스마일",
          "스마일",
          "스마일",
          "라섹",
          "스마일",
          "스마일",
          "스마일",
          "라섹",
          "스마일 프로",
          "스마일 프로",
          "스마일",
          "스마일",
          "스마일",
          "스마일",
          "라섹",
          "렌즈삽입술",
          "스마일",
          "스마일",
          "스마일",
          "스마일",
          "스마일",
          "스마일 프로",
          "스마일",
          "스마일",
          "스마일",
          "스마일",
          "스마일",
          "스마일",
          "스마일",
          "스마일 프로",
          "스마일",
          "스마일",
          "스마일",
          "스마일",
          "스마일 프로",
          "스마일",
          "스마일",
          "라섹",
          "스마일",
          "라섹",
          "스마일",
          "토릭 렌즈삽입술",
          "스마일 프로",
          "라식",
          "스마일",
          "스마일 프로",
          "스마일",
          "라섹",
          "스마일",
          "토릭 렌즈삽입술",
          "라섹",
          "라섹",
          "커스텀 라섹",
          "커스텀 라식",
          "커스텀 라식",
          "스마일",
          "스마일 프로",
          "라섹",
          "스마일",
          "토릭 렌즈삽입술",
          "토릭 렌즈삽입술",
          "스마일",
          "라섹",
          "스마일",
          "스마일",
          "라섹",
          "스마일",
          "스마일",
          "스마일 프로",
          "토릭 렌즈삽입술",
          "토릭 렌즈삽입술",
          "스마일",
          "토릭 렌즈삽입술",
          "라섹",
          "스마일 프로",
          "라섹",
          "라식",
          "커스텀 라식",
          "스마일",
          "스마일",
          "라섹",
          "스마일 프로",
          "스마일",
          "라섹",
          "스마일",
          "스마일",
          "스마일",
          "라섹",
          "스마일",
          "스마일",
          "스마일 프로",
          "스마일",
          "스마일",
          "스마일",
          "스마일",
          "스마일",
          "스마일",
          "스마일",
          "스마일",
          "라섹",
          "스마일",
          "스마일",
          "스마일",
          "스마일 프로",
          "스마일",
          "스마일",
          "스마일 프로",
          "스마일 프로",
          "스마일 프로",
          "스마일",
          "커스텀 라식",
          "스마일",
          "라식",
          "라섹",
          "스마일",
          "스마일",
          "스마일 프로",
          "스마일 프로",
          "스마일",
          "토릭 렌즈삽입술",
          "렌즈삽입술",
          "스마일",
          "스마일",
          "스마일",
          "스마일 프로",
          "스마일",
          "스마일",
          "스마일",
          "스마일",
          "스마일",
          "스마일",
          "스마일 프로",
          "스마일",
          "라섹",
          "스마일",
          "스마일",
          "토릭 렌즈삽입술",
          "스마일",
          "스마일 프로",
          "토릭 렌즈삽입술",
          "스마일",
          "스마일",
          "스마일",
          "스마일",
          "스마일 프로",
          "스마일",
          "스마일 프로",
          "스마일",
          "라섹",
          "스마일",
          "스마일",
          "스마일 프로",
          "스마일",
          "스마일 프로",
          "스마일 프로",
          "스마일",
          "스마일",
          "렌즈삽입술",
          "라섹",
          "스마일",
          "스마일",
          "스마일",
          "렌즈삽입술",
          "렌즈삽입술",
          "라섹",
          "스마일 프로",
          "라섹",
          "스마일",
          "토릭 렌즈삽입술",
          "라섹",
          "스마일",
          "스마일",
          "토릭 렌즈삽입술",
          "스마일 프로",
          "라섹",
          "커스텀 라식",
          "스마일",
          "스마일 프로",
          "스마일 프로",
          "스마일",
          "라섹",
          "스마일",
          "스마일",
          "라섹",
          "스마일",
          "토릭 렌즈삽입술",
          "스마일",
          "스마일",
          "스마일",
          "스마일",
          "스마일",
          "커스텀 라섹",
          "스마일 프로",
          "라섹",
          "라섹",
          "스마일 프로",
          "스마일 프로",
          "스마일 프로",
          "스마일",
          "스마일",
          "스마일",
          "스마일",
          "커스텀 라식",
          "커스텀 라섹",
          "스마일 프로",
          "토릭 렌즈삽입술",
          "토릭 렌즈삽입술",
          "스마일",
          "스마일",
          "스마일",
          "렌즈삽입술",
          "스마일",
          "스마일 프로",
          "라섹",
          "라식",
          "스마일",
          "라섹",
          "스마일 프로",
          "토릭 렌즈삽입술",
          "라섹",
          "토릭 렌즈삽입술",
          "라식",
          "라섹",
          "스마일 프로",
          "스마일",
          "스마일",
          "스마일",
          "스마일",
          "스마일",
          "라식",
          "스마일 프로",
          "스마일",
          "라섹",
          "스마일",
          "스마일 프로",
          "스마일 프로",
          "라섹",
          "스마일",
          "스마일",
          "스마일",
          "스마일",
          "스마일",
          "스마일",
          "스마일",
          "토릭 렌즈삽입술",
          "토릭 렌즈삽입술",
          "스마일 프로",
          "토릭 렌즈삽입술",
          "스마일",
          "스마일 프로",
          "스마일",
          "스마일 프로",
          "스마일 프로",
          "스마일",
          "라섹",
          "스마일",
          "스마일",
          "스마일",
          "라식",
          "스마일",
          "라섹",
          "스마일",
          "스마일",
          "스마일 프로",
          "스마일",
          "스마일",
          "스마일 프로",
          "스마일",
          "라섹",
          "라섹",
          "스마일",
          "스마일",
          "스마일",
          "스마일",
          "라섹",
          "스마일",
          "라섹",
          "스마일",
          "스마일",
          "라섹",
          "스마일",
          "스마일",
          "스마일 프로",
          "스마일",
          "스마일",
          "토릭 렌즈삽입술",
          "스마일",
          "스마일",
          "커스텀 라식",
          "스마일",
          "라섹",
          "스마일",
          "스마일 프로",
          "스마일",
          "토릭 렌즈삽입술",
          "스마일",
          "라섹",
          "렌즈삽입술",
          "라섹",
          "스마일",
          "스마일",
          "토릭 렌즈삽입술",
          "스마일",
          "스마일",
          "스마일",
          "스마일 프로",
          "스마일",
          "스마일",
          "스마일",
          "스마일",
          "스마일 프로",
          "스마일",
          "렌즈삽입술",
          "렌즈삽입술",
          "스마일",
          "스마일 프로",
          "스마일",
          "스마일",
          "스마일 프로",
          "스마일",
          "렌즈삽입술",
          "스마일",
          "스마일 프로",
          "커스텀 라식",
          "스마일",
          "스마일",
          "스마일",
          "스마일",
          "스마일",
          "스마일 프로",
          "스마일",
          "스마일",
          "스마일 프로",
          "스마일 프로",
          "스마일 프로",
          "라섹",
          "스마일",
          "스마일",
          "라섹",
          "라식",
          "라섹",
          "스마일 프로",
          "라식",
          "스마일",
          "스마일",
          "스마일",
          "토릭 렌즈삽입술",
          "라섹",
          "스마일",
          "스마일",
          "스마일",
          "스마일",
          "라섹",
          "스마일",
          "커스텀 라섹",
          "라섹",
          "라섹",
          "라섹",
          "스마일",
          "스마일",
          "스마일",
          "커스텀 라섹",
          "스마일",
          "스마일 프로",
          "스마일",
          "커스텀 라식",
          "스마일",
          "스마일",
          "토릭 렌즈삽입술",
          "스마일 프로",
          "렌즈삽입술",
          "렌즈삽입술",
          "라식",
          "스마일",
          "스마일",
          "퍼스널 라식",
          "스마일",
          "스마일",
          "토릭 렌즈삽입술",
          "스마일",
          "스마일",
          "스마일",
          "라식",
          "토릭 렌즈삽입술",
          "스마일",
          "스마일",
          "스마일",
          "스마일",
          "토릭 렌즈삽입술",
          "스마일",
          "스마일",
          "스마일",
          "스마일",
          "스마일",
          "스마일",
          "스마일",
          "스마일",
          "스마일",
          "스마일",
          "커스텀 라식",
          "스마일 프로",
          "스마일",
          "스마일",
          "스마일",
          "커스텀 라섹",
          "스마일",
          "렌즈삽입술",
          "스마일",
          "스마일",
          "스마일",
          "스마일",
          "스마일",
          "스마일",
          "토릭 렌즈삽입술",
          "스마일",
          "커스텀 라섹",
          "스마일",
          "토릭 렌즈삽입술",
          "스마일 프로",
          "스마일",
          "스마일",
          "스마일",
          "스마일 프로",
          "스마일",
          "스마일",
          "스마일",
          "스마일",
          "스마일 프로",
          "라섹",
          "스마일",
          "스마일 프로",
          "스마일 프로",
          "스마일 프로",
          "스마일 프로",
          "스마일 프로",
          "스마일 프로",
          "스마일",
          "스마일",
          "스마일",
          "토릭 렌즈삽입술",
          "라섹",
          "라섹",
          "스마일",
          "라식",
          "라섹",
          "스마일",
          "스마일",
          "스마일 프로",
          "라식",
          "스마일",
          "스마일",
          "커스텀 라식",
          "라섹",
          "라섹",
          "스마일",
          "커스텀 라식",
          "스마일",
          "스마일",
          "스마일 프로",
          "토릭 렌즈삽입술",
          "라섹",
          "스마일",
          "스마일 프로",
          "스마일",
          "라섹",
          "스마일",
          "스마일",
          "스마일",
          "커스텀 라식",
          "스마일",
          "스마일",
          "스마일",
          "스마일",
          "렌즈삽입술",
          "스마일",
          "스마일 프로",
          "커스텀 라섹",
          "스마일",
          "라섹",
          "스마일",
          "라섹",
          "스마일",
          "라섹",
          "스마일",
          "토릭 렌즈삽입술",
          "커스텀 라섹",
          "스마일 프로",
          "스마일 프로",
          "라섹",
          "토릭 렌즈삽입술",
          "스마일",
          "스마일 프로",
          "스마일",
          "스마일",
          "스마일",
          "스마일",
          "스마일",
          "스마일 프로",
          "라섹",
          "스마일",
          "스마일",
          "커스텀 라섹",
          "스마일",
          "스마일",
          "스마일",
          "스마일",
          "스마일",
          "라섹",
          "스마일",
          "스마일 프로",
          "토릭 렌즈삽입술",
          "스마일 프로",
          "스마일",
          "스마일",
          "라섹",
          "스마일",
          "스마일",
          "라섹",
          "스마일",
          "스마일",
          "스마일 프로",
          "토릭 렌즈삽입술",
          "스마일",
          "커스텀 라식",
          "스마일",
          "라식",
          "스마일 프로",
          "스마일",
          "스마일",
          "스마일",
          "스마일",
          "라섹",
          "스마일",
          "라섹",
          "스마일",
          "스마일",
          "커스텀 라섹",
          "스마일 프로",
          "스마일 프로",
          "라섹",
          "토릭 렌즈삽입술",
          "스마일",
          "스마일 프로",
          "스마일",
          "커스텀 라섹",
          "라식",
          "토릭 렌즈삽입술",
          "토릭 렌즈삽입술",
          "스마일 프로",
          "스마일",
          "스마일 프로",
          "스마일",
          "라식",
          "스마일",
          "스마일",
          "스마일",
          "라식",
          "스마일",
          "스마일",
          "커스텀 라섹",
          "스마일 프로",
          "스마일",
          "스마일",
          "커스텀 라식",
          "토릭 렌즈삽입술",
          "라섹",
          "라식",
          "스마일",
          "스마일",
          "스마일",
          "라섹",
          "토릭 렌즈삽입술",
          "스마일",
          "라섹",
          "라섹",
          "라섹",
          "스마일",
          "스마일 프로",
          "스마일",
          "스마일",
          "라섹",
          "스마일",
          "토릭 렌즈삽입술",
          "스마일 프로",
          "스마일 프로",
          "스마일 프로",
          "스마일",
          "스마일",
          "스마일 프로",
          "스마일 프로",
          "스마일",
          "스마일",
          "스마일",
          "스마일",
          "스마일",
          "스마일",
          "스마일 프로",
          "스마일",
          "스마일",
          "스마일",
          "스마일",
          "스마일",
          "스마일",
          "스마일",
          "스마일",
          "스마일",
          "렌즈삽입술",
          "라섹",
          "스마일",
          "스마일",
          "커스텀 라식",
          "스마일 프로",
          "스마일",
          "라섹",
          "라섹",
          "스마일",
          "퍼스널 라식",
          "라섹",
          "스마일",
          "토릭 렌즈삽입술",
          "스마일",
          "스마일",
          "스마일 프로",
          "스마일 프로",
          "스마일",
          "스마일",
          "스마일",
          "라식",
          "스마일",
          "스마일",
          "렌즈삽입술",
          "커스텀 라섹",
          "스마일",
          "토릭 렌즈삽입술",
          "스마일 프로",
          "토릭 렌즈삽입술",
          "토릭 렌즈삽입술",
          "스마일",
          "스마일",
          "스마일",
          "스마일",
          "스마일 프로",
          "스마일",
          "스마일",
          "커스텀 라식",
          "스마일",
          "라식",
          "커스텀 라식",
          "스마일 프로",
          "토릭 렌즈삽입술",
          "토릭 렌즈삽입술",
          "스마일",
          "스마일",
          "스마일",
          "스마일",
          "스마일",
          "스마일",
          "라섹",
          "스마일",
          "토릭 렌즈삽입술",
          "스마일",
          "스마일",
          "스마일",
          "스마일",
          "스마일",
          "렌즈삽입술",
          "커스텀 라섹",
          "스마일",
          "라식",
          "스마일",
          "스마일 프로",
          "스마일",
          "스마일",
          "토릭 렌즈삽입술",
          "커스텀 라섹",
          "스마일 프로",
          "라식",
          "토릭 렌즈삽입술",
          "토릭 렌즈삽입술",
          "스마일",
          "스마일",
          "스마일",
          "스마일",
          "스마일 프로",
          "스마일",
          "스마일",
          "스마일 프로",
          "토릭 렌즈삽입술",
          "라섹",
          "커스텀 라식",
          "스마일",
          "라섹",
          "커스텀 라식",
          "스마일 프로",
          "스마일",
          "라섹",
          "스마일",
          "라섹",
          "스마일",
          "스마일",
          "스마일",
          "스마일 프로",
          "스마일",
          "스마일",
          "스마일",
          "스마일",
          "스마일",
          "스마일",
          "스마일",
          "토릭 렌즈삽입술",
          "커스텀 라식",
          "라식",
          "스마일",
          "스마일",
          "라섹",
          "라식",
          "라섹",
          "스마일",
          "스마일",
          "스마일 프로",
          "스마일",
          "스마일",
          "커스텀 라섹",
          "스마일",
          "커스텀 라섹",
          "라식",
          "스마일",
          "스마일 프로",
          "스마일 프로",
          "스마일",
          "스마일",
          "라섹",
          "스마일",
          "토릭 렌즈삽입술",
          "스마일",
          "토릭 렌즈삽입술",
          "라섹",
          "스마일",
          "스마일",
          "스마일",
          "스마일",
          "스마일",
          "라섹",
          "라섹",
          "커스텀 라식",
          "스마일",
          "라섹",
          "라섹",
          "스마일",
          "스마일",
          "토릭 렌즈삽입술",
          "스마일",
          "스마일",
          "스마일",
          "라섹",
          "스마일",
          "토릭 렌즈삽입술",
          "스마일",
          "스마일 프로",
          "라섹",
          "스마일",
          "토릭 렌즈삽입술",
          "스마일",
          "스마일",
          "라섹",
          "스마일 프로",
          "스마일 프로",
          "스마일 프로",
          "스마일",
          "스마일 프로",
          "커스텀 라섹",
          "스마일 프로",
          "스마일",
          "스마일",
          "라섹",
          "스마일",
          "라섹",
          "라식",
          "스마일",
          "스마일",
          "라섹",
          "라섹",
          "토릭 렌즈삽입술",
          "스마일",
          "라섹",
          "스마일 프로",
          "라섹",
          "라식",
          "스마일",
          "커스텀 라섹",
          "스마일",
          "스마일 프로",
          "커스텀 라섹",
          "스마일",
          "스마일",
          "토릭 렌즈삽입술",
          "스마일",
          "스마일",
          "스마일",
          "스마일",
          "스마일",
          "스마일",
          "스마일",
          "스마일",
          "라섹",
          "스마일 프로",
          "스마일",
          "스마일",
          "스마일",
          "라섹",
          "스마일 프로",
          "스마일",
          "라식",
          "스마일",
          "스마일",
          "스마일",
          "토릭 렌즈삽입술",
          "라섹",
          "스마일",
          "스마일",
          "커스텀 라섹",
          "스마일",
          "스마일",
          "라섹",
          "토릭 렌즈삽입술",
          "스마일",
          "스마일",
          "스마일",
          "스마일",
          "라섹",
          "스마일",
          "라섹",
          "스마일",
          "스마일",
          "커스텀 라식",
          "스마일",
          "라섹",
          "라섹",
          "토릭 렌즈삽입술",
          "스마일",
          "렌즈삽입술",
          "스마일",
          "스마일",
          "스마일",
          "라섹",
          "스마일",
          "스마일",
          "라섹",
          "스마일",
          "스마일",
          "스마일 프로",
          "스마일",
          "라섹",
          "스마일 프로",
          "스마일",
          "스마일",
          "스마일",
          "스마일",
          "스마일",
          "스마일",
          "스마일",
          "토릭 렌즈삽입술",
          "스마일",
          "스마일",
          "스마일 프로",
          "스마일 프로",
          "스마일 프로",
          "스마일",
          "스마일",
          "스마일 프로",
          "라섹",
          "스마일",
          "스마일",
          "스마일",
          "라섹",
          "스마일",
          "스마일",
          "스마일 프로",
          "스마일",
          "스마일",
          "스마일",
          "스마일",
          "스마일 프로",
          "라섹",
          "스마일",
          "스마일",
          "커스텀 라섹",
          "스마일",
          "스마일 프로",
          "스마일",
          "스마일",
          "스마일",
          "라식",
          "스마일",
          "스마일",
          "스마일 프로",
          "스마일",
          "스마일",
          "라섹",
          "라섹",
          "스마일",
          "스마일",
          "스마일 프로",
          "스마일",
          "스마일",
          "스마일",
          "토릭 렌즈삽입술",
          "라식",
          "스마일",
          "커스텀 라섹",
          "커스텀 라식",
          "스마일 프로",
          "스마일",
          "스마일",
          "커스텀 라섹",
          "라섹",
          "스마일",
          "스마일 프로",
          "스마일",
          "커스텀 라식",
          "토릭 렌즈삽입술",
          "스마일",
          "스마일",
          "라섹",
          "스마일",
          "스마일",
          "라섹",
          "스마일",
          "토릭 렌즈삽입술",
          "스마일",
          "스마일 프로",
          "스마일 프로",
          "스마일 프로",
          "커스텀 라섹",
          "커스텀 라섹",
          "스마일",
          "스마일",
          "커스텀 라섹",
          "스마일",
          "스마일",
          "스마일",
          "토릭 렌즈삽입술",
          "스마일",
          "스마일",
          "토릭 렌즈삽입술",
          "라섹",
          "스마일",
          "라섹",
          "스마일",
          "스마일",
          "스마일",
          "커스텀 라섹",
          "스마일",
          "스마일 프로",
          "라섹",
          "라섹",
          "스마일",
          "스마일",
          "스마일",
          "렌즈삽입술",
          "커스텀 라식",
          "라식",
          "라섹",
          "스마일",
          "스마일",
          "스마일",
          "스마일",
          "커스텀 라식",
          "라섹",
          "스마일",
          "스마일 프로",
          "스마일",
          "스마일",
          "스마일",
          "스마일 프로",
          "스마일",
          "스마일",
          "스마일",
          "스마일",
          "스마일 프로",
          "스마일",
          "커스텀 라섹",
          "스마일 프로",
          "스마일",
          "스마일",
          "토릭 렌즈삽입술",
          "커스텀 라섹",
          "스마일",
          "스마일",
          "라섹",
          "스마일",
          "토릭 렌즈삽입술",
          "커스텀 라섹",
          "커스텀 라식",
          "스마일",
          "스마일 프로",
          "스마일",
          "커스텀 라식",
          "커스텀 라섹",
          "스마일",
          "스마일",
          "스마일",
          "렌즈삽입술",
          "커스텀 라식",
          "라섹",
          "스마일",
          "라섹",
          "스마일 프로",
          "스마일",
          "스마일",
          "라섹",
          "스마일 프로",
          "스마일",
          "라섹",
          "스마일",
          "스마일",
          "라식",
          "라섹",
          "렌즈삽입술",
          "스마일",
          "스마일",
          "라섹",
          "스마일",
          "라식",
          "스마일",
          "스마일 프로",
          "스마일",
          "스마일",
          "스마일 프로",
          "스마일",
          "스마일",
          "라섹",
          "라섹",
          "스마일",
          "스마일",
          "스마일",
          "스마일 프로",
          "스마일",
          "스마일",
          "커스텀 라식",
          "커스텀 라섹",
          "스마일",
          "스마일",
          "스마일 프로",
          "스마일 프로",
          "스마일",
          "라섹",
          "스마일 프로",
          "렌즈삽입술",
          "스마일",
          "스마일",
          "렌즈삽입술",
          "스마일",
          "라섹",
          "스마일",
          "라섹",
          "라섹",
          "스마일",
          "라섹",
          "스마일",
          "스마일",
          "커스텀 라섹",
          "스마일",
          "라섹",
          "스마일",
          "스마일",
          "라섹",
          "스마일 프로",
          "라섹",
          "스마일",
          "라섹",
          "커스텀 라식",
          "스마일",
          "스마일",
          "커스텀 라식",
          "라섹",
          "스마일",
          "라식",
          "스마일",
          "스마일",
          "스마일",
          "토릭 렌즈삽입술",
          "스마일",
          "스마일",
          "스마일",
          "스마일",
          "스마일",
          "스마일",
          "라섹",
          "스마일",
          "스마일",
          "스마일",
          "스마일",
          "토릭 렌즈삽입술",
          "커스텀 라식",
          "스마일",
          "스마일",
          "스마일",
          "라섹",
          "스마일",
          "스마일",
          "스마일",
          "스마일 프로",
          "커스텀 라식",
          "스마일",
          "스마일",
          "스마일 프로",
          "라식",
          "스마일",
          "스마일",
          "스마일",
          "스마일 프로",
          "스마일",
          "스마일",
          "라식",
          "라섹",
          "스마일",
          "토릭 렌즈삽입술",
          "스마일 프로",
          "라섹",
          "스마일",
          "스마일 프로",
          "스마일",
          "스마일",
          "스마일 프로",
          "스마일",
          "스마일",
          "스마일",
          "커스텀 라식",
          "스마일",
          "토릭 렌즈삽입술",
          "커스텀 라섹",
          "스마일",
          "라섹",
          "라섹",
          "스마일",
          "라식",
          "커스텀 라식",
          "렌즈삽입술",
          "스마일",
          "스마일 프로",
          "스마일",
          "라섹",
          "커스텀 라섹",
          "스마일",
          "스마일",
          "스마일",
          "스마일",
          "스마일 프로",
          "스마일",
          "스마일",
          "스마일",
          "스마일",
          "스마일",
          "스마일 프로",
          "스마일",
          "스마일",
          "토릭 렌즈삽입술",
          "스마일",
          "스마일",
          "스마일",
          "스마일",
          "스마일 프로",
          "스마일",
          "커스텀 라식",
          "스마일",
          "스마일",
          "커스텀 라식",
          "커스텀 라섹",
          "라섹",
          "스마일",
          "라섹",
          "스마일 프로",
          "스마일",
          "라섹",
          "스마일 프로",
          "스마일",
          "스마일",
          "라섹",
          "스마일",
          "스마일",
          "스마일",
          "스마일",
          "라섹",
          "라섹",
          "스마일",
          "스마일",
          "라섹",
          "스마일",
          "스마일",
          "라섹",
          "스마일",
          "스마일",
          "렌즈삽입술",
          "스마일",
          "스마일",
          "스마일",
          "스마일 프로",
          "렌즈삽입술",
          "라섹",
          "스마일 프로",
          "스마일",
          "토릭 렌즈삽입술",
          "스마일",
          "렌즈삽입술",
          "라섹",
          "라식",
          "스마일",
          "스마일",
          "스마일",
          "스마일",
          "스마일",
          "스마일",
          "스마일",
          "커스텀 라섹",
          "스마일",
          "스마일",
          "라식",
          "라섹",
          "토릭 렌즈삽입술",
          "스마일",
          "스마일",
          "스마일 프로",
          "스마일",
          "라섹",
          "스마일",
          "스마일",
          "스마일",
          "라섹",
          "라섹",
          "스마일",
          "커스텀 라섹",
          "라섹",
          "스마일",
          "스마일",
          "스마일",
          "스마일",
          "라섹",
          "스마일 프로",
          "라섹",
          "스마일 프로",
          "스마일",
          "스마일",
          "스마일",
          "스마일 프로",
          "토릭 렌즈삽입술",
          "스마일 프로",
          "스마일",
          "스마일 프로",
          "스마일",
          "스마일",
          "스마일",
          "라섹",
          "렌즈삽입술",
          "렌즈삽입술",
          "스마일",
          "스마일",
          "스마일",
          "스마일",
          "스마일",
          "라식",
          "커스텀 라섹",
          "스마일",
          "스마일 프로",
          "스마일 프로",
          "스마일",
          "커스텀 라식",
          "스마일",
          "스마일",
          "라섹",
          "스마일",
          "스마일",
          "스마일",
          "스마일 프로",
          "스마일 프로",
          "스마일",
          "스마일",
          "스마일",
          "스마일",
          "스마일",
          "스마일",
          "라식",
          "스마일 프로",
          "라섹",
          "커스텀 라식",
          "라섹",
          "스마일 프로",
          "스마일",
          "스마일 프로",
          "스마일 프로",
          "스마일",
          "스마일",
          "스마일 프로",
          "스마일",
          "스마일 프로",
          "스마일",
          "스마일",
          "라섹",
          "스마일",
          "스마일",
          "토릭 렌즈삽입술",
          "커스텀 라식",
          "스마일",
          "스마일",
          "스마일",
          "스마일",
          "라섹",
          "스마일",
          "스마일",
          "스마일",
          "스마일",
          "커스텀 라식",
          "스마일",
          "라섹",
          "커스텀 라식",
          "스마일 프로",
          "렌즈삽입술",
          "커스텀 라섹",
          "스마일",
          "스마일",
          "스마일",
          "스마일",
          "토릭 렌즈삽입술",
          "스마일",
          "스마일",
          "커스텀 라식",
          "스마일",
          "퍼스널 라식",
          "라섹",
          "라섹",
          "커스텀 라식",
          "스마일",
          "스마일",
          "스마일",
          "라식",
          "스마일 프로",
          "라섹",
          "스마일",
          "스마일",
          "스마일",
          "라식",
          "스마일",
          "스마일 프로",
          "스마일",
          "스마일",
          "스마일",
          "스마일 프로",
          "토릭 렌즈삽입술",
          "커스텀 라섹",
          "스마일",
          "스마일",
          "스마일",
          "렌즈삽입술",
          "스마일",
          "라식",
          "토릭 렌즈삽입술",
          "스마일 프로",
          "스마일",
          "스마일",
          "스마일",
          "스마일",
          "스마일",
          "토릭 렌즈삽입술",
          "스마일",
          "토릭 렌즈삽입술",
          "라섹",
          "스마일",
          "토릭 렌즈삽입술",
          "스마일",
          "스마일",
          "스마일",
          "스마일",
          "스마일",
          "스마일",
          "커스텀 라섹",
          "스마일",
          "스마일",
          "스마일 프로",
          "스마일",
          "스마일",
          "라식",
          "스마일",
          "스마일",
          "커스텀 라식",
          "스마일",
          "스마일",
          "라식",
          "렌즈삽입술",
          "토릭 렌즈삽입술",
          "라섹",
          "라섹",
          "스마일",
          "토릭 렌즈삽입술",
          "스마일",
          "라섹",
          "토릭 렌즈삽입술",
          "스마일",
          "스마일",
          "토릭 렌즈삽입술",
          "토릭 렌즈삽입술",
          "토릭 렌즈삽입술",
          "스마일",
          "라섹",
          "토릭 렌즈삽입술",
          "스마일",
          "커스텀 라식",
          "스마일",
          "스마일 프로",
          "토릭 렌즈삽입술",
          "스마일",
          "스마일",
          "스마일",
          "라섹",
          "스마일",
          "스마일 프로",
          "스마일",
          "토릭 렌즈삽입술",
          "스마일",
          "라섹",
          "라섹",
          "스마일",
          "스마일",
          "스마일 프로",
          "스마일",
          "렌즈삽입술",
          "라식",
          "스마일 프로",
          "스마일 프로",
          "스마일",
          "스마일 프로",
          "커스텀 라섹",
          "스마일",
          "스마일",
          "스마일",
          "스마일",
          "스마일",
          "토릭 렌즈삽입술",
          "스마일",
          "스마일 프로",
          "스마일",
          "라식",
          "커스텀 라섹",
          "스마일",
          "렌즈삽입술",
          "스마일",
          "라섹",
          "스마일",
          "커스텀 라식",
          "스마일",
          "스마일",
          "라섹",
          "스마일",
          "스마일",
          "스마일 프로",
          "스마일 프로",
          "스마일",
          "라식",
          "렌즈삽입술",
          "라식",
          "스마일",
          "라섹",
          "스마일",
          "스마일",
          "토릭 렌즈삽입술",
          "스마일",
          "스마일",
          "스마일",
          "라섹",
          "스마일",
          "라섹",
          "스마일",
          "스마일",
          "토릭 렌즈삽입술",
          "스마일",
          "스마일",
          "스마일",
          "스마일 프로",
          "스마일",
          "토릭 렌즈삽입술",
          "스마일 프로",
          "라섹",
          "스마일",
          "토릭 렌즈삽입술",
          "스마일 프로",
          "스마일",
          "스마일",
          "토릭 렌즈삽입술",
          "커스텀 라섹",
          "스마일",
          "라섹",
          "스마일",
          "라섹",
          "스마일",
          "스마일",
          "스마일",
          "커스텀 라식",
          "스마일",
          "라섹",
          "커스텀 라섹",
          "렌즈삽입술",
          "스마일",
          "스마일 프로",
          "스마일",
          "스마일",
          "스마일",
          "스마일 프로",
          "스마일",
          "스마일 프로",
          "스마일 프로",
          "스마일",
          "스마일 프로",
          "커스텀 라섹",
          "스마일",
          "스마일",
          "스마일",
          "스마일",
          "라식",
          "스마일",
          "토릭 렌즈삽입술",
          "스마일",
          "라섹",
          "커스텀 라식",
          "스마일",
          "스마일",
          "스마일",
          "라식",
          "토릭 렌즈삽입술",
          "라식",
          "스마일",
          "스마일 프로",
          "스마일 프로",
          "스마일 프로",
          "스마일",
          "라섹",
          "스마일",
          "라식",
          "스마일",
          "커스텀 라섹",
          "스마일",
          "스마일",
          "라섹",
          "스마일 프로",
          "라섹",
          "스마일",
          "스마일",
          "커스텀 라식",
          "라섹",
          "스마일",
          "커스텀 라식",
          "스마일",
          "커스텀 라섹",
          "스마일 프로",
          "스마일",
          "스마일",
          "라섹",
          "커스텀 라식",
          "라섹",
          "라식",
          "라섹",
          "라섹",
          "커스텀 라식",
          "라섹",
          "스마일",
          "렌즈삽입술",
          "스마일",
          "스마일",
          "커스텀 라식",
          "라섹",
          "라섹",
          "커스텀 라섹",
          "커스텀 라섹",
          "토릭 렌즈삽입술",
          "스마일",
          "스마일",
          "스마일",
          "스마일",
          "스마일",
          "스마일",
          "스마일",
          "라식",
          "스마일",
          "스마일",
          "스마일",
          "스마일",
          "스마일",
          "토릭 렌즈삽입술",
          "커스텀 라식",
          "스마일 프로",
          "스마일",
          "스마일",
          "커스텀 라식",
          "스마일 프로",
          "스마일",
          "라섹",
          "스마일",
          "스마일",
          "스마일 프로",
          "스마일",
          "스마일",
          "토릭 렌즈삽입술",
          "스마일",
          "스마일",
          "라섹",
          "라섹",
          "커스텀 라식",
          "라섹",
          "라섹",
          "스마일",
          "스마일",
          "스마일",
          "라식",
          "커스텀 라식",
          "스마일",
          "커스텀 라섹",
          "스마일 프로",
          "라섹",
          "스마일",
          "스마일",
          "라섹",
          "스마일",
          "스마일",
          "스마일",
          "스마일",
          "렌즈삽입술",
          "스마일",
          "스마일",
          "라섹",
          "토릭 렌즈삽입술",
          "스마일 프로",
          "스마일 프로",
          "스마일",
          "라식",
          "라섹",
          "스마일",
          "라섹",
          "스마일",
          "스마일",
          "스마일",
          "라섹",
          "커스텀 라식",
          "스마일 프로",
          "스마일",
          "스마일",
          "커스텀 라식",
          "스마일",
          "렌즈삽입술",
          "스마일",
          "스마일",
          "토릭 렌즈삽입술",
          "스마일",
          "렌즈삽입술",
          "토릭 렌즈삽입술",
          "스마일",
          "렌즈삽입술",
          "토릭 렌즈삽입술",
          "스마일",
          "스마일 프로",
          "스마일",
          "스마일 프로",
          "스마일",
          "스마일 프로",
          "라섹",
          "라섹",
          "라섹",
          "스마일",
          "퍼스널 라식",
          "스마일",
          "라섹",
          "스마일",
          "토릭 렌즈삽입술",
          "라식",
          "스마일",
          "스마일 프로",
          "스마일",
          "스마일",
          "스마일",
          "스마일 프로",
          "라식",
          "스마일",
          "라섹",
          "스마일 프로",
          "토릭 렌즈삽입술",
          "스마일",
          "스마일",
          "스마일",
          "렌즈삽입술",
          "토릭 렌즈삽입술",
          "스마일 프로",
          "라섹",
          "스마일",
          "스마일",
          "라섹",
          "스마일",
          "스마일",
          "스마일",
          "스마일 프로",
          "스마일",
          "스마일",
          "스마일",
          "토릭 렌즈삽입술",
          "라섹",
          "스마일 프로",
          "스마일",
          "토릭 렌즈삽입술",
          "스마일",
          "스마일",
          "스마일",
          "라섹",
          "스마일",
          "스마일 프로",
          "라섹",
          "커스텀 라식",
          "스마일",
          "토릭 렌즈삽입술",
          "스마일 프로",
          "라섹",
          "스마일",
          "라섹",
          "스마일 프로",
          "스마일",
          "스마일",
          "커스텀 라식",
          "라섹",
          "라섹",
          "스마일",
          "스마일",
          "라섹",
          "스마일 프로",
          "스마일 프로",
          "스마일",
          "스마일",
          "스마일",
          "라섹",
          "커스텀 라식",
          "스마일",
          "라섹",
          "스마일",
          "스마일",
          "스마일",
          "스마일",
          "스마일",
          "스마일",
          "스마일",
          "스마일",
          "스마일",
          "스마일 프로",
          "스마일 프로",
          "스마일 프로",
          "스마일",
          "스마일",
          "스마일",
          "스마일",
          "스마일 프로",
          "스마일",
          "스마일",
          "스마일 프로",
          "토릭 렌즈삽입술",
          "스마일",
          "스마일",
          "스마일",
          "토릭 렌즈삽입술",
          "스마일",
          "스마일",
          "스마일",
          "라섹",
          "스마일",
          "커스텀 라섹",
          "스마일",
          "스마일",
          "스마일",
          "스마일",
          "커스텀 라식",
          "토릭 렌즈삽입술",
          "스마일",
          "스마일 프로",
          "스마일",
          "스마일",
          "스마일",
          "스마일",
          "스마일",
          "스마일",
          "스마일",
          "스마일",
          "스마일",
          "스마일",
          "스마일",
          "스마일",
          "스마일",
          "스마일 프로",
          "커스텀 라식",
          "스마일 프로",
          "스마일 프로",
          "스마일",
          "라식",
          "스마일",
          "라섹",
          "스마일 프로",
          "스마일",
          "라섹",
          "라식",
          "스마일",
          "라섹",
          "스마일",
          "스마일",
          "스마일",
          "커스텀 라식",
          "커스텀 라섹",
          "스마일",
          "스마일",
          "스마일 프로",
          "스마일",
          "라섹",
          "스마일",
          "스마일 프로",
          "렌즈삽입술",
          "라섹",
          "라식",
          "스마일",
          "스마일",
          "커스텀 라섹",
          "스마일",
          "스마일",
          "스마일",
          "라섹",
          "스마일",
          "스마일",
          "라섹",
          "라식",
          "스마일",
          "스마일",
          "스마일 프로",
          "스마일",
          "스마일",
          "스마일 프로",
          "라식",
          "스마일",
          "토릭 렌즈삽입술",
          "라섹",
          "스마일",
          "스마일",
          "스마일",
          "라섹",
          "라섹",
          "스마일",
          "커스텀 라섹",
          "스마일",
          "스마일",
          "스마일",
          "스마일",
          "스마일 프로",
          "스마일",
          "스마일",
          "스마일",
          "스마일",
          "스마일",
          "스마일",
          "스마일",
          "스마일",
          "스마일",
          "스마일",
          "커스텀 라섹",
          "커스텀 라식",
          "라섹",
          "스마일",
          "스마일",
          "스마일",
          "스마일 프로",
          "스마일",
          "커스텀 라섹",
          "커스텀 라식",
          "스마일",
          "커스텀 라섹",
          "스마일 프로",
          "스마일",
          "라식",
          "스마일 프로",
          "스마일",
          "스마일",
          "스마일 프로",
          "스마일",
          "스마일 프로",
          "스마일",
          "스마일 프로",
          "스마일",
          "라섹",
          "스마일 프로",
          "스마일",
          "스마일",
          "라식",
          "라식",
          "라섹",
          "스마일",
          "스마일 프로",
          "라섹",
          "스마일",
          "스마일",
          "커스텀 라섹",
          "토릭 렌즈삽입술",
          "스마일",
          "커스텀 라식",
          "토릭 렌즈삽입술",
          "라섹",
          "스마일",
          "스마일 프로",
          "스마일 프로",
          "토릭 렌즈삽입술",
          "스마일",
          "커스텀 라식",
          "스마일",
          "라식",
          "스마일",
          "스마일",
          "스마일",
          "스마일 프로",
          "라식",
          "커스텀 라섹",
          "라식",
          "라섹",
          "라섹",
          "라섹",
          "스마일",
          "스마일",
          "스마일",
          "라섹",
          "라섹",
          "라섹",
          "커스텀 라식",
          "스마일",
          "스마일 프로",
          "스마일",
          "라식",
          "스마일",
          "스마일",
          "스마일",
          "라섹",
          "스마일 프로",
          "스마일 프로",
          "스마일",
          "스마일",
          "스마일",
          "스마일",
          "스마일",
          "라섹",
          "스마일 프로",
          "렌즈삽입술",
          "스마일",
          "스마일",
          "스마일",
          "커스텀 라섹",
          "라섹",
          "토릭 렌즈삽입술",
          "스마일",
          "스마일 프로",
          "라섹",
          "스마일",
          "스마일",
          "스마일",
          "스마일 프로",
          "스마일",
          "스마일",
          "스마일",
          "스마일",
          "스마일",
          "스마일",
          "스마일",
          "커스텀 라식",
          "스마일",
          "스마일",
          "커스텀 라식",
          "스마일",
          "스마일",
          "스마일",
          "스마일",
          "라섹",
          "스마일 프로",
          "스마일",
          "라섹",
          "스마일",
          "스마일",
          "스마일",
          "스마일",
          "스마일",
          "스마일",
          "스마일",
          "스마일 프로",
          "스마일",
          "토릭 렌즈삽입술",
          "스마일",
          "스마일",
          "스마일",
          "라섹",
          "라섹",
          "스마일",
          "스마일",
          "스마일",
          "스마일",
          "커스텀 라식",
          "스마일",
          "라식",
          "스마일",
          "스마일",
          "스마일 프로",
          "스마일",
          "스마일",
          "커스텀 라식",
          "라식",
          "라섹",
          "라식",
          "스마일 프로",
          "스마일 프로",
          "라섹",
          "스마일",
          "라식",
          "토릭 렌즈삽입술",
          "토릭 렌즈삽입술",
          "라섹",
          "커스텀 라식",
          "스마일 프로",
          "라식",
          "스마일 프로",
          "커스텀 라식",
          "토릭 렌즈삽입술",
          "라섹",
          "스마일 프로",
          "스마일",
          "스마일",
          "스마일 프로",
          "라섹",
          "커스텀 라섹",
          "라섹",
          "커스텀 라섹",
          "스마일",
          "스마일",
          "스마일",
          "스마일 프로",
          "스마일",
          "라섹",
          "스마일",
          "스마일",
          "스마일",
          "라섹",
          "라식",
          "라섹",
          "스마일",
          "라섹",
          "스마일",
          "스마일",
          "스마일",
          "스마일",
          "스마일",
          "스마일 프로",
          "라섹",
          "스마일 프로",
          "스마일 프로",
          "토릭 렌즈삽입술",
          "스마일",
          "스마일",
          "스마일",
          "스마일",
          "스마일",
          "토릭 렌즈삽입술",
          "스마일",
          "스마일",
          "커스텀 라식",
          "스마일",
          "스마일",
          "스마일",
          "스마일 프로",
          "커스텀 라식",
          "스마일",
          "커스텀 라섹",
          "라섹",
          "스마일",
          "커스텀 라식",
          "스마일",
          "렌즈삽입술",
          "스마일",
          "스마일 프로",
          "스마일",
          "스마일",
          "스마일",
          "라섹",
          "스마일",
          "라섹",
          "스마일",
          "커스텀 라섹",
          "라섹",
          "커스텀 라식",
          "라식",
          "스마일",
          "스마일",
          "라섹",
          "커스텀 라식",
          "스마일",
          "토릭 렌즈삽입술",
          "라식",
          "라식",
          "스마일",
          "스마일",
          "라섹",
          "스마일",
          "토릭 렌즈삽입술",
          "스마일",
          "스마일",
          "스마일",
          "스마일",
          "스마일",
          "스마일",
          "스마일 프로",
          "스마일",
          "커스텀 라식",
          "스마일",
          "스마일",
          "토릭 렌즈삽입술",
          "커스텀 라식",
          "스마일",
          "스마일",
          "라섹",
          "스마일 프로",
          "스마일 프로",
          "스마일",
          "커스텀 라식",
          "스마일",
          "스마일",
          "스마일",
          "라식",
          "스마일",
          "스마일",
          "스마일",
          "라식",
          "라섹",
          "스마일",
          "커스텀 라섹",
          "스마일",
          "스마일",
          "스마일 프로",
          "토릭 렌즈삽입술",
          "라식",
          "스마일",
          "스마일",
          "커스텀 라섹",
          "토릭 렌즈삽입술",
          "커스텀 라식",
          "스마일 프로",
          "스마일",
          "스마일",
          "토릭 렌즈삽입술",
          "스마일",
          "스마일 프로",
          "렌즈삽입술",
          "스마일 프로",
          "스마일",
          "스마일 프로",
          "스마일",
          "스마일 프로",
          "라식",
          "토릭 렌즈삽입술",
          "스마일",
          "스마일",
          "토릭 렌즈삽입술",
          "스마일",
          "스마일 프로",
          "스마일",
          "스마일",
          "스마일",
          "스마일 프로",
          "스마일",
          "스마일",
          "스마일",
          "스마일",
          "스마일",
          "스마일",
          "렌즈삽입술",
          "스마일",
          "토릭 렌즈삽입술",
          "스마일",
          "스마일",
          "스마일",
          "스마일",
          "스마일",
          "커스텀 라섹",
          "스마일",
          "스마일",
          "스마일",
          "스마일",
          "토릭 렌즈삽입술",
          "렌즈삽입술",
          "커스텀 라섹",
          "스마일",
          "스마일",
          "스마일",
          "스마일",
          "스마일",
          "스마일",
          "스마일",
          "스마일",
          "스마일",
          "라섹",
          "토릭 렌즈삽입술",
          "라식",
          "스마일 프로",
          "스마일 프로",
          "스마일",
          "스마일",
          "스마일",
          "토릭 렌즈삽입술",
          "토릭 렌즈삽입술",
          "스마일",
          "라식",
          "스마일 프로",
          "스마일 프로",
          "스마일",
          "퍼스널 라식",
          "퍼스널 라식",
          "스마일 프로",
          "스마일 프로",
          "스마일",
          "스마일",
          "스마일 프로",
          "스마일",
          "스마일",
          "스마일",
          "스마일",
          "스마일",
          "스마일",
          "스마일",
          "라섹",
          "라섹",
          "스마일 프로",
          "스마일 프로",
          "스마일",
          "라섹",
          "커스텀 라섹",
          "토릭 렌즈삽입술",
          "스마일 프로",
          "스마일",
          "렌즈삽입술",
          "라식",
          "스마일",
          "스마일 프로",
          "스마일",
          "스마일",
          "토릭 렌즈삽입술",
          "스마일 프로",
          "스마일",
          "스마일",
          "스마일",
          "스마일",
          "스마일 프로",
          "스마일",
          "라식",
          "토릭 렌즈삽입술",
          "라섹",
          "토릭 렌즈삽입술",
          "커스텀 라식",
          "스마일",
          "스마일",
          "스마일 프로",
          "라식",
          "라섹",
          "스마일",
          "라식",
          "스마일",
          "라섹",
          "스마일",
          "스마일 프로",
          "스마일",
          "토릭 렌즈삽입술",
          "스마일 프로",
          "라섹",
          "스마일",
          "스마일",
          "스마일",
          "스마일",
          "스마일",
          "스마일",
          "토릭 렌즈삽입술",
          "라섹",
          "렌즈삽입술",
          "스마일",
          "스마일",
          "스마일",
          "스마일 프로",
          "라식",
          "스마일",
          "라섹",
          "스마일",
          "스마일 프로",
          "커스텀 라식",
          "스마일",
          "라섹",
          "라섹",
          "스마일",
          "커스텀 라식",
          "스마일",
          "라섹",
          "스마일 프로",
          "토릭 렌즈삽입술",
          "스마일",
          "스마일",
          "토릭 렌즈삽입술",
          "스마일",
          "스마일",
          "렌즈삽입술",
          "라식",
          "스마일 프로",
          "라섹",
          "스마일",
          "스마일 프로",
          "토릭 렌즈삽입술",
          "스마일",
          "라섹",
          "스마일 프로",
          "스마일",
          "스마일",
          "라섹",
          "스마일",
          "스마일",
          "라섹",
          "스마일",
          "스마일",
          "스마일",
          "스마일 프로",
          "커스텀 라식",
          "스마일",
          "스마일",
          "토릭 렌즈삽입술",
          "스마일",
          "스마일",
          "스마일",
          "스마일",
          "스마일",
          "스마일",
          "스마일",
          "렌즈삽입술",
          "토릭 렌즈삽입술",
          "라섹",
          "스마일",
          "스마일",
          "커스텀 라식",
          "스마일 프로",
          "스마일",
          "스마일",
          "스마일",
          "스마일 프로",
          "스마일",
          "렌즈삽입술",
          "스마일 프로",
          "스마일",
          "스마일",
          "스마일",
          "라식",
          "커스텀 라식",
          "스마일",
          "스마일",
          "커스텀 라섹",
          "스마일",
          "스마일",
          "스마일",
          "스마일",
          "스마일 프로",
          "스마일",
          "라섹",
          "스마일 프로",
          "스마일",
          "스마일 프로",
          "스마일",
          "스마일",
          "스마일",
          "스마일",
          "스마일",
          "스마일",
          "스마일",
          "스마일",
          "스마일",
          "스마일",
          "스마일",
          "스마일",
          "스마일",
          "스마일",
          "커스텀 라식",
          "스마일",
          "라식",
          "스마일",
          "라섹",
          "커스텀 라식",
          "커스텀 라섹",
          "스마일",
          "스마일",
          "스마일",
          "스마일 프로",
          "스마일",
          "스마일",
          "스마일",
          "커스텀 라식",
          "스마일",
          "스마일",
          "스마일 프로",
          "스마일",
          "스마일",
          "스마일",
          "스마일",
          "라섹",
          "스마일",
          "스마일",
          "스마일",
          "스마일",
          "라식",
          "스마일",
          "라식",
          "커스텀 라식",
          "라식",
          "스마일",
          "스마일",
          "스마일",
          "커스텀 라식",
          "스마일",
          "스마일",
          "스마일",
          "스마일",
          "스마일 프로",
          "스마일",
          "스마일",
          "스마일",
          "스마일",
          "스마일",
          "스마일",
          "스마일",
          "스마일",
          "렌즈삽입술",
          "스마일",
          "스마일",
          "스마일",
          "스마일 프로",
          "스마일",
          "커스텀 라식",
          "스마일",
          "스마일",
          "커스텀 라식",
          "스마일",
          "스마일 프로",
          "스마일",
          "커스텀 라식",
          "커스텀 라섹",
          "스마일",
          "스마일",
          "스마일",
          "스마일",
          "커스텀 라식",
          "스마일",
          "스마일",
          "스마일",
          "스마일",
          "스마일",
          "스마일",
          "라식"
         ],
         "y": {
          "bdata": "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",
          "dtype": "i4"
         }
        }
       ],
       "layout": {
        "template": {
         "data": {
          "bar": [
           {
            "error_x": {
             "color": "#2a3f5f"
            },
            "error_y": {
             "color": "#2a3f5f"
            },
            "marker": {
             "line": {
              "color": "#E5ECF6",
              "width": 0.5
             },
             "pattern": {
              "fillmode": "overlay",
              "size": 10,
              "solidity": 0.2
             }
            },
            "type": "bar"
           }
          ],
          "barpolar": [
           {
            "marker": {
             "line": {
              "color": "#E5ECF6",
              "width": 0.5
             },
             "pattern": {
              "fillmode": "overlay",
              "size": 10,
              "solidity": 0.2
             }
            },
            "type": "barpolar"
           }
          ],
          "carpet": [
           {
            "aaxis": {
             "endlinecolor": "#2a3f5f",
             "gridcolor": "white",
             "linecolor": "white",
             "minorgridcolor": "white",
             "startlinecolor": "#2a3f5f"
            },
            "baxis": {
             "endlinecolor": "#2a3f5f",
             "gridcolor": "white",
             "linecolor": "white",
             "minorgridcolor": "white",
             "startlinecolor": "#2a3f5f"
            },
            "type": "carpet"
           }
          ],
          "choropleth": [
           {
            "colorbar": {
             "outlinewidth": 0,
             "ticks": ""
            },
            "type": "choropleth"
           }
          ],
          "contour": [
           {
            "colorbar": {
             "outlinewidth": 0,
             "ticks": ""
            },
            "colorscale": [
             [
              0,
              "#0d0887"
             ],
             [
              0.1111111111111111,
              "#46039f"
             ],
             [
              0.2222222222222222,
              "#7201a8"
             ],
             [
              0.3333333333333333,
              "#9c179e"
             ],
             [
              0.4444444444444444,
              "#bd3786"
             ],
             [
              0.5555555555555556,
              "#d8576b"
             ],
             [
              0.6666666666666666,
              "#ed7953"
             ],
             [
              0.7777777777777778,
              "#fb9f3a"
             ],
             [
              0.8888888888888888,
              "#fdca26"
             ],
             [
              1,
              "#f0f921"
             ]
            ],
            "type": "contour"
           }
          ],
          "contourcarpet": [
           {
            "colorbar": {
             "outlinewidth": 0,
             "ticks": ""
            },
            "type": "contourcarpet"
           }
          ],
          "heatmap": [
           {
            "colorbar": {
             "outlinewidth": 0,
             "ticks": ""
            },
            "colorscale": [
             [
              0,
              "#0d0887"
             ],
             [
              0.1111111111111111,
              "#46039f"
             ],
             [
              0.2222222222222222,
              "#7201a8"
             ],
             [
              0.3333333333333333,
              "#9c179e"
             ],
             [
              0.4444444444444444,
              "#bd3786"
             ],
             [
              0.5555555555555556,
              "#d8576b"
             ],
             [
              0.6666666666666666,
              "#ed7953"
             ],
             [
              0.7777777777777778,
              "#fb9f3a"
             ],
             [
              0.8888888888888888,
              "#fdca26"
             ],
             [
              1,
              "#f0f921"
             ]
            ],
            "type": "heatmap"
           }
          ],
          "histogram": [
           {
            "marker": {
             "pattern": {
              "fillmode": "overlay",
              "size": 10,
              "solidity": 0.2
             }
            },
            "type": "histogram"
           }
          ],
          "histogram2d": [
           {
            "colorbar": {
             "outlinewidth": 0,
             "ticks": ""
            },
            "colorscale": [
             [
              0,
              "#0d0887"
             ],
             [
              0.1111111111111111,
              "#46039f"
             ],
             [
              0.2222222222222222,
              "#7201a8"
             ],
             [
              0.3333333333333333,
              "#9c179e"
             ],
             [
              0.4444444444444444,
              "#bd3786"
             ],
             [
              0.5555555555555556,
              "#d8576b"
             ],
             [
              0.6666666666666666,
              "#ed7953"
             ],
             [
              0.7777777777777778,
              "#fb9f3a"
             ],
             [
              0.8888888888888888,
              "#fdca26"
             ],
             [
              1,
              "#f0f921"
             ]
            ],
            "type": "histogram2d"
           }
          ],
          "histogram2dcontour": [
           {
            "colorbar": {
             "outlinewidth": 0,
             "ticks": ""
            },
            "colorscale": [
             [
              0,
              "#0d0887"
             ],
             [
              0.1111111111111111,
              "#46039f"
             ],
             [
              0.2222222222222222,
              "#7201a8"
             ],
             [
              0.3333333333333333,
              "#9c179e"
             ],
             [
              0.4444444444444444,
              "#bd3786"
             ],
             [
              0.5555555555555556,
              "#d8576b"
             ],
             [
              0.6666666666666666,
              "#ed7953"
             ],
             [
              0.7777777777777778,
              "#fb9f3a"
             ],
             [
              0.8888888888888888,
              "#fdca26"
             ],
             [
              1,
              "#f0f921"
             ]
            ],
            "type": "histogram2dcontour"
           }
          ],
          "mesh3d": [
           {
            "colorbar": {
             "outlinewidth": 0,
             "ticks": ""
            },
            "type": "mesh3d"
           }
          ],
          "parcoords": [
           {
            "line": {
             "colorbar": {
              "outlinewidth": 0,
              "ticks": ""
             }
            },
            "type": "parcoords"
           }
          ],
          "pie": [
           {
            "automargin": true,
            "type": "pie"
           }
          ],
          "scatter": [
           {
            "fillpattern": {
             "fillmode": "overlay",
             "size": 10,
             "solidity": 0.2
            },
            "type": "scatter"
           }
          ],
          "scatter3d": [
           {
            "line": {
             "colorbar": {
              "outlinewidth": 0,
              "ticks": ""
             }
            },
            "marker": {
             "colorbar": {
              "outlinewidth": 0,
              "ticks": ""
             }
            },
            "type": "scatter3d"
           }
          ],
          "scattercarpet": [
           {
            "marker": {
             "colorbar": {
              "outlinewidth": 0,
              "ticks": ""
             }
            },
            "type": "scattercarpet"
           }
          ],
          "scattergeo": [
           {
            "marker": {
             "colorbar": {
              "outlinewidth": 0,
              "ticks": ""
             }
            },
            "type": "scattergeo"
           }
          ],
          "scattergl": [
           {
            "marker": {
             "colorbar": {
              "outlinewidth": 0,
              "ticks": ""
             }
            },
            "type": "scattergl"
           }
          ],
          "scattermap": [
           {
            "marker": {
             "colorbar": {
              "outlinewidth": 0,
              "ticks": ""
             }
            },
            "type": "scattermap"
           }
          ],
          "scattermapbox": [
           {
            "marker": {
             "colorbar": {
              "outlinewidth": 0,
              "ticks": ""
             }
            },
            "type": "scattermapbox"
           }
          ],
          "scatterpolar": [
           {
            "marker": {
             "colorbar": {
              "outlinewidth": 0,
              "ticks": ""
             }
            },
            "type": "scatterpolar"
           }
          ],
          "scatterpolargl": [
           {
            "marker": {
             "colorbar": {
              "outlinewidth": 0,
              "ticks": ""
             }
            },
            "type": "scatterpolargl"
           }
          ],
          "scatterternary": [
           {
            "marker": {
             "colorbar": {
              "outlinewidth": 0,
              "ticks": ""
             }
            },
            "type": "scatterternary"
           }
          ],
          "surface": [
           {
            "colorbar": {
             "outlinewidth": 0,
             "ticks": ""
            },
            "colorscale": [
             [
              0,
              "#0d0887"
             ],
             [
              0.1111111111111111,
              "#46039f"
             ],
             [
              0.2222222222222222,
              "#7201a8"
             ],
             [
              0.3333333333333333,
              "#9c179e"
             ],
             [
              0.4444444444444444,
              "#bd3786"
             ],
             [
              0.5555555555555556,
              "#d8576b"
             ],
             [
              0.6666666666666666,
              "#ed7953"
             ],
             [
              0.7777777777777778,
              "#fb9f3a"
             ],
             [
              0.8888888888888888,
              "#fdca26"
             ],
             [
              1,
              "#f0f921"
             ]
            ],
            "type": "surface"
           }
          ],
          "table": [
           {
            "cells": {
             "fill": {
              "color": "#EBF0F8"
             },
             "line": {
              "color": "white"
             }
            },
            "header": {
             "fill": {
              "color": "#C8D4E3"
             },
             "line": {
              "color": "white"
             }
            },
            "type": "table"
           }
          ]
         },
         "layout": {
          "annotationdefaults": {
           "arrowcolor": "#2a3f5f",
           "arrowhead": 0,
           "arrowwidth": 1
          },
          "autotypenumbers": "strict",
          "coloraxis": {
           "colorbar": {
            "outlinewidth": 0,
            "ticks": ""
           }
          },
          "colorscale": {
           "diverging": [
            [
             0,
             "#8e0152"
            ],
            [
             0.1,
             "#c51b7d"
            ],
            [
             0.2,
             "#de77ae"
            ],
            [
             0.3,
             "#f1b6da"
            ],
            [
             0.4,
             "#fde0ef"
            ],
            [
             0.5,
             "#f7f7f7"
            ],
            [
             0.6,
             "#e6f5d0"
            ],
            [
             0.7,
             "#b8e186"
            ],
            [
             0.8,
             "#7fbc41"
            ],
            [
             0.9,
             "#4d9221"
            ],
            [
             1,
             "#276419"
            ]
           ],
           "sequential": [
            [
             0,
             "#0d0887"
            ],
            [
             0.1111111111111111,
             "#46039f"
            ],
            [
             0.2222222222222222,
             "#7201a8"
            ],
            [
             0.3333333333333333,
             "#9c179e"
            ],
            [
             0.4444444444444444,
             "#bd3786"
            ],
            [
             0.5555555555555556,
             "#d8576b"
            ],
            [
             0.6666666666666666,
             "#ed7953"
            ],
            [
             0.7777777777777778,
             "#fb9f3a"
            ],
            [
             0.8888888888888888,
             "#fdca26"
            ],
            [
             1,
             "#f0f921"
            ]
           ],
           "sequentialminus": [
            [
             0,
             "#0d0887"
            ],
            [
             0.1111111111111111,
             "#46039f"
            ],
            [
             0.2222222222222222,
             "#7201a8"
            ],
            [
             0.3333333333333333,
             "#9c179e"
            ],
            [
             0.4444444444444444,
             "#bd3786"
            ],
            [
             0.5555555555555556,
             "#d8576b"
            ],
            [
             0.6666666666666666,
             "#ed7953"
            ],
            [
             0.7777777777777778,
             "#fb9f3a"
            ],
            [
             0.8888888888888888,
             "#fdca26"
            ],
            [
             1,
             "#f0f921"
            ]
           ]
          },
          "colorway": [
           "#636efa",
           "#EF553B",
           "#00cc96",
           "#ab63fa",
           "#FFA15A",
           "#19d3f3",
           "#FF6692",
           "#B6E880",
           "#FF97FF",
           "#FECB52"
          ],
          "font": {
           "color": "#2a3f5f"
          },
          "geo": {
           "bgcolor": "white",
           "lakecolor": "white",
           "landcolor": "#E5ECF6",
           "showlakes": true,
           "showland": true,
           "subunitcolor": "white"
          },
          "hoverlabel": {
           "align": "left"
          },
          "hovermode": "closest",
          "mapbox": {
           "style": "light"
          },
          "paper_bgcolor": "white",
          "plot_bgcolor": "#E5ECF6",
          "polar": {
           "angularaxis": {
            "gridcolor": "white",
            "linecolor": "white",
            "ticks": ""
           },
           "bgcolor": "#E5ECF6",
           "radialaxis": {
            "gridcolor": "white",
            "linecolor": "white",
            "ticks": ""
           }
          },
          "scene": {
           "xaxis": {
            "backgroundcolor": "#E5ECF6",
            "gridcolor": "white",
            "gridwidth": 2,
            "linecolor": "white",
            "showbackground": true,
            "ticks": "",
            "zerolinecolor": "white"
           },
           "yaxis": {
            "backgroundcolor": "#E5ECF6",
            "gridcolor": "white",
            "gridwidth": 2,
            "linecolor": "white",
            "showbackground": true,
            "ticks": "",
            "zerolinecolor": "white"
           },
           "zaxis": {
            "backgroundcolor": "#E5ECF6",
            "gridcolor": "white",
            "gridwidth": 2,
            "linecolor": "white",
            "showbackground": true,
            "ticks": "",
            "zerolinecolor": "white"
           }
          },
          "shapedefaults": {
           "line": {
            "color": "#2a3f5f"
           }
          },
          "ternary": {
           "aaxis": {
            "gridcolor": "white",
            "linecolor": "white",
            "ticks": ""
           },
           "baxis": {
            "gridcolor": "white",
            "linecolor": "white",
            "ticks": ""
           },
           "bgcolor": "#E5ECF6",
           "caxis": {
            "gridcolor": "white",
            "linecolor": "white",
            "ticks": ""
           }
          },
          "title": {
           "x": 0.05
          },
          "xaxis": {
           "automargin": true,
           "gridcolor": "white",
           "linecolor": "white",
           "ticks": "",
           "title": {
            "standoff": 15
           },
           "zerolinecolor": "white",
           "zerolinewidth": 2
          },
          "yaxis": {
           "automargin": true,
           "gridcolor": "white",
           "linecolor": "white",
           "ticks": "",
           "title": {
            "standoff": 15
           },
           "zerolinecolor": "white",
           "zerolinewidth": 2
          }
         }
        },
        "title": {
         "text": "산점도"
        },
        "xaxis": {
         "title": {
          "text": "operation"
         }
        },
        "yaxis": {
         "title": {
          "text": "total_cost_price"
         }
        }
       }
      }
     },
     "metadata": {},
     "output_type": "display_data"
    }
   ],
   "source": [
    "instance.scatter_graph(df,x,y)"
   ]
  },
  {
   "cell_type": "code",
   "execution_count": 16,
   "metadata": {},
   "outputs": [
    {
     "data": {
      "application/vnd.plotly.v1+json": {
       "config": {
        "plotlyServerURL": "https://plot.ly"
       },
       "data": [
        {
         "mode": "lines",
         "name": "Count",
         "type": "scatter",
         "x": [
          "2024-12-31T00:00:00",
          "2024-12-31T00:00:00",
          "2024-12-31T00:00:00",
          "2024-12-31T00:00:00",
          "2024-12-31T00:00:00",
          "2024-12-31T00:00:00",
          "2024-12-31T00:00:00",
          "2024-12-31T00:00:00",
          "2024-12-31T00:00:00",
          "2024-12-31T00:00:00",
          "2024-12-31T00:00:00",
          "2024-12-31T00:00:00",
          "2024-12-31T00:00:00",
          "2024-12-31T00:00:00",
          "2025-01-02T00:00:00",
          "2024-12-31T00:00:00",
          "2025-01-02T00:00:00",
          "2024-12-31T00:00:00",
          "2024-12-31T00:00:00",
          "2024-12-31T00:00:00",
          "2025-01-04T00:00:00",
          "2024-12-31T00:00:00",
          "2024-12-31T00:00:00",
          "2024-12-31T00:00:00",
          "2025-01-03T00:00:00",
          "2024-12-31T00:00:00",
          "2024-12-31T00:00:00",
          "2025-01-02T00:00:00",
          "2024-12-31T00:00:00",
          "2024-12-31T00:00:00",
          "2024-12-31T00:00:00",
          "2024-12-31T00:00:00",
          "2024-12-31T00:00:00",
          "2024-12-31T00:00:00",
          "2024-12-31T00:00:00",
          "2024-12-31T00:00:00",
          "2024-12-31T00:00:00",
          "2025-01-02T00:00:00",
          "2025-01-02T00:00:00",
          "2025-01-02T00:00:00",
          "2025-01-02T00:00:00",
          "2025-01-02T00:00:00",
          "2025-01-02T00:00:00",
          "2025-01-02T00:00:00",
          "2025-01-02T00:00:00",
          "2025-01-02T00:00:00",
          "2025-01-02T00:00:00",
          "2025-01-02T00:00:00",
          "2025-01-02T00:00:00",
          "2025-01-02T00:00:00",
          "2025-01-02T00:00:00",
          "2025-01-02T00:00:00",
          "2025-01-02T00:00:00",
          "2025-01-02T00:00:00",
          "2025-01-02T00:00:00",
          "2025-01-02T00:00:00",
          "2025-01-02T00:00:00",
          "2025-01-02T00:00:00",
          "2025-01-02T00:00:00",
          "2025-01-02T00:00:00",
          "2025-01-02T00:00:00",
          "2025-01-02T00:00:00",
          "2025-01-02T00:00:00",
          "2025-01-02T00:00:00",
          "2025-01-02T00:00:00",
          "2025-01-02T00:00:00",
          "2025-01-02T00:00:00",
          "2025-01-02T00:00:00",
          "2025-01-02T00:00:00",
          "2025-01-02T00:00:00",
          "2025-01-02T00:00:00",
          "2025-01-02T00:00:00",
          "2025-01-03T00:00:00",
          "2025-01-03T00:00:00",
          "2025-01-03T00:00:00",
          "2025-01-04T00:00:00",
          "2025-01-03T00:00:00",
          "2025-01-03T00:00:00",
          "2025-01-03T00:00:00",
          "2025-01-03T00:00:00",
          "2025-01-03T00:00:00",
          "2025-01-03T00:00:00",
          "2025-01-03T00:00:00",
          "2025-01-03T00:00:00",
          "2025-01-04T00:00:00",
          "2025-01-03T00:00:00",
          "2025-01-03T00:00:00",
          "2025-01-03T00:00:00",
          "2025-01-03T00:00:00",
          "2025-01-03T00:00:00",
          "2025-01-03T00:00:00",
          "2025-01-03T00:00:00",
          "2025-01-04T00:00:00",
          "2025-01-03T00:00:00",
          "2025-01-03T00:00:00",
          "2025-01-03T00:00:00",
          "2025-01-03T00:00:00",
          "2025-01-03T00:00:00",
          "2025-01-03T00:00:00",
          "2025-01-03T00:00:00",
          "2025-01-03T00:00:00",
          "2025-01-03T00:00:00",
          "2025-01-03T00:00:00",
          "2025-01-03T00:00:00",
          "2025-01-03T00:00:00",
          "2025-01-03T00:00:00",
          "2025-01-03T00:00:00",
          "2025-01-03T00:00:00",
          "2025-01-03T00:00:00",
          "2025-01-03T00:00:00",
          "2025-01-03T00:00:00",
          "2025-01-03T00:00:00",
          "2025-01-03T00:00:00",
          "2025-01-03T00:00:00",
          "2025-01-03T00:00:00",
          "2025-01-03T00:00:00",
          "2025-01-03T00:00:00",
          "2025-01-03T00:00:00",
          "2025-01-03T00:00:00",
          "2025-01-03T00:00:00",
          "2025-01-03T00:00:00",
          "2025-01-03T00:00:00",
          "2025-01-03T00:00:00",
          "2025-01-03T00:00:00",
          "2025-01-03T00:00:00",
          "2025-01-04T00:00:00",
          "2025-01-04T00:00:00",
          "2025-01-04T00:00:00",
          "2025-01-04T00:00:00",
          "2025-01-04T00:00:00",
          "2025-01-04T00:00:00",
          "2025-01-04T00:00:00",
          "2025-01-04T00:00:00",
          "2025-01-04T00:00:00",
          "2025-01-04T00:00:00",
          "2025-01-04T00:00:00",
          "2025-01-04T00:00:00",
          "2025-01-04T00:00:00",
          "2025-01-04T00:00:00",
          "2025-01-04T00:00:00",
          "2025-01-04T00:00:00",
          "2025-01-04T00:00:00",
          "2025-01-04T00:00:00",
          "2025-01-04T00:00:00",
          "2025-01-04T00:00:00",
          "2025-01-04T00:00:00",
          "2025-01-04T00:00:00",
          "2025-01-04T00:00:00",
          "2025-01-04T00:00:00",
          "2025-01-04T00:00:00",
          "2025-01-04T00:00:00",
          "2025-01-04T00:00:00",
          "2025-01-04T00:00:00",
          "2025-01-04T00:00:00",
          "2025-01-04T00:00:00",
          "2025-01-04T00:00:00",
          "2025-01-04T00:00:00",
          "2025-01-04T00:00:00",
          "2025-01-04T00:00:00",
          "2025-01-04T00:00:00",
          "2025-01-04T00:00:00",
          "2025-01-04T00:00:00",
          "2025-01-04T00:00:00",
          "2025-01-04T00:00:00",
          "2025-01-04T00:00:00",
          "2025-01-04T00:00:00",
          "2025-01-04T00:00:00",
          "2025-01-04T00:00:00",
          "2025-01-04T00:00:00",
          "2025-01-04T00:00:00",
          "2025-01-04T00:00:00",
          "2025-01-04T00:00:00",
          "2025-01-04T00:00:00",
          "2025-01-04T00:00:00",
          "2025-01-04T00:00:00",
          "2025-01-04T00:00:00",
          "2025-01-04T00:00:00",
          "2025-01-10T00:00:00",
          "2025-01-06T00:00:00",
          "2025-01-06T00:00:00",
          "2025-01-06T00:00:00",
          "2025-01-06T00:00:00",
          "2025-01-06T00:00:00",
          "2025-01-06T00:00:00",
          "2025-01-06T00:00:00",
          "2025-01-06T00:00:00",
          "2025-01-06T00:00:00",
          "2025-01-06T00:00:00",
          "2025-01-11T00:00:00",
          "2025-01-06T00:00:00",
          "2025-01-06T00:00:00",
          "2025-01-06T00:00:00",
          "2025-01-06T00:00:00",
          "2025-01-06T00:00:00",
          "2025-01-06T00:00:00",
          "2025-01-06T00:00:00",
          "2025-01-06T00:00:00",
          "2025-01-06T00:00:00",
          "2025-01-06T00:00:00",
          "2025-01-06T00:00:00",
          "2025-01-06T00:00:00",
          "2025-01-06T00:00:00",
          "2025-01-06T00:00:00",
          "2025-01-06T00:00:00",
          "2025-01-06T00:00:00",
          "2025-01-06T00:00:00",
          "2025-01-06T00:00:00",
          "2025-01-06T00:00:00",
          "2025-01-06T00:00:00",
          "2025-01-06T00:00:00",
          "2025-01-07T00:00:00",
          "2025-01-11T00:00:00",
          "2025-01-08T00:00:00",
          "2025-01-08T00:00:00",
          "2025-01-07T00:00:00",
          "2025-01-07T00:00:00",
          "2025-01-07T00:00:00",
          "2025-01-07T00:00:00",
          "2025-01-07T00:00:00",
          "2025-01-07T00:00:00",
          "2025-01-07T00:00:00",
          "2025-01-07T00:00:00",
          "2025-01-07T00:00:00",
          "2025-01-07T00:00:00",
          "2025-01-07T00:00:00",
          "2025-01-07T00:00:00",
          "2025-01-07T00:00:00",
          "2025-01-07T00:00:00",
          "2025-01-07T00:00:00",
          "2025-01-07T00:00:00",
          "2025-01-07T00:00:00",
          "2025-01-07T00:00:00",
          "2025-01-07T00:00:00",
          "2025-01-07T00:00:00",
          "2025-01-07T00:00:00",
          "2025-01-07T00:00:00",
          "2025-01-07T00:00:00",
          "2025-01-07T00:00:00",
          "2025-01-07T00:00:00",
          "2025-01-08T00:00:00",
          "2025-01-07T00:00:00",
          "2025-01-08T00:00:00",
          "2025-01-07T00:00:00",
          "2025-01-07T00:00:00",
          "2025-01-07T00:00:00",
          "2025-01-07T00:00:00",
          "2025-01-07T00:00:00",
          "2025-01-07T00:00:00",
          "2025-01-08T00:00:00",
          "2025-01-08T00:00:00",
          "2025-01-09T00:00:00",
          "2025-01-08T00:00:00",
          "2025-01-08T00:00:00",
          "2025-01-08T00:00:00",
          "2025-01-11T00:00:00",
          "2025-01-08T00:00:00",
          "2025-01-08T00:00:00",
          "2025-01-08T00:00:00",
          "2025-01-08T00:00:00",
          "2025-01-08T00:00:00",
          "2025-01-08T00:00:00",
          "2025-01-08T00:00:00",
          "2025-01-08T00:00:00",
          "2025-01-08T00:00:00",
          "2025-01-08T00:00:00",
          "2025-01-10T00:00:00",
          "2025-01-08T00:00:00",
          "2025-01-08T00:00:00",
          "2025-01-08T00:00:00",
          "2025-01-08T00:00:00",
          "2025-01-08T00:00:00",
          "2025-01-08T00:00:00",
          "2025-01-08T00:00:00",
          "2025-01-08T00:00:00",
          "2025-01-08T00:00:00",
          "2025-01-08T00:00:00",
          "2025-01-08T00:00:00",
          "2025-01-08T00:00:00",
          "2025-01-08T00:00:00",
          "2025-01-11T00:00:00",
          "2025-01-08T00:00:00",
          "2025-01-08T00:00:00",
          "2025-01-08T00:00:00",
          "2025-01-11T00:00:00",
          "2025-01-08T00:00:00",
          "2025-01-08T00:00:00",
          "2025-01-08T00:00:00",
          "2025-01-08T00:00:00",
          "2025-01-08T00:00:00",
          "2025-01-08T00:00:00",
          "2025-01-08T00:00:00",
          "2025-01-08T00:00:00",
          "2025-01-09T00:00:00",
          "2025-01-08T00:00:00",
          "2025-01-10T00:00:00",
          "2025-01-11T00:00:00",
          "2025-01-09T00:00:00",
          "2025-01-09T00:00:00",
          "2025-01-09T00:00:00",
          "2025-01-09T00:00:00",
          "2025-01-09T00:00:00",
          "2025-01-09T00:00:00",
          "2025-01-09T00:00:00",
          "2025-01-09T00:00:00",
          "2025-01-09T00:00:00",
          "2025-01-09T00:00:00",
          "2025-01-09T00:00:00",
          "2025-01-09T00:00:00",
          "2025-01-09T00:00:00",
          "2025-01-09T00:00:00",
          "2025-01-09T00:00:00",
          "2025-01-09T00:00:00",
          "2025-01-09T00:00:00",
          "2025-01-09T00:00:00",
          "2025-01-09T00:00:00",
          "2025-01-09T00:00:00",
          "2025-01-09T00:00:00",
          "2025-01-09T00:00:00",
          "2025-01-09T00:00:00",
          "2025-01-09T00:00:00",
          "2025-01-09T00:00:00",
          "2025-01-09T00:00:00",
          "2025-01-10T00:00:00",
          "2025-01-09T00:00:00",
          "2025-01-09T00:00:00",
          "2025-01-09T00:00:00",
          "2025-01-09T00:00:00",
          "2025-01-09T00:00:00",
          "2025-01-09T00:00:00",
          "2025-01-09T00:00:00",
          "2025-01-09T00:00:00",
          "2025-01-09T00:00:00",
          "2025-01-09T00:00:00",
          "2025-01-10T00:00:00",
          "2025-01-11T00:00:00",
          "2025-01-10T00:00:00",
          "2025-01-10T00:00:00",
          "2025-01-10T00:00:00",
          "2025-01-10T00:00:00",
          "2025-01-10T00:00:00",
          "2025-01-10T00:00:00",
          "2025-01-10T00:00:00",
          "2025-01-10T00:00:00",
          "2025-01-10T00:00:00",
          "2025-01-10T00:00:00",
          "2025-01-10T00:00:00",
          "2025-01-10T00:00:00",
          "2025-01-10T00:00:00",
          "2025-01-10T00:00:00",
          "2025-01-11T00:00:00",
          "2025-01-10T00:00:00",
          "2025-01-10T00:00:00",
          "2025-01-10T00:00:00",
          "2025-01-10T00:00:00",
          "2025-01-10T00:00:00",
          "2025-01-10T00:00:00",
          "2025-01-10T00:00:00",
          "2025-01-10T00:00:00",
          "2025-01-10T00:00:00",
          "2025-01-10T00:00:00",
          "2025-01-10T00:00:00",
          "2025-01-10T00:00:00",
          "2025-01-10T00:00:00",
          "2025-01-10T00:00:00",
          "2025-01-10T00:00:00",
          "2025-01-10T00:00:00",
          "2025-01-10T00:00:00",
          "2025-01-10T00:00:00",
          "2025-01-10T00:00:00",
          "2025-01-10T00:00:00",
          "2025-01-10T00:00:00",
          "2025-01-10T00:00:00",
          "2025-01-11T00:00:00",
          "2025-01-10T00:00:00",
          "2025-01-10T00:00:00",
          "2025-01-11T00:00:00",
          "2025-01-11T00:00:00",
          "2025-01-10T00:00:00",
          "2025-01-10T00:00:00",
          "2025-01-10T00:00:00",
          "2025-01-10T00:00:00",
          "2025-01-11T00:00:00",
          "2025-01-11T00:00:00",
          "2025-01-11T00:00:00",
          "2025-01-11T00:00:00",
          "2025-01-11T00:00:00",
          "2025-01-11T00:00:00",
          "2025-01-11T00:00:00",
          "2025-01-11T00:00:00",
          "2025-01-11T00:00:00",
          "2025-01-11T00:00:00",
          "2025-01-11T00:00:00",
          "2025-01-11T00:00:00",
          "2025-01-11T00:00:00",
          "2025-01-11T00:00:00",
          "2025-01-11T00:00:00",
          "2025-01-11T00:00:00",
          "2025-01-11T00:00:00",
          "2025-01-11T00:00:00",
          "2025-01-11T00:00:00",
          "2025-01-11T00:00:00",
          "2025-01-11T00:00:00",
          "2025-01-11T00:00:00",
          "2025-01-11T00:00:00",
          "2025-01-11T00:00:00",
          "2025-01-11T00:00:00",
          "2025-01-11T00:00:00",
          "2025-01-11T00:00:00",
          "2025-01-11T00:00:00",
          "2025-01-11T00:00:00",
          "2025-01-11T00:00:00",
          "2025-01-11T00:00:00",
          "2025-01-11T00:00:00",
          "2025-01-11T00:00:00",
          "2025-01-11T00:00:00",
          "2025-01-11T00:00:00",
          "2025-01-11T00:00:00",
          "2025-01-11T00:00:00",
          "2025-01-11T00:00:00",
          "2025-01-11T00:00:00",
          "2025-01-11T00:00:00",
          "2025-01-11T00:00:00",
          "2025-01-11T00:00:00",
          "2025-01-11T00:00:00",
          "2025-01-11T00:00:00",
          "2025-01-11T00:00:00",
          "2025-01-11T00:00:00",
          "2025-01-11T00:00:00",
          "2025-01-11T00:00:00",
          "2025-01-11T00:00:00",
          "2025-01-11T00:00:00",
          "2025-01-11T00:00:00",
          "2025-01-11T00:00:00",
          "2025-01-11T00:00:00",
          "2025-01-11T00:00:00",
          "2025-01-11T00:00:00",
          "2025-01-11T00:00:00",
          "2025-01-11T00:00:00",
          "2025-01-13T00:00:00",
          "2025-01-13T00:00:00",
          "2025-01-13T00:00:00",
          "2025-01-13T00:00:00",
          "2025-01-13T00:00:00",
          "2025-01-13T00:00:00",
          "2025-01-13T00:00:00",
          "2025-01-13T00:00:00",
          "2025-01-13T00:00:00",
          "2025-01-13T00:00:00",
          "2025-01-13T00:00:00",
          "2025-01-13T00:00:00",
          "2025-01-13T00:00:00",
          "2025-01-13T00:00:00",
          "2025-01-13T00:00:00",
          "2025-01-13T00:00:00",
          "2025-01-13T00:00:00",
          "2025-01-13T00:00:00",
          "2025-01-13T00:00:00",
          "2025-01-13T00:00:00",
          "2025-01-13T00:00:00",
          "2025-01-13T00:00:00",
          "2025-01-17T00:00:00",
          "2025-01-13T00:00:00",
          "2025-01-13T00:00:00",
          "2025-01-13T00:00:00",
          "2025-01-13T00:00:00",
          "2025-01-13T00:00:00",
          "2025-01-13T00:00:00",
          "2025-01-13T00:00:00",
          "2025-01-13T00:00:00",
          "2025-01-13T00:00:00",
          "2025-01-13T00:00:00",
          "2025-01-14T00:00:00",
          "2025-01-13T00:00:00",
          "2025-01-13T00:00:00",
          "2025-01-13T00:00:00",
          "2025-01-13T00:00:00",
          "2025-01-13T00:00:00",
          "2025-01-13T00:00:00",
          "2025-01-13T00:00:00",
          "2025-01-13T00:00:00",
          "2025-01-17T00:00:00",
          "2025-01-16T00:00:00",
          "2025-01-13T00:00:00",
          "2025-01-14T00:00:00",
          "2025-01-14T00:00:00",
          "2025-01-14T00:00:00",
          "2025-01-14T00:00:00",
          "2025-01-14T00:00:00",
          "2025-01-14T00:00:00",
          "2025-01-14T00:00:00",
          "2025-01-14T00:00:00",
          "2025-01-14T00:00:00",
          "2025-01-14T00:00:00",
          "2025-01-14T00:00:00",
          "2025-01-14T00:00:00",
          "2025-01-14T00:00:00",
          "2025-01-14T00:00:00",
          "2025-01-14T00:00:00",
          "2025-01-14T00:00:00",
          "2025-01-14T00:00:00",
          "2025-01-14T00:00:00",
          "2025-01-14T00:00:00",
          "2025-01-14T00:00:00",
          "2025-01-14T00:00:00",
          "2025-01-14T00:00:00",
          "2025-01-14T00:00:00",
          "2025-01-14T00:00:00",
          "2025-01-14T00:00:00",
          "2025-01-14T00:00:00",
          "2025-01-17T00:00:00",
          "2025-01-15T00:00:00",
          "2025-01-14T00:00:00",
          "2025-01-18T00:00:00",
          "2025-01-14T00:00:00",
          "2025-01-14T00:00:00",
          "2025-01-14T00:00:00",
          "2025-01-14T00:00:00",
          "2025-01-16T00:00:00",
          "2025-01-15T00:00:00",
          "2025-01-15T00:00:00",
          "2025-01-15T00:00:00",
          "2025-01-15T00:00:00",
          "2025-01-15T00:00:00",
          "2025-01-15T00:00:00",
          "2025-01-15T00:00:00",
          "2025-01-15T00:00:00",
          "2025-01-15T00:00:00",
          "2025-01-15T00:00:00",
          "2025-01-15T00:00:00",
          "2025-01-15T00:00:00",
          "2025-01-15T00:00:00",
          "2025-01-15T00:00:00",
          "2025-01-15T00:00:00",
          "2025-01-15T00:00:00",
          "2025-01-15T00:00:00",
          "2025-01-15T00:00:00",
          "2025-01-15T00:00:00",
          "2025-01-15T00:00:00",
          "2025-01-15T00:00:00",
          "2025-01-15T00:00:00",
          "2025-01-15T00:00:00",
          "2025-01-15T00:00:00",
          "2025-01-17T00:00:00",
          "2025-01-15T00:00:00",
          "2025-01-15T00:00:00",
          "2025-01-15T00:00:00",
          "2025-01-15T00:00:00",
          "2025-01-15T00:00:00",
          "2025-01-15T00:00:00",
          "2025-01-15T00:00:00",
          "2025-01-15T00:00:00",
          "2025-01-18T00:00:00",
          "2025-01-15T00:00:00",
          "2025-01-15T00:00:00",
          "2025-01-15T00:00:00",
          "2025-01-15T00:00:00",
          "2025-01-15T00:00:00",
          "2025-01-15T00:00:00",
          "2025-01-15T00:00:00",
          "2025-01-16T00:00:00",
          "2025-01-18T00:00:00",
          "2025-01-17T00:00:00",
          "2025-01-16T00:00:00",
          "2025-01-17T00:00:00",
          "2025-01-16T00:00:00",
          "2025-01-16T00:00:00",
          "2025-01-16T00:00:00",
          "2025-01-16T00:00:00",
          "2025-01-16T00:00:00",
          "2025-01-16T00:00:00",
          "2025-01-16T00:00:00",
          "2025-01-16T00:00:00",
          "2025-01-16T00:00:00",
          "2025-01-16T00:00:00",
          "2025-01-16T00:00:00",
          "2025-01-16T00:00:00",
          "2025-01-16T00:00:00",
          "2025-01-16T00:00:00",
          "2025-01-16T00:00:00",
          "2025-01-16T00:00:00",
          "2025-01-16T00:00:00",
          "2025-01-16T00:00:00",
          "2025-01-16T00:00:00",
          "2025-01-16T00:00:00",
          "2025-01-16T00:00:00",
          "2025-01-16T00:00:00",
          "2025-01-16T00:00:00",
          "2025-01-16T00:00:00",
          "2025-01-16T00:00:00",
          "2025-01-18T00:00:00",
          "2025-01-18T00:00:00",
          "2025-01-17T00:00:00",
          "2025-01-17T00:00:00",
          "2025-01-17T00:00:00",
          "2025-01-17T00:00:00",
          "2025-01-17T00:00:00",
          "2025-01-17T00:00:00",
          "2025-01-17T00:00:00",
          "2025-01-17T00:00:00",
          "2025-01-17T00:00:00",
          "2025-01-17T00:00:00",
          "2025-01-17T00:00:00",
          "2025-01-17T00:00:00",
          "2025-01-17T00:00:00",
          "2025-01-17T00:00:00",
          "2025-01-17T00:00:00",
          "2025-01-17T00:00:00",
          "2025-01-17T00:00:00",
          "2025-01-17T00:00:00",
          "2025-01-17T00:00:00",
          "2025-01-17T00:00:00",
          "2025-01-17T00:00:00",
          "2025-01-17T00:00:00",
          "2025-01-17T00:00:00",
          "2025-01-17T00:00:00",
          "2025-01-17T00:00:00",
          "2025-01-17T00:00:00",
          "2025-01-17T00:00:00",
          "2025-01-17T00:00:00",
          "2025-01-17T00:00:00",
          "2025-01-17T00:00:00",
          "2025-01-17T00:00:00",
          "2025-01-17T00:00:00",
          "2025-01-17T00:00:00",
          "2025-01-17T00:00:00",
          "2025-01-17T00:00:00",
          "2025-01-17T00:00:00",
          "2025-01-18T00:00:00",
          "2025-01-17T00:00:00",
          "2025-01-17T00:00:00",
          "2025-01-17T00:00:00",
          "2025-01-17T00:00:00",
          "2025-01-17T00:00:00",
          "2025-01-17T00:00:00",
          "2025-01-18T00:00:00",
          "2025-01-18T00:00:00",
          "2025-01-18T00:00:00",
          "2025-01-18T00:00:00",
          "2025-01-18T00:00:00",
          "2025-01-18T00:00:00",
          "2025-01-18T00:00:00",
          "2025-01-18T00:00:00",
          "2025-01-18T00:00:00",
          "2025-01-18T00:00:00",
          "2025-01-18T00:00:00",
          "2025-01-18T00:00:00",
          "2025-01-18T00:00:00",
          "2025-01-18T00:00:00",
          "2025-01-18T00:00:00",
          "2025-01-18T00:00:00",
          "2025-01-18T00:00:00",
          "2025-01-18T00:00:00",
          "2025-01-18T00:00:00",
          "2025-01-18T00:00:00",
          "2025-01-18T00:00:00",
          "2025-01-18T00:00:00",
          "2025-01-18T00:00:00",
          "2025-01-18T00:00:00",
          "2025-01-18T00:00:00",
          "2025-01-18T00:00:00",
          "2025-01-18T00:00:00",
          "2025-01-18T00:00:00",
          "2025-01-18T00:00:00",
          "2025-01-18T00:00:00",
          "2025-01-18T00:00:00",
          "2025-01-18T00:00:00",
          "2025-01-18T00:00:00",
          "2025-01-18T00:00:00",
          "2025-01-18T00:00:00",
          "2025-01-18T00:00:00",
          "2025-01-24T00:00:00",
          "2025-01-20T00:00:00",
          "2025-01-20T00:00:00",
          "2025-01-20T00:00:00",
          "2025-01-20T00:00:00",
          "2025-01-20T00:00:00",
          "2025-01-20T00:00:00",
          "2025-01-20T00:00:00",
          "2025-01-20T00:00:00",
          "2025-01-20T00:00:00",
          "2025-01-20T00:00:00",
          "2025-01-20T00:00:00",
          "2025-01-20T00:00:00",
          "2025-01-20T00:00:00",
          "2025-01-20T00:00:00",
          "2025-01-20T00:00:00",
          "2025-01-20T00:00:00",
          "2025-01-20T00:00:00",
          "2025-01-20T00:00:00",
          "2025-01-20T00:00:00",
          "2025-01-20T00:00:00",
          "2025-01-20T00:00:00",
          "2025-01-20T00:00:00",
          "2025-01-20T00:00:00",
          "2025-01-20T00:00:00",
          "2025-01-20T00:00:00",
          "2025-01-20T00:00:00",
          "2025-01-24T00:00:00",
          "2025-01-22T00:00:00",
          "2025-01-20T00:00:00",
          "2025-01-20T00:00:00",
          "2025-01-20T00:00:00",
          "2025-01-20T00:00:00",
          "2025-01-20T00:00:00",
          "2025-01-20T00:00:00",
          "2025-01-20T00:00:00",
          "2025-01-20T00:00:00",
          "2025-01-20T00:00:00",
          "2025-01-20T00:00:00",
          "2025-01-20T00:00:00",
          "2025-01-20T00:00:00",
          "2025-01-20T00:00:00",
          "2025-01-20T00:00:00",
          "2025-01-26T00:00:00",
          "2025-01-20T00:00:00",
          "2025-01-21T00:00:00",
          "2025-01-22T00:00:00",
          "2025-01-22T00:00:00",
          "2025-01-21T00:00:00",
          "2025-01-24T00:00:00",
          "2025-01-21T00:00:00",
          "2025-01-21T00:00:00",
          "2025-01-21T00:00:00",
          "2025-01-21T00:00:00",
          "2025-01-21T00:00:00",
          "2025-01-21T00:00:00",
          "2025-01-21T00:00:00",
          "2025-01-21T00:00:00",
          "2025-01-21T00:00:00",
          "2025-01-21T00:00:00",
          "2025-01-21T00:00:00",
          "2025-01-21T00:00:00",
          "2025-01-21T00:00:00",
          "2025-01-21T00:00:00",
          "2025-01-21T00:00:00",
          "2025-01-21T00:00:00",
          "2025-01-21T00:00:00",
          "2025-01-21T00:00:00",
          "2025-01-21T00:00:00",
          "2025-01-21T00:00:00",
          "2025-01-21T00:00:00",
          "2025-01-21T00:00:00",
          "2025-01-21T00:00:00",
          "2025-01-21T00:00:00",
          "2025-01-21T00:00:00",
          "2025-01-21T00:00:00",
          "2025-01-21T00:00:00",
          "2025-01-22T00:00:00",
          "2025-01-23T00:00:00",
          "2025-01-23T00:00:00",
          "2025-01-21T00:00:00",
          "2025-01-22T00:00:00",
          "2025-01-21T00:00:00",
          "2025-01-21T00:00:00",
          "2025-01-22T00:00:00",
          "2025-01-25T00:00:00",
          "2025-01-22T00:00:00",
          "2025-01-26T00:00:00",
          "2025-01-21T00:00:00",
          "2025-01-21T00:00:00",
          "2025-01-21T00:00:00",
          "2025-01-21T00:00:00",
          "2025-01-21T00:00:00",
          "2025-01-25T00:00:00",
          "2025-01-24T00:00:00",
          "2025-01-24T00:00:00",
          "2025-01-25T00:00:00",
          "2025-01-24T00:00:00",
          "2025-01-23T00:00:00",
          "2025-01-22T00:00:00",
          "2025-01-23T00:00:00",
          "2025-01-22T00:00:00",
          "2025-01-22T00:00:00",
          "2025-01-22T00:00:00",
          "2025-01-22T00:00:00",
          "2025-01-22T00:00:00",
          "2025-01-22T00:00:00",
          "2025-01-22T00:00:00",
          "2025-01-22T00:00:00",
          "2025-01-22T00:00:00",
          "2025-01-22T00:00:00",
          "2025-01-22T00:00:00",
          "2025-01-22T00:00:00",
          "2025-01-22T00:00:00",
          "2025-01-22T00:00:00",
          "2025-01-22T00:00:00",
          "2025-01-22T00:00:00",
          "2025-01-22T00:00:00",
          "2025-01-22T00:00:00",
          "2025-01-22T00:00:00",
          "2025-01-22T00:00:00",
          "2025-01-22T00:00:00",
          "2025-01-22T00:00:00",
          "2025-01-22T00:00:00",
          "2025-01-22T00:00:00",
          "2025-01-22T00:00:00",
          "2025-01-22T00:00:00",
          "2025-01-22T00:00:00",
          "2025-01-22T00:00:00",
          "2025-01-22T00:00:00",
          "2025-01-22T00:00:00",
          "2025-01-24T00:00:00",
          "2025-01-22T00:00:00",
          "2025-01-22T00:00:00",
          "2025-01-22T00:00:00",
          "2025-01-22T00:00:00",
          "2025-01-23T00:00:00",
          "2025-01-22T00:00:00",
          "2025-01-22T00:00:00",
          "2025-01-22T00:00:00",
          "2025-01-22T00:00:00",
          "2025-01-22T00:00:00",
          "2025-01-22T00:00:00",
          "2025-01-25T00:00:00",
          "2025-01-22T00:00:00",
          "2025-01-22T00:00:00",
          "2025-01-26T00:00:00",
          "2025-01-26T00:00:00",
          "2025-01-23T00:00:00",
          "2025-01-23T00:00:00",
          "2025-01-23T00:00:00",
          "2025-01-23T00:00:00",
          "2025-01-23T00:00:00",
          "2025-01-23T00:00:00",
          "2025-01-23T00:00:00",
          "2025-01-23T00:00:00",
          "2025-01-23T00:00:00",
          "2025-01-23T00:00:00",
          "2025-01-23T00:00:00",
          "2025-01-23T00:00:00",
          "2025-01-23T00:00:00",
          "2025-01-23T00:00:00",
          "2025-01-23T00:00:00",
          "2025-01-23T00:00:00",
          "2025-01-23T00:00:00",
          "2025-01-23T00:00:00",
          "2025-01-23T00:00:00",
          "2025-01-23T00:00:00",
          "2025-01-23T00:00:00",
          "2025-01-23T00:00:00",
          "2025-01-23T00:00:00",
          "2025-01-23T00:00:00",
          "2025-01-23T00:00:00",
          "2025-01-23T00:00:00",
          "2025-01-23T00:00:00",
          "2025-01-23T00:00:00",
          "2025-01-23T00:00:00",
          "2025-01-23T00:00:00",
          "2025-01-23T00:00:00",
          "2025-01-23T00:00:00",
          "2025-01-23T00:00:00",
          "2025-01-23T00:00:00",
          "2025-01-23T00:00:00",
          "2025-01-23T00:00:00",
          "2025-01-23T00:00:00",
          "2025-01-23T00:00:00",
          "2025-01-23T00:00:00",
          "2025-01-23T00:00:00",
          "2025-01-24T00:00:00",
          "2025-01-24T00:00:00",
          "2025-01-24T00:00:00",
          "2025-01-24T00:00:00",
          "2025-01-24T00:00:00",
          "2025-01-24T00:00:00",
          "2025-01-24T00:00:00",
          "2025-01-24T00:00:00",
          "2025-01-24T00:00:00",
          "2025-01-24T00:00:00",
          "2025-01-24T00:00:00",
          "2025-01-24T00:00:00",
          "2025-01-24T00:00:00",
          "2025-01-24T00:00:00",
          "2025-01-24T00:00:00",
          "2025-01-24T00:00:00",
          "2025-01-24T00:00:00",
          "2025-01-24T00:00:00",
          "2025-01-24T00:00:00",
          "2025-01-24T00:00:00",
          "2025-01-24T00:00:00",
          "2025-01-24T00:00:00",
          "2025-01-24T00:00:00",
          "2025-01-24T00:00:00",
          "2025-01-24T00:00:00",
          "2025-01-24T00:00:00",
          "2025-01-24T00:00:00",
          "2025-01-24T00:00:00",
          "2025-01-24T00:00:00",
          "2025-01-24T00:00:00",
          "2025-01-24T00:00:00",
          "2025-01-24T00:00:00",
          "2025-01-24T00:00:00",
          "2025-01-24T00:00:00",
          "2025-01-24T00:00:00",
          "2025-01-24T00:00:00",
          "2025-01-24T00:00:00",
          "2025-01-24T00:00:00",
          "2025-01-24T00:00:00",
          "2025-01-24T00:00:00",
          "2025-01-24T00:00:00",
          "2025-01-24T00:00:00",
          "2025-01-24T00:00:00",
          "2025-01-24T00:00:00",
          "2025-01-24T00:00:00",
          "2025-01-24T00:00:00",
          "2025-01-24T00:00:00",
          "2025-01-24T00:00:00",
          "2025-01-24T00:00:00",
          "2025-01-24T00:00:00",
          "2025-01-24T00:00:00",
          "2025-01-24T00:00:00",
          "2025-01-24T00:00:00",
          "2025-01-24T00:00:00",
          "2025-01-24T00:00:00",
          "2025-01-25T00:00:00",
          "2025-01-24T00:00:00",
          "2025-01-24T00:00:00",
          "2025-01-24T00:00:00",
          "2025-01-24T00:00:00",
          "2025-01-24T00:00:00",
          "2025-01-24T00:00:00",
          "2025-01-24T00:00:00",
          "2025-01-24T00:00:00",
          "2025-01-24T00:00:00",
          "2025-01-24T00:00:00",
          "2025-01-24T00:00:00",
          "2025-01-24T00:00:00",
          "2025-01-24T00:00:00",
          "2025-01-24T00:00:00",
          "2025-01-24T00:00:00",
          "2025-01-24T00:00:00",
          "2025-01-24T00:00:00",
          "2025-01-24T00:00:00",
          "2025-01-24T00:00:00",
          "2025-01-24T00:00:00",
          "2025-01-24T00:00:00",
          "2025-01-24T00:00:00",
          "2025-01-24T00:00:00",
          "2025-01-24T00:00:00",
          "2025-01-24T00:00:00",
          "2025-01-24T00:00:00",
          "2025-01-24T00:00:00",
          "2025-01-24T00:00:00",
          "2025-01-24T00:00:00",
          "2025-01-24T00:00:00",
          "2025-01-24T00:00:00",
          "2025-01-24T00:00:00",
          "2025-01-24T00:00:00",
          "2025-01-24T00:00:00",
          "2025-01-24T00:00:00",
          "2025-01-24T00:00:00",
          "2025-01-24T00:00:00",
          "2025-01-25T00:00:00",
          "2025-01-25T00:00:00",
          "2025-01-25T00:00:00",
          "2025-01-25T00:00:00",
          "2025-01-25T00:00:00",
          "2025-01-25T00:00:00",
          "2025-01-25T00:00:00",
          "2025-01-25T00:00:00",
          "2025-01-25T00:00:00",
          "2025-01-25T00:00:00",
          "2025-01-25T00:00:00",
          "2025-01-25T00:00:00",
          "2025-01-25T00:00:00",
          "2025-01-25T00:00:00",
          "2025-01-25T00:00:00",
          "2025-01-25T00:00:00",
          "2025-01-25T00:00:00",
          "2025-01-25T00:00:00",
          "2025-01-25T00:00:00",
          "2025-01-25T00:00:00",
          "2025-01-25T00:00:00",
          "2025-01-25T00:00:00",
          "2025-01-25T00:00:00",
          "2025-01-25T00:00:00",
          "2025-01-25T00:00:00",
          "2025-01-25T00:00:00",
          "2025-01-25T00:00:00",
          "2025-01-25T00:00:00",
          "2025-01-25T00:00:00",
          "2025-01-25T00:00:00",
          "2025-01-25T00:00:00",
          "2025-01-25T00:00:00",
          "2025-01-25T00:00:00",
          "2025-01-25T00:00:00",
          "2025-01-25T00:00:00",
          "2025-01-25T00:00:00",
          "2025-01-25T00:00:00",
          "2025-01-25T00:00:00",
          "2025-01-25T00:00:00",
          "2025-01-25T00:00:00",
          "2025-01-25T00:00:00",
          "2025-01-25T00:00:00",
          "2025-01-25T00:00:00",
          "2025-01-25T00:00:00",
          "2025-01-25T00:00:00",
          "2025-01-25T00:00:00",
          "2025-01-25T00:00:00",
          "2025-01-25T00:00:00",
          "2025-01-25T00:00:00",
          "2025-01-25T00:00:00",
          "2025-01-25T00:00:00",
          "2025-01-25T00:00:00",
          "2025-01-25T00:00:00",
          "2025-01-25T00:00:00",
          "2025-01-25T00:00:00",
          "2025-01-25T00:00:00",
          "2025-01-25T00:00:00",
          "2025-01-25T00:00:00",
          "2025-01-25T00:00:00",
          "2025-01-25T00:00:00",
          "2025-01-25T00:00:00",
          "2025-01-25T00:00:00",
          "2025-01-25T00:00:00",
          "2025-01-25T00:00:00",
          "2025-01-25T00:00:00",
          "2025-01-25T00:00:00",
          "2025-01-25T00:00:00",
          "2025-01-25T00:00:00",
          "2025-01-25T00:00:00",
          "2025-01-25T00:00:00",
          "2025-01-25T00:00:00",
          "2025-01-25T00:00:00",
          "2025-01-25T00:00:00",
          "2025-01-25T00:00:00",
          "2025-01-25T00:00:00",
          "2025-01-25T00:00:00",
          "2025-01-25T00:00:00",
          "2025-01-25T00:00:00",
          "2025-01-25T00:00:00",
          "2025-01-25T00:00:00",
          "2025-01-25T00:00:00",
          "2025-01-25T00:00:00",
          "2025-01-25T00:00:00",
          "2025-01-25T00:00:00",
          "2025-01-25T00:00:00",
          "2025-01-25T00:00:00",
          "2025-01-25T00:00:00",
          "2025-01-25T00:00:00",
          "2025-01-25T00:00:00",
          "2025-01-25T00:00:00",
          "2025-01-26T00:00:00",
          "2025-01-25T00:00:00",
          "2025-01-25T00:00:00",
          "2025-01-25T00:00:00",
          "2025-01-25T00:00:00",
          "2025-01-25T00:00:00",
          "2025-01-25T00:00:00",
          "2025-01-25T00:00:00",
          "2025-01-25T00:00:00",
          "2025-01-25T00:00:00",
          "2025-01-25T00:00:00",
          "2025-01-25T00:00:00",
          "2025-01-25T00:00:00",
          "2025-01-25T00:00:00",
          "2025-01-25T00:00:00",
          "2025-01-25T00:00:00",
          "2025-01-26T00:00:00",
          "2025-01-26T00:00:00",
          "2025-01-26T00:00:00",
          "2025-01-26T00:00:00",
          "2025-01-26T00:00:00",
          "2025-01-26T00:00:00",
          "2025-01-26T00:00:00",
          "2025-01-26T00:00:00",
          "2025-01-26T00:00:00",
          "2025-01-26T00:00:00",
          "2025-01-26T00:00:00",
          "2025-01-26T00:00:00",
          "2025-01-26T00:00:00",
          "2025-01-26T00:00:00",
          "2025-01-26T00:00:00",
          "2025-01-26T00:00:00",
          "2025-01-26T00:00:00",
          "2025-01-26T00:00:00",
          "2025-01-26T00:00:00",
          "2025-01-26T00:00:00",
          "2025-01-26T00:00:00",
          "2025-01-26T00:00:00",
          "2025-01-26T00:00:00",
          "2025-01-26T00:00:00",
          "2025-01-26T00:00:00",
          "2025-01-26T00:00:00",
          "2025-01-26T00:00:00",
          "2025-01-26T00:00:00",
          "2025-01-26T00:00:00",
          "2025-01-26T00:00:00",
          "2025-01-26T00:00:00",
          "2025-01-26T00:00:00",
          "2025-01-26T00:00:00",
          "2025-01-26T00:00:00",
          "2025-01-26T00:00:00",
          "2025-01-26T00:00:00",
          "2025-01-26T00:00:00",
          "2025-01-26T00:00:00",
          "2025-01-26T00:00:00",
          "2025-01-26T00:00:00",
          "2025-01-26T00:00:00",
          "2025-01-26T00:00:00",
          "2025-01-26T00:00:00",
          "2025-01-26T00:00:00",
          "2025-01-26T00:00:00",
          "2025-01-26T00:00:00",
          "2025-01-26T00:00:00",
          "2025-01-26T00:00:00",
          "2025-01-26T00:00:00",
          "2025-01-26T00:00:00",
          "2025-01-26T00:00:00",
          "2025-01-26T00:00:00",
          "2025-01-26T00:00:00",
          "2025-01-27T00:00:00",
          "2025-01-27T00:00:00",
          "2025-01-27T00:00:00",
          "2025-01-27T00:00:00",
          "2025-01-27T00:00:00",
          "2025-01-27T00:00:00",
          "2025-01-27T00:00:00",
          "2025-01-27T00:00:00",
          "2025-01-27T00:00:00",
          "2025-01-27T00:00:00",
          "2025-01-27T00:00:00",
          "2025-01-27T00:00:00",
          "2025-01-27T00:00:00",
          "2025-01-27T00:00:00",
          "2025-01-27T00:00:00",
          "2025-01-27T00:00:00",
          "2025-01-27T00:00:00",
          "2025-01-27T00:00:00",
          "2025-01-27T00:00:00",
          "2025-01-27T00:00:00",
          "2025-01-27T00:00:00",
          "2025-01-27T00:00:00",
          "2025-01-27T00:00:00",
          "2025-01-27T00:00:00",
          "2025-01-27T00:00:00",
          "2025-01-27T00:00:00",
          "2025-01-27T00:00:00",
          "2025-01-27T00:00:00",
          "2025-01-27T00:00:00",
          "2025-01-27T00:00:00",
          "2025-01-27T00:00:00",
          "2025-01-27T00:00:00",
          "2025-01-27T00:00:00",
          "2025-01-27T00:00:00",
          "2025-01-27T00:00:00",
          "2025-01-27T00:00:00",
          "2025-01-27T00:00:00",
          "2025-01-27T00:00:00",
          "2025-01-27T00:00:00",
          "2025-01-27T00:00:00",
          "2025-01-27T00:00:00",
          "2025-01-27T00:00:00",
          "2025-01-27T00:00:00",
          "2025-01-27T00:00:00",
          "2025-01-27T00:00:00",
          "2025-01-27T00:00:00",
          "2025-01-27T00:00:00",
          "2025-01-27T00:00:00",
          "2025-01-27T00:00:00",
          "2025-01-27T00:00:00",
          "2025-01-27T00:00:00",
          "2025-01-27T00:00:00",
          "2025-01-27T00:00:00",
          "2025-01-27T00:00:00",
          "2025-01-28T00:00:00",
          "2025-01-27T00:00:00",
          "2025-01-27T00:00:00",
          "2025-01-27T00:00:00",
          "2025-01-27T00:00:00",
          "2025-01-27T00:00:00",
          "2025-01-27T00:00:00",
          "2025-01-27T00:00:00",
          "2025-01-27T00:00:00",
          "2025-01-27T00:00:00",
          "2025-01-27T00:00:00",
          "2025-01-27T00:00:00",
          "2025-01-27T00:00:00",
          "2025-01-27T00:00:00",
          "2025-01-27T00:00:00",
          "2025-01-27T00:00:00",
          "2025-01-27T00:00:00",
          "2025-01-27T00:00:00",
          "2025-01-27T00:00:00",
          "2025-01-27T00:00:00",
          "2025-01-27T00:00:00",
          "2025-01-27T00:00:00",
          "2025-01-27T00:00:00",
          "2025-01-27T00:00:00",
          "2025-01-27T00:00:00",
          "2025-01-27T00:00:00",
          "2025-01-27T00:00:00",
          "2025-01-27T00:00:00",
          "2025-01-27T00:00:00",
          "2025-01-27T00:00:00",
          "2025-01-27T00:00:00",
          "2025-01-27T00:00:00",
          "2025-01-27T00:00:00",
          "2025-01-27T00:00:00",
          "2025-01-27T00:00:00",
          "2025-01-27T00:00:00",
          "2025-01-27T00:00:00",
          "2025-01-27T00:00:00",
          "2025-01-27T00:00:00",
          "2025-01-27T00:00:00",
          "2025-01-27T00:00:00",
          "2025-01-28T00:00:00",
          "2025-01-28T00:00:00",
          "2025-01-28T00:00:00",
          "2025-01-28T00:00:00",
          "2025-01-28T00:00:00",
          "2025-01-28T00:00:00",
          "2025-01-28T00:00:00",
          "2025-01-28T00:00:00",
          "2025-01-28T00:00:00",
          "2025-01-28T00:00:00",
          "2025-01-28T00:00:00",
          "2025-01-28T00:00:00",
          "2025-01-28T00:00:00",
          "2025-01-28T00:00:00",
          "2025-01-28T00:00:00",
          "2025-01-28T00:00:00",
          "2025-01-28T00:00:00",
          "2025-01-28T00:00:00",
          "2025-01-28T00:00:00",
          "2025-01-28T00:00:00",
          "2025-01-28T00:00:00",
          "2025-01-28T00:00:00",
          "2025-01-28T00:00:00",
          "2025-01-28T00:00:00",
          "2025-01-28T00:00:00",
          "2025-01-28T00:00:00",
          "2025-01-28T00:00:00",
          "2025-01-28T00:00:00",
          "2025-01-28T00:00:00",
          "2025-01-28T00:00:00",
          "2025-01-28T00:00:00",
          "2025-01-28T00:00:00",
          "2025-01-28T00:00:00",
          "2025-01-28T00:00:00",
          "2025-01-28T00:00:00",
          "2025-01-28T00:00:00",
          "2025-01-28T00:00:00",
          "2025-01-28T00:00:00",
          "2025-01-28T00:00:00",
          "2025-01-28T00:00:00",
          "2025-01-28T00:00:00",
          "2025-01-28T00:00:00",
          "2025-01-28T00:00:00",
          "2025-01-28T00:00:00",
          "2025-01-28T00:00:00",
          "2025-01-28T00:00:00",
          "2025-01-28T00:00:00",
          "2025-01-28T00:00:00",
          "2025-01-28T00:00:00",
          "2025-01-31T00:00:00",
          "2025-01-31T00:00:00",
          "2025-01-31T00:00:00",
          "2025-01-31T00:00:00",
          "2025-01-31T00:00:00",
          "2025-01-31T00:00:00",
          "2025-01-31T00:00:00",
          "2025-01-31T00:00:00",
          "2025-01-31T00:00:00",
          "2025-01-31T00:00:00",
          "2025-01-31T00:00:00",
          "2025-01-31T00:00:00",
          "2025-01-31T00:00:00",
          "2025-01-31T00:00:00",
          "2025-01-31T00:00:00",
          "2025-01-31T00:00:00",
          "2025-01-31T00:00:00",
          "2025-01-31T00:00:00",
          "2025-01-31T00:00:00",
          "2025-01-31T00:00:00",
          "2025-01-31T00:00:00",
          "2025-01-31T00:00:00",
          "2025-01-31T00:00:00",
          "2025-01-31T00:00:00",
          "2025-01-31T00:00:00",
          "2025-01-31T00:00:00",
          "2025-01-31T00:00:00",
          "2025-01-31T00:00:00",
          "2025-01-31T00:00:00",
          "2025-01-31T00:00:00",
          "2025-01-31T00:00:00",
          "2025-01-31T00:00:00",
          "2025-01-31T00:00:00",
          "2025-01-31T00:00:00",
          "2025-01-31T00:00:00",
          "2025-01-31T00:00:00",
          "2025-01-31T00:00:00",
          "2025-01-31T00:00:00",
          "2025-01-31T00:00:00",
          "2025-01-31T00:00:00",
          "2025-01-31T00:00:00",
          "2025-01-31T00:00:00",
          "2025-01-31T00:00:00",
          "2025-01-31T00:00:00",
          "2025-01-31T00:00:00",
          "2025-01-31T00:00:00",
          "2025-01-31T00:00:00",
          "2025-01-31T00:00:00",
          "2025-01-31T00:00:00",
          "2025-01-31T00:00:00",
          "2025-01-31T00:00:00",
          "2025-01-31T00:00:00",
          "2025-01-31T00:00:00",
          "2025-01-31T00:00:00",
          "2025-01-31T00:00:00",
          "2025-01-31T00:00:00",
          "2025-01-31T00:00:00",
          "2025-01-31T00:00:00",
          "2025-01-31T00:00:00",
          "2025-01-31T00:00:00",
          "2025-01-31T00:00:00",
          "2025-01-31T00:00:00",
          "2025-01-31T00:00:00",
          "2025-01-31T00:00:00",
          "2025-02-01T00:00:00",
          "2025-01-31T00:00:00",
          "2025-01-31T00:00:00",
          "2025-02-01T00:00:00",
          "2025-01-31T00:00:00",
          "2025-01-31T00:00:00",
          "2025-02-01T00:00:00",
          "2025-02-01T00:00:00",
          "2025-02-01T00:00:00",
          "2025-02-01T00:00:00",
          "2025-02-01T00:00:00",
          "2025-02-01T00:00:00",
          "2025-02-01T00:00:00",
          "2025-02-01T00:00:00",
          "2025-02-01T00:00:00",
          "2025-02-01T00:00:00",
          "2025-02-01T00:00:00",
          "2025-02-01T00:00:00",
          "2025-02-01T00:00:00",
          "2025-02-01T00:00:00",
          "2025-02-01T00:00:00",
          "2025-02-01T00:00:00",
          "2025-02-01T00:00:00",
          "2025-02-01T00:00:00",
          "2025-02-01T00:00:00",
          "2025-02-01T00:00:00",
          "2025-02-01T00:00:00",
          "2025-02-01T00:00:00",
          "2025-02-01T00:00:00",
          "2025-02-01T00:00:00",
          "2025-02-01T00:00:00",
          "2025-02-01T00:00:00",
          "2025-02-01T00:00:00",
          "2025-02-01T00:00:00",
          "2025-02-01T00:00:00",
          "2025-02-01T00:00:00",
          "2025-02-01T00:00:00",
          "2025-02-01T00:00:00",
          "2025-02-01T00:00:00",
          "2025-02-01T00:00:00",
          "2025-02-01T00:00:00",
          "2025-02-01T00:00:00",
          "2025-02-01T00:00:00",
          "2025-02-01T00:00:00",
          "2025-02-01T00:00:00",
          "2025-02-01T00:00:00",
          "2025-02-01T00:00:00",
          "2025-02-01T00:00:00",
          "2025-02-01T00:00:00",
          "2025-02-01T00:00:00",
          "2025-02-01T00:00:00",
          "2025-02-01T00:00:00",
          "2025-02-01T00:00:00",
          "2025-02-01T00:00:00",
          "2025-02-01T00:00:00",
          "2025-02-01T00:00:00",
          "2025-02-01T00:00:00",
          "2025-02-01T00:00:00",
          "2025-02-03T00:00:00",
          "2025-02-01T00:00:00",
          "2025-02-03T00:00:00",
          "2025-02-03T00:00:00",
          "2025-02-03T00:00:00",
          "2025-02-03T00:00:00",
          "2025-02-03T00:00:00",
          "2025-02-03T00:00:00",
          "2025-02-01T00:00:00",
          "2025-02-03T00:00:00",
          "2025-02-03T00:00:00",
          "2025-02-01T00:00:00",
          "2025-02-03T00:00:00",
          "2025-02-03T00:00:00",
          "2025-02-03T00:00:00",
          "2025-02-03T00:00:00",
          "2025-02-03T00:00:00",
          "2025-02-03T00:00:00",
          "2025-02-03T00:00:00",
          "2025-02-03T00:00:00",
          "2025-02-03T00:00:00",
          "2025-02-07T00:00:00",
          "2025-02-03T00:00:00",
          "2025-02-03T00:00:00",
          "2025-02-03T00:00:00",
          "2025-02-03T00:00:00",
          "2025-02-03T00:00:00",
          "2025-02-03T00:00:00",
          "2025-02-03T00:00:00",
          "2025-02-03T00:00:00",
          "2025-02-03T00:00:00",
          "2025-02-03T00:00:00",
          "2025-02-03T00:00:00",
          "2025-02-07T00:00:00",
          "2025-02-03T00:00:00",
          "2025-02-03T00:00:00",
          "2025-02-03T00:00:00",
          "2025-02-03T00:00:00",
          "2025-02-03T00:00:00",
          "2025-02-03T00:00:00",
          "2025-02-03T00:00:00",
          "2025-02-03T00:00:00",
          "2025-02-03T00:00:00",
          "2025-02-03T00:00:00",
          "2025-02-03T00:00:00",
          "2025-02-03T00:00:00",
          "2025-02-03T00:00:00",
          "2025-02-03T00:00:00",
          "2025-02-04T00:00:00",
          "2025-02-03T00:00:00",
          "2025-02-03T00:00:00",
          "2025-02-04T00:00:00",
          "2025-02-07T00:00:00",
          "2025-02-07T00:00:00",
          "2025-02-05T00:00:00",
          "2025-02-03T00:00:00",
          "2025-02-06T00:00:00",
          "2025-02-03T00:00:00",
          "2025-02-06T00:00:00",
          "2025-02-07T00:00:00",
          "2025-02-04T00:00:00",
          "2025-02-04T00:00:00",
          "2025-02-04T00:00:00",
          "2025-02-04T00:00:00",
          "2025-02-04T00:00:00",
          "2025-02-04T00:00:00",
          "2025-02-04T00:00:00",
          "2025-02-04T00:00:00",
          "2025-02-04T00:00:00",
          "2025-02-04T00:00:00",
          "2025-02-04T00:00:00",
          "2025-02-04T00:00:00",
          "2025-02-04T00:00:00",
          "2025-02-04T00:00:00",
          "2025-02-04T00:00:00",
          "2025-02-04T00:00:00",
          "2025-02-04T00:00:00",
          "2025-02-04T00:00:00",
          "2025-02-04T00:00:00",
          "2025-02-04T00:00:00",
          "2025-02-04T00:00:00",
          "2025-02-04T00:00:00",
          "2025-02-04T00:00:00",
          "2025-02-04T00:00:00",
          "2025-02-04T00:00:00",
          "2025-02-04T00:00:00",
          "2025-02-04T00:00:00",
          "2025-02-04T00:00:00",
          "2025-02-05T00:00:00",
          "2025-02-04T00:00:00",
          "2025-02-04T00:00:00",
          "2025-02-06T00:00:00",
          "2025-02-04T00:00:00",
          "2025-02-04T00:00:00",
          "2025-02-08T00:00:00",
          "2025-02-06T00:00:00",
          "2025-02-04T00:00:00",
          "2025-02-04T00:00:00",
          "2025-02-05T00:00:00",
          "2025-02-07T00:00:00",
          "2025-02-10T00:00:00",
          "2025-02-10T00:00:00",
          "2025-02-07T00:00:00",
          "2025-02-10T00:00:00",
          "2025-02-10T00:00:00",
          "2025-02-06T00:00:00",
          "2025-02-10T00:00:00",
          "2025-02-10T00:00:00",
          "2025-02-10T00:00:00",
          "2025-02-10T00:00:00",
          "2025-02-10T00:00:00",
          "2025-02-10T00:00:00",
          "2025-02-10T00:00:00",
          "2025-02-05T00:00:00",
          "2025-02-10T00:00:00",
          "2025-02-10T00:00:00",
          "2025-02-08T00:00:00",
          "2025-02-10T00:00:00",
          "2025-02-05T00:00:00",
          "2025-02-10T00:00:00",
          "2025-02-10T00:00:00",
          "2025-02-10T00:00:00",
          "2025-02-10T00:00:00",
          "2025-02-10T00:00:00",
          "2025-02-10T00:00:00",
          "2025-02-10T00:00:00",
          "2025-02-14T00:00:00",
          "2025-02-10T00:00:00",
          "2025-02-10T00:00:00",
          "2025-02-10T00:00:00",
          "2025-02-10T00:00:00",
          "2025-02-10T00:00:00",
          "2025-02-10T00:00:00",
          "2025-02-10T00:00:00",
          "2025-02-10T00:00:00",
          "2025-02-10T00:00:00",
          "2025-02-10T00:00:00",
          "2025-02-10T00:00:00",
          "2025-02-10T00:00:00",
          "2025-02-10T00:00:00",
          "2025-02-10T00:00:00",
          "2025-02-10T00:00:00",
          "2025-02-10T00:00:00",
          "2025-02-10T00:00:00",
          "2025-02-10T00:00:00",
          "2025-02-10T00:00:00",
          "2025-02-10T00:00:00",
          "2025-02-10T00:00:00",
          "2025-02-10T00:00:00",
          "2025-02-10T00:00:00",
          "2025-02-10T00:00:00",
          "2025-02-10T00:00:00",
          "2025-02-10T00:00:00",
          "2025-02-10T00:00:00",
          "2025-02-10T00:00:00",
          "2025-02-10T00:00:00",
          "2025-02-10T00:00:00",
          "2025-02-10T00:00:00",
          "2025-02-15T00:00:00",
          "2025-02-10T00:00:00",
          "2025-02-10T00:00:00",
          "2025-02-06T00:00:00",
          "2025-02-08T00:00:00",
          "2025-02-05T00:00:00",
          "2025-02-05T00:00:00",
          "2025-02-05T00:00:00",
          "2025-02-05T00:00:00",
          "2025-02-05T00:00:00",
          "2025-02-05T00:00:00",
          "2025-02-05T00:00:00",
          "2025-02-05T00:00:00",
          "2025-02-05T00:00:00",
          "2025-02-05T00:00:00",
          "2025-02-05T00:00:00",
          "2025-02-05T00:00:00",
          "2025-02-05T00:00:00",
          "2025-02-05T00:00:00",
          "2025-02-05T00:00:00",
          "2025-02-05T00:00:00",
          "2025-02-05T00:00:00",
          "2025-02-05T00:00:00",
          "2025-02-05T00:00:00",
          "2025-02-05T00:00:00",
          "2025-02-05T00:00:00",
          "2025-02-05T00:00:00",
          "2025-02-05T00:00:00",
          "2025-02-05T00:00:00",
          "2025-02-12T00:00:00",
          "2025-02-10T00:00:00",
          "2025-02-12T00:00:00",
          "2025-02-10T00:00:00",
          "2025-02-10T00:00:00",
          "2025-02-12T00:00:00",
          "2025-02-10T00:00:00",
          "2025-02-10T00:00:00",
          "2025-02-14T00:00:00",
          "2025-02-12T00:00:00",
          "2025-02-11T00:00:00",
          "2025-02-12T00:00:00",
          "2025-02-11T00:00:00",
          "2025-02-14T00:00:00",
          "2025-02-13T00:00:00",
          "2025-02-11T00:00:00",
          "2025-02-15T00:00:00",
          "2025-02-12T00:00:00",
          "2025-02-11T00:00:00",
          "2025-02-05T00:00:00",
          "2025-02-07T00:00:00",
          "2025-02-05T00:00:00",
          "2025-02-05T00:00:00",
          "2025-02-05T00:00:00",
          "2025-02-05T00:00:00",
          "2025-02-05T00:00:00",
          "2025-02-05T00:00:00",
          "2025-02-05T00:00:00",
          "2025-02-05T00:00:00",
          "2025-02-05T00:00:00",
          "2025-02-05T00:00:00",
          "2025-02-05T00:00:00",
          "2025-02-05T00:00:00",
          "2025-02-05T00:00:00",
          "2025-02-06T00:00:00",
          "2025-02-06T00:00:00",
          "2025-02-11T00:00:00",
          "2025-02-13T00:00:00",
          "2025-02-11T00:00:00",
          "2025-02-11T00:00:00",
          "2025-02-11T00:00:00",
          "2025-02-11T00:00:00",
          "2025-02-11T00:00:00",
          "2025-02-11T00:00:00",
          "2025-02-11T00:00:00",
          "2025-02-11T00:00:00",
          "2025-02-11T00:00:00",
          "2025-02-11T00:00:00",
          "2025-02-11T00:00:00",
          "2025-02-11T00:00:00",
          "2025-02-11T00:00:00",
          "2025-02-11T00:00:00",
          "2025-02-11T00:00:00",
          "2025-02-11T00:00:00",
          "2025-02-11T00:00:00",
          "2025-02-11T00:00:00",
          "2025-02-11T00:00:00",
          "2025-02-11T00:00:00",
          "2025-02-11T00:00:00",
          "2025-02-11T00:00:00",
          "2025-02-11T00:00:00",
          "2025-02-11T00:00:00",
          "2025-02-11T00:00:00",
          "2025-02-11T00:00:00",
          "2025-02-11T00:00:00",
          "2025-02-11T00:00:00",
          "2025-02-11T00:00:00",
          "2025-02-11T00:00:00",
          "2025-02-11T00:00:00",
          "2025-02-11T00:00:00",
          "2025-02-06T00:00:00",
          "2025-02-06T00:00:00",
          "2025-02-06T00:00:00",
          "2025-02-06T00:00:00",
          "2025-02-06T00:00:00",
          "2025-02-06T00:00:00",
          "2025-02-06T00:00:00",
          "2025-02-06T00:00:00",
          "2025-02-06T00:00:00",
          "2025-02-06T00:00:00",
          "2025-02-06T00:00:00",
          "2025-02-06T00:00:00",
          "2025-02-06T00:00:00",
          "2025-02-06T00:00:00",
          "2025-02-06T00:00:00",
          "2025-02-06T00:00:00",
          "2025-02-06T00:00:00",
          "2025-02-06T00:00:00",
          "2025-02-06T00:00:00",
          "2025-02-06T00:00:00",
          "2025-02-06T00:00:00",
          "2025-02-06T00:00:00",
          "2025-02-06T00:00:00",
          "2025-02-06T00:00:00",
          "2025-02-06T00:00:00",
          "2025-02-06T00:00:00",
          "2025-02-06T00:00:00",
          "2025-02-06T00:00:00",
          "2025-02-06T00:00:00",
          "2025-02-06T00:00:00",
          "2025-02-06T00:00:00",
          "2025-02-06T00:00:00",
          "2025-02-15T00:00:00",
          "2025-02-11T00:00:00",
          "2025-02-11T00:00:00",
          "2025-02-11T00:00:00",
          "2025-02-12T00:00:00",
          "2025-02-11T00:00:00",
          "2025-02-11T00:00:00",
          "2025-02-11T00:00:00",
          "2025-02-15T00:00:00",
          "2025-02-12T00:00:00",
          "2025-02-12T00:00:00",
          "2025-02-12T00:00:00",
          "2025-02-14T00:00:00",
          "2025-02-13T00:00:00",
          "2025-02-14T00:00:00",
          "2025-02-15T00:00:00",
          "2025-02-12T00:00:00",
          "2025-02-12T00:00:00",
          "2025-02-12T00:00:00",
          "2025-02-12T00:00:00",
          "2025-02-12T00:00:00",
          "2025-02-12T00:00:00",
          "2025-02-12T00:00:00",
          "2025-02-12T00:00:00",
          "2025-02-12T00:00:00",
          "2025-02-12T00:00:00",
          "2025-02-12T00:00:00",
          "2025-02-07T00:00:00",
          "2025-02-07T00:00:00",
          "2025-02-07T00:00:00",
          "2025-02-07T00:00:00",
          "2025-02-07T00:00:00",
          "2025-02-07T00:00:00",
          "2025-02-07T00:00:00",
          "2025-02-07T00:00:00",
          "2025-02-07T00:00:00",
          "2025-02-07T00:00:00",
          "2025-02-07T00:00:00",
          "2025-02-07T00:00:00",
          "2025-02-07T00:00:00",
          "2025-02-07T00:00:00",
          "2025-02-07T00:00:00",
          "2025-02-07T00:00:00",
          "2025-02-07T00:00:00",
          "2025-02-07T00:00:00",
          "2025-02-07T00:00:00",
          "2025-02-07T00:00:00",
          "2025-02-07T00:00:00",
          "2025-02-07T00:00:00",
          "2025-02-07T00:00:00",
          "2025-02-07T00:00:00",
          "2025-02-07T00:00:00",
          "2025-02-07T00:00:00",
          "2025-02-12T00:00:00",
          "2025-02-12T00:00:00",
          "2025-02-12T00:00:00",
          "2025-02-12T00:00:00",
          "2025-02-12T00:00:00",
          "2025-02-13T00:00:00",
          "2025-02-12T00:00:00",
          "2025-02-12T00:00:00",
          "2025-02-12T00:00:00",
          "2025-02-12T00:00:00",
          "2025-02-12T00:00:00",
          "2025-02-12T00:00:00",
          "2025-02-12T00:00:00",
          "2025-02-12T00:00:00",
          "2025-02-12T00:00:00",
          "2025-02-12T00:00:00",
          "2025-02-12T00:00:00",
          "2025-02-12T00:00:00",
          "2025-02-12T00:00:00",
          "2025-02-14T00:00:00",
          "2025-02-12T00:00:00",
          "2025-02-12T00:00:00",
          "2025-02-12T00:00:00",
          "2025-02-15T00:00:00",
          "2025-02-12T00:00:00",
          "2025-02-13T00:00:00",
          "2025-02-07T00:00:00",
          "2025-02-07T00:00:00",
          "2025-02-07T00:00:00",
          "2025-02-07T00:00:00",
          "2025-02-07T00:00:00",
          "2025-02-07T00:00:00",
          "2025-02-07T00:00:00",
          "2025-02-07T00:00:00",
          "2025-02-07T00:00:00",
          "2025-02-07T00:00:00",
          "2025-02-07T00:00:00",
          "2025-02-07T00:00:00",
          "2025-02-07T00:00:00",
          "2025-02-07T00:00:00",
          "2025-02-07T00:00:00",
          "2025-02-07T00:00:00",
          "2025-02-07T00:00:00",
          "2025-02-07T00:00:00",
          "2025-02-07T00:00:00",
          "2025-02-07T00:00:00",
          "2025-02-07T00:00:00",
          "2025-02-07T00:00:00",
          "2025-02-07T00:00:00",
          "2025-02-15T00:00:00",
          "2025-02-15T00:00:00",
          "2025-02-12T00:00:00",
          "2025-02-13T00:00:00",
          "2025-02-13T00:00:00",
          "2025-02-13T00:00:00",
          "2025-02-13T00:00:00",
          "2025-02-13T00:00:00",
          "2025-02-13T00:00:00",
          "2025-02-13T00:00:00",
          "2025-02-13T00:00:00",
          "2025-02-13T00:00:00",
          "2025-02-13T00:00:00",
          "2025-02-13T00:00:00",
          "2025-02-13T00:00:00",
          "2025-02-13T00:00:00",
          "2025-02-13T00:00:00",
          "2025-02-13T00:00:00",
          "2025-02-13T00:00:00",
          "2025-02-13T00:00:00",
          "2025-02-13T00:00:00",
          "2025-02-13T00:00:00",
          "2025-02-13T00:00:00",
          "2025-02-13T00:00:00",
          "2025-02-13T00:00:00",
          "2025-02-13T00:00:00",
          "2025-02-13T00:00:00",
          "2025-02-13T00:00:00",
          "2025-02-13T00:00:00",
          "2025-02-13T00:00:00",
          "2025-02-08T00:00:00",
          "2025-02-08T00:00:00",
          "2025-02-08T00:00:00",
          "2025-02-08T00:00:00",
          "2025-02-08T00:00:00",
          "2025-02-08T00:00:00",
          "2025-02-08T00:00:00",
          "2025-02-08T00:00:00",
          "2025-02-08T00:00:00",
          "2025-02-08T00:00:00",
          "2025-02-08T00:00:00",
          "2025-02-08T00:00:00",
          "2025-02-08T00:00:00",
          "2025-02-08T00:00:00",
          "2025-02-08T00:00:00",
          "2025-02-08T00:00:00",
          "2025-02-08T00:00:00",
          "2025-02-08T00:00:00",
          "2025-02-08T00:00:00",
          "2025-02-08T00:00:00",
          "2025-02-08T00:00:00",
          "2025-02-08T00:00:00",
          "2025-02-08T00:00:00",
          "2025-02-08T00:00:00",
          "2025-02-08T00:00:00",
          "2025-02-08T00:00:00",
          "2025-02-08T00:00:00",
          "2025-02-08T00:00:00",
          "2025-02-08T00:00:00",
          "2025-02-08T00:00:00",
          "2025-02-08T00:00:00",
          "2025-02-08T00:00:00",
          "2025-02-08T00:00:00",
          "2025-02-08T00:00:00",
          "2025-02-08T00:00:00",
          "2025-02-08T00:00:00",
          "2025-02-08T00:00:00",
          "2025-02-08T00:00:00",
          "2025-02-08T00:00:00",
          "2025-02-08T00:00:00",
          "2025-02-08T00:00:00",
          "2025-02-08T00:00:00",
          "2025-02-08T00:00:00",
          "2025-02-08T00:00:00",
          "2025-02-08T00:00:00",
          "2025-02-08T00:00:00",
          "2025-02-08T00:00:00",
          "2025-02-08T00:00:00",
          "2025-02-08T00:00:00",
          "2025-02-08T00:00:00",
          "2025-02-08T00:00:00",
          "2025-02-13T00:00:00",
          "2025-02-13T00:00:00",
          "2025-02-14T00:00:00",
          "2025-02-14T00:00:00",
          "2025-02-13T00:00:00",
          "2025-02-15T00:00:00",
          "2025-02-14T00:00:00",
          "2025-02-14T00:00:00",
          "2025-02-14T00:00:00",
          "2025-02-14T00:00:00",
          "2025-02-14T00:00:00",
          "2025-02-14T00:00:00",
          "2025-02-14T00:00:00",
          "2025-02-14T00:00:00",
          "2025-02-14T00:00:00",
          "2025-02-08T00:00:00",
          "2025-02-08T00:00:00",
          "2025-02-14T00:00:00",
          "2025-02-14T00:00:00",
          "2025-02-14T00:00:00",
          "2025-02-14T00:00:00",
          "2025-02-14T00:00:00",
          "2025-02-14T00:00:00",
          "2025-02-14T00:00:00",
          "2025-02-14T00:00:00",
          "2025-02-14T00:00:00",
          "2025-02-14T00:00:00",
          "2025-02-14T00:00:00",
          "2025-02-14T00:00:00",
          "2025-02-14T00:00:00",
          "2025-02-14T00:00:00",
          "2025-02-14T00:00:00",
          "2025-02-14T00:00:00",
          "2025-02-17T00:00:00",
          "2025-02-14T00:00:00",
          "2025-02-14T00:00:00",
          "2025-02-17T00:00:00",
          "2025-02-14T00:00:00",
          "2025-02-14T00:00:00",
          "2025-02-18T00:00:00",
          "2025-02-14T00:00:00",
          "2025-02-18T00:00:00",
          "2025-02-17T00:00:00",
          "2025-02-14T00:00:00",
          "2025-02-14T00:00:00",
          "2025-02-17T00:00:00",
          "2025-02-17T00:00:00",
          "2025-02-14T00:00:00",
          "2025-02-17T00:00:00",
          "2025-02-14T00:00:00",
          "2025-02-17T00:00:00",
          "2025-02-14T00:00:00",
          "2025-02-17T00:00:00",
          "2025-02-14T00:00:00",
          "2025-02-14T00:00:00",
          "2025-02-15T00:00:00",
          "2025-02-15T00:00:00",
          "2025-02-15T00:00:00",
          "2025-02-15T00:00:00",
          "2025-02-15T00:00:00",
          "2025-02-15T00:00:00",
          "2025-02-15T00:00:00",
          "2025-02-15T00:00:00",
          "2025-02-15T00:00:00",
          "2025-02-15T00:00:00",
          "2025-02-15T00:00:00",
          "2025-02-15T00:00:00",
          "2025-02-15T00:00:00",
          "2025-02-17T00:00:00",
          "2025-02-17T00:00:00",
          "2025-02-17T00:00:00",
          "2025-02-17T00:00:00",
          "2025-02-17T00:00:00",
          "2025-02-17T00:00:00",
          "2025-02-17T00:00:00",
          "2025-02-17T00:00:00",
          "2025-02-17T00:00:00",
          "2025-02-17T00:00:00",
          "2025-02-17T00:00:00",
          "2025-02-17T00:00:00",
          "2025-02-17T00:00:00",
          "2025-02-17T00:00:00",
          "2025-02-22T00:00:00",
          "2025-02-17T00:00:00",
          "2025-02-19T00:00:00",
          "2025-02-17T00:00:00",
          "2025-02-17T00:00:00",
          "2025-02-17T00:00:00",
          "2025-02-17T00:00:00",
          "2025-02-17T00:00:00",
          "2025-02-17T00:00:00",
          "2025-02-17T00:00:00",
          "2025-02-17T00:00:00",
          "2025-02-17T00:00:00",
          "2025-02-17T00:00:00",
          "2025-02-17T00:00:00",
          "2025-02-17T00:00:00",
          "2025-02-17T00:00:00",
          "2025-02-17T00:00:00",
          "2025-02-15T00:00:00",
          "2025-02-15T00:00:00",
          "2025-02-15T00:00:00",
          "2025-02-15T00:00:00",
          "2025-02-15T00:00:00",
          "2025-02-15T00:00:00",
          "2025-02-15T00:00:00",
          "2025-02-15T00:00:00",
          "2025-02-15T00:00:00",
          "2025-02-15T00:00:00",
          "2025-02-15T00:00:00",
          "2025-02-15T00:00:00",
          "2025-02-15T00:00:00",
          "2025-02-15T00:00:00",
          "2025-02-15T00:00:00",
          "2025-02-15T00:00:00",
          "2025-02-15T00:00:00",
          "2025-02-15T00:00:00",
          "2025-02-15T00:00:00",
          "2025-02-15T00:00:00",
          "2025-02-15T00:00:00",
          "2025-02-15T00:00:00",
          "2025-02-15T00:00:00",
          "2025-02-15T00:00:00",
          "2025-02-15T00:00:00",
          "2025-02-15T00:00:00",
          "2025-02-15T00:00:00",
          "2025-02-15T00:00:00",
          "2025-02-15T00:00:00",
          "2025-02-15T00:00:00",
          "2025-02-15T00:00:00",
          "2025-02-15T00:00:00",
          "2025-02-15T00:00:00",
          "2025-02-15T00:00:00",
          "2025-02-15T00:00:00",
          "2025-02-15T00:00:00",
          "2025-02-15T00:00:00",
          "2025-02-15T00:00:00",
          "2025-02-17T00:00:00",
          "2025-02-17T00:00:00",
          "2025-02-17T00:00:00",
          "2025-02-17T00:00:00",
          "2025-02-19T00:00:00",
          "2025-02-17T00:00:00",
          "2025-02-18T00:00:00",
          "2025-02-21T00:00:00",
          "2025-02-20T00:00:00",
          "2025-02-20T00:00:00",
          "2025-02-18T00:00:00",
          "2025-02-18T00:00:00",
          "2025-02-19T00:00:00",
          "2025-02-18T00:00:00",
          "2025-02-18T00:00:00",
          "2025-02-18T00:00:00",
          "2025-02-18T00:00:00",
          "2025-02-18T00:00:00",
          "2025-02-18T00:00:00",
          "2025-02-18T00:00:00",
          "2025-02-21T00:00:00",
          "2025-02-18T00:00:00",
          "2025-02-18T00:00:00",
          "2025-02-18T00:00:00",
          "2025-02-15T00:00:00",
          "2025-02-15T00:00:00",
          "2025-02-15T00:00:00",
          "2025-02-15T00:00:00",
          "2025-02-15T00:00:00",
          "2025-02-15T00:00:00",
          "2025-02-15T00:00:00",
          "2025-02-15T00:00:00",
          "2025-02-15T00:00:00",
          "2025-02-15T00:00:00",
          "2025-02-15T00:00:00",
          "2025-02-15T00:00:00",
          "2025-02-15T00:00:00",
          "2025-02-15T00:00:00",
          "2025-02-18T00:00:00",
          "2025-02-18T00:00:00",
          "2025-02-18T00:00:00",
          "2025-02-18T00:00:00",
          "2025-02-18T00:00:00",
          "2025-02-18T00:00:00",
          "2025-02-18T00:00:00",
          "2025-02-21T00:00:00",
          "2025-02-19T00:00:00",
          "2025-02-21T00:00:00",
          "2025-02-21T00:00:00",
          "2025-02-19T00:00:00",
          "2025-02-19T00:00:00",
          "2025-02-19T00:00:00",
          "2025-02-19T00:00:00",
          "2025-02-19T00:00:00",
          "2025-02-19T00:00:00",
          "2025-02-19T00:00:00",
          "2025-02-20T00:00:00",
          "2025-02-19T00:00:00",
          "2025-02-22T00:00:00",
          "2025-02-19T00:00:00",
          "2025-02-19T00:00:00",
          "2025-02-19T00:00:00",
          "2025-02-19T00:00:00",
          "2025-02-19T00:00:00",
          "2025-02-19T00:00:00",
          "2025-02-19T00:00:00",
          "2025-02-20T00:00:00",
          "2025-02-19T00:00:00",
          "2025-02-19T00:00:00",
          "2025-02-19T00:00:00",
          "2025-02-19T00:00:00",
          "2025-02-19T00:00:00",
          "2025-02-19T00:00:00",
          "2025-02-19T00:00:00",
          "2025-02-19T00:00:00",
          "2025-02-19T00:00:00",
          "2025-02-19T00:00:00",
          "2025-02-19T00:00:00",
          "2025-02-19T00:00:00",
          "2025-02-20T00:00:00",
          "2025-02-19T00:00:00",
          "2025-02-20T00:00:00",
          "2025-02-20T00:00:00",
          "2025-02-20T00:00:00",
          "2025-02-20T00:00:00",
          "2025-02-20T00:00:00",
          "2025-02-20T00:00:00",
          "2025-02-20T00:00:00",
          "2025-02-20T00:00:00",
          "2025-02-20T00:00:00",
          "2025-02-20T00:00:00",
          "2025-02-20T00:00:00",
          "2025-02-20T00:00:00",
          "2025-02-20T00:00:00",
          "2025-02-20T00:00:00",
          "2025-02-20T00:00:00",
          "2025-02-20T00:00:00",
          "2025-02-20T00:00:00",
          "2025-02-20T00:00:00",
          "2025-02-20T00:00:00",
          "2025-02-20T00:00:00",
          "2025-02-20T00:00:00",
          "2025-02-20T00:00:00",
          "2025-02-20T00:00:00",
          "2025-02-20T00:00:00",
          "2025-02-20T00:00:00",
          "2025-02-20T00:00:00",
          "2025-02-20T00:00:00",
          "2025-02-20T00:00:00",
          "2025-02-20T00:00:00",
          "2025-02-20T00:00:00",
          "2025-02-22T00:00:00",
          "2025-02-20T00:00:00",
          "2025-02-20T00:00:00",
          "2025-02-20T00:00:00",
          "2025-02-20T00:00:00",
          "2025-02-20T00:00:00",
          "2025-02-20T00:00:00",
          "2025-02-20T00:00:00",
          "2025-02-21T00:00:00",
          "2025-02-21T00:00:00",
          "2025-02-21T00:00:00",
          "2025-02-21T00:00:00",
          "2025-02-21T00:00:00",
          "2025-02-21T00:00:00",
          "2025-02-21T00:00:00",
          "2025-02-21T00:00:00",
          "2025-02-21T00:00:00",
          "2025-02-21T00:00:00",
          "2025-02-21T00:00:00",
          "2025-02-22T00:00:00",
          "2025-02-22T00:00:00",
          "2025-02-21T00:00:00",
          "2025-02-21T00:00:00",
          "2025-02-21T00:00:00",
          "2025-02-21T00:00:00",
          "2025-02-21T00:00:00",
          "2025-02-22T00:00:00",
          "2025-02-21T00:00:00",
          "2025-02-21T00:00:00",
          "2025-02-21T00:00:00",
          "2025-02-21T00:00:00",
          "2025-02-21T00:00:00",
          "2025-02-21T00:00:00",
          "2025-02-21T00:00:00",
          "2025-02-21T00:00:00",
          "2025-02-21T00:00:00",
          "2025-02-21T00:00:00",
          "2025-02-21T00:00:00",
          "2025-02-21T00:00:00",
          "2025-02-21T00:00:00",
          "2025-02-21T00:00:00",
          "2025-02-21T00:00:00",
          "2025-02-21T00:00:00",
          "2025-02-21T00:00:00",
          "2025-02-21T00:00:00",
          "2025-02-21T00:00:00",
          "2025-02-21T00:00:00",
          "2025-02-21T00:00:00",
          "2025-02-21T00:00:00",
          "2025-02-21T00:00:00",
          "2025-02-21T00:00:00",
          "2025-02-21T00:00:00",
          "2025-02-24T00:00:00",
          "2025-02-21T00:00:00",
          "2025-02-21T00:00:00",
          "2025-02-24T00:00:00",
          "2025-02-24T00:00:00",
          "2025-02-24T00:00:00",
          "2025-02-21T00:00:00",
          "2025-02-24T00:00:00",
          "2025-02-21T00:00:00",
          "2025-02-24T00:00:00",
          "2025-02-21T00:00:00",
          "2025-02-24T00:00:00",
          "2025-02-24T00:00:00",
          "2025-02-21T00:00:00",
          "2025-02-24T00:00:00",
          "2025-02-21T00:00:00",
          "2025-02-24T00:00:00",
          "2025-02-24T00:00:00",
          "2025-02-21T00:00:00",
          "2025-02-24T00:00:00",
          "2025-02-22T00:00:00",
          "2025-02-21T00:00:00",
          "2025-02-22T00:00:00",
          "2025-02-22T00:00:00",
          "2025-02-22T00:00:00",
          "2025-02-22T00:00:00",
          "2025-02-22T00:00:00",
          "2025-02-22T00:00:00",
          "2025-02-22T00:00:00",
          "2025-02-22T00:00:00",
          "2025-02-22T00:00:00",
          "2025-02-22T00:00:00",
          "2025-02-22T00:00:00",
          "2025-02-22T00:00:00",
          "2025-02-22T00:00:00",
          "2025-02-22T00:00:00",
          "2025-02-22T00:00:00",
          "2025-02-22T00:00:00",
          "2025-02-22T00:00:00",
          "2025-02-22T00:00:00",
          "2025-02-22T00:00:00",
          "2025-02-22T00:00:00",
          "2025-02-22T00:00:00",
          "2025-02-22T00:00:00",
          "2025-02-22T00:00:00",
          "2025-02-22T00:00:00",
          "2025-02-22T00:00:00",
          "2025-02-22T00:00:00",
          "2025-02-24T00:00:00",
          "2025-02-24T00:00:00",
          "2025-02-24T00:00:00",
          "2025-02-24T00:00:00",
          "2025-02-24T00:00:00",
          "2025-02-24T00:00:00",
          "2025-02-24T00:00:00",
          "2025-02-24T00:00:00",
          "2025-02-24T00:00:00",
          "2025-02-24T00:00:00",
          "2025-02-24T00:00:00",
          "2025-02-24T00:00:00",
          "2025-02-24T00:00:00",
          "2025-02-24T00:00:00",
          "2025-02-24T00:00:00",
          "2025-02-24T00:00:00",
          "2025-02-24T00:00:00",
          "2025-02-24T00:00:00",
          "2025-02-24T00:00:00",
          "2025-02-24T00:00:00",
          "2025-02-24T00:00:00",
          "2025-02-24T00:00:00",
          "2025-02-24T00:00:00",
          "2025-02-24T00:00:00",
          "2025-02-24T00:00:00",
          "2025-02-24T00:00:00",
          "2025-02-24T00:00:00",
          "2025-02-24T00:00:00",
          "2025-02-24T00:00:00",
          "2025-02-24T00:00:00",
          "2025-02-25T00:00:00",
          "2025-02-24T00:00:00",
          "2025-02-24T00:00:00",
          "2025-02-24T00:00:00",
          "2025-02-28T00:00:00",
          "2025-02-22T00:00:00",
          "2025-02-22T00:00:00",
          "2025-02-22T00:00:00",
          "2025-02-22T00:00:00",
          "2025-02-22T00:00:00",
          "2025-02-22T00:00:00",
          "2025-02-22T00:00:00",
          "2025-02-22T00:00:00",
          "2025-02-22T00:00:00",
          "2025-02-22T00:00:00",
          "2025-02-22T00:00:00",
          "2025-02-22T00:00:00",
          "2025-02-22T00:00:00",
          "2025-02-22T00:00:00",
          "2025-02-22T00:00:00",
          "2025-02-22T00:00:00",
          "2025-02-22T00:00:00",
          "2025-02-22T00:00:00",
          "2025-02-22T00:00:00",
          "2025-02-22T00:00:00",
          "2025-02-22T00:00:00",
          "2025-02-22T00:00:00",
          "2025-02-24T00:00:00",
          "2025-02-25T00:00:00",
          "2025-02-26T00:00:00",
          "2025-02-24T00:00:00",
          "2025-02-28T00:00:00",
          "2025-02-26T00:00:00",
          "2025-02-26T00:00:00",
          "2025-02-25T00:00:00",
          "2025-02-25T00:00:00",
          "2025-02-25T00:00:00",
          "2025-02-25T00:00:00",
          "2025-02-25T00:00:00",
          "2025-02-25T00:00:00",
          "2025-02-25T00:00:00",
          "2025-02-25T00:00:00",
          "2025-02-25T00:00:00",
          "2025-02-25T00:00:00",
          "2025-02-25T00:00:00",
          "2025-02-25T00:00:00",
          "2025-02-25T00:00:00",
          "2025-02-25T00:00:00",
          "2025-02-25T00:00:00",
          "2025-02-25T00:00:00",
          "2025-02-25T00:00:00",
          "2025-02-25T00:00:00",
          "2025-02-25T00:00:00",
          "2025-02-25T00:00:00",
          "2025-02-25T00:00:00",
          "2025-02-25T00:00:00",
          "2025-02-25T00:00:00",
          "2025-02-25T00:00:00",
          "2025-02-25T00:00:00",
          "2025-02-25T00:00:00",
          "2025-02-25T00:00:00",
          "2025-02-25T00:00:00",
          "2025-02-25T00:00:00",
          "2025-02-25T00:00:00",
          "2025-02-25T00:00:00",
          "2025-02-25T00:00:00",
          "2025-02-25T00:00:00",
          "2025-02-25T00:00:00",
          "2025-02-25T00:00:00",
          "2025-02-25T00:00:00",
          "2025-02-26T00:00:00",
          "2025-02-25T00:00:00",
          "2025-02-27T00:00:00",
          "2025-02-26T00:00:00",
          "2025-02-26T00:00:00",
          "2025-02-26T00:00:00",
          "2025-02-26T00:00:00",
          "2025-02-26T00:00:00",
          "2025-02-26T00:00:00",
          "2025-02-26T00:00:00",
          "2025-02-26T00:00:00",
          "2025-02-26T00:00:00",
          "2025-02-26T00:00:00",
          "2025-02-26T00:00:00",
          "2025-02-26T00:00:00",
          "2025-02-26T00:00:00",
          "2025-02-26T00:00:00",
          "2025-02-26T00:00:00",
          "2025-02-22T00:00:00",
          "2025-02-26T00:00:00",
          "2025-02-26T00:00:00",
          "2025-02-26T00:00:00",
          "2025-02-26T00:00:00",
          "2025-02-26T00:00:00",
          "2025-02-26T00:00:00",
          "2025-02-26T00:00:00",
          "2025-02-26T00:00:00",
          "2025-02-26T00:00:00",
          "2025-02-28T00:00:00",
          "2025-02-26T00:00:00",
          "2025-02-26T00:00:00",
          "2025-02-26T00:00:00",
          "2025-02-26T00:00:00",
          "2025-02-27T00:00:00",
          "2025-02-27T00:00:00",
          "2025-02-27T00:00:00",
          "2025-02-27T00:00:00",
          "2025-02-28T00:00:00",
          "2025-02-27T00:00:00",
          "2025-02-27T00:00:00",
          "2025-02-27T00:00:00",
          "2025-02-27T00:00:00",
          "2025-02-27T00:00:00",
          "2025-02-27T00:00:00",
          "2025-02-28T00:00:00",
          "2025-02-27T00:00:00",
          "2025-02-27T00:00:00",
          "2025-02-28T00:00:00",
          "2025-02-27T00:00:00",
          "2025-02-27T00:00:00",
          "2025-03-01T00:00:00",
          "2025-02-27T00:00:00",
          "2025-02-27T00:00:00",
          "2025-02-28T00:00:00",
          "2025-02-28T00:00:00",
          "2025-02-28T00:00:00",
          "2025-02-28T00:00:00",
          "2025-02-28T00:00:00",
          "2025-02-28T00:00:00",
          "2025-02-28T00:00:00",
          "2025-02-28T00:00:00",
          "2025-02-28T00:00:00",
          "2025-02-28T00:00:00",
          "2025-02-28T00:00:00",
          "2025-02-28T00:00:00",
          "2025-02-28T00:00:00",
          "2025-02-28T00:00:00",
          "2025-02-28T00:00:00",
          "2025-02-28T00:00:00",
          "2025-02-28T00:00:00",
          "2025-02-28T00:00:00",
          "2025-02-28T00:00:00",
          "2025-02-28T00:00:00",
          "2025-02-28T00:00:00",
          "2025-02-28T00:00:00",
          "2025-02-28T00:00:00",
          "2025-02-28T00:00:00",
          "2025-02-28T00:00:00",
          "2025-02-28T00:00:00",
          "2025-02-28T00:00:00",
          "2025-02-28T00:00:00",
          "2025-02-28T00:00:00",
          "2025-02-28T00:00:00",
          "2025-02-28T00:00:00",
          "2025-02-28T00:00:00",
          "2025-02-28T00:00:00",
          "2025-02-28T00:00:00",
          "2025-02-28T00:00:00",
          "2025-02-28T00:00:00",
          "2025-02-28T00:00:00",
          "2025-02-28T00:00:00",
          "2025-02-28T00:00:00",
          "2025-02-28T00:00:00",
          "2025-03-01T00:00:00",
          "2025-02-28T00:00:00",
          "2025-02-28T00:00:00",
          "2025-02-28T00:00:00",
          "2025-02-28T00:00:00",
          "2025-02-28T00:00:00",
          "2025-02-28T00:00:00",
          "2025-02-28T00:00:00",
          "2025-02-28T00:00:00",
          "2025-02-28T00:00:00",
          "2025-02-28T00:00:00",
          "2025-02-28T00:00:00",
          "2025-02-28T00:00:00",
          "2025-02-28T00:00:00",
          "2025-02-28T00:00:00",
          "2025-02-28T00:00:00",
          "2025-02-28T00:00:00",
          "2025-02-28T00:00:00",
          "2025-02-28T00:00:00",
          "2025-02-28T00:00:00",
          "2025-03-01T00:00:00",
          "2025-02-28T00:00:00",
          "2025-02-28T00:00:00",
          "2025-02-28T00:00:00",
          "2025-02-28T00:00:00",
          "2025-02-28T00:00:00",
          "2025-02-28T00:00:00",
          "2025-02-28T00:00:00",
          "2025-02-28T00:00:00",
          "2025-03-01T00:00:00",
          "2025-02-28T00:00:00",
          "2025-03-01T00:00:00",
          "2025-03-01T00:00:00",
          "2025-03-01T00:00:00",
          "2025-03-01T00:00:00",
          "2025-03-01T00:00:00",
          "2025-03-01T00:00:00",
          "2025-03-01T00:00:00",
          "2025-03-01T00:00:00",
          "2025-03-01T00:00:00",
          "2025-03-01T00:00:00",
          "2025-03-01T00:00:00",
          "2025-03-01T00:00:00",
          "2025-03-01T00:00:00",
          "2025-03-01T00:00:00",
          "2025-03-01T00:00:00",
          "2025-03-01T00:00:00",
          "2025-03-01T00:00:00",
          "2025-03-01T00:00:00",
          "2025-03-01T00:00:00",
          "2025-03-01T00:00:00",
          "2025-03-01T00:00:00",
          "2025-03-01T00:00:00",
          "2025-03-01T00:00:00",
          "2025-03-01T00:00:00",
          "2025-03-01T00:00:00",
          "2025-03-01T00:00:00",
          "2025-03-01T00:00:00",
          "2025-03-01T00:00:00",
          "2025-03-01T00:00:00",
          "2025-03-01T00:00:00",
          "2025-03-01T00:00:00",
          "2025-03-01T00:00:00",
          "2025-03-01T00:00:00",
          "2025-03-01T00:00:00",
          "2025-03-01T00:00:00",
          "2025-03-01T00:00:00",
          "2025-03-01T00:00:00",
          "2025-03-01T00:00:00",
          "2025-03-01T00:00:00",
          "2025-03-01T00:00:00",
          "2025-03-01T00:00:00",
          "2025-03-01T00:00:00",
          "2025-03-01T00:00:00",
          "2025-03-01T00:00:00",
          "2025-03-01T00:00:00",
          "2025-03-01T00:00:00",
          "2025-03-01T00:00:00",
          "2025-03-01T00:00:00",
          "2025-03-01T00:00:00",
          "2025-03-01T00:00:00",
          "2025-03-01T00:00:00",
          "2025-03-01T00:00:00",
          "2025-03-01T00:00:00",
          "2025-03-01T00:00:00",
          "2025-03-01T00:00:00",
          "2025-03-01T00:00:00",
          "2025-03-01T00:00:00"
         ],
         "y": {
          "bdata": "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",
          "dtype": "i4"
         }
        }
       ],
       "layout": {
        "template": {
         "data": {
          "bar": [
           {
            "error_x": {
             "color": "#2a3f5f"
            },
            "error_y": {
             "color": "#2a3f5f"
            },
            "marker": {
             "line": {
              "color": "#E5ECF6",
              "width": 0.5
             },
             "pattern": {
              "fillmode": "overlay",
              "size": 10,
              "solidity": 0.2
             }
            },
            "type": "bar"
           }
          ],
          "barpolar": [
           {
            "marker": {
             "line": {
              "color": "#E5ECF6",
              "width": 0.5
             },
             "pattern": {
              "fillmode": "overlay",
              "size": 10,
              "solidity": 0.2
             }
            },
            "type": "barpolar"
           }
          ],
          "carpet": [
           {
            "aaxis": {
             "endlinecolor": "#2a3f5f",
             "gridcolor": "white",
             "linecolor": "white",
             "minorgridcolor": "white",
             "startlinecolor": "#2a3f5f"
            },
            "baxis": {
             "endlinecolor": "#2a3f5f",
             "gridcolor": "white",
             "linecolor": "white",
             "minorgridcolor": "white",
             "startlinecolor": "#2a3f5f"
            },
            "type": "carpet"
           }
          ],
          "choropleth": [
           {
            "colorbar": {
             "outlinewidth": 0,
             "ticks": ""
            },
            "type": "choropleth"
           }
          ],
          "contour": [
           {
            "colorbar": {
             "outlinewidth": 0,
             "ticks": ""
            },
            "colorscale": [
             [
              0,
              "#0d0887"
             ],
             [
              0.1111111111111111,
              "#46039f"
             ],
             [
              0.2222222222222222,
              "#7201a8"
             ],
             [
              0.3333333333333333,
              "#9c179e"
             ],
             [
              0.4444444444444444,
              "#bd3786"
             ],
             [
              0.5555555555555556,
              "#d8576b"
             ],
             [
              0.6666666666666666,
              "#ed7953"
             ],
             [
              0.7777777777777778,
              "#fb9f3a"
             ],
             [
              0.8888888888888888,
              "#fdca26"
             ],
             [
              1,
              "#f0f921"
             ]
            ],
            "type": "contour"
           }
          ],
          "contourcarpet": [
           {
            "colorbar": {
             "outlinewidth": 0,
             "ticks": ""
            },
            "type": "contourcarpet"
           }
          ],
          "heatmap": [
           {
            "colorbar": {
             "outlinewidth": 0,
             "ticks": ""
            },
            "colorscale": [
             [
              0,
              "#0d0887"
             ],
             [
              0.1111111111111111,
              "#46039f"
             ],
             [
              0.2222222222222222,
              "#7201a8"
             ],
             [
              0.3333333333333333,
              "#9c179e"
             ],
             [
              0.4444444444444444,
              "#bd3786"
             ],
             [
              0.5555555555555556,
              "#d8576b"
             ],
             [
              0.6666666666666666,
              "#ed7953"
             ],
             [
              0.7777777777777778,
              "#fb9f3a"
             ],
             [
              0.8888888888888888,
              "#fdca26"
             ],
             [
              1,
              "#f0f921"
             ]
            ],
            "type": "heatmap"
           }
          ],
          "histogram": [
           {
            "marker": {
             "pattern": {
              "fillmode": "overlay",
              "size": 10,
              "solidity": 0.2
             }
            },
            "type": "histogram"
           }
          ],
          "histogram2d": [
           {
            "colorbar": {
             "outlinewidth": 0,
             "ticks": ""
            },
            "colorscale": [
             [
              0,
              "#0d0887"
             ],
             [
              0.1111111111111111,
              "#46039f"
             ],
             [
              0.2222222222222222,
              "#7201a8"
             ],
             [
              0.3333333333333333,
              "#9c179e"
             ],
             [
              0.4444444444444444,
              "#bd3786"
             ],
             [
              0.5555555555555556,
              "#d8576b"
             ],
             [
              0.6666666666666666,
              "#ed7953"
             ],
             [
              0.7777777777777778,
              "#fb9f3a"
             ],
             [
              0.8888888888888888,
              "#fdca26"
             ],
             [
              1,
              "#f0f921"
             ]
            ],
            "type": "histogram2d"
           }
          ],
          "histogram2dcontour": [
           {
            "colorbar": {
             "outlinewidth": 0,
             "ticks": ""
            },
            "colorscale": [
             [
              0,
              "#0d0887"
             ],
             [
              0.1111111111111111,
              "#46039f"
             ],
             [
              0.2222222222222222,
              "#7201a8"
             ],
             [
              0.3333333333333333,
              "#9c179e"
             ],
             [
              0.4444444444444444,
              "#bd3786"
             ],
             [
              0.5555555555555556,
              "#d8576b"
             ],
             [
              0.6666666666666666,
              "#ed7953"
             ],
             [
              0.7777777777777778,
              "#fb9f3a"
             ],
             [
              0.8888888888888888,
              "#fdca26"
             ],
             [
              1,
              "#f0f921"
             ]
            ],
            "type": "histogram2dcontour"
           }
          ],
          "mesh3d": [
           {
            "colorbar": {
             "outlinewidth": 0,
             "ticks": ""
            },
            "type": "mesh3d"
           }
          ],
          "parcoords": [
           {
            "line": {
             "colorbar": {
              "outlinewidth": 0,
              "ticks": ""
             }
            },
            "type": "parcoords"
           }
          ],
          "pie": [
           {
            "automargin": true,
            "type": "pie"
           }
          ],
          "scatter": [
           {
            "fillpattern": {
             "fillmode": "overlay",
             "size": 10,
             "solidity": 0.2
            },
            "type": "scatter"
           }
          ],
          "scatter3d": [
           {
            "line": {
             "colorbar": {
              "outlinewidth": 0,
              "ticks": ""
             }
            },
            "marker": {
             "colorbar": {
              "outlinewidth": 0,
              "ticks": ""
             }
            },
            "type": "scatter3d"
           }
          ],
          "scattercarpet": [
           {
            "marker": {
             "colorbar": {
              "outlinewidth": 0,
              "ticks": ""
             }
            },
            "type": "scattercarpet"
           }
          ],
          "scattergeo": [
           {
            "marker": {
             "colorbar": {
              "outlinewidth": 0,
              "ticks": ""
             }
            },
            "type": "scattergeo"
           }
          ],
          "scattergl": [
           {
            "marker": {
             "colorbar": {
              "outlinewidth": 0,
              "ticks": ""
             }
            },
            "type": "scattergl"
           }
          ],
          "scattermap": [
           {
            "marker": {
             "colorbar": {
              "outlinewidth": 0,
              "ticks": ""
             }
            },
            "type": "scattermap"
           }
          ],
          "scattermapbox": [
           {
            "marker": {
             "colorbar": {
              "outlinewidth": 0,
              "ticks": ""
             }
            },
            "type": "scattermapbox"
           }
          ],
          "scatterpolar": [
           {
            "marker": {
             "colorbar": {
              "outlinewidth": 0,
              "ticks": ""
             }
            },
            "type": "scatterpolar"
           }
          ],
          "scatterpolargl": [
           {
            "marker": {
             "colorbar": {
              "outlinewidth": 0,
              "ticks": ""
             }
            },
            "type": "scatterpolargl"
           }
          ],
          "scatterternary": [
           {
            "marker": {
             "colorbar": {
              "outlinewidth": 0,
              "ticks": ""
             }
            },
            "type": "scatterternary"
           }
          ],
          "surface": [
           {
            "colorbar": {
             "outlinewidth": 0,
             "ticks": ""
            },
            "colorscale": [
             [
              0,
              "#0d0887"
             ],
             [
              0.1111111111111111,
              "#46039f"
             ],
             [
              0.2222222222222222,
              "#7201a8"
             ],
             [
              0.3333333333333333,
              "#9c179e"
             ],
             [
              0.4444444444444444,
              "#bd3786"
             ],
             [
              0.5555555555555556,
              "#d8576b"
             ],
             [
              0.6666666666666666,
              "#ed7953"
             ],
             [
              0.7777777777777778,
              "#fb9f3a"
             ],
             [
              0.8888888888888888,
              "#fdca26"
             ],
             [
              1,
              "#f0f921"
             ]
            ],
            "type": "surface"
           }
          ],
          "table": [
           {
            "cells": {
             "fill": {
              "color": "#EBF0F8"
             },
             "line": {
              "color": "white"
             }
            },
            "header": {
             "fill": {
              "color": "#C8D4E3"
             },
             "line": {
              "color": "white"
             }
            },
            "type": "table"
           }
          ]
         },
         "layout": {
          "annotationdefaults": {
           "arrowcolor": "#2a3f5f",
           "arrowhead": 0,
           "arrowwidth": 1
          },
          "autotypenumbers": "strict",
          "coloraxis": {
           "colorbar": {
            "outlinewidth": 0,
            "ticks": ""
           }
          },
          "colorscale": {
           "diverging": [
            [
             0,
             "#8e0152"
            ],
            [
             0.1,
             "#c51b7d"
            ],
            [
             0.2,
             "#de77ae"
            ],
            [
             0.3,
             "#f1b6da"
            ],
            [
             0.4,
             "#fde0ef"
            ],
            [
             0.5,
             "#f7f7f7"
            ],
            [
             0.6,
             "#e6f5d0"
            ],
            [
             0.7,
             "#b8e186"
            ],
            [
             0.8,
             "#7fbc41"
            ],
            [
             0.9,
             "#4d9221"
            ],
            [
             1,
             "#276419"
            ]
           ],
           "sequential": [
            [
             0,
             "#0d0887"
            ],
            [
             0.1111111111111111,
             "#46039f"
            ],
            [
             0.2222222222222222,
             "#7201a8"
            ],
            [
             0.3333333333333333,
             "#9c179e"
            ],
            [
             0.4444444444444444,
             "#bd3786"
            ],
            [
             0.5555555555555556,
             "#d8576b"
            ],
            [
             0.6666666666666666,
             "#ed7953"
            ],
            [
             0.7777777777777778,
             "#fb9f3a"
            ],
            [
             0.8888888888888888,
             "#fdca26"
            ],
            [
             1,
             "#f0f921"
            ]
           ],
           "sequentialminus": [
            [
             0,
             "#0d0887"
            ],
            [
             0.1111111111111111,
             "#46039f"
            ],
            [
             0.2222222222222222,
             "#7201a8"
            ],
            [
             0.3333333333333333,
             "#9c179e"
            ],
            [
             0.4444444444444444,
             "#bd3786"
            ],
            [
             0.5555555555555556,
             "#d8576b"
            ],
            [
             0.6666666666666666,
             "#ed7953"
            ],
            [
             0.7777777777777778,
             "#fb9f3a"
            ],
            [
             0.8888888888888888,
             "#fdca26"
            ],
            [
             1,
             "#f0f921"
            ]
           ]
          },
          "colorway": [
           "#636efa",
           "#EF553B",
           "#00cc96",
           "#ab63fa",
           "#FFA15A",
           "#19d3f3",
           "#FF6692",
           "#B6E880",
           "#FF97FF",
           "#FECB52"
          ],
          "font": {
           "color": "#2a3f5f"
          },
          "geo": {
           "bgcolor": "white",
           "lakecolor": "white",
           "landcolor": "#E5ECF6",
           "showlakes": true,
           "showland": true,
           "subunitcolor": "white"
          },
          "hoverlabel": {
           "align": "left"
          },
          "hovermode": "closest",
          "mapbox": {
           "style": "light"
          },
          "paper_bgcolor": "white",
          "plot_bgcolor": "#E5ECF6",
          "polar": {
           "angularaxis": {
            "gridcolor": "white",
            "linecolor": "white",
            "ticks": ""
           },
           "bgcolor": "#E5ECF6",
           "radialaxis": {
            "gridcolor": "white",
            "linecolor": "white",
            "ticks": ""
           }
          },
          "scene": {
           "xaxis": {
            "backgroundcolor": "#E5ECF6",
            "gridcolor": "white",
            "gridwidth": 2,
            "linecolor": "white",
            "showbackground": true,
            "ticks": "",
            "zerolinecolor": "white"
           },
           "yaxis": {
            "backgroundcolor": "#E5ECF6",
            "gridcolor": "white",
            "gridwidth": 2,
            "linecolor": "white",
            "showbackground": true,
            "ticks": "",
            "zerolinecolor": "white"
           },
           "zaxis": {
            "backgroundcolor": "#E5ECF6",
            "gridcolor": "white",
            "gridwidth": 2,
            "linecolor": "white",
            "showbackground": true,
            "ticks": "",
            "zerolinecolor": "white"
           }
          },
          "shapedefaults": {
           "line": {
            "color": "#2a3f5f"
           }
          },
          "ternary": {
           "aaxis": {
            "gridcolor": "white",
            "linecolor": "white",
            "ticks": ""
           },
           "baxis": {
            "gridcolor": "white",
            "linecolor": "white",
            "ticks": ""
           },
           "bgcolor": "#E5ECF6",
           "caxis": {
            "gridcolor": "white",
            "linecolor": "white",
            "ticks": ""
           }
          },
          "title": {
           "x": 0.05
          },
          "xaxis": {
           "automargin": true,
           "gridcolor": "white",
           "linecolor": "white",
           "ticks": "",
           "title": {
            "standoff": 15
           },
           "zerolinecolor": "white",
           "zerolinewidth": 2
          },
          "yaxis": {
           "automargin": true,
           "gridcolor": "white",
           "linecolor": "white",
           "ticks": "",
           "title": {
            "standoff": 15
           },
           "zerolinecolor": "white",
           "zerolinewidth": 2
          }
         }
        },
        "title": {
         "text": "Time Series Line Plot (Plotly Graph Objects)"
        },
        "xaxis": {
         "dtick": "M1",
         "tickangle": 45,
         "tickformat": "%b %d\n%Y",
         "title": {
          "text": "Date"
         }
        },
        "yaxis": {
         "title": {
          "text": "Count"
         }
        }
       }
      }
     },
     "metadata": {},
     "output_type": "display_data"
    }
   ],
   "source": [
    "x = 'operation_date'\n",
    "y = 'cust_num'\n",
    "instance.line_graph_date(df,x,y)"
   ]
  },
  {
   "cell_type": "code",
   "execution_count": 17,
   "metadata": {},
   "outputs": [
    {
     "data": {
      "application/vnd.plotly.v1+json": {
       "config": {
        "plotlyServerURL": "https://plot.ly"
       },
       "data": [
        {
         "colorbar": {
          "title": {
           "text": "Value"
          }
         },
         "colorscale": [
          [
           0,
           "#440154"
          ],
          [
           0.1111111111111111,
           "#482878"
          ],
          [
           0.2222222222222222,
           "#3e4989"
          ],
          [
           0.3333333333333333,
           "#31688e"
          ],
          [
           0.4444444444444444,
           "#26828e"
          ],
          [
           0.5555555555555556,
           "#1f9e89"
          ],
          [
           0.6666666666666666,
           "#35b779"
          ],
          [
           0.7777777777777778,
           "#6ece58"
          ],
          [
           0.8888888888888888,
           "#b5de2b"
          ],
          [
           1,
           "#fde725"
          ]
         ],
         "hovertemplate": "X: %{x}<br>Y: %{y}<br>Value: %{z:.2f}<extra></extra>",
         "text": {
          "bdata": "AAAAAAAA8D+zHzw4Eu+Yv33TltqooH6/sx88OBLvmL8AAAAAAADwP3GUE6UbDWQ/fdOW2qigfr9xlBOlGw1kPwAAAAAAAPA/",
          "dtype": "f8",
          "shape": "3, 3"
         },
         "texttemplate": "%{z:.2f}",
         "type": "heatmap",
         "x": [
          "cust_num",
          "total_cost_price",
          "age"
         ],
         "y": [
          "cust_num",
          "total_cost_price",
          "age"
         ],
         "z": {
          "bdata": "AAAAAAAA8D+zHzw4Eu+Yv33TltqooH6/sx88OBLvmL8AAAAAAADwP3GUE6UbDWQ/fdOW2qigfr9xlBOlGw1kPwAAAAAAAPA/",
          "dtype": "f8",
          "shape": "3, 3"
         }
        }
       ],
       "layout": {
        "template": {
         "data": {
          "bar": [
           {
            "error_x": {
             "color": "#2a3f5f"
            },
            "error_y": {
             "color": "#2a3f5f"
            },
            "marker": {
             "line": {
              "color": "#E5ECF6",
              "width": 0.5
             },
             "pattern": {
              "fillmode": "overlay",
              "size": 10,
              "solidity": 0.2
             }
            },
            "type": "bar"
           }
          ],
          "barpolar": [
           {
            "marker": {
             "line": {
              "color": "#E5ECF6",
              "width": 0.5
             },
             "pattern": {
              "fillmode": "overlay",
              "size": 10,
              "solidity": 0.2
             }
            },
            "type": "barpolar"
           }
          ],
          "carpet": [
           {
            "aaxis": {
             "endlinecolor": "#2a3f5f",
             "gridcolor": "white",
             "linecolor": "white",
             "minorgridcolor": "white",
             "startlinecolor": "#2a3f5f"
            },
            "baxis": {
             "endlinecolor": "#2a3f5f",
             "gridcolor": "white",
             "linecolor": "white",
             "minorgridcolor": "white",
             "startlinecolor": "#2a3f5f"
            },
            "type": "carpet"
           }
          ],
          "choropleth": [
           {
            "colorbar": {
             "outlinewidth": 0,
             "ticks": ""
            },
            "type": "choropleth"
           }
          ],
          "contour": [
           {
            "colorbar": {
             "outlinewidth": 0,
             "ticks": ""
            },
            "colorscale": [
             [
              0,
              "#0d0887"
             ],
             [
              0.1111111111111111,
              "#46039f"
             ],
             [
              0.2222222222222222,
              "#7201a8"
             ],
             [
              0.3333333333333333,
              "#9c179e"
             ],
             [
              0.4444444444444444,
              "#bd3786"
             ],
             [
              0.5555555555555556,
              "#d8576b"
             ],
             [
              0.6666666666666666,
              "#ed7953"
             ],
             [
              0.7777777777777778,
              "#fb9f3a"
             ],
             [
              0.8888888888888888,
              "#fdca26"
             ],
             [
              1,
              "#f0f921"
             ]
            ],
            "type": "contour"
           }
          ],
          "contourcarpet": [
           {
            "colorbar": {
             "outlinewidth": 0,
             "ticks": ""
            },
            "type": "contourcarpet"
           }
          ],
          "heatmap": [
           {
            "colorbar": {
             "outlinewidth": 0,
             "ticks": ""
            },
            "colorscale": [
             [
              0,
              "#0d0887"
             ],
             [
              0.1111111111111111,
              "#46039f"
             ],
             [
              0.2222222222222222,
              "#7201a8"
             ],
             [
              0.3333333333333333,
              "#9c179e"
             ],
             [
              0.4444444444444444,
              "#bd3786"
             ],
             [
              0.5555555555555556,
              "#d8576b"
             ],
             [
              0.6666666666666666,
              "#ed7953"
             ],
             [
              0.7777777777777778,
              "#fb9f3a"
             ],
             [
              0.8888888888888888,
              "#fdca26"
             ],
             [
              1,
              "#f0f921"
             ]
            ],
            "type": "heatmap"
           }
          ],
          "histogram": [
           {
            "marker": {
             "pattern": {
              "fillmode": "overlay",
              "size": 10,
              "solidity": 0.2
             }
            },
            "type": "histogram"
           }
          ],
          "histogram2d": [
           {
            "colorbar": {
             "outlinewidth": 0,
             "ticks": ""
            },
            "colorscale": [
             [
              0,
              "#0d0887"
             ],
             [
              0.1111111111111111,
              "#46039f"
             ],
             [
              0.2222222222222222,
              "#7201a8"
             ],
             [
              0.3333333333333333,
              "#9c179e"
             ],
             [
              0.4444444444444444,
              "#bd3786"
             ],
             [
              0.5555555555555556,
              "#d8576b"
             ],
             [
              0.6666666666666666,
              "#ed7953"
             ],
             [
              0.7777777777777778,
              "#fb9f3a"
             ],
             [
              0.8888888888888888,
              "#fdca26"
             ],
             [
              1,
              "#f0f921"
             ]
            ],
            "type": "histogram2d"
           }
          ],
          "histogram2dcontour": [
           {
            "colorbar": {
             "outlinewidth": 0,
             "ticks": ""
            },
            "colorscale": [
             [
              0,
              "#0d0887"
             ],
             [
              0.1111111111111111,
              "#46039f"
             ],
             [
              0.2222222222222222,
              "#7201a8"
             ],
             [
              0.3333333333333333,
              "#9c179e"
             ],
             [
              0.4444444444444444,
              "#bd3786"
             ],
             [
              0.5555555555555556,
              "#d8576b"
             ],
             [
              0.6666666666666666,
              "#ed7953"
             ],
             [
              0.7777777777777778,
              "#fb9f3a"
             ],
             [
              0.8888888888888888,
              "#fdca26"
             ],
             [
              1,
              "#f0f921"
             ]
            ],
            "type": "histogram2dcontour"
           }
          ],
          "mesh3d": [
           {
            "colorbar": {
             "outlinewidth": 0,
             "ticks": ""
            },
            "type": "mesh3d"
           }
          ],
          "parcoords": [
           {
            "line": {
             "colorbar": {
              "outlinewidth": 0,
              "ticks": ""
             }
            },
            "type": "parcoords"
           }
          ],
          "pie": [
           {
            "automargin": true,
            "type": "pie"
           }
          ],
          "scatter": [
           {
            "fillpattern": {
             "fillmode": "overlay",
             "size": 10,
             "solidity": 0.2
            },
            "type": "scatter"
           }
          ],
          "scatter3d": [
           {
            "line": {
             "colorbar": {
              "outlinewidth": 0,
              "ticks": ""
             }
            },
            "marker": {
             "colorbar": {
              "outlinewidth": 0,
              "ticks": ""
             }
            },
            "type": "scatter3d"
           }
          ],
          "scattercarpet": [
           {
            "marker": {
             "colorbar": {
              "outlinewidth": 0,
              "ticks": ""
             }
            },
            "type": "scattercarpet"
           }
          ],
          "scattergeo": [
           {
            "marker": {
             "colorbar": {
              "outlinewidth": 0,
              "ticks": ""
             }
            },
            "type": "scattergeo"
           }
          ],
          "scattergl": [
           {
            "marker": {
             "colorbar": {
              "outlinewidth": 0,
              "ticks": ""
             }
            },
            "type": "scattergl"
           }
          ],
          "scattermap": [
           {
            "marker": {
             "colorbar": {
              "outlinewidth": 0,
              "ticks": ""
             }
            },
            "type": "scattermap"
           }
          ],
          "scattermapbox": [
           {
            "marker": {
             "colorbar": {
              "outlinewidth": 0,
              "ticks": ""
             }
            },
            "type": "scattermapbox"
           }
          ],
          "scatterpolar": [
           {
            "marker": {
             "colorbar": {
              "outlinewidth": 0,
              "ticks": ""
             }
            },
            "type": "scatterpolar"
           }
          ],
          "scatterpolargl": [
           {
            "marker": {
             "colorbar": {
              "outlinewidth": 0,
              "ticks": ""
             }
            },
            "type": "scatterpolargl"
           }
          ],
          "scatterternary": [
           {
            "marker": {
             "colorbar": {
              "outlinewidth": 0,
              "ticks": ""
             }
            },
            "type": "scatterternary"
           }
          ],
          "surface": [
           {
            "colorbar": {
             "outlinewidth": 0,
             "ticks": ""
            },
            "colorscale": [
             [
              0,
              "#0d0887"
             ],
             [
              0.1111111111111111,
              "#46039f"
             ],
             [
              0.2222222222222222,
              "#7201a8"
             ],
             [
              0.3333333333333333,
              "#9c179e"
             ],
             [
              0.4444444444444444,
              "#bd3786"
             ],
             [
              0.5555555555555556,
              "#d8576b"
             ],
             [
              0.6666666666666666,
              "#ed7953"
             ],
             [
              0.7777777777777778,
              "#fb9f3a"
             ],
             [
              0.8888888888888888,
              "#fdca26"
             ],
             [
              1,
              "#f0f921"
             ]
            ],
            "type": "surface"
           }
          ],
          "table": [
           {
            "cells": {
             "fill": {
              "color": "#EBF0F8"
             },
             "line": {
              "color": "white"
             }
            },
            "header": {
             "fill": {
              "color": "#C8D4E3"
             },
             "line": {
              "color": "white"
             }
            },
            "type": "table"
           }
          ]
         },
         "layout": {
          "annotationdefaults": {
           "arrowcolor": "#2a3f5f",
           "arrowhead": 0,
           "arrowwidth": 1
          },
          "autotypenumbers": "strict",
          "coloraxis": {
           "colorbar": {
            "outlinewidth": 0,
            "ticks": ""
           }
          },
          "colorscale": {
           "diverging": [
            [
             0,
             "#8e0152"
            ],
            [
             0.1,
             "#c51b7d"
            ],
            [
             0.2,
             "#de77ae"
            ],
            [
             0.3,
             "#f1b6da"
            ],
            [
             0.4,
             "#fde0ef"
            ],
            [
             0.5,
             "#f7f7f7"
            ],
            [
             0.6,
             "#e6f5d0"
            ],
            [
             0.7,
             "#b8e186"
            ],
            [
             0.8,
             "#7fbc41"
            ],
            [
             0.9,
             "#4d9221"
            ],
            [
             1,
             "#276419"
            ]
           ],
           "sequential": [
            [
             0,
             "#0d0887"
            ],
            [
             0.1111111111111111,
             "#46039f"
            ],
            [
             0.2222222222222222,
             "#7201a8"
            ],
            [
             0.3333333333333333,
             "#9c179e"
            ],
            [
             0.4444444444444444,
             "#bd3786"
            ],
            [
             0.5555555555555556,
             "#d8576b"
            ],
            [
             0.6666666666666666,
             "#ed7953"
            ],
            [
             0.7777777777777778,
             "#fb9f3a"
            ],
            [
             0.8888888888888888,
             "#fdca26"
            ],
            [
             1,
             "#f0f921"
            ]
           ],
           "sequentialminus": [
            [
             0,
             "#0d0887"
            ],
            [
             0.1111111111111111,
             "#46039f"
            ],
            [
             0.2222222222222222,
             "#7201a8"
            ],
            [
             0.3333333333333333,
             "#9c179e"
            ],
            [
             0.4444444444444444,
             "#bd3786"
            ],
            [
             0.5555555555555556,
             "#d8576b"
            ],
            [
             0.6666666666666666,
             "#ed7953"
            ],
            [
             0.7777777777777778,
             "#fb9f3a"
            ],
            [
             0.8888888888888888,
             "#fdca26"
            ],
            [
             1,
             "#f0f921"
            ]
           ]
          },
          "colorway": [
           "#636efa",
           "#EF553B",
           "#00cc96",
           "#ab63fa",
           "#FFA15A",
           "#19d3f3",
           "#FF6692",
           "#B6E880",
           "#FF97FF",
           "#FECB52"
          ],
          "font": {
           "color": "#2a3f5f"
          },
          "geo": {
           "bgcolor": "white",
           "lakecolor": "white",
           "landcolor": "#E5ECF6",
           "showlakes": true,
           "showland": true,
           "subunitcolor": "white"
          },
          "hoverlabel": {
           "align": "left"
          },
          "hovermode": "closest",
          "mapbox": {
           "style": "light"
          },
          "paper_bgcolor": "white",
          "plot_bgcolor": "#E5ECF6",
          "polar": {
           "angularaxis": {
            "gridcolor": "white",
            "linecolor": "white",
            "ticks": ""
           },
           "bgcolor": "#E5ECF6",
           "radialaxis": {
            "gridcolor": "white",
            "linecolor": "white",
            "ticks": ""
           }
          },
          "scene": {
           "xaxis": {
            "backgroundcolor": "#E5ECF6",
            "gridcolor": "white",
            "gridwidth": 2,
            "linecolor": "white",
            "showbackground": true,
            "ticks": "",
            "zerolinecolor": "white"
           },
           "yaxis": {
            "backgroundcolor": "#E5ECF6",
            "gridcolor": "white",
            "gridwidth": 2,
            "linecolor": "white",
            "showbackground": true,
            "ticks": "",
            "zerolinecolor": "white"
           },
           "zaxis": {
            "backgroundcolor": "#E5ECF6",
            "gridcolor": "white",
            "gridwidth": 2,
            "linecolor": "white",
            "showbackground": true,
            "ticks": "",
            "zerolinecolor": "white"
           }
          },
          "shapedefaults": {
           "line": {
            "color": "#2a3f5f"
           }
          },
          "ternary": {
           "aaxis": {
            "gridcolor": "white",
            "linecolor": "white",
            "ticks": ""
           },
           "baxis": {
            "gridcolor": "white",
            "linecolor": "white",
            "ticks": ""
           },
           "bgcolor": "#E5ECF6",
           "caxis": {
            "gridcolor": "white",
            "linecolor": "white",
            "ticks": ""
           }
          },
          "title": {
           "x": 0.05
          },
          "xaxis": {
           "automargin": true,
           "gridcolor": "white",
           "linecolor": "white",
           "ticks": "",
           "title": {
            "standoff": 15
           },
           "zerolinecolor": "white",
           "zerolinewidth": 2
          },
          "yaxis": {
           "automargin": true,
           "gridcolor": "white",
           "linecolor": "white",
           "ticks": "",
           "title": {
            "standoff": 15
           },
           "zerolinecolor": "white",
           "zerolinewidth": 2
          }
         }
        },
        "title": {
         "text": "Heatmap (Plotly Graph Objects)"
        }
       }
      }
     },
     "metadata": {},
     "output_type": "display_data"
    }
   ],
   "source": [
    "instance.heatmap_graph(df)"
   ]
  }
 ],
 "metadata": {
  "kernelspec": {
   "display_name": "test",
   "language": "python",
   "name": "python3"
  },
  "language_info": {
   "codemirror_mode": {
    "name": "ipython",
    "version": 3
   },
   "file_extension": ".py",
   "mimetype": "text/x-python",
   "name": "python",
   "nbconvert_exporter": "python",
   "pygments_lexer": "ipython3",
   "version": "3.10.16"
  }
 },
 "nbformat": 4,
 "nbformat_minor": 2
}
